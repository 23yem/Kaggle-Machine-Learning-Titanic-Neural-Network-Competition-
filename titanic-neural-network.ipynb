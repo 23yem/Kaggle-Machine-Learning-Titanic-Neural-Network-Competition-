{
 "cells": [
  {
   "cell_type": "code",
   "execution_count": 1,
   "id": "33ed0048",
   "metadata": {
    "_cell_guid": "b1076dfc-b9ad-4769-8c92-a6c4dae69d19",
    "_uuid": "8f2839f25d086af736a60e9eeb907d3b93b6e0e5",
    "execution": {
     "iopub.execute_input": "2023-11-18T17:48:45.005608Z",
     "iopub.status.busy": "2023-11-18T17:48:45.005185Z",
     "iopub.status.idle": "2023-11-18T17:48:45.990395Z",
     "shell.execute_reply": "2023-11-18T17:48:45.988827Z"
    },
    "papermill": {
     "duration": 0.999501,
     "end_time": "2023-11-18T17:48:45.993609",
     "exception": false,
     "start_time": "2023-11-18T17:48:44.994108",
     "status": "completed"
    },
    "tags": []
   },
   "outputs": [
    {
     "name": "stdout",
     "output_type": "stream",
     "text": [
      "/kaggle/input/titanic/train.csv\n",
      "/kaggle/input/titanic/test.csv\n",
      "/kaggle/input/titanic/gender_submission.csv\n"
     ]
    }
   ],
   "source": [
    "# This Python 3 environment comes with many helpful analytics libraries installed\n",
    "# It is defined by the kaggle/python Docker image: https://github.com/kaggle/docker-python\n",
    "# For example, here's several helpful packages to load\n",
    "\n",
    "import numpy as np # linear algebra\n",
    "import pandas as pd # data processing, CSV file I/O (e.g. pd.read_csv)\n",
    "\n",
    "# Input data files are available in the read-only \"../input/\" directory\n",
    "# For example, running this (by clicking run or pressing Shift+Enter) will list all files under the input directory\n",
    "\n",
    "import os\n",
    "for dirname, _, filenames in os.walk('/kaggle/input'):\n",
    "    for filename in filenames:\n",
    "        print(os.path.join(dirname, filename))\n",
    "\n",
    "# You can write up to 20GB to the current directory (/kaggle/working/) that gets preserved as output when you create a version using \"Save & Run All\" \n",
    "# You can also write temporary files to /kaggle/temp/, but they won't be saved outside of the current session"
   ]
  },
  {
   "cell_type": "markdown",
   "id": "bb622936",
   "metadata": {
    "papermill": {
     "duration": 0.008334,
     "end_time": "2023-11-18T17:48:46.010094",
     "exception": false,
     "start_time": "2023-11-18T17:48:46.001760",
     "status": "completed"
    },
    "tags": []
   },
   "source": [
    "# **Load the Data from the Database**"
   ]
  },
  {
   "cell_type": "code",
   "execution_count": 2,
   "id": "e20cfa80",
   "metadata": {
    "execution": {
     "iopub.execute_input": "2023-11-18T17:48:46.027944Z",
     "iopub.status.busy": "2023-11-18T17:48:46.027414Z",
     "iopub.status.idle": "2023-11-18T17:48:46.085084Z",
     "shell.execute_reply": "2023-11-18T17:48:46.083573Z"
    },
    "papermill": {
     "duration": 0.069721,
     "end_time": "2023-11-18T17:48:46.087847",
     "exception": false,
     "start_time": "2023-11-18T17:48:46.018126",
     "status": "completed"
    },
    "tags": []
   },
   "outputs": [
    {
     "data": {
      "text/html": [
       "<div>\n",
       "<style scoped>\n",
       "    .dataframe tbody tr th:only-of-type {\n",
       "        vertical-align: middle;\n",
       "    }\n",
       "\n",
       "    .dataframe tbody tr th {\n",
       "        vertical-align: top;\n",
       "    }\n",
       "\n",
       "    .dataframe thead th {\n",
       "        text-align: right;\n",
       "    }\n",
       "</style>\n",
       "<table border=\"1\" class=\"dataframe\">\n",
       "  <thead>\n",
       "    <tr style=\"text-align: right;\">\n",
       "      <th></th>\n",
       "      <th>PassengerId</th>\n",
       "      <th>Survived</th>\n",
       "      <th>Pclass</th>\n",
       "      <th>Name</th>\n",
       "      <th>Sex</th>\n",
       "      <th>Age</th>\n",
       "      <th>SibSp</th>\n",
       "      <th>Parch</th>\n",
       "      <th>Ticket</th>\n",
       "      <th>Fare</th>\n",
       "      <th>Cabin</th>\n",
       "      <th>Embarked</th>\n",
       "    </tr>\n",
       "  </thead>\n",
       "  <tbody>\n",
       "    <tr>\n",
       "      <th>0</th>\n",
       "      <td>1</td>\n",
       "      <td>0</td>\n",
       "      <td>3</td>\n",
       "      <td>Braund, Mr. Owen Harris</td>\n",
       "      <td>male</td>\n",
       "      <td>22.0</td>\n",
       "      <td>1</td>\n",
       "      <td>0</td>\n",
       "      <td>A/5 21171</td>\n",
       "      <td>7.2500</td>\n",
       "      <td>NaN</td>\n",
       "      <td>S</td>\n",
       "    </tr>\n",
       "    <tr>\n",
       "      <th>1</th>\n",
       "      <td>2</td>\n",
       "      <td>1</td>\n",
       "      <td>1</td>\n",
       "      <td>Cumings, Mrs. John Bradley (Florence Briggs Th...</td>\n",
       "      <td>female</td>\n",
       "      <td>38.0</td>\n",
       "      <td>1</td>\n",
       "      <td>0</td>\n",
       "      <td>PC 17599</td>\n",
       "      <td>71.2833</td>\n",
       "      <td>C85</td>\n",
       "      <td>C</td>\n",
       "    </tr>\n",
       "    <tr>\n",
       "      <th>2</th>\n",
       "      <td>3</td>\n",
       "      <td>1</td>\n",
       "      <td>3</td>\n",
       "      <td>Heikkinen, Miss. Laina</td>\n",
       "      <td>female</td>\n",
       "      <td>26.0</td>\n",
       "      <td>0</td>\n",
       "      <td>0</td>\n",
       "      <td>STON/O2. 3101282</td>\n",
       "      <td>7.9250</td>\n",
       "      <td>NaN</td>\n",
       "      <td>S</td>\n",
       "    </tr>\n",
       "    <tr>\n",
       "      <th>3</th>\n",
       "      <td>4</td>\n",
       "      <td>1</td>\n",
       "      <td>1</td>\n",
       "      <td>Futrelle, Mrs. Jacques Heath (Lily May Peel)</td>\n",
       "      <td>female</td>\n",
       "      <td>35.0</td>\n",
       "      <td>1</td>\n",
       "      <td>0</td>\n",
       "      <td>113803</td>\n",
       "      <td>53.1000</td>\n",
       "      <td>C123</td>\n",
       "      <td>S</td>\n",
       "    </tr>\n",
       "    <tr>\n",
       "      <th>4</th>\n",
       "      <td>5</td>\n",
       "      <td>0</td>\n",
       "      <td>3</td>\n",
       "      <td>Allen, Mr. William Henry</td>\n",
       "      <td>male</td>\n",
       "      <td>35.0</td>\n",
       "      <td>0</td>\n",
       "      <td>0</td>\n",
       "      <td>373450</td>\n",
       "      <td>8.0500</td>\n",
       "      <td>NaN</td>\n",
       "      <td>S</td>\n",
       "    </tr>\n",
       "  </tbody>\n",
       "</table>\n",
       "</div>"
      ],
      "text/plain": [
       "   PassengerId  Survived  Pclass  \\\n",
       "0            1         0       3   \n",
       "1            2         1       1   \n",
       "2            3         1       3   \n",
       "3            4         1       1   \n",
       "4            5         0       3   \n",
       "\n",
       "                                                Name     Sex   Age  SibSp  \\\n",
       "0                            Braund, Mr. Owen Harris    male  22.0      1   \n",
       "1  Cumings, Mrs. John Bradley (Florence Briggs Th...  female  38.0      1   \n",
       "2                             Heikkinen, Miss. Laina  female  26.0      0   \n",
       "3       Futrelle, Mrs. Jacques Heath (Lily May Peel)  female  35.0      1   \n",
       "4                           Allen, Mr. William Henry    male  35.0      0   \n",
       "\n",
       "   Parch            Ticket     Fare Cabin Embarked  \n",
       "0      0         A/5 21171   7.2500   NaN        S  \n",
       "1      0          PC 17599  71.2833   C85        C  \n",
       "2      0  STON/O2. 3101282   7.9250   NaN        S  \n",
       "3      0            113803  53.1000  C123        S  \n",
       "4      0            373450   8.0500   NaN        S  "
      ]
     },
     "execution_count": 2,
     "metadata": {},
     "output_type": "execute_result"
    }
   ],
   "source": [
    "#Remember to eventually clean up the wrong or missing values\n",
    "train_data = pd.read_csv(\"/kaggle/input/titanic/train.csv\")\n",
    "\n",
    "train_data.head()"
   ]
  },
  {
   "cell_type": "code",
   "execution_count": 3,
   "id": "094f552b",
   "metadata": {
    "execution": {
     "iopub.execute_input": "2023-11-18T17:48:46.106752Z",
     "iopub.status.busy": "2023-11-18T17:48:46.106291Z",
     "iopub.status.idle": "2023-11-18T17:48:46.134579Z",
     "shell.execute_reply": "2023-11-18T17:48:46.133322Z"
    },
    "papermill": {
     "duration": 0.04106,
     "end_time": "2023-11-18T17:48:46.137329",
     "exception": false,
     "start_time": "2023-11-18T17:48:46.096269",
     "status": "completed"
    },
    "tags": []
   },
   "outputs": [
    {
     "data": {
      "text/html": [
       "<div>\n",
       "<style scoped>\n",
       "    .dataframe tbody tr th:only-of-type {\n",
       "        vertical-align: middle;\n",
       "    }\n",
       "\n",
       "    .dataframe tbody tr th {\n",
       "        vertical-align: top;\n",
       "    }\n",
       "\n",
       "    .dataframe thead th {\n",
       "        text-align: right;\n",
       "    }\n",
       "</style>\n",
       "<table border=\"1\" class=\"dataframe\">\n",
       "  <thead>\n",
       "    <tr style=\"text-align: right;\">\n",
       "      <th></th>\n",
       "      <th>PassengerId</th>\n",
       "      <th>Pclass</th>\n",
       "      <th>Name</th>\n",
       "      <th>Sex</th>\n",
       "      <th>Age</th>\n",
       "      <th>SibSp</th>\n",
       "      <th>Parch</th>\n",
       "      <th>Ticket</th>\n",
       "      <th>Fare</th>\n",
       "      <th>Cabin</th>\n",
       "      <th>Embarked</th>\n",
       "    </tr>\n",
       "  </thead>\n",
       "  <tbody>\n",
       "    <tr>\n",
       "      <th>0</th>\n",
       "      <td>892</td>\n",
       "      <td>3</td>\n",
       "      <td>Kelly, Mr. James</td>\n",
       "      <td>male</td>\n",
       "      <td>34.5</td>\n",
       "      <td>0</td>\n",
       "      <td>0</td>\n",
       "      <td>330911</td>\n",
       "      <td>7.8292</td>\n",
       "      <td>NaN</td>\n",
       "      <td>Q</td>\n",
       "    </tr>\n",
       "    <tr>\n",
       "      <th>1</th>\n",
       "      <td>893</td>\n",
       "      <td>3</td>\n",
       "      <td>Wilkes, Mrs. James (Ellen Needs)</td>\n",
       "      <td>female</td>\n",
       "      <td>47.0</td>\n",
       "      <td>1</td>\n",
       "      <td>0</td>\n",
       "      <td>363272</td>\n",
       "      <td>7.0000</td>\n",
       "      <td>NaN</td>\n",
       "      <td>S</td>\n",
       "    </tr>\n",
       "    <tr>\n",
       "      <th>2</th>\n",
       "      <td>894</td>\n",
       "      <td>2</td>\n",
       "      <td>Myles, Mr. Thomas Francis</td>\n",
       "      <td>male</td>\n",
       "      <td>62.0</td>\n",
       "      <td>0</td>\n",
       "      <td>0</td>\n",
       "      <td>240276</td>\n",
       "      <td>9.6875</td>\n",
       "      <td>NaN</td>\n",
       "      <td>Q</td>\n",
       "    </tr>\n",
       "    <tr>\n",
       "      <th>3</th>\n",
       "      <td>895</td>\n",
       "      <td>3</td>\n",
       "      <td>Wirz, Mr. Albert</td>\n",
       "      <td>male</td>\n",
       "      <td>27.0</td>\n",
       "      <td>0</td>\n",
       "      <td>0</td>\n",
       "      <td>315154</td>\n",
       "      <td>8.6625</td>\n",
       "      <td>NaN</td>\n",
       "      <td>S</td>\n",
       "    </tr>\n",
       "    <tr>\n",
       "      <th>4</th>\n",
       "      <td>896</td>\n",
       "      <td>3</td>\n",
       "      <td>Hirvonen, Mrs. Alexander (Helga E Lindqvist)</td>\n",
       "      <td>female</td>\n",
       "      <td>22.0</td>\n",
       "      <td>1</td>\n",
       "      <td>1</td>\n",
       "      <td>3101298</td>\n",
       "      <td>12.2875</td>\n",
       "      <td>NaN</td>\n",
       "      <td>S</td>\n",
       "    </tr>\n",
       "  </tbody>\n",
       "</table>\n",
       "</div>"
      ],
      "text/plain": [
       "   PassengerId  Pclass                                          Name     Sex  \\\n",
       "0          892       3                              Kelly, Mr. James    male   \n",
       "1          893       3              Wilkes, Mrs. James (Ellen Needs)  female   \n",
       "2          894       2                     Myles, Mr. Thomas Francis    male   \n",
       "3          895       3                              Wirz, Mr. Albert    male   \n",
       "4          896       3  Hirvonen, Mrs. Alexander (Helga E Lindqvist)  female   \n",
       "\n",
       "    Age  SibSp  Parch   Ticket     Fare Cabin Embarked  \n",
       "0  34.5      0      0   330911   7.8292   NaN        Q  \n",
       "1  47.0      1      0   363272   7.0000   NaN        S  \n",
       "2  62.0      0      0   240276   9.6875   NaN        Q  \n",
       "3  27.0      0      0   315154   8.6625   NaN        S  \n",
       "4  22.0      1      1  3101298  12.2875   NaN        S  "
      ]
     },
     "execution_count": 3,
     "metadata": {},
     "output_type": "execute_result"
    }
   ],
   "source": [
    "#Remember to eventually clean up the wrong or missing values\n",
    "test_data = pd.read_csv(\"/kaggle/input/titanic/test.csv\")\n",
    "\n",
    "test_data.head()"
   ]
  },
  {
   "cell_type": "code",
   "execution_count": 4,
   "id": "12ac9ff0",
   "metadata": {
    "execution": {
     "iopub.execute_input": "2023-11-18T17:48:46.155867Z",
     "iopub.status.busy": "2023-11-18T17:48:46.155466Z",
     "iopub.status.idle": "2023-11-18T17:48:46.162951Z",
     "shell.execute_reply": "2023-11-18T17:48:46.161525Z"
    },
    "papermill": {
     "duration": 0.019601,
     "end_time": "2023-11-18T17:48:46.165329",
     "exception": false,
     "start_time": "2023-11-18T17:48:46.145728",
     "status": "completed"
    },
    "tags": []
   },
   "outputs": [
    {
     "name": "stdout",
     "output_type": "stream",
     "text": [
      "Index(['PassengerId', 'Survived', 'Pclass', 'Name', 'Sex', 'Age', 'SibSp',\n",
      "       'Parch', 'Ticket', 'Fare', 'Cabin', 'Embarked'],\n",
      "      dtype='object')\n",
      "(891, 12)\n"
     ]
    }
   ],
   "source": [
    "print(train_data.columns)\n",
    "print(train_data.shape)"
   ]
  },
  {
   "cell_type": "markdown",
   "id": "58563ab8",
   "metadata": {
    "papermill": {
     "duration": 0.007996,
     "end_time": "2023-11-18T17:48:46.181610",
     "exception": false,
     "start_time": "2023-11-18T17:48:46.173614",
     "status": "completed"
    },
    "tags": []
   },
   "source": [
    "# Choosing features #\n"
   ]
  },
  {
   "cell_type": "code",
   "execution_count": 5,
   "id": "20a60af5",
   "metadata": {
    "execution": {
     "iopub.execute_input": "2023-11-18T17:48:46.200320Z",
     "iopub.status.busy": "2023-11-18T17:48:46.199824Z",
     "iopub.status.idle": "2023-11-18T17:48:46.229886Z",
     "shell.execute_reply": "2023-11-18T17:48:46.229023Z"
    },
    "papermill": {
     "duration": 0.042173,
     "end_time": "2023-11-18T17:48:46.232155",
     "exception": false,
     "start_time": "2023-11-18T17:48:46.189982",
     "status": "completed"
    },
    "tags": []
   },
   "outputs": [
    {
     "data": {
      "text/html": [
       "<div>\n",
       "<style scoped>\n",
       "    .dataframe tbody tr th:only-of-type {\n",
       "        vertical-align: middle;\n",
       "    }\n",
       "\n",
       "    .dataframe tbody tr th {\n",
       "        vertical-align: top;\n",
       "    }\n",
       "\n",
       "    .dataframe thead th {\n",
       "        text-align: right;\n",
       "    }\n",
       "</style>\n",
       "<table border=\"1\" class=\"dataframe\">\n",
       "  <thead>\n",
       "    <tr style=\"text-align: right;\">\n",
       "      <th></th>\n",
       "      <th>Pclass</th>\n",
       "      <th>Fare</th>\n",
       "      <th>Sex_female</th>\n",
       "      <th>Sex_male</th>\n",
       "    </tr>\n",
       "  </thead>\n",
       "  <tbody>\n",
       "    <tr>\n",
       "      <th>0</th>\n",
       "      <td>3</td>\n",
       "      <td>7.2500</td>\n",
       "      <td>False</td>\n",
       "      <td>True</td>\n",
       "    </tr>\n",
       "    <tr>\n",
       "      <th>1</th>\n",
       "      <td>1</td>\n",
       "      <td>71.2833</td>\n",
       "      <td>True</td>\n",
       "      <td>False</td>\n",
       "    </tr>\n",
       "    <tr>\n",
       "      <th>2</th>\n",
       "      <td>3</td>\n",
       "      <td>7.9250</td>\n",
       "      <td>True</td>\n",
       "      <td>False</td>\n",
       "    </tr>\n",
       "    <tr>\n",
       "      <th>3</th>\n",
       "      <td>1</td>\n",
       "      <td>53.1000</td>\n",
       "      <td>True</td>\n",
       "      <td>False</td>\n",
       "    </tr>\n",
       "    <tr>\n",
       "      <th>4</th>\n",
       "      <td>3</td>\n",
       "      <td>8.0500</td>\n",
       "      <td>False</td>\n",
       "      <td>True</td>\n",
       "    </tr>\n",
       "  </tbody>\n",
       "</table>\n",
       "</div>"
      ],
      "text/plain": [
       "   Pclass     Fare  Sex_female  Sex_male\n",
       "0       3   7.2500       False      True\n",
       "1       1  71.2833        True     False\n",
       "2       3   7.9250        True     False\n",
       "3       1  53.1000        True     False\n",
       "4       3   8.0500       False      True"
      ]
     },
     "execution_count": 5,
     "metadata": {},
     "output_type": "execute_result"
    }
   ],
   "source": [
    "features = [\"Pclass\", \"Sex\", \"Fare\"]\n",
    "\n",
    "X_train = pd.get_dummies(train_data[features])\n",
    "\n",
    "X_train.head()\n",
    "#print(X_train.shape)"
   ]
  },
  {
   "cell_type": "markdown",
   "id": "f4e59e93",
   "metadata": {
    "papermill": {
     "duration": 0.008276,
     "end_time": "2023-11-18T17:48:46.248938",
     "exception": false,
     "start_time": "2023-11-18T17:48:46.240662",
     "status": "completed"
    },
    "tags": []
   },
   "source": []
  },
  {
   "cell_type": "markdown",
   "id": "c2a5cc57",
   "metadata": {
    "papermill": {
     "duration": 0.00819,
     "end_time": "2023-11-18T17:48:46.265694",
     "exception": false,
     "start_time": "2023-11-18T17:48:46.257504",
     "status": "completed"
    },
    "tags": []
   },
   "source": [
    "# Set the target/label (y) values\n"
   ]
  },
  {
   "cell_type": "code",
   "execution_count": 6,
   "id": "601a6236",
   "metadata": {
    "execution": {
     "iopub.execute_input": "2023-11-18T17:48:46.284891Z",
     "iopub.status.busy": "2023-11-18T17:48:46.284422Z",
     "iopub.status.idle": "2023-11-18T17:48:46.294070Z",
     "shell.execute_reply": "2023-11-18T17:48:46.292612Z"
    },
    "papermill": {
     "duration": 0.02264,
     "end_time": "2023-11-18T17:48:46.296888",
     "exception": false,
     "start_time": "2023-11-18T17:48:46.274248",
     "status": "completed"
    },
    "tags": []
   },
   "outputs": [
    {
     "data": {
      "text/plain": [
       "0    0\n",
       "1    1\n",
       "2    1\n",
       "3    1\n",
       "4    0\n",
       "Name: Survived, dtype: int64"
      ]
     },
     "execution_count": 6,
     "metadata": {},
     "output_type": "execute_result"
    }
   ],
   "source": [
    "#Y_train = pd.get_dummies(train_data[\"Survived\"])\n",
    "Y_train = train_data[\"Survived\"]\n",
    "\n",
    "Y_train.head()\n"
   ]
  },
  {
   "cell_type": "markdown",
   "id": "3bed4e3d",
   "metadata": {
    "papermill": {
     "duration": 0.008523,
     "end_time": "2023-11-18T17:48:46.314350",
     "exception": false,
     "start_time": "2023-11-18T17:48:46.305827",
     "status": "completed"
    },
    "tags": []
   },
   "source": []
  },
  {
   "cell_type": "markdown",
   "id": "d7fc030c",
   "metadata": {
    "papermill": {
     "duration": 0.0084,
     "end_time": "2023-11-18T17:48:46.331434",
     "exception": false,
     "start_time": "2023-11-18T17:48:46.323034",
     "status": "completed"
    },
    "tags": []
   },
   "source": [
    "# Split up train data into Train-test using scikit-learn"
   ]
  },
  {
   "cell_type": "code",
   "execution_count": 7,
   "id": "4ca65874",
   "metadata": {
    "execution": {
     "iopub.execute_input": "2023-11-18T17:48:46.351433Z",
     "iopub.status.busy": "2023-11-18T17:48:46.350923Z",
     "iopub.status.idle": "2023-11-18T17:48:47.964024Z",
     "shell.execute_reply": "2023-11-18T17:48:47.962361Z"
    },
    "papermill": {
     "duration": 1.628614,
     "end_time": "2023-11-18T17:48:47.968587",
     "exception": false,
     "start_time": "2023-11-18T17:48:46.339973",
     "status": "completed"
    },
    "tags": []
   },
   "outputs": [
    {
     "name": "stdout",
     "output_type": "stream",
     "text": [
      "445    1\n",
      "650    0\n",
      "172    1\n",
      "450    0\n",
      "314    0\n",
      "Name: Survived, dtype: int64\n",
      "709    1\n",
      "439    0\n",
      "840    0\n",
      "720    1\n",
      "39     1\n",
      "Name: Survived, dtype: int64\n"
     ]
    }
   ],
   "source": [
    "from sklearn.model_selection import train_test_split\n",
    "\n",
    "#Split data into a train/validation and test set\n",
    "X_train, X_test, Y_train, Y_test = train_test_split(X_train, Y_train, test_size = 0.3, random_state = 42)\n",
    "\n",
    "#print(X_train.head())\n",
    "#print(Y_train.head())\n",
    "print(Y_train.head())\n",
    "\n",
    "print(Y_test.head())\n"
   ]
  },
  {
   "cell_type": "markdown",
   "id": "168055a2",
   "metadata": {
    "papermill": {
     "duration": 0.008505,
     "end_time": "2023-11-18T17:48:47.986668",
     "exception": false,
     "start_time": "2023-11-18T17:48:47.978163",
     "status": "completed"
    },
    "tags": []
   },
   "source": [
    "spliting the data into a train-test split will allow us to test our model and so it will allow us to tune our model before submitting on Kaggle. We can also use the train-validation-test split here"
   ]
  },
  {
   "cell_type": "markdown",
   "id": "a3481234",
   "metadata": {
    "papermill": {
     "duration": 0.00913,
     "end_time": "2023-11-18T17:48:48.004670",
     "exception": false,
     "start_time": "2023-11-18T17:48:47.995540",
     "status": "completed"
    },
    "tags": []
   },
   "source": [
    "# Making the Neural Network Model using Scikit Learn\n"
   ]
  },
  {
   "cell_type": "code",
   "execution_count": 8,
   "id": "7fe9b6a4",
   "metadata": {
    "execution": {
     "iopub.execute_input": "2023-11-18T17:48:48.026130Z",
     "iopub.status.busy": "2023-11-18T17:48:48.025540Z",
     "iopub.status.idle": "2023-11-18T17:48:48.549411Z",
     "shell.execute_reply": "2023-11-18T17:48:48.547762Z"
    },
    "papermill": {
     "duration": 0.538158,
     "end_time": "2023-11-18T17:48:48.552426",
     "exception": false,
     "start_time": "2023-11-18T17:48:48.014268",
     "status": "completed"
    },
    "tags": []
   },
   "outputs": [
    {
     "name": "stdout",
     "output_type": "stream",
     "text": [
      "Accuracy: 0.78\n"
     ]
    }
   ],
   "source": [
    "from sklearn.neural_network import MLPClassifier\n",
    "from sklearn.model_selection import train_test_split\n",
    "from sklearn.preprocessing import StandardScaler\n",
    "from sklearn.metrics import accuracy_score\n",
    "\n",
    "model = MLPClassifier(hidden_layer_sizes=(5, 5), activation='relu', solver='adam', max_iter=1000, random_state=42)\n",
    "\n",
    "model.fit(X_train, Y_train)\n",
    "\n",
    "y_pred = model.predict(X_test)\n",
    "\n",
    "print(f\"Accuracy: {accuracy_score(Y_test, y_pred):.2f}\")\n"
   ]
  },
  {
   "cell_type": "markdown",
   "id": "8f5f8ea4",
   "metadata": {
    "papermill": {
     "duration": 0.008812,
     "end_time": "2023-11-18T17:48:48.570549",
     "exception": false,
     "start_time": "2023-11-18T17:48:48.561737",
     "status": "completed"
    },
    "tags": []
   },
   "source": [
    "# Tried making a neural network using Tensor Flow but decided to just use Scikit learn"
   ]
  },
  {
   "cell_type": "code",
   "execution_count": 9,
   "id": "a651f63b",
   "metadata": {
    "execution": {
     "iopub.execute_input": "2023-11-18T17:48:48.590588Z",
     "iopub.status.busy": "2023-11-18T17:48:48.590187Z",
     "iopub.status.idle": "2023-11-18T17:48:48.595909Z",
     "shell.execute_reply": "2023-11-18T17:48:48.594942Z"
    },
    "papermill": {
     "duration": 0.019275,
     "end_time": "2023-11-18T17:48:48.598769",
     "exception": false,
     "start_time": "2023-11-18T17:48:48.579494",
     "status": "completed"
    },
    "tags": []
   },
   "outputs": [],
   "source": [
    "# import tensorflow as tf\n",
    "\n",
    "\n",
    "# #Compile the model\n",
    "# model = tf.keras.models.Sequential([\n",
    "#     tf.keras.layers.Dense(64, activation = \"relu\", input_shape = (687,)),\n",
    "#     tf.keras.layers.Dense(32, activation = \"relu\"),\n",
    "#     tf.keras.layers.Dense(16, activation = \"relu\"),\n",
    "#     tf.keras.layers.Dense(1, activation = \"sigmoid\")\n",
    "# ])\n",
    "# model.compile(optimizer = \"adam\", loss = \"binary_crossentropy\", metrics = [\"accuracy\"])\n",
    "\n",
    "\n",
    "# #Train the model\n",
    "\n",
    "# #X_train = tf.convert_to_tensor(X_train)\n",
    "# #Y_train = tf.convert_to_tensor(Y_train)\n",
    "# model.fit(X_train, Y_train, epochs = 10)\n",
    "\n",
    "# #Evaluate the model \n",
    "\n",
    "# #X_test = tf.convert_to_tensor(X_test)\n",
    "# #Y_test = tf.convert_to_tensor(Y_test)\n",
    "# loss, accuracy = model.evaluate(X_test, Y_test)\n",
    "# print(\"Accuracy: \", accuracy)"
   ]
  },
  {
   "cell_type": "markdown",
   "id": "013fa05b",
   "metadata": {
    "papermill": {
     "duration": 0.008868,
     "end_time": "2023-11-18T17:48:48.617190",
     "exception": false,
     "start_time": "2023-11-18T17:48:48.608322",
     "status": "completed"
    },
    "tags": []
   },
   "source": [
    "# Testing model on real test set and Submitting Model\n"
   ]
  },
  {
   "cell_type": "code",
   "execution_count": 10,
   "id": "e9037252",
   "metadata": {
    "execution": {
     "iopub.execute_input": "2023-11-18T17:48:48.638909Z",
     "iopub.status.busy": "2023-11-18T17:48:48.638458Z",
     "iopub.status.idle": "2023-11-18T17:48:48.681820Z",
     "shell.execute_reply": "2023-11-18T17:48:48.680636Z"
    },
    "papermill": {
     "duration": 0.059248,
     "end_time": "2023-11-18T17:48:48.686189",
     "exception": false,
     "start_time": "2023-11-18T17:48:48.626941",
     "status": "completed"
    },
    "tags": []
   },
   "outputs": [
    {
     "name": "stdout",
     "output_type": "stream",
     "text": [
      "Index(['Pclass', 'Fare', 'Sex_female', 'Sex_male', 'PassengerId'], dtype='object')\n",
      "(418, 4)\n",
      "(418,)\n",
      "(418, 5)\n",
      "Your submission was successfully saved!\n"
     ]
    }
   ],
   "source": [
    "test_data = pd.read_csv(\"/kaggle/input/titanic/test.csv\")\n",
    "features = [\"Pclass\", \"Sex\", \"Fare\"]\n",
    "test_X = pd.get_dummies(test_data[features])\n",
    "#test_X = test_X.dropna()\n",
    "#print(test_X[\"Sex_female\"])\n",
    "test_X['Fare'].fillna(test_X['Fare'].median(), inplace=True)\n",
    "\n",
    "# Impute categorical columns with the mode\n",
    "for column in ['Pclass']:\n",
    "    test_X[column].fillna(test_X[column].mode()[0], inplace=True)\n",
    "\n",
    "for column in [\"Sex_female\"]:\n",
    "    test_X[column].fillna(False, inplace=True)\n",
    "    \n",
    "for column in ['Sex_male']:\n",
    "    test_X[column].fillna(True, inplace=True)\n",
    "  \n",
    "  \n",
    "\n",
    "\n",
    "# print(test_data)\n",
    "# print(X_test)\n",
    "\n",
    "#model.fit(X_train, Y_train)\n",
    "\n",
    "predictions = model.predict(test_X)\n",
    "\n",
    "#test_data = test_data.dropna(subset=['Pclass', 'Sex', 'Fare'])\n",
    "\n",
    "pass_id = test_data['PassengerId']\n",
    "\n",
    "test_data = test_data.drop('PassengerId', axis=1)\n",
    "test_data = pd.get_dummies(test_data[features])\n",
    "\n",
    "test_data[\"PassengerId\"] = pass_id\n",
    "\n",
    "test_data['Fare'].fillna(test_data['Fare'].median(), inplace=True)\n",
    "\n",
    "print(test_data.columns)\n",
    "\n",
    "# Impute categorical columns with the mode\n",
    "for column in ['Pclass']:\n",
    "    test_data[column].fillna(test_data[column].mode()[0], inplace=True)\n",
    "\n",
    "for column in ['Sex_female']:\n",
    "    test_data[column].fillna(False, inplace=True)\n",
    "    \n",
    "for column in ['Sex_male']:\n",
    "    test_data[column].fillna(True, inplace=True)\n",
    "\n",
    "print(test_X.shape)\n",
    "print(predictions.shape)\n",
    "print(test_data.shape)\n",
    "\n",
    "output = pd.DataFrame({'PassengerId': test_data.PassengerId, 'Survived': predictions})\n",
    "output.to_csv('submission.csv', index=False)\n",
    "print(\"Your submission was successfully saved!\")"
   ]
  },
  {
   "cell_type": "markdown",
   "id": "88bbc55f",
   "metadata": {
    "papermill": {
     "duration": 0.009352,
     "end_time": "2023-11-18T17:48:48.704922",
     "exception": false,
     "start_time": "2023-11-18T17:48:48.695570",
     "status": "completed"
    },
    "tags": []
   },
   "source": [
    "# After first submission, I will now try and edit the neural network to improve the accurary\n"
   ]
  },
  {
   "cell_type": "code",
   "execution_count": 11,
   "id": "4d98912f",
   "metadata": {
    "execution": {
     "iopub.execute_input": "2023-11-18T17:48:48.725384Z",
     "iopub.status.busy": "2023-11-18T17:48:48.724949Z",
     "iopub.status.idle": "2023-11-18T17:48:49.044572Z",
     "shell.execute_reply": "2023-11-18T17:48:49.042882Z"
    },
    "papermill": {
     "duration": 0.333009,
     "end_time": "2023-11-18T17:48:49.047426",
     "exception": false,
     "start_time": "2023-11-18T17:48:48.714417",
     "status": "completed"
    },
    "tags": []
   },
   "outputs": [
    {
     "name": "stdout",
     "output_type": "stream",
     "text": [
      "Accuracy: 0.82\n"
     ]
    }
   ],
   "source": [
    "model = MLPClassifier(hidden_layer_sizes=(14, 4), activation='relu', solver='lbfgs', max_iter=1000, random_state=42)\n",
    "\n",
    "model.fit(X_train, Y_train)\n",
    "\n",
    "y_pred = model.predict(X_test)\n",
    "\n",
    "print(f\"Accuracy: {accuracy_score(Y_test, y_pred):.2f}\")\n",
    "\n"
   ]
  },
  {
   "cell_type": "markdown",
   "id": "edd622cd",
   "metadata": {
    "papermill": {
     "duration": 0.008837,
     "end_time": "2023-11-18T17:48:49.065417",
     "exception": false,
     "start_time": "2023-11-18T17:48:49.056580",
     "status": "completed"
    },
    "tags": []
   },
   "source": [
    "# Second submission\n"
   ]
  },
  {
   "cell_type": "code",
   "execution_count": 12,
   "id": "02b82694",
   "metadata": {
    "execution": {
     "iopub.execute_input": "2023-11-18T17:48:49.087319Z",
     "iopub.status.busy": "2023-11-18T17:48:49.086591Z",
     "iopub.status.idle": "2023-11-18T17:48:49.119320Z",
     "shell.execute_reply": "2023-11-18T17:48:49.118164Z"
    },
    "papermill": {
     "duration": 0.046649,
     "end_time": "2023-11-18T17:48:49.121824",
     "exception": false,
     "start_time": "2023-11-18T17:48:49.075175",
     "status": "completed"
    },
    "tags": []
   },
   "outputs": [
    {
     "name": "stdout",
     "output_type": "stream",
     "text": [
      "done\n",
      "Index(['Pclass', 'Fare', 'Sex_female', 'Sex_male', 'PassengerId'], dtype='object')\n",
      "(418, 4)\n",
      "(418,)\n",
      "(418, 5)\n",
      "Your submission was successfully saved!\n"
     ]
    }
   ],
   "source": [
    "test_data = pd.read_csv(\"/kaggle/input/titanic/test.csv\")\n",
    "features = [\"Pclass\", \"Sex\", \"Fare\"]\n",
    "test_X = pd.get_dummies(test_data[features])\n",
    "\n",
    "test_X['Fare'].fillna(test_X['Fare'].median(), inplace=True)\n",
    "\n",
    "# Impute categorical columns with the mode\n",
    "for column in ['Pclass']:\n",
    "    test_X[column].fillna(test_X[column].mode()[0], inplace=True)\n",
    "\n",
    "for column in [\"Sex_female\"]:\n",
    "    test_X[column].fillna(False, inplace=True)\n",
    "    \n",
    "for column in ['Sex_male']:\n",
    "    test_X[column].fillna(True, inplace=True)\n",
    "\n",
    "print(\"done\")\n",
    "\n",
    "predictions2 = model.predict(test_X)\n",
    "\n",
    "pass_id = test_data['PassengerId']\n",
    "\n",
    "test_data = test_data.drop('PassengerId', axis=1)\n",
    "test_data = pd.get_dummies(test_data[features])\n",
    "\n",
    "test_data[\"PassengerId\"] = pass_id\n",
    "\n",
    "print(test_data.columns)\n",
    "\n",
    "print(test_X.shape)\n",
    "print(predictions2.shape)\n",
    "print(test_data.shape)\n",
    "\n",
    "output = pd.DataFrame({'PassengerId': test_data.PassengerId, 'Survived': predictions2})\n",
    "output.to_csv('submission.csv', index=False)\n",
    "print(\"Your submission was successfully saved!\")"
   ]
  }
 ],
 "metadata": {
  "kaggle": {
   "accelerator": "none",
   "dataSources": [
    {
     "databundleVersionId": 26502,
     "sourceId": 3136,
     "sourceType": "competition"
    }
   ],
   "dockerImageVersionId": 30579,
   "isGpuEnabled": false,
   "isInternetEnabled": true,
   "language": "python",
   "sourceType": "notebook"
  },
  "kernelspec": {
   "display_name": "Python 3",
   "language": "python",
   "name": "python3"
  },
  "language_info": {
   "codemirror_mode": {
    "name": "ipython",
    "version": 3
   },
   "file_extension": ".py",
   "mimetype": "text/x-python",
   "name": "python",
   "nbconvert_exporter": "python",
   "pygments_lexer": "ipython3",
   "version": "3.10.12"
  },
  "papermill": {
   "default_parameters": {},
   "duration": 8.924273,
   "end_time": "2023-11-18T17:48:49.755149",
   "environment_variables": {},
   "exception": null,
   "input_path": "__notebook__.ipynb",
   "output_path": "__notebook__.ipynb",
   "parameters": {},
   "start_time": "2023-11-18T17:48:40.830876",
   "version": "2.4.0"
  }
 },
 "nbformat": 4,
 "nbformat_minor": 5
}
