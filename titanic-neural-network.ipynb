{
 "cells": [
  {
   "cell_type": "code",
   "execution_count": 1,
   "id": "66ffe60c",
   "metadata": {
    "_cell_guid": "b1076dfc-b9ad-4769-8c92-a6c4dae69d19",
    "_uuid": "8f2839f25d086af736a60e9eeb907d3b93b6e0e5",
    "execution": {
     "iopub.execute_input": "2023-11-19T00:54:41.294572Z",
     "iopub.status.busy": "2023-11-19T00:54:41.294168Z",
     "iopub.status.idle": "2023-11-19T00:54:42.086542Z",
     "shell.execute_reply": "2023-11-19T00:54:42.085691Z"
    },
    "papermill": {
     "duration": 0.810221,
     "end_time": "2023-11-19T00:54:42.089298",
     "exception": false,
     "start_time": "2023-11-19T00:54:41.279077",
     "status": "completed"
    },
    "tags": []
   },
   "outputs": [
    {
     "name": "stdout",
     "output_type": "stream",
     "text": [
      "/kaggle/input/titanic/train.csv\n",
      "/kaggle/input/titanic/test.csv\n",
      "/kaggle/input/titanic/gender_submission.csv\n"
     ]
    }
   ],
   "source": [
    "# This Python 3 environment comes with many helpful analytics libraries installed\n",
    "# It is defined by the kaggle/python Docker image: https://github.com/kaggle/docker-python\n",
    "# For example, here's several helpful packages to load\n",
    "\n",
    "import numpy as np # linear algebra\n",
    "import pandas as pd # data processing, CSV file I/O (e.g. pd.read_csv)\n",
    "\n",
    "# Input data files are available in the read-only \"../input/\" directory\n",
    "# For example, running this (by clicking run or pressing Shift+Enter) will list all files under the input directory\n",
    "\n",
    "import os\n",
    "for dirname, _, filenames in os.walk('/kaggle/input'):\n",
    "    for filename in filenames:\n",
    "        print(os.path.join(dirname, filename))\n",
    "\n",
    "# You can write up to 20GB to the current directory (/kaggle/working/) that gets preserved as output when you create a version using \"Save & Run All\" \n",
    "# You can also write temporary files to /kaggle/temp/, but they won't be saved outside of the current session"
   ]
  },
  {
   "cell_type": "markdown",
   "id": "31031c47",
   "metadata": {
    "papermill": {
     "duration": 0.012327,
     "end_time": "2023-11-19T00:54:42.114751",
     "exception": false,
     "start_time": "2023-11-19T00:54:42.102424",
     "status": "completed"
    },
    "tags": []
   },
   "source": [
    "# **Load the Data from the Database**"
   ]
  },
  {
   "cell_type": "code",
   "execution_count": 2,
   "id": "c00bff0b",
   "metadata": {
    "execution": {
     "iopub.execute_input": "2023-11-19T00:54:42.142774Z",
     "iopub.status.busy": "2023-11-19T00:54:42.142037Z",
     "iopub.status.idle": "2023-11-19T00:54:42.188994Z",
     "shell.execute_reply": "2023-11-19T00:54:42.187822Z"
    },
    "papermill": {
     "duration": 0.063603,
     "end_time": "2023-11-19T00:54:42.191500",
     "exception": false,
     "start_time": "2023-11-19T00:54:42.127897",
     "status": "completed"
    },
    "tags": []
   },
   "outputs": [
    {
     "data": {
      "text/html": [
       "<div>\n",
       "<style scoped>\n",
       "    .dataframe tbody tr th:only-of-type {\n",
       "        vertical-align: middle;\n",
       "    }\n",
       "\n",
       "    .dataframe tbody tr th {\n",
       "        vertical-align: top;\n",
       "    }\n",
       "\n",
       "    .dataframe thead th {\n",
       "        text-align: right;\n",
       "    }\n",
       "</style>\n",
       "<table border=\"1\" class=\"dataframe\">\n",
       "  <thead>\n",
       "    <tr style=\"text-align: right;\">\n",
       "      <th></th>\n",
       "      <th>PassengerId</th>\n",
       "      <th>Survived</th>\n",
       "      <th>Pclass</th>\n",
       "      <th>Name</th>\n",
       "      <th>Sex</th>\n",
       "      <th>Age</th>\n",
       "      <th>SibSp</th>\n",
       "      <th>Parch</th>\n",
       "      <th>Ticket</th>\n",
       "      <th>Fare</th>\n",
       "      <th>Cabin</th>\n",
       "      <th>Embarked</th>\n",
       "    </tr>\n",
       "  </thead>\n",
       "  <tbody>\n",
       "    <tr>\n",
       "      <th>0</th>\n",
       "      <td>1</td>\n",
       "      <td>0</td>\n",
       "      <td>3</td>\n",
       "      <td>Braund, Mr. Owen Harris</td>\n",
       "      <td>male</td>\n",
       "      <td>22.0</td>\n",
       "      <td>1</td>\n",
       "      <td>0</td>\n",
       "      <td>A/5 21171</td>\n",
       "      <td>7.2500</td>\n",
       "      <td>NaN</td>\n",
       "      <td>S</td>\n",
       "    </tr>\n",
       "    <tr>\n",
       "      <th>1</th>\n",
       "      <td>2</td>\n",
       "      <td>1</td>\n",
       "      <td>1</td>\n",
       "      <td>Cumings, Mrs. John Bradley (Florence Briggs Th...</td>\n",
       "      <td>female</td>\n",
       "      <td>38.0</td>\n",
       "      <td>1</td>\n",
       "      <td>0</td>\n",
       "      <td>PC 17599</td>\n",
       "      <td>71.2833</td>\n",
       "      <td>C85</td>\n",
       "      <td>C</td>\n",
       "    </tr>\n",
       "    <tr>\n",
       "      <th>2</th>\n",
       "      <td>3</td>\n",
       "      <td>1</td>\n",
       "      <td>3</td>\n",
       "      <td>Heikkinen, Miss. Laina</td>\n",
       "      <td>female</td>\n",
       "      <td>26.0</td>\n",
       "      <td>0</td>\n",
       "      <td>0</td>\n",
       "      <td>STON/O2. 3101282</td>\n",
       "      <td>7.9250</td>\n",
       "      <td>NaN</td>\n",
       "      <td>S</td>\n",
       "    </tr>\n",
       "    <tr>\n",
       "      <th>3</th>\n",
       "      <td>4</td>\n",
       "      <td>1</td>\n",
       "      <td>1</td>\n",
       "      <td>Futrelle, Mrs. Jacques Heath (Lily May Peel)</td>\n",
       "      <td>female</td>\n",
       "      <td>35.0</td>\n",
       "      <td>1</td>\n",
       "      <td>0</td>\n",
       "      <td>113803</td>\n",
       "      <td>53.1000</td>\n",
       "      <td>C123</td>\n",
       "      <td>S</td>\n",
       "    </tr>\n",
       "    <tr>\n",
       "      <th>4</th>\n",
       "      <td>5</td>\n",
       "      <td>0</td>\n",
       "      <td>3</td>\n",
       "      <td>Allen, Mr. William Henry</td>\n",
       "      <td>male</td>\n",
       "      <td>35.0</td>\n",
       "      <td>0</td>\n",
       "      <td>0</td>\n",
       "      <td>373450</td>\n",
       "      <td>8.0500</td>\n",
       "      <td>NaN</td>\n",
       "      <td>S</td>\n",
       "    </tr>\n",
       "  </tbody>\n",
       "</table>\n",
       "</div>"
      ],
      "text/plain": [
       "   PassengerId  Survived  Pclass  \\\n",
       "0            1         0       3   \n",
       "1            2         1       1   \n",
       "2            3         1       3   \n",
       "3            4         1       1   \n",
       "4            5         0       3   \n",
       "\n",
       "                                                Name     Sex   Age  SibSp  \\\n",
       "0                            Braund, Mr. Owen Harris    male  22.0      1   \n",
       "1  Cumings, Mrs. John Bradley (Florence Briggs Th...  female  38.0      1   \n",
       "2                             Heikkinen, Miss. Laina  female  26.0      0   \n",
       "3       Futrelle, Mrs. Jacques Heath (Lily May Peel)  female  35.0      1   \n",
       "4                           Allen, Mr. William Henry    male  35.0      0   \n",
       "\n",
       "   Parch            Ticket     Fare Cabin Embarked  \n",
       "0      0         A/5 21171   7.2500   NaN        S  \n",
       "1      0          PC 17599  71.2833   C85        C  \n",
       "2      0  STON/O2. 3101282   7.9250   NaN        S  \n",
       "3      0            113803  53.1000  C123        S  \n",
       "4      0            373450   8.0500   NaN        S  "
      ]
     },
     "execution_count": 2,
     "metadata": {},
     "output_type": "execute_result"
    }
   ],
   "source": [
    "#Remember to eventually clean up the wrong or missing values\n",
    "train_data = pd.read_csv(\"/kaggle/input/titanic/train.csv\")\n",
    "\n",
    "train_data.head()"
   ]
  },
  {
   "cell_type": "code",
   "execution_count": 3,
   "id": "999e7c89",
   "metadata": {
    "execution": {
     "iopub.execute_input": "2023-11-19T00:54:42.220095Z",
     "iopub.status.busy": "2023-11-19T00:54:42.218978Z",
     "iopub.status.idle": "2023-11-19T00:54:42.241682Z",
     "shell.execute_reply": "2023-11-19T00:54:42.240825Z"
    },
    "papermill": {
     "duration": 0.03924,
     "end_time": "2023-11-19T00:54:42.243853",
     "exception": false,
     "start_time": "2023-11-19T00:54:42.204613",
     "status": "completed"
    },
    "tags": []
   },
   "outputs": [
    {
     "data": {
      "text/html": [
       "<div>\n",
       "<style scoped>\n",
       "    .dataframe tbody tr th:only-of-type {\n",
       "        vertical-align: middle;\n",
       "    }\n",
       "\n",
       "    .dataframe tbody tr th {\n",
       "        vertical-align: top;\n",
       "    }\n",
       "\n",
       "    .dataframe thead th {\n",
       "        text-align: right;\n",
       "    }\n",
       "</style>\n",
       "<table border=\"1\" class=\"dataframe\">\n",
       "  <thead>\n",
       "    <tr style=\"text-align: right;\">\n",
       "      <th></th>\n",
       "      <th>PassengerId</th>\n",
       "      <th>Pclass</th>\n",
       "      <th>Name</th>\n",
       "      <th>Sex</th>\n",
       "      <th>Age</th>\n",
       "      <th>SibSp</th>\n",
       "      <th>Parch</th>\n",
       "      <th>Ticket</th>\n",
       "      <th>Fare</th>\n",
       "      <th>Cabin</th>\n",
       "      <th>Embarked</th>\n",
       "    </tr>\n",
       "  </thead>\n",
       "  <tbody>\n",
       "    <tr>\n",
       "      <th>0</th>\n",
       "      <td>892</td>\n",
       "      <td>3</td>\n",
       "      <td>Kelly, Mr. James</td>\n",
       "      <td>male</td>\n",
       "      <td>34.5</td>\n",
       "      <td>0</td>\n",
       "      <td>0</td>\n",
       "      <td>330911</td>\n",
       "      <td>7.8292</td>\n",
       "      <td>NaN</td>\n",
       "      <td>Q</td>\n",
       "    </tr>\n",
       "    <tr>\n",
       "      <th>1</th>\n",
       "      <td>893</td>\n",
       "      <td>3</td>\n",
       "      <td>Wilkes, Mrs. James (Ellen Needs)</td>\n",
       "      <td>female</td>\n",
       "      <td>47.0</td>\n",
       "      <td>1</td>\n",
       "      <td>0</td>\n",
       "      <td>363272</td>\n",
       "      <td>7.0000</td>\n",
       "      <td>NaN</td>\n",
       "      <td>S</td>\n",
       "    </tr>\n",
       "    <tr>\n",
       "      <th>2</th>\n",
       "      <td>894</td>\n",
       "      <td>2</td>\n",
       "      <td>Myles, Mr. Thomas Francis</td>\n",
       "      <td>male</td>\n",
       "      <td>62.0</td>\n",
       "      <td>0</td>\n",
       "      <td>0</td>\n",
       "      <td>240276</td>\n",
       "      <td>9.6875</td>\n",
       "      <td>NaN</td>\n",
       "      <td>Q</td>\n",
       "    </tr>\n",
       "    <tr>\n",
       "      <th>3</th>\n",
       "      <td>895</td>\n",
       "      <td>3</td>\n",
       "      <td>Wirz, Mr. Albert</td>\n",
       "      <td>male</td>\n",
       "      <td>27.0</td>\n",
       "      <td>0</td>\n",
       "      <td>0</td>\n",
       "      <td>315154</td>\n",
       "      <td>8.6625</td>\n",
       "      <td>NaN</td>\n",
       "      <td>S</td>\n",
       "    </tr>\n",
       "    <tr>\n",
       "      <th>4</th>\n",
       "      <td>896</td>\n",
       "      <td>3</td>\n",
       "      <td>Hirvonen, Mrs. Alexander (Helga E Lindqvist)</td>\n",
       "      <td>female</td>\n",
       "      <td>22.0</td>\n",
       "      <td>1</td>\n",
       "      <td>1</td>\n",
       "      <td>3101298</td>\n",
       "      <td>12.2875</td>\n",
       "      <td>NaN</td>\n",
       "      <td>S</td>\n",
       "    </tr>\n",
       "  </tbody>\n",
       "</table>\n",
       "</div>"
      ],
      "text/plain": [
       "   PassengerId  Pclass                                          Name     Sex  \\\n",
       "0          892       3                              Kelly, Mr. James    male   \n",
       "1          893       3              Wilkes, Mrs. James (Ellen Needs)  female   \n",
       "2          894       2                     Myles, Mr. Thomas Francis    male   \n",
       "3          895       3                              Wirz, Mr. Albert    male   \n",
       "4          896       3  Hirvonen, Mrs. Alexander (Helga E Lindqvist)  female   \n",
       "\n",
       "    Age  SibSp  Parch   Ticket     Fare Cabin Embarked  \n",
       "0  34.5      0      0   330911   7.8292   NaN        Q  \n",
       "1  47.0      1      0   363272   7.0000   NaN        S  \n",
       "2  62.0      0      0   240276   9.6875   NaN        Q  \n",
       "3  27.0      0      0   315154   8.6625   NaN        S  \n",
       "4  22.0      1      1  3101298  12.2875   NaN        S  "
      ]
     },
     "execution_count": 3,
     "metadata": {},
     "output_type": "execute_result"
    }
   ],
   "source": [
    "#Remember to eventually clean up the wrong or missing values\n",
    "test_data = pd.read_csv(\"/kaggle/input/titanic/test.csv\")\n",
    "\n",
    "test_data.head()"
   ]
  },
  {
   "cell_type": "code",
   "execution_count": 4,
   "id": "e55636fa",
   "metadata": {
    "execution": {
     "iopub.execute_input": "2023-11-19T00:54:42.273459Z",
     "iopub.status.busy": "2023-11-19T00:54:42.272806Z",
     "iopub.status.idle": "2023-11-19T00:54:42.277852Z",
     "shell.execute_reply": "2023-11-19T00:54:42.277136Z"
    },
    "papermill": {
     "duration": 0.022075,
     "end_time": "2023-11-19T00:54:42.279835",
     "exception": false,
     "start_time": "2023-11-19T00:54:42.257760",
     "status": "completed"
    },
    "tags": []
   },
   "outputs": [
    {
     "name": "stdout",
     "output_type": "stream",
     "text": [
      "Index(['PassengerId', 'Survived', 'Pclass', 'Name', 'Sex', 'Age', 'SibSp',\n",
      "       'Parch', 'Ticket', 'Fare', 'Cabin', 'Embarked'],\n",
      "      dtype='object')\n",
      "(891, 12)\n"
     ]
    }
   ],
   "source": [
    "print(train_data.columns)\n",
    "print(train_data.shape)"
   ]
  },
  {
   "cell_type": "markdown",
   "id": "25ee89c2",
   "metadata": {
    "papermill": {
     "duration": 0.013004,
     "end_time": "2023-11-19T00:54:42.306310",
     "exception": false,
     "start_time": "2023-11-19T00:54:42.293306",
     "status": "completed"
    },
    "tags": []
   },
   "source": [
    "# Choosing features #\n"
   ]
  },
  {
   "cell_type": "code",
   "execution_count": 5,
   "id": "68d47858",
   "metadata": {
    "execution": {
     "iopub.execute_input": "2023-11-19T00:54:42.335055Z",
     "iopub.status.busy": "2023-11-19T00:54:42.334411Z",
     "iopub.status.idle": "2023-11-19T00:54:42.359324Z",
     "shell.execute_reply": "2023-11-19T00:54:42.358587Z"
    },
    "papermill": {
     "duration": 0.041585,
     "end_time": "2023-11-19T00:54:42.361360",
     "exception": false,
     "start_time": "2023-11-19T00:54:42.319775",
     "status": "completed"
    },
    "tags": []
   },
   "outputs": [
    {
     "data": {
      "text/html": [
       "<div>\n",
       "<style scoped>\n",
       "    .dataframe tbody tr th:only-of-type {\n",
       "        vertical-align: middle;\n",
       "    }\n",
       "\n",
       "    .dataframe tbody tr th {\n",
       "        vertical-align: top;\n",
       "    }\n",
       "\n",
       "    .dataframe thead th {\n",
       "        text-align: right;\n",
       "    }\n",
       "</style>\n",
       "<table border=\"1\" class=\"dataframe\">\n",
       "  <thead>\n",
       "    <tr style=\"text-align: right;\">\n",
       "      <th></th>\n",
       "      <th>Pclass</th>\n",
       "      <th>Fare</th>\n",
       "      <th>Sex_female</th>\n",
       "      <th>Sex_male</th>\n",
       "    </tr>\n",
       "  </thead>\n",
       "  <tbody>\n",
       "    <tr>\n",
       "      <th>0</th>\n",
       "      <td>3</td>\n",
       "      <td>7.2500</td>\n",
       "      <td>False</td>\n",
       "      <td>True</td>\n",
       "    </tr>\n",
       "    <tr>\n",
       "      <th>1</th>\n",
       "      <td>1</td>\n",
       "      <td>71.2833</td>\n",
       "      <td>True</td>\n",
       "      <td>False</td>\n",
       "    </tr>\n",
       "    <tr>\n",
       "      <th>2</th>\n",
       "      <td>3</td>\n",
       "      <td>7.9250</td>\n",
       "      <td>True</td>\n",
       "      <td>False</td>\n",
       "    </tr>\n",
       "    <tr>\n",
       "      <th>3</th>\n",
       "      <td>1</td>\n",
       "      <td>53.1000</td>\n",
       "      <td>True</td>\n",
       "      <td>False</td>\n",
       "    </tr>\n",
       "    <tr>\n",
       "      <th>4</th>\n",
       "      <td>3</td>\n",
       "      <td>8.0500</td>\n",
       "      <td>False</td>\n",
       "      <td>True</td>\n",
       "    </tr>\n",
       "  </tbody>\n",
       "</table>\n",
       "</div>"
      ],
      "text/plain": [
       "   Pclass     Fare  Sex_female  Sex_male\n",
       "0       3   7.2500       False      True\n",
       "1       1  71.2833        True     False\n",
       "2       3   7.9250        True     False\n",
       "3       1  53.1000        True     False\n",
       "4       3   8.0500       False      True"
      ]
     },
     "execution_count": 5,
     "metadata": {},
     "output_type": "execute_result"
    }
   ],
   "source": [
    "features = [\"Pclass\", \"Sex\", \"Fare\"]\n",
    "\n",
    "X_train = pd.get_dummies(train_data[features])\n",
    "\n",
    "X_train.head()\n",
    "#print(X_train.shape)"
   ]
  },
  {
   "cell_type": "markdown",
   "id": "e5ebb17e",
   "metadata": {
    "papermill": {
     "duration": 0.013207,
     "end_time": "2023-11-19T00:54:42.388492",
     "exception": false,
     "start_time": "2023-11-19T00:54:42.375285",
     "status": "completed"
    },
    "tags": []
   },
   "source": []
  },
  {
   "cell_type": "markdown",
   "id": "6d0b58c0",
   "metadata": {
    "papermill": {
     "duration": 0.013206,
     "end_time": "2023-11-19T00:54:42.415799",
     "exception": false,
     "start_time": "2023-11-19T00:54:42.402593",
     "status": "completed"
    },
    "tags": []
   },
   "source": [
    "# Set the target/label (y) values\n"
   ]
  },
  {
   "cell_type": "code",
   "execution_count": 6,
   "id": "7046530e",
   "metadata": {
    "execution": {
     "iopub.execute_input": "2023-11-19T00:54:42.444425Z",
     "iopub.status.busy": "2023-11-19T00:54:42.444022Z",
     "iopub.status.idle": "2023-11-19T00:54:42.451616Z",
     "shell.execute_reply": "2023-11-19T00:54:42.450588Z"
    },
    "papermill": {
     "duration": 0.024496,
     "end_time": "2023-11-19T00:54:42.453770",
     "exception": false,
     "start_time": "2023-11-19T00:54:42.429274",
     "status": "completed"
    },
    "tags": []
   },
   "outputs": [
    {
     "data": {
      "text/plain": [
       "0    0\n",
       "1    1\n",
       "2    1\n",
       "3    1\n",
       "4    0\n",
       "Name: Survived, dtype: int64"
      ]
     },
     "execution_count": 6,
     "metadata": {},
     "output_type": "execute_result"
    }
   ],
   "source": [
    "#Y_train = pd.get_dummies(train_data[\"Survived\"])\n",
    "Y_train = train_data[\"Survived\"]\n",
    "\n",
    "Y_train.head()\n"
   ]
  },
  {
   "cell_type": "markdown",
   "id": "31280f04",
   "metadata": {
    "papermill": {
     "duration": 0.071641,
     "end_time": "2023-11-19T00:54:42.539074",
     "exception": false,
     "start_time": "2023-11-19T00:54:42.467433",
     "status": "completed"
    },
    "tags": []
   },
   "source": []
  },
  {
   "cell_type": "markdown",
   "id": "b166d469",
   "metadata": {
    "papermill": {
     "duration": 0.013446,
     "end_time": "2023-11-19T00:54:42.566207",
     "exception": false,
     "start_time": "2023-11-19T00:54:42.552761",
     "status": "completed"
    },
    "tags": []
   },
   "source": [
    "# Split up train data into Train-test using scikit-learn"
   ]
  },
  {
   "cell_type": "code",
   "execution_count": 7,
   "id": "3ecf4d4b",
   "metadata": {
    "execution": {
     "iopub.execute_input": "2023-11-19T00:54:42.595602Z",
     "iopub.status.busy": "2023-11-19T00:54:42.595197Z",
     "iopub.status.idle": "2023-11-19T00:54:43.825001Z",
     "shell.execute_reply": "2023-11-19T00:54:43.823860Z"
    },
    "papermill": {
     "duration": 1.247429,
     "end_time": "2023-11-19T00:54:43.827525",
     "exception": false,
     "start_time": "2023-11-19T00:54:42.580096",
     "status": "completed"
    },
    "tags": []
   },
   "outputs": [
    {
     "name": "stdout",
     "output_type": "stream",
     "text": [
      "445    1\n",
      "650    0\n",
      "172    1\n",
      "450    0\n",
      "314    0\n",
      "Name: Survived, dtype: int64\n",
      "709    1\n",
      "439    0\n",
      "840    0\n",
      "720    1\n",
      "39     1\n",
      "Name: Survived, dtype: int64\n"
     ]
    }
   ],
   "source": [
    "from sklearn.model_selection import train_test_split\n",
    "\n",
    "#Split data into a train/validation and test set\n",
    "X_train, X_test, Y_train, Y_test = train_test_split(X_train, Y_train, test_size = 0.3, random_state = 42)\n",
    "\n",
    "#print(X_train.head())\n",
    "#print(Y_train.head())\n",
    "print(Y_train.head())\n",
    "\n",
    "print(Y_test.head())\n"
   ]
  },
  {
   "cell_type": "markdown",
   "id": "b8565348",
   "metadata": {
    "papermill": {
     "duration": 0.013698,
     "end_time": "2023-11-19T00:54:43.855481",
     "exception": false,
     "start_time": "2023-11-19T00:54:43.841783",
     "status": "completed"
    },
    "tags": []
   },
   "source": [
    "spliting the data into a train-test split will allow us to test our model and so it will allow us to tune our model before submitting on Kaggle. We can also use the train-validation-test split here"
   ]
  },
  {
   "cell_type": "markdown",
   "id": "e983dccb",
   "metadata": {
    "papermill": {
     "duration": 0.014104,
     "end_time": "2023-11-19T00:54:43.884183",
     "exception": false,
     "start_time": "2023-11-19T00:54:43.870079",
     "status": "completed"
    },
    "tags": []
   },
   "source": [
    "# Making the Neural Network Model using Scikit Learn\n"
   ]
  },
  {
   "cell_type": "code",
   "execution_count": 8,
   "id": "112a143a",
   "metadata": {
    "execution": {
     "iopub.execute_input": "2023-11-19T00:54:43.914640Z",
     "iopub.status.busy": "2023-11-19T00:54:43.914233Z",
     "iopub.status.idle": "2023-11-19T00:54:44.274118Z",
     "shell.execute_reply": "2023-11-19T00:54:44.273004Z"
    },
    "papermill": {
     "duration": 0.377785,
     "end_time": "2023-11-19T00:54:44.276306",
     "exception": false,
     "start_time": "2023-11-19T00:54:43.898521",
     "status": "completed"
    },
    "tags": []
   },
   "outputs": [
    {
     "name": "stdout",
     "output_type": "stream",
     "text": [
      "Accuracy: 0.78\n"
     ]
    }
   ],
   "source": [
    "from sklearn.neural_network import MLPClassifier\n",
    "from sklearn.model_selection import train_test_split\n",
    "from sklearn.preprocessing import StandardScaler\n",
    "from sklearn.metrics import accuracy_score\n",
    "\n",
    "model = MLPClassifier(hidden_layer_sizes=(5, 5), activation='relu', solver='adam', max_iter=1000, random_state=42)\n",
    "\n",
    "model.fit(X_train, Y_train)\n",
    "\n",
    "y_pred = model.predict(X_test)\n",
    "\n",
    "print(f\"Accuracy: {accuracy_score(Y_test, y_pred):.2f}\")\n"
   ]
  },
  {
   "cell_type": "markdown",
   "id": "c88fab6a",
   "metadata": {
    "papermill": {
     "duration": 0.013646,
     "end_time": "2023-11-19T00:54:44.303936",
     "exception": false,
     "start_time": "2023-11-19T00:54:44.290290",
     "status": "completed"
    },
    "tags": []
   },
   "source": [
    "**Here I am using the MLPClassifier since this is a classification problem. The output of the model will be \"Survive\" or \"not survive.\" If my model was supposed to predict a numerical value, I would be using something like MLPRegressor instead**"
   ]
  },
  {
   "cell_type": "markdown",
   "id": "be014edc",
   "metadata": {
    "papermill": {
     "duration": 0.013457,
     "end_time": "2023-11-19T00:54:44.331318",
     "exception": false,
     "start_time": "2023-11-19T00:54:44.317861",
     "status": "completed"
    },
    "tags": []
   },
   "source": [
    "# Tried making a neural network using Tensor Flow but decided to just use Scikit learn"
   ]
  },
  {
   "cell_type": "code",
   "execution_count": 9,
   "id": "532bc0e3",
   "metadata": {
    "execution": {
     "iopub.execute_input": "2023-11-19T00:54:44.361374Z",
     "iopub.status.busy": "2023-11-19T00:54:44.360239Z",
     "iopub.status.idle": "2023-11-19T00:54:44.365089Z",
     "shell.execute_reply": "2023-11-19T00:54:44.364299Z"
    },
    "papermill": {
     "duration": 0.021766,
     "end_time": "2023-11-19T00:54:44.366964",
     "exception": false,
     "start_time": "2023-11-19T00:54:44.345198",
     "status": "completed"
    },
    "tags": []
   },
   "outputs": [],
   "source": [
    "# import tensorflow as tf\n",
    "\n",
    "\n",
    "# #Compile the model\n",
    "# model = tf.keras.models.Sequential([\n",
    "#     tf.keras.layers.Dense(64, activation = \"relu\", input_shape = (687,)),\n",
    "#     tf.keras.layers.Dense(32, activation = \"relu\"),\n",
    "#     tf.keras.layers.Dense(16, activation = \"relu\"),\n",
    "#     tf.keras.layers.Dense(1, activation = \"sigmoid\")\n",
    "# ])\n",
    "# model.compile(optimizer = \"adam\", loss = \"binary_crossentropy\", metrics = [\"accuracy\"])\n",
    "\n",
    "\n",
    "# #Train the model\n",
    "\n",
    "# #X_train = tf.convert_to_tensor(X_train)\n",
    "# #Y_train = tf.convert_to_tensor(Y_train)\n",
    "# model.fit(X_train, Y_train, epochs = 10)\n",
    "\n",
    "# #Evaluate the model \n",
    "\n",
    "# #X_test = tf.convert_to_tensor(X_test)\n",
    "# #Y_test = tf.convert_to_tensor(Y_test)\n",
    "# loss, accuracy = model.evaluate(X_test, Y_test)\n",
    "# print(\"Accuracy: \", accuracy)"
   ]
  },
  {
   "cell_type": "markdown",
   "id": "47921e4d",
   "metadata": {
    "papermill": {
     "duration": 0.013549,
     "end_time": "2023-11-19T00:54:44.394881",
     "exception": false,
     "start_time": "2023-11-19T00:54:44.381332",
     "status": "completed"
    },
    "tags": []
   },
   "source": [
    "# Testing model on real test set and Submitting Model (Accuracy: 0.755)\n"
   ]
  },
  {
   "cell_type": "code",
   "execution_count": 10,
   "id": "c7fc0aa0",
   "metadata": {
    "execution": {
     "iopub.execute_input": "2023-11-19T00:54:44.424562Z",
     "iopub.status.busy": "2023-11-19T00:54:44.423836Z",
     "iopub.status.idle": "2023-11-19T00:54:44.458330Z",
     "shell.execute_reply": "2023-11-19T00:54:44.456789Z"
    },
    "papermill": {
     "duration": 0.051853,
     "end_time": "2023-11-19T00:54:44.460619",
     "exception": false,
     "start_time": "2023-11-19T00:54:44.408766",
     "status": "completed"
    },
    "tags": []
   },
   "outputs": [
    {
     "name": "stdout",
     "output_type": "stream",
     "text": [
      "Index(['Pclass', 'Fare', 'Sex_female', 'Sex_male', 'PassengerId'], dtype='object')\n",
      "(418, 4)\n",
      "(418,)\n",
      "(418, 5)\n",
      "Your submission was successfully saved!\n"
     ]
    }
   ],
   "source": [
    "test_data = pd.read_csv(\"/kaggle/input/titanic/test.csv\")\n",
    "features = [\"Pclass\", \"Sex\", \"Fare\"]\n",
    "test_X = pd.get_dummies(test_data[features])\n",
    "#test_X = test_X.dropna()\n",
    "#print(test_X[\"Sex_female\"])\n",
    "test_X['Fare'].fillna(test_X['Fare'].median(), inplace=True)\n",
    "\n",
    "# Impute categorical columns with the mode\n",
    "for column in ['Pclass']:\n",
    "    test_X[column].fillna(test_X[column].mode()[0], inplace=True)\n",
    "\n",
    "for column in [\"Sex_female\"]:\n",
    "    test_X[column].fillna(False, inplace=True)\n",
    "    \n",
    "for column in ['Sex_male']:\n",
    "    test_X[column].fillna(True, inplace=True)\n",
    "  \n",
    "  \n",
    "\n",
    "\n",
    "# print(test_data)\n",
    "# print(X_test)\n",
    "\n",
    "#model.fit(X_train, Y_train)\n",
    "\n",
    "predictions = model.predict(test_X)\n",
    "\n",
    "#test_data = test_data.dropna(subset=['Pclass', 'Sex', 'Fare'])\n",
    "\n",
    "pass_id = test_data['PassengerId']\n",
    "\n",
    "test_data = test_data.drop('PassengerId', axis=1)\n",
    "test_data = pd.get_dummies(test_data[features])\n",
    "\n",
    "test_data[\"PassengerId\"] = pass_id\n",
    "\n",
    "test_data['Fare'].fillna(test_data['Fare'].median(), inplace=True)\n",
    "\n",
    "print(test_data.columns)\n",
    "\n",
    "# Impute categorical columns with the mode\n",
    "for column in ['Pclass']:\n",
    "    test_data[column].fillna(test_data[column].mode()[0], inplace=True)\n",
    "\n",
    "for column in ['Sex_female']:\n",
    "    test_data[column].fillna(False, inplace=True)\n",
    "    \n",
    "for column in ['Sex_male']:\n",
    "    test_data[column].fillna(True, inplace=True)\n",
    "\n",
    "print(test_X.shape)\n",
    "print(predictions.shape)\n",
    "print(test_data.shape)\n",
    "\n",
    "output = pd.DataFrame({'PassengerId': test_data.PassengerId, 'Survived': predictions})\n",
    "output.to_csv('submission.csv', index=False)\n",
    "print(\"Your submission was successfully saved!\")"
   ]
  },
  {
   "cell_type": "markdown",
   "id": "975f1899",
   "metadata": {
    "papermill": {
     "duration": 0.013881,
     "end_time": "2023-11-19T00:54:44.488810",
     "exception": false,
     "start_time": "2023-11-19T00:54:44.474929",
     "status": "completed"
    },
    "tags": []
   },
   "source": [
    "**The accuracy of the model was 0.755**"
   ]
  },
  {
   "cell_type": "markdown",
   "id": "e24608a2",
   "metadata": {
    "papermill": {
     "duration": 0.013807,
     "end_time": "2023-11-19T00:54:44.516683",
     "exception": false,
     "start_time": "2023-11-19T00:54:44.502876",
     "status": "completed"
    },
    "tags": []
   },
   "source": [
    "# After first submission, I will now try and edit the neural network to improve the accurary\n"
   ]
  },
  {
   "cell_type": "code",
   "execution_count": 11,
   "id": "a125aa6f",
   "metadata": {
    "execution": {
     "iopub.execute_input": "2023-11-19T00:54:44.547276Z",
     "iopub.status.busy": "2023-11-19T00:54:44.546239Z",
     "iopub.status.idle": "2023-11-19T00:54:44.799167Z",
     "shell.execute_reply": "2023-11-19T00:54:44.797803Z"
    },
    "papermill": {
     "duration": 0.27098,
     "end_time": "2023-11-19T00:54:44.801695",
     "exception": false,
     "start_time": "2023-11-19T00:54:44.530715",
     "status": "completed"
    },
    "tags": []
   },
   "outputs": [
    {
     "name": "stdout",
     "output_type": "stream",
     "text": [
      "Accuracy: 0.82\n"
     ]
    }
   ],
   "source": [
    "model = MLPClassifier(hidden_layer_sizes=(14, 4), activation='relu', solver='lbfgs', max_iter=1000, random_state=42)\n",
    "\n",
    "model.fit(X_train, Y_train)\n",
    "\n",
    "y_pred = model.predict(X_test)\n",
    "\n",
    "print(f\"Accuracy: {accuracy_score(Y_test, y_pred):.2f}\")\n",
    "\n"
   ]
  },
  {
   "cell_type": "markdown",
   "id": "1176c2c0",
   "metadata": {
    "papermill": {
     "duration": 0.013953,
     "end_time": "2023-11-19T00:54:44.829923",
     "exception": false,
     "start_time": "2023-11-19T00:54:44.815970",
     "status": "completed"
    },
    "tags": []
   },
   "source": [
    "**I edited  the hidden layer sizes**\n"
   ]
  },
  {
   "cell_type": "markdown",
   "id": "69c89222",
   "metadata": {
    "papermill": {
     "duration": 0.013922,
     "end_time": "2023-11-19T00:54:44.857901",
     "exception": false,
     "start_time": "2023-11-19T00:54:44.843979",
     "status": "completed"
    },
    "tags": []
   },
   "source": [
    "# Second submission (accuracy: 0.76)\n"
   ]
  },
  {
   "cell_type": "code",
   "execution_count": 12,
   "id": "d695a18d",
   "metadata": {
    "execution": {
     "iopub.execute_input": "2023-11-19T00:54:44.888541Z",
     "iopub.status.busy": "2023-11-19T00:54:44.887772Z",
     "iopub.status.idle": "2023-11-19T00:54:44.914804Z",
     "shell.execute_reply": "2023-11-19T00:54:44.913483Z"
    },
    "papermill": {
     "duration": 0.044901,
     "end_time": "2023-11-19T00:54:44.916973",
     "exception": false,
     "start_time": "2023-11-19T00:54:44.872072",
     "status": "completed"
    },
    "tags": []
   },
   "outputs": [
    {
     "name": "stdout",
     "output_type": "stream",
     "text": [
      "done\n",
      "Index(['Pclass', 'Fare', 'Sex_female', 'Sex_male', 'PassengerId'], dtype='object')\n",
      "(418, 4)\n",
      "(418,)\n",
      "(418, 5)\n",
      "Your submission was successfully saved!\n"
     ]
    }
   ],
   "source": [
    "test_data = pd.read_csv(\"/kaggle/input/titanic/test.csv\")\n",
    "features = [\"Pclass\", \"Sex\", \"Fare\"]\n",
    "test_X = pd.get_dummies(test_data[features])\n",
    "\n",
    "test_X['Fare'].fillna(test_X['Fare'].median(), inplace=True)\n",
    "\n",
    "# Impute categorical columns with the mode\n",
    "for column in ['Pclass']:\n",
    "    test_X[column].fillna(test_X[column].mode()[0], inplace=True)\n",
    "\n",
    "for column in [\"Sex_female\"]:\n",
    "    test_X[column].fillna(False, inplace=True)\n",
    "    \n",
    "for column in ['Sex_male']:\n",
    "    test_X[column].fillna(True, inplace=True)\n",
    "\n",
    "print(\"done\")\n",
    "\n",
    "predictions2 = model.predict(test_X)\n",
    "\n",
    "pass_id = test_data['PassengerId']\n",
    "\n",
    "test_data = test_data.drop('PassengerId', axis=1)\n",
    "test_data = pd.get_dummies(test_data[features])\n",
    "\n",
    "test_data[\"PassengerId\"] = pass_id\n",
    "\n",
    "print(test_data.columns)\n",
    "\n",
    "print(test_X.shape)\n",
    "print(predictions2.shape)\n",
    "print(test_data.shape)\n",
    "\n",
    "output = pd.DataFrame({'PassengerId': test_data.PassengerId, 'Survived': predictions2})\n",
    "output.to_csv('submission.csv', index=False)\n",
    "print(\"Your submission was successfully saved!\")"
   ]
  },
  {
   "cell_type": "markdown",
   "id": "6a8eb6df",
   "metadata": {
    "papermill": {
     "duration": 0.013939,
     "end_time": "2023-11-19T00:54:44.945153",
     "exception": false,
     "start_time": "2023-11-19T00:54:44.931214",
     "status": "completed"
    },
    "tags": []
   },
   "source": [
    "**Here, from the code above, I went from a 0.755 to a 0.76 by editing the hidden layer sizes. However, this wasn't much of a big change and the accuracy of the model is still worse than the 0.775 which I achieved through a simple Random Decision Forest Model.**\n"
   ]
  },
  {
   "cell_type": "markdown",
   "id": "17c07e80",
   "metadata": {
    "papermill": {
     "duration": 0.015021,
     "end_time": "2023-11-19T00:54:44.974471",
     "exception": false,
     "start_time": "2023-11-19T00:54:44.959450",
     "status": "completed"
    },
    "tags": []
   },
   "source": [
    "**From this code, I realized that I should be imputing and cleaning the data BEFORE I use pd.get_dummies(). This is because pd.get_dummies() adds a lot more columns to the data because it turns all categorial columns to multiple binary columns which puts a 0 or 1 in each row. So, I should be cleaming up the data BEFORE I use pd.get_dummies() since pd.get_dummies adds so many more columns to the data and makes the data so much harder to clean. \n",
    "For example, it's hard to impute values in the \"age\" column after you do pd.get_Dummies() since imputing age relies on finding the average age of each person and it's a lot easier to find the average age is the all the ages were in a single column but if we do pd.get_Dummies, we are going to split up the age column into many more age columns which correspond to each unique age value in the data set**"
   ]
  },
  {
   "cell_type": "markdown",
   "id": "f31249c0",
   "metadata": {
    "papermill": {
     "duration": 0.014116,
     "end_time": "2023-11-19T00:54:45.002867",
     "exception": false,
     "start_time": "2023-11-19T00:54:44.988751",
     "status": "completed"
    },
    "tags": []
   },
   "source": []
  },
  {
   "cell_type": "markdown",
   "id": "0fd6aab8",
   "metadata": {
    "papermill": {
     "duration": 0.014193,
     "end_time": "2023-11-19T00:54:45.031351",
     "exception": false,
     "start_time": "2023-11-19T00:54:45.017158",
     "status": "completed"
    },
    "tags": []
   },
   "source": [
    "# Now I will re-initialize my data set and clean up my data before using pd.get_dummies()"
   ]
  },
  {
   "cell_type": "markdown",
   "id": "7b893a06",
   "metadata": {
    "papermill": {
     "duration": 0.013813,
     "end_time": "2023-11-19T00:54:45.060145",
     "exception": false,
     "start_time": "2023-11-19T00:54:45.046332",
     "status": "completed"
    },
    "tags": []
   },
   "source": [
    "**I set up X_train and Y_train, but this time, instead of doing pd.get_Dummies() on X_train, I'm not going to use pd.get_Dummies() until after I clean up the data**"
   ]
  },
  {
   "cell_type": "code",
   "execution_count": 13,
   "id": "88027451",
   "metadata": {
    "execution": {
     "iopub.execute_input": "2023-11-19T00:54:45.091063Z",
     "iopub.status.busy": "2023-11-19T00:54:45.090001Z",
     "iopub.status.idle": "2023-11-19T00:54:45.108450Z",
     "shell.execute_reply": "2023-11-19T00:54:45.106877Z"
    },
    "papermill": {
     "duration": 0.036548,
     "end_time": "2023-11-19T00:54:45.111010",
     "exception": false,
     "start_time": "2023-11-19T00:54:45.074462",
     "status": "completed"
    },
    "tags": []
   },
   "outputs": [
    {
     "name": "stdout",
     "output_type": "stream",
     "text": [
      "   PassengerId  Survived  Pclass  \\\n",
      "0            1         0       3   \n",
      "1            2         1       1   \n",
      "2            3         1       3   \n",
      "3            4         1       1   \n",
      "4            5         0       3   \n",
      "\n",
      "                                                Name     Sex   Age  SibSp  \\\n",
      "0                            Braund, Mr. Owen Harris    male  22.0      1   \n",
      "1  Cumings, Mrs. John Bradley (Florence Briggs Th...  female  38.0      1   \n",
      "2                             Heikkinen, Miss. Laina  female  26.0      0   \n",
      "3       Futrelle, Mrs. Jacques Heath (Lily May Peel)  female  35.0      1   \n",
      "4                           Allen, Mr. William Henry    male  35.0      0   \n",
      "\n",
      "   Parch            Ticket     Fare Cabin Embarked  \n",
      "0      0         A/5 21171   7.2500   NaN        S  \n",
      "1      0          PC 17599  71.2833   C85        C  \n",
      "2      0  STON/O2. 3101282   7.9250   NaN        S  \n",
      "3      0            113803  53.1000  C123        S  \n",
      "4      0            373450   8.0500   NaN        S  \n"
     ]
    }
   ],
   "source": [
    "train_data = pd.read_csv(\"/kaggle/input/titanic/train.csv\")\n",
    "\n",
    "features = [\"Pclass\", \"Sex\", \"Fare\",\"Age\", \"SibSp\", \"Parch\"] # Here, I also added more features which I think might be useful\n",
    "\n",
    "X_train = train_data # I won't actually limit the X_train to just the columns of the features I want just yet. This is because I will use the other columns in the data set to help impute missing values\n",
    "\n",
    "Y_train = train_data[\"Survived\"]\n",
    "\n",
    "print(X_train.head())\n"
   ]
  },
  {
   "cell_type": "markdown",
   "id": "9892b5d4",
   "metadata": {
    "papermill": {
     "duration": 0.014094,
     "end_time": "2023-11-19T00:54:45.139832",
     "exception": false,
     "start_time": "2023-11-19T00:54:45.125738",
     "status": "completed"
    },
    "tags": []
   },
   "source": [
    "# Start cleaning up the data"
   ]
  },
  {
   "cell_type": "code",
   "execution_count": 14,
   "id": "9e3ddac7",
   "metadata": {
    "execution": {
     "iopub.execute_input": "2023-11-19T00:54:45.170337Z",
     "iopub.status.busy": "2023-11-19T00:54:45.169964Z",
     "iopub.status.idle": "2023-11-19T00:54:45.181032Z",
     "shell.execute_reply": "2023-11-19T00:54:45.179979Z"
    },
    "papermill": {
     "duration": 0.029071,
     "end_time": "2023-11-19T00:54:45.183332",
     "exception": false,
     "start_time": "2023-11-19T00:54:45.154261",
     "status": "completed"
    },
    "tags": []
   },
   "outputs": [
    {
     "name": "stdout",
     "output_type": "stream",
     "text": [
      "0\n",
      "0\n",
      "0\n",
      "0\n",
      "0\n",
      "177\n"
     ]
    }
   ],
   "source": [
    "# Impute missing values for Pclass\n",
    "\n",
    "average_Pclass = X_train[\"Pclass\"].median()\n",
    "\n",
    "X_train[\"Pclass\"].fillna(average_Pclass, inplace = True)\n",
    "\n",
    "print(X_train[\"Pclass\"].isnull().sum()) # print the number of rows in the \"Pclass\" columns that now have no value\n",
    "\n",
    "print(X_train[\"Sex\"].isnull().sum()) # Since this prints out 0, this means that there is no missing value in the \"Sex\" column so we don't need to impute anything\n",
    "\n",
    "print(X_train[\"Fare\"].isnull().sum()) # Since this prints out 0, this means that there is no missing value in the \"Fare\" column so we don't need to impute anything\n",
    "\n",
    "print(X_train[\"SibSp\"].isnull().sum()) # Since this prints out 0, this means that there is no missing value in the \"SibSp\" column so we don't need to impute anything\n",
    "\n",
    "print(X_train[\"Parch\"].isnull().sum()) # Since this prints out 0, this means that there is no missing value in the \"Parch\" column so we don't need to impute anything\n",
    "\n",
    "print(X_train[\"Age\"].isnull().sum()) # This prints out 177 so there are 177 rows with missing values in the \"Age\" column! This means we have to do a lot of imputing\n",
    "\n"
   ]
  },
  {
   "cell_type": "markdown",
   "id": "3e90249c",
   "metadata": {
    "papermill": {
     "duration": 0.014387,
     "end_time": "2023-11-19T00:54:45.212738",
     "exception": false,
     "start_time": "2023-11-19T00:54:45.198351",
     "status": "completed"
    },
    "tags": []
   },
   "source": [
    "**From this, we learned that age is the main column with missing values (of the columns that we are working with) so we need to methodically impute those missing values**"
   ]
  },
  {
   "cell_type": "markdown",
   "id": "757d415c",
   "metadata": {
    "papermill": {
     "duration": 0.014015,
     "end_time": "2023-11-19T00:54:45.241294",
     "exception": false,
     "start_time": "2023-11-19T00:54:45.227279",
     "status": "completed"
    },
    "tags": []
   },
   "source": [
    "# Cleaning up (imputing) the Age column using a Random Forest Regressor model (a type of Machine Learning model) that accurately predicts the age of a person given their "
   ]
  },
  {
   "cell_type": "code",
   "execution_count": 15,
   "id": "ad2755b5",
   "metadata": {
    "execution": {
     "iopub.execute_input": "2023-11-19T00:54:45.272197Z",
     "iopub.status.busy": "2023-11-19T00:54:45.271784Z",
     "iopub.status.idle": "2023-11-19T00:55:04.730214Z",
     "shell.execute_reply": "2023-11-19T00:55:04.729179Z"
    },
    "papermill": {
     "duration": 19.477173,
     "end_time": "2023-11-19T00:55:04.733376",
     "exception": false,
     "start_time": "2023-11-19T00:54:45.256203",
     "status": "completed"
    },
    "tags": []
   },
   "outputs": [
    {
     "name": "stdout",
     "output_type": "stream",
     "text": [
      "0\n"
     ]
    },
    {
     "name": "stderr",
     "output_type": "stream",
     "text": [
      "/opt/conda/lib/python3.10/site-packages/sklearn/impute/_iterative.py:785: ConvergenceWarning: [IterativeImputer] Early stopping criterion not reached.\n",
      "  warnings.warn(\n"
     ]
    }
   ],
   "source": [
    "from sklearn.experimental import enable_iterative_imputer\n",
    "from sklearn.impute import IterativeImputer\n",
    "from sklearn.ensemble import RandomForestRegressor\n",
    "from sklearn.preprocessing import LabelEncoder\n",
    "\n",
    "\n",
    "#We use \"LabelEncoder\" to turn all the categorial values (values which don't use numbers) into values which the Random Forest Regressor can understand more easily. This is very similar to doing something like pd.get_dummies()\n",
    "\n",
    "label_encoders = {}\n",
    "for column in ['Sex', 'Embarked']:\n",
    "    label_encoders[column] = LabelEncoder()\n",
    "    # We use 'astype(str)' to convert any NaN values to a string representation\n",
    "    X_train[column] = label_encoders[column].fit_transform(X_train[column].astype(str))\n",
    "\n",
    "features = ['Survived', 'Pclass', 'Sex', 'Age', 'SibSp', 'Parch', 'Fare', 'Embarked']\n",
    "# One very important thing that I will end up doing is using the \"Survived\" column of the dataset to predict the age. This is because there is a strong correleation between the survival and age. \n",
    "\n",
    "\n",
    "#This is an imputer. It is a function that can efficiently impute values in the way you want. For this scenario, I am using IterativeImputer() and the RandomForestRegressor(() to )\n",
    "imputer = IterativeImputer(RandomForestRegressor(n_estimators=10), max_iter=100, random_state=0)\n",
    "\n",
    "\n",
    "# Fit the imputer on the DataFrame with the features\n",
    "imputer.fit(X_train[features]) #When IterativeImputer is used alongside an ML model like RandomForestRegressor, calling .fit() on the IterativeImputer() object will also fit (train) the ML model\n",
    "\n",
    "\n",
    "# Perform the imputation on the Training Data. THIS WILL ACTUAL IMPUTE ANY MISSING VALUES IN EACH ROW, not only the missing values in Age.\n",
    "X_train_imputed = imputer.transform(X_train[features])\n",
    "\n",
    "\n",
    "# Convert the output back to a DataFrame\n",
    "X_train_imputed = pd.DataFrame(X_train_imputed, columns=features)\n",
    "\n",
    "# Update the original DataFrame with the imputed values. This means that the columns of the original X_train dataframe that weren't part of the features (like \"Name\" isn't apart of the features list)\n",
    "X_train[features] = X_train_imputed\n",
    "\n",
    "#print(X_train.head())\n",
    "\n",
    "print(X_train[\"Age\"].isnull().sum()) # Since this prints 0, we now know that there are 0 missing values in the age column and so the imputation was successful "
   ]
  },
  {
   "cell_type": "markdown",
   "id": "eca6ce7b",
   "metadata": {
    "papermill": {
     "duration": 0.014014,
     "end_time": "2023-11-19T00:55:04.762011",
     "exception": false,
     "start_time": "2023-11-19T00:55:04.747997",
     "status": "completed"
    },
    "tags": []
   },
   "source": [
    "**Using IterativeRegressor() and RandomForestRegressor(), I essentially used an ML model to impute any missing values in the dataset. I wanted to clean up the age column using the most effective method and I didn't want to just find the average age and impute all those values to the missing values. I wanted to be smart since age is an incredibly important feature.**"
   ]
  },
  {
   "cell_type": "markdown",
   "id": "574629dc",
   "metadata": {
    "papermill": {
     "duration": 0.014273,
     "end_time": "2023-11-19T00:55:04.790803",
     "exception": false,
     "start_time": "2023-11-19T00:55:04.776530",
     "status": "completed"
    },
    "tags": []
   },
   "source": [
    "**Using the ImperativeImputer(), this will actually impute all the missing values in each row. It won't only impute the missing values in the \"age\" column. BUT, since we already cleaned the data and know there are 0 missing values for all the other columns that we care about (the ones with the features we are using), the imputer will be imputing values only to the missing values of age and other columns that we don't care about, but out of all the columns we care about, it will only be affecting the age column since all the other columns we care about have 0 missing values as we checked in the code previously.**"
   ]
  },
  {
   "cell_type": "code",
   "execution_count": 16,
   "id": "37949847",
   "metadata": {
    "execution": {
     "iopub.execute_input": "2023-11-19T00:55:04.821691Z",
     "iopub.status.busy": "2023-11-19T00:55:04.821285Z",
     "iopub.status.idle": "2023-11-19T00:55:04.840548Z",
     "shell.execute_reply": "2023-11-19T00:55:04.839804Z"
    },
    "papermill": {
     "duration": 0.038085,
     "end_time": "2023-11-19T00:55:04.843450",
     "exception": false,
     "start_time": "2023-11-19T00:55:04.805365",
     "status": "completed"
    },
    "tags": []
   },
   "outputs": [
    {
     "name": "stdout",
     "output_type": "stream",
     "text": [
      "   Pclass  Sex     Fare   Age  SibSp  Parch\n",
      "0     3.0  1.0   7.2500  22.0    1.0    0.0\n",
      "1     1.0  0.0  71.2833  38.0    1.0    0.0\n",
      "2     3.0  0.0   7.9250  26.0    0.0    0.0\n",
      "3     1.0  0.0  53.1000  35.0    1.0    0.0\n",
      "4     3.0  1.0   8.0500  35.0    0.0    0.0\n",
      "314\n",
      "577\n",
      "   Pclass     Sex     Fare   Age  SibSp  Parch\n",
      "0     3.0    male   7.2500  22.0    1.0    0.0\n",
      "1     1.0  female  71.2833  38.0    1.0    0.0\n",
      "2     3.0  female   7.9250  26.0    0.0    0.0\n",
      "3     1.0  female  53.1000  35.0    1.0    0.0\n",
      "4     3.0    male   8.0500  35.0    0.0    0.0\n",
      "577\n"
     ]
    },
    {
     "name": "stderr",
     "output_type": "stream",
     "text": [
      "/tmp/ipykernel_20/1272774441.py:12: SettingWithCopyWarning: \n",
      "A value is trying to be set on a copy of a slice from a DataFrame.\n",
      "Try using .loc[row_indexer,col_indexer] = value instead\n",
      "\n",
      "See the caveats in the documentation: https://pandas.pydata.org/pandas-docs/stable/user_guide/indexing.html#returning-a-view-versus-a-copy\n",
      "  X_train['Sex'] = X_train['Sex'].map({0: 'female', 1: 'male'})\n"
     ]
    }
   ],
   "source": [
    "features = [\"Pclass\", \"Sex\", \"Fare\",\"Age\", \"SibSp\", \"Parch\"]\n",
    "\n",
    "X_train = X_train[features]\n",
    "\n",
    "print(X_train.head(5))\n",
    "\n",
    "print((X_train[\"Sex\"] == 0).sum())\n",
    "print((X_train[\"Sex\"] == 1).sum())\n",
    "\n",
    "# Since the dataset is 65% male, we can see from printing out the number of people with \"sex equal to 0\" and \"sex equal to 1\" that the LabelEncoder made Male into \"1\" and Female into \"0\". Now, let's change it back to \"Male\" and \"Female\".\n",
    "\n",
    "X_train['Sex'] = X_train['Sex'].map({0: 'female', 1: 'male'})\n",
    "\n",
    "print(X_train.head(5))\n",
    "\n",
    "print((X_train[\"Sex\"] == \"male\").sum())"
   ]
  },
  {
   "cell_type": "markdown",
   "id": "76e01c4f",
   "metadata": {
    "papermill": {
     "duration": 0.014356,
     "end_time": "2023-11-19T00:55:04.872431",
     "exception": false,
     "start_time": "2023-11-19T00:55:04.858075",
     "status": "completed"
    },
    "tags": []
   },
   "source": [
    "**Here, in the code above, I changed X_train back to focus only on the features we care about. I also changed the \"Sex\" column from 0 and 1 back to Male and Female.**"
   ]
  },
  {
   "cell_type": "markdown",
   "id": "7c897c6d",
   "metadata": {
    "papermill": {
     "duration": 0.014166,
     "end_time": "2023-11-19T00:55:04.900887",
     "exception": false,
     "start_time": "2023-11-19T00:55:04.886721",
     "status": "completed"
    },
    "tags": []
   },
   "source": [
    "# After the careful inspection of the test.csv, I see that there are also missing values in the test.csv. As a result, we have to clean up the data for test.csv as we did for train.csv"
   ]
  },
  {
   "cell_type": "markdown",
   "id": "6ee026f4",
   "metadata": {
    "papermill": {
     "duration": 0.014281,
     "end_time": "2023-11-19T00:55:04.929798",
     "exception": false,
     "start_time": "2023-11-19T00:55:04.915517",
     "status": "completed"
    },
    "tags": []
   },
   "source": [
    "**Seeing which columns have missing values:**"
   ]
  },
  {
   "cell_type": "code",
   "execution_count": 17,
   "id": "f5f5e852",
   "metadata": {
    "execution": {
     "iopub.execute_input": "2023-11-19T00:55:04.960333Z",
     "iopub.status.busy": "2023-11-19T00:55:04.959919Z",
     "iopub.status.idle": "2023-11-19T00:55:04.973325Z",
     "shell.execute_reply": "2023-11-19T00:55:04.972468Z"
    },
    "papermill": {
     "duration": 0.031265,
     "end_time": "2023-11-19T00:55:04.975479",
     "exception": false,
     "start_time": "2023-11-19T00:55:04.944214",
     "status": "completed"
    },
    "tags": []
   },
   "outputs": [
    {
     "name": "stdout",
     "output_type": "stream",
     "text": [
      "0\n",
      "0\n",
      "0\n",
      "0\n",
      "1\n",
      "86\n"
     ]
    }
   ],
   "source": [
    "test_data = pd.read_csv(\"/kaggle/input/titanic/test.csv\")\n",
    "\n",
    "features = [\"Pclass\", \"Sex\", \"Fare\",\"Age\", \"SibSp\", \"Parch\"]\n",
    "\n",
    "print(test_data[\"Pclass\"].isnull().sum()) # Since this is 0, that means there is no missing values\n",
    "\n",
    "print(test_data[\"Sex\"].isnull().sum()) # Since this is 0, that means there is no missing values\n",
    "\n",
    "print(test_data[\"SibSp\"].isnull().sum()) # Since this is 0, that means there is no missing values\n",
    "\n",
    "print(test_data[\"Parch\"].isnull().sum()) # Since this is 0, that means there is no missing values\n",
    "\n",
    "print(test_data[\"Fare\"].isnull().sum()) # Since this is 1, that means there is one missing value\n",
    "\n",
    "print(test_data[\"Age\"].isnull().sum()) # Since this is 86, that means there are 86 missing values\n"
   ]
  },
  {
   "cell_type": "markdown",
   "id": "585a4153",
   "metadata": {
    "papermill": {
     "duration": 0.014089,
     "end_time": "2023-11-19T00:55:05.004223",
     "exception": false,
     "start_time": "2023-11-19T00:55:04.990134",
     "status": "completed"
    },
    "tags": []
   },
   "source": [
    "**From this, we can see that only \"Fare\" annd \"Age\" have missing values. Since \"Fare\" only has one missing value, it's not worth it to go to through all the work to do some advanced imputation technique to fill in missing values. So, I will just fill that in with the average fare value.**\n",
    "\n",
    "**For the \"Age\" feature, I will repeat the process of using an IterativeImputer and a RandomForestRegressor to imputate missing values**"
   ]
  },
  {
   "cell_type": "code",
   "execution_count": 18,
   "id": "cc33992a",
   "metadata": {
    "execution": {
     "iopub.execute_input": "2023-11-19T00:55:05.036620Z",
     "iopub.status.busy": "2023-11-19T00:55:05.036049Z",
     "iopub.status.idle": "2023-11-19T00:55:05.043748Z",
     "shell.execute_reply": "2023-11-19T00:55:05.042423Z"
    },
    "papermill": {
     "duration": 0.026183,
     "end_time": "2023-11-19T00:55:05.045828",
     "exception": false,
     "start_time": "2023-11-19T00:55:05.019645",
     "status": "completed"
    },
    "tags": []
   },
   "outputs": [
    {
     "name": "stdout",
     "output_type": "stream",
     "text": [
      "0\n"
     ]
    }
   ],
   "source": [
    "average_fare = test_data[\"Fare\"].mean()\n",
    "\n",
    "test_data[\"Fare\"].fillna(average_fare, inplace = True) # This replaces the single missing value in \"Fare\" with the average value Fare Value of the test data\n",
    "\n",
    "print(test_data[\"Fare\"].isnull().sum())"
   ]
  },
  {
   "cell_type": "code",
   "execution_count": 19,
   "id": "5dbfa0ad",
   "metadata": {
    "execution": {
     "iopub.execute_input": "2023-11-19T00:55:05.077557Z",
     "iopub.status.busy": "2023-11-19T00:55:05.077135Z",
     "iopub.status.idle": "2023-11-19T00:55:17.717424Z",
     "shell.execute_reply": "2023-11-19T00:55:17.716127Z"
    },
    "papermill": {
     "duration": 12.658845,
     "end_time": "2023-11-19T00:55:17.719678",
     "exception": false,
     "start_time": "2023-11-19T00:55:05.060833",
     "status": "completed"
    },
    "tags": []
   },
   "outputs": [
    {
     "name": "stdout",
     "output_type": "stream",
     "text": [
      "0\n",
      "   PassengerId  Pclass                                          Name  Sex  \\\n",
      "0          892     3.0                              Kelly, Mr. James  1.0   \n",
      "1          893     3.0              Wilkes, Mrs. James (Ellen Needs)  0.0   \n",
      "2          894     2.0                     Myles, Mr. Thomas Francis  1.0   \n",
      "3          895     3.0                              Wirz, Mr. Albert  1.0   \n",
      "4          896     3.0  Hirvonen, Mrs. Alexander (Helga E Lindqvist)  0.0   \n",
      "\n",
      "    Age  SibSp  Parch   Ticket     Fare Cabin  Embarked  \n",
      "0  34.5    0.0    0.0   330911   7.8292   NaN       1.0  \n",
      "1  47.0    1.0    0.0   363272   7.0000   NaN       2.0  \n",
      "2  62.0    0.0    0.0   240276   9.6875   NaN       1.0  \n",
      "3  27.0    0.0    0.0   315154   8.6625   NaN       2.0  \n",
      "4  22.0    1.0    1.0  3101298  12.2875   NaN       2.0  \n"
     ]
    },
    {
     "name": "stderr",
     "output_type": "stream",
     "text": [
      "/opt/conda/lib/python3.10/site-packages/sklearn/impute/_iterative.py:785: ConvergenceWarning: [IterativeImputer] Early stopping criterion not reached.\n",
      "  warnings.warn(\n"
     ]
    }
   ],
   "source": [
    "from sklearn.experimental import enable_iterative_imputer\n",
    "from sklearn.impute import IterativeImputer\n",
    "from sklearn.ensemble import RandomForestRegressor\n",
    "from sklearn.preprocessing import LabelEncoder\n",
    "\n",
    "\n",
    "#We use \"LabelEncoder\" to turn all the categorial values (values which don't use numbers) into values which the Random Forest Regressor can understand more easily. This is very similar to doing something like pd.get_dummies()\n",
    "\n",
    "label_encoders = {}\n",
    "for column in ['Sex', 'Embarked']:\n",
    "    label_encoders[column] = LabelEncoder()\n",
    "    # We use 'astype(str)' to convert any NaN values to a string representation\n",
    "    test_data[column] = label_encoders[column].fit_transform(test_data[column].astype(str))\n",
    "\n",
    "features = ['Pclass', 'Sex', 'Age', 'SibSp', 'Parch', 'Fare', 'Embarked']\n",
    "\n",
    "\n",
    "#This is an imputer. It is a function that can efficiently impute values in the way you want. For this scenario, I am using IterativeImputer() and the RandomForestRegressor(() to )\n",
    "imputer = IterativeImputer(RandomForestRegressor(n_estimators=10), max_iter=100, random_state=0)\n",
    "\n",
    "\n",
    "# Fit the imputer on the DataFrame with the features\n",
    "imputer.fit(test_data[features]) #When IterativeImputer is used alongside an ML model like RandomForestRegressor, calling .fit() on the IterativeImputer() object will also fit (train) the ML model\n",
    "\n",
    "\n",
    "# Perform the imputation on the Test Data. THIS WILL ACTUAL IMPUTE ANY MISSING VALUES IN EACH ROW, not only the missing values in Age.\n",
    "test_data_imputed = imputer.transform(test_data[features])\n",
    "\n",
    "\n",
    "# Convert the output back to a DataFrame\n",
    "test_data_imputed = pd.DataFrame(test_data_imputed, columns=features)\n",
    "\n",
    "# Update the original DataFrame with the imputed values. This means that the columns of the original test_data dataframe that weren't part of the features (like \"Name\" isn't apart of the features list)\n",
    "test_data[features] = test_data_imputed\n",
    "\n",
    "print(test_data[\"Age\"].isnull().sum()) # Since this prints 0, we now know that there are 0 missing values in the age column and so the imputation was successful \n",
    "\n",
    "print(test_data.head())"
   ]
  },
  {
   "cell_type": "markdown",
   "id": "c1f1906a",
   "metadata": {
    "papermill": {
     "duration": 0.014877,
     "end_time": "2023-11-19T00:55:17.749823",
     "exception": false,
     "start_time": "2023-11-19T00:55:17.734946",
     "status": "completed"
    },
    "tags": []
   },
   "source": [
    "**The code above will imputate all the missing values in the test_data**"
   ]
  },
  {
   "cell_type": "markdown",
   "id": "696ce205",
   "metadata": {
    "papermill": {
     "duration": 0.01481,
     "end_time": "2023-11-19T00:55:17.779843",
     "exception": false,
     "start_time": "2023-11-19T00:55:17.765033",
     "status": "completed"
    },
    "tags": []
   },
   "source": [
    "# Finalize the cleaning of the data and make it so test_data only has the features we want"
   ]
  },
  {
   "cell_type": "code",
   "execution_count": 20,
   "id": "b81a4d23",
   "metadata": {
    "execution": {
     "iopub.execute_input": "2023-11-19T00:55:17.812529Z",
     "iopub.status.busy": "2023-11-19T00:55:17.811193Z",
     "iopub.status.idle": "2023-11-19T00:55:17.826640Z",
     "shell.execute_reply": "2023-11-19T00:55:17.825653Z"
    },
    "papermill": {
     "duration": 0.034093,
     "end_time": "2023-11-19T00:55:17.828958",
     "exception": false,
     "start_time": "2023-11-19T00:55:17.794865",
     "status": "completed"
    },
    "tags": []
   },
   "outputs": [
    {
     "name": "stdout",
     "output_type": "stream",
     "text": [
      "152\n",
      "266\n",
      "   Pclass     Sex     Fare   Age  SibSp  Parch\n",
      "0     3.0    male   7.8292  34.5    0.0    0.0\n",
      "1     3.0  female   7.0000  47.0    1.0    0.0\n",
      "2     2.0    male   9.6875  62.0    0.0    0.0\n",
      "3     3.0    male   8.6625  27.0    0.0    0.0\n",
      "4     3.0  female  12.2875  22.0    1.0    1.0\n",
      "266\n"
     ]
    }
   ],
   "source": [
    "features = [\"Pclass\", \"Sex\", \"Fare\",\"Age\", \"SibSp\", \"Parch\"]\n",
    "\n",
    "test_data = test_data[features]\n",
    "\n",
    "print((test_data[\"Sex\"] == 0).sum())\n",
    "print((test_data[\"Sex\"] == 1).sum())\n",
    "\n",
    "# Since the dataset is 65% male, we can see from printing out the number of people with \"sex equal to 0\" and \"sex equal to 1\" that the LabelEncoder made Male into \"1\" and Female into \"0\". Now, let's change it back to \"male\" and \"female\".\n",
    "\n",
    "test_data['Sex'] = test_data['Sex'].map({0: 'female', 1: 'male'})\n",
    "\n",
    "print(test_data.head(5))\n",
    "\n",
    "print((test_data[\"Sex\"] == \"male\").sum())"
   ]
  },
  {
   "cell_type": "markdown",
   "id": "9ef0aa07",
   "metadata": {
    "papermill": {
     "duration": 0.015457,
     "end_time": "2023-11-19T00:55:17.859559",
     "exception": false,
     "start_time": "2023-11-19T00:55:17.844102",
     "status": "completed"
    },
    "tags": []
   },
   "source": [
    "# Now, after cleaning up the data, I can split up the data into train_validation_test "
   ]
  },
  {
   "cell_type": "code",
   "execution_count": 21,
   "id": "4fcf0729",
   "metadata": {
    "execution": {
     "iopub.execute_input": "2023-11-19T00:55:17.906121Z",
     "iopub.status.busy": "2023-11-19T00:55:17.905367Z",
     "iopub.status.idle": "2023-11-19T00:55:17.913821Z",
     "shell.execute_reply": "2023-11-19T00:55:17.912980Z"
    },
    "papermill": {
     "duration": 0.03503,
     "end_time": "2023-11-19T00:55:17.916372",
     "exception": false,
     "start_time": "2023-11-19T00:55:17.881342",
     "status": "completed"
    },
    "tags": []
   },
   "outputs": [],
   "source": [
    "from sklearn.model_selection import train_test_split\n",
    "\n",
    "Y_train = train_data[\"Survived\"]\n",
    "\n",
    "# First, split into training (60%) and a test set (40%)\n",
    "train_X, test_X, train_Y, test_Y = train_test_split(X_train, Y_train, test_size=0.4, random_state = 42)\n",
    "\n",
    "#Second, split test set into a validation (20%) and test set (20%)\n",
    "valid_X, test_X, valid_Y, test_Y= train_test_split(test_X, test_Y, test_size = 0.5, random_state = 42)"
   ]
  },
  {
   "cell_type": "markdown",
   "id": "d974438d",
   "metadata": {
    "papermill": {
     "duration": 0.01466,
     "end_time": "2023-11-19T00:55:17.951650",
     "exception": false,
     "start_time": "2023-11-19T00:55:17.936990",
     "status": "completed"
    },
    "tags": []
   },
   "source": [
    "# Using pd.get_dummies() on all the data"
   ]
  },
  {
   "cell_type": "markdown",
   "id": "ad483def",
   "metadata": {
    "papermill": {
     "duration": 0.016748,
     "end_time": "2023-11-19T00:55:17.983325",
     "exception": false,
     "start_time": "2023-11-19T00:55:17.966577",
     "status": "completed"
    },
    "tags": []
   },
   "source": [
    "**Setting up the Test data (from Test.csv) (This is NOT the test data from the Train_validation_test split):**"
   ]
  },
  {
   "cell_type": "code",
   "execution_count": 22,
   "id": "95d1954a",
   "metadata": {
    "execution": {
     "iopub.execute_input": "2023-11-19T00:55:18.017220Z",
     "iopub.status.busy": "2023-11-19T00:55:18.016524Z",
     "iopub.status.idle": "2023-11-19T00:55:18.034010Z",
     "shell.execute_reply": "2023-11-19T00:55:18.032688Z"
    },
    "papermill": {
     "duration": 0.036344,
     "end_time": "2023-11-19T00:55:18.036109",
     "exception": false,
     "start_time": "2023-11-19T00:55:17.999765",
     "status": "completed"
    },
    "tags": []
   },
   "outputs": [
    {
     "name": "stdout",
     "output_type": "stream",
     "text": [
      "   Pclass     Fare   Age  SibSp  Parch  Sex_female  Sex_male\n",
      "0     3.0   7.8292  34.5    0.0    0.0       False      True\n",
      "1     3.0   7.0000  47.0    1.0    0.0        True     False\n",
      "2     2.0   9.6875  62.0    0.0    0.0       False      True\n",
      "3     3.0   8.6625  27.0    0.0    0.0       False      True\n",
      "4     3.0  12.2875  22.0    1.0    1.0        True     False\n"
     ]
    }
   ],
   "source": [
    "test_data = test_data #the \"test_data\" variable here is after we cleaned up the test_data \n",
    "\n",
    "features = [\"Pclass\", \"Sex\", \"Fare\",\"Age\", \"SibSp\", \"Parch\"]\n",
    "\n",
    "test_data = test_data[features]\n",
    "\n",
    "test_data= pd.get_dummies(test_data)\n",
    "print(test_data.head())"
   ]
  },
  {
   "cell_type": "markdown",
   "id": "6f957497",
   "metadata": {
    "papermill": {
     "duration": 0.015313,
     "end_time": "2023-11-19T00:55:18.066749",
     "exception": false,
     "start_time": "2023-11-19T00:55:18.051436",
     "status": "completed"
    },
    "tags": []
   },
   "source": [
    "**Setting up the Train data and Validation data and the Test data from the train_validation_test split:**"
   ]
  },
  {
   "cell_type": "code",
   "execution_count": 23,
   "id": "15441cd4",
   "metadata": {
    "execution": {
     "iopub.execute_input": "2023-11-19T00:55:18.100572Z",
     "iopub.status.busy": "2023-11-19T00:55:18.099792Z",
     "iopub.status.idle": "2023-11-19T00:55:18.127204Z",
     "shell.execute_reply": "2023-11-19T00:55:18.126448Z"
    },
    "papermill": {
     "duration": 0.047658,
     "end_time": "2023-11-19T00:55:18.129902",
     "exception": false,
     "start_time": "2023-11-19T00:55:18.082244",
     "status": "completed"
    },
    "tags": []
   },
   "outputs": [
    {
     "name": "stdout",
     "output_type": "stream",
     "text": [
      "     Pclass     Fare   Age  SibSp  Parch  Sex_female  Sex_male\n",
      "570     2.0  10.5000  62.0    0.0    0.0       False      True\n",
      "787     3.0  29.1250   8.0    4.0    1.0       False      True\n",
      "74      3.0  56.4958  32.0    0.0    0.0       False      True\n",
      "113     3.0   9.8250  20.0    1.0    0.0        True     False\n",
      "635     2.0  13.0000  28.0    0.0    0.0        True     False\n",
      "     Pclass     Fare      Age  SibSp  Parch  Sex_female  Sex_male\n",
      "849     1.0  89.1042  32.8500    1.0    0.0        True     False\n",
      "331     1.0  28.5000  45.5000    0.0    0.0       False      True\n",
      "260     3.0   7.7500  43.4025    0.0    0.0       False      True\n",
      "316     2.0  26.0000  24.0000    1.0    0.0        True     False\n",
      "292     2.0  12.8750  36.0000    0.0    0.0       False      True\n",
      "     Pclass     Fare        Age  SibSp  Parch  Sex_female  Sex_male\n",
      "424     3.0  20.2125  18.000000    1.0    1.0       False      True\n",
      "837     3.0   8.0500  32.403369    0.0    0.0       False      True\n",
      "525     3.0   7.7500  40.500000    0.0    0.0       False      True\n",
      "328     3.0  20.5250  31.000000    1.0    1.0        True     False\n",
      "70      2.0  10.5000  32.000000    0.0    0.0       False      True\n"
     ]
    }
   ],
   "source": [
    "train_X = pd.get_dummies(train_X)\n",
    "print(train_X.head())\n",
    "\n",
    "valid_X = pd.get_dummies(valid_X)\n",
    "print(valid_X.head())\n",
    "\n",
    "test_X = pd.get_dummies(test_X)\n",
    "print(test_X.head())"
   ]
  },
  {
   "cell_type": "markdown",
   "id": "6388802f",
   "metadata": {
    "papermill": {
     "duration": 0.018888,
     "end_time": "2023-11-19T00:55:18.172257",
     "exception": false,
     "start_time": "2023-11-19T00:55:18.153369",
     "status": "completed"
    },
    "tags": []
   },
   "source": [
    "# Making the model, training it using train_X and changing the model based on valid_X"
   ]
  },
  {
   "cell_type": "code",
   "execution_count": 24,
   "id": "ebe4bfcf",
   "metadata": {
    "execution": {
     "iopub.execute_input": "2023-11-19T00:55:18.206225Z",
     "iopub.status.busy": "2023-11-19T00:55:18.205291Z",
     "iopub.status.idle": "2023-11-19T00:55:19.042888Z",
     "shell.execute_reply": "2023-11-19T00:55:19.041875Z"
    },
    "papermill": {
     "duration": 0.857391,
     "end_time": "2023-11-19T00:55:19.045174",
     "exception": false,
     "start_time": "2023-11-19T00:55:18.187783",
     "status": "completed"
    },
    "tags": []
   },
   "outputs": [
    {
     "name": "stdout",
     "output_type": "stream",
     "text": [
      "Accuracy: 0.7752808988764045\n"
     ]
    }
   ],
   "source": [
    "from sklearn.neural_network import MLPClassifier\n",
    "from sklearn.metrics import accuracy_score\n",
    "\n",
    "model = MLPClassifier(hidden_layer_sizes = (20, 11), activation = \"relu\", solver = \"lbfgs\", max_iter = 1000, random_state = 42)\n",
    "\n",
    "model.fit(train_X, train_Y)\n",
    "\n",
    "y_pred = model.predict(valid_X)\n",
    "\n",
    "print(f\"Accuracy: {accuracy_score(valid_Y, y_pred)}\")"
   ]
  },
  {
   "cell_type": "markdown",
   "id": "66a64c27",
   "metadata": {
    "papermill": {
     "duration": 0.014905,
     "end_time": "2023-11-19T00:55:19.075557",
     "exception": false,
     "start_time": "2023-11-19T00:55:19.060652",
     "status": "completed"
    },
    "tags": []
   },
   "source": [
    "**From the code above, you can see that I am using the validation set to test out the code**"
   ]
  },
  {
   "cell_type": "code",
   "execution_count": 25,
   "id": "5952c823",
   "metadata": {
    "execution": {
     "iopub.execute_input": "2023-11-19T00:55:19.107940Z",
     "iopub.status.busy": "2023-11-19T00:55:19.107532Z",
     "iopub.status.idle": "2023-11-19T00:55:19.117554Z",
     "shell.execute_reply": "2023-11-19T00:55:19.116467Z"
    },
    "papermill": {
     "duration": 0.029024,
     "end_time": "2023-11-19T00:55:19.119906",
     "exception": false,
     "start_time": "2023-11-19T00:55:19.090882",
     "status": "completed"
    },
    "tags": []
   },
   "outputs": [
    {
     "name": "stdout",
     "output_type": "stream",
     "text": [
      "Accuracy: 0.8044692737430168\n"
     ]
    }
   ],
   "source": [
    "y_pred = model.predict(test_X)\n",
    "\n",
    "print(f\"Accuracy: {accuracy_score(test_Y, y_pred)}\")"
   ]
  },
  {
   "cell_type": "markdown",
   "id": "a69da69f",
   "metadata": {
    "papermill": {
     "duration": 0.015127,
     "end_time": "2023-11-19T00:55:19.150927",
     "exception": false,
     "start_time": "2023-11-19T00:55:19.135800",
     "status": "completed"
    },
    "tags": []
   },
   "source": [
    "# Using GridSearchCV to find the best parameters for my MLPClassifier Model"
   ]
  },
  {
   "cell_type": "markdown",
   "id": "0896bac6",
   "metadata": {
    "papermill": {
     "duration": 0.01604,
     "end_time": "2023-11-19T00:55:19.182532",
     "exception": false,
     "start_time": "2023-11-19T00:55:19.166492",
     "status": "completed"
    },
    "tags": []
   },
   "source": [
    "**The \"parameter space\" are all the different components and possible values which I want to try for my model**"
   ]
  },
  {
   "cell_type": "code",
   "execution_count": 26,
   "id": "a40f1d9e",
   "metadata": {
    "execution": {
     "iopub.execute_input": "2023-11-19T00:55:19.215840Z",
     "iopub.status.busy": "2023-11-19T00:55:19.214798Z",
     "iopub.status.idle": "2023-11-19T00:55:19.223697Z",
     "shell.execute_reply": "2023-11-19T00:55:19.222639Z"
    },
    "papermill": {
     "duration": 0.027753,
     "end_time": "2023-11-19T00:55:19.225985",
     "exception": false,
     "start_time": "2023-11-19T00:55:19.198232",
     "status": "completed"
    },
    "tags": []
   },
   "outputs": [],
   "source": [
    "# %%capture --no-stderr\n",
    "\n",
    "# # Code that causes warnings\n",
    "# import warnings\n",
    "# from sklearn.exceptions import ConvergenceWarning\n",
    "\n",
    "# # Suppress ConvergenceWarning\n",
    "# warnings.filterwarnings(\"ignore\", category=ConvergenceWarning)\n",
    "# warnings.filterwarnings('ignore')\n",
    "\n",
    "from sklearn.model_selection import GridSearchCV\n",
    "from sklearn.neural_network import MLPClassifier\n",
    "\n",
    "training_X = pd.concat([train_X, valid_X, test_X], ignore_index=True)\n",
    "training_Y = pd.concat([train_Y, valid_Y, test_Y], ignore_index=True)\n",
    "\n",
    "possible_hidden_layers = []\n",
    "\n",
    "for i in range(8,16):\n",
    "    for j in range(8,16):\n",
    "        possible_hidden_layers.append((i, j))\n",
    "\n",
    "parameter_space = {\n",
    "    'hidden_layer_sizes': possible_hidden_layers,\n",
    "    'activation': ['tanh', 'relu'],\n",
    "    'solver': ['sgd', 'adam', \"lbfgs\"],\n",
    "    'alpha': [0.0001, 0.05],\n",
    "    'learning_rate': ['constant','adaptive'],\n",
    "}\n",
    "\n",
    "# mlp = MLPClassifier(max_iter=1000, random_state = 42)\n",
    "\n",
    "# clf = GridSearchCV(model, parameter_space, n_jobs=-1, cv=3)\n",
    "\n",
    "# clf.fit(training_X, training_Y)\n",
    "\n",
    "# print('Best parameters found:\\n', clf.best_params_)\n",
    "\n",
    "# print('Best score (CV mean):', clf.best_score_)\n",
    "\n",
    "# print(\"Done\")\n",
    "\n"
   ]
  },
  {
   "cell_type": "markdown",
   "id": "81edfaca",
   "metadata": {
    "papermill": {
     "duration": 0.015141,
     "end_time": "2023-11-19T00:55:19.256638",
     "exception": false,
     "start_time": "2023-11-19T00:55:19.241497",
     "status": "completed"
    },
    "tags": []
   },
   "source": [
    "# Now that I found the best hyperparameters, I can finalize my model"
   ]
  },
  {
   "cell_type": "markdown",
   "id": "9eb848e2",
   "metadata": {
    "papermill": {
     "duration": 0.015024,
     "end_time": "2023-11-19T00:55:19.287046",
     "exception": false,
     "start_time": "2023-11-19T00:55:19.272022",
     "status": "completed"
    },
    "tags": []
   },
   "source": [
    "**Test using validation set:**"
   ]
  },
  {
   "cell_type": "code",
   "execution_count": 27,
   "id": "92943e54",
   "metadata": {
    "execution": {
     "iopub.execute_input": "2023-11-19T00:55:19.319990Z",
     "iopub.status.busy": "2023-11-19T00:55:19.319237Z",
     "iopub.status.idle": "2023-11-19T00:55:19.541215Z",
     "shell.execute_reply": "2023-11-19T00:55:19.540447Z"
    },
    "papermill": {
     "duration": 0.240413,
     "end_time": "2023-11-19T00:55:19.543201",
     "exception": false,
     "start_time": "2023-11-19T00:55:19.302788",
     "status": "completed"
    },
    "tags": []
   },
   "outputs": [
    {
     "name": "stdout",
     "output_type": "stream",
     "text": [
      "Accuracy: 0.8089887640449438\n"
     ]
    }
   ],
   "source": [
    "# Best parameters: {'activation': 'tanh', 'alpha': 0.05, 'hidden_layer_sizes': (13, 15), 'learning_rate': 'constant', 'solver': 'lbfgs'}\n",
    "# Best score (CV mean): 0.8282828282828283\n",
    "\n",
    "\n",
    "from sklearn.neural_network import MLPClassifier\n",
    "from sklearn.metrics import accuracy_score\n",
    "\n",
    "model = MLPClassifier(activation = \"relu\", alpha = 0.05, hidden_layer_sizes = (13, 15), learning_rate = \"constant\", solver = \"lbfgs\", max_iter=2000, random_state = 42)\n",
    "\n",
    "#model = MLPClassifier(activation = \"relu\", hidden_layer_sizes = (20, 11), solver = \"lbfgs\",  max_iter=2000, random_state = 42)\n",
    "\n",
    "model.fit(train_X, train_Y)\n",
    "\n",
    "y_pred = model.predict(valid_X)\n",
    "\n",
    "print(f\"Accuracy: {accuracy_score(valid_Y, y_pred)}\")"
   ]
  },
  {
   "cell_type": "markdown",
   "id": "db0bf62e",
   "metadata": {
    "papermill": {
     "duration": 0.015138,
     "end_time": "2023-11-19T00:55:19.573782",
     "exception": false,
     "start_time": "2023-11-19T00:55:19.558644",
     "status": "completed"
    },
    "tags": []
   },
   "source": [
    "**Test using test set (from Train-validation-test split)**"
   ]
  },
  {
   "cell_type": "code",
   "execution_count": 28,
   "id": "aad5aceb",
   "metadata": {
    "execution": {
     "iopub.execute_input": "2023-11-19T00:55:19.607465Z",
     "iopub.status.busy": "2023-11-19T00:55:19.607020Z",
     "iopub.status.idle": "2023-11-19T00:55:19.616194Z",
     "shell.execute_reply": "2023-11-19T00:55:19.615146Z"
    },
    "papermill": {
     "duration": 0.029118,
     "end_time": "2023-11-19T00:55:19.618313",
     "exception": false,
     "start_time": "2023-11-19T00:55:19.589195",
     "status": "completed"
    },
    "tags": []
   },
   "outputs": [
    {
     "name": "stdout",
     "output_type": "stream",
     "text": [
      "Accuracy: 0.8100558659217877\n"
     ]
    }
   ],
   "source": [
    "y_pred = model.predict(test_X)\n",
    "\n",
    "print(f\"Accuracy: {accuracy_score(test_Y, y_pred)}\")"
   ]
  },
  {
   "cell_type": "markdown",
   "id": "db9dab9f",
   "metadata": {
    "papermill": {
     "duration": 0.015064,
     "end_time": "2023-11-19T00:55:19.650047",
     "exception": false,
     "start_time": "2023-11-19T00:55:19.634983",
     "status": "completed"
    },
    "tags": []
   },
   "source": [
    "# Submitting Model 3"
   ]
  },
  {
   "cell_type": "code",
   "execution_count": 29,
   "id": "29ec7f27",
   "metadata": {
    "execution": {
     "iopub.execute_input": "2023-11-19T00:55:19.683026Z",
     "iopub.status.busy": "2023-11-19T00:55:19.682339Z",
     "iopub.status.idle": "2023-11-19T00:55:19.697917Z",
     "shell.execute_reply": "2023-11-19T00:55:19.696335Z"
    },
    "papermill": {
     "duration": 0.034668,
     "end_time": "2023-11-19T00:55:19.700190",
     "exception": false,
     "start_time": "2023-11-19T00:55:19.665522",
     "status": "completed"
    },
    "tags": []
   },
   "outputs": [
    {
     "name": "stdout",
     "output_type": "stream",
     "text": [
      "     Pclass      Fare        Age  SibSp  Parch  Sex_female  Sex_male\n",
      "0       3.0    7.8292  34.500000    0.0    0.0       False      True\n",
      "1       3.0    7.0000  47.000000    1.0    0.0        True     False\n",
      "2       2.0    9.6875  62.000000    0.0    0.0       False      True\n",
      "3       3.0    8.6625  27.000000    0.0    0.0       False      True\n",
      "4       3.0   12.2875  22.000000    1.0    1.0        True     False\n",
      "..      ...       ...        ...    ...    ...         ...       ...\n",
      "413     3.0    8.0500  26.594643    0.0    0.0       False      True\n",
      "414     1.0  108.9000  39.000000    0.0    0.0        True     False\n",
      "415     3.0    7.2500  38.500000    0.0    0.0       False      True\n",
      "416     3.0    8.0500  26.594643    0.0    0.0       False      True\n",
      "417     3.0   22.3583  19.700000    1.0    1.0       False      True\n",
      "\n",
      "[418 rows x 7 columns]\n"
     ]
    }
   ],
   "source": [
    "print(test_data)\n",
    "\n",
    "predictions3 = model.predict(test_data)"
   ]
  },
  {
   "cell_type": "code",
   "execution_count": 30,
   "id": "ff0d29e7",
   "metadata": {
    "execution": {
     "iopub.execute_input": "2023-11-19T00:55:19.734145Z",
     "iopub.status.busy": "2023-11-19T00:55:19.733558Z",
     "iopub.status.idle": "2023-11-19T00:55:19.748209Z",
     "shell.execute_reply": "2023-11-19T00:55:19.747456Z"
    },
    "papermill": {
     "duration": 0.034079,
     "end_time": "2023-11-19T00:55:19.750322",
     "exception": false,
     "start_time": "2023-11-19T00:55:19.716243",
     "status": "completed"
    },
    "tags": []
   },
   "outputs": [
    {
     "name": "stdout",
     "output_type": "stream",
     "text": [
      "Your submission was successfully saved!\n"
     ]
    }
   ],
   "source": [
    "original_test = pd.read_csv(\"/kaggle/input/titanic/test.csv\")\n",
    "\n",
    "pass_id = original_test['PassengerId']\n",
    "\n",
    "# original_test = original_test.drop('PassengerId', axis=1)\n",
    "# original_test = pd.get_dummies(original_test[features])\n",
    "\n",
    "test_data[\"PassengerId\"] = pass_id\n",
    "\n",
    "predictions3 = predictions3.astype(int)\n",
    "\n",
    "#print(predictions3)\n",
    "\n",
    "output = pd.DataFrame({'PassengerId': test_data.PassengerId, 'Survived': predictions3})\n",
    "output.to_csv('submission.csv', index=False)\n",
    "print(\"Your submission was successfully saved!\")"
   ]
  },
  {
   "cell_type": "markdown",
   "id": "a0c99035",
   "metadata": {
    "papermill": {
     "duration": 0.015264,
     "end_time": "2023-11-19T00:55:19.781425",
     "exception": false,
     "start_time": "2023-11-19T00:55:19.766161",
     "status": "completed"
    },
    "tags": []
   },
   "source": [
    "# Another thing I want to try to find an optimal number of nodes per hidden layer is using a for loop"
   ]
  },
  {
   "cell_type": "code",
   "execution_count": null,
   "id": "1969640c",
   "metadata": {
    "papermill": {
     "duration": 0.015563,
     "end_time": "2023-11-19T00:55:19.812735",
     "exception": false,
     "start_time": "2023-11-19T00:55:19.797172",
     "status": "completed"
    },
    "tags": []
   },
   "outputs": [],
   "source": []
  }
 ],
 "metadata": {
  "kaggle": {
   "accelerator": "none",
   "dataSources": [
    {
     "databundleVersionId": 26502,
     "sourceId": 3136,
     "sourceType": "competition"
    }
   ],
   "dockerImageVersionId": 30579,
   "isGpuEnabled": false,
   "isInternetEnabled": true,
   "language": "python",
   "sourceType": "notebook"
  },
  "kernelspec": {
   "display_name": "Python 3",
   "language": "python",
   "name": "python3"
  },
  "language_info": {
   "codemirror_mode": {
    "name": "ipython",
    "version": 3
   },
   "file_extension": ".py",
   "mimetype": "text/x-python",
   "name": "python",
   "nbconvert_exporter": "python",
   "pygments_lexer": "ipython3",
   "version": "3.10.12"
  },
  "papermill": {
   "default_parameters": {},
   "duration": 42.498103,
   "end_time": "2023-11-19T00:55:20.548680",
   "environment_variables": {},
   "exception": null,
   "input_path": "__notebook__.ipynb",
   "output_path": "__notebook__.ipynb",
   "parameters": {},
   "start_time": "2023-11-19T00:54:38.050577",
   "version": "2.4.0"
  }
 },
 "nbformat": 4,
 "nbformat_minor": 5
}
