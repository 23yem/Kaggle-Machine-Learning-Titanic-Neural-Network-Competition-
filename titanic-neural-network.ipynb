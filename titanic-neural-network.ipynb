{
 "cells": [
  {
   "cell_type": "code",
   "execution_count": 1,
   "id": "4d7461e7",
   "metadata": {
    "_cell_guid": "b1076dfc-b9ad-4769-8c92-a6c4dae69d19",
    "_uuid": "8f2839f25d086af736a60e9eeb907d3b93b6e0e5",
    "execution": {
     "iopub.execute_input": "2023-11-20T15:56:19.613445Z",
     "iopub.status.busy": "2023-11-20T15:56:19.613006Z",
     "iopub.status.idle": "2023-11-20T15:56:20.413910Z",
     "shell.execute_reply": "2023-11-20T15:56:20.411527Z"
    },
    "papermill": {
     "duration": 0.830548,
     "end_time": "2023-11-20T15:56:20.416744",
     "exception": false,
     "start_time": "2023-11-20T15:56:19.586196",
     "status": "completed"
    },
    "tags": []
   },
   "outputs": [
    {
     "name": "stdout",
     "output_type": "stream",
     "text": [
      "/kaggle/input/titanic/train.csv\n",
      "/kaggle/input/titanic/test.csv\n",
      "/kaggle/input/titanic/gender_submission.csv\n"
     ]
    }
   ],
   "source": [
    "# This Python 3 environment comes with many helpful analytics libraries installed\n",
    "# It is defined by the kaggle/python Docker image: https://github.com/kaggle/docker-python\n",
    "# For example, here's several helpful packages to load\n",
    "\n",
    "import numpy as np # linear algebra\n",
    "import pandas as pd # data processing, CSV file I/O (e.g. pd.read_csv)\n",
    "\n",
    "# Input data files are available in the read-only \"../input/\" directory\n",
    "# For example, running this (by clicking run or pressing Shift+Enter) will list all files under the input directory\n",
    "\n",
    "import os\n",
    "for dirname, _, filenames in os.walk('/kaggle/input'):\n",
    "    for filename in filenames:\n",
    "        print(os.path.join(dirname, filename))\n",
    "\n",
    "# You can write up to 20GB to the current directory (/kaggle/working/) that gets preserved as output when you create a version using \"Save & Run All\" \n",
    "# You can also write temporary files to /kaggle/temp/, but they won't be saved outside of the current session"
   ]
  },
  {
   "cell_type": "markdown",
   "id": "c225347d",
   "metadata": {
    "papermill": {
     "duration": 0.02335,
     "end_time": "2023-11-20T15:56:20.464729",
     "exception": false,
     "start_time": "2023-11-20T15:56:20.441379",
     "status": "completed"
    },
    "tags": []
   },
   "source": [
    "# **Load the Data from the Database**"
   ]
  },
  {
   "cell_type": "code",
   "execution_count": 2,
   "id": "6ff2fc6d",
   "metadata": {
    "execution": {
     "iopub.execute_input": "2023-11-20T15:56:20.515742Z",
     "iopub.status.busy": "2023-11-20T15:56:20.514700Z",
     "iopub.status.idle": "2023-11-20T15:56:20.565504Z",
     "shell.execute_reply": "2023-11-20T15:56:20.564366Z"
    },
    "papermill": {
     "duration": 0.079663,
     "end_time": "2023-11-20T15:56:20.568052",
     "exception": false,
     "start_time": "2023-11-20T15:56:20.488389",
     "status": "completed"
    },
    "tags": []
   },
   "outputs": [
    {
     "data": {
      "text/html": [
       "<div>\n",
       "<style scoped>\n",
       "    .dataframe tbody tr th:only-of-type {\n",
       "        vertical-align: middle;\n",
       "    }\n",
       "\n",
       "    .dataframe tbody tr th {\n",
       "        vertical-align: top;\n",
       "    }\n",
       "\n",
       "    .dataframe thead th {\n",
       "        text-align: right;\n",
       "    }\n",
       "</style>\n",
       "<table border=\"1\" class=\"dataframe\">\n",
       "  <thead>\n",
       "    <tr style=\"text-align: right;\">\n",
       "      <th></th>\n",
       "      <th>PassengerId</th>\n",
       "      <th>Survived</th>\n",
       "      <th>Pclass</th>\n",
       "      <th>Name</th>\n",
       "      <th>Sex</th>\n",
       "      <th>Age</th>\n",
       "      <th>SibSp</th>\n",
       "      <th>Parch</th>\n",
       "      <th>Ticket</th>\n",
       "      <th>Fare</th>\n",
       "      <th>Cabin</th>\n",
       "      <th>Embarked</th>\n",
       "    </tr>\n",
       "  </thead>\n",
       "  <tbody>\n",
       "    <tr>\n",
       "      <th>0</th>\n",
       "      <td>1</td>\n",
       "      <td>0</td>\n",
       "      <td>3</td>\n",
       "      <td>Braund, Mr. Owen Harris</td>\n",
       "      <td>male</td>\n",
       "      <td>22.0</td>\n",
       "      <td>1</td>\n",
       "      <td>0</td>\n",
       "      <td>A/5 21171</td>\n",
       "      <td>7.2500</td>\n",
       "      <td>NaN</td>\n",
       "      <td>S</td>\n",
       "    </tr>\n",
       "    <tr>\n",
       "      <th>1</th>\n",
       "      <td>2</td>\n",
       "      <td>1</td>\n",
       "      <td>1</td>\n",
       "      <td>Cumings, Mrs. John Bradley (Florence Briggs Th...</td>\n",
       "      <td>female</td>\n",
       "      <td>38.0</td>\n",
       "      <td>1</td>\n",
       "      <td>0</td>\n",
       "      <td>PC 17599</td>\n",
       "      <td>71.2833</td>\n",
       "      <td>C85</td>\n",
       "      <td>C</td>\n",
       "    </tr>\n",
       "    <tr>\n",
       "      <th>2</th>\n",
       "      <td>3</td>\n",
       "      <td>1</td>\n",
       "      <td>3</td>\n",
       "      <td>Heikkinen, Miss. Laina</td>\n",
       "      <td>female</td>\n",
       "      <td>26.0</td>\n",
       "      <td>0</td>\n",
       "      <td>0</td>\n",
       "      <td>STON/O2. 3101282</td>\n",
       "      <td>7.9250</td>\n",
       "      <td>NaN</td>\n",
       "      <td>S</td>\n",
       "    </tr>\n",
       "    <tr>\n",
       "      <th>3</th>\n",
       "      <td>4</td>\n",
       "      <td>1</td>\n",
       "      <td>1</td>\n",
       "      <td>Futrelle, Mrs. Jacques Heath (Lily May Peel)</td>\n",
       "      <td>female</td>\n",
       "      <td>35.0</td>\n",
       "      <td>1</td>\n",
       "      <td>0</td>\n",
       "      <td>113803</td>\n",
       "      <td>53.1000</td>\n",
       "      <td>C123</td>\n",
       "      <td>S</td>\n",
       "    </tr>\n",
       "    <tr>\n",
       "      <th>4</th>\n",
       "      <td>5</td>\n",
       "      <td>0</td>\n",
       "      <td>3</td>\n",
       "      <td>Allen, Mr. William Henry</td>\n",
       "      <td>male</td>\n",
       "      <td>35.0</td>\n",
       "      <td>0</td>\n",
       "      <td>0</td>\n",
       "      <td>373450</td>\n",
       "      <td>8.0500</td>\n",
       "      <td>NaN</td>\n",
       "      <td>S</td>\n",
       "    </tr>\n",
       "  </tbody>\n",
       "</table>\n",
       "</div>"
      ],
      "text/plain": [
       "   PassengerId  Survived  Pclass  \\\n",
       "0            1         0       3   \n",
       "1            2         1       1   \n",
       "2            3         1       3   \n",
       "3            4         1       1   \n",
       "4            5         0       3   \n",
       "\n",
       "                                                Name     Sex   Age  SibSp  \\\n",
       "0                            Braund, Mr. Owen Harris    male  22.0      1   \n",
       "1  Cumings, Mrs. John Bradley (Florence Briggs Th...  female  38.0      1   \n",
       "2                             Heikkinen, Miss. Laina  female  26.0      0   \n",
       "3       Futrelle, Mrs. Jacques Heath (Lily May Peel)  female  35.0      1   \n",
       "4                           Allen, Mr. William Henry    male  35.0      0   \n",
       "\n",
       "   Parch            Ticket     Fare Cabin Embarked  \n",
       "0      0         A/5 21171   7.2500   NaN        S  \n",
       "1      0          PC 17599  71.2833   C85        C  \n",
       "2      0  STON/O2. 3101282   7.9250   NaN        S  \n",
       "3      0            113803  53.1000  C123        S  \n",
       "4      0            373450   8.0500   NaN        S  "
      ]
     },
     "execution_count": 2,
     "metadata": {},
     "output_type": "execute_result"
    }
   ],
   "source": [
    "#Remember to eventually clean up the wrong or missing values\n",
    "train_data = pd.read_csv(\"/kaggle/input/titanic/train.csv\")\n",
    "\n",
    "train_data.head()"
   ]
  },
  {
   "cell_type": "code",
   "execution_count": 3,
   "id": "4f032b78",
   "metadata": {
    "execution": {
     "iopub.execute_input": "2023-11-20T15:56:20.620257Z",
     "iopub.status.busy": "2023-11-20T15:56:20.619477Z",
     "iopub.status.idle": "2023-11-20T15:56:20.644299Z",
     "shell.execute_reply": "2023-11-20T15:56:20.643167Z"
    },
    "papermill": {
     "duration": 0.053344,
     "end_time": "2023-11-20T15:56:20.646659",
     "exception": false,
     "start_time": "2023-11-20T15:56:20.593315",
     "status": "completed"
    },
    "tags": []
   },
   "outputs": [
    {
     "data": {
      "text/html": [
       "<div>\n",
       "<style scoped>\n",
       "    .dataframe tbody tr th:only-of-type {\n",
       "        vertical-align: middle;\n",
       "    }\n",
       "\n",
       "    .dataframe tbody tr th {\n",
       "        vertical-align: top;\n",
       "    }\n",
       "\n",
       "    .dataframe thead th {\n",
       "        text-align: right;\n",
       "    }\n",
       "</style>\n",
       "<table border=\"1\" class=\"dataframe\">\n",
       "  <thead>\n",
       "    <tr style=\"text-align: right;\">\n",
       "      <th></th>\n",
       "      <th>PassengerId</th>\n",
       "      <th>Pclass</th>\n",
       "      <th>Name</th>\n",
       "      <th>Sex</th>\n",
       "      <th>Age</th>\n",
       "      <th>SibSp</th>\n",
       "      <th>Parch</th>\n",
       "      <th>Ticket</th>\n",
       "      <th>Fare</th>\n",
       "      <th>Cabin</th>\n",
       "      <th>Embarked</th>\n",
       "    </tr>\n",
       "  </thead>\n",
       "  <tbody>\n",
       "    <tr>\n",
       "      <th>0</th>\n",
       "      <td>892</td>\n",
       "      <td>3</td>\n",
       "      <td>Kelly, Mr. James</td>\n",
       "      <td>male</td>\n",
       "      <td>34.5</td>\n",
       "      <td>0</td>\n",
       "      <td>0</td>\n",
       "      <td>330911</td>\n",
       "      <td>7.8292</td>\n",
       "      <td>NaN</td>\n",
       "      <td>Q</td>\n",
       "    </tr>\n",
       "    <tr>\n",
       "      <th>1</th>\n",
       "      <td>893</td>\n",
       "      <td>3</td>\n",
       "      <td>Wilkes, Mrs. James (Ellen Needs)</td>\n",
       "      <td>female</td>\n",
       "      <td>47.0</td>\n",
       "      <td>1</td>\n",
       "      <td>0</td>\n",
       "      <td>363272</td>\n",
       "      <td>7.0000</td>\n",
       "      <td>NaN</td>\n",
       "      <td>S</td>\n",
       "    </tr>\n",
       "    <tr>\n",
       "      <th>2</th>\n",
       "      <td>894</td>\n",
       "      <td>2</td>\n",
       "      <td>Myles, Mr. Thomas Francis</td>\n",
       "      <td>male</td>\n",
       "      <td>62.0</td>\n",
       "      <td>0</td>\n",
       "      <td>0</td>\n",
       "      <td>240276</td>\n",
       "      <td>9.6875</td>\n",
       "      <td>NaN</td>\n",
       "      <td>Q</td>\n",
       "    </tr>\n",
       "    <tr>\n",
       "      <th>3</th>\n",
       "      <td>895</td>\n",
       "      <td>3</td>\n",
       "      <td>Wirz, Mr. Albert</td>\n",
       "      <td>male</td>\n",
       "      <td>27.0</td>\n",
       "      <td>0</td>\n",
       "      <td>0</td>\n",
       "      <td>315154</td>\n",
       "      <td>8.6625</td>\n",
       "      <td>NaN</td>\n",
       "      <td>S</td>\n",
       "    </tr>\n",
       "    <tr>\n",
       "      <th>4</th>\n",
       "      <td>896</td>\n",
       "      <td>3</td>\n",
       "      <td>Hirvonen, Mrs. Alexander (Helga E Lindqvist)</td>\n",
       "      <td>female</td>\n",
       "      <td>22.0</td>\n",
       "      <td>1</td>\n",
       "      <td>1</td>\n",
       "      <td>3101298</td>\n",
       "      <td>12.2875</td>\n",
       "      <td>NaN</td>\n",
       "      <td>S</td>\n",
       "    </tr>\n",
       "  </tbody>\n",
       "</table>\n",
       "</div>"
      ],
      "text/plain": [
       "   PassengerId  Pclass                                          Name     Sex  \\\n",
       "0          892       3                              Kelly, Mr. James    male   \n",
       "1          893       3              Wilkes, Mrs. James (Ellen Needs)  female   \n",
       "2          894       2                     Myles, Mr. Thomas Francis    male   \n",
       "3          895       3                              Wirz, Mr. Albert    male   \n",
       "4          896       3  Hirvonen, Mrs. Alexander (Helga E Lindqvist)  female   \n",
       "\n",
       "    Age  SibSp  Parch   Ticket     Fare Cabin Embarked  \n",
       "0  34.5      0      0   330911   7.8292   NaN        Q  \n",
       "1  47.0      1      0   363272   7.0000   NaN        S  \n",
       "2  62.0      0      0   240276   9.6875   NaN        Q  \n",
       "3  27.0      0      0   315154   8.6625   NaN        S  \n",
       "4  22.0      1      1  3101298  12.2875   NaN        S  "
      ]
     },
     "execution_count": 3,
     "metadata": {},
     "output_type": "execute_result"
    }
   ],
   "source": [
    "#Remember to eventually clean up the wrong or missing values\n",
    "test_data = pd.read_csv(\"/kaggle/input/titanic/test.csv\")\n",
    "\n",
    "test_data.head()"
   ]
  },
  {
   "cell_type": "code",
   "execution_count": 4,
   "id": "c4f2f935",
   "metadata": {
    "execution": {
     "iopub.execute_input": "2023-11-20T15:56:20.698567Z",
     "iopub.status.busy": "2023-11-20T15:56:20.697838Z",
     "iopub.status.idle": "2023-11-20T15:56:20.703140Z",
     "shell.execute_reply": "2023-11-20T15:56:20.702378Z"
    },
    "papermill": {
     "duration": 0.033637,
     "end_time": "2023-11-20T15:56:20.705227",
     "exception": false,
     "start_time": "2023-11-20T15:56:20.671590",
     "status": "completed"
    },
    "tags": []
   },
   "outputs": [
    {
     "name": "stdout",
     "output_type": "stream",
     "text": [
      "Index(['PassengerId', 'Survived', 'Pclass', 'Name', 'Sex', 'Age', 'SibSp',\n",
      "       'Parch', 'Ticket', 'Fare', 'Cabin', 'Embarked'],\n",
      "      dtype='object')\n",
      "(891, 12)\n"
     ]
    }
   ],
   "source": [
    "print(train_data.columns)\n",
    "print(train_data.shape)"
   ]
  },
  {
   "cell_type": "markdown",
   "id": "5c2c0cc6",
   "metadata": {
    "papermill": {
     "duration": 0.024457,
     "end_time": "2023-11-20T15:56:20.754157",
     "exception": false,
     "start_time": "2023-11-20T15:56:20.729700",
     "status": "completed"
    },
    "tags": []
   },
   "source": [
    "# Choosing features #\n"
   ]
  },
  {
   "cell_type": "code",
   "execution_count": 5,
   "id": "408122a3",
   "metadata": {
    "execution": {
     "iopub.execute_input": "2023-11-20T15:56:20.806231Z",
     "iopub.status.busy": "2023-11-20T15:56:20.805782Z",
     "iopub.status.idle": "2023-11-20T15:56:20.831338Z",
     "shell.execute_reply": "2023-11-20T15:56:20.830517Z"
    },
    "papermill": {
     "duration": 0.054454,
     "end_time": "2023-11-20T15:56:20.833552",
     "exception": false,
     "start_time": "2023-11-20T15:56:20.779098",
     "status": "completed"
    },
    "tags": []
   },
   "outputs": [
    {
     "data": {
      "text/html": [
       "<div>\n",
       "<style scoped>\n",
       "    .dataframe tbody tr th:only-of-type {\n",
       "        vertical-align: middle;\n",
       "    }\n",
       "\n",
       "    .dataframe tbody tr th {\n",
       "        vertical-align: top;\n",
       "    }\n",
       "\n",
       "    .dataframe thead th {\n",
       "        text-align: right;\n",
       "    }\n",
       "</style>\n",
       "<table border=\"1\" class=\"dataframe\">\n",
       "  <thead>\n",
       "    <tr style=\"text-align: right;\">\n",
       "      <th></th>\n",
       "      <th>Pclass</th>\n",
       "      <th>Fare</th>\n",
       "      <th>Sex_female</th>\n",
       "      <th>Sex_male</th>\n",
       "    </tr>\n",
       "  </thead>\n",
       "  <tbody>\n",
       "    <tr>\n",
       "      <th>0</th>\n",
       "      <td>3</td>\n",
       "      <td>7.2500</td>\n",
       "      <td>False</td>\n",
       "      <td>True</td>\n",
       "    </tr>\n",
       "    <tr>\n",
       "      <th>1</th>\n",
       "      <td>1</td>\n",
       "      <td>71.2833</td>\n",
       "      <td>True</td>\n",
       "      <td>False</td>\n",
       "    </tr>\n",
       "    <tr>\n",
       "      <th>2</th>\n",
       "      <td>3</td>\n",
       "      <td>7.9250</td>\n",
       "      <td>True</td>\n",
       "      <td>False</td>\n",
       "    </tr>\n",
       "    <tr>\n",
       "      <th>3</th>\n",
       "      <td>1</td>\n",
       "      <td>53.1000</td>\n",
       "      <td>True</td>\n",
       "      <td>False</td>\n",
       "    </tr>\n",
       "    <tr>\n",
       "      <th>4</th>\n",
       "      <td>3</td>\n",
       "      <td>8.0500</td>\n",
       "      <td>False</td>\n",
       "      <td>True</td>\n",
       "    </tr>\n",
       "  </tbody>\n",
       "</table>\n",
       "</div>"
      ],
      "text/plain": [
       "   Pclass     Fare  Sex_female  Sex_male\n",
       "0       3   7.2500       False      True\n",
       "1       1  71.2833        True     False\n",
       "2       3   7.9250        True     False\n",
       "3       1  53.1000        True     False\n",
       "4       3   8.0500       False      True"
      ]
     },
     "execution_count": 5,
     "metadata": {},
     "output_type": "execute_result"
    }
   ],
   "source": [
    "features = [\"Pclass\", \"Sex\", \"Fare\"]\n",
    "\n",
    "X_train = pd.get_dummies(train_data[features])\n",
    "\n",
    "X_train.head()\n",
    "#print(X_train.shape)"
   ]
  },
  {
   "cell_type": "markdown",
   "id": "dbd80bab",
   "metadata": {
    "papermill": {
     "duration": 0.086274,
     "end_time": "2023-11-20T15:56:20.944710",
     "exception": false,
     "start_time": "2023-11-20T15:56:20.858436",
     "status": "completed"
    },
    "tags": []
   },
   "source": []
  },
  {
   "cell_type": "markdown",
   "id": "2d016fdd",
   "metadata": {
    "papermill": {
     "duration": 0.024832,
     "end_time": "2023-11-20T15:56:20.994791",
     "exception": false,
     "start_time": "2023-11-20T15:56:20.969959",
     "status": "completed"
    },
    "tags": []
   },
   "source": [
    "# Set the target/label (y) values\n"
   ]
  },
  {
   "cell_type": "code",
   "execution_count": 6,
   "id": "4bbb19f2",
   "metadata": {
    "execution": {
     "iopub.execute_input": "2023-11-20T15:56:21.047178Z",
     "iopub.status.busy": "2023-11-20T15:56:21.046475Z",
     "iopub.status.idle": "2023-11-20T15:56:21.053632Z",
     "shell.execute_reply": "2023-11-20T15:56:21.052874Z"
    },
    "papermill": {
     "duration": 0.03606,
     "end_time": "2023-11-20T15:56:21.055837",
     "exception": false,
     "start_time": "2023-11-20T15:56:21.019777",
     "status": "completed"
    },
    "tags": []
   },
   "outputs": [
    {
     "data": {
      "text/plain": [
       "0    0\n",
       "1    1\n",
       "2    1\n",
       "3    1\n",
       "4    0\n",
       "Name: Survived, dtype: int64"
      ]
     },
     "execution_count": 6,
     "metadata": {},
     "output_type": "execute_result"
    }
   ],
   "source": [
    "#Y_train = pd.get_dummies(train_data[\"Survived\"])\n",
    "Y_train = train_data[\"Survived\"]\n",
    "\n",
    "Y_train.head()\n"
   ]
  },
  {
   "cell_type": "markdown",
   "id": "ec285f58",
   "metadata": {
    "papermill": {
     "duration": 0.025281,
     "end_time": "2023-11-20T15:56:21.106268",
     "exception": false,
     "start_time": "2023-11-20T15:56:21.080987",
     "status": "completed"
    },
    "tags": []
   },
   "source": []
  },
  {
   "cell_type": "markdown",
   "id": "4a99022f",
   "metadata": {
    "papermill": {
     "duration": 0.024711,
     "end_time": "2023-11-20T15:56:21.156141",
     "exception": false,
     "start_time": "2023-11-20T15:56:21.131430",
     "status": "completed"
    },
    "tags": []
   },
   "source": [
    "# Split up train data into Train-test using scikit-learn"
   ]
  },
  {
   "cell_type": "code",
   "execution_count": 7,
   "id": "ce58ba1e",
   "metadata": {
    "execution": {
     "iopub.execute_input": "2023-11-20T15:56:21.209043Z",
     "iopub.status.busy": "2023-11-20T15:56:21.208373Z",
     "iopub.status.idle": "2023-11-20T15:56:22.439223Z",
     "shell.execute_reply": "2023-11-20T15:56:22.437945Z"
    },
    "papermill": {
     "duration": 1.25995,
     "end_time": "2023-11-20T15:56:22.441619",
     "exception": false,
     "start_time": "2023-11-20T15:56:21.181669",
     "status": "completed"
    },
    "tags": []
   },
   "outputs": [
    {
     "name": "stdout",
     "output_type": "stream",
     "text": [
      "445    1\n",
      "650    0\n",
      "172    1\n",
      "450    0\n",
      "314    0\n",
      "Name: Survived, dtype: int64\n",
      "709    1\n",
      "439    0\n",
      "840    0\n",
      "720    1\n",
      "39     1\n",
      "Name: Survived, dtype: int64\n"
     ]
    }
   ],
   "source": [
    "from sklearn.model_selection import train_test_split\n",
    "\n",
    "#Split data into a train/validation and test set\n",
    "X_train, X_test, Y_train, Y_test = train_test_split(X_train, Y_train, test_size = 0.3, random_state = 42)\n",
    "\n",
    "#print(X_train.head())\n",
    "#print(Y_train.head())\n",
    "print(Y_train.head())\n",
    "\n",
    "print(Y_test.head())\n"
   ]
  },
  {
   "cell_type": "markdown",
   "id": "db0e32d3",
   "metadata": {
    "papermill": {
     "duration": 0.025039,
     "end_time": "2023-11-20T15:56:22.493276",
     "exception": false,
     "start_time": "2023-11-20T15:56:22.468237",
     "status": "completed"
    },
    "tags": []
   },
   "source": [
    "spliting the data into a train-test split will allow us to test our model and so it will allow us to tune our model before submitting on Kaggle. We can also use the train-validation-test split here"
   ]
  },
  {
   "cell_type": "markdown",
   "id": "5c3f5d39",
   "metadata": {
    "papermill": {
     "duration": 0.025277,
     "end_time": "2023-11-20T15:56:22.543816",
     "exception": false,
     "start_time": "2023-11-20T15:56:22.518539",
     "status": "completed"
    },
    "tags": []
   },
   "source": [
    "# Making the Neural Network Model using Scikit Learn\n"
   ]
  },
  {
   "cell_type": "code",
   "execution_count": 8,
   "id": "eebff3e7",
   "metadata": {
    "execution": {
     "iopub.execute_input": "2023-11-20T15:56:22.598053Z",
     "iopub.status.busy": "2023-11-20T15:56:22.597314Z",
     "iopub.status.idle": "2023-11-20T15:56:22.611358Z",
     "shell.execute_reply": "2023-11-20T15:56:22.610463Z"
    },
    "papermill": {
     "duration": 0.044484,
     "end_time": "2023-11-20T15:56:22.613690",
     "exception": false,
     "start_time": "2023-11-20T15:56:22.569206",
     "status": "completed"
    },
    "tags": []
   },
   "outputs": [],
   "source": [
    "from sklearn.neural_network import MLPClassifier\n",
    "from sklearn.model_selection import train_test_split\n",
    "from sklearn.preprocessing import StandardScaler\n",
    "from sklearn.metrics import accuracy_score\n",
    "\n",
    "# Commented out the code so that the model won't run everytime\n",
    "\n",
    "# model = MLPClassifier(hidden_layer_sizes=(5, 5), activation='relu', solver='adam', max_iter=1000, random_state=42)\n",
    "\n",
    "# model.fit(X_train, Y_train)\n",
    "\n",
    "# y_pred = model.predict(X_test)\n",
    "\n",
    "# print(f\"Accuracy: {accuracy_score(Y_test, y_pred):.2f}\")\n"
   ]
  },
  {
   "cell_type": "markdown",
   "id": "5ad28cd3",
   "metadata": {
    "papermill": {
     "duration": 0.024986,
     "end_time": "2023-11-20T15:56:22.664032",
     "exception": false,
     "start_time": "2023-11-20T15:56:22.639046",
     "status": "completed"
    },
    "tags": []
   },
   "source": [
    "**Here I am using the MLPClassifier since this is a classification problem. The output of the model will be \"Survive\" or \"not survive.\" If my model was supposed to predict a numerical value, I would be using something like MLPRegressor instead**"
   ]
  },
  {
   "cell_type": "markdown",
   "id": "d1a29526",
   "metadata": {
    "papermill": {
     "duration": 0.024815,
     "end_time": "2023-11-20T15:56:22.714051",
     "exception": false,
     "start_time": "2023-11-20T15:56:22.689236",
     "status": "completed"
    },
    "tags": []
   },
   "source": [
    "# Tried making a neural network using Tensor Flow but decided to just use Scikit learn"
   ]
  },
  {
   "cell_type": "code",
   "execution_count": 9,
   "id": "de0554ca",
   "metadata": {
    "execution": {
     "iopub.execute_input": "2023-11-20T15:56:22.766749Z",
     "iopub.status.busy": "2023-11-20T15:56:22.766006Z",
     "iopub.status.idle": "2023-11-20T15:56:22.770757Z",
     "shell.execute_reply": "2023-11-20T15:56:22.769969Z"
    },
    "papermill": {
     "duration": 0.033542,
     "end_time": "2023-11-20T15:56:22.772834",
     "exception": false,
     "start_time": "2023-11-20T15:56:22.739292",
     "status": "completed"
    },
    "tags": []
   },
   "outputs": [],
   "source": [
    "# import tensorflow as tf\n",
    "\n",
    "\n",
    "# #Compile the model\n",
    "# model = tf.keras.models.Sequential([\n",
    "#     tf.keras.layers.Dense(64, activation = \"relu\", input_shape = (687,)),\n",
    "#     tf.keras.layers.Dense(32, activation = \"relu\"),\n",
    "#     tf.keras.layers.Dense(16, activation = \"relu\"),\n",
    "#     tf.keras.layers.Dense(1, activation = \"sigmoid\")\n",
    "# ])\n",
    "# model.compile(optimizer = \"adam\", loss = \"binary_crossentropy\", metrics = [\"accuracy\"])\n",
    "\n",
    "\n",
    "# #Train the model\n",
    "\n",
    "# #X_train = tf.convert_to_tensor(X_train)\n",
    "# #Y_train = tf.convert_to_tensor(Y_train)\n",
    "# model.fit(X_train, Y_train, epochs = 10)\n",
    "\n",
    "# #Evaluate the model \n",
    "\n",
    "# #X_test = tf.convert_to_tensor(X_test)\n",
    "# #Y_test = tf.convert_to_tensor(Y_test)\n",
    "# loss, accuracy = model.evaluate(X_test, Y_test)\n",
    "# print(\"Accuracy: \", accuracy)"
   ]
  },
  {
   "cell_type": "markdown",
   "id": "dd6bc0d4",
   "metadata": {
    "papermill": {
     "duration": 0.024878,
     "end_time": "2023-11-20T15:56:22.822903",
     "exception": false,
     "start_time": "2023-11-20T15:56:22.798025",
     "status": "completed"
    },
    "tags": []
   },
   "source": [
    "# Testing model on real test set and Submitting Model (Accuracy: 0.755)\n"
   ]
  },
  {
   "cell_type": "code",
   "execution_count": 10,
   "id": "6815ea79",
   "metadata": {
    "execution": {
     "iopub.execute_input": "2023-11-20T15:56:22.875830Z",
     "iopub.status.busy": "2023-11-20T15:56:22.875044Z",
     "iopub.status.idle": "2023-11-20T15:56:22.906808Z",
     "shell.execute_reply": "2023-11-20T15:56:22.905162Z"
    },
    "papermill": {
     "duration": 0.06128,
     "end_time": "2023-11-20T15:56:22.909488",
     "exception": false,
     "start_time": "2023-11-20T15:56:22.848208",
     "status": "completed"
    },
    "tags": []
   },
   "outputs": [
    {
     "name": "stdout",
     "output_type": "stream",
     "text": [
      "Index(['Pclass', 'Fare', 'Sex_female', 'Sex_male', 'PassengerId'], dtype='object')\n"
     ]
    }
   ],
   "source": [
    "test_data = pd.read_csv(\"/kaggle/input/titanic/test.csv\")\n",
    "features = [\"Pclass\", \"Sex\", \"Fare\"]\n",
    "test_X = pd.get_dummies(test_data[features])\n",
    "#test_X = test_X.dropna()\n",
    "#print(test_X[\"Sex_female\"])\n",
    "test_X['Fare'].fillna(test_X['Fare'].median(), inplace=True)\n",
    "\n",
    "# Impute categorical columns with the mode\n",
    "for column in ['Pclass']:\n",
    "    test_X[column].fillna(test_X[column].mode()[0], inplace=True)\n",
    "\n",
    "for column in [\"Sex_female\"]:\n",
    "    test_X[column].fillna(False, inplace=True)\n",
    "    \n",
    "for column in ['Sex_male']:\n",
    "    test_X[column].fillna(True, inplace=True)\n",
    "  \n",
    "  \n",
    "# print(X_test)\n",
    "\n",
    "#model.fit(X_train, Y_train)\n",
    "\n",
    "# predictions = model.predict(test_X)\n",
    "\n",
    "pass_id = test_data['PassengerId']\n",
    "\n",
    "test_data = test_data.drop('PassengerId', axis=1)\n",
    "test_data = pd.get_dummies(test_data[features])\n",
    "\n",
    "test_data[\"PassengerId\"] = pass_id\n",
    "\n",
    "test_data['Fare'].fillna(test_data['Fare'].median(), inplace=True)\n",
    "\n",
    "print(test_data.columns)\n",
    "\n",
    "# Impute categorical columns with the mode\n",
    "for column in ['Pclass']:\n",
    "    test_data[column].fillna(test_data[column].mode()[0], inplace=True)\n",
    "\n",
    "for column in ['Sex_female']:\n",
    "    test_data[column].fillna(False, inplace=True)\n",
    "    \n",
    "for column in ['Sex_male']:\n",
    "    test_data[column].fillna(True, inplace=True)\n",
    "    \n",
    "# Commented out the code so that the model won't run everytime\n",
    "\n",
    "# print(test_X.shape)\n",
    "# print(predictions.shape)\n",
    "# print(test_data.shape)\n",
    "\n",
    "\n",
    "# output = pd.DataFrame({'PassengerId': test_data.PassengerId, 'Survived': predictions})\n",
    "# output.to_csv('submission.csv', index=False)\n",
    "# print(\"Your submission was successfully saved!\")"
   ]
  },
  {
   "cell_type": "markdown",
   "id": "15ea4e4d",
   "metadata": {
    "papermill": {
     "duration": 0.0255,
     "end_time": "2023-11-20T15:56:22.960331",
     "exception": false,
     "start_time": "2023-11-20T15:56:22.934831",
     "status": "completed"
    },
    "tags": []
   },
   "source": [
    "**The accuracy of the model was 0.755**"
   ]
  },
  {
   "cell_type": "markdown",
   "id": "d76e41d4",
   "metadata": {
    "papermill": {
     "duration": 0.024938,
     "end_time": "2023-11-20T15:56:23.010750",
     "exception": false,
     "start_time": "2023-11-20T15:56:22.985812",
     "status": "completed"
    },
    "tags": []
   },
   "source": [
    "# After first submission, I will now try and edit the neural network to improve the accurary\n"
   ]
  },
  {
   "cell_type": "code",
   "execution_count": 11,
   "id": "f0e64630",
   "metadata": {
    "execution": {
     "iopub.execute_input": "2023-11-20T15:56:23.063520Z",
     "iopub.status.busy": "2023-11-20T15:56:23.063128Z",
     "iopub.status.idle": "2023-11-20T15:56:23.068160Z",
     "shell.execute_reply": "2023-11-20T15:56:23.067095Z"
    },
    "papermill": {
     "duration": 0.033931,
     "end_time": "2023-11-20T15:56:23.070328",
     "exception": false,
     "start_time": "2023-11-20T15:56:23.036397",
     "status": "completed"
    },
    "tags": []
   },
   "outputs": [],
   "source": [
    "# Commented out the code so that the model won't run everytime\n",
    "\n",
    "# model = MLPClassifier(hidden_layer_sizes=(14, 4), activation='relu', solver='lbfgs', max_iter=1000, random_state=42)\n",
    "\n",
    "# model.fit(X_train, Y_train)\n",
    "\n",
    "# y_pred = model.predict(X_test)\n",
    "\n",
    "# print(f\"Accuracy: {accuracy_score(Y_test, y_pred):.2f}\")\n",
    "\n"
   ]
  },
  {
   "cell_type": "markdown",
   "id": "843eb787",
   "metadata": {
    "papermill": {
     "duration": 0.025013,
     "end_time": "2023-11-20T15:56:23.121120",
     "exception": false,
     "start_time": "2023-11-20T15:56:23.096107",
     "status": "completed"
    },
    "tags": []
   },
   "source": [
    "**I edited  the hidden layer sizes**\n"
   ]
  },
  {
   "cell_type": "markdown",
   "id": "8088a38b",
   "metadata": {
    "papermill": {
     "duration": 0.025061,
     "end_time": "2023-11-20T15:56:23.171366",
     "exception": false,
     "start_time": "2023-11-20T15:56:23.146305",
     "status": "completed"
    },
    "tags": []
   },
   "source": [
    "# Second submission (accuracy: 0.76)\n"
   ]
  },
  {
   "cell_type": "code",
   "execution_count": 12,
   "id": "206d995a",
   "metadata": {
    "execution": {
     "iopub.execute_input": "2023-11-20T15:56:23.223930Z",
     "iopub.status.busy": "2023-11-20T15:56:23.223285Z",
     "iopub.status.idle": "2023-11-20T15:56:23.242319Z",
     "shell.execute_reply": "2023-11-20T15:56:23.241520Z"
    },
    "papermill": {
     "duration": 0.047947,
     "end_time": "2023-11-20T15:56:23.244728",
     "exception": false,
     "start_time": "2023-11-20T15:56:23.196781",
     "status": "completed"
    },
    "tags": []
   },
   "outputs": [
    {
     "name": "stdout",
     "output_type": "stream",
     "text": [
      "done\n"
     ]
    }
   ],
   "source": [
    "test_data = pd.read_csv(\"/kaggle/input/titanic/test.csv\")\n",
    "features = [\"Pclass\", \"Sex\", \"Fare\"]\n",
    "test_X = pd.get_dummies(test_data[features])\n",
    "\n",
    "test_X['Fare'].fillna(test_X['Fare'].median(), inplace=True)\n",
    "\n",
    "# Impute categorical columns with the mode\n",
    "for column in ['Pclass']:\n",
    "    test_X[column].fillna(test_X[column].mode()[0], inplace=True)\n",
    "\n",
    "for column in [\"Sex_female\"]:\n",
    "    test_X[column].fillna(False, inplace=True)\n",
    "    \n",
    "for column in ['Sex_male']:\n",
    "    test_X[column].fillna(True, inplace=True)\n",
    "\n",
    "print(\"done\")\n",
    "\n",
    "\n",
    "# Commented out the code so that the model won't run everytime\n",
    "\n",
    "# predictions2 = model.predict(test_X)\n",
    "\n",
    "# pass_id = test_data['PassengerId']\n",
    "\n",
    "# test_data = test_data.drop('PassengerId', axis=1)\n",
    "# test_data = pd.get_dummies(test_data[features])\n",
    "\n",
    "# test_data[\"PassengerId\"] = pass_id\n",
    "\n",
    "# print(test_data.columns)\n",
    "\n",
    "# print(test_X.shape)\n",
    "# print(predictions2.shape)\n",
    "# print(test_data.shape)\n",
    "\n",
    "# output = pd.DataFrame({'PassengerId': test_data.PassengerId, 'Survived': predictions2})\n",
    "# output.to_csv('submission.csv', index=False)\n",
    "# print(\"Your submission was successfully saved!\")"
   ]
  },
  {
   "cell_type": "markdown",
   "id": "90d222c9",
   "metadata": {
    "papermill": {
     "duration": 0.025356,
     "end_time": "2023-11-20T15:56:23.296055",
     "exception": false,
     "start_time": "2023-11-20T15:56:23.270699",
     "status": "completed"
    },
    "tags": []
   },
   "source": [
    "**Here, from the code above, I went from a 0.755 to a 0.76 by editing the hidden layer sizes. However, this wasn't much of a big change and the accuracy of the model is still worse than the 0.775 which I achieved through a simple Random Decision Forest Model.**\n"
   ]
  },
  {
   "cell_type": "markdown",
   "id": "86235480",
   "metadata": {
    "papermill": {
     "duration": 0.026136,
     "end_time": "2023-11-20T15:56:23.347851",
     "exception": false,
     "start_time": "2023-11-20T15:56:23.321715",
     "status": "completed"
    },
    "tags": []
   },
   "source": [
    "**From this code, I realized that I should be imputing and cleaning the data BEFORE I use pd.get_dummies(). This is because pd.get_dummies() adds a lot more columns to the data because it turns all categorial columns to multiple binary columns which puts a 0 or 1 in each row. So, I should be cleaming up the data BEFORE I use pd.get_dummies() since pd.get_dummies adds so many more columns to the data and makes the data so much harder to clean. \n",
    "For example, it's hard to impute values in the \"age\" column after you do pd.get_Dummies() since imputing age relies on finding the average age of each person and it's a lot easier to find the average age is the all the ages were in a single column but if we do pd.get_Dummies, we are going to split up the age column into many more age columns which correspond to each unique age value in the data set**"
   ]
  },
  {
   "cell_type": "markdown",
   "id": "5a65b5fb",
   "metadata": {
    "papermill": {
     "duration": 0.026167,
     "end_time": "2023-11-20T15:56:23.399792",
     "exception": false,
     "start_time": "2023-11-20T15:56:23.373625",
     "status": "completed"
    },
    "tags": []
   },
   "source": []
  },
  {
   "cell_type": "markdown",
   "id": "b783ec2e",
   "metadata": {
    "papermill": {
     "duration": 0.025939,
     "end_time": "2023-11-20T15:56:23.452643",
     "exception": false,
     "start_time": "2023-11-20T15:56:23.426704",
     "status": "completed"
    },
    "tags": []
   },
   "source": [
    "# Now I will re-initialize my data set and clean up my data before using pd.get_dummies()"
   ]
  },
  {
   "cell_type": "markdown",
   "id": "f4484506",
   "metadata": {
    "papermill": {
     "duration": 0.025191,
     "end_time": "2023-11-20T15:56:23.504011",
     "exception": false,
     "start_time": "2023-11-20T15:56:23.478820",
     "status": "completed"
    },
    "tags": []
   },
   "source": [
    "**I set up X_train and Y_train, but this time, instead of doing pd.get_Dummies() on X_train, I'm not going to use pd.get_Dummies() until after I clean up the data**"
   ]
  },
  {
   "cell_type": "code",
   "execution_count": 13,
   "id": "0a5fa1f1",
   "metadata": {
    "execution": {
     "iopub.execute_input": "2023-11-20T15:56:23.556865Z",
     "iopub.status.busy": "2023-11-20T15:56:23.556429Z",
     "iopub.status.idle": "2023-11-20T15:56:23.575754Z",
     "shell.execute_reply": "2023-11-20T15:56:23.573929Z"
    },
    "papermill": {
     "duration": 0.048687,
     "end_time": "2023-11-20T15:56:23.578216",
     "exception": false,
     "start_time": "2023-11-20T15:56:23.529529",
     "status": "completed"
    },
    "tags": []
   },
   "outputs": [
    {
     "name": "stdout",
     "output_type": "stream",
     "text": [
      "   PassengerId  Survived  Pclass  \\\n",
      "0            1         0       3   \n",
      "1            2         1       1   \n",
      "2            3         1       3   \n",
      "3            4         1       1   \n",
      "4            5         0       3   \n",
      "\n",
      "                                                Name     Sex   Age  SibSp  \\\n",
      "0                            Braund, Mr. Owen Harris    male  22.0      1   \n",
      "1  Cumings, Mrs. John Bradley (Florence Briggs Th...  female  38.0      1   \n",
      "2                             Heikkinen, Miss. Laina  female  26.0      0   \n",
      "3       Futrelle, Mrs. Jacques Heath (Lily May Peel)  female  35.0      1   \n",
      "4                           Allen, Mr. William Henry    male  35.0      0   \n",
      "\n",
      "   Parch            Ticket     Fare Cabin Embarked  \n",
      "0      0         A/5 21171   7.2500   NaN        S  \n",
      "1      0          PC 17599  71.2833   C85        C  \n",
      "2      0  STON/O2. 3101282   7.9250   NaN        S  \n",
      "3      0            113803  53.1000  C123        S  \n",
      "4      0            373450   8.0500   NaN        S  \n"
     ]
    }
   ],
   "source": [
    "train_data = pd.read_csv(\"/kaggle/input/titanic/train.csv\")\n",
    "\n",
    "features = [\"Pclass\", \"Sex\", \"Fare\",\"Age\", \"SibSp\", \"Parch\"] # Here, I also added more features which I think might be useful\n",
    "\n",
    "X_train = train_data # I won't actually limit the X_train to just the columns of the features I want just yet. This is because I will use the other columns in the data set to help impute missing values\n",
    "\n",
    "Y_train = train_data[\"Survived\"]\n",
    "\n",
    "print(X_train.head())\n"
   ]
  },
  {
   "cell_type": "markdown",
   "id": "7a187a63",
   "metadata": {
    "papermill": {
     "duration": 0.025673,
     "end_time": "2023-11-20T15:56:23.630737",
     "exception": false,
     "start_time": "2023-11-20T15:56:23.605064",
     "status": "completed"
    },
    "tags": []
   },
   "source": [
    "# Start cleaning up the data"
   ]
  },
  {
   "cell_type": "code",
   "execution_count": 14,
   "id": "258b6352",
   "metadata": {
    "execution": {
     "iopub.execute_input": "2023-11-20T15:56:23.684948Z",
     "iopub.status.busy": "2023-11-20T15:56:23.683900Z",
     "iopub.status.idle": "2023-11-20T15:56:23.696124Z",
     "shell.execute_reply": "2023-11-20T15:56:23.694783Z"
    },
    "papermill": {
     "duration": 0.041812,
     "end_time": "2023-11-20T15:56:23.698544",
     "exception": false,
     "start_time": "2023-11-20T15:56:23.656732",
     "status": "completed"
    },
    "tags": []
   },
   "outputs": [
    {
     "name": "stdout",
     "output_type": "stream",
     "text": [
      "0\n",
      "0\n",
      "0\n",
      "0\n",
      "0\n",
      "177\n"
     ]
    }
   ],
   "source": [
    "# Impute missing values for Pclass\n",
    "\n",
    "average_Pclass = X_train[\"Pclass\"].median()\n",
    "\n",
    "X_train[\"Pclass\"].fillna(average_Pclass, inplace = True)\n",
    "\n",
    "print(X_train[\"Pclass\"].isnull().sum()) # print the number of rows in the \"Pclass\" columns that now have no value\n",
    "\n",
    "print(X_train[\"Sex\"].isnull().sum()) # Since this prints out 0, this means that there is no missing value in the \"Sex\" column so we don't need to impute anything\n",
    "\n",
    "print(X_train[\"Fare\"].isnull().sum()) # Since this prints out 0, this means that there is no missing value in the \"Fare\" column so we don't need to impute anything\n",
    "\n",
    "print(X_train[\"SibSp\"].isnull().sum()) # Since this prints out 0, this means that there is no missing value in the \"SibSp\" column so we don't need to impute anything\n",
    "\n",
    "print(X_train[\"Parch\"].isnull().sum()) # Since this prints out 0, this means that there is no missing value in the \"Parch\" column so we don't need to impute anything\n",
    "\n",
    "print(X_train[\"Age\"].isnull().sum()) # This prints out 177 so there are 177 rows with missing values in the \"Age\" column! This means we have to do a lot of imputing\n",
    "\n"
   ]
  },
  {
   "cell_type": "markdown",
   "id": "700aa7b8",
   "metadata": {
    "papermill": {
     "duration": 0.025639,
     "end_time": "2023-11-20T15:56:23.750635",
     "exception": false,
     "start_time": "2023-11-20T15:56:23.724996",
     "status": "completed"
    },
    "tags": []
   },
   "source": [
    "**From this, we learned that age is the main column with missing values (of the columns that we are working with) so we need to methodically impute those missing values**"
   ]
  },
  {
   "cell_type": "markdown",
   "id": "dfdc462c",
   "metadata": {
    "papermill": {
     "duration": 0.025444,
     "end_time": "2023-11-20T15:56:23.802169",
     "exception": false,
     "start_time": "2023-11-20T15:56:23.776725",
     "status": "completed"
    },
    "tags": []
   },
   "source": [
    "# Cleaning up (imputing) the Age column using a Random Forest Regressor model (a type of Machine Learning model) that accurately predicts the age of a person given their "
   ]
  },
  {
   "cell_type": "code",
   "execution_count": 15,
   "id": "97536896",
   "metadata": {
    "execution": {
     "iopub.execute_input": "2023-11-20T15:56:23.856045Z",
     "iopub.status.busy": "2023-11-20T15:56:23.855029Z",
     "iopub.status.idle": "2023-11-20T15:56:48.115695Z",
     "shell.execute_reply": "2023-11-20T15:56:48.114886Z"
    },
    "papermill": {
     "duration": 24.290833,
     "end_time": "2023-11-20T15:56:48.118618",
     "exception": false,
     "start_time": "2023-11-20T15:56:23.827785",
     "status": "completed"
    },
    "tags": []
   },
   "outputs": [
    {
     "name": "stdout",
     "output_type": "stream",
     "text": [
      "0\n"
     ]
    },
    {
     "name": "stderr",
     "output_type": "stream",
     "text": [
      "/opt/conda/lib/python3.10/site-packages/sklearn/impute/_iterative.py:785: ConvergenceWarning: [IterativeImputer] Early stopping criterion not reached.\n",
      "  warnings.warn(\n"
     ]
    }
   ],
   "source": [
    "from sklearn.experimental import enable_iterative_imputer\n",
    "from sklearn.impute import IterativeImputer\n",
    "from sklearn.ensemble import RandomForestRegressor\n",
    "from sklearn.preprocessing import LabelEncoder\n",
    "\n",
    "\n",
    "#We use \"LabelEncoder\" to turn all the categorial values (values which don't use numbers) into values which the Random Forest Regressor can understand more easily. This is very similar to doing something like pd.get_dummies()\n",
    "\n",
    "label_encoders = {}\n",
    "for column in ['Sex', 'Embarked']:\n",
    "    label_encoders[column] = LabelEncoder()\n",
    "    # We use 'astype(str)' to convert any NaN values to a string representation\n",
    "    X_train[column] = label_encoders[column].fit_transform(X_train[column].astype(str))\n",
    "\n",
    "features = ['Survived', 'Pclass', 'Sex', 'Age', 'SibSp', 'Parch', 'Fare', 'Embarked']\n",
    "# One very important thing that I will end up doing is using the \"Survived\" column of the dataset to predict the age. This is because there is a strong correleation between the survival and age. \n",
    "\n",
    "\n",
    "#This is an imputer. It is a function that can efficiently impute values in the way you want. For this scenario, I am using IterativeImputer() and the RandomForestRegressor(() to )\n",
    "imputer = IterativeImputer(RandomForestRegressor(n_estimators=10), max_iter=100, random_state=0)\n",
    "\n",
    "\n",
    "# Fit the imputer on the DataFrame with the features\n",
    "imputer.fit(X_train[features]) #When IterativeImputer is used alongside an ML model like RandomForestRegressor, calling .fit() on the IterativeImputer() object will also fit (train) the ML model\n",
    "\n",
    "\n",
    "# Perform the imputation on the Training Data. THIS WILL ACTUAL IMPUTE ANY MISSING VALUES IN EACH ROW, not only the missing values in Age.\n",
    "X_train_imputed = imputer.transform(X_train[features])\n",
    "\n",
    "\n",
    "# Convert the output back to a DataFrame\n",
    "X_train_imputed = pd.DataFrame(X_train_imputed, columns=features)\n",
    "\n",
    "# Update the original DataFrame with the imputed values. This means that the columns of the original X_train dataframe that weren't part of the features (like \"Name\" isn't apart of the features list)\n",
    "X_train[features] = X_train_imputed\n",
    "\n",
    "#print(X_train.head())\n",
    "\n",
    "print(X_train[\"Age\"].isnull().sum()) # Since this prints 0, we now know that there are 0 missing values in the age column and so the imputation was successful "
   ]
  },
  {
   "cell_type": "markdown",
   "id": "a251ecf7",
   "metadata": {
    "papermill": {
     "duration": 0.026303,
     "end_time": "2023-11-20T15:56:48.171215",
     "exception": false,
     "start_time": "2023-11-20T15:56:48.144912",
     "status": "completed"
    },
    "tags": []
   },
   "source": [
    "**Using IterativeRegressor() and RandomForestRegressor(), I essentially used an ML model to impute any missing values in the dataset. I wanted to clean up the age column using the most effective method and I didn't want to just find the average age and impute all those values to the missing values. I wanted to be smart since age is an incredibly important feature.**"
   ]
  },
  {
   "cell_type": "markdown",
   "id": "85a41a7c",
   "metadata": {
    "papermill": {
     "duration": 0.026843,
     "end_time": "2023-11-20T15:56:48.225469",
     "exception": false,
     "start_time": "2023-11-20T15:56:48.198626",
     "status": "completed"
    },
    "tags": []
   },
   "source": [
    "**Using the ImperativeImputer(), this will actually impute all the missing values in each row. It won't only impute the missing values in the \"age\" column. BUT, since we already cleaned the data and know there are 0 missing values for all the other columns that we care about (the ones with the features we are using), the imputer will be imputing values only to the missing values of age and other columns that we don't care about, but out of all the columns we care about, it will only be affecting the age column since all the other columns we care about have 0 missing values as we checked in the code previously.**"
   ]
  },
  {
   "cell_type": "code",
   "execution_count": 16,
   "id": "ad1a32c1",
   "metadata": {
    "execution": {
     "iopub.execute_input": "2023-11-20T15:56:48.280670Z",
     "iopub.status.busy": "2023-11-20T15:56:48.280054Z",
     "iopub.status.idle": "2023-11-20T15:56:48.303098Z",
     "shell.execute_reply": "2023-11-20T15:56:48.301579Z"
    },
    "papermill": {
     "duration": 0.053446,
     "end_time": "2023-11-20T15:56:48.305678",
     "exception": false,
     "start_time": "2023-11-20T15:56:48.252232",
     "status": "completed"
    },
    "tags": []
   },
   "outputs": [
    {
     "name": "stdout",
     "output_type": "stream",
     "text": [
      "   Pclass  Sex     Fare   Age  SibSp  Parch\n",
      "0     3.0  1.0   7.2500  22.0    1.0    0.0\n",
      "1     1.0  0.0  71.2833  38.0    1.0    0.0\n",
      "2     3.0  0.0   7.9250  26.0    0.0    0.0\n",
      "3     1.0  0.0  53.1000  35.0    1.0    0.0\n",
      "4     3.0  1.0   8.0500  35.0    0.0    0.0\n",
      "314\n",
      "577\n",
      "   Pclass     Sex     Fare   Age  SibSp  Parch\n",
      "0     3.0    male   7.2500  22.0    1.0    0.0\n",
      "1     1.0  female  71.2833  38.0    1.0    0.0\n",
      "2     3.0  female   7.9250  26.0    0.0    0.0\n",
      "3     1.0  female  53.1000  35.0    1.0    0.0\n",
      "4     3.0    male   8.0500  35.0    0.0    0.0\n",
      "577\n"
     ]
    },
    {
     "name": "stderr",
     "output_type": "stream",
     "text": [
      "/tmp/ipykernel_20/1272774441.py:12: SettingWithCopyWarning: \n",
      "A value is trying to be set on a copy of a slice from a DataFrame.\n",
      "Try using .loc[row_indexer,col_indexer] = value instead\n",
      "\n",
      "See the caveats in the documentation: https://pandas.pydata.org/pandas-docs/stable/user_guide/indexing.html#returning-a-view-versus-a-copy\n",
      "  X_train['Sex'] = X_train['Sex'].map({0: 'female', 1: 'male'})\n"
     ]
    }
   ],
   "source": [
    "features = [\"Pclass\", \"Sex\", \"Fare\",\"Age\", \"SibSp\", \"Parch\"]\n",
    "\n",
    "X_train = X_train[features]\n",
    "\n",
    "print(X_train.head(5))\n",
    "\n",
    "print((X_train[\"Sex\"] == 0).sum())\n",
    "print((X_train[\"Sex\"] == 1).sum())\n",
    "\n",
    "# Since the dataset is 65% male, we can see from printing out the number of people with \"sex equal to 0\" and \"sex equal to 1\" that the LabelEncoder made Male into \"1\" and Female into \"0\". Now, let's change it back to \"Male\" and \"Female\".\n",
    "\n",
    "X_train['Sex'] = X_train['Sex'].map({0: 'female', 1: 'male'})\n",
    "\n",
    "print(X_train.head(5))\n",
    "\n",
    "print((X_train[\"Sex\"] == \"male\").sum())"
   ]
  },
  {
   "cell_type": "markdown",
   "id": "284a7fa8",
   "metadata": {
    "papermill": {
     "duration": 0.025896,
     "end_time": "2023-11-20T15:56:48.358310",
     "exception": false,
     "start_time": "2023-11-20T15:56:48.332414",
     "status": "completed"
    },
    "tags": []
   },
   "source": [
    "**Here, in the code above, I changed X_train back to focus only on the features we care about. I also changed the \"Sex\" column from 0 and 1 back to Male and Female.**"
   ]
  },
  {
   "cell_type": "markdown",
   "id": "6f1c08da",
   "metadata": {
    "papermill": {
     "duration": 0.026379,
     "end_time": "2023-11-20T15:56:48.410620",
     "exception": false,
     "start_time": "2023-11-20T15:56:48.384241",
     "status": "completed"
    },
    "tags": []
   },
   "source": [
    "# After the careful inspection of the test.csv, I see that there are also missing values in the test.csv. As a result, we have to clean up the data for test.csv as we did for train.csv"
   ]
  },
  {
   "cell_type": "markdown",
   "id": "f75d8d19",
   "metadata": {
    "papermill": {
     "duration": 0.026075,
     "end_time": "2023-11-20T15:56:48.463688",
     "exception": false,
     "start_time": "2023-11-20T15:56:48.437613",
     "status": "completed"
    },
    "tags": []
   },
   "source": [
    "**Seeing which columns have missing values:**"
   ]
  },
  {
   "cell_type": "code",
   "execution_count": 17,
   "id": "7897bca8",
   "metadata": {
    "execution": {
     "iopub.execute_input": "2023-11-20T15:56:48.520423Z",
     "iopub.status.busy": "2023-11-20T15:56:48.519680Z",
     "iopub.status.idle": "2023-11-20T15:56:48.539719Z",
     "shell.execute_reply": "2023-11-20T15:56:48.538639Z"
    },
    "papermill": {
     "duration": 0.051537,
     "end_time": "2023-11-20T15:56:48.542161",
     "exception": false,
     "start_time": "2023-11-20T15:56:48.490624",
     "status": "completed"
    },
    "tags": []
   },
   "outputs": [
    {
     "name": "stdout",
     "output_type": "stream",
     "text": [
      "0\n",
      "0\n",
      "0\n",
      "0\n",
      "1\n",
      "86\n"
     ]
    }
   ],
   "source": [
    "test_data = pd.read_csv(\"/kaggle/input/titanic/test.csv\")\n",
    "\n",
    "features = [\"Pclass\", \"Sex\", \"Fare\",\"Age\", \"SibSp\", \"Parch\"]\n",
    "\n",
    "print(test_data[\"Pclass\"].isnull().sum()) # Since this is 0, that means there is no missing values\n",
    "\n",
    "print(test_data[\"Sex\"].isnull().sum()) # Since this is 0, that means there is no missing values\n",
    "\n",
    "print(test_data[\"SibSp\"].isnull().sum()) # Since this is 0, that means there is no missing values\n",
    "\n",
    "print(test_data[\"Parch\"].isnull().sum()) # Since this is 0, that means there is no missing values\n",
    "\n",
    "print(test_data[\"Fare\"].isnull().sum()) # Since this is 1, that means there is one missing value\n",
    "\n",
    "print(test_data[\"Age\"].isnull().sum()) # Since this is 86, that means there are 86 missing values\n"
   ]
  },
  {
   "cell_type": "markdown",
   "id": "4ea44601",
   "metadata": {
    "papermill": {
     "duration": 0.025958,
     "end_time": "2023-11-20T15:56:48.594756",
     "exception": false,
     "start_time": "2023-11-20T15:56:48.568798",
     "status": "completed"
    },
    "tags": []
   },
   "source": [
    "**From this, we can see that only \"Fare\" annd \"Age\" have missing values. Since \"Fare\" only has one missing value, it's not worth it to go to through all the work to do some advanced imputation technique to fill in missing values. So, I will just fill that in with the average fare value.**\n",
    "\n",
    "**For the \"Age\" feature, I will repeat the process of using an IterativeImputer and a RandomForestRegressor to imputate missing values**"
   ]
  },
  {
   "cell_type": "code",
   "execution_count": 18,
   "id": "254e06ef",
   "metadata": {
    "execution": {
     "iopub.execute_input": "2023-11-20T15:56:48.649708Z",
     "iopub.status.busy": "2023-11-20T15:56:48.648697Z",
     "iopub.status.idle": "2023-11-20T15:56:48.656412Z",
     "shell.execute_reply": "2023-11-20T15:56:48.655154Z"
    },
    "papermill": {
     "duration": 0.037399,
     "end_time": "2023-11-20T15:56:48.658567",
     "exception": false,
     "start_time": "2023-11-20T15:56:48.621168",
     "status": "completed"
    },
    "tags": []
   },
   "outputs": [
    {
     "name": "stdout",
     "output_type": "stream",
     "text": [
      "0\n"
     ]
    }
   ],
   "source": [
    "average_fare = test_data[\"Fare\"].mean()\n",
    "\n",
    "test_data[\"Fare\"].fillna(average_fare, inplace = True) # This replaces the single missing value in \"Fare\" with the average value Fare Value of the test data\n",
    "\n",
    "print(test_data[\"Fare\"].isnull().sum())"
   ]
  },
  {
   "cell_type": "code",
   "execution_count": 19,
   "id": "c1a9c1f7",
   "metadata": {
    "execution": {
     "iopub.execute_input": "2023-11-20T15:56:48.714849Z",
     "iopub.status.busy": "2023-11-20T15:56:48.714140Z",
     "iopub.status.idle": "2023-11-20T15:57:05.506713Z",
     "shell.execute_reply": "2023-11-20T15:57:05.505490Z"
    },
    "papermill": {
     "duration": 16.823288,
     "end_time": "2023-11-20T15:57:05.509448",
     "exception": false,
     "start_time": "2023-11-20T15:56:48.686160",
     "status": "completed"
    },
    "tags": []
   },
   "outputs": [
    {
     "name": "stdout",
     "output_type": "stream",
     "text": [
      "0\n",
      "   PassengerId  Pclass                                          Name  Sex  \\\n",
      "0          892     3.0                              Kelly, Mr. James  1.0   \n",
      "1          893     3.0              Wilkes, Mrs. James (Ellen Needs)  0.0   \n",
      "2          894     2.0                     Myles, Mr. Thomas Francis  1.0   \n",
      "3          895     3.0                              Wirz, Mr. Albert  1.0   \n",
      "4          896     3.0  Hirvonen, Mrs. Alexander (Helga E Lindqvist)  0.0   \n",
      "\n",
      "    Age  SibSp  Parch   Ticket     Fare Cabin  Embarked  \n",
      "0  34.5    0.0    0.0   330911   7.8292   NaN       1.0  \n",
      "1  47.0    1.0    0.0   363272   7.0000   NaN       2.0  \n",
      "2  62.0    0.0    0.0   240276   9.6875   NaN       1.0  \n",
      "3  27.0    0.0    0.0   315154   8.6625   NaN       2.0  \n",
      "4  22.0    1.0    1.0  3101298  12.2875   NaN       2.0  \n"
     ]
    },
    {
     "name": "stderr",
     "output_type": "stream",
     "text": [
      "/opt/conda/lib/python3.10/site-packages/sklearn/impute/_iterative.py:785: ConvergenceWarning: [IterativeImputer] Early stopping criterion not reached.\n",
      "  warnings.warn(\n"
     ]
    }
   ],
   "source": [
    "from sklearn.experimental import enable_iterative_imputer\n",
    "from sklearn.impute import IterativeImputer\n",
    "from sklearn.ensemble import RandomForestRegressor\n",
    "from sklearn.preprocessing import LabelEncoder\n",
    "\n",
    "\n",
    "#We use \"LabelEncoder\" to turn all the categorial values (values which don't use numbers) into values which the Random Forest Regressor can understand more easily. This is very similar to doing something like pd.get_dummies()\n",
    "\n",
    "label_encoders = {}\n",
    "for column in ['Sex', 'Embarked']:\n",
    "    label_encoders[column] = LabelEncoder()\n",
    "    # We use 'astype(str)' to convert any NaN values to a string representation\n",
    "    test_data[column] = label_encoders[column].fit_transform(test_data[column].astype(str))\n",
    "\n",
    "features = ['Pclass', 'Sex', 'Age', 'SibSp', 'Parch', 'Fare', 'Embarked']\n",
    "\n",
    "\n",
    "#This is an imputer. It is a function that can efficiently impute values in the way you want. For this scenario, I am using IterativeImputer() and the RandomForestRegressor(() to )\n",
    "imputer = IterativeImputer(RandomForestRegressor(n_estimators=10), max_iter=100, random_state=0)\n",
    "\n",
    "\n",
    "# Fit the imputer on the DataFrame with the features\n",
    "imputer.fit(test_data[features]) #When IterativeImputer is used alongside an ML model like RandomForestRegressor, calling .fit() on the IterativeImputer() object will also fit (train) the ML model\n",
    "\n",
    "\n",
    "# Perform the imputation on the Test Data. THIS WILL ACTUAL IMPUTE ANY MISSING VALUES IN EACH ROW, not only the missing values in Age.\n",
    "test_data_imputed = imputer.transform(test_data[features])\n",
    "\n",
    "\n",
    "# Convert the output back to a DataFrame\n",
    "test_data_imputed = pd.DataFrame(test_data_imputed, columns=features)\n",
    "\n",
    "# Update the original DataFrame with the imputed values. This means that the columns of the original test_data dataframe that weren't part of the features (like \"Name\" isn't apart of the features list)\n",
    "test_data[features] = test_data_imputed\n",
    "\n",
    "print(test_data[\"Age\"].isnull().sum()) # Since this prints 0, we now know that there are 0 missing values in the age column and so the imputation was successful \n",
    "\n",
    "print(test_data.head())"
   ]
  },
  {
   "cell_type": "markdown",
   "id": "1ebe559a",
   "metadata": {
    "papermill": {
     "duration": 0.027108,
     "end_time": "2023-11-20T15:57:05.563645",
     "exception": false,
     "start_time": "2023-11-20T15:57:05.536537",
     "status": "completed"
    },
    "tags": []
   },
   "source": [
    "**The code above will imputate all the missing values in the test_data**"
   ]
  },
  {
   "cell_type": "markdown",
   "id": "989dece2",
   "metadata": {
    "papermill": {
     "duration": 0.026514,
     "end_time": "2023-11-20T15:57:05.617583",
     "exception": false,
     "start_time": "2023-11-20T15:57:05.591069",
     "status": "completed"
    },
    "tags": []
   },
   "source": [
    "# Finalize the cleaning of the data and make it so test_data only has the features we want"
   ]
  },
  {
   "cell_type": "code",
   "execution_count": 20,
   "id": "f26e1db1",
   "metadata": {
    "execution": {
     "iopub.execute_input": "2023-11-20T15:57:05.673640Z",
     "iopub.status.busy": "2023-11-20T15:57:05.673218Z",
     "iopub.status.idle": "2023-11-20T15:57:05.689232Z",
     "shell.execute_reply": "2023-11-20T15:57:05.687732Z"
    },
    "papermill": {
     "duration": 0.047605,
     "end_time": "2023-11-20T15:57:05.691980",
     "exception": false,
     "start_time": "2023-11-20T15:57:05.644375",
     "status": "completed"
    },
    "tags": []
   },
   "outputs": [
    {
     "name": "stdout",
     "output_type": "stream",
     "text": [
      "152\n",
      "266\n",
      "   Pclass     Sex     Fare   Age  SibSp  Parch\n",
      "0     3.0    male   7.8292  34.5    0.0    0.0\n",
      "1     3.0  female   7.0000  47.0    1.0    0.0\n",
      "2     2.0    male   9.6875  62.0    0.0    0.0\n",
      "3     3.0    male   8.6625  27.0    0.0    0.0\n",
      "4     3.0  female  12.2875  22.0    1.0    1.0\n",
      "266\n"
     ]
    }
   ],
   "source": [
    "features = [\"Pclass\", \"Sex\", \"Fare\",\"Age\", \"SibSp\", \"Parch\"]\n",
    "\n",
    "test_data = test_data[features]\n",
    "\n",
    "print((test_data[\"Sex\"] == 0).sum())\n",
    "print((test_data[\"Sex\"] == 1).sum())\n",
    "\n",
    "# Since the dataset is 65% male, we can see from printing out the number of people with \"sex equal to 0\" and \"sex equal to 1\" that the LabelEncoder made Male into \"1\" and Female into \"0\". Now, let's change it back to \"male\" and \"female\".\n",
    "\n",
    "test_data['Sex'] = test_data['Sex'].map({0: 'female', 1: 'male'})\n",
    "\n",
    "print(test_data.head(5))\n",
    "\n",
    "print((test_data[\"Sex\"] == \"male\").sum())"
   ]
  },
  {
   "cell_type": "markdown",
   "id": "e1d495b0",
   "metadata": {
    "papermill": {
     "duration": 0.027449,
     "end_time": "2023-11-20T15:57:05.746941",
     "exception": false,
     "start_time": "2023-11-20T15:57:05.719492",
     "status": "completed"
    },
    "tags": []
   },
   "source": [
    "# Now, after cleaning up the data, I can split up the data into train_validation_test "
   ]
  },
  {
   "cell_type": "code",
   "execution_count": 21,
   "id": "3378746e",
   "metadata": {
    "execution": {
     "iopub.execute_input": "2023-11-20T15:57:05.803589Z",
     "iopub.status.busy": "2023-11-20T15:57:05.803198Z",
     "iopub.status.idle": "2023-11-20T15:57:05.814070Z",
     "shell.execute_reply": "2023-11-20T15:57:05.812753Z"
    },
    "papermill": {
     "duration": 0.042077,
     "end_time": "2023-11-20T15:57:05.816731",
     "exception": false,
     "start_time": "2023-11-20T15:57:05.774654",
     "status": "completed"
    },
    "tags": []
   },
   "outputs": [],
   "source": [
    "from sklearn.model_selection import train_test_split\n",
    "\n",
    "Y_train = train_data[\"Survived\"]\n",
    "\n",
    "# First, split into training (60%) and a test set (40%)\n",
    "train_X, test_X, train_Y, test_Y = train_test_split(X_train, Y_train, test_size=0.4, random_state = 42)\n",
    "\n",
    "#Second, split test set into a validation (20%) and test set (20%)\n",
    "valid_X, test_X, valid_Y, test_Y= train_test_split(test_X, test_Y, test_size = 0.5, random_state = 42)"
   ]
  },
  {
   "cell_type": "markdown",
   "id": "14b1bbd1",
   "metadata": {
    "papermill": {
     "duration": 0.027558,
     "end_time": "2023-11-20T15:57:05.871907",
     "exception": false,
     "start_time": "2023-11-20T15:57:05.844349",
     "status": "completed"
    },
    "tags": []
   },
   "source": [
    "# Using pd.get_dummies() on all the data"
   ]
  },
  {
   "cell_type": "markdown",
   "id": "39dc5ea0",
   "metadata": {
    "papermill": {
     "duration": 0.026825,
     "end_time": "2023-11-20T15:57:05.926055",
     "exception": false,
     "start_time": "2023-11-20T15:57:05.899230",
     "status": "completed"
    },
    "tags": []
   },
   "source": [
    "**Setting up the Test data (from Test.csv) (This is NOT the test data from the Train_validation_test split):**"
   ]
  },
  {
   "cell_type": "code",
   "execution_count": 22,
   "id": "3b828680",
   "metadata": {
    "execution": {
     "iopub.execute_input": "2023-11-20T15:57:05.982370Z",
     "iopub.status.busy": "2023-11-20T15:57:05.981958Z",
     "iopub.status.idle": "2023-11-20T15:57:05.996601Z",
     "shell.execute_reply": "2023-11-20T15:57:05.995678Z"
    },
    "papermill": {
     "duration": 0.045378,
     "end_time": "2023-11-20T15:57:05.998827",
     "exception": false,
     "start_time": "2023-11-20T15:57:05.953449",
     "status": "completed"
    },
    "tags": []
   },
   "outputs": [
    {
     "name": "stdout",
     "output_type": "stream",
     "text": [
      "   Pclass     Fare   Age  SibSp  Parch  Sex_female  Sex_male\n",
      "0     3.0   7.8292  34.5    0.0    0.0       False      True\n",
      "1     3.0   7.0000  47.0    1.0    0.0        True     False\n",
      "2     2.0   9.6875  62.0    0.0    0.0       False      True\n",
      "3     3.0   8.6625  27.0    0.0    0.0       False      True\n",
      "4     3.0  12.2875  22.0    1.0    1.0        True     False\n"
     ]
    }
   ],
   "source": [
    "test_data = test_data #the \"test_data\" variable here is after we cleaned up the test_data \n",
    "\n",
    "features = [\"Pclass\", \"Sex\", \"Fare\",\"Age\", \"SibSp\", \"Parch\"]\n",
    "\n",
    "test_data = test_data[features]\n",
    "\n",
    "test_data = pd.get_dummies(test_data)\n",
    "print(test_data.head())"
   ]
  },
  {
   "cell_type": "markdown",
   "id": "8d71f153",
   "metadata": {
    "papermill": {
     "duration": 0.026682,
     "end_time": "2023-11-20T15:57:06.052707",
     "exception": false,
     "start_time": "2023-11-20T15:57:06.026025",
     "status": "completed"
    },
    "tags": []
   },
   "source": [
    "**Setting up the Train data and Validation data and the Test data from the train_validation_test split:**"
   ]
  },
  {
   "cell_type": "code",
   "execution_count": 23,
   "id": "2e724d7f",
   "metadata": {
    "execution": {
     "iopub.execute_input": "2023-11-20T15:57:06.109383Z",
     "iopub.status.busy": "2023-11-20T15:57:06.108203Z",
     "iopub.status.idle": "2023-11-20T15:57:06.135768Z",
     "shell.execute_reply": "2023-11-20T15:57:06.134139Z"
    },
    "papermill": {
     "duration": 0.058754,
     "end_time": "2023-11-20T15:57:06.138577",
     "exception": false,
     "start_time": "2023-11-20T15:57:06.079823",
     "status": "completed"
    },
    "tags": []
   },
   "outputs": [
    {
     "name": "stdout",
     "output_type": "stream",
     "text": [
      "     Pclass     Fare   Age  SibSp  Parch  Sex_female  Sex_male\n",
      "570     2.0  10.5000  62.0    0.0    0.0       False      True\n",
      "787     3.0  29.1250   8.0    4.0    1.0       False      True\n",
      "74      3.0  56.4958  32.0    0.0    0.0       False      True\n",
      "113     3.0   9.8250  20.0    1.0    0.0        True     False\n",
      "635     2.0  13.0000  28.0    0.0    0.0        True     False\n",
      "     Pclass     Fare        Age  SibSp  Parch  Sex_female  Sex_male\n",
      "849     1.0  89.1042  40.900000    1.0    0.0        True     False\n",
      "331     1.0  28.5000  45.500000    0.0    0.0       False      True\n",
      "260     3.0   7.7500  42.610179    0.0    0.0       False      True\n",
      "316     2.0  26.0000  24.000000    1.0    0.0        True     False\n",
      "292     2.0  12.8750  36.000000    0.0    0.0       False      True\n",
      "     Pclass     Fare        Age  SibSp  Parch  Sex_female  Sex_male\n",
      "424     3.0  20.2125  18.000000    1.0    1.0       False      True\n",
      "837     3.0   8.0500  32.682979    0.0    0.0       False      True\n",
      "525     3.0   7.7500  40.500000    0.0    0.0       False      True\n",
      "328     3.0  20.5250  31.000000    1.0    1.0        True     False\n",
      "70      2.0  10.5000  32.000000    0.0    0.0       False      True\n"
     ]
    }
   ],
   "source": [
    "train_X = pd.get_dummies(train_X)\n",
    "print(train_X.head())\n",
    "\n",
    "valid_X = pd.get_dummies(valid_X)\n",
    "print(valid_X.head())\n",
    "\n",
    "test_X = pd.get_dummies(test_X)\n",
    "print(test_X.head())"
   ]
  },
  {
   "cell_type": "markdown",
   "id": "169c679d",
   "metadata": {
    "papermill": {
     "duration": 0.027103,
     "end_time": "2023-11-20T15:57:06.193143",
     "exception": false,
     "start_time": "2023-11-20T15:57:06.166040",
     "status": "completed"
    },
    "tags": []
   },
   "source": [
    "# Making the model, training it using train_X and changing the model based on valid_X"
   ]
  },
  {
   "cell_type": "code",
   "execution_count": 24,
   "id": "239b2d08",
   "metadata": {
    "execution": {
     "iopub.execute_input": "2023-11-20T15:57:06.249727Z",
     "iopub.status.busy": "2023-11-20T15:57:06.249319Z",
     "iopub.status.idle": "2023-11-20T15:57:06.254683Z",
     "shell.execute_reply": "2023-11-20T15:57:06.253396Z"
    },
    "papermill": {
     "duration": 0.036454,
     "end_time": "2023-11-20T15:57:06.256944",
     "exception": false,
     "start_time": "2023-11-20T15:57:06.220490",
     "status": "completed"
    },
    "tags": []
   },
   "outputs": [],
   "source": [
    "from sklearn.neural_network import MLPClassifier\n",
    "from sklearn.metrics import accuracy_score\n",
    "\n",
    "# Commented out the code so that the model won't run everytime\n",
    "\n",
    "# model = MLPClassifier(hidden_layer_sizes = (20, 11), activation = \"relu\", solver = \"lbfgs\", max_iter = 1000, random_state = 42)\n",
    "\n",
    "# model.fit(train_X, train_Y)\n",
    "\n",
    "# y_pred = model.predict(valid_X)\n",
    "\n",
    "# print(f\"Accuracy: {accuracy_score(valid_Y, y_pred)}\")"
   ]
  },
  {
   "cell_type": "markdown",
   "id": "53d10439",
   "metadata": {
    "papermill": {
     "duration": 0.027398,
     "end_time": "2023-11-20T15:57:06.311626",
     "exception": false,
     "start_time": "2023-11-20T15:57:06.284228",
     "status": "completed"
    },
    "tags": []
   },
   "source": [
    "**From the code above, you can see that I am using the validation set to test out the code**"
   ]
  },
  {
   "cell_type": "code",
   "execution_count": 25,
   "id": "6574ea3f",
   "metadata": {
    "execution": {
     "iopub.execute_input": "2023-11-20T15:57:06.368483Z",
     "iopub.status.busy": "2023-11-20T15:57:06.368042Z",
     "iopub.status.idle": "2023-11-20T15:57:06.372949Z",
     "shell.execute_reply": "2023-11-20T15:57:06.371766Z"
    },
    "papermill": {
     "duration": 0.036121,
     "end_time": "2023-11-20T15:57:06.375189",
     "exception": false,
     "start_time": "2023-11-20T15:57:06.339068",
     "status": "completed"
    },
    "tags": []
   },
   "outputs": [],
   "source": [
    "# Commented out the code so that the model won't run everytime\n",
    "\n",
    "# y_pred = model.predict(test_X)\n",
    "\n",
    "# print(f\"Accuracy: {accuracy_score(test_Y, y_pred)}\")"
   ]
  },
  {
   "cell_type": "markdown",
   "id": "697c42c0",
   "metadata": {
    "papermill": {
     "duration": 0.027502,
     "end_time": "2023-11-20T15:57:06.430209",
     "exception": false,
     "start_time": "2023-11-20T15:57:06.402707",
     "status": "completed"
    },
    "tags": []
   },
   "source": [
    "# Using GridSearchCV to find the best parameters for my MLPClassifier Model"
   ]
  },
  {
   "cell_type": "markdown",
   "id": "d1d20404",
   "metadata": {
    "papermill": {
     "duration": 0.027268,
     "end_time": "2023-11-20T15:57:06.485325",
     "exception": false,
     "start_time": "2023-11-20T15:57:06.458057",
     "status": "completed"
    },
    "tags": []
   },
   "source": [
    "**The \"parameter space\" are all the different components and possible values which I want to try for my model**"
   ]
  },
  {
   "cell_type": "code",
   "execution_count": 26,
   "id": "57eed358",
   "metadata": {
    "execution": {
     "iopub.execute_input": "2023-11-20T15:57:06.543819Z",
     "iopub.status.busy": "2023-11-20T15:57:06.543401Z",
     "iopub.status.idle": "2023-11-20T15:57:06.553457Z",
     "shell.execute_reply": "2023-11-20T15:57:06.552423Z"
    },
    "papermill": {
     "duration": 0.042084,
     "end_time": "2023-11-20T15:57:06.555791",
     "exception": false,
     "start_time": "2023-11-20T15:57:06.513707",
     "status": "completed"
    },
    "tags": []
   },
   "outputs": [],
   "source": [
    "# %%capture --no-stderr\n",
    "\n",
    "# # Code that causes warnings\n",
    "# import warnings\n",
    "# from sklearn.exceptions import ConvergenceWarning\n",
    "\n",
    "# # Suppress ConvergenceWarning\n",
    "# warnings.filterwarnings(\"ignore\", category=ConvergenceWarning)\n",
    "# warnings.filterwarnings('ignore')\n",
    "\n",
    "from sklearn.model_selection import GridSearchCV\n",
    "from sklearn.neural_network import MLPClassifier\n",
    "\n",
    "training_X = pd.concat([train_X, valid_X, test_X], ignore_index=True)\n",
    "training_Y = pd.concat([train_Y, valid_Y, test_Y], ignore_index=True)\n",
    "\n",
    "possible_hidden_layers = []\n",
    "\n",
    "for i in range(8,16):\n",
    "    for j in range(8,16):\n",
    "        possible_hidden_layers.append((i, j))\n",
    "\n",
    "parameter_space = {\n",
    "    'hidden_layer_sizes': possible_hidden_layers,\n",
    "    'activation': ['tanh', 'relu'],\n",
    "    'solver': ['sgd', 'adam', \"lbfgs\"],\n",
    "    'alpha': [0.0001, 0.05],\n",
    "    'learning_rate': ['constant','adaptive'],\n",
    "}\n",
    "\n",
    "# mlp = MLPClassifier(max_iter=1000, random_state = 42)\n",
    "\n",
    "# clf = GridSearchCV(mlp, parameter_space, n_jobs=-1, cv=3)\n",
    "\n",
    "# clf.fit(training_X, training_Y)\n",
    "\n",
    "# print('Best parameters found:\\n', clf.best_params_)\n",
    "\n",
    "# print('Best score (CV mean):', clf.best_score_)\n",
    "\n",
    "# print(\"Done\")\n",
    "\n"
   ]
  },
  {
   "cell_type": "markdown",
   "id": "4098a47c",
   "metadata": {
    "papermill": {
     "duration": 0.027271,
     "end_time": "2023-11-20T15:57:06.610875",
     "exception": false,
     "start_time": "2023-11-20T15:57:06.583604",
     "status": "completed"
    },
    "tags": []
   },
   "source": [
    "# Now that I found the best hyperparameters, I can finalize my model"
   ]
  },
  {
   "cell_type": "markdown",
   "id": "e94cacc2",
   "metadata": {
    "papermill": {
     "duration": 0.028484,
     "end_time": "2023-11-20T15:57:06.667060",
     "exception": false,
     "start_time": "2023-11-20T15:57:06.638576",
     "status": "completed"
    },
    "tags": []
   },
   "source": [
    "**Test using validation set:**"
   ]
  },
  {
   "cell_type": "code",
   "execution_count": 27,
   "id": "27e7bdb9",
   "metadata": {
    "execution": {
     "iopub.execute_input": "2023-11-20T15:57:06.725005Z",
     "iopub.status.busy": "2023-11-20T15:57:06.724548Z",
     "iopub.status.idle": "2023-11-20T15:57:06.730465Z",
     "shell.execute_reply": "2023-11-20T15:57:06.729317Z"
    },
    "papermill": {
     "duration": 0.037725,
     "end_time": "2023-11-20T15:57:06.732992",
     "exception": false,
     "start_time": "2023-11-20T15:57:06.695267",
     "status": "completed"
    },
    "tags": []
   },
   "outputs": [],
   "source": [
    "# Best parameters: {'activation': 'tanh', 'alpha': 0.05, 'hidden_layer_sizes': (13, 15), 'learning_rate': 'constant', 'solver': 'lbfgs'}\n",
    "# Best score (CV mean): 0.8282828282828283\n",
    "\n",
    "\n",
    "from sklearn.neural_network import MLPClassifier\n",
    "from sklearn.metrics import accuracy_score\n",
    "\n",
    "# Commented out the code so that the model won't run everytime\n",
    "\n",
    "# model = MLPClassifier(activation = \"tanh\", alpha = 0.05, hidden_layer_sizes = (13, 15), learning_rate = \"constant\", solver = \"lbfgs\", max_iter=5000, random_state = 42)\n",
    "\n",
    "# #model = MLPClassifier(activation = \"relu\", hidden_layer_sizes = (20, 11), solver = \"lbfgs\",  max_iter=2000, random_state = 42)\n",
    "\n",
    "# model.fit(train_X, train_Y)\n",
    "\n",
    "# y_pred = model.predict(valid_X)\n",
    "\n",
    "# print(f\"Accuracy: {accuracy_score(valid_Y, y_pred)}\")"
   ]
  },
  {
   "cell_type": "markdown",
   "id": "d8fb809e",
   "metadata": {
    "papermill": {
     "duration": 0.027319,
     "end_time": "2023-11-20T15:57:06.789367",
     "exception": false,
     "start_time": "2023-11-20T15:57:06.762048",
     "status": "completed"
    },
    "tags": []
   },
   "source": [
    "**Test using test set (from Train-validation-test split)**"
   ]
  },
  {
   "cell_type": "code",
   "execution_count": 28,
   "id": "0dc975a3",
   "metadata": {
    "execution": {
     "iopub.execute_input": "2023-11-20T15:57:06.846144Z",
     "iopub.status.busy": "2023-11-20T15:57:06.845660Z",
     "iopub.status.idle": "2023-11-20T15:57:06.850271Z",
     "shell.execute_reply": "2023-11-20T15:57:06.849157Z"
    },
    "papermill": {
     "duration": 0.035599,
     "end_time": "2023-11-20T15:57:06.852650",
     "exception": false,
     "start_time": "2023-11-20T15:57:06.817051",
     "status": "completed"
    },
    "tags": []
   },
   "outputs": [],
   "source": [
    "# Commented out the code so that the model won't run everytime\n",
    "\n",
    "# y_pred = model.predict(test_X)\n",
    "\n",
    "# print(f\"Accuracy: {accuracy_score(test_Y, y_pred)}\")"
   ]
  },
  {
   "cell_type": "markdown",
   "id": "d6eb4f9e",
   "metadata": {
    "papermill": {
     "duration": 0.027348,
     "end_time": "2023-11-20T15:57:06.907549",
     "exception": false,
     "start_time": "2023-11-20T15:57:06.880201",
     "status": "completed"
    },
    "tags": []
   },
   "source": [
    "# Submitting Model 3"
   ]
  },
  {
   "cell_type": "code",
   "execution_count": 29,
   "id": "d8d14e9c",
   "metadata": {
    "execution": {
     "iopub.execute_input": "2023-11-20T15:57:06.965396Z",
     "iopub.status.busy": "2023-11-20T15:57:06.964962Z",
     "iopub.status.idle": "2023-11-20T15:57:06.969607Z",
     "shell.execute_reply": "2023-11-20T15:57:06.968533Z"
    },
    "papermill": {
     "duration": 0.03619,
     "end_time": "2023-11-20T15:57:06.971948",
     "exception": false,
     "start_time": "2023-11-20T15:57:06.935758",
     "status": "completed"
    },
    "tags": []
   },
   "outputs": [],
   "source": [
    "# Commented out the code so that the model won't run everytime\n",
    "\n",
    "# full_X = pd.get_dummies(X_train)\n",
    "\n",
    "# full_Y = Y_train\n",
    "\n",
    "# #We end up using the WHOLE training dataset (all of train.csv) to fit (train) our model right before submission since this gives our model the most amount of data to train on\n",
    "# model.fit(full_X, full_Y)\n",
    "\n",
    "\n",
    "# predictions3 = model.predict(test_data)"
   ]
  },
  {
   "cell_type": "code",
   "execution_count": 30,
   "id": "7431b13c",
   "metadata": {
    "execution": {
     "iopub.execute_input": "2023-11-20T15:57:07.030478Z",
     "iopub.status.busy": "2023-11-20T15:57:07.029287Z",
     "iopub.status.idle": "2023-11-20T15:57:07.042734Z",
     "shell.execute_reply": "2023-11-20T15:57:07.041881Z"
    },
    "papermill": {
     "duration": 0.045784,
     "end_time": "2023-11-20T15:57:07.045606",
     "exception": false,
     "start_time": "2023-11-20T15:57:06.999822",
     "status": "completed"
    },
    "tags": []
   },
   "outputs": [],
   "source": [
    "original_test = pd.read_csv(\"/kaggle/input/titanic/test.csv\")\n",
    "\n",
    "pass_id = original_test['PassengerId']\n",
    "\n",
    "# original_test = original_test.drop('PassengerId', axis=1)\n",
    "# original_test = pd.get_dummies(original_test[features])\n",
    "\n",
    "test_data[\"PassengerId\"] = pass_id\n",
    "\n",
    "# Commented out the code so that the model won't run everytime\n",
    "\n",
    "# predictions3 = predictions3.astype(int)\n",
    "\n",
    "#print(predictions3)\n",
    "\n",
    "# output = pd.DataFrame({'PassengerId': test_data.PassengerId, 'Survived': predictions3})\n",
    "# output.to_csv('submission.csv', index=False)\n",
    "# print(\"Your submission was successfully saved!\")\n",
    "\n",
    "# test_data = test_data.drop(\"PassengerId\", axis = 1) # WE make sure to drop the PassengerId column since we are continuing to use the test_data variable in future tests and we don't want PassengerId to be apart of it until we submit the model again"
   ]
  },
  {
   "cell_type": "markdown",
   "id": "3e64b76d",
   "metadata": {
    "papermill": {
     "duration": 0.027431,
     "end_time": "2023-11-20T15:57:07.100974",
     "exception": false,
     "start_time": "2023-11-20T15:57:07.073543",
     "status": "completed"
    },
    "tags": []
   },
   "source": [
    "# Changing the model solver from \"lbfgs\" to \"adam\""
   ]
  },
  {
   "cell_type": "code",
   "execution_count": 31,
   "id": "382e8518",
   "metadata": {
    "execution": {
     "iopub.execute_input": "2023-11-20T15:57:07.158956Z",
     "iopub.status.busy": "2023-11-20T15:57:07.158170Z",
     "iopub.status.idle": "2023-11-20T15:57:07.163829Z",
     "shell.execute_reply": "2023-11-20T15:57:07.163063Z"
    },
    "papermill": {
     "duration": 0.037461,
     "end_time": "2023-11-20T15:57:07.166182",
     "exception": false,
     "start_time": "2023-11-20T15:57:07.128721",
     "status": "completed"
    },
    "tags": []
   },
   "outputs": [],
   "source": [
    "model = MLPClassifier(activation = \"tanh\", alpha = 0.05, hidden_layer_sizes = (13, 15), learning_rate = \"constant\", solver = \"adam\", max_iter=5000, random_state = 42)\n",
    "# Try changing it back to lbfgs after normalization since maybe it converges faster now after normalization\n",
    "#Also, with normalization, you can increase the learning_rate with less risk of divergence which is good\n"
   ]
  },
  {
   "cell_type": "markdown",
   "id": "75a4c1d7",
   "metadata": {
    "papermill": {
     "duration": 0.027528,
     "end_time": "2023-11-20T15:57:07.221478",
     "exception": false,
     "start_time": "2023-11-20T15:57:07.193950",
     "status": "completed"
    },
    "tags": []
   },
   "source": [
    "**I made this change because it said that lbfgs was not converging so I tried changing to a differnet solver and adam seemed to converge. But also, I am going to normalize my data which should make the training of my data converge faster. So, I might also go back to lbfgs to see if it converges now**"
   ]
  },
  {
   "cell_type": "markdown",
   "id": "f9e82217",
   "metadata": {
    "papermill": {
     "duration": 0.027452,
     "end_time": "2023-11-20T15:57:07.276758",
     "exception": false,
     "start_time": "2023-11-20T15:57:07.249306",
     "status": "completed"
    },
    "tags": []
   },
   "source": [
    "# Feature Engineering: Putting more weight onto specific features (like Gender and Age)"
   ]
  },
  {
   "cell_type": "markdown",
   "id": "f848946b",
   "metadata": {
    "papermill": {
     "duration": 0.027386,
     "end_time": "2023-11-20T15:57:07.331781",
     "exception": false,
     "start_time": "2023-11-20T15:57:07.304395",
     "status": "completed"
    },
    "tags": []
   },
   "source": [
    "**We know from history that Women and Children were more likely to survive so it makes more sense to put more weight into those features. In other words, we should penalize a person more if they are not a Women or Child and therefore make it less likely for them to survive**"
   ]
  },
  {
   "cell_type": "code",
   "execution_count": 32,
   "id": "ebea6e71",
   "metadata": {
    "execution": {
     "iopub.execute_input": "2023-11-20T15:57:07.389818Z",
     "iopub.status.busy": "2023-11-20T15:57:07.388542Z",
     "iopub.status.idle": "2023-11-20T15:57:07.437145Z",
     "shell.execute_reply": "2023-11-20T15:57:07.436177Z"
    },
    "papermill": {
     "duration": 0.080498,
     "end_time": "2023-11-20T15:57:07.439966",
     "exception": false,
     "start_time": "2023-11-20T15:57:07.359468",
     "status": "completed"
    },
    "tags": []
   },
   "outputs": [
    {
     "name": "stdout",
     "output_type": "stream",
     "text": [
      "     Pclass      Fare    Age  SibSp  Parch  Sex_female  Sex_male\n",
      "570     2.0   10.5000  62.00    0.0    0.0       False      True\n",
      "787     3.0   29.1250   8.00    4.0    1.0       False      True\n",
      "74      3.0   56.4958  32.00    0.0    0.0       False      True\n",
      "113     3.0    9.8250  20.00    1.0    0.0        True     False\n",
      "635     2.0   13.0000  28.00    0.0    0.0        True     False\n",
      "..      ...       ...    ...    ...    ...         ...       ...\n",
      "106     3.0    7.6500  21.00    0.0    0.0        True     False\n",
      "270     1.0   31.0000  48.35    0.0    0.0       False      True\n",
      "860     3.0   14.1083  41.00    2.0    0.0       False      True\n",
      "435     1.0  120.0000  14.00    1.0    2.0        True     False\n",
      "102     1.0   77.2875  21.00    0.0    1.0       False      True\n",
      "\n",
      "[534 rows x 7 columns]\n",
      "     Pclass      Fare    Age  SibSp  Parch  Sex_female  Sex_male  \\\n",
      "570     2.0   10.5000  62.00    0.0    0.0       False      True   \n",
      "787     3.0   29.1250   8.00    4.0    1.0       False      True   \n",
      "74      3.0   56.4958  32.00    0.0    0.0       False      True   \n",
      "113     3.0    9.8250  20.00    1.0    0.0        True     False   \n",
      "635     2.0   13.0000  28.00    0.0    0.0        True     False   \n",
      "..      ...       ...    ...    ...    ...         ...       ...   \n",
      "106     3.0    7.6500  21.00    0.0    0.0        True     False   \n",
      "270     1.0   31.0000  48.35    0.0    0.0       False      True   \n",
      "860     3.0   14.1083  41.00    2.0    0.0       False      True   \n",
      "435     1.0  120.0000  14.00    1.0    2.0        True     False   \n",
      "102     1.0   77.2875  21.00    0.0    1.0       False      True   \n",
      "\n",
      "     FemaleFirstClass  ChildFirstClass  IsChild  FamilySize  IsAlone  \n",
      "570                 0                0        0         1.0        1  \n",
      "787                 0                0        1         6.0        0  \n",
      "74                  0                0        0         1.0        1  \n",
      "113                 0                0        0         2.0        0  \n",
      "635                 0                0        0         1.0        1  \n",
      "..                ...              ...      ...         ...      ...  \n",
      "106                 0                0        0         1.0        1  \n",
      "270                 0                0        0         1.0        1  \n",
      "860                 0                0        0         3.0        0  \n",
      "435                 1                1        1         4.0        0  \n",
      "102                 0                0        0         2.0        0  \n",
      "\n",
      "[534 rows x 12 columns]\n"
     ]
    }
   ],
   "source": [
    "print(train_X)\n",
    "\n",
    "train_X['FemaleFirstClass'] = ((train_X['Sex_female'] == True) & (train_X['Pclass'] == 1)).astype(int)\n",
    "train_X['ChildFirstClass'] = ((train_X['Age'] < 18) & (train_X['Pclass'] == 1)).astype(int) \n",
    "\n",
    "\n",
    "valid_X['FemaleFirstClass'] = ((valid_X['Sex_female'] == True) & (valid_X['Pclass'] == 1)).astype(int)\n",
    "valid_X['ChildFirstClass'] = ((valid_X['Age'] < 18) & (valid_X['Pclass'] == 1)).astype(int) \n",
    "\n",
    "\n",
    "test_X['FemaleFirstClass'] = ((test_X['Sex_female'] == True) & (test_X['Pclass'] == 1)).astype(int)\n",
    "test_X['ChildFirstClass'] = ((test_X['Age'] < 18) & (test_X['Pclass'] == 1)).astype(int) \n",
    "\n",
    "\n",
    "test_data['FemaleFirstClass'] = ((test_data['Sex_female'] == True) & (test_data['Pclass'] == 1)).astype(int)\n",
    "test_data['ChildFirstClass'] = ((test_data['Age'] < 18) & (test_data['Pclass'] == 1)).astype(int) \n",
    "\n",
    "\n",
    "# Bin 'Age' into categories\n",
    "train_X['IsChild'] = (train_X['Age'] < 18).astype(int)\n",
    "valid_X['IsChild'] = (valid_X['Age'] < 18).astype(int)\n",
    "test_X['IsChild'] = (test_X['Age'] < 18).astype(int)\n",
    "test_data['IsChild'] = (test_data['Age'] < 18).astype(int)\n",
    "\n",
    "\n",
    "# Create FamilySize and IsAlone\n",
    "train_X['FamilySize'] = train_X['SibSp'] + train_X['Parch'] + 1\n",
    "valid_X['FamilySize'] = valid_X['SibSp'] + valid_X['Parch'] + 1\n",
    "test_X['FamilySize'] = test_X['SibSp'] + test_X['Parch'] + 1\n",
    "test_data['FamilySize'] = test_data['SibSp'] + test_data['Parch'] + 1\n",
    "\n",
    "\n",
    "train_X['IsAlone'] = (train_X['FamilySize'] == 1).astype(int)\n",
    "valid_X['IsAlone'] = (valid_X['FamilySize'] == 1).astype(int)\n",
    "test_X['IsAlone'] = (test_X['FamilySize'] == 1).astype(int)\n",
    "test_data['IsAlone'] = (test_data['FamilySize'] == 1).astype(int)\n",
    "\n",
    "\n",
    "print(train_X)"
   ]
  },
  {
   "cell_type": "markdown",
   "id": "db43e0f5",
   "metadata": {
    "papermill": {
     "duration": 0.028139,
     "end_time": "2023-11-20T15:57:07.496658",
     "exception": false,
     "start_time": "2023-11-20T15:57:07.468519",
     "status": "completed"
    },
    "tags": []
   },
   "source": [
    "# Normalizing all the data"
   ]
  },
  {
   "cell_type": "markdown",
   "id": "26537d69",
   "metadata": {
    "papermill": {
     "duration": 0.027947,
     "end_time": "2023-11-20T15:57:07.553061",
     "exception": false,
     "start_time": "2023-11-20T15:57:07.525114",
     "status": "completed"
    },
    "tags": []
   },
   "source": [
    "**Creating the Normalizing Scaler**"
   ]
  },
  {
   "cell_type": "code",
   "execution_count": 33,
   "id": "4b1c09d8",
   "metadata": {
    "execution": {
     "iopub.execute_input": "2023-11-20T15:57:07.612104Z",
     "iopub.status.busy": "2023-11-20T15:57:07.611418Z",
     "iopub.status.idle": "2023-11-20T15:57:07.630846Z",
     "shell.execute_reply": "2023-11-20T15:57:07.629110Z"
    },
    "papermill": {
     "duration": 0.051715,
     "end_time": "2023-11-20T15:57:07.633543",
     "exception": false,
     "start_time": "2023-11-20T15:57:07.581828",
     "status": "completed"
    },
    "tags": []
   },
   "outputs": [
    {
     "name": "stdout",
     "output_type": "stream",
     "text": [
      "     Pclass      Fare    Age  SibSp  Parch  Sex_female  Sex_male  \\\n",
      "570     2.0   10.5000  62.00    0.0    0.0       False      True   \n",
      "787     3.0   29.1250   8.00    4.0    1.0       False      True   \n",
      "74      3.0   56.4958  32.00    0.0    0.0       False      True   \n",
      "113     3.0    9.8250  20.00    1.0    0.0        True     False   \n",
      "635     2.0   13.0000  28.00    0.0    0.0        True     False   \n",
      "..      ...       ...    ...    ...    ...         ...       ...   \n",
      "106     3.0    7.6500  21.00    0.0    0.0        True     False   \n",
      "270     1.0   31.0000  48.35    0.0    0.0       False      True   \n",
      "860     3.0   14.1083  41.00    2.0    0.0       False      True   \n",
      "435     1.0  120.0000  14.00    1.0    2.0        True     False   \n",
      "102     1.0   77.2875  21.00    0.0    1.0       False      True   \n",
      "\n",
      "     FemaleFirstClass  ChildFirstClass  IsChild  FamilySize  IsAlone  \n",
      "570                 0                0        0         1.0        1  \n",
      "787                 0                0        1         6.0        0  \n",
      "74                  0                0        0         1.0        1  \n",
      "113                 0                0        0         2.0        0  \n",
      "635                 0                0        0         1.0        1  \n",
      "..                ...              ...      ...         ...      ...  \n",
      "106                 0                0        0         1.0        1  \n",
      "270                 0                0        0         1.0        1  \n",
      "860                 0                0        0         3.0        0  \n",
      "435                 1                1        1         4.0        0  \n",
      "102                 0                0        0         2.0        0  \n",
      "\n",
      "[534 rows x 12 columns]\n"
     ]
    }
   ],
   "source": [
    "from sklearn.preprocessing import MinMaxScaler\n",
    "\n",
    "# Initialize the MinMaxScaler\n",
    "scaler = MinMaxScaler()\n",
    "\n",
    "# Select columns you want to normalize\n",
    "columns_to_normalize = [\"Pclass\", \"Fare\",\"Age\", \"SibSp\"]\n",
    "\n",
    "scaler.fit(train_X[columns_to_normalize]) #it is important to fit the scaler on the training data (from the train-validation-test split) only\n",
    "\n",
    "print(train_X)"
   ]
  },
  {
   "cell_type": "markdown",
   "id": "c1338c61",
   "metadata": {
    "papermill": {
     "duration": 0.027956,
     "end_time": "2023-11-20T15:57:07.689884",
     "exception": false,
     "start_time": "2023-11-20T15:57:07.661928",
     "status": "completed"
    },
    "tags": []
   },
   "source": [
    "**It is very important to only fit the scaler on the training data from the train-validation-test split and not the training data from the whole train.csv since the whole training data includes data from the validation and test split and fitting on that will cause the testing (using validation and test) of the model to be overly optimistic. This is called data leakage.**\n",
    "\n",
    "**Also, it's important that we do not fit the scaler multiple times since that would cause inconsistant fitting throughout the data. It should only be fitted once and then applied to all the different datasets.**\n",
    "\n",
    "**However,before I submit Model 4, I should re-fit the normalization scaler on the entire training data since I will be running my model on the entire training data**"
   ]
  },
  {
   "cell_type": "markdown",
   "id": "4de37136",
   "metadata": {
    "papermill": {
     "duration": 0.027777,
     "end_time": "2023-11-20T15:57:07.745877",
     "exception": false,
     "start_time": "2023-11-20T15:57:07.718100",
     "status": "completed"
    },
    "tags": []
   },
   "source": [
    "**Normalizing the test data (the one from test.csv)**"
   ]
  },
  {
   "cell_type": "code",
   "execution_count": 34,
   "id": "e6930188",
   "metadata": {
    "execution": {
     "iopub.execute_input": "2023-11-20T15:57:07.805227Z",
     "iopub.status.busy": "2023-11-20T15:57:07.804312Z",
     "iopub.status.idle": "2023-11-20T15:57:07.814254Z",
     "shell.execute_reply": "2023-11-20T15:57:07.813135Z"
    },
    "papermill": {
     "duration": 0.042508,
     "end_time": "2023-11-20T15:57:07.817328",
     "exception": false,
     "start_time": "2023-11-20T15:57:07.774820",
     "status": "completed"
    },
    "tags": []
   },
   "outputs": [],
   "source": [
    "test_data = test_data #the \"test_data\" variable here is after we cleaned up the test_data \n",
    "\n",
    "#print(test_data)\n",
    "\n",
    "# Fit the scaler on the data and then transform it\n",
    "test_data[columns_to_normalize] = scaler.transform(test_data[columns_to_normalize])\n",
    "\n",
    "#print(test_data)"
   ]
  },
  {
   "cell_type": "markdown",
   "id": "c7c0e9b3",
   "metadata": {
    "papermill": {
     "duration": 0.029157,
     "end_time": "2023-11-20T15:57:07.874767",
     "exception": false,
     "start_time": "2023-11-20T15:57:07.845610",
     "status": "completed"
    },
    "tags": []
   },
   "source": [
    "**Normalizing the train, validation, and test data**"
   ]
  },
  {
   "cell_type": "code",
   "execution_count": 35,
   "id": "c8f92efc",
   "metadata": {
    "execution": {
     "iopub.execute_input": "2023-11-20T15:57:07.933464Z",
     "iopub.status.busy": "2023-11-20T15:57:07.932990Z",
     "iopub.status.idle": "2023-11-20T15:57:07.967962Z",
     "shell.execute_reply": "2023-11-20T15:57:07.965735Z"
    },
    "papermill": {
     "duration": 0.067365,
     "end_time": "2023-11-20T15:57:07.970521",
     "exception": false,
     "start_time": "2023-11-20T15:57:07.903156",
     "status": "completed"
    },
    "tags": []
   },
   "outputs": [
    {
     "name": "stdout",
     "output_type": "stream",
     "text": [
      "     Pclass      Fare       Age  SibSp  Parch  Sex_female  Sex_male  \\\n",
      "570     0.5  0.020495  0.773813  0.000    0.0       False      True   \n",
      "787     1.0  0.056848  0.095250  0.500    1.0       False      True   \n",
      "74      1.0  0.110272  0.396833  0.000    0.0       False      True   \n",
      "113     1.0  0.019177  0.246042  0.125    0.0        True     False   \n",
      "635     0.5  0.025374  0.346569  0.000    0.0        True     False   \n",
      "\n",
      "     FemaleFirstClass  ChildFirstClass  IsChild  FamilySize  IsAlone  \n",
      "570                 0                0        0         1.0        1  \n",
      "787                 0                0        1         6.0        0  \n",
      "74                  0                0        0         1.0        1  \n",
      "113                 0                0        0         2.0        0  \n",
      "635                 0                0        0         1.0        1  \n",
      "     Pclass      Fare       Age  SibSp  Parch  Sex_female  Sex_male  \\\n",
      "849     0.0  0.173920  0.508671  0.125    0.0        True     False   \n",
      "331     0.0  0.055628  0.566474  0.000    0.0       False      True   \n",
      "260     1.0  0.015127  0.530161  0.000    0.0       False      True   \n",
      "316     0.5  0.050749  0.296306  0.125    0.0        True     False   \n",
      "292     0.5  0.025130  0.447097  0.000    0.0       False      True   \n",
      "\n",
      "     FemaleFirstClass  ChildFirstClass  IsChild  FamilySize  IsAlone  \n",
      "849                 1                0        0         2.0        0  \n",
      "331                 0                0        0         1.0        1  \n",
      "260                 0                0        0         1.0        1  \n",
      "316                 0                0        0         2.0        0  \n",
      "292                 0                0        0         1.0        1  \n",
      "     Pclass      Fare       Age  SibSp  Parch  Sex_female  Sex_male  \\\n",
      "424     1.0  0.039452  0.220910  0.125    1.0       False      True   \n",
      "837     1.0  0.015713  0.405416  0.000    0.0       False      True   \n",
      "525     1.0  0.015127  0.503644  0.000    0.0       False      True   \n",
      "328     1.0  0.040062  0.384267  0.125    1.0        True     False   \n",
      "70      0.5  0.020495  0.396833  0.000    0.0       False      True   \n",
      "\n",
      "     FemaleFirstClass  ChildFirstClass  IsChild  FamilySize  IsAlone  \n",
      "424                 0                0        0         3.0        0  \n",
      "837                 0                0        0         1.0        1  \n",
      "525                 0                0        0         1.0        1  \n",
      "328                 0                0        0         3.0        0  \n",
      "70                  0                0        0         1.0        1  \n"
     ]
    }
   ],
   "source": [
    "train_X[columns_to_normalize] = scaler.transform(train_X[columns_to_normalize])\n",
    "print(train_X.head())\n",
    "\n",
    "valid_X[columns_to_normalize] = scaler.transform(valid_X[columns_to_normalize])\n",
    "print(valid_X.head())\n",
    "\n",
    "test_X[columns_to_normalize] = scaler.transform(test_X[columns_to_normalize])\n",
    "print(test_X.head())"
   ]
  },
  {
   "cell_type": "markdown",
   "id": "875a1d1b",
   "metadata": {
    "papermill": {
     "duration": 0.028819,
     "end_time": "2023-11-20T15:57:08.028675",
     "exception": false,
     "start_time": "2023-11-20T15:57:07.999856",
     "status": "completed"
    },
    "tags": []
   },
   "source": [
    "# Testing out my model (4th) after Feature Enginering and Normalization"
   ]
  },
  {
   "cell_type": "code",
   "execution_count": 36,
   "id": "ea0f95e8",
   "metadata": {
    "execution": {
     "iopub.execute_input": "2023-11-20T15:57:08.087482Z",
     "iopub.status.busy": "2023-11-20T15:57:08.087039Z",
     "iopub.status.idle": "2023-11-20T15:57:10.252529Z",
     "shell.execute_reply": "2023-11-20T15:57:10.251353Z"
    },
    "papermill": {
     "duration": 2.198418,
     "end_time": "2023-11-20T15:57:10.255522",
     "exception": false,
     "start_time": "2023-11-20T15:57:08.057104",
     "status": "completed"
    },
    "tags": []
   },
   "outputs": [
    {
     "name": "stdout",
     "output_type": "stream",
     "text": [
      "Validation Accuracy: 0.8089887640449438\n"
     ]
    }
   ],
   "source": [
    "model = MLPClassifier(activation = \"tanh\", alpha = 0, hidden_layer_sizes = (13, 15), learning_rate = \"constant\", solver = \"adam\", max_iter=5000, random_state = 42)\n",
    "\n",
    "model.fit(train_X, train_Y)\n",
    "\n",
    "y_pred = model.predict(valid_X)\n",
    "\n",
    "print(f\"Validation Accuracy: {accuracy_score(valid_Y, y_pred)}\")"
   ]
  },
  {
   "cell_type": "markdown",
   "id": "bbec6e7c",
   "metadata": {
    "papermill": {
     "duration": 0.028768,
     "end_time": "2023-11-20T15:57:10.313602",
     "exception": false,
     "start_time": "2023-11-20T15:57:10.284834",
     "status": "completed"
    },
    "tags": []
   },
   "source": [
    "# Using GridSearchCV to find new best amount of neurons per hidden layer and also to find best alpha and activation\n"
   ]
  },
  {
   "cell_type": "code",
   "execution_count": 37,
   "id": "6ca1fe6c",
   "metadata": {
    "execution": {
     "iopub.execute_input": "2023-11-20T15:57:10.373796Z",
     "iopub.status.busy": "2023-11-20T15:57:10.373134Z",
     "iopub.status.idle": "2023-11-20T15:57:10.382624Z",
     "shell.execute_reply": "2023-11-20T15:57:10.381475Z"
    },
    "papermill": {
     "duration": 0.042725,
     "end_time": "2023-11-20T15:57:10.385348",
     "exception": false,
     "start_time": "2023-11-20T15:57:10.342623",
     "status": "completed"
    },
    "tags": []
   },
   "outputs": [],
   "source": [
    "from sklearn.neural_network import MLPClassifier\n",
    "\n",
    "training_X = pd.concat([train_X, valid_X, test_X], ignore_index=True)\n",
    "training_Y = pd.concat([train_Y, valid_Y, test_Y], ignore_index=True)\n",
    "\n",
    "possible_hidden_layers = []\n",
    "\n",
    "for i in range(8,20):\n",
    "    for j in range(8,20):\n",
    "        possible_hidden_layers.append((i, j))\n",
    "\n",
    "parameter_space = {\n",
    "    'hidden_layer_sizes': possible_hidden_layers,\n",
    "    'activation': ['tanh', 'relu'],\n",
    "    'alpha': [0.0001, 0.05],\n",
    "    \"max_iter\": [4000, 5000, 6000, 7000]\n",
    "}\n",
    "\n",
    "# mlp = MLPClassifier(solver = \"adam\", random_state = 42)\n",
    "\n",
    "# clf = GridSearchCV(mlp, parameter_space, n_jobs=-1, cv=3)\n",
    "\n",
    "# clf.fit(training_X, training_Y)\n",
    "\n",
    "# print('Best parameters found:\\n', clf.best_params_)\n",
    "\n",
    "# print('Best score (CV mean):', clf.best_score_)\n",
    "\n",
    "# print(\"Done\")"
   ]
  },
  {
   "cell_type": "markdown",
   "id": "8cd01a8a",
   "metadata": {
    "papermill": {
     "duration": 0.029506,
     "end_time": "2023-11-20T15:57:10.444560",
     "exception": false,
     "start_time": "2023-11-20T15:57:10.415054",
     "status": "completed"
    },
    "tags": []
   },
   "source": [
    "# Before I submit Model 4, I should re-fit the normalization scaler on the entire training data since I will be running my model on the entire training data\n"
   ]
  },
  {
   "cell_type": "code",
   "execution_count": 38,
   "id": "829b01d3",
   "metadata": {
    "execution": {
     "iopub.execute_input": "2023-11-20T15:57:10.504690Z",
     "iopub.status.busy": "2023-11-20T15:57:10.504265Z",
     "iopub.status.idle": "2023-11-20T15:57:10.537137Z",
     "shell.execute_reply": "2023-11-20T15:57:10.535807Z"
    },
    "papermill": {
     "duration": 0.066489,
     "end_time": "2023-11-20T15:57:10.540548",
     "exception": false,
     "start_time": "2023-11-20T15:57:10.474059",
     "status": "completed"
    },
    "tags": []
   },
   "outputs": [
    {
     "name": "stdout",
     "output_type": "stream",
     "text": [
      "     Pclass      Fare       Age  SibSp  Parch  Sex_female  Sex_male  \\\n",
      "0       0.5  0.020495  0.773813  0.000    0.0       False      True   \n",
      "1       1.0  0.056848  0.095250  0.500    1.0       False      True   \n",
      "2       1.0  0.110272  0.396833  0.000    0.0       False      True   \n",
      "3       1.0  0.019177  0.246042  0.125    0.0        True     False   \n",
      "4       0.5  0.025374  0.346569  0.000    0.0        True     False   \n",
      "..      ...       ...       ...    ...    ...         ...       ...   \n",
      "886     1.0  0.015713  0.258608  0.000    0.0       False      True   \n",
      "887     0.0  0.060508  0.371701  0.000    0.0        True     False   \n",
      "888     1.0  0.015713  0.547625  0.000    0.0       False      True   \n",
      "889     0.0  0.512122  0.258608  0.250    2.0        True     False   \n",
      "890     0.0  0.444099  0.472229  0.000    0.0        True     False   \n",
      "\n",
      "     FemaleFirstClass  ChildFirstClass  IsChild  FamilySize  IsAlone  \n",
      "0                   0                0        0         1.0        1  \n",
      "1                   0                0        1         6.0        0  \n",
      "2                   0                0        0         1.0        1  \n",
      "3                   0                0        0         2.0        0  \n",
      "4                   0                0        0         1.0        1  \n",
      "..                ...              ...      ...         ...      ...  \n",
      "886                 0                0        0         1.0        1  \n",
      "887                 1                0        0         1.0        1  \n",
      "888                 0                0        0         1.0        1  \n",
      "889                 1                0        0         5.0        0  \n",
      "890                 1                0        0         1.0        1  \n",
      "\n",
      "[891 rows x 12 columns]\n",
      "     Pclass      Fare       Age  SibSp  Parch  Sex_female  Sex_male  \\\n",
      "0       0.5  0.020495  0.773813  0.000    0.0       False      True   \n",
      "1       1.0  0.056848  0.095250  0.500    1.0       False      True   \n",
      "2       1.0  0.110272  0.396833  0.000    0.0       False      True   \n",
      "3       1.0  0.019177  0.246042  0.125    0.0        True     False   \n",
      "4       0.5  0.025374  0.346569  0.000    0.0        True     False   \n",
      "..      ...       ...       ...    ...    ...         ...       ...   \n",
      "886     1.0  0.015713  0.258608  0.000    0.0       False      True   \n",
      "887     0.0  0.060508  0.371701  0.000    0.0        True     False   \n",
      "888     1.0  0.015713  0.547625  0.000    0.0       False      True   \n",
      "889     0.0  0.512122  0.258608  0.250    2.0        True     False   \n",
      "890     0.0  0.444099  0.472229  0.000    0.0        True     False   \n",
      "\n",
      "     FemaleFirstClass  ChildFirstClass  IsChild  FamilySize  IsAlone  \n",
      "0                   0                0        0         1.0        1  \n",
      "1                   0                0        1         6.0        0  \n",
      "2                   0                0        0         1.0        1  \n",
      "3                   0                0        0         2.0        0  \n",
      "4                   0                0        0         1.0        1  \n",
      "..                ...              ...      ...         ...      ...  \n",
      "886                 0                0        0         1.0        1  \n",
      "887                 1                0        0         1.0        1  \n",
      "888                 0                0        0         1.0        1  \n",
      "889                 1                0        0         5.0        0  \n",
      "890                 1                0        0         1.0        1  \n",
      "\n",
      "[891 rows x 12 columns]\n"
     ]
    }
   ],
   "source": [
    "from sklearn.preprocessing import MinMaxScaler\n",
    "\n",
    "training_X = pd.concat([train_X, valid_X, test_X], ignore_index=True) # training_X is the entire training data from train.csv but after all the cleaning, normalization, and feature engineering\n",
    "training_Y = pd.concat([train_Y, valid_Y, test_Y], ignore_index=True) \n",
    "\n",
    "\n",
    "# Initialize the MinMaxScaler\n",
    "scaler = MinMaxScaler()\n",
    "\n",
    "columns_to_normalize = [\"Pclass\", \"Fare\", \"Age\", \"SibSp\"]\n",
    "\n",
    "scaler.fit(training_X[columns_to_normalize])\n",
    "\n",
    "print(training_X)\n",
    "\n",
    "training_X[columns_to_normalize] = scaler.transform(training_X[columns_to_normalize])\n",
    "\n",
    "print(training_X)"
   ]
  },
  {
   "cell_type": "markdown",
   "id": "9d99417f",
   "metadata": {
    "papermill": {
     "duration": 0.032255,
     "end_time": "2023-11-20T15:57:10.602216",
     "exception": false,
     "start_time": "2023-11-20T15:57:10.569961",
     "status": "completed"
    },
    "tags": []
   },
   "source": [
    "# Now that the test data is Normalized and has feature engineering (from previous code), I can use model.predict() on it"
   ]
  },
  {
   "cell_type": "code",
   "execution_count": 39,
   "id": "ae865125",
   "metadata": {
    "execution": {
     "iopub.execute_input": "2023-11-20T15:57:10.662097Z",
     "iopub.status.busy": "2023-11-20T15:57:10.661691Z",
     "iopub.status.idle": "2023-11-20T15:57:12.239110Z",
     "shell.execute_reply": "2023-11-20T15:57:12.237932Z"
    },
    "papermill": {
     "duration": 1.610595,
     "end_time": "2023-11-20T15:57:12.241914",
     "exception": false,
     "start_time": "2023-11-20T15:57:10.631319",
     "status": "completed"
    },
    "tags": []
   },
   "outputs": [],
   "source": [
    "# Best parameters found:\n",
    "#  {'activation': 'relu', 'alpha': 0.0001, 'hidden_layer_sizes': (11, 15), 'max_iter': 4000}\n",
    "# Best score (CV mean): 0.8282828282828284\n",
    "\n",
    "model = MLPClassifier(activation = \"relu\", alpha = 0.0001, hidden_layer_sizes = (11, 15), solver = \"adam\", max_iter=4000, random_state = 42)\n",
    "\n",
    "model.fit(training_X, training_Y) #Fitting the model on the entire training data set (including all the sub-sets from train-validation-test split)\n",
    "\n",
    "test_data = test_data.drop(\"PassengerId\", axis = 1)\n",
    "\n",
    "predictions4 = model.predict(test_data)\n"
   ]
  },
  {
   "cell_type": "markdown",
   "id": "0c09aaff",
   "metadata": {
    "papermill": {
     "duration": 0.029101,
     "end_time": "2023-11-20T15:57:12.301149",
     "exception": false,
     "start_time": "2023-11-20T15:57:12.272048",
     "status": "completed"
    },
    "tags": []
   },
   "source": [
    "# Submitting Model 4"
   ]
  },
  {
   "cell_type": "code",
   "execution_count": 40,
   "id": "0e87dbd9",
   "metadata": {
    "execution": {
     "iopub.execute_input": "2023-11-20T15:57:12.362918Z",
     "iopub.status.busy": "2023-11-20T15:57:12.362418Z",
     "iopub.status.idle": "2023-11-20T15:57:12.381452Z",
     "shell.execute_reply": "2023-11-20T15:57:12.380250Z"
    },
    "papermill": {
     "duration": 0.052713,
     "end_time": "2023-11-20T15:57:12.383970",
     "exception": false,
     "start_time": "2023-11-20T15:57:12.331257",
     "status": "completed"
    },
    "tags": []
   },
   "outputs": [
    {
     "name": "stdout",
     "output_type": "stream",
     "text": [
      "Your submission was successfully saved!\n"
     ]
    }
   ],
   "source": [
    "original_test = pd.read_csv(\"/kaggle/input/titanic/test.csv\")\n",
    "\n",
    "pass_id = original_test['PassengerId']\n",
    "\n",
    "test_data[\"PassengerId\"] = pass_id\n",
    "\n",
    "predictions4 = predictions4.astype(int)\n",
    "\n",
    "output = pd.DataFrame({'PassengerId': test_data.PassengerId, 'Survived': predictions4})\n",
    "output.to_csv('submission.csv', index=False)\n",
    "print(\"Your submission was successfully saved!\")\n",
    "\n",
    "test_data = test_data.drop(\"PassengerId\", axis = 1) # WE make sure to drop the PassengerId column since we are continuing to use the test_data variable in future tests and we don't want PassengerId to be apart of it until we submit the model again"
   ]
  },
  {
   "cell_type": "markdown",
   "id": "85504529",
   "metadata": {
    "papermill": {
     "duration": 0.029564,
     "end_time": "2023-11-20T15:57:12.442630",
     "exception": false,
     "start_time": "2023-11-20T15:57:12.413066",
     "status": "completed"
    },
    "tags": []
   },
   "source": [
    "# MAKE SURE THERE ISN'T ANY NEGATIVE VALUES FOR AGE BEFORE AND AFTER NORMALIZATION"
   ]
  },
  {
   "cell_type": "code",
   "execution_count": 41,
   "id": "8d02185e",
   "metadata": {
    "execution": {
     "iopub.execute_input": "2023-11-20T15:57:12.503458Z",
     "iopub.status.busy": "2023-11-20T15:57:12.502257Z",
     "iopub.status.idle": "2023-11-20T15:57:12.513024Z",
     "shell.execute_reply": "2023-11-20T15:57:12.512198Z"
    },
    "papermill": {
     "duration": 0.043493,
     "end_time": "2023-11-20T15:57:12.515247",
     "exception": false,
     "start_time": "2023-11-20T15:57:12.471754",
     "status": "completed"
    },
    "tags": []
   },
   "outputs": [
    {
     "name": "stdout",
     "output_type": "stream",
     "text": [
      "Empty DataFrame\n",
      "Columns: [Pclass, Fare, Age, SibSp, Parch, Sex_female, Sex_male, FemaleFirstClass, ChildFirstClass, IsChild, FamilySize, IsAlone]\n",
      "Index: []\n"
     ]
    }
   ],
   "source": [
    "negatives = training_X[training_X[\"Age\"] < 0]\n",
    "print(negatives)\n",
    "\n",
    "# No values negative values for age"
   ]
  },
  {
   "cell_type": "markdown",
   "id": "94d0b7be",
   "metadata": {
    "papermill": {
     "duration": 0.029249,
     "end_time": "2023-11-20T15:57:12.573778",
     "exception": false,
     "start_time": "2023-11-20T15:57:12.544529",
     "status": "completed"
    },
    "tags": []
   },
   "source": [
    "# Maybe do GridSearchCV to test only the Alpha value and the max_iter"
   ]
  },
  {
   "cell_type": "markdown",
   "id": "1827362f",
   "metadata": {
    "papermill": {
     "duration": 0.029065,
     "end_time": "2023-11-20T15:57:12.632243",
     "exception": false,
     "start_time": "2023-11-20T15:57:12.603178",
     "status": "completed"
    },
    "tags": []
   },
   "source": [
    "**TRY THIS OUT SINCE THE PREVIOUS GRIDSEARCH DIDN'T REALLY TRY MANY Alpha VALUES AND DIDN'T TEST OUT DIFFERENT max_iter. Maybe try doing GridSearchCV with different GPU accelerator to see if it goes faster**"
   ]
  },
  {
   "cell_type": "code",
   "execution_count": 42,
   "id": "e25aacce",
   "metadata": {
    "execution": {
     "iopub.execute_input": "2023-11-20T15:57:12.693740Z",
     "iopub.status.busy": "2023-11-20T15:57:12.692689Z",
     "iopub.status.idle": "2023-11-20T15:58:29.442439Z",
     "shell.execute_reply": "2023-11-20T15:58:29.440912Z"
    },
    "papermill": {
     "duration": 76.812767,
     "end_time": "2023-11-20T15:58:29.474347",
     "exception": false,
     "start_time": "2023-11-20T15:57:12.661580",
     "status": "completed"
    },
    "tags": []
   },
   "outputs": [
    {
     "name": "stdout",
     "output_type": "stream",
     "text": [
      "Best parameters found:\n",
      " {'alpha': 0.01, 'max_iter': 4000}\n",
      "Best score (CV mean): 0.8237461552947083\n",
      "Done\n"
     ]
    }
   ],
   "source": [
    "from sklearn.neural_network import MLPClassifier\n",
    "\n",
    "training_X = pd.concat([train_X, valid_X, test_X], ignore_index=True)\n",
    "training_Y = pd.concat([train_Y, valid_Y, test_Y], ignore_index=True)\n",
    "\n",
    "possible_hidden_layers = []\n",
    "\n",
    "for i in range(8,20):\n",
    "    for j in range(8,20):\n",
    "        possible_hidden_layers.append((i, j))\n",
    "\n",
    "parameter_space = {\n",
    "    'alpha': [0.0001, 0.0005, 0.001, 0.01, 0.05],\n",
    "    \"max_iter\": [4000, 4500, 5000, 5500, 6000]\n",
    "}\n",
    "\n",
    "mlp = MLPClassifier(activation = \"relu\", hidden_layer_sizes = (11, 15), solver = \"adam\", random_state = 42)\n",
    "\n",
    "clf = GridSearchCV(mlp, parameter_space, n_jobs=-1, cv=5)\n",
    "\n",
    "clf.fit(training_X, training_Y)\n",
    "\n",
    "print('Best parameters found:\\n', clf.best_params_)\n",
    "\n",
    "print('Best score (CV mean):', clf.best_score_)\n",
    "\n",
    "print(\"Done\")"
   ]
  }
 ],
 "metadata": {
  "kaggle": {
   "accelerator": "none",
   "dataSources": [
    {
     "databundleVersionId": 26502,
     "sourceId": 3136,
     "sourceType": "competition"
    }
   ],
   "dockerImageVersionId": 30579,
   "isGpuEnabled": false,
   "isInternetEnabled": true,
   "language": "python",
   "sourceType": "notebook"
  },
  "kernelspec": {
   "display_name": "Python 3",
   "language": "python",
   "name": "python3"
  },
  "language_info": {
   "codemirror_mode": {
    "name": "ipython",
    "version": 3
   },
   "file_extension": ".py",
   "mimetype": "text/x-python",
   "name": "python",
   "nbconvert_exporter": "python",
   "pygments_lexer": "ipython3",
   "version": "3.10.12"
  },
  "papermill": {
   "default_parameters": {},
   "duration": 136.244839,
   "end_time": "2023-11-20T15:58:32.128428",
   "environment_variables": {},
   "exception": null,
   "input_path": "__notebook__.ipynb",
   "output_path": "__notebook__.ipynb",
   "parameters": {},
   "start_time": "2023-11-20T15:56:15.883589",
   "version": "2.4.0"
  }
 },
 "nbformat": 4,
 "nbformat_minor": 5
}
