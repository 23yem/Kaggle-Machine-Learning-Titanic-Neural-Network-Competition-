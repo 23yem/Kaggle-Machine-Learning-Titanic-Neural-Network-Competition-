{
 "cells": [
  {
   "cell_type": "code",
   "execution_count": 1,
   "id": "f53e0eb2",
   "metadata": {
    "_cell_guid": "b1076dfc-b9ad-4769-8c92-a6c4dae69d19",
    "_uuid": "8f2839f25d086af736a60e9eeb907d3b93b6e0e5",
    "execution": {
     "iopub.execute_input": "2023-11-19T00:40:26.603375Z",
     "iopub.status.busy": "2023-11-19T00:40:26.602213Z",
     "iopub.status.idle": "2023-11-19T00:40:27.431944Z",
     "shell.execute_reply": "2023-11-19T00:40:27.430658Z"
    },
    "papermill": {
     "duration": 0.84958,
     "end_time": "2023-11-19T00:40:27.434370",
     "exception": false,
     "start_time": "2023-11-19T00:40:26.584790",
     "status": "completed"
    },
    "tags": []
   },
   "outputs": [
    {
     "name": "stdout",
     "output_type": "stream",
     "text": [
      "/kaggle/input/titanic/train.csv\n",
      "/kaggle/input/titanic/test.csv\n",
      "/kaggle/input/titanic/gender_submission.csv\n"
     ]
    }
   ],
   "source": [
    "# This Python 3 environment comes with many helpful analytics libraries installed\n",
    "# It is defined by the kaggle/python Docker image: https://github.com/kaggle/docker-python\n",
    "# For example, here's several helpful packages to load\n",
    "\n",
    "import numpy as np # linear algebra\n",
    "import pandas as pd # data processing, CSV file I/O (e.g. pd.read_csv)\n",
    "\n",
    "# Input data files are available in the read-only \"../input/\" directory\n",
    "# For example, running this (by clicking run or pressing Shift+Enter) will list all files under the input directory\n",
    "\n",
    "import os\n",
    "for dirname, _, filenames in os.walk('/kaggle/input'):\n",
    "    for filename in filenames:\n",
    "        print(os.path.join(dirname, filename))\n",
    "\n",
    "# You can write up to 20GB to the current directory (/kaggle/working/) that gets preserved as output when you create a version using \"Save & Run All\" \n",
    "# You can also write temporary files to /kaggle/temp/, but they won't be saved outside of the current session"
   ]
  },
  {
   "cell_type": "markdown",
   "id": "d18e129b",
   "metadata": {
    "papermill": {
     "duration": 0.012675,
     "end_time": "2023-11-19T00:40:27.460486",
     "exception": false,
     "start_time": "2023-11-19T00:40:27.447811",
     "status": "completed"
    },
    "tags": []
   },
   "source": [
    "# **Load the Data from the Database**"
   ]
  },
  {
   "cell_type": "code",
   "execution_count": 2,
   "id": "6810f458",
   "metadata": {
    "execution": {
     "iopub.execute_input": "2023-11-19T00:40:27.488984Z",
     "iopub.status.busy": "2023-11-19T00:40:27.488129Z",
     "iopub.status.idle": "2023-11-19T00:40:27.542376Z",
     "shell.execute_reply": "2023-11-19T00:40:27.541233Z"
    },
    "papermill": {
     "duration": 0.071188,
     "end_time": "2023-11-19T00:40:27.544685",
     "exception": false,
     "start_time": "2023-11-19T00:40:27.473497",
     "status": "completed"
    },
    "tags": []
   },
   "outputs": [
    {
     "data": {
      "text/html": [
       "<div>\n",
       "<style scoped>\n",
       "    .dataframe tbody tr th:only-of-type {\n",
       "        vertical-align: middle;\n",
       "    }\n",
       "\n",
       "    .dataframe tbody tr th {\n",
       "        vertical-align: top;\n",
       "    }\n",
       "\n",
       "    .dataframe thead th {\n",
       "        text-align: right;\n",
       "    }\n",
       "</style>\n",
       "<table border=\"1\" class=\"dataframe\">\n",
       "  <thead>\n",
       "    <tr style=\"text-align: right;\">\n",
       "      <th></th>\n",
       "      <th>PassengerId</th>\n",
       "      <th>Survived</th>\n",
       "      <th>Pclass</th>\n",
       "      <th>Name</th>\n",
       "      <th>Sex</th>\n",
       "      <th>Age</th>\n",
       "      <th>SibSp</th>\n",
       "      <th>Parch</th>\n",
       "      <th>Ticket</th>\n",
       "      <th>Fare</th>\n",
       "      <th>Cabin</th>\n",
       "      <th>Embarked</th>\n",
       "    </tr>\n",
       "  </thead>\n",
       "  <tbody>\n",
       "    <tr>\n",
       "      <th>0</th>\n",
       "      <td>1</td>\n",
       "      <td>0</td>\n",
       "      <td>3</td>\n",
       "      <td>Braund, Mr. Owen Harris</td>\n",
       "      <td>male</td>\n",
       "      <td>22.0</td>\n",
       "      <td>1</td>\n",
       "      <td>0</td>\n",
       "      <td>A/5 21171</td>\n",
       "      <td>7.2500</td>\n",
       "      <td>NaN</td>\n",
       "      <td>S</td>\n",
       "    </tr>\n",
       "    <tr>\n",
       "      <th>1</th>\n",
       "      <td>2</td>\n",
       "      <td>1</td>\n",
       "      <td>1</td>\n",
       "      <td>Cumings, Mrs. John Bradley (Florence Briggs Th...</td>\n",
       "      <td>female</td>\n",
       "      <td>38.0</td>\n",
       "      <td>1</td>\n",
       "      <td>0</td>\n",
       "      <td>PC 17599</td>\n",
       "      <td>71.2833</td>\n",
       "      <td>C85</td>\n",
       "      <td>C</td>\n",
       "    </tr>\n",
       "    <tr>\n",
       "      <th>2</th>\n",
       "      <td>3</td>\n",
       "      <td>1</td>\n",
       "      <td>3</td>\n",
       "      <td>Heikkinen, Miss. Laina</td>\n",
       "      <td>female</td>\n",
       "      <td>26.0</td>\n",
       "      <td>0</td>\n",
       "      <td>0</td>\n",
       "      <td>STON/O2. 3101282</td>\n",
       "      <td>7.9250</td>\n",
       "      <td>NaN</td>\n",
       "      <td>S</td>\n",
       "    </tr>\n",
       "    <tr>\n",
       "      <th>3</th>\n",
       "      <td>4</td>\n",
       "      <td>1</td>\n",
       "      <td>1</td>\n",
       "      <td>Futrelle, Mrs. Jacques Heath (Lily May Peel)</td>\n",
       "      <td>female</td>\n",
       "      <td>35.0</td>\n",
       "      <td>1</td>\n",
       "      <td>0</td>\n",
       "      <td>113803</td>\n",
       "      <td>53.1000</td>\n",
       "      <td>C123</td>\n",
       "      <td>S</td>\n",
       "    </tr>\n",
       "    <tr>\n",
       "      <th>4</th>\n",
       "      <td>5</td>\n",
       "      <td>0</td>\n",
       "      <td>3</td>\n",
       "      <td>Allen, Mr. William Henry</td>\n",
       "      <td>male</td>\n",
       "      <td>35.0</td>\n",
       "      <td>0</td>\n",
       "      <td>0</td>\n",
       "      <td>373450</td>\n",
       "      <td>8.0500</td>\n",
       "      <td>NaN</td>\n",
       "      <td>S</td>\n",
       "    </tr>\n",
       "  </tbody>\n",
       "</table>\n",
       "</div>"
      ],
      "text/plain": [
       "   PassengerId  Survived  Pclass  \\\n",
       "0            1         0       3   \n",
       "1            2         1       1   \n",
       "2            3         1       3   \n",
       "3            4         1       1   \n",
       "4            5         0       3   \n",
       "\n",
       "                                                Name     Sex   Age  SibSp  \\\n",
       "0                            Braund, Mr. Owen Harris    male  22.0      1   \n",
       "1  Cumings, Mrs. John Bradley (Florence Briggs Th...  female  38.0      1   \n",
       "2                             Heikkinen, Miss. Laina  female  26.0      0   \n",
       "3       Futrelle, Mrs. Jacques Heath (Lily May Peel)  female  35.0      1   \n",
       "4                           Allen, Mr. William Henry    male  35.0      0   \n",
       "\n",
       "   Parch            Ticket     Fare Cabin Embarked  \n",
       "0      0         A/5 21171   7.2500   NaN        S  \n",
       "1      0          PC 17599  71.2833   C85        C  \n",
       "2      0  STON/O2. 3101282   7.9250   NaN        S  \n",
       "3      0            113803  53.1000  C123        S  \n",
       "4      0            373450   8.0500   NaN        S  "
      ]
     },
     "execution_count": 2,
     "metadata": {},
     "output_type": "execute_result"
    }
   ],
   "source": [
    "#Remember to eventually clean up the wrong or missing values\n",
    "train_data = pd.read_csv(\"/kaggle/input/titanic/train.csv\")\n",
    "\n",
    "train_data.head()"
   ]
  },
  {
   "cell_type": "code",
   "execution_count": 3,
   "id": "511cdc98",
   "metadata": {
    "execution": {
     "iopub.execute_input": "2023-11-19T00:40:27.574374Z",
     "iopub.status.busy": "2023-11-19T00:40:27.573534Z",
     "iopub.status.idle": "2023-11-19T00:40:27.596773Z",
     "shell.execute_reply": "2023-11-19T00:40:27.595657Z"
    },
    "papermill": {
     "duration": 0.040731,
     "end_time": "2023-11-19T00:40:27.599160",
     "exception": false,
     "start_time": "2023-11-19T00:40:27.558429",
     "status": "completed"
    },
    "tags": []
   },
   "outputs": [
    {
     "data": {
      "text/html": [
       "<div>\n",
       "<style scoped>\n",
       "    .dataframe tbody tr th:only-of-type {\n",
       "        vertical-align: middle;\n",
       "    }\n",
       "\n",
       "    .dataframe tbody tr th {\n",
       "        vertical-align: top;\n",
       "    }\n",
       "\n",
       "    .dataframe thead th {\n",
       "        text-align: right;\n",
       "    }\n",
       "</style>\n",
       "<table border=\"1\" class=\"dataframe\">\n",
       "  <thead>\n",
       "    <tr style=\"text-align: right;\">\n",
       "      <th></th>\n",
       "      <th>PassengerId</th>\n",
       "      <th>Pclass</th>\n",
       "      <th>Name</th>\n",
       "      <th>Sex</th>\n",
       "      <th>Age</th>\n",
       "      <th>SibSp</th>\n",
       "      <th>Parch</th>\n",
       "      <th>Ticket</th>\n",
       "      <th>Fare</th>\n",
       "      <th>Cabin</th>\n",
       "      <th>Embarked</th>\n",
       "    </tr>\n",
       "  </thead>\n",
       "  <tbody>\n",
       "    <tr>\n",
       "      <th>0</th>\n",
       "      <td>892</td>\n",
       "      <td>3</td>\n",
       "      <td>Kelly, Mr. James</td>\n",
       "      <td>male</td>\n",
       "      <td>34.5</td>\n",
       "      <td>0</td>\n",
       "      <td>0</td>\n",
       "      <td>330911</td>\n",
       "      <td>7.8292</td>\n",
       "      <td>NaN</td>\n",
       "      <td>Q</td>\n",
       "    </tr>\n",
       "    <tr>\n",
       "      <th>1</th>\n",
       "      <td>893</td>\n",
       "      <td>3</td>\n",
       "      <td>Wilkes, Mrs. James (Ellen Needs)</td>\n",
       "      <td>female</td>\n",
       "      <td>47.0</td>\n",
       "      <td>1</td>\n",
       "      <td>0</td>\n",
       "      <td>363272</td>\n",
       "      <td>7.0000</td>\n",
       "      <td>NaN</td>\n",
       "      <td>S</td>\n",
       "    </tr>\n",
       "    <tr>\n",
       "      <th>2</th>\n",
       "      <td>894</td>\n",
       "      <td>2</td>\n",
       "      <td>Myles, Mr. Thomas Francis</td>\n",
       "      <td>male</td>\n",
       "      <td>62.0</td>\n",
       "      <td>0</td>\n",
       "      <td>0</td>\n",
       "      <td>240276</td>\n",
       "      <td>9.6875</td>\n",
       "      <td>NaN</td>\n",
       "      <td>Q</td>\n",
       "    </tr>\n",
       "    <tr>\n",
       "      <th>3</th>\n",
       "      <td>895</td>\n",
       "      <td>3</td>\n",
       "      <td>Wirz, Mr. Albert</td>\n",
       "      <td>male</td>\n",
       "      <td>27.0</td>\n",
       "      <td>0</td>\n",
       "      <td>0</td>\n",
       "      <td>315154</td>\n",
       "      <td>8.6625</td>\n",
       "      <td>NaN</td>\n",
       "      <td>S</td>\n",
       "    </tr>\n",
       "    <tr>\n",
       "      <th>4</th>\n",
       "      <td>896</td>\n",
       "      <td>3</td>\n",
       "      <td>Hirvonen, Mrs. Alexander (Helga E Lindqvist)</td>\n",
       "      <td>female</td>\n",
       "      <td>22.0</td>\n",
       "      <td>1</td>\n",
       "      <td>1</td>\n",
       "      <td>3101298</td>\n",
       "      <td>12.2875</td>\n",
       "      <td>NaN</td>\n",
       "      <td>S</td>\n",
       "    </tr>\n",
       "  </tbody>\n",
       "</table>\n",
       "</div>"
      ],
      "text/plain": [
       "   PassengerId  Pclass                                          Name     Sex  \\\n",
       "0          892       3                              Kelly, Mr. James    male   \n",
       "1          893       3              Wilkes, Mrs. James (Ellen Needs)  female   \n",
       "2          894       2                     Myles, Mr. Thomas Francis    male   \n",
       "3          895       3                              Wirz, Mr. Albert    male   \n",
       "4          896       3  Hirvonen, Mrs. Alexander (Helga E Lindqvist)  female   \n",
       "\n",
       "    Age  SibSp  Parch   Ticket     Fare Cabin Embarked  \n",
       "0  34.5      0      0   330911   7.8292   NaN        Q  \n",
       "1  47.0      1      0   363272   7.0000   NaN        S  \n",
       "2  62.0      0      0   240276   9.6875   NaN        Q  \n",
       "3  27.0      0      0   315154   8.6625   NaN        S  \n",
       "4  22.0      1      1  3101298  12.2875   NaN        S  "
      ]
     },
     "execution_count": 3,
     "metadata": {},
     "output_type": "execute_result"
    }
   ],
   "source": [
    "#Remember to eventually clean up the wrong or missing values\n",
    "test_data = pd.read_csv(\"/kaggle/input/titanic/test.csv\")\n",
    "\n",
    "test_data.head()"
   ]
  },
  {
   "cell_type": "code",
   "execution_count": 4,
   "id": "dab90048",
   "metadata": {
    "execution": {
     "iopub.execute_input": "2023-11-19T00:40:27.630132Z",
     "iopub.status.busy": "2023-11-19T00:40:27.629321Z",
     "iopub.status.idle": "2023-11-19T00:40:27.636009Z",
     "shell.execute_reply": "2023-11-19T00:40:27.634743Z"
    },
    "papermill": {
     "duration": 0.02526,
     "end_time": "2023-11-19T00:40:27.638419",
     "exception": false,
     "start_time": "2023-11-19T00:40:27.613159",
     "status": "completed"
    },
    "tags": []
   },
   "outputs": [
    {
     "name": "stdout",
     "output_type": "stream",
     "text": [
      "Index(['PassengerId', 'Survived', 'Pclass', 'Name', 'Sex', 'Age', 'SibSp',\n",
      "       'Parch', 'Ticket', 'Fare', 'Cabin', 'Embarked'],\n",
      "      dtype='object')\n",
      "(891, 12)\n"
     ]
    }
   ],
   "source": [
    "print(train_data.columns)\n",
    "print(train_data.shape)"
   ]
  },
  {
   "cell_type": "markdown",
   "id": "2a2f12cd",
   "metadata": {
    "papermill": {
     "duration": 0.013499,
     "end_time": "2023-11-19T00:40:27.665770",
     "exception": false,
     "start_time": "2023-11-19T00:40:27.652271",
     "status": "completed"
    },
    "tags": []
   },
   "source": [
    "# Choosing features #\n"
   ]
  },
  {
   "cell_type": "code",
   "execution_count": 5,
   "id": "f583831e",
   "metadata": {
    "execution": {
     "iopub.execute_input": "2023-11-19T00:40:27.695665Z",
     "iopub.status.busy": "2023-11-19T00:40:27.694891Z",
     "iopub.status.idle": "2023-11-19T00:40:27.721577Z",
     "shell.execute_reply": "2023-11-19T00:40:27.720780Z"
    },
    "papermill": {
     "duration": 0.044113,
     "end_time": "2023-11-19T00:40:27.723715",
     "exception": false,
     "start_time": "2023-11-19T00:40:27.679602",
     "status": "completed"
    },
    "tags": []
   },
   "outputs": [
    {
     "data": {
      "text/html": [
       "<div>\n",
       "<style scoped>\n",
       "    .dataframe tbody tr th:only-of-type {\n",
       "        vertical-align: middle;\n",
       "    }\n",
       "\n",
       "    .dataframe tbody tr th {\n",
       "        vertical-align: top;\n",
       "    }\n",
       "\n",
       "    .dataframe thead th {\n",
       "        text-align: right;\n",
       "    }\n",
       "</style>\n",
       "<table border=\"1\" class=\"dataframe\">\n",
       "  <thead>\n",
       "    <tr style=\"text-align: right;\">\n",
       "      <th></th>\n",
       "      <th>Pclass</th>\n",
       "      <th>Fare</th>\n",
       "      <th>Sex_female</th>\n",
       "      <th>Sex_male</th>\n",
       "    </tr>\n",
       "  </thead>\n",
       "  <tbody>\n",
       "    <tr>\n",
       "      <th>0</th>\n",
       "      <td>3</td>\n",
       "      <td>7.2500</td>\n",
       "      <td>False</td>\n",
       "      <td>True</td>\n",
       "    </tr>\n",
       "    <tr>\n",
       "      <th>1</th>\n",
       "      <td>1</td>\n",
       "      <td>71.2833</td>\n",
       "      <td>True</td>\n",
       "      <td>False</td>\n",
       "    </tr>\n",
       "    <tr>\n",
       "      <th>2</th>\n",
       "      <td>3</td>\n",
       "      <td>7.9250</td>\n",
       "      <td>True</td>\n",
       "      <td>False</td>\n",
       "    </tr>\n",
       "    <tr>\n",
       "      <th>3</th>\n",
       "      <td>1</td>\n",
       "      <td>53.1000</td>\n",
       "      <td>True</td>\n",
       "      <td>False</td>\n",
       "    </tr>\n",
       "    <tr>\n",
       "      <th>4</th>\n",
       "      <td>3</td>\n",
       "      <td>8.0500</td>\n",
       "      <td>False</td>\n",
       "      <td>True</td>\n",
       "    </tr>\n",
       "  </tbody>\n",
       "</table>\n",
       "</div>"
      ],
      "text/plain": [
       "   Pclass     Fare  Sex_female  Sex_male\n",
       "0       3   7.2500       False      True\n",
       "1       1  71.2833        True     False\n",
       "2       3   7.9250        True     False\n",
       "3       1  53.1000        True     False\n",
       "4       3   8.0500       False      True"
      ]
     },
     "execution_count": 5,
     "metadata": {},
     "output_type": "execute_result"
    }
   ],
   "source": [
    "features = [\"Pclass\", \"Sex\", \"Fare\"]\n",
    "\n",
    "X_train = pd.get_dummies(train_data[features])\n",
    "\n",
    "X_train.head()\n",
    "#print(X_train.shape)"
   ]
  },
  {
   "cell_type": "markdown",
   "id": "3d55b2bb",
   "metadata": {
    "papermill": {
     "duration": 0.013759,
     "end_time": "2023-11-19T00:40:27.753249",
     "exception": false,
     "start_time": "2023-11-19T00:40:27.739490",
     "status": "completed"
    },
    "tags": []
   },
   "source": []
  },
  {
   "cell_type": "markdown",
   "id": "cbde047d",
   "metadata": {
    "papermill": {
     "duration": 0.014365,
     "end_time": "2023-11-19T00:40:27.781659",
     "exception": false,
     "start_time": "2023-11-19T00:40:27.767294",
     "status": "completed"
    },
    "tags": []
   },
   "source": [
    "# Set the target/label (y) values\n"
   ]
  },
  {
   "cell_type": "code",
   "execution_count": 6,
   "id": "a10b342c",
   "metadata": {
    "execution": {
     "iopub.execute_input": "2023-11-19T00:40:27.812784Z",
     "iopub.status.busy": "2023-11-19T00:40:27.811769Z",
     "iopub.status.idle": "2023-11-19T00:40:27.819210Z",
     "shell.execute_reply": "2023-11-19T00:40:27.818041Z"
    },
    "papermill": {
     "duration": 0.026001,
     "end_time": "2023-11-19T00:40:27.821472",
     "exception": false,
     "start_time": "2023-11-19T00:40:27.795471",
     "status": "completed"
    },
    "tags": []
   },
   "outputs": [
    {
     "data": {
      "text/plain": [
       "0    0\n",
       "1    1\n",
       "2    1\n",
       "3    1\n",
       "4    0\n",
       "Name: Survived, dtype: int64"
      ]
     },
     "execution_count": 6,
     "metadata": {},
     "output_type": "execute_result"
    }
   ],
   "source": [
    "#Y_train = pd.get_dummies(train_data[\"Survived\"])\n",
    "Y_train = train_data[\"Survived\"]\n",
    "\n",
    "Y_train.head()\n"
   ]
  },
  {
   "cell_type": "markdown",
   "id": "1e065c3a",
   "metadata": {
    "papermill": {
     "duration": 0.01452,
     "end_time": "2023-11-19T00:40:27.850030",
     "exception": false,
     "start_time": "2023-11-19T00:40:27.835510",
     "status": "completed"
    },
    "tags": []
   },
   "source": []
  },
  {
   "cell_type": "markdown",
   "id": "91a15a34",
   "metadata": {
    "papermill": {
     "duration": 0.013967,
     "end_time": "2023-11-19T00:40:27.941444",
     "exception": false,
     "start_time": "2023-11-19T00:40:27.927477",
     "status": "completed"
    },
    "tags": []
   },
   "source": [
    "# Split up train data into Train-test using scikit-learn"
   ]
  },
  {
   "cell_type": "code",
   "execution_count": 7,
   "id": "97100b87",
   "metadata": {
    "execution": {
     "iopub.execute_input": "2023-11-19T00:40:27.972514Z",
     "iopub.status.busy": "2023-11-19T00:40:27.971907Z",
     "iopub.status.idle": "2023-11-19T00:40:29.272067Z",
     "shell.execute_reply": "2023-11-19T00:40:29.271261Z"
    },
    "papermill": {
     "duration": 1.318007,
     "end_time": "2023-11-19T00:40:29.274170",
     "exception": false,
     "start_time": "2023-11-19T00:40:27.956163",
     "status": "completed"
    },
    "tags": []
   },
   "outputs": [
    {
     "name": "stdout",
     "output_type": "stream",
     "text": [
      "445    1\n",
      "650    0\n",
      "172    1\n",
      "450    0\n",
      "314    0\n",
      "Name: Survived, dtype: int64\n",
      "709    1\n",
      "439    0\n",
      "840    0\n",
      "720    1\n",
      "39     1\n",
      "Name: Survived, dtype: int64\n"
     ]
    }
   ],
   "source": [
    "from sklearn.model_selection import train_test_split\n",
    "\n",
    "#Split data into a train/validation and test set\n",
    "X_train, X_test, Y_train, Y_test = train_test_split(X_train, Y_train, test_size = 0.3, random_state = 42)\n",
    "\n",
    "#print(X_train.head())\n",
    "#print(Y_train.head())\n",
    "print(Y_train.head())\n",
    "\n",
    "print(Y_test.head())\n"
   ]
  },
  {
   "cell_type": "markdown",
   "id": "71b7a1b8",
   "metadata": {
    "papermill": {
     "duration": 0.013879,
     "end_time": "2023-11-19T00:40:29.302323",
     "exception": false,
     "start_time": "2023-11-19T00:40:29.288444",
     "status": "completed"
    },
    "tags": []
   },
   "source": [
    "spliting the data into a train-test split will allow us to test our model and so it will allow us to tune our model before submitting on Kaggle. We can also use the train-validation-test split here"
   ]
  },
  {
   "cell_type": "markdown",
   "id": "39be1567",
   "metadata": {
    "papermill": {
     "duration": 0.013859,
     "end_time": "2023-11-19T00:40:29.330757",
     "exception": false,
     "start_time": "2023-11-19T00:40:29.316898",
     "status": "completed"
    },
    "tags": []
   },
   "source": [
    "# Making the Neural Network Model using Scikit Learn\n"
   ]
  },
  {
   "cell_type": "code",
   "execution_count": 8,
   "id": "638ef952",
   "metadata": {
    "execution": {
     "iopub.execute_input": "2023-11-19T00:40:29.361027Z",
     "iopub.status.busy": "2023-11-19T00:40:29.360554Z",
     "iopub.status.idle": "2023-11-19T00:40:29.736480Z",
     "shell.execute_reply": "2023-11-19T00:40:29.735270Z"
    },
    "papermill": {
     "duration": 0.395155,
     "end_time": "2023-11-19T00:40:29.740039",
     "exception": false,
     "start_time": "2023-11-19T00:40:29.344884",
     "status": "completed"
    },
    "tags": []
   },
   "outputs": [
    {
     "name": "stdout",
     "output_type": "stream",
     "text": [
      "Accuracy: 0.78\n"
     ]
    }
   ],
   "source": [
    "from sklearn.neural_network import MLPClassifier\n",
    "from sklearn.model_selection import train_test_split\n",
    "from sklearn.preprocessing import StandardScaler\n",
    "from sklearn.metrics import accuracy_score\n",
    "\n",
    "model = MLPClassifier(hidden_layer_sizes=(5, 5), activation='relu', solver='adam', max_iter=1000, random_state=42)\n",
    "\n",
    "model.fit(X_train, Y_train)\n",
    "\n",
    "y_pred = model.predict(X_test)\n",
    "\n",
    "print(f\"Accuracy: {accuracy_score(Y_test, y_pred):.2f}\")\n"
   ]
  },
  {
   "cell_type": "markdown",
   "id": "493529e4",
   "metadata": {
    "papermill": {
     "duration": 0.014659,
     "end_time": "2023-11-19T00:40:29.770788",
     "exception": false,
     "start_time": "2023-11-19T00:40:29.756129",
     "status": "completed"
    },
    "tags": []
   },
   "source": [
    "**Here I am using the MLPClassifier since this is a classification problem. The output of the model will be \"Survive\" or \"not survive.\" If my model was supposed to predict a numerical value, I would be using something like MLPRegressor instead**"
   ]
  },
  {
   "cell_type": "markdown",
   "id": "3670e714",
   "metadata": {
    "papermill": {
     "duration": 0.014196,
     "end_time": "2023-11-19T00:40:29.799487",
     "exception": false,
     "start_time": "2023-11-19T00:40:29.785291",
     "status": "completed"
    },
    "tags": []
   },
   "source": [
    "# Tried making a neural network using Tensor Flow but decided to just use Scikit learn"
   ]
  },
  {
   "cell_type": "code",
   "execution_count": 9,
   "id": "b3cc947d",
   "metadata": {
    "execution": {
     "iopub.execute_input": "2023-11-19T00:40:29.833632Z",
     "iopub.status.busy": "2023-11-19T00:40:29.833189Z",
     "iopub.status.idle": "2023-11-19T00:40:29.838210Z",
     "shell.execute_reply": "2023-11-19T00:40:29.837024Z"
    },
    "papermill": {
     "duration": 0.0251,
     "end_time": "2023-11-19T00:40:29.840717",
     "exception": false,
     "start_time": "2023-11-19T00:40:29.815617",
     "status": "completed"
    },
    "tags": []
   },
   "outputs": [],
   "source": [
    "# import tensorflow as tf\n",
    "\n",
    "\n",
    "# #Compile the model\n",
    "# model = tf.keras.models.Sequential([\n",
    "#     tf.keras.layers.Dense(64, activation = \"relu\", input_shape = (687,)),\n",
    "#     tf.keras.layers.Dense(32, activation = \"relu\"),\n",
    "#     tf.keras.layers.Dense(16, activation = \"relu\"),\n",
    "#     tf.keras.layers.Dense(1, activation = \"sigmoid\")\n",
    "# ])\n",
    "# model.compile(optimizer = \"adam\", loss = \"binary_crossentropy\", metrics = [\"accuracy\"])\n",
    "\n",
    "\n",
    "# #Train the model\n",
    "\n",
    "# #X_train = tf.convert_to_tensor(X_train)\n",
    "# #Y_train = tf.convert_to_tensor(Y_train)\n",
    "# model.fit(X_train, Y_train, epochs = 10)\n",
    "\n",
    "# #Evaluate the model \n",
    "\n",
    "# #X_test = tf.convert_to_tensor(X_test)\n",
    "# #Y_test = tf.convert_to_tensor(Y_test)\n",
    "# loss, accuracy = model.evaluate(X_test, Y_test)\n",
    "# print(\"Accuracy: \", accuracy)"
   ]
  },
  {
   "cell_type": "markdown",
   "id": "7082155c",
   "metadata": {
    "papermill": {
     "duration": 0.014727,
     "end_time": "2023-11-19T00:40:29.871658",
     "exception": false,
     "start_time": "2023-11-19T00:40:29.856931",
     "status": "completed"
    },
    "tags": []
   },
   "source": [
    "# Testing model on real test set and Submitting Model (Accuracy: 0.755)\n"
   ]
  },
  {
   "cell_type": "code",
   "execution_count": 10,
   "id": "56542f66",
   "metadata": {
    "execution": {
     "iopub.execute_input": "2023-11-19T00:40:29.902370Z",
     "iopub.status.busy": "2023-11-19T00:40:29.901962Z",
     "iopub.status.idle": "2023-11-19T00:40:29.940212Z",
     "shell.execute_reply": "2023-11-19T00:40:29.938928Z"
    },
    "papermill": {
     "duration": 0.056567,
     "end_time": "2023-11-19T00:40:29.942618",
     "exception": false,
     "start_time": "2023-11-19T00:40:29.886051",
     "status": "completed"
    },
    "tags": []
   },
   "outputs": [
    {
     "name": "stdout",
     "output_type": "stream",
     "text": [
      "Index(['Pclass', 'Fare', 'Sex_female', 'Sex_male', 'PassengerId'], dtype='object')\n",
      "(418, 4)\n",
      "(418,)\n",
      "(418, 5)\n",
      "Your submission was successfully saved!\n"
     ]
    }
   ],
   "source": [
    "test_data = pd.read_csv(\"/kaggle/input/titanic/test.csv\")\n",
    "features = [\"Pclass\", \"Sex\", \"Fare\"]\n",
    "test_X = pd.get_dummies(test_data[features])\n",
    "#test_X = test_X.dropna()\n",
    "#print(test_X[\"Sex_female\"])\n",
    "test_X['Fare'].fillna(test_X['Fare'].median(), inplace=True)\n",
    "\n",
    "# Impute categorical columns with the mode\n",
    "for column in ['Pclass']:\n",
    "    test_X[column].fillna(test_X[column].mode()[0], inplace=True)\n",
    "\n",
    "for column in [\"Sex_female\"]:\n",
    "    test_X[column].fillna(False, inplace=True)\n",
    "    \n",
    "for column in ['Sex_male']:\n",
    "    test_X[column].fillna(True, inplace=True)\n",
    "  \n",
    "  \n",
    "\n",
    "\n",
    "# print(test_data)\n",
    "# print(X_test)\n",
    "\n",
    "#model.fit(X_train, Y_train)\n",
    "\n",
    "predictions = model.predict(test_X)\n",
    "\n",
    "#test_data = test_data.dropna(subset=['Pclass', 'Sex', 'Fare'])\n",
    "\n",
    "pass_id = test_data['PassengerId']\n",
    "\n",
    "test_data = test_data.drop('PassengerId', axis=1)\n",
    "test_data = pd.get_dummies(test_data[features])\n",
    "\n",
    "test_data[\"PassengerId\"] = pass_id\n",
    "\n",
    "test_data['Fare'].fillna(test_data['Fare'].median(), inplace=True)\n",
    "\n",
    "print(test_data.columns)\n",
    "\n",
    "# Impute categorical columns with the mode\n",
    "for column in ['Pclass']:\n",
    "    test_data[column].fillna(test_data[column].mode()[0], inplace=True)\n",
    "\n",
    "for column in ['Sex_female']:\n",
    "    test_data[column].fillna(False, inplace=True)\n",
    "    \n",
    "for column in ['Sex_male']:\n",
    "    test_data[column].fillna(True, inplace=True)\n",
    "\n",
    "print(test_X.shape)\n",
    "print(predictions.shape)\n",
    "print(test_data.shape)\n",
    "\n",
    "output = pd.DataFrame({'PassengerId': test_data.PassengerId, 'Survived': predictions})\n",
    "output.to_csv('submission.csv', index=False)\n",
    "print(\"Your submission was successfully saved!\")"
   ]
  },
  {
   "cell_type": "markdown",
   "id": "d37900d0",
   "metadata": {
    "papermill": {
     "duration": 0.01413,
     "end_time": "2023-11-19T00:40:29.971309",
     "exception": false,
     "start_time": "2023-11-19T00:40:29.957179",
     "status": "completed"
    },
    "tags": []
   },
   "source": [
    "**The accuracy of the model was 0.755**"
   ]
  },
  {
   "cell_type": "markdown",
   "id": "86bb4598",
   "metadata": {
    "papermill": {
     "duration": 0.014284,
     "end_time": "2023-11-19T00:40:30.001644",
     "exception": false,
     "start_time": "2023-11-19T00:40:29.987360",
     "status": "completed"
    },
    "tags": []
   },
   "source": [
    "# After first submission, I will now try and edit the neural network to improve the accurary\n"
   ]
  },
  {
   "cell_type": "code",
   "execution_count": 11,
   "id": "da09a0fd",
   "metadata": {
    "execution": {
     "iopub.execute_input": "2023-11-19T00:40:30.032525Z",
     "iopub.status.busy": "2023-11-19T00:40:30.032118Z",
     "iopub.status.idle": "2023-11-19T00:40:30.295168Z",
     "shell.execute_reply": "2023-11-19T00:40:30.293895Z"
    },
    "papermill": {
     "duration": 0.281455,
     "end_time": "2023-11-19T00:40:30.297603",
     "exception": false,
     "start_time": "2023-11-19T00:40:30.016148",
     "status": "completed"
    },
    "tags": []
   },
   "outputs": [
    {
     "name": "stdout",
     "output_type": "stream",
     "text": [
      "Accuracy: 0.82\n"
     ]
    }
   ],
   "source": [
    "model = MLPClassifier(hidden_layer_sizes=(14, 4), activation='relu', solver='lbfgs', max_iter=1000, random_state=42)\n",
    "\n",
    "model.fit(X_train, Y_train)\n",
    "\n",
    "y_pred = model.predict(X_test)\n",
    "\n",
    "print(f\"Accuracy: {accuracy_score(Y_test, y_pred):.2f}\")\n",
    "\n"
   ]
  },
  {
   "cell_type": "markdown",
   "id": "4d4a219d",
   "metadata": {
    "papermill": {
     "duration": 0.014159,
     "end_time": "2023-11-19T00:40:30.326513",
     "exception": false,
     "start_time": "2023-11-19T00:40:30.312354",
     "status": "completed"
    },
    "tags": []
   },
   "source": [
    "**I edited  the hidden layer sizes**\n"
   ]
  },
  {
   "cell_type": "markdown",
   "id": "a780a312",
   "metadata": {
    "papermill": {
     "duration": 0.014124,
     "end_time": "2023-11-19T00:40:30.355104",
     "exception": false,
     "start_time": "2023-11-19T00:40:30.340980",
     "status": "completed"
    },
    "tags": []
   },
   "source": [
    "# Second submission (accuracy: 0.76)\n"
   ]
  },
  {
   "cell_type": "code",
   "execution_count": 12,
   "id": "e4dbdfe8",
   "metadata": {
    "execution": {
     "iopub.execute_input": "2023-11-19T00:40:30.387117Z",
     "iopub.status.busy": "2023-11-19T00:40:30.385976Z",
     "iopub.status.idle": "2023-11-19T00:40:30.412537Z",
     "shell.execute_reply": "2023-11-19T00:40:30.411226Z"
    },
    "papermill": {
     "duration": 0.044999,
     "end_time": "2023-11-19T00:40:30.415124",
     "exception": false,
     "start_time": "2023-11-19T00:40:30.370125",
     "status": "completed"
    },
    "tags": []
   },
   "outputs": [
    {
     "name": "stdout",
     "output_type": "stream",
     "text": [
      "done\n",
      "Index(['Pclass', 'Fare', 'Sex_female', 'Sex_male', 'PassengerId'], dtype='object')\n",
      "(418, 4)\n",
      "(418,)\n",
      "(418, 5)\n",
      "Your submission was successfully saved!\n"
     ]
    }
   ],
   "source": [
    "test_data = pd.read_csv(\"/kaggle/input/titanic/test.csv\")\n",
    "features = [\"Pclass\", \"Sex\", \"Fare\"]\n",
    "test_X = pd.get_dummies(test_data[features])\n",
    "\n",
    "test_X['Fare'].fillna(test_X['Fare'].median(), inplace=True)\n",
    "\n",
    "# Impute categorical columns with the mode\n",
    "for column in ['Pclass']:\n",
    "    test_X[column].fillna(test_X[column].mode()[0], inplace=True)\n",
    "\n",
    "for column in [\"Sex_female\"]:\n",
    "    test_X[column].fillna(False, inplace=True)\n",
    "    \n",
    "for column in ['Sex_male']:\n",
    "    test_X[column].fillna(True, inplace=True)\n",
    "\n",
    "print(\"done\")\n",
    "\n",
    "predictions2 = model.predict(test_X)\n",
    "\n",
    "pass_id = test_data['PassengerId']\n",
    "\n",
    "test_data = test_data.drop('PassengerId', axis=1)\n",
    "test_data = pd.get_dummies(test_data[features])\n",
    "\n",
    "test_data[\"PassengerId\"] = pass_id\n",
    "\n",
    "print(test_data.columns)\n",
    "\n",
    "print(test_X.shape)\n",
    "print(predictions2.shape)\n",
    "print(test_data.shape)\n",
    "\n",
    "output = pd.DataFrame({'PassengerId': test_data.PassengerId, 'Survived': predictions2})\n",
    "output.to_csv('submission.csv', index=False)\n",
    "print(\"Your submission was successfully saved!\")"
   ]
  },
  {
   "cell_type": "markdown",
   "id": "0a173fcc",
   "metadata": {
    "papermill": {
     "duration": 0.014485,
     "end_time": "2023-11-19T00:40:30.444489",
     "exception": false,
     "start_time": "2023-11-19T00:40:30.430004",
     "status": "completed"
    },
    "tags": []
   },
   "source": [
    "**Here, from the code above, I went from a 0.755 to a 0.76 by editing the hidden layer sizes. However, this wasn't much of a big change and the accuracy of the model is still worse than the 0.775 which I achieved through a simple Random Decision Forest Model.**\n"
   ]
  },
  {
   "cell_type": "markdown",
   "id": "5545a4a4",
   "metadata": {
    "papermill": {
     "duration": 0.014226,
     "end_time": "2023-11-19T00:40:30.473678",
     "exception": false,
     "start_time": "2023-11-19T00:40:30.459452",
     "status": "completed"
    },
    "tags": []
   },
   "source": [
    "**From this code, I realized that I should be imputing and cleaning the data BEFORE I use pd.get_dummies(). This is because pd.get_dummies() adds a lot more columns to the data because it turns all categorial columns to multiple binary columns which puts a 0 or 1 in each row. So, I should be cleaming up the data BEFORE I use pd.get_dummies() since pd.get_dummies adds so many more columns to the data and makes the data so much harder to clean. \n",
    "For example, it's hard to impute values in the \"age\" column after you do pd.get_Dummies() since imputing age relies on finding the average age of each person and it's a lot easier to find the average age is the all the ages were in a single column but if we do pd.get_Dummies, we are going to split up the age column into many more age columns which correspond to each unique age value in the data set**"
   ]
  },
  {
   "cell_type": "markdown",
   "id": "0f819b79",
   "metadata": {
    "papermill": {
     "duration": 0.014291,
     "end_time": "2023-11-19T00:40:30.502693",
     "exception": false,
     "start_time": "2023-11-19T00:40:30.488402",
     "status": "completed"
    },
    "tags": []
   },
   "source": []
  },
  {
   "cell_type": "markdown",
   "id": "ed89bbe3",
   "metadata": {
    "papermill": {
     "duration": 0.014811,
     "end_time": "2023-11-19T00:40:30.532573",
     "exception": false,
     "start_time": "2023-11-19T00:40:30.517762",
     "status": "completed"
    },
    "tags": []
   },
   "source": [
    "# Now I will re-initialize my data set and clean up my data before using pd.get_dummies()"
   ]
  },
  {
   "cell_type": "markdown",
   "id": "d0e60cc6",
   "metadata": {
    "papermill": {
     "duration": 0.014411,
     "end_time": "2023-11-19T00:40:30.561650",
     "exception": false,
     "start_time": "2023-11-19T00:40:30.547239",
     "status": "completed"
    },
    "tags": []
   },
   "source": [
    "**I set up X_train and Y_train, but this time, instead of doing pd.get_Dummies() on X_train, I'm not going to use pd.get_Dummies() until after I clean up the data**"
   ]
  },
  {
   "cell_type": "code",
   "execution_count": 13,
   "id": "4a56f284",
   "metadata": {
    "execution": {
     "iopub.execute_input": "2023-11-19T00:40:30.593774Z",
     "iopub.status.busy": "2023-11-19T00:40:30.592703Z",
     "iopub.status.idle": "2023-11-19T00:40:30.611265Z",
     "shell.execute_reply": "2023-11-19T00:40:30.609927Z"
    },
    "papermill": {
     "duration": 0.037464,
     "end_time": "2023-11-19T00:40:30.613692",
     "exception": false,
     "start_time": "2023-11-19T00:40:30.576228",
     "status": "completed"
    },
    "tags": []
   },
   "outputs": [
    {
     "name": "stdout",
     "output_type": "stream",
     "text": [
      "   PassengerId  Survived  Pclass  \\\n",
      "0            1         0       3   \n",
      "1            2         1       1   \n",
      "2            3         1       3   \n",
      "3            4         1       1   \n",
      "4            5         0       3   \n",
      "\n",
      "                                                Name     Sex   Age  SibSp  \\\n",
      "0                            Braund, Mr. Owen Harris    male  22.0      1   \n",
      "1  Cumings, Mrs. John Bradley (Florence Briggs Th...  female  38.0      1   \n",
      "2                             Heikkinen, Miss. Laina  female  26.0      0   \n",
      "3       Futrelle, Mrs. Jacques Heath (Lily May Peel)  female  35.0      1   \n",
      "4                           Allen, Mr. William Henry    male  35.0      0   \n",
      "\n",
      "   Parch            Ticket     Fare Cabin Embarked  \n",
      "0      0         A/5 21171   7.2500   NaN        S  \n",
      "1      0          PC 17599  71.2833   C85        C  \n",
      "2      0  STON/O2. 3101282   7.9250   NaN        S  \n",
      "3      0            113803  53.1000  C123        S  \n",
      "4      0            373450   8.0500   NaN        S  \n"
     ]
    }
   ],
   "source": [
    "train_data = pd.read_csv(\"/kaggle/input/titanic/train.csv\")\n",
    "\n",
    "features = [\"Pclass\", \"Sex\", \"Fare\",\"Age\", \"SibSp\", \"Parch\"] # Here, I also added more features which I think might be useful\n",
    "\n",
    "X_train = train_data # I won't actually limit the X_train to just the columns of the features I want just yet. This is because I will use the other columns in the data set to help impute missing values\n",
    "\n",
    "Y_train = train_data[\"Survived\"]\n",
    "\n",
    "print(X_train.head())\n"
   ]
  },
  {
   "cell_type": "markdown",
   "id": "772a6470",
   "metadata": {
    "papermill": {
     "duration": 0.015047,
     "end_time": "2023-11-19T00:40:30.643744",
     "exception": false,
     "start_time": "2023-11-19T00:40:30.628697",
     "status": "completed"
    },
    "tags": []
   },
   "source": [
    "# Start cleaning up the data"
   ]
  },
  {
   "cell_type": "code",
   "execution_count": 14,
   "id": "54ab46d0",
   "metadata": {
    "execution": {
     "iopub.execute_input": "2023-11-19T00:40:30.676014Z",
     "iopub.status.busy": "2023-11-19T00:40:30.675318Z",
     "iopub.status.idle": "2023-11-19T00:40:30.686218Z",
     "shell.execute_reply": "2023-11-19T00:40:30.684787Z"
    },
    "papermill": {
     "duration": 0.029781,
     "end_time": "2023-11-19T00:40:30.688502",
     "exception": false,
     "start_time": "2023-11-19T00:40:30.658721",
     "status": "completed"
    },
    "tags": []
   },
   "outputs": [
    {
     "name": "stdout",
     "output_type": "stream",
     "text": [
      "0\n",
      "0\n",
      "0\n",
      "0\n",
      "0\n",
      "177\n"
     ]
    }
   ],
   "source": [
    "# Impute missing values for Pclass\n",
    "\n",
    "average_Pclass = X_train[\"Pclass\"].median()\n",
    "\n",
    "X_train[\"Pclass\"].fillna(average_Pclass, inplace = True)\n",
    "\n",
    "print(X_train[\"Pclass\"].isnull().sum()) # print the number of rows in the \"Pclass\" columns that now have no value\n",
    "\n",
    "print(X_train[\"Sex\"].isnull().sum()) # Since this prints out 0, this means that there is no missing value in the \"Sex\" column so we don't need to impute anything\n",
    "\n",
    "print(X_train[\"Fare\"].isnull().sum()) # Since this prints out 0, this means that there is no missing value in the \"Fare\" column so we don't need to impute anything\n",
    "\n",
    "print(X_train[\"SibSp\"].isnull().sum()) # Since this prints out 0, this means that there is no missing value in the \"SibSp\" column so we don't need to impute anything\n",
    "\n",
    "print(X_train[\"Parch\"].isnull().sum()) # Since this prints out 0, this means that there is no missing value in the \"Parch\" column so we don't need to impute anything\n",
    "\n",
    "print(X_train[\"Age\"].isnull().sum()) # This prints out 177 so there are 177 rows with missing values in the \"Age\" column! This means we have to do a lot of imputing\n",
    "\n"
   ]
  },
  {
   "cell_type": "markdown",
   "id": "231784e9",
   "metadata": {
    "papermill": {
     "duration": 0.015173,
     "end_time": "2023-11-19T00:40:30.718477",
     "exception": false,
     "start_time": "2023-11-19T00:40:30.703304",
     "status": "completed"
    },
    "tags": []
   },
   "source": [
    "**From this, we learned that age is the main column with missing values (of the columns that we are working with) so we need to methodically impute those missing values**"
   ]
  },
  {
   "cell_type": "markdown",
   "id": "b3ade7e3",
   "metadata": {
    "papermill": {
     "duration": 0.016606,
     "end_time": "2023-11-19T00:40:30.750098",
     "exception": false,
     "start_time": "2023-11-19T00:40:30.733492",
     "status": "completed"
    },
    "tags": []
   },
   "source": [
    "# Cleaning up (imputing) the Age column using a Random Forest Regressor model (a type of Machine Learning model) that accurately predicts the age of a person given their "
   ]
  },
  {
   "cell_type": "code",
   "execution_count": 15,
   "id": "211719f1",
   "metadata": {
    "execution": {
     "iopub.execute_input": "2023-11-19T00:40:30.782965Z",
     "iopub.status.busy": "2023-11-19T00:40:30.782516Z",
     "iopub.status.idle": "2023-11-19T00:40:51.720275Z",
     "shell.execute_reply": "2023-11-19T00:40:51.718872Z"
    },
    "papermill": {
     "duration": 20.958242,
     "end_time": "2023-11-19T00:40:51.723699",
     "exception": false,
     "start_time": "2023-11-19T00:40:30.765457",
     "status": "completed"
    },
    "tags": []
   },
   "outputs": [
    {
     "name": "stdout",
     "output_type": "stream",
     "text": [
      "0\n"
     ]
    },
    {
     "name": "stderr",
     "output_type": "stream",
     "text": [
      "/opt/conda/lib/python3.10/site-packages/sklearn/impute/_iterative.py:785: ConvergenceWarning: [IterativeImputer] Early stopping criterion not reached.\n",
      "  warnings.warn(\n"
     ]
    }
   ],
   "source": [
    "from sklearn.experimental import enable_iterative_imputer\n",
    "from sklearn.impute import IterativeImputer\n",
    "from sklearn.ensemble import RandomForestRegressor\n",
    "from sklearn.preprocessing import LabelEncoder\n",
    "\n",
    "\n",
    "#We use \"LabelEncoder\" to turn all the categorial values (values which don't use numbers) into values which the Random Forest Regressor can understand more easily. This is very similar to doing something like pd.get_dummies()\n",
    "\n",
    "label_encoders = {}\n",
    "for column in ['Sex', 'Embarked']:\n",
    "    label_encoders[column] = LabelEncoder()\n",
    "    # We use 'astype(str)' to convert any NaN values to a string representation\n",
    "    X_train[column] = label_encoders[column].fit_transform(X_train[column].astype(str))\n",
    "\n",
    "features = ['Survived', 'Pclass', 'Sex', 'Age', 'SibSp', 'Parch', 'Fare', 'Embarked']\n",
    "# One very important thing that I will end up doing is using the \"Survived\" column of the dataset to predict the age. This is because there is a strong correleation between the survival and age. \n",
    "\n",
    "\n",
    "#This is an imputer. It is a function that can efficiently impute values in the way you want. For this scenario, I am using IterativeImputer() and the RandomForestRegressor(() to )\n",
    "imputer = IterativeImputer(RandomForestRegressor(n_estimators=10), max_iter=100, random_state=0)\n",
    "\n",
    "\n",
    "# Fit the imputer on the DataFrame with the features\n",
    "imputer.fit(X_train[features]) #When IterativeImputer is used alongside an ML model like RandomForestRegressor, calling .fit() on the IterativeImputer() object will also fit (train) the ML model\n",
    "\n",
    "\n",
    "# Perform the imputation on the Training Data. THIS WILL ACTUAL IMPUTE ANY MISSING VALUES IN EACH ROW, not only the missing values in Age.\n",
    "X_train_imputed = imputer.transform(X_train[features])\n",
    "\n",
    "\n",
    "# Convert the output back to a DataFrame\n",
    "X_train_imputed = pd.DataFrame(X_train_imputed, columns=features)\n",
    "\n",
    "# Update the original DataFrame with the imputed values. This means that the columns of the original X_train dataframe that weren't part of the features (like \"Name\" isn't apart of the features list)\n",
    "X_train[features] = X_train_imputed\n",
    "\n",
    "#print(X_train.head())\n",
    "\n",
    "print(X_train[\"Age\"].isnull().sum()) # Since this prints 0, we now know that there are 0 missing values in the age column and so the imputation was successful "
   ]
  },
  {
   "cell_type": "markdown",
   "id": "3209fa35",
   "metadata": {
    "papermill": {
     "duration": 0.014686,
     "end_time": "2023-11-19T00:40:51.754502",
     "exception": false,
     "start_time": "2023-11-19T00:40:51.739816",
     "status": "completed"
    },
    "tags": []
   },
   "source": [
    "**Using IterativeRegressor() and RandomForestRegressor(), I essentially used an ML model to impute any missing values in the dataset. I wanted to clean up the age column using the most effective method and I didn't want to just find the average age and impute all those values to the missing values. I wanted to be smart since age is an incredibly important feature.**"
   ]
  },
  {
   "cell_type": "markdown",
   "id": "e68becae",
   "metadata": {
    "papermill": {
     "duration": 0.017977,
     "end_time": "2023-11-19T00:40:51.790014",
     "exception": false,
     "start_time": "2023-11-19T00:40:51.772037",
     "status": "completed"
    },
    "tags": []
   },
   "source": [
    "**Using the ImperativeImputer(), this will actually impute all the missing values in each row. It won't only impute the missing values in the \"age\" column. BUT, since we already cleaned the data and know there are 0 missing values for all the other columns that we care about (the ones with the features we are using), the imputer will be imputing values only to the missing values of age and other columns that we don't care about, but out of all the columns we care about, it will only be affecting the age column since all the other columns we care about have 0 missing values as we checked in the code previously.**"
   ]
  },
  {
   "cell_type": "code",
   "execution_count": 16,
   "id": "398a5775",
   "metadata": {
    "execution": {
     "iopub.execute_input": "2023-11-19T00:40:51.829670Z",
     "iopub.status.busy": "2023-11-19T00:40:51.829298Z",
     "iopub.status.idle": "2023-11-19T00:40:51.854372Z",
     "shell.execute_reply": "2023-11-19T00:40:51.852648Z"
    },
    "papermill": {
     "duration": 0.048798,
     "end_time": "2023-11-19T00:40:51.857278",
     "exception": false,
     "start_time": "2023-11-19T00:40:51.808480",
     "status": "completed"
    },
    "tags": []
   },
   "outputs": [
    {
     "name": "stdout",
     "output_type": "stream",
     "text": [
      "   Pclass  Sex     Fare   Age  SibSp  Parch\n",
      "0     3.0  1.0   7.2500  22.0    1.0    0.0\n",
      "1     1.0  0.0  71.2833  38.0    1.0    0.0\n",
      "2     3.0  0.0   7.9250  26.0    0.0    0.0\n",
      "3     1.0  0.0  53.1000  35.0    1.0    0.0\n",
      "4     3.0  1.0   8.0500  35.0    0.0    0.0\n",
      "314\n",
      "577\n",
      "   Pclass     Sex     Fare   Age  SibSp  Parch\n",
      "0     3.0    male   7.2500  22.0    1.0    0.0\n",
      "1     1.0  female  71.2833  38.0    1.0    0.0\n",
      "2     3.0  female   7.9250  26.0    0.0    0.0\n",
      "3     1.0  female  53.1000  35.0    1.0    0.0\n",
      "4     3.0    male   8.0500  35.0    0.0    0.0\n",
      "577\n"
     ]
    },
    {
     "name": "stderr",
     "output_type": "stream",
     "text": [
      "/tmp/ipykernel_20/1272774441.py:12: SettingWithCopyWarning: \n",
      "A value is trying to be set on a copy of a slice from a DataFrame.\n",
      "Try using .loc[row_indexer,col_indexer] = value instead\n",
      "\n",
      "See the caveats in the documentation: https://pandas.pydata.org/pandas-docs/stable/user_guide/indexing.html#returning-a-view-versus-a-copy\n",
      "  X_train['Sex'] = X_train['Sex'].map({0: 'female', 1: 'male'})\n"
     ]
    }
   ],
   "source": [
    "features = [\"Pclass\", \"Sex\", \"Fare\",\"Age\", \"SibSp\", \"Parch\"]\n",
    "\n",
    "X_train = X_train[features]\n",
    "\n",
    "print(X_train.head(5))\n",
    "\n",
    "print((X_train[\"Sex\"] == 0).sum())\n",
    "print((X_train[\"Sex\"] == 1).sum())\n",
    "\n",
    "# Since the dataset is 65% male, we can see from printing out the number of people with \"sex equal to 0\" and \"sex equal to 1\" that the LabelEncoder made Male into \"1\" and Female into \"0\". Now, let's change it back to \"Male\" and \"Female\".\n",
    "\n",
    "X_train['Sex'] = X_train['Sex'].map({0: 'female', 1: 'male'})\n",
    "\n",
    "print(X_train.head(5))\n",
    "\n",
    "print((X_train[\"Sex\"] == \"male\").sum())"
   ]
  },
  {
   "cell_type": "markdown",
   "id": "eb5a0b89",
   "metadata": {
    "papermill": {
     "duration": 0.015659,
     "end_time": "2023-11-19T00:40:51.890109",
     "exception": false,
     "start_time": "2023-11-19T00:40:51.874450",
     "status": "completed"
    },
    "tags": []
   },
   "source": [
    "**Here, in the code above, I changed X_train back to focus only on the features we care about. I also changed the \"Sex\" column from 0 and 1 back to Male and Female.**"
   ]
  },
  {
   "cell_type": "markdown",
   "id": "97979f83",
   "metadata": {
    "papermill": {
     "duration": 0.015231,
     "end_time": "2023-11-19T00:40:51.920766",
     "exception": false,
     "start_time": "2023-11-19T00:40:51.905535",
     "status": "completed"
    },
    "tags": []
   },
   "source": [
    "# After the careful inspection of the test.csv, I see that there are also missing values in the test.csv. As a result, we have to clean up the data for test.csv as we did for train.csv"
   ]
  },
  {
   "cell_type": "markdown",
   "id": "f995287f",
   "metadata": {
    "papermill": {
     "duration": 0.016659,
     "end_time": "2023-11-19T00:40:51.952912",
     "exception": false,
     "start_time": "2023-11-19T00:40:51.936253",
     "status": "completed"
    },
    "tags": []
   },
   "source": [
    "**Seeing which columns have missing values:**"
   ]
  },
  {
   "cell_type": "code",
   "execution_count": 17,
   "id": "79add1fa",
   "metadata": {
    "execution": {
     "iopub.execute_input": "2023-11-19T00:40:51.984860Z",
     "iopub.status.busy": "2023-11-19T00:40:51.984444Z",
     "iopub.status.idle": "2023-11-19T00:40:52.000433Z",
     "shell.execute_reply": "2023-11-19T00:40:51.998912Z"
    },
    "papermill": {
     "duration": 0.035948,
     "end_time": "2023-11-19T00:40:52.003907",
     "exception": false,
     "start_time": "2023-11-19T00:40:51.967959",
     "status": "completed"
    },
    "tags": []
   },
   "outputs": [
    {
     "name": "stdout",
     "output_type": "stream",
     "text": [
      "0\n",
      "0\n",
      "0\n",
      "0\n",
      "1\n",
      "86\n"
     ]
    }
   ],
   "source": [
    "test_data = pd.read_csv(\"/kaggle/input/titanic/test.csv\")\n",
    "\n",
    "features = [\"Pclass\", \"Sex\", \"Fare\",\"Age\", \"SibSp\", \"Parch\"]\n",
    "\n",
    "print(test_data[\"Pclass\"].isnull().sum()) # Since this is 0, that means there is no missing values\n",
    "\n",
    "print(test_data[\"Sex\"].isnull().sum()) # Since this is 0, that means there is no missing values\n",
    "\n",
    "print(test_data[\"SibSp\"].isnull().sum()) # Since this is 0, that means there is no missing values\n",
    "\n",
    "print(test_data[\"Parch\"].isnull().sum()) # Since this is 0, that means there is no missing values\n",
    "\n",
    "print(test_data[\"Fare\"].isnull().sum()) # Since this is 1, that means there is one missing value\n",
    "\n",
    "print(test_data[\"Age\"].isnull().sum()) # Since this is 86, that means there are 86 missing values\n"
   ]
  },
  {
   "cell_type": "markdown",
   "id": "01a22573",
   "metadata": {
    "papermill": {
     "duration": 0.015368,
     "end_time": "2023-11-19T00:40:52.034603",
     "exception": false,
     "start_time": "2023-11-19T00:40:52.019235",
     "status": "completed"
    },
    "tags": []
   },
   "source": [
    "**From this, we can see that only \"Fare\" annd \"Age\" have missing values. Since \"Fare\" only has one missing value, it's not worth it to go to through all the work to do some advanced imputation technique to fill in missing values. So, I will just fill that in with the average fare value.**\n",
    "\n",
    "**For the \"Age\" feature, I will repeat the process of using an IterativeImputer and a RandomForestRegressor to imputate missing values**"
   ]
  },
  {
   "cell_type": "code",
   "execution_count": 18,
   "id": "6edaa1fa",
   "metadata": {
    "execution": {
     "iopub.execute_input": "2023-11-19T00:40:52.069202Z",
     "iopub.status.busy": "2023-11-19T00:40:52.068796Z",
     "iopub.status.idle": "2023-11-19T00:40:52.076277Z",
     "shell.execute_reply": "2023-11-19T00:40:52.075103Z"
    },
    "papermill": {
     "duration": 0.027462,
     "end_time": "2023-11-19T00:40:52.078776",
     "exception": false,
     "start_time": "2023-11-19T00:40:52.051314",
     "status": "completed"
    },
    "tags": []
   },
   "outputs": [
    {
     "name": "stdout",
     "output_type": "stream",
     "text": [
      "0\n"
     ]
    }
   ],
   "source": [
    "average_fare = test_data[\"Fare\"].mean()\n",
    "\n",
    "test_data[\"Fare\"].fillna(average_fare, inplace = True) # This replaces the single missing value in \"Fare\" with the average value Fare Value of the test data\n",
    "\n",
    "print(test_data[\"Fare\"].isnull().sum())"
   ]
  },
  {
   "cell_type": "code",
   "execution_count": 19,
   "id": "6e9ee129",
   "metadata": {
    "execution": {
     "iopub.execute_input": "2023-11-19T00:40:52.112392Z",
     "iopub.status.busy": "2023-11-19T00:40:52.111451Z",
     "iopub.status.idle": "2023-11-19T00:41:06.050208Z",
     "shell.execute_reply": "2023-11-19T00:41:06.048924Z"
    },
    "papermill": {
     "duration": 13.959026,
     "end_time": "2023-11-19T00:41:06.053558",
     "exception": false,
     "start_time": "2023-11-19T00:40:52.094532",
     "status": "completed"
    },
    "tags": []
   },
   "outputs": [
    {
     "name": "stdout",
     "output_type": "stream",
     "text": [
      "0\n",
      "   PassengerId  Pclass                                          Name  Sex  \\\n",
      "0          892     3.0                              Kelly, Mr. James  1.0   \n",
      "1          893     3.0              Wilkes, Mrs. James (Ellen Needs)  0.0   \n",
      "2          894     2.0                     Myles, Mr. Thomas Francis  1.0   \n",
      "3          895     3.0                              Wirz, Mr. Albert  1.0   \n",
      "4          896     3.0  Hirvonen, Mrs. Alexander (Helga E Lindqvist)  0.0   \n",
      "\n",
      "    Age  SibSp  Parch   Ticket     Fare Cabin  Embarked  \n",
      "0  34.5    0.0    0.0   330911   7.8292   NaN       1.0  \n",
      "1  47.0    1.0    0.0   363272   7.0000   NaN       2.0  \n",
      "2  62.0    0.0    0.0   240276   9.6875   NaN       1.0  \n",
      "3  27.0    0.0    0.0   315154   8.6625   NaN       2.0  \n",
      "4  22.0    1.0    1.0  3101298  12.2875   NaN       2.0  \n"
     ]
    },
    {
     "name": "stderr",
     "output_type": "stream",
     "text": [
      "/opt/conda/lib/python3.10/site-packages/sklearn/impute/_iterative.py:785: ConvergenceWarning: [IterativeImputer] Early stopping criterion not reached.\n",
      "  warnings.warn(\n"
     ]
    }
   ],
   "source": [
    "from sklearn.experimental import enable_iterative_imputer\n",
    "from sklearn.impute import IterativeImputer\n",
    "from sklearn.ensemble import RandomForestRegressor\n",
    "from sklearn.preprocessing import LabelEncoder\n",
    "\n",
    "\n",
    "#We use \"LabelEncoder\" to turn all the categorial values (values which don't use numbers) into values which the Random Forest Regressor can understand more easily. This is very similar to doing something like pd.get_dummies()\n",
    "\n",
    "label_encoders = {}\n",
    "for column in ['Sex', 'Embarked']:\n",
    "    label_encoders[column] = LabelEncoder()\n",
    "    # We use 'astype(str)' to convert any NaN values to a string representation\n",
    "    test_data[column] = label_encoders[column].fit_transform(test_data[column].astype(str))\n",
    "\n",
    "features = ['Pclass', 'Sex', 'Age', 'SibSp', 'Parch', 'Fare', 'Embarked']\n",
    "\n",
    "\n",
    "#This is an imputer. It is a function that can efficiently impute values in the way you want. For this scenario, I am using IterativeImputer() and the RandomForestRegressor(() to )\n",
    "imputer = IterativeImputer(RandomForestRegressor(n_estimators=10), max_iter=100, random_state=0)\n",
    "\n",
    "\n",
    "# Fit the imputer on the DataFrame with the features\n",
    "imputer.fit(test_data[features]) #When IterativeImputer is used alongside an ML model like RandomForestRegressor, calling .fit() on the IterativeImputer() object will also fit (train) the ML model\n",
    "\n",
    "\n",
    "# Perform the imputation on the Test Data. THIS WILL ACTUAL IMPUTE ANY MISSING VALUES IN EACH ROW, not only the missing values in Age.\n",
    "test_data_imputed = imputer.transform(test_data[features])\n",
    "\n",
    "\n",
    "# Convert the output back to a DataFrame\n",
    "test_data_imputed = pd.DataFrame(test_data_imputed, columns=features)\n",
    "\n",
    "# Update the original DataFrame with the imputed values. This means that the columns of the original test_data dataframe that weren't part of the features (like \"Name\" isn't apart of the features list)\n",
    "test_data[features] = test_data_imputed\n",
    "\n",
    "print(test_data[\"Age\"].isnull().sum()) # Since this prints 0, we now know that there are 0 missing values in the age column and so the imputation was successful \n",
    "\n",
    "print(test_data.head())"
   ]
  },
  {
   "cell_type": "markdown",
   "id": "9735ea3d",
   "metadata": {
    "papermill": {
     "duration": 0.015077,
     "end_time": "2023-11-19T00:41:06.084112",
     "exception": false,
     "start_time": "2023-11-19T00:41:06.069035",
     "status": "completed"
    },
    "tags": []
   },
   "source": [
    "**The code above will imputate all the missing values in the test_data**"
   ]
  },
  {
   "cell_type": "markdown",
   "id": "a0170f5f",
   "metadata": {
    "papermill": {
     "duration": 0.015123,
     "end_time": "2023-11-19T00:41:06.114698",
     "exception": false,
     "start_time": "2023-11-19T00:41:06.099575",
     "status": "completed"
    },
    "tags": []
   },
   "source": [
    "# Finalize the cleaning of the data and make it so test_data only has the features we want"
   ]
  },
  {
   "cell_type": "code",
   "execution_count": 20,
   "id": "98f63264",
   "metadata": {
    "execution": {
     "iopub.execute_input": "2023-11-19T00:41:06.147463Z",
     "iopub.status.busy": "2023-11-19T00:41:06.147077Z",
     "iopub.status.idle": "2023-11-19T00:41:06.162380Z",
     "shell.execute_reply": "2023-11-19T00:41:06.161158Z"
    },
    "papermill": {
     "duration": 0.034499,
     "end_time": "2023-11-19T00:41:06.164673",
     "exception": false,
     "start_time": "2023-11-19T00:41:06.130174",
     "status": "completed"
    },
    "tags": []
   },
   "outputs": [
    {
     "name": "stdout",
     "output_type": "stream",
     "text": [
      "152\n",
      "266\n",
      "   Pclass     Sex     Fare   Age  SibSp  Parch\n",
      "0     3.0    male   7.8292  34.5    0.0    0.0\n",
      "1     3.0  female   7.0000  47.0    1.0    0.0\n",
      "2     2.0    male   9.6875  62.0    0.0    0.0\n",
      "3     3.0    male   8.6625  27.0    0.0    0.0\n",
      "4     3.0  female  12.2875  22.0    1.0    1.0\n",
      "266\n"
     ]
    }
   ],
   "source": [
    "features = [\"Pclass\", \"Sex\", \"Fare\",\"Age\", \"SibSp\", \"Parch\"]\n",
    "\n",
    "test_data = test_data[features]\n",
    "\n",
    "print((test_data[\"Sex\"] == 0).sum())\n",
    "print((test_data[\"Sex\"] == 1).sum())\n",
    "\n",
    "# Since the dataset is 65% male, we can see from printing out the number of people with \"sex equal to 0\" and \"sex equal to 1\" that the LabelEncoder made Male into \"1\" and Female into \"0\". Now, let's change it back to \"male\" and \"female\".\n",
    "\n",
    "test_data['Sex'] = test_data['Sex'].map({0: 'female', 1: 'male'})\n",
    "\n",
    "print(test_data.head(5))\n",
    "\n",
    "print((test_data[\"Sex\"] == \"male\").sum())"
   ]
  },
  {
   "cell_type": "markdown",
   "id": "a9e1d559",
   "metadata": {
    "papermill": {
     "duration": 0.015991,
     "end_time": "2023-11-19T00:41:06.197196",
     "exception": false,
     "start_time": "2023-11-19T00:41:06.181205",
     "status": "completed"
    },
    "tags": []
   },
   "source": [
    "# Now, after cleaning up the data, I can split up the data into train_validation_test "
   ]
  },
  {
   "cell_type": "code",
   "execution_count": 21,
   "id": "35f80ff0",
   "metadata": {
    "execution": {
     "iopub.execute_input": "2023-11-19T00:41:06.230824Z",
     "iopub.status.busy": "2023-11-19T00:41:06.230386Z",
     "iopub.status.idle": "2023-11-19T00:41:06.241271Z",
     "shell.execute_reply": "2023-11-19T00:41:06.240309Z"
    },
    "papermill": {
     "duration": 0.030258,
     "end_time": "2023-11-19T00:41:06.243559",
     "exception": false,
     "start_time": "2023-11-19T00:41:06.213301",
     "status": "completed"
    },
    "tags": []
   },
   "outputs": [],
   "source": [
    "from sklearn.model_selection import train_test_split\n",
    "\n",
    "Y_train = train_data[\"Survived\"]\n",
    "\n",
    "# First, split into training (60%) and a test set (40%)\n",
    "train_X, test_X, train_Y, test_Y = train_test_split(X_train, Y_train, test_size=0.4, random_state = 42)\n",
    "\n",
    "#Second, split test set into a validation (20%) and test set (20%)\n",
    "valid_X, test_X, valid_Y, test_Y= train_test_split(test_X, test_Y, test_size = 0.5, random_state = 42)"
   ]
  },
  {
   "cell_type": "markdown",
   "id": "20870b52",
   "metadata": {
    "papermill": {
     "duration": 0.015671,
     "end_time": "2023-11-19T00:41:06.275339",
     "exception": false,
     "start_time": "2023-11-19T00:41:06.259668",
     "status": "completed"
    },
    "tags": []
   },
   "source": [
    "# Using pd.get_dummies() on all the data"
   ]
  },
  {
   "cell_type": "markdown",
   "id": "65209e53",
   "metadata": {
    "papermill": {
     "duration": 0.015233,
     "end_time": "2023-11-19T00:41:06.306149",
     "exception": false,
     "start_time": "2023-11-19T00:41:06.290916",
     "status": "completed"
    },
    "tags": []
   },
   "source": [
    "**Setting up the Test data (from Test.csv) (This is NOT the test data from the Train_validation_test split):**"
   ]
  },
  {
   "cell_type": "code",
   "execution_count": 22,
   "id": "cb960cf9",
   "metadata": {
    "execution": {
     "iopub.execute_input": "2023-11-19T00:41:06.339569Z",
     "iopub.status.busy": "2023-11-19T00:41:06.338938Z",
     "iopub.status.idle": "2023-11-19T00:41:06.352851Z",
     "shell.execute_reply": "2023-11-19T00:41:06.351655Z"
    },
    "papermill": {
     "duration": 0.033563,
     "end_time": "2023-11-19T00:41:06.355354",
     "exception": false,
     "start_time": "2023-11-19T00:41:06.321791",
     "status": "completed"
    },
    "tags": []
   },
   "outputs": [
    {
     "name": "stdout",
     "output_type": "stream",
     "text": [
      "   Pclass     Fare   Age  SibSp  Parch  Sex_female  Sex_male\n",
      "0     3.0   7.8292  34.5    0.0    0.0       False      True\n",
      "1     3.0   7.0000  47.0    1.0    0.0        True     False\n",
      "2     2.0   9.6875  62.0    0.0    0.0       False      True\n",
      "3     3.0   8.6625  27.0    0.0    0.0       False      True\n",
      "4     3.0  12.2875  22.0    1.0    1.0        True     False\n"
     ]
    }
   ],
   "source": [
    "test_data = test_data #the \"test_data\" variable here is after we cleaned up the test_data \n",
    "\n",
    "features = [\"Pclass\", \"Sex\", \"Fare\",\"Age\", \"SibSp\", \"Parch\"]\n",
    "\n",
    "test_data = test_data[features]\n",
    "\n",
    "test_data= pd.get_dummies(test_data)\n",
    "print(test_data.head())"
   ]
  },
  {
   "cell_type": "markdown",
   "id": "cf4ddb07",
   "metadata": {
    "papermill": {
     "duration": 0.015428,
     "end_time": "2023-11-19T00:41:06.387529",
     "exception": false,
     "start_time": "2023-11-19T00:41:06.372101",
     "status": "completed"
    },
    "tags": []
   },
   "source": [
    "**Setting up the Train data and Validation data and the Test data from the train_validation_test split:**"
   ]
  },
  {
   "cell_type": "code",
   "execution_count": 23,
   "id": "e6c51d1c",
   "metadata": {
    "execution": {
     "iopub.execute_input": "2023-11-19T00:41:06.422052Z",
     "iopub.status.busy": "2023-11-19T00:41:06.421158Z",
     "iopub.status.idle": "2023-11-19T00:41:06.447580Z",
     "shell.execute_reply": "2023-11-19T00:41:06.446136Z"
    },
    "papermill": {
     "duration": 0.047341,
     "end_time": "2023-11-19T00:41:06.450422",
     "exception": false,
     "start_time": "2023-11-19T00:41:06.403081",
     "status": "completed"
    },
    "tags": []
   },
   "outputs": [
    {
     "name": "stdout",
     "output_type": "stream",
     "text": [
      "     Pclass     Fare   Age  SibSp  Parch  Sex_female  Sex_male\n",
      "570     2.0  10.5000  62.0    0.0    0.0       False      True\n",
      "787     3.0  29.1250   8.0    4.0    1.0       False      True\n",
      "74      3.0  56.4958  32.0    0.0    0.0       False      True\n",
      "113     3.0   9.8250  20.0    1.0    0.0        True     False\n",
      "635     2.0  13.0000  28.0    0.0    0.0        True     False\n",
      "     Pclass     Fare        Age  SibSp  Parch  Sex_female  Sex_male\n",
      "849     1.0  89.1042  32.125000    1.0    0.0        True     False\n",
      "331     1.0  28.5000  45.500000    0.0    0.0       False      True\n",
      "260     3.0   7.7500  50.568333    0.0    0.0       False      True\n",
      "316     2.0  26.0000  24.000000    1.0    0.0        True     False\n",
      "292     2.0  12.8750  36.000000    0.0    0.0       False      True\n",
      "     Pclass     Fare        Age  SibSp  Parch  Sex_female  Sex_male\n",
      "424     3.0  20.2125  18.000000    1.0    1.0       False      True\n",
      "837     3.0   8.0500  31.737352    0.0    0.0       False      True\n",
      "525     3.0   7.7500  40.500000    0.0    0.0       False      True\n",
      "328     3.0  20.5250  31.000000    1.0    1.0        True     False\n",
      "70      2.0  10.5000  32.000000    0.0    0.0       False      True\n"
     ]
    }
   ],
   "source": [
    "train_X = pd.get_dummies(train_X)\n",
    "print(train_X.head())\n",
    "\n",
    "valid_X = pd.get_dummies(valid_X)\n",
    "print(valid_X.head())\n",
    "\n",
    "test_X = pd.get_dummies(test_X)\n",
    "print(test_X.head())"
   ]
  },
  {
   "cell_type": "markdown",
   "id": "78197787",
   "metadata": {
    "papermill": {
     "duration": 0.016221,
     "end_time": "2023-11-19T00:41:06.482454",
     "exception": false,
     "start_time": "2023-11-19T00:41:06.466233",
     "status": "completed"
    },
    "tags": []
   },
   "source": [
    "# Making the model, training it using train_X and changing the model based on valid_X"
   ]
  },
  {
   "cell_type": "code",
   "execution_count": 24,
   "id": "d49341d6",
   "metadata": {
    "execution": {
     "iopub.execute_input": "2023-11-19T00:41:06.515874Z",
     "iopub.status.busy": "2023-11-19T00:41:06.515459Z",
     "iopub.status.idle": "2023-11-19T00:41:06.961174Z",
     "shell.execute_reply": "2023-11-19T00:41:06.959568Z"
    },
    "papermill": {
     "duration": 0.465755,
     "end_time": "2023-11-19T00:41:06.964074",
     "exception": false,
     "start_time": "2023-11-19T00:41:06.498319",
     "status": "completed"
    },
    "tags": []
   },
   "outputs": [
    {
     "name": "stdout",
     "output_type": "stream",
     "text": [
      "Accuracy: 0.7921348314606742\n"
     ]
    }
   ],
   "source": [
    "from sklearn.neural_network import MLPClassifier\n",
    "from sklearn.metrics import accuracy_score\n",
    "\n",
    "model = MLPClassifier(hidden_layer_sizes = (20, 11), activation = \"relu\", solver = \"lbfgs\", max_iter = 1000, random_state = 42)\n",
    "\n",
    "model.fit(train_X, train_Y)\n",
    "\n",
    "y_pred = model.predict(valid_X)\n",
    "\n",
    "print(f\"Accuracy: {accuracy_score(valid_Y, y_pred)}\")"
   ]
  },
  {
   "cell_type": "markdown",
   "id": "2a9f7294",
   "metadata": {
    "papermill": {
     "duration": 0.016505,
     "end_time": "2023-11-19T00:41:06.996732",
     "exception": false,
     "start_time": "2023-11-19T00:41:06.980227",
     "status": "completed"
    },
    "tags": []
   },
   "source": [
    "**From the code above, you can see that I am using the validation set to test out the code**"
   ]
  },
  {
   "cell_type": "code",
   "execution_count": 25,
   "id": "aa0fdb42",
   "metadata": {
    "execution": {
     "iopub.execute_input": "2023-11-19T00:41:07.033160Z",
     "iopub.status.busy": "2023-11-19T00:41:07.032730Z",
     "iopub.status.idle": "2023-11-19T00:41:07.042470Z",
     "shell.execute_reply": "2023-11-19T00:41:07.041075Z"
    },
    "papermill": {
     "duration": 0.030351,
     "end_time": "2023-11-19T00:41:07.045082",
     "exception": false,
     "start_time": "2023-11-19T00:41:07.014731",
     "status": "completed"
    },
    "tags": []
   },
   "outputs": [
    {
     "name": "stdout",
     "output_type": "stream",
     "text": [
      "Accuracy: 0.8156424581005587\n"
     ]
    }
   ],
   "source": [
    "y_pred = model.predict(test_X)\n",
    "\n",
    "print(f\"Accuracy: {accuracy_score(test_Y, y_pred)}\")"
   ]
  },
  {
   "cell_type": "markdown",
   "id": "889b0769",
   "metadata": {
    "papermill": {
     "duration": 0.016145,
     "end_time": "2023-11-19T00:41:07.077280",
     "exception": false,
     "start_time": "2023-11-19T00:41:07.061135",
     "status": "completed"
    },
    "tags": []
   },
   "source": [
    "# Using GridSearchCV to find the best parameters for my MLPClassifier Model"
   ]
  },
  {
   "cell_type": "markdown",
   "id": "c4053a26",
   "metadata": {
    "papermill": {
     "duration": 0.017033,
     "end_time": "2023-11-19T00:41:07.110302",
     "exception": false,
     "start_time": "2023-11-19T00:41:07.093269",
     "status": "completed"
    },
    "tags": []
   },
   "source": [
    "**The \"parameter space\" are all the different components and possible values which I want to try for my model**"
   ]
  },
  {
   "cell_type": "code",
   "execution_count": 26,
   "id": "53d0628d",
   "metadata": {
    "execution": {
     "iopub.execute_input": "2023-11-19T00:41:07.145411Z",
     "iopub.status.busy": "2023-11-19T00:41:07.144745Z",
     "iopub.status.idle": "2023-11-19T00:41:07.154574Z",
     "shell.execute_reply": "2023-11-19T00:41:07.153357Z"
    },
    "papermill": {
     "duration": 0.029987,
     "end_time": "2023-11-19T00:41:07.157118",
     "exception": false,
     "start_time": "2023-11-19T00:41:07.127131",
     "status": "completed"
    },
    "tags": []
   },
   "outputs": [],
   "source": [
    "# %%capture --no-stderr\n",
    "\n",
    "# # Code that causes warnings\n",
    "# import warnings\n",
    "# from sklearn.exceptions import ConvergenceWarning\n",
    "\n",
    "# # Suppress ConvergenceWarning\n",
    "# warnings.filterwarnings(\"ignore\", category=ConvergenceWarning)\n",
    "# warnings.filterwarnings('ignore')\n",
    "\n",
    "from sklearn.model_selection import GridSearchCV\n",
    "from sklearn.neural_network import MLPClassifier\n",
    "\n",
    "training_X = pd.concat([train_X, valid_X, test_X], ignore_index=True)\n",
    "training_Y = pd.concat([train_Y, valid_Y, test_Y], ignore_index=True)\n",
    "\n",
    "possible_hidden_layers = []\n",
    "\n",
    "for i in range(8,16):\n",
    "    for j in range(8,16):\n",
    "        possible_hidden_layers.append((i, j))\n",
    "\n",
    "parameter_space = {\n",
    "    'hidden_layer_sizes': possible_hidden_layers,\n",
    "    'activation': ['tanh', 'relu'],\n",
    "    'solver': ['sgd', 'adam', \"lbfgs\"],\n",
    "    'alpha': [0.0001, 0.05],\n",
    "    'learning_rate': ['constant','adaptive'],\n",
    "}\n",
    "\n",
    "# mlp = MLPClassifier(max_iter=1000, random_state = 42)\n",
    "\n",
    "# clf = GridSearchCV(model, parameter_space, n_jobs=-1, cv=3)\n",
    "\n",
    "# clf.fit(training_X, training_Y)\n",
    "\n",
    "# print('Best parameters found:\\n', clf.best_params_)\n",
    "\n",
    "# print('Best score (CV mean):', clf.best_score_)\n",
    "\n",
    "# print(\"Done\")\n",
    "\n"
   ]
  },
  {
   "cell_type": "markdown",
   "id": "ece50765",
   "metadata": {
    "papermill": {
     "duration": 0.016146,
     "end_time": "2023-11-19T00:41:07.189857",
     "exception": false,
     "start_time": "2023-11-19T00:41:07.173711",
     "status": "completed"
    },
    "tags": []
   },
   "source": [
    "# Now that I found the best hyperparameters, I can finalize my model"
   ]
  },
  {
   "cell_type": "markdown",
   "id": "9ce6700c",
   "metadata": {
    "papermill": {
     "duration": 0.015974,
     "end_time": "2023-11-19T00:41:07.222286",
     "exception": false,
     "start_time": "2023-11-19T00:41:07.206312",
     "status": "completed"
    },
    "tags": []
   },
   "source": [
    "**Test using validation set:**"
   ]
  },
  {
   "cell_type": "code",
   "execution_count": 27,
   "id": "3c652c9f",
   "metadata": {
    "execution": {
     "iopub.execute_input": "2023-11-19T00:41:07.256192Z",
     "iopub.status.busy": "2023-11-19T00:41:07.255377Z",
     "iopub.status.idle": "2023-11-19T00:41:08.095038Z",
     "shell.execute_reply": "2023-11-19T00:41:08.092413Z"
    },
    "papermill": {
     "duration": 0.859424,
     "end_time": "2023-11-19T00:41:08.097559",
     "exception": false,
     "start_time": "2023-11-19T00:41:07.238135",
     "status": "completed"
    },
    "tags": []
   },
   "outputs": [
    {
     "name": "stdout",
     "output_type": "stream",
     "text": [
      "Accuracy: 0.7808988764044944\n"
     ]
    },
    {
     "name": "stderr",
     "output_type": "stream",
     "text": [
      "/opt/conda/lib/python3.10/site-packages/sklearn/neural_network/_multilayer_perceptron.py:541: ConvergenceWarning: lbfgs failed to converge (status=1):\n",
      "STOP: TOTAL NO. of ITERATIONS REACHED LIMIT.\n",
      "\n",
      "Increase the number of iterations (max_iter) or scale the data as shown in:\n",
      "    https://scikit-learn.org/stable/modules/preprocessing.html\n",
      "  self.n_iter_ = _check_optimize_result(\"lbfgs\", opt_res, self.max_iter)\n"
     ]
    }
   ],
   "source": [
    "# Best parameters: {'activation': 'tanh', 'alpha': 0.05, 'hidden_layer_sizes': (13, 15), 'learning_rate': 'constant', 'solver': 'lbfgs'}\n",
    "# Best score (CV mean): 0.8282828282828283\n",
    "\n",
    "\n",
    "from sklearn.neural_network import MLPClassifier\n",
    "from sklearn.metrics import accuracy_score\n",
    "\n",
    "# model = MLPClassifier(activation = \"relu\", alpha = 0.0001, hidden_layer_sizes = (13, 15), learning_rate = \"constant\", solver = \"lbfgs\")\n",
    "\n",
    "model = MLPClassifier(activation = \"relu\", hidden_layer_sizes = (14,14), solver = \"lbfgs\",  max_iter=1000, random_state = 42)\n",
    "\n",
    "model.fit(train_X, train_Y)\n",
    "\n",
    "y_pred = model.predict(valid_X)\n",
    "\n",
    "print(f\"Accuracy: {accuracy_score(valid_Y, y_pred)}\")"
   ]
  },
  {
   "cell_type": "markdown",
   "id": "cbc4bf3f",
   "metadata": {
    "papermill": {
     "duration": 0.018229,
     "end_time": "2023-11-19T00:41:08.132937",
     "exception": false,
     "start_time": "2023-11-19T00:41:08.114708",
     "status": "completed"
    },
    "tags": []
   },
   "source": [
    "**Test using test set (from Train-validation-test split)**"
   ]
  },
  {
   "cell_type": "code",
   "execution_count": 28,
   "id": "9ef78de6",
   "metadata": {
    "execution": {
     "iopub.execute_input": "2023-11-19T00:41:08.168505Z",
     "iopub.status.busy": "2023-11-19T00:41:08.168129Z",
     "iopub.status.idle": "2023-11-19T00:41:08.178293Z",
     "shell.execute_reply": "2023-11-19T00:41:08.177255Z"
    },
    "papermill": {
     "duration": 0.030519,
     "end_time": "2023-11-19T00:41:08.180567",
     "exception": false,
     "start_time": "2023-11-19T00:41:08.150048",
     "status": "completed"
    },
    "tags": []
   },
   "outputs": [
    {
     "name": "stdout",
     "output_type": "stream",
     "text": [
      "Accuracy: 0.8156424581005587\n"
     ]
    }
   ],
   "source": [
    "y_pred = model.predict(test_X)\n",
    "\n",
    "print(f\"Accuracy: {accuracy_score(test_Y, y_pred)}\")"
   ]
  },
  {
   "cell_type": "markdown",
   "id": "51e1f9f8",
   "metadata": {
    "papermill": {
     "duration": 0.01582,
     "end_time": "2023-11-19T00:41:08.212303",
     "exception": false,
     "start_time": "2023-11-19T00:41:08.196483",
     "status": "completed"
    },
    "tags": []
   },
   "source": [
    "# Submitting Model 3"
   ]
  },
  {
   "cell_type": "code",
   "execution_count": 29,
   "id": "00f544c2",
   "metadata": {
    "execution": {
     "iopub.execute_input": "2023-11-19T00:41:08.247254Z",
     "iopub.status.busy": "2023-11-19T00:41:08.246853Z",
     "iopub.status.idle": "2023-11-19T00:41:08.262449Z",
     "shell.execute_reply": "2023-11-19T00:41:08.260998Z"
    },
    "papermill": {
     "duration": 0.035995,
     "end_time": "2023-11-19T00:41:08.264819",
     "exception": false,
     "start_time": "2023-11-19T00:41:08.228824",
     "status": "completed"
    },
    "tags": []
   },
   "outputs": [
    {
     "name": "stdout",
     "output_type": "stream",
     "text": [
      "     Pclass      Fare        Age  SibSp  Parch  Sex_female  Sex_male\n",
      "0       3.0    7.8292  34.500000    0.0    0.0       False      True\n",
      "1       3.0    7.0000  47.000000    1.0    0.0        True     False\n",
      "2       2.0    9.6875  62.000000    0.0    0.0       False      True\n",
      "3       3.0    8.6625  27.000000    0.0    0.0       False      True\n",
      "4       3.0   12.2875  22.000000    1.0    1.0        True     False\n",
      "..      ...       ...        ...    ...    ...         ...       ...\n",
      "413     3.0    8.0500  26.529167    0.0    0.0       False      True\n",
      "414     1.0  108.9000  39.000000    0.0    0.0        True     False\n",
      "415     3.0    7.2500  38.500000    0.0    0.0       False      True\n",
      "416     3.0    8.0500  26.529167    0.0    0.0       False      True\n",
      "417     3.0   22.3583  15.500000    1.0    1.0       False      True\n",
      "\n",
      "[418 rows x 7 columns]\n"
     ]
    }
   ],
   "source": [
    "print(test_data)\n",
    "\n",
    "predictions3 = model.predict(test_data)"
   ]
  },
  {
   "cell_type": "code",
   "execution_count": 30,
   "id": "9e99ff07",
   "metadata": {
    "execution": {
     "iopub.execute_input": "2023-11-19T00:41:08.301359Z",
     "iopub.status.busy": "2023-11-19T00:41:08.300135Z",
     "iopub.status.idle": "2023-11-19T00:41:08.316134Z",
     "shell.execute_reply": "2023-11-19T00:41:08.314944Z"
    },
    "papermill": {
     "duration": 0.03636,
     "end_time": "2023-11-19T00:41:08.318387",
     "exception": false,
     "start_time": "2023-11-19T00:41:08.282027",
     "status": "completed"
    },
    "tags": []
   },
   "outputs": [
    {
     "name": "stdout",
     "output_type": "stream",
     "text": [
      "Your submission was successfully saved!\n"
     ]
    }
   ],
   "source": [
    "original_test = pd.read_csv(\"/kaggle/input/titanic/test.csv\")\n",
    "\n",
    "pass_id = original_test['PassengerId']\n",
    "\n",
    "# original_test = original_test.drop('PassengerId', axis=1)\n",
    "# original_test = pd.get_dummies(original_test[features])\n",
    "\n",
    "test_data[\"PassengerId\"] = pass_id\n",
    "\n",
    "predictions3 = predictions3.astype(int)\n",
    "\n",
    "#print(predictions3)\n",
    "\n",
    "output = pd.DataFrame({'PassengerId': test_data.PassengerId, 'Survived': predictions3})\n",
    "output.to_csv('submission.csv', index=False)\n",
    "print(\"Your submission was successfully saved!\")"
   ]
  }
 ],
 "metadata": {
  "kaggle": {
   "accelerator": "none",
   "dataSources": [
    {
     "databundleVersionId": 26502,
     "sourceId": 3136,
     "sourceType": "competition"
    }
   ],
   "dockerImageVersionId": 30579,
   "isGpuEnabled": false,
   "isInternetEnabled": true,
   "language": "python",
   "sourceType": "notebook"
  },
  "kernelspec": {
   "display_name": "Python 3",
   "language": "python",
   "name": "python3"
  },
  "language_info": {
   "codemirror_mode": {
    "name": "ipython",
    "version": 3
   },
   "file_extension": ".py",
   "mimetype": "text/x-python",
   "name": "python",
   "nbconvert_exporter": "python",
   "pygments_lexer": "ipython3",
   "version": "3.10.12"
  },
  "papermill": {
   "default_parameters": {},
   "duration": 45.923379,
   "end_time": "2023-11-19T00:41:09.055940",
   "environment_variables": {},
   "exception": null,
   "input_path": "__notebook__.ipynb",
   "output_path": "__notebook__.ipynb",
   "parameters": {},
   "start_time": "2023-11-19T00:40:23.132561",
   "version": "2.4.0"
  }
 },
 "nbformat": 4,
 "nbformat_minor": 5
}
