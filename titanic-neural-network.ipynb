{
 "cells": [
  {
   "cell_type": "code",
   "execution_count": 1,
   "id": "48aad605",
   "metadata": {
    "_cell_guid": "b1076dfc-b9ad-4769-8c92-a6c4dae69d19",
    "_uuid": "8f2839f25d086af736a60e9eeb907d3b93b6e0e5",
    "execution": {
     "iopub.execute_input": "2023-11-20T03:47:32.227283Z",
     "iopub.status.busy": "2023-11-20T03:47:32.226495Z",
     "iopub.status.idle": "2023-11-20T03:47:33.010492Z",
     "shell.execute_reply": "2023-11-20T03:47:33.009311Z"
    },
    "papermill": {
     "duration": 0.806595,
     "end_time": "2023-11-20T03:47:33.013028",
     "exception": false,
     "start_time": "2023-11-20T03:47:32.206433",
     "status": "completed"
    },
    "tags": []
   },
   "outputs": [
    {
     "name": "stdout",
     "output_type": "stream",
     "text": [
      "/kaggle/input/titanic/train.csv\n",
      "/kaggle/input/titanic/test.csv\n",
      "/kaggle/input/titanic/gender_submission.csv\n"
     ]
    }
   ],
   "source": [
    "# This Python 3 environment comes with many helpful analytics libraries installed\n",
    "# It is defined by the kaggle/python Docker image: https://github.com/kaggle/docker-python\n",
    "# For example, here's several helpful packages to load\n",
    "\n",
    "import numpy as np # linear algebra\n",
    "import pandas as pd # data processing, CSV file I/O (e.g. pd.read_csv)\n",
    "\n",
    "# Input data files are available in the read-only \"../input/\" directory\n",
    "# For example, running this (by clicking run or pressing Shift+Enter) will list all files under the input directory\n",
    "\n",
    "import os\n",
    "for dirname, _, filenames in os.walk('/kaggle/input'):\n",
    "    for filename in filenames:\n",
    "        print(os.path.join(dirname, filename))\n",
    "\n",
    "# You can write up to 20GB to the current directory (/kaggle/working/) that gets preserved as output when you create a version using \"Save & Run All\" \n",
    "# You can also write temporary files to /kaggle/temp/, but they won't be saved outside of the current session"
   ]
  },
  {
   "cell_type": "markdown",
   "id": "46cbea69",
   "metadata": {
    "papermill": {
     "duration": 0.016755,
     "end_time": "2023-11-20T03:47:33.047116",
     "exception": false,
     "start_time": "2023-11-20T03:47:33.030361",
     "status": "completed"
    },
    "tags": []
   },
   "source": [
    "# **Load the Data from the Database**"
   ]
  },
  {
   "cell_type": "code",
   "execution_count": 2,
   "id": "42d01b37",
   "metadata": {
    "execution": {
     "iopub.execute_input": "2023-11-20T03:47:33.084138Z",
     "iopub.status.busy": "2023-11-20T03:47:33.083601Z",
     "iopub.status.idle": "2023-11-20T03:47:33.128326Z",
     "shell.execute_reply": "2023-11-20T03:47:33.127336Z"
    },
    "papermill": {
     "duration": 0.065713,
     "end_time": "2023-11-20T03:47:33.130675",
     "exception": false,
     "start_time": "2023-11-20T03:47:33.064962",
     "status": "completed"
    },
    "tags": []
   },
   "outputs": [
    {
     "data": {
      "text/html": [
       "<div>\n",
       "<style scoped>\n",
       "    .dataframe tbody tr th:only-of-type {\n",
       "        vertical-align: middle;\n",
       "    }\n",
       "\n",
       "    .dataframe tbody tr th {\n",
       "        vertical-align: top;\n",
       "    }\n",
       "\n",
       "    .dataframe thead th {\n",
       "        text-align: right;\n",
       "    }\n",
       "</style>\n",
       "<table border=\"1\" class=\"dataframe\">\n",
       "  <thead>\n",
       "    <tr style=\"text-align: right;\">\n",
       "      <th></th>\n",
       "      <th>PassengerId</th>\n",
       "      <th>Survived</th>\n",
       "      <th>Pclass</th>\n",
       "      <th>Name</th>\n",
       "      <th>Sex</th>\n",
       "      <th>Age</th>\n",
       "      <th>SibSp</th>\n",
       "      <th>Parch</th>\n",
       "      <th>Ticket</th>\n",
       "      <th>Fare</th>\n",
       "      <th>Cabin</th>\n",
       "      <th>Embarked</th>\n",
       "    </tr>\n",
       "  </thead>\n",
       "  <tbody>\n",
       "    <tr>\n",
       "      <th>0</th>\n",
       "      <td>1</td>\n",
       "      <td>0</td>\n",
       "      <td>3</td>\n",
       "      <td>Braund, Mr. Owen Harris</td>\n",
       "      <td>male</td>\n",
       "      <td>22.0</td>\n",
       "      <td>1</td>\n",
       "      <td>0</td>\n",
       "      <td>A/5 21171</td>\n",
       "      <td>7.2500</td>\n",
       "      <td>NaN</td>\n",
       "      <td>S</td>\n",
       "    </tr>\n",
       "    <tr>\n",
       "      <th>1</th>\n",
       "      <td>2</td>\n",
       "      <td>1</td>\n",
       "      <td>1</td>\n",
       "      <td>Cumings, Mrs. John Bradley (Florence Briggs Th...</td>\n",
       "      <td>female</td>\n",
       "      <td>38.0</td>\n",
       "      <td>1</td>\n",
       "      <td>0</td>\n",
       "      <td>PC 17599</td>\n",
       "      <td>71.2833</td>\n",
       "      <td>C85</td>\n",
       "      <td>C</td>\n",
       "    </tr>\n",
       "    <tr>\n",
       "      <th>2</th>\n",
       "      <td>3</td>\n",
       "      <td>1</td>\n",
       "      <td>3</td>\n",
       "      <td>Heikkinen, Miss. Laina</td>\n",
       "      <td>female</td>\n",
       "      <td>26.0</td>\n",
       "      <td>0</td>\n",
       "      <td>0</td>\n",
       "      <td>STON/O2. 3101282</td>\n",
       "      <td>7.9250</td>\n",
       "      <td>NaN</td>\n",
       "      <td>S</td>\n",
       "    </tr>\n",
       "    <tr>\n",
       "      <th>3</th>\n",
       "      <td>4</td>\n",
       "      <td>1</td>\n",
       "      <td>1</td>\n",
       "      <td>Futrelle, Mrs. Jacques Heath (Lily May Peel)</td>\n",
       "      <td>female</td>\n",
       "      <td>35.0</td>\n",
       "      <td>1</td>\n",
       "      <td>0</td>\n",
       "      <td>113803</td>\n",
       "      <td>53.1000</td>\n",
       "      <td>C123</td>\n",
       "      <td>S</td>\n",
       "    </tr>\n",
       "    <tr>\n",
       "      <th>4</th>\n",
       "      <td>5</td>\n",
       "      <td>0</td>\n",
       "      <td>3</td>\n",
       "      <td>Allen, Mr. William Henry</td>\n",
       "      <td>male</td>\n",
       "      <td>35.0</td>\n",
       "      <td>0</td>\n",
       "      <td>0</td>\n",
       "      <td>373450</td>\n",
       "      <td>8.0500</td>\n",
       "      <td>NaN</td>\n",
       "      <td>S</td>\n",
       "    </tr>\n",
       "  </tbody>\n",
       "</table>\n",
       "</div>"
      ],
      "text/plain": [
       "   PassengerId  Survived  Pclass  \\\n",
       "0            1         0       3   \n",
       "1            2         1       1   \n",
       "2            3         1       3   \n",
       "3            4         1       1   \n",
       "4            5         0       3   \n",
       "\n",
       "                                                Name     Sex   Age  SibSp  \\\n",
       "0                            Braund, Mr. Owen Harris    male  22.0      1   \n",
       "1  Cumings, Mrs. John Bradley (Florence Briggs Th...  female  38.0      1   \n",
       "2                             Heikkinen, Miss. Laina  female  26.0      0   \n",
       "3       Futrelle, Mrs. Jacques Heath (Lily May Peel)  female  35.0      1   \n",
       "4                           Allen, Mr. William Henry    male  35.0      0   \n",
       "\n",
       "   Parch            Ticket     Fare Cabin Embarked  \n",
       "0      0         A/5 21171   7.2500   NaN        S  \n",
       "1      0          PC 17599  71.2833   C85        C  \n",
       "2      0  STON/O2. 3101282   7.9250   NaN        S  \n",
       "3      0            113803  53.1000  C123        S  \n",
       "4      0            373450   8.0500   NaN        S  "
      ]
     },
     "execution_count": 2,
     "metadata": {},
     "output_type": "execute_result"
    }
   ],
   "source": [
    "#Remember to eventually clean up the wrong or missing values\n",
    "train_data = pd.read_csv(\"/kaggle/input/titanic/train.csv\")\n",
    "\n",
    "train_data.head()"
   ]
  },
  {
   "cell_type": "code",
   "execution_count": 3,
   "id": "65e7a8f5",
   "metadata": {
    "execution": {
     "iopub.execute_input": "2023-11-20T03:47:33.167501Z",
     "iopub.status.busy": "2023-11-20T03:47:33.166757Z",
     "iopub.status.idle": "2023-11-20T03:47:33.187793Z",
     "shell.execute_reply": "2023-11-20T03:47:33.186735Z"
    },
    "papermill": {
     "duration": 0.041831,
     "end_time": "2023-11-20T03:47:33.189957",
     "exception": false,
     "start_time": "2023-11-20T03:47:33.148126",
     "status": "completed"
    },
    "tags": []
   },
   "outputs": [
    {
     "data": {
      "text/html": [
       "<div>\n",
       "<style scoped>\n",
       "    .dataframe tbody tr th:only-of-type {\n",
       "        vertical-align: middle;\n",
       "    }\n",
       "\n",
       "    .dataframe tbody tr th {\n",
       "        vertical-align: top;\n",
       "    }\n",
       "\n",
       "    .dataframe thead th {\n",
       "        text-align: right;\n",
       "    }\n",
       "</style>\n",
       "<table border=\"1\" class=\"dataframe\">\n",
       "  <thead>\n",
       "    <tr style=\"text-align: right;\">\n",
       "      <th></th>\n",
       "      <th>PassengerId</th>\n",
       "      <th>Pclass</th>\n",
       "      <th>Name</th>\n",
       "      <th>Sex</th>\n",
       "      <th>Age</th>\n",
       "      <th>SibSp</th>\n",
       "      <th>Parch</th>\n",
       "      <th>Ticket</th>\n",
       "      <th>Fare</th>\n",
       "      <th>Cabin</th>\n",
       "      <th>Embarked</th>\n",
       "    </tr>\n",
       "  </thead>\n",
       "  <tbody>\n",
       "    <tr>\n",
       "      <th>0</th>\n",
       "      <td>892</td>\n",
       "      <td>3</td>\n",
       "      <td>Kelly, Mr. James</td>\n",
       "      <td>male</td>\n",
       "      <td>34.5</td>\n",
       "      <td>0</td>\n",
       "      <td>0</td>\n",
       "      <td>330911</td>\n",
       "      <td>7.8292</td>\n",
       "      <td>NaN</td>\n",
       "      <td>Q</td>\n",
       "    </tr>\n",
       "    <tr>\n",
       "      <th>1</th>\n",
       "      <td>893</td>\n",
       "      <td>3</td>\n",
       "      <td>Wilkes, Mrs. James (Ellen Needs)</td>\n",
       "      <td>female</td>\n",
       "      <td>47.0</td>\n",
       "      <td>1</td>\n",
       "      <td>0</td>\n",
       "      <td>363272</td>\n",
       "      <td>7.0000</td>\n",
       "      <td>NaN</td>\n",
       "      <td>S</td>\n",
       "    </tr>\n",
       "    <tr>\n",
       "      <th>2</th>\n",
       "      <td>894</td>\n",
       "      <td>2</td>\n",
       "      <td>Myles, Mr. Thomas Francis</td>\n",
       "      <td>male</td>\n",
       "      <td>62.0</td>\n",
       "      <td>0</td>\n",
       "      <td>0</td>\n",
       "      <td>240276</td>\n",
       "      <td>9.6875</td>\n",
       "      <td>NaN</td>\n",
       "      <td>Q</td>\n",
       "    </tr>\n",
       "    <tr>\n",
       "      <th>3</th>\n",
       "      <td>895</td>\n",
       "      <td>3</td>\n",
       "      <td>Wirz, Mr. Albert</td>\n",
       "      <td>male</td>\n",
       "      <td>27.0</td>\n",
       "      <td>0</td>\n",
       "      <td>0</td>\n",
       "      <td>315154</td>\n",
       "      <td>8.6625</td>\n",
       "      <td>NaN</td>\n",
       "      <td>S</td>\n",
       "    </tr>\n",
       "    <tr>\n",
       "      <th>4</th>\n",
       "      <td>896</td>\n",
       "      <td>3</td>\n",
       "      <td>Hirvonen, Mrs. Alexander (Helga E Lindqvist)</td>\n",
       "      <td>female</td>\n",
       "      <td>22.0</td>\n",
       "      <td>1</td>\n",
       "      <td>1</td>\n",
       "      <td>3101298</td>\n",
       "      <td>12.2875</td>\n",
       "      <td>NaN</td>\n",
       "      <td>S</td>\n",
       "    </tr>\n",
       "  </tbody>\n",
       "</table>\n",
       "</div>"
      ],
      "text/plain": [
       "   PassengerId  Pclass                                          Name     Sex  \\\n",
       "0          892       3                              Kelly, Mr. James    male   \n",
       "1          893       3              Wilkes, Mrs. James (Ellen Needs)  female   \n",
       "2          894       2                     Myles, Mr. Thomas Francis    male   \n",
       "3          895       3                              Wirz, Mr. Albert    male   \n",
       "4          896       3  Hirvonen, Mrs. Alexander (Helga E Lindqvist)  female   \n",
       "\n",
       "    Age  SibSp  Parch   Ticket     Fare Cabin Embarked  \n",
       "0  34.5      0      0   330911   7.8292   NaN        Q  \n",
       "1  47.0      1      0   363272   7.0000   NaN        S  \n",
       "2  62.0      0      0   240276   9.6875   NaN        Q  \n",
       "3  27.0      0      0   315154   8.6625   NaN        S  \n",
       "4  22.0      1      1  3101298  12.2875   NaN        S  "
      ]
     },
     "execution_count": 3,
     "metadata": {},
     "output_type": "execute_result"
    }
   ],
   "source": [
    "#Remember to eventually clean up the wrong or missing values\n",
    "test_data = pd.read_csv(\"/kaggle/input/titanic/test.csv\")\n",
    "\n",
    "test_data.head()"
   ]
  },
  {
   "cell_type": "code",
   "execution_count": 4,
   "id": "1bda91b8",
   "metadata": {
    "execution": {
     "iopub.execute_input": "2023-11-20T03:47:33.227735Z",
     "iopub.status.busy": "2023-11-20T03:47:33.226602Z",
     "iopub.status.idle": "2023-11-20T03:47:33.233490Z",
     "shell.execute_reply": "2023-11-20T03:47:33.232150Z"
    },
    "papermill": {
     "duration": 0.027741,
     "end_time": "2023-11-20T03:47:33.235522",
     "exception": false,
     "start_time": "2023-11-20T03:47:33.207781",
     "status": "completed"
    },
    "tags": []
   },
   "outputs": [
    {
     "name": "stdout",
     "output_type": "stream",
     "text": [
      "Index(['PassengerId', 'Survived', 'Pclass', 'Name', 'Sex', 'Age', 'SibSp',\n",
      "       'Parch', 'Ticket', 'Fare', 'Cabin', 'Embarked'],\n",
      "      dtype='object')\n",
      "(891, 12)\n"
     ]
    }
   ],
   "source": [
    "print(train_data.columns)\n",
    "print(train_data.shape)"
   ]
  },
  {
   "cell_type": "markdown",
   "id": "68f6f336",
   "metadata": {
    "papermill": {
     "duration": 0.079767,
     "end_time": "2023-11-20T03:47:33.333576",
     "exception": false,
     "start_time": "2023-11-20T03:47:33.253809",
     "status": "completed"
    },
    "tags": []
   },
   "source": [
    "# Choosing features #\n"
   ]
  },
  {
   "cell_type": "code",
   "execution_count": 5,
   "id": "2d9bc462",
   "metadata": {
    "execution": {
     "iopub.execute_input": "2023-11-20T03:47:33.371738Z",
     "iopub.status.busy": "2023-11-20T03:47:33.371134Z",
     "iopub.status.idle": "2023-11-20T03:47:33.398952Z",
     "shell.execute_reply": "2023-11-20T03:47:33.397704Z"
    },
    "papermill": {
     "duration": 0.049291,
     "end_time": "2023-11-20T03:47:33.401308",
     "exception": false,
     "start_time": "2023-11-20T03:47:33.352017",
     "status": "completed"
    },
    "tags": []
   },
   "outputs": [
    {
     "data": {
      "text/html": [
       "<div>\n",
       "<style scoped>\n",
       "    .dataframe tbody tr th:only-of-type {\n",
       "        vertical-align: middle;\n",
       "    }\n",
       "\n",
       "    .dataframe tbody tr th {\n",
       "        vertical-align: top;\n",
       "    }\n",
       "\n",
       "    .dataframe thead th {\n",
       "        text-align: right;\n",
       "    }\n",
       "</style>\n",
       "<table border=\"1\" class=\"dataframe\">\n",
       "  <thead>\n",
       "    <tr style=\"text-align: right;\">\n",
       "      <th></th>\n",
       "      <th>Pclass</th>\n",
       "      <th>Fare</th>\n",
       "      <th>Sex_female</th>\n",
       "      <th>Sex_male</th>\n",
       "    </tr>\n",
       "  </thead>\n",
       "  <tbody>\n",
       "    <tr>\n",
       "      <th>0</th>\n",
       "      <td>3</td>\n",
       "      <td>7.2500</td>\n",
       "      <td>False</td>\n",
       "      <td>True</td>\n",
       "    </tr>\n",
       "    <tr>\n",
       "      <th>1</th>\n",
       "      <td>1</td>\n",
       "      <td>71.2833</td>\n",
       "      <td>True</td>\n",
       "      <td>False</td>\n",
       "    </tr>\n",
       "    <tr>\n",
       "      <th>2</th>\n",
       "      <td>3</td>\n",
       "      <td>7.9250</td>\n",
       "      <td>True</td>\n",
       "      <td>False</td>\n",
       "    </tr>\n",
       "    <tr>\n",
       "      <th>3</th>\n",
       "      <td>1</td>\n",
       "      <td>53.1000</td>\n",
       "      <td>True</td>\n",
       "      <td>False</td>\n",
       "    </tr>\n",
       "    <tr>\n",
       "      <th>4</th>\n",
       "      <td>3</td>\n",
       "      <td>8.0500</td>\n",
       "      <td>False</td>\n",
       "      <td>True</td>\n",
       "    </tr>\n",
       "  </tbody>\n",
       "</table>\n",
       "</div>"
      ],
      "text/plain": [
       "   Pclass     Fare  Sex_female  Sex_male\n",
       "0       3   7.2500       False      True\n",
       "1       1  71.2833        True     False\n",
       "2       3   7.9250        True     False\n",
       "3       1  53.1000        True     False\n",
       "4       3   8.0500       False      True"
      ]
     },
     "execution_count": 5,
     "metadata": {},
     "output_type": "execute_result"
    }
   ],
   "source": [
    "features = [\"Pclass\", \"Sex\", \"Fare\"]\n",
    "\n",
    "X_train = pd.get_dummies(train_data[features])\n",
    "\n",
    "X_train.head()\n",
    "#print(X_train.shape)"
   ]
  },
  {
   "cell_type": "markdown",
   "id": "a8c76d4b",
   "metadata": {
    "papermill": {
     "duration": 0.01766,
     "end_time": "2023-11-20T03:47:33.437149",
     "exception": false,
     "start_time": "2023-11-20T03:47:33.419489",
     "status": "completed"
    },
    "tags": []
   },
   "source": []
  },
  {
   "cell_type": "markdown",
   "id": "e4bab08c",
   "metadata": {
    "papermill": {
     "duration": 0.018462,
     "end_time": "2023-11-20T03:47:33.474010",
     "exception": false,
     "start_time": "2023-11-20T03:47:33.455548",
     "status": "completed"
    },
    "tags": []
   },
   "source": [
    "# Set the target/label (y) values\n"
   ]
  },
  {
   "cell_type": "code",
   "execution_count": 6,
   "id": "5f102fc6",
   "metadata": {
    "execution": {
     "iopub.execute_input": "2023-11-20T03:47:33.512403Z",
     "iopub.status.busy": "2023-11-20T03:47:33.511357Z",
     "iopub.status.idle": "2023-11-20T03:47:33.519346Z",
     "shell.execute_reply": "2023-11-20T03:47:33.518373Z"
    },
    "papermill": {
     "duration": 0.029144,
     "end_time": "2023-11-20T03:47:33.521312",
     "exception": false,
     "start_time": "2023-11-20T03:47:33.492168",
     "status": "completed"
    },
    "tags": []
   },
   "outputs": [
    {
     "data": {
      "text/plain": [
       "0    0\n",
       "1    1\n",
       "2    1\n",
       "3    1\n",
       "4    0\n",
       "Name: Survived, dtype: int64"
      ]
     },
     "execution_count": 6,
     "metadata": {},
     "output_type": "execute_result"
    }
   ],
   "source": [
    "#Y_train = pd.get_dummies(train_data[\"Survived\"])\n",
    "Y_train = train_data[\"Survived\"]\n",
    "\n",
    "Y_train.head()\n"
   ]
  },
  {
   "cell_type": "markdown",
   "id": "fb4f3212",
   "metadata": {
    "papermill": {
     "duration": 0.017693,
     "end_time": "2023-11-20T03:47:33.557304",
     "exception": false,
     "start_time": "2023-11-20T03:47:33.539611",
     "status": "completed"
    },
    "tags": []
   },
   "source": []
  },
  {
   "cell_type": "markdown",
   "id": "69e39dcc",
   "metadata": {
    "papermill": {
     "duration": 0.017809,
     "end_time": "2023-11-20T03:47:33.593093",
     "exception": false,
     "start_time": "2023-11-20T03:47:33.575284",
     "status": "completed"
    },
    "tags": []
   },
   "source": [
    "# Split up train data into Train-test using scikit-learn"
   ]
  },
  {
   "cell_type": "code",
   "execution_count": 7,
   "id": "35f7eadb",
   "metadata": {
    "execution": {
     "iopub.execute_input": "2023-11-20T03:47:33.631111Z",
     "iopub.status.busy": "2023-11-20T03:47:33.630686Z",
     "iopub.status.idle": "2023-11-20T03:47:34.847202Z",
     "shell.execute_reply": "2023-11-20T03:47:34.845834Z"
    },
    "papermill": {
     "duration": 1.23846,
     "end_time": "2023-11-20T03:47:34.849657",
     "exception": false,
     "start_time": "2023-11-20T03:47:33.611197",
     "status": "completed"
    },
    "tags": []
   },
   "outputs": [
    {
     "name": "stdout",
     "output_type": "stream",
     "text": [
      "445    1\n",
      "650    0\n",
      "172    1\n",
      "450    0\n",
      "314    0\n",
      "Name: Survived, dtype: int64\n",
      "709    1\n",
      "439    0\n",
      "840    0\n",
      "720    1\n",
      "39     1\n",
      "Name: Survived, dtype: int64\n"
     ]
    }
   ],
   "source": [
    "from sklearn.model_selection import train_test_split\n",
    "\n",
    "#Split data into a train/validation and test set\n",
    "X_train, X_test, Y_train, Y_test = train_test_split(X_train, Y_train, test_size = 0.3, random_state = 42)\n",
    "\n",
    "#print(X_train.head())\n",
    "#print(Y_train.head())\n",
    "print(Y_train.head())\n",
    "\n",
    "print(Y_test.head())\n"
   ]
  },
  {
   "cell_type": "markdown",
   "id": "e7063cf8",
   "metadata": {
    "papermill": {
     "duration": 0.018854,
     "end_time": "2023-11-20T03:47:34.887333",
     "exception": false,
     "start_time": "2023-11-20T03:47:34.868479",
     "status": "completed"
    },
    "tags": []
   },
   "source": [
    "spliting the data into a train-test split will allow us to test our model and so it will allow us to tune our model before submitting on Kaggle. We can also use the train-validation-test split here"
   ]
  },
  {
   "cell_type": "markdown",
   "id": "f5d49b3b",
   "metadata": {
    "papermill": {
     "duration": 0.017892,
     "end_time": "2023-11-20T03:47:34.923612",
     "exception": false,
     "start_time": "2023-11-20T03:47:34.905720",
     "status": "completed"
    },
    "tags": []
   },
   "source": [
    "# Making the Neural Network Model using Scikit Learn\n"
   ]
  },
  {
   "cell_type": "code",
   "execution_count": 8,
   "id": "792d1e34",
   "metadata": {
    "execution": {
     "iopub.execute_input": "2023-11-20T03:47:34.962653Z",
     "iopub.status.busy": "2023-11-20T03:47:34.962257Z",
     "iopub.status.idle": "2023-11-20T03:47:34.975883Z",
     "shell.execute_reply": "2023-11-20T03:47:34.974720Z"
    },
    "papermill": {
     "duration": 0.036264,
     "end_time": "2023-11-20T03:47:34.978321",
     "exception": false,
     "start_time": "2023-11-20T03:47:34.942057",
     "status": "completed"
    },
    "tags": []
   },
   "outputs": [],
   "source": [
    "from sklearn.neural_network import MLPClassifier\n",
    "from sklearn.model_selection import train_test_split\n",
    "from sklearn.preprocessing import StandardScaler\n",
    "from sklearn.metrics import accuracy_score\n",
    "\n",
    "# Commented out the code so that the model won't run everytime\n",
    "\n",
    "# model = MLPClassifier(hidden_layer_sizes=(5, 5), activation='relu', solver='adam', max_iter=1000, random_state=42)\n",
    "\n",
    "# model.fit(X_train, Y_train)\n",
    "\n",
    "# y_pred = model.predict(X_test)\n",
    "\n",
    "# print(f\"Accuracy: {accuracy_score(Y_test, y_pred):.2f}\")\n"
   ]
  },
  {
   "cell_type": "markdown",
   "id": "030b13d7",
   "metadata": {
    "papermill": {
     "duration": 0.018433,
     "end_time": "2023-11-20T03:47:35.015156",
     "exception": false,
     "start_time": "2023-11-20T03:47:34.996723",
     "status": "completed"
    },
    "tags": []
   },
   "source": [
    "**Here I am using the MLPClassifier since this is a classification problem. The output of the model will be \"Survive\" or \"not survive.\" If my model was supposed to predict a numerical value, I would be using something like MLPRegressor instead**"
   ]
  },
  {
   "cell_type": "markdown",
   "id": "e31e7066",
   "metadata": {
    "papermill": {
     "duration": 0.018337,
     "end_time": "2023-11-20T03:47:35.052097",
     "exception": false,
     "start_time": "2023-11-20T03:47:35.033760",
     "status": "completed"
    },
    "tags": []
   },
   "source": [
    "# Tried making a neural network using Tensor Flow but decided to just use Scikit learn"
   ]
  },
  {
   "cell_type": "code",
   "execution_count": 9,
   "id": "d2206d3e",
   "metadata": {
    "execution": {
     "iopub.execute_input": "2023-11-20T03:47:35.090414Z",
     "iopub.status.busy": "2023-11-20T03:47:35.089988Z",
     "iopub.status.idle": "2023-11-20T03:47:35.094649Z",
     "shell.execute_reply": "2023-11-20T03:47:35.093674Z"
    },
    "papermill": {
     "duration": 0.026249,
     "end_time": "2023-11-20T03:47:35.096635",
     "exception": false,
     "start_time": "2023-11-20T03:47:35.070386",
     "status": "completed"
    },
    "tags": []
   },
   "outputs": [],
   "source": [
    "# import tensorflow as tf\n",
    "\n",
    "\n",
    "# #Compile the model\n",
    "# model = tf.keras.models.Sequential([\n",
    "#     tf.keras.layers.Dense(64, activation = \"relu\", input_shape = (687,)),\n",
    "#     tf.keras.layers.Dense(32, activation = \"relu\"),\n",
    "#     tf.keras.layers.Dense(16, activation = \"relu\"),\n",
    "#     tf.keras.layers.Dense(1, activation = \"sigmoid\")\n",
    "# ])\n",
    "# model.compile(optimizer = \"adam\", loss = \"binary_crossentropy\", metrics = [\"accuracy\"])\n",
    "\n",
    "\n",
    "# #Train the model\n",
    "\n",
    "# #X_train = tf.convert_to_tensor(X_train)\n",
    "# #Y_train = tf.convert_to_tensor(Y_train)\n",
    "# model.fit(X_train, Y_train, epochs = 10)\n",
    "\n",
    "# #Evaluate the model \n",
    "\n",
    "# #X_test = tf.convert_to_tensor(X_test)\n",
    "# #Y_test = tf.convert_to_tensor(Y_test)\n",
    "# loss, accuracy = model.evaluate(X_test, Y_test)\n",
    "# print(\"Accuracy: \", accuracy)"
   ]
  },
  {
   "cell_type": "markdown",
   "id": "17f380b9",
   "metadata": {
    "papermill": {
     "duration": 0.017864,
     "end_time": "2023-11-20T03:47:35.132866",
     "exception": false,
     "start_time": "2023-11-20T03:47:35.115002",
     "status": "completed"
    },
    "tags": []
   },
   "source": [
    "# Testing model on real test set and Submitting Model (Accuracy: 0.755)\n"
   ]
  },
  {
   "cell_type": "code",
   "execution_count": 10,
   "id": "3cc377b9",
   "metadata": {
    "execution": {
     "iopub.execute_input": "2023-11-20T03:47:35.171474Z",
     "iopub.status.busy": "2023-11-20T03:47:35.170551Z",
     "iopub.status.idle": "2023-11-20T03:47:35.214210Z",
     "shell.execute_reply": "2023-11-20T03:47:35.213137Z"
    },
    "papermill": {
     "duration": 0.065693,
     "end_time": "2023-11-20T03:47:35.216677",
     "exception": false,
     "start_time": "2023-11-20T03:47:35.150984",
     "status": "completed"
    },
    "tags": []
   },
   "outputs": [
    {
     "name": "stdout",
     "output_type": "stream",
     "text": [
      "Index(['Pclass', 'Fare', 'Sex_female', 'Sex_male', 'PassengerId'], dtype='object')\n"
     ]
    }
   ],
   "source": [
    "test_data = pd.read_csv(\"/kaggle/input/titanic/test.csv\")\n",
    "features = [\"Pclass\", \"Sex\", \"Fare\"]\n",
    "test_X = pd.get_dummies(test_data[features])\n",
    "#test_X = test_X.dropna()\n",
    "#print(test_X[\"Sex_female\"])\n",
    "test_X['Fare'].fillna(test_X['Fare'].median(), inplace=True)\n",
    "\n",
    "# Impute categorical columns with the mode\n",
    "for column in ['Pclass']:\n",
    "    test_X[column].fillna(test_X[column].mode()[0], inplace=True)\n",
    "\n",
    "for column in [\"Sex_female\"]:\n",
    "    test_X[column].fillna(False, inplace=True)\n",
    "    \n",
    "for column in ['Sex_male']:\n",
    "    test_X[column].fillna(True, inplace=True)\n",
    "  \n",
    "  \n",
    "# print(X_test)\n",
    "\n",
    "#model.fit(X_train, Y_train)\n",
    "\n",
    "# predictions = model.predict(test_X)\n",
    "\n",
    "pass_id = test_data['PassengerId']\n",
    "\n",
    "test_data = test_data.drop('PassengerId', axis=1)\n",
    "test_data = pd.get_dummies(test_data[features])\n",
    "\n",
    "test_data[\"PassengerId\"] = pass_id\n",
    "\n",
    "test_data['Fare'].fillna(test_data['Fare'].median(), inplace=True)\n",
    "\n",
    "print(test_data.columns)\n",
    "\n",
    "# Impute categorical columns with the mode\n",
    "for column in ['Pclass']:\n",
    "    test_data[column].fillna(test_data[column].mode()[0], inplace=True)\n",
    "\n",
    "for column in ['Sex_female']:\n",
    "    test_data[column].fillna(False, inplace=True)\n",
    "    \n",
    "for column in ['Sex_male']:\n",
    "    test_data[column].fillna(True, inplace=True)\n",
    "    \n",
    "# Commented out the code so that the model won't run everytime\n",
    "\n",
    "# print(test_X.shape)\n",
    "# print(predictions.shape)\n",
    "# print(test_data.shape)\n",
    "\n",
    "\n",
    "# output = pd.DataFrame({'PassengerId': test_data.PassengerId, 'Survived': predictions})\n",
    "# output.to_csv('submission.csv', index=False)\n",
    "# print(\"Your submission was successfully saved!\")"
   ]
  },
  {
   "cell_type": "markdown",
   "id": "19cf2aa4",
   "metadata": {
    "papermill": {
     "duration": 0.017956,
     "end_time": "2023-11-20T03:47:35.253186",
     "exception": false,
     "start_time": "2023-11-20T03:47:35.235230",
     "status": "completed"
    },
    "tags": []
   },
   "source": [
    "**The accuracy of the model was 0.755**"
   ]
  },
  {
   "cell_type": "markdown",
   "id": "8df1c9b4",
   "metadata": {
    "papermill": {
     "duration": 0.01804,
     "end_time": "2023-11-20T03:47:35.289517",
     "exception": false,
     "start_time": "2023-11-20T03:47:35.271477",
     "status": "completed"
    },
    "tags": []
   },
   "source": [
    "# After first submission, I will now try and edit the neural network to improve the accurary\n"
   ]
  },
  {
   "cell_type": "code",
   "execution_count": 11,
   "id": "707833ad",
   "metadata": {
    "execution": {
     "iopub.execute_input": "2023-11-20T03:47:35.328243Z",
     "iopub.status.busy": "2023-11-20T03:47:35.327320Z",
     "iopub.status.idle": "2023-11-20T03:47:35.332085Z",
     "shell.execute_reply": "2023-11-20T03:47:35.331246Z"
    },
    "papermill": {
     "duration": 0.026627,
     "end_time": "2023-11-20T03:47:35.334443",
     "exception": false,
     "start_time": "2023-11-20T03:47:35.307816",
     "status": "completed"
    },
    "tags": []
   },
   "outputs": [],
   "source": [
    "# Commented out the code so that the model won't run everytime\n",
    "\n",
    "# model = MLPClassifier(hidden_layer_sizes=(14, 4), activation='relu', solver='lbfgs', max_iter=1000, random_state=42)\n",
    "\n",
    "# model.fit(X_train, Y_train)\n",
    "\n",
    "# y_pred = model.predict(X_test)\n",
    "\n",
    "# print(f\"Accuracy: {accuracy_score(Y_test, y_pred):.2f}\")\n",
    "\n"
   ]
  },
  {
   "cell_type": "markdown",
   "id": "3d75a7b7",
   "metadata": {
    "papermill": {
     "duration": 0.018259,
     "end_time": "2023-11-20T03:47:35.370970",
     "exception": false,
     "start_time": "2023-11-20T03:47:35.352711",
     "status": "completed"
    },
    "tags": []
   },
   "source": [
    "**I edited  the hidden layer sizes**\n"
   ]
  },
  {
   "cell_type": "markdown",
   "id": "03b0b20d",
   "metadata": {
    "papermill": {
     "duration": 0.018104,
     "end_time": "2023-11-20T03:47:35.407369",
     "exception": false,
     "start_time": "2023-11-20T03:47:35.389265",
     "status": "completed"
    },
    "tags": []
   },
   "source": [
    "# Second submission (accuracy: 0.76)\n"
   ]
  },
  {
   "cell_type": "code",
   "execution_count": 12,
   "id": "191ca837",
   "metadata": {
    "execution": {
     "iopub.execute_input": "2023-11-20T03:47:35.445800Z",
     "iopub.status.busy": "2023-11-20T03:47:35.445406Z",
     "iopub.status.idle": "2023-11-20T03:47:35.462324Z",
     "shell.execute_reply": "2023-11-20T03:47:35.460906Z"
    },
    "papermill": {
     "duration": 0.038776,
     "end_time": "2023-11-20T03:47:35.464694",
     "exception": false,
     "start_time": "2023-11-20T03:47:35.425918",
     "status": "completed"
    },
    "tags": []
   },
   "outputs": [
    {
     "name": "stdout",
     "output_type": "stream",
     "text": [
      "done\n"
     ]
    }
   ],
   "source": [
    "test_data = pd.read_csv(\"/kaggle/input/titanic/test.csv\")\n",
    "features = [\"Pclass\", \"Sex\", \"Fare\"]\n",
    "test_X = pd.get_dummies(test_data[features])\n",
    "\n",
    "test_X['Fare'].fillna(test_X['Fare'].median(), inplace=True)\n",
    "\n",
    "# Impute categorical columns with the mode\n",
    "for column in ['Pclass']:\n",
    "    test_X[column].fillna(test_X[column].mode()[0], inplace=True)\n",
    "\n",
    "for column in [\"Sex_female\"]:\n",
    "    test_X[column].fillna(False, inplace=True)\n",
    "    \n",
    "for column in ['Sex_male']:\n",
    "    test_X[column].fillna(True, inplace=True)\n",
    "\n",
    "print(\"done\")\n",
    "\n",
    "\n",
    "# Commented out the code so that the model won't run everytime\n",
    "\n",
    "# predictions2 = model.predict(test_X)\n",
    "\n",
    "# pass_id = test_data['PassengerId']\n",
    "\n",
    "# test_data = test_data.drop('PassengerId', axis=1)\n",
    "# test_data = pd.get_dummies(test_data[features])\n",
    "\n",
    "# test_data[\"PassengerId\"] = pass_id\n",
    "\n",
    "# print(test_data.columns)\n",
    "\n",
    "# print(test_X.shape)\n",
    "# print(predictions2.shape)\n",
    "# print(test_data.shape)\n",
    "\n",
    "# output = pd.DataFrame({'PassengerId': test_data.PassengerId, 'Survived': predictions2})\n",
    "# output.to_csv('submission.csv', index=False)\n",
    "# print(\"Your submission was successfully saved!\")"
   ]
  },
  {
   "cell_type": "markdown",
   "id": "9d7b7681",
   "metadata": {
    "papermill": {
     "duration": 0.018112,
     "end_time": "2023-11-20T03:47:35.501443",
     "exception": false,
     "start_time": "2023-11-20T03:47:35.483331",
     "status": "completed"
    },
    "tags": []
   },
   "source": [
    "**Here, from the code above, I went from a 0.755 to a 0.76 by editing the hidden layer sizes. However, this wasn't much of a big change and the accuracy of the model is still worse than the 0.775 which I achieved through a simple Random Decision Forest Model.**\n"
   ]
  },
  {
   "cell_type": "markdown",
   "id": "5d49b46f",
   "metadata": {
    "papermill": {
     "duration": 0.018051,
     "end_time": "2023-11-20T03:47:35.537921",
     "exception": false,
     "start_time": "2023-11-20T03:47:35.519870",
     "status": "completed"
    },
    "tags": []
   },
   "source": [
    "**From this code, I realized that I should be imputing and cleaning the data BEFORE I use pd.get_dummies(). This is because pd.get_dummies() adds a lot more columns to the data because it turns all categorial columns to multiple binary columns which puts a 0 or 1 in each row. So, I should be cleaming up the data BEFORE I use pd.get_dummies() since pd.get_dummies adds so many more columns to the data and makes the data so much harder to clean. \n",
    "For example, it's hard to impute values in the \"age\" column after you do pd.get_Dummies() since imputing age relies on finding the average age of each person and it's a lot easier to find the average age is the all the ages were in a single column but if we do pd.get_Dummies, we are going to split up the age column into many more age columns which correspond to each unique age value in the data set**"
   ]
  },
  {
   "cell_type": "markdown",
   "id": "d19f1fc8",
   "metadata": {
    "papermill": {
     "duration": 0.017928,
     "end_time": "2023-11-20T03:47:35.574205",
     "exception": false,
     "start_time": "2023-11-20T03:47:35.556277",
     "status": "completed"
    },
    "tags": []
   },
   "source": []
  },
  {
   "cell_type": "markdown",
   "id": "bee7dba5",
   "metadata": {
    "papermill": {
     "duration": 0.018066,
     "end_time": "2023-11-20T03:47:35.610587",
     "exception": false,
     "start_time": "2023-11-20T03:47:35.592521",
     "status": "completed"
    },
    "tags": []
   },
   "source": [
    "# Now I will re-initialize my data set and clean up my data before using pd.get_dummies()"
   ]
  },
  {
   "cell_type": "markdown",
   "id": "b2b560ef",
   "metadata": {
    "papermill": {
     "duration": 0.017899,
     "end_time": "2023-11-20T03:47:35.646659",
     "exception": false,
     "start_time": "2023-11-20T03:47:35.628760",
     "status": "completed"
    },
    "tags": []
   },
   "source": [
    "**I set up X_train and Y_train, but this time, instead of doing pd.get_Dummies() on X_train, I'm not going to use pd.get_Dummies() until after I clean up the data**"
   ]
  },
  {
   "cell_type": "code",
   "execution_count": 13,
   "id": "59046620",
   "metadata": {
    "execution": {
     "iopub.execute_input": "2023-11-20T03:47:35.686735Z",
     "iopub.status.busy": "2023-11-20T03:47:35.686359Z",
     "iopub.status.idle": "2023-11-20T03:47:35.702438Z",
     "shell.execute_reply": "2023-11-20T03:47:35.701545Z"
    },
    "papermill": {
     "duration": 0.039597,
     "end_time": "2023-11-20T03:47:35.704684",
     "exception": false,
     "start_time": "2023-11-20T03:47:35.665087",
     "status": "completed"
    },
    "tags": []
   },
   "outputs": [
    {
     "name": "stdout",
     "output_type": "stream",
     "text": [
      "   PassengerId  Survived  Pclass  \\\n",
      "0            1         0       3   \n",
      "1            2         1       1   \n",
      "2            3         1       3   \n",
      "3            4         1       1   \n",
      "4            5         0       3   \n",
      "\n",
      "                                                Name     Sex   Age  SibSp  \\\n",
      "0                            Braund, Mr. Owen Harris    male  22.0      1   \n",
      "1  Cumings, Mrs. John Bradley (Florence Briggs Th...  female  38.0      1   \n",
      "2                             Heikkinen, Miss. Laina  female  26.0      0   \n",
      "3       Futrelle, Mrs. Jacques Heath (Lily May Peel)  female  35.0      1   \n",
      "4                           Allen, Mr. William Henry    male  35.0      0   \n",
      "\n",
      "   Parch            Ticket     Fare Cabin Embarked  \n",
      "0      0         A/5 21171   7.2500   NaN        S  \n",
      "1      0          PC 17599  71.2833   C85        C  \n",
      "2      0  STON/O2. 3101282   7.9250   NaN        S  \n",
      "3      0            113803  53.1000  C123        S  \n",
      "4      0            373450   8.0500   NaN        S  \n"
     ]
    }
   ],
   "source": [
    "train_data = pd.read_csv(\"/kaggle/input/titanic/train.csv\")\n",
    "\n",
    "features = [\"Pclass\", \"Sex\", \"Fare\",\"Age\", \"SibSp\", \"Parch\"] # Here, I also added more features which I think might be useful\n",
    "\n",
    "X_train = train_data # I won't actually limit the X_train to just the columns of the features I want just yet. This is because I will use the other columns in the data set to help impute missing values\n",
    "\n",
    "Y_train = train_data[\"Survived\"]\n",
    "\n",
    "print(X_train.head())\n"
   ]
  },
  {
   "cell_type": "markdown",
   "id": "e4bd9879",
   "metadata": {
    "papermill": {
     "duration": 0.018303,
     "end_time": "2023-11-20T03:47:35.741778",
     "exception": false,
     "start_time": "2023-11-20T03:47:35.723475",
     "status": "completed"
    },
    "tags": []
   },
   "source": [
    "# Start cleaning up the data"
   ]
  },
  {
   "cell_type": "code",
   "execution_count": 14,
   "id": "87726daf",
   "metadata": {
    "execution": {
     "iopub.execute_input": "2023-11-20T03:47:35.781081Z",
     "iopub.status.busy": "2023-11-20T03:47:35.780291Z",
     "iopub.status.idle": "2023-11-20T03:47:35.791754Z",
     "shell.execute_reply": "2023-11-20T03:47:35.790568Z"
    },
    "papermill": {
     "duration": 0.033649,
     "end_time": "2023-11-20T03:47:35.793946",
     "exception": false,
     "start_time": "2023-11-20T03:47:35.760297",
     "status": "completed"
    },
    "tags": []
   },
   "outputs": [
    {
     "name": "stdout",
     "output_type": "stream",
     "text": [
      "0\n",
      "0\n",
      "0\n",
      "0\n",
      "0\n",
      "177\n"
     ]
    }
   ],
   "source": [
    "# Impute missing values for Pclass\n",
    "\n",
    "average_Pclass = X_train[\"Pclass\"].median()\n",
    "\n",
    "X_train[\"Pclass\"].fillna(average_Pclass, inplace = True)\n",
    "\n",
    "print(X_train[\"Pclass\"].isnull().sum()) # print the number of rows in the \"Pclass\" columns that now have no value\n",
    "\n",
    "print(X_train[\"Sex\"].isnull().sum()) # Since this prints out 0, this means that there is no missing value in the \"Sex\" column so we don't need to impute anything\n",
    "\n",
    "print(X_train[\"Fare\"].isnull().sum()) # Since this prints out 0, this means that there is no missing value in the \"Fare\" column so we don't need to impute anything\n",
    "\n",
    "print(X_train[\"SibSp\"].isnull().sum()) # Since this prints out 0, this means that there is no missing value in the \"SibSp\" column so we don't need to impute anything\n",
    "\n",
    "print(X_train[\"Parch\"].isnull().sum()) # Since this prints out 0, this means that there is no missing value in the \"Parch\" column so we don't need to impute anything\n",
    "\n",
    "print(X_train[\"Age\"].isnull().sum()) # This prints out 177 so there are 177 rows with missing values in the \"Age\" column! This means we have to do a lot of imputing\n",
    "\n"
   ]
  },
  {
   "cell_type": "markdown",
   "id": "5c5fb20b",
   "metadata": {
    "papermill": {
     "duration": 0.018345,
     "end_time": "2023-11-20T03:47:35.831407",
     "exception": false,
     "start_time": "2023-11-20T03:47:35.813062",
     "status": "completed"
    },
    "tags": []
   },
   "source": [
    "**From this, we learned that age is the main column with missing values (of the columns that we are working with) so we need to methodically impute those missing values**"
   ]
  },
  {
   "cell_type": "markdown",
   "id": "7ed6663e",
   "metadata": {
    "papermill": {
     "duration": 0.018354,
     "end_time": "2023-11-20T03:47:35.868658",
     "exception": false,
     "start_time": "2023-11-20T03:47:35.850304",
     "status": "completed"
    },
    "tags": []
   },
   "source": [
    "# Cleaning up (imputing) the Age column using a Random Forest Regressor model (a type of Machine Learning model) that accurately predicts the age of a person given their "
   ]
  },
  {
   "cell_type": "code",
   "execution_count": 15,
   "id": "7ff6e697",
   "metadata": {
    "execution": {
     "iopub.execute_input": "2023-11-20T03:47:35.908927Z",
     "iopub.status.busy": "2023-11-20T03:47:35.908138Z",
     "iopub.status.idle": "2023-11-20T03:47:55.562464Z",
     "shell.execute_reply": "2023-11-20T03:47:55.561220Z"
    },
    "papermill": {
     "duration": 19.678644,
     "end_time": "2023-11-20T03:47:55.565688",
     "exception": false,
     "start_time": "2023-11-20T03:47:35.887044",
     "status": "completed"
    },
    "tags": []
   },
   "outputs": [
    {
     "name": "stdout",
     "output_type": "stream",
     "text": [
      "0\n"
     ]
    },
    {
     "name": "stderr",
     "output_type": "stream",
     "text": [
      "/opt/conda/lib/python3.10/site-packages/sklearn/impute/_iterative.py:785: ConvergenceWarning: [IterativeImputer] Early stopping criterion not reached.\n",
      "  warnings.warn(\n"
     ]
    }
   ],
   "source": [
    "from sklearn.experimental import enable_iterative_imputer\n",
    "from sklearn.impute import IterativeImputer\n",
    "from sklearn.ensemble import RandomForestRegressor\n",
    "from sklearn.preprocessing import LabelEncoder\n",
    "\n",
    "\n",
    "#We use \"LabelEncoder\" to turn all the categorial values (values which don't use numbers) into values which the Random Forest Regressor can understand more easily. This is very similar to doing something like pd.get_dummies()\n",
    "\n",
    "label_encoders = {}\n",
    "for column in ['Sex', 'Embarked']:\n",
    "    label_encoders[column] = LabelEncoder()\n",
    "    # We use 'astype(str)' to convert any NaN values to a string representation\n",
    "    X_train[column] = label_encoders[column].fit_transform(X_train[column].astype(str))\n",
    "\n",
    "features = ['Survived', 'Pclass', 'Sex', 'Age', 'SibSp', 'Parch', 'Fare', 'Embarked']\n",
    "# One very important thing that I will end up doing is using the \"Survived\" column of the dataset to predict the age. This is because there is a strong correleation between the survival and age. \n",
    "\n",
    "\n",
    "#This is an imputer. It is a function that can efficiently impute values in the way you want. For this scenario, I am using IterativeImputer() and the RandomForestRegressor(() to )\n",
    "imputer = IterativeImputer(RandomForestRegressor(n_estimators=10), max_iter=100, random_state=0)\n",
    "\n",
    "\n",
    "# Fit the imputer on the DataFrame with the features\n",
    "imputer.fit(X_train[features]) #When IterativeImputer is used alongside an ML model like RandomForestRegressor, calling .fit() on the IterativeImputer() object will also fit (train) the ML model\n",
    "\n",
    "\n",
    "# Perform the imputation on the Training Data. THIS WILL ACTUAL IMPUTE ANY MISSING VALUES IN EACH ROW, not only the missing values in Age.\n",
    "X_train_imputed = imputer.transform(X_train[features])\n",
    "\n",
    "\n",
    "# Convert the output back to a DataFrame\n",
    "X_train_imputed = pd.DataFrame(X_train_imputed, columns=features)\n",
    "\n",
    "# Update the original DataFrame with the imputed values. This means that the columns of the original X_train dataframe that weren't part of the features (like \"Name\" isn't apart of the features list)\n",
    "X_train[features] = X_train_imputed\n",
    "\n",
    "#print(X_train.head())\n",
    "\n",
    "print(X_train[\"Age\"].isnull().sum()) # Since this prints 0, we now know that there are 0 missing values in the age column and so the imputation was successful "
   ]
  },
  {
   "cell_type": "markdown",
   "id": "11626d80",
   "metadata": {
    "papermill": {
     "duration": 0.018937,
     "end_time": "2023-11-20T03:47:55.603583",
     "exception": false,
     "start_time": "2023-11-20T03:47:55.584646",
     "status": "completed"
    },
    "tags": []
   },
   "source": [
    "**Using IterativeRegressor() and RandomForestRegressor(), I essentially used an ML model to impute any missing values in the dataset. I wanted to clean up the age column using the most effective method and I didn't want to just find the average age and impute all those values to the missing values. I wanted to be smart since age is an incredibly important feature.**"
   ]
  },
  {
   "cell_type": "markdown",
   "id": "3ae41962",
   "metadata": {
    "papermill": {
     "duration": 0.018217,
     "end_time": "2023-11-20T03:47:55.640531",
     "exception": false,
     "start_time": "2023-11-20T03:47:55.622314",
     "status": "completed"
    },
    "tags": []
   },
   "source": [
    "**Using the ImperativeImputer(), this will actually impute all the missing values in each row. It won't only impute the missing values in the \"age\" column. BUT, since we already cleaned the data and know there are 0 missing values for all the other columns that we care about (the ones with the features we are using), the imputer will be imputing values only to the missing values of age and other columns that we don't care about, but out of all the columns we care about, it will only be affecting the age column since all the other columns we care about have 0 missing values as we checked in the code previously.**"
   ]
  },
  {
   "cell_type": "code",
   "execution_count": 16,
   "id": "2bec5c8c",
   "metadata": {
    "execution": {
     "iopub.execute_input": "2023-11-20T03:47:55.680086Z",
     "iopub.status.busy": "2023-11-20T03:47:55.678964Z",
     "iopub.status.idle": "2023-11-20T03:47:55.697946Z",
     "shell.execute_reply": "2023-11-20T03:47:55.696987Z"
    },
    "papermill": {
     "duration": 0.041225,
     "end_time": "2023-11-20T03:47:55.700331",
     "exception": false,
     "start_time": "2023-11-20T03:47:55.659106",
     "status": "completed"
    },
    "tags": []
   },
   "outputs": [
    {
     "name": "stdout",
     "output_type": "stream",
     "text": [
      "   Pclass  Sex     Fare   Age  SibSp  Parch\n",
      "0     3.0  1.0   7.2500  22.0    1.0    0.0\n",
      "1     1.0  0.0  71.2833  38.0    1.0    0.0\n",
      "2     3.0  0.0   7.9250  26.0    0.0    0.0\n",
      "3     1.0  0.0  53.1000  35.0    1.0    0.0\n",
      "4     3.0  1.0   8.0500  35.0    0.0    0.0\n",
      "314\n",
      "577\n",
      "   Pclass     Sex     Fare   Age  SibSp  Parch\n",
      "0     3.0    male   7.2500  22.0    1.0    0.0\n",
      "1     1.0  female  71.2833  38.0    1.0    0.0\n",
      "2     3.0  female   7.9250  26.0    0.0    0.0\n",
      "3     1.0  female  53.1000  35.0    1.0    0.0\n",
      "4     3.0    male   8.0500  35.0    0.0    0.0\n",
      "577\n"
     ]
    },
    {
     "name": "stderr",
     "output_type": "stream",
     "text": [
      "/tmp/ipykernel_20/1272774441.py:12: SettingWithCopyWarning: \n",
      "A value is trying to be set on a copy of a slice from a DataFrame.\n",
      "Try using .loc[row_indexer,col_indexer] = value instead\n",
      "\n",
      "See the caveats in the documentation: https://pandas.pydata.org/pandas-docs/stable/user_guide/indexing.html#returning-a-view-versus-a-copy\n",
      "  X_train['Sex'] = X_train['Sex'].map({0: 'female', 1: 'male'})\n"
     ]
    }
   ],
   "source": [
    "features = [\"Pclass\", \"Sex\", \"Fare\",\"Age\", \"SibSp\", \"Parch\"]\n",
    "\n",
    "X_train = X_train[features]\n",
    "\n",
    "print(X_train.head(5))\n",
    "\n",
    "print((X_train[\"Sex\"] == 0).sum())\n",
    "print((X_train[\"Sex\"] == 1).sum())\n",
    "\n",
    "# Since the dataset is 65% male, we can see from printing out the number of people with \"sex equal to 0\" and \"sex equal to 1\" that the LabelEncoder made Male into \"1\" and Female into \"0\". Now, let's change it back to \"Male\" and \"Female\".\n",
    "\n",
    "X_train['Sex'] = X_train['Sex'].map({0: 'female', 1: 'male'})\n",
    "\n",
    "print(X_train.head(5))\n",
    "\n",
    "print((X_train[\"Sex\"] == \"male\").sum())"
   ]
  },
  {
   "cell_type": "markdown",
   "id": "19adf22d",
   "metadata": {
    "papermill": {
     "duration": 0.018366,
     "end_time": "2023-11-20T03:47:55.737897",
     "exception": false,
     "start_time": "2023-11-20T03:47:55.719531",
     "status": "completed"
    },
    "tags": []
   },
   "source": [
    "**Here, in the code above, I changed X_train back to focus only on the features we care about. I also changed the \"Sex\" column from 0 and 1 back to Male and Female.**"
   ]
  },
  {
   "cell_type": "markdown",
   "id": "cfacd9c0",
   "metadata": {
    "papermill": {
     "duration": 0.018883,
     "end_time": "2023-11-20T03:47:55.775625",
     "exception": false,
     "start_time": "2023-11-20T03:47:55.756742",
     "status": "completed"
    },
    "tags": []
   },
   "source": [
    "# After the careful inspection of the test.csv, I see that there are also missing values in the test.csv. As a result, we have to clean up the data for test.csv as we did for train.csv"
   ]
  },
  {
   "cell_type": "markdown",
   "id": "42eaa491",
   "metadata": {
    "papermill": {
     "duration": 0.018872,
     "end_time": "2023-11-20T03:47:55.813765",
     "exception": false,
     "start_time": "2023-11-20T03:47:55.794893",
     "status": "completed"
    },
    "tags": []
   },
   "source": [
    "**Seeing which columns have missing values:**"
   ]
  },
  {
   "cell_type": "code",
   "execution_count": 17,
   "id": "4c78c7fc",
   "metadata": {
    "execution": {
     "iopub.execute_input": "2023-11-20T03:47:55.853709Z",
     "iopub.status.busy": "2023-11-20T03:47:55.852932Z",
     "iopub.status.idle": "2023-11-20T03:47:55.866829Z",
     "shell.execute_reply": "2023-11-20T03:47:55.865554Z"
    },
    "papermill": {
     "duration": 0.036002,
     "end_time": "2023-11-20T03:47:55.868906",
     "exception": false,
     "start_time": "2023-11-20T03:47:55.832904",
     "status": "completed"
    },
    "tags": []
   },
   "outputs": [
    {
     "name": "stdout",
     "output_type": "stream",
     "text": [
      "0\n",
      "0\n",
      "0\n",
      "0\n",
      "1\n",
      "86\n"
     ]
    }
   ],
   "source": [
    "test_data = pd.read_csv(\"/kaggle/input/titanic/test.csv\")\n",
    "\n",
    "features = [\"Pclass\", \"Sex\", \"Fare\",\"Age\", \"SibSp\", \"Parch\"]\n",
    "\n",
    "print(test_data[\"Pclass\"].isnull().sum()) # Since this is 0, that means there is no missing values\n",
    "\n",
    "print(test_data[\"Sex\"].isnull().sum()) # Since this is 0, that means there is no missing values\n",
    "\n",
    "print(test_data[\"SibSp\"].isnull().sum()) # Since this is 0, that means there is no missing values\n",
    "\n",
    "print(test_data[\"Parch\"].isnull().sum()) # Since this is 0, that means there is no missing values\n",
    "\n",
    "print(test_data[\"Fare\"].isnull().sum()) # Since this is 1, that means there is one missing value\n",
    "\n",
    "print(test_data[\"Age\"].isnull().sum()) # Since this is 86, that means there are 86 missing values\n"
   ]
  },
  {
   "cell_type": "markdown",
   "id": "42e82b13",
   "metadata": {
    "papermill": {
     "duration": 0.018937,
     "end_time": "2023-11-20T03:47:55.907900",
     "exception": false,
     "start_time": "2023-11-20T03:47:55.888963",
     "status": "completed"
    },
    "tags": []
   },
   "source": [
    "**From this, we can see that only \"Fare\" annd \"Age\" have missing values. Since \"Fare\" only has one missing value, it's not worth it to go to through all the work to do some advanced imputation technique to fill in missing values. So, I will just fill that in with the average fare value.**\n",
    "\n",
    "**For the \"Age\" feature, I will repeat the process of using an IterativeImputer and a RandomForestRegressor to imputate missing values**"
   ]
  },
  {
   "cell_type": "code",
   "execution_count": 18,
   "id": "9314a95f",
   "metadata": {
    "execution": {
     "iopub.execute_input": "2023-11-20T03:47:55.948567Z",
     "iopub.status.busy": "2023-11-20T03:47:55.947699Z",
     "iopub.status.idle": "2023-11-20T03:47:55.954980Z",
     "shell.execute_reply": "2023-11-20T03:47:55.953600Z"
    },
    "papermill": {
     "duration": 0.029975,
     "end_time": "2023-11-20T03:47:55.957316",
     "exception": false,
     "start_time": "2023-11-20T03:47:55.927341",
     "status": "completed"
    },
    "tags": []
   },
   "outputs": [
    {
     "name": "stdout",
     "output_type": "stream",
     "text": [
      "0\n"
     ]
    }
   ],
   "source": [
    "average_fare = test_data[\"Fare\"].mean()\n",
    "\n",
    "test_data[\"Fare\"].fillna(average_fare, inplace = True) # This replaces the single missing value in \"Fare\" with the average value Fare Value of the test data\n",
    "\n",
    "print(test_data[\"Fare\"].isnull().sum())"
   ]
  },
  {
   "cell_type": "code",
   "execution_count": 19,
   "id": "6c36d577",
   "metadata": {
    "execution": {
     "iopub.execute_input": "2023-11-20T03:47:55.997041Z",
     "iopub.status.busy": "2023-11-20T03:47:55.996593Z",
     "iopub.status.idle": "2023-11-20T03:48:08.843743Z",
     "shell.execute_reply": "2023-11-20T03:48:08.842714Z"
    },
    "papermill": {
     "duration": 12.870348,
     "end_time": "2023-11-20T03:48:08.846591",
     "exception": false,
     "start_time": "2023-11-20T03:47:55.976243",
     "status": "completed"
    },
    "tags": []
   },
   "outputs": [
    {
     "name": "stdout",
     "output_type": "stream",
     "text": [
      "0\n",
      "   PassengerId  Pclass                                          Name  Sex  \\\n",
      "0          892     3.0                              Kelly, Mr. James  1.0   \n",
      "1          893     3.0              Wilkes, Mrs. James (Ellen Needs)  0.0   \n",
      "2          894     2.0                     Myles, Mr. Thomas Francis  1.0   \n",
      "3          895     3.0                              Wirz, Mr. Albert  1.0   \n",
      "4          896     3.0  Hirvonen, Mrs. Alexander (Helga E Lindqvist)  0.0   \n",
      "\n",
      "    Age  SibSp  Parch   Ticket     Fare Cabin  Embarked  \n",
      "0  34.5    0.0    0.0   330911   7.8292   NaN       1.0  \n",
      "1  47.0    1.0    0.0   363272   7.0000   NaN       2.0  \n",
      "2  62.0    0.0    0.0   240276   9.6875   NaN       1.0  \n",
      "3  27.0    0.0    0.0   315154   8.6625   NaN       2.0  \n",
      "4  22.0    1.0    1.0  3101298  12.2875   NaN       2.0  \n"
     ]
    },
    {
     "name": "stderr",
     "output_type": "stream",
     "text": [
      "/opt/conda/lib/python3.10/site-packages/sklearn/impute/_iterative.py:785: ConvergenceWarning: [IterativeImputer] Early stopping criterion not reached.\n",
      "  warnings.warn(\n"
     ]
    }
   ],
   "source": [
    "from sklearn.experimental import enable_iterative_imputer\n",
    "from sklearn.impute import IterativeImputer\n",
    "from sklearn.ensemble import RandomForestRegressor\n",
    "from sklearn.preprocessing import LabelEncoder\n",
    "\n",
    "\n",
    "#We use \"LabelEncoder\" to turn all the categorial values (values which don't use numbers) into values which the Random Forest Regressor can understand more easily. This is very similar to doing something like pd.get_dummies()\n",
    "\n",
    "label_encoders = {}\n",
    "for column in ['Sex', 'Embarked']:\n",
    "    label_encoders[column] = LabelEncoder()\n",
    "    # We use 'astype(str)' to convert any NaN values to a string representation\n",
    "    test_data[column] = label_encoders[column].fit_transform(test_data[column].astype(str))\n",
    "\n",
    "features = ['Pclass', 'Sex', 'Age', 'SibSp', 'Parch', 'Fare', 'Embarked']\n",
    "\n",
    "\n",
    "#This is an imputer. It is a function that can efficiently impute values in the way you want. For this scenario, I am using IterativeImputer() and the RandomForestRegressor(() to )\n",
    "imputer = IterativeImputer(RandomForestRegressor(n_estimators=10), max_iter=100, random_state=0)\n",
    "\n",
    "\n",
    "# Fit the imputer on the DataFrame with the features\n",
    "imputer.fit(test_data[features]) #When IterativeImputer is used alongside an ML model like RandomForestRegressor, calling .fit() on the IterativeImputer() object will also fit (train) the ML model\n",
    "\n",
    "\n",
    "# Perform the imputation on the Test Data. THIS WILL ACTUAL IMPUTE ANY MISSING VALUES IN EACH ROW, not only the missing values in Age.\n",
    "test_data_imputed = imputer.transform(test_data[features])\n",
    "\n",
    "\n",
    "# Convert the output back to a DataFrame\n",
    "test_data_imputed = pd.DataFrame(test_data_imputed, columns=features)\n",
    "\n",
    "# Update the original DataFrame with the imputed values. This means that the columns of the original test_data dataframe that weren't part of the features (like \"Name\" isn't apart of the features list)\n",
    "test_data[features] = test_data_imputed\n",
    "\n",
    "print(test_data[\"Age\"].isnull().sum()) # Since this prints 0, we now know that there are 0 missing values in the age column and so the imputation was successful \n",
    "\n",
    "print(test_data.head())"
   ]
  },
  {
   "cell_type": "markdown",
   "id": "cbdf22ab",
   "metadata": {
    "papermill": {
     "duration": 0.019002,
     "end_time": "2023-11-20T03:48:08.885505",
     "exception": false,
     "start_time": "2023-11-20T03:48:08.866503",
     "status": "completed"
    },
    "tags": []
   },
   "source": [
    "**The code above will imputate all the missing values in the test_data**"
   ]
  },
  {
   "cell_type": "markdown",
   "id": "6eec9609",
   "metadata": {
    "papermill": {
     "duration": 0.019301,
     "end_time": "2023-11-20T03:48:08.924073",
     "exception": false,
     "start_time": "2023-11-20T03:48:08.904772",
     "status": "completed"
    },
    "tags": []
   },
   "source": [
    "# Finalize the cleaning of the data and make it so test_data only has the features we want"
   ]
  },
  {
   "cell_type": "code",
   "execution_count": 20,
   "id": "6951658f",
   "metadata": {
    "execution": {
     "iopub.execute_input": "2023-11-20T03:48:08.965564Z",
     "iopub.status.busy": "2023-11-20T03:48:08.965156Z",
     "iopub.status.idle": "2023-11-20T03:48:08.979368Z",
     "shell.execute_reply": "2023-11-20T03:48:08.978364Z"
    },
    "papermill": {
     "duration": 0.037736,
     "end_time": "2023-11-20T03:48:08.981486",
     "exception": false,
     "start_time": "2023-11-20T03:48:08.943750",
     "status": "completed"
    },
    "tags": []
   },
   "outputs": [
    {
     "name": "stdout",
     "output_type": "stream",
     "text": [
      "152\n",
      "266\n",
      "   Pclass     Sex     Fare   Age  SibSp  Parch\n",
      "0     3.0    male   7.8292  34.5    0.0    0.0\n",
      "1     3.0  female   7.0000  47.0    1.0    0.0\n",
      "2     2.0    male   9.6875  62.0    0.0    0.0\n",
      "3     3.0    male   8.6625  27.0    0.0    0.0\n",
      "4     3.0  female  12.2875  22.0    1.0    1.0\n",
      "266\n"
     ]
    }
   ],
   "source": [
    "features = [\"Pclass\", \"Sex\", \"Fare\",\"Age\", \"SibSp\", \"Parch\"]\n",
    "\n",
    "test_data = test_data[features]\n",
    "\n",
    "print((test_data[\"Sex\"] == 0).sum())\n",
    "print((test_data[\"Sex\"] == 1).sum())\n",
    "\n",
    "# Since the dataset is 65% male, we can see from printing out the number of people with \"sex equal to 0\" and \"sex equal to 1\" that the LabelEncoder made Male into \"1\" and Female into \"0\". Now, let's change it back to \"male\" and \"female\".\n",
    "\n",
    "test_data['Sex'] = test_data['Sex'].map({0: 'female', 1: 'male'})\n",
    "\n",
    "print(test_data.head(5))\n",
    "\n",
    "print((test_data[\"Sex\"] == \"male\").sum())"
   ]
  },
  {
   "cell_type": "markdown",
   "id": "299e8e1b",
   "metadata": {
    "papermill": {
     "duration": 0.019419,
     "end_time": "2023-11-20T03:48:09.020521",
     "exception": false,
     "start_time": "2023-11-20T03:48:09.001102",
     "status": "completed"
    },
    "tags": []
   },
   "source": [
    "# Now, after cleaning up the data, I can split up the data into train_validation_test "
   ]
  },
  {
   "cell_type": "code",
   "execution_count": 21,
   "id": "97ca82aa",
   "metadata": {
    "execution": {
     "iopub.execute_input": "2023-11-20T03:48:09.061198Z",
     "iopub.status.busy": "2023-11-20T03:48:09.060493Z",
     "iopub.status.idle": "2023-11-20T03:48:09.068562Z",
     "shell.execute_reply": "2023-11-20T03:48:09.067784Z"
    },
    "papermill": {
     "duration": 0.030808,
     "end_time": "2023-11-20T03:48:09.070545",
     "exception": false,
     "start_time": "2023-11-20T03:48:09.039737",
     "status": "completed"
    },
    "tags": []
   },
   "outputs": [],
   "source": [
    "from sklearn.model_selection import train_test_split\n",
    "\n",
    "Y_train = train_data[\"Survived\"]\n",
    "\n",
    "# First, split into training (60%) and a test set (40%)\n",
    "train_X, test_X, train_Y, test_Y = train_test_split(X_train, Y_train, test_size=0.4, random_state = 42)\n",
    "\n",
    "#Second, split test set into a validation (20%) and test set (20%)\n",
    "valid_X, test_X, valid_Y, test_Y= train_test_split(test_X, test_Y, test_size = 0.5, random_state = 42)"
   ]
  },
  {
   "cell_type": "markdown",
   "id": "4a03528f",
   "metadata": {
    "papermill": {
     "duration": 0.019539,
     "end_time": "2023-11-20T03:48:09.109372",
     "exception": false,
     "start_time": "2023-11-20T03:48:09.089833",
     "status": "completed"
    },
    "tags": []
   },
   "source": [
    "# Using pd.get_dummies() on all the data"
   ]
  },
  {
   "cell_type": "markdown",
   "id": "eb610696",
   "metadata": {
    "papermill": {
     "duration": 0.018787,
     "end_time": "2023-11-20T03:48:09.147404",
     "exception": false,
     "start_time": "2023-11-20T03:48:09.128617",
     "status": "completed"
    },
    "tags": []
   },
   "source": [
    "**Setting up the Test data (from Test.csv) (This is NOT the test data from the Train_validation_test split):**"
   ]
  },
  {
   "cell_type": "code",
   "execution_count": 22,
   "id": "96998e5e",
   "metadata": {
    "execution": {
     "iopub.execute_input": "2023-11-20T03:48:09.188291Z",
     "iopub.status.busy": "2023-11-20T03:48:09.187602Z",
     "iopub.status.idle": "2023-11-20T03:48:09.201935Z",
     "shell.execute_reply": "2023-11-20T03:48:09.200912Z"
    },
    "papermill": {
     "duration": 0.037909,
     "end_time": "2023-11-20T03:48:09.204533",
     "exception": false,
     "start_time": "2023-11-20T03:48:09.166624",
     "status": "completed"
    },
    "tags": []
   },
   "outputs": [
    {
     "name": "stdout",
     "output_type": "stream",
     "text": [
      "   Pclass     Fare   Age  SibSp  Parch  Sex_female  Sex_male\n",
      "0     3.0   7.8292  34.5    0.0    0.0       False      True\n",
      "1     3.0   7.0000  47.0    1.0    0.0        True     False\n",
      "2     2.0   9.6875  62.0    0.0    0.0       False      True\n",
      "3     3.0   8.6625  27.0    0.0    0.0       False      True\n",
      "4     3.0  12.2875  22.0    1.0    1.0        True     False\n"
     ]
    }
   ],
   "source": [
    "test_data = test_data #the \"test_data\" variable here is after we cleaned up the test_data \n",
    "\n",
    "features = [\"Pclass\", \"Sex\", \"Fare\",\"Age\", \"SibSp\", \"Parch\"]\n",
    "\n",
    "test_data = test_data[features]\n",
    "\n",
    "test_data = pd.get_dummies(test_data)\n",
    "print(test_data.head())"
   ]
  },
  {
   "cell_type": "markdown",
   "id": "cdc25717",
   "metadata": {
    "papermill": {
     "duration": 0.018906,
     "end_time": "2023-11-20T03:48:09.243069",
     "exception": false,
     "start_time": "2023-11-20T03:48:09.224163",
     "status": "completed"
    },
    "tags": []
   },
   "source": [
    "**Setting up the Train data and Validation data and the Test data from the train_validation_test split:**"
   ]
  },
  {
   "cell_type": "code",
   "execution_count": 23,
   "id": "7af2fe1a",
   "metadata": {
    "execution": {
     "iopub.execute_input": "2023-11-20T03:48:09.283516Z",
     "iopub.status.busy": "2023-11-20T03:48:09.283136Z",
     "iopub.status.idle": "2023-11-20T03:48:09.306467Z",
     "shell.execute_reply": "2023-11-20T03:48:09.305238Z"
    },
    "papermill": {
     "duration": 0.046664,
     "end_time": "2023-11-20T03:48:09.308862",
     "exception": false,
     "start_time": "2023-11-20T03:48:09.262198",
     "status": "completed"
    },
    "tags": []
   },
   "outputs": [
    {
     "name": "stdout",
     "output_type": "stream",
     "text": [
      "     Pclass     Fare   Age  SibSp  Parch  Sex_female  Sex_male\n",
      "570     2.0  10.5000  62.0    0.0    0.0       False      True\n",
      "787     3.0  29.1250   8.0    4.0    1.0       False      True\n",
      "74      3.0  56.4958  32.0    0.0    0.0       False      True\n",
      "113     3.0   9.8250  20.0    1.0    0.0        True     False\n",
      "635     2.0  13.0000  28.0    0.0    0.0        True     False\n",
      "     Pclass     Fare        Age  SibSp  Parch  Sex_female  Sex_male\n",
      "849     1.0  89.1042  32.033333    1.0    0.0        True     False\n",
      "331     1.0  28.5000  45.500000    0.0    0.0       False      True\n",
      "260     3.0   7.7500  46.393095    0.0    0.0       False      True\n",
      "316     2.0  26.0000  24.000000    1.0    0.0        True     False\n",
      "292     2.0  12.8750  36.000000    0.0    0.0       False      True\n",
      "     Pclass     Fare        Age  SibSp  Parch  Sex_female  Sex_male\n",
      "424     3.0  20.2125  18.000000    1.0    1.0       False      True\n",
      "837     3.0   8.0500  30.777565    0.0    0.0       False      True\n",
      "525     3.0   7.7500  40.500000    0.0    0.0       False      True\n",
      "328     3.0  20.5250  31.000000    1.0    1.0        True     False\n",
      "70      2.0  10.5000  32.000000    0.0    0.0       False      True\n"
     ]
    }
   ],
   "source": [
    "train_X = pd.get_dummies(train_X)\n",
    "print(train_X.head())\n",
    "\n",
    "valid_X = pd.get_dummies(valid_X)\n",
    "print(valid_X.head())\n",
    "\n",
    "test_X = pd.get_dummies(test_X)\n",
    "print(test_X.head())"
   ]
  },
  {
   "cell_type": "markdown",
   "id": "1bef6282",
   "metadata": {
    "papermill": {
     "duration": 0.019306,
     "end_time": "2023-11-20T03:48:09.347613",
     "exception": false,
     "start_time": "2023-11-20T03:48:09.328307",
     "status": "completed"
    },
    "tags": []
   },
   "source": [
    "# Making the model, training it using train_X and changing the model based on valid_X"
   ]
  },
  {
   "cell_type": "code",
   "execution_count": 24,
   "id": "b2b65f51",
   "metadata": {
    "execution": {
     "iopub.execute_input": "2023-11-20T03:48:09.389818Z",
     "iopub.status.busy": "2023-11-20T03:48:09.388750Z",
     "iopub.status.idle": "2023-11-20T03:48:09.393501Z",
     "shell.execute_reply": "2023-11-20T03:48:09.392730Z"
    },
    "papermill": {
     "duration": 0.027247,
     "end_time": "2023-11-20T03:48:09.395403",
     "exception": false,
     "start_time": "2023-11-20T03:48:09.368156",
     "status": "completed"
    },
    "tags": []
   },
   "outputs": [],
   "source": [
    "from sklearn.neural_network import MLPClassifier\n",
    "from sklearn.metrics import accuracy_score\n",
    "\n",
    "# Commented out the code so that the model won't run everytime\n",
    "\n",
    "# model = MLPClassifier(hidden_layer_sizes = (20, 11), activation = \"relu\", solver = \"lbfgs\", max_iter = 1000, random_state = 42)\n",
    "\n",
    "# model.fit(train_X, train_Y)\n",
    "\n",
    "# y_pred = model.predict(valid_X)\n",
    "\n",
    "# print(f\"Accuracy: {accuracy_score(valid_Y, y_pred)}\")"
   ]
  },
  {
   "cell_type": "markdown",
   "id": "5bbf024b",
   "metadata": {
    "papermill": {
     "duration": 0.019321,
     "end_time": "2023-11-20T03:48:09.434992",
     "exception": false,
     "start_time": "2023-11-20T03:48:09.415671",
     "status": "completed"
    },
    "tags": []
   },
   "source": [
    "**From the code above, you can see that I am using the validation set to test out the code**"
   ]
  },
  {
   "cell_type": "code",
   "execution_count": 25,
   "id": "b0c41c4c",
   "metadata": {
    "execution": {
     "iopub.execute_input": "2023-11-20T03:48:09.478163Z",
     "iopub.status.busy": "2023-11-20T03:48:09.477087Z",
     "iopub.status.idle": "2023-11-20T03:48:09.481310Z",
     "shell.execute_reply": "2023-11-20T03:48:09.480446Z"
    },
    "papermill": {
     "duration": 0.027416,
     "end_time": "2023-11-20T03:48:09.483327",
     "exception": false,
     "start_time": "2023-11-20T03:48:09.455911",
     "status": "completed"
    },
    "tags": []
   },
   "outputs": [],
   "source": [
    "# Commented out the code so that the model won't run everytime\n",
    "\n",
    "# y_pred = model.predict(test_X)\n",
    "\n",
    "# print(f\"Accuracy: {accuracy_score(test_Y, y_pred)}\")"
   ]
  },
  {
   "cell_type": "markdown",
   "id": "954aa38e",
   "metadata": {
    "papermill": {
     "duration": 0.019226,
     "end_time": "2023-11-20T03:48:09.523826",
     "exception": false,
     "start_time": "2023-11-20T03:48:09.504600",
     "status": "completed"
    },
    "tags": []
   },
   "source": [
    "# Using GridSearchCV to find the best parameters for my MLPClassifier Model"
   ]
  },
  {
   "cell_type": "markdown",
   "id": "575d90da",
   "metadata": {
    "papermill": {
     "duration": 0.019067,
     "end_time": "2023-11-20T03:48:09.562785",
     "exception": false,
     "start_time": "2023-11-20T03:48:09.543718",
     "status": "completed"
    },
    "tags": []
   },
   "source": [
    "**The \"parameter space\" are all the different components and possible values which I want to try for my model**"
   ]
  },
  {
   "cell_type": "code",
   "execution_count": 26,
   "id": "6cee334c",
   "metadata": {
    "execution": {
     "iopub.execute_input": "2023-11-20T03:48:09.604042Z",
     "iopub.status.busy": "2023-11-20T03:48:09.602983Z",
     "iopub.status.idle": "2023-11-20T03:48:09.611088Z",
     "shell.execute_reply": "2023-11-20T03:48:09.610328Z"
    },
    "papermill": {
     "duration": 0.030769,
     "end_time": "2023-11-20T03:48:09.613114",
     "exception": false,
     "start_time": "2023-11-20T03:48:09.582345",
     "status": "completed"
    },
    "tags": []
   },
   "outputs": [],
   "source": [
    "# %%capture --no-stderr\n",
    "\n",
    "# # Code that causes warnings\n",
    "# import warnings\n",
    "# from sklearn.exceptions import ConvergenceWarning\n",
    "\n",
    "# # Suppress ConvergenceWarning\n",
    "# warnings.filterwarnings(\"ignore\", category=ConvergenceWarning)\n",
    "# warnings.filterwarnings('ignore')\n",
    "\n",
    "from sklearn.model_selection import GridSearchCV\n",
    "from sklearn.neural_network import MLPClassifier\n",
    "\n",
    "training_X = pd.concat([train_X, valid_X, test_X], ignore_index=True)\n",
    "training_Y = pd.concat([train_Y, valid_Y, test_Y], ignore_index=True)\n",
    "\n",
    "possible_hidden_layers = []\n",
    "\n",
    "for i in range(8,16):\n",
    "    for j in range(8,16):\n",
    "        possible_hidden_layers.append((i, j))\n",
    "\n",
    "parameter_space = {\n",
    "    'hidden_layer_sizes': possible_hidden_layers,\n",
    "    'activation': ['tanh', 'relu'],\n",
    "    'solver': ['sgd', 'adam', \"lbfgs\"],\n",
    "    'alpha': [0.0001, 0.05],\n",
    "    'learning_rate': ['constant','adaptive'],\n",
    "}\n",
    "\n",
    "# mlp = MLPClassifier(max_iter=1000, random_state = 42)\n",
    "\n",
    "# clf = GridSearchCV(mlp, parameter_space, n_jobs=-1, cv=3)\n",
    "\n",
    "# clf.fit(training_X, training_Y)\n",
    "\n",
    "# print('Best parameters found:\\n', clf.best_params_)\n",
    "\n",
    "# print('Best score (CV mean):', clf.best_score_)\n",
    "\n",
    "# print(\"Done\")\n",
    "\n"
   ]
  },
  {
   "cell_type": "markdown",
   "id": "c35a1823",
   "metadata": {
    "papermill": {
     "duration": 0.018911,
     "end_time": "2023-11-20T03:48:09.651932",
     "exception": false,
     "start_time": "2023-11-20T03:48:09.633021",
     "status": "completed"
    },
    "tags": []
   },
   "source": [
    "# Now that I found the best hyperparameters, I can finalize my model"
   ]
  },
  {
   "cell_type": "markdown",
   "id": "83c20f4f",
   "metadata": {
    "papermill": {
     "duration": 0.019109,
     "end_time": "2023-11-20T03:48:09.690205",
     "exception": false,
     "start_time": "2023-11-20T03:48:09.671096",
     "status": "completed"
    },
    "tags": []
   },
   "source": [
    "**Test using validation set:**"
   ]
  },
  {
   "cell_type": "code",
   "execution_count": 27,
   "id": "29b6f6af",
   "metadata": {
    "execution": {
     "iopub.execute_input": "2023-11-20T03:48:09.731443Z",
     "iopub.status.busy": "2023-11-20T03:48:09.730746Z",
     "iopub.status.idle": "2023-11-20T03:48:09.735329Z",
     "shell.execute_reply": "2023-11-20T03:48:09.734609Z"
    },
    "papermill": {
     "duration": 0.027686,
     "end_time": "2023-11-20T03:48:09.737505",
     "exception": false,
     "start_time": "2023-11-20T03:48:09.709819",
     "status": "completed"
    },
    "tags": []
   },
   "outputs": [],
   "source": [
    "# Best parameters: {'activation': 'tanh', 'alpha': 0.05, 'hidden_layer_sizes': (13, 15), 'learning_rate': 'constant', 'solver': 'lbfgs'}\n",
    "# Best score (CV mean): 0.8282828282828283\n",
    "\n",
    "\n",
    "from sklearn.neural_network import MLPClassifier\n",
    "from sklearn.metrics import accuracy_score\n",
    "\n",
    "# Commented out the code so that the model won't run everytime\n",
    "\n",
    "# model = MLPClassifier(activation = \"tanh\", alpha = 0.05, hidden_layer_sizes = (13, 15), learning_rate = \"constant\", solver = \"lbfgs\", max_iter=5000, random_state = 42)\n",
    "\n",
    "# #model = MLPClassifier(activation = \"relu\", hidden_layer_sizes = (20, 11), solver = \"lbfgs\",  max_iter=2000, random_state = 42)\n",
    "\n",
    "# model.fit(train_X, train_Y)\n",
    "\n",
    "# y_pred = model.predict(valid_X)\n",
    "\n",
    "# print(f\"Accuracy: {accuracy_score(valid_Y, y_pred)}\")"
   ]
  },
  {
   "cell_type": "markdown",
   "id": "c5f414f9",
   "metadata": {
    "papermill": {
     "duration": 0.019712,
     "end_time": "2023-11-20T03:48:09.777507",
     "exception": false,
     "start_time": "2023-11-20T03:48:09.757795",
     "status": "completed"
    },
    "tags": []
   },
   "source": [
    "**Test using test set (from Train-validation-test split)**"
   ]
  },
  {
   "cell_type": "code",
   "execution_count": 28,
   "id": "5903d7da",
   "metadata": {
    "execution": {
     "iopub.execute_input": "2023-11-20T03:48:09.822053Z",
     "iopub.status.busy": "2023-11-20T03:48:09.821338Z",
     "iopub.status.idle": "2023-11-20T03:48:09.825727Z",
     "shell.execute_reply": "2023-11-20T03:48:09.824689Z"
    },
    "papermill": {
     "duration": 0.028099,
     "end_time": "2023-11-20T03:48:09.828027",
     "exception": false,
     "start_time": "2023-11-20T03:48:09.799928",
     "status": "completed"
    },
    "tags": []
   },
   "outputs": [],
   "source": [
    "# Commented out the code so that the model won't run everytime\n",
    "\n",
    "# y_pred = model.predict(test_X)\n",
    "\n",
    "# print(f\"Accuracy: {accuracy_score(test_Y, y_pred)}\")"
   ]
  },
  {
   "cell_type": "markdown",
   "id": "2a16b789",
   "metadata": {
    "papermill": {
     "duration": 0.019356,
     "end_time": "2023-11-20T03:48:09.867123",
     "exception": false,
     "start_time": "2023-11-20T03:48:09.847767",
     "status": "completed"
    },
    "tags": []
   },
   "source": [
    "# Submitting Model 3"
   ]
  },
  {
   "cell_type": "code",
   "execution_count": 29,
   "id": "a7bc7359",
   "metadata": {
    "execution": {
     "iopub.execute_input": "2023-11-20T03:48:09.908751Z",
     "iopub.status.busy": "2023-11-20T03:48:09.908322Z",
     "iopub.status.idle": "2023-11-20T03:48:09.912760Z",
     "shell.execute_reply": "2023-11-20T03:48:09.911922Z"
    },
    "papermill": {
     "duration": 0.027767,
     "end_time": "2023-11-20T03:48:09.914679",
     "exception": false,
     "start_time": "2023-11-20T03:48:09.886912",
     "status": "completed"
    },
    "tags": []
   },
   "outputs": [],
   "source": [
    "# Commented out the code so that the model won't run everytime\n",
    "\n",
    "# full_X = pd.get_dummies(X_train)\n",
    "\n",
    "# full_Y = Y_train\n",
    "\n",
    "# #We end up using the WHOLE training dataset (all of train.csv) to fit (train) our model right before submission since this gives our model the most amount of data to train on\n",
    "# model.fit(full_X, full_Y)\n",
    "\n",
    "\n",
    "# predictions3 = model.predict(test_data)"
   ]
  },
  {
   "cell_type": "code",
   "execution_count": 30,
   "id": "f9da41e6",
   "metadata": {
    "execution": {
     "iopub.execute_input": "2023-11-20T03:48:09.956390Z",
     "iopub.status.busy": "2023-11-20T03:48:09.955996Z",
     "iopub.status.idle": "2023-11-20T03:48:09.966868Z",
     "shell.execute_reply": "2023-11-20T03:48:09.966053Z"
    },
    "papermill": {
     "duration": 0.034636,
     "end_time": "2023-11-20T03:48:09.969114",
     "exception": false,
     "start_time": "2023-11-20T03:48:09.934478",
     "status": "completed"
    },
    "tags": []
   },
   "outputs": [],
   "source": [
    "original_test = pd.read_csv(\"/kaggle/input/titanic/test.csv\")\n",
    "\n",
    "pass_id = original_test['PassengerId']\n",
    "\n",
    "# original_test = original_test.drop('PassengerId', axis=1)\n",
    "# original_test = pd.get_dummies(original_test[features])\n",
    "\n",
    "test_data[\"PassengerId\"] = pass_id\n",
    "\n",
    "# Commented out the code so that the model won't run everytime\n",
    "\n",
    "# predictions3 = predictions3.astype(int)\n",
    "\n",
    "#print(predictions3)\n",
    "\n",
    "# output = pd.DataFrame({'PassengerId': test_data.PassengerId, 'Survived': predictions3})\n",
    "# output.to_csv('submission.csv', index=False)\n",
    "# print(\"Your submission was successfully saved!\")\n",
    "\n",
    "# test_data = test_data.drop(\"PassengerId\", axis = 1) # WE make sure to drop the PassengerId column since we are continuing to use the test_data variable in future tests and we don't want PassengerId to be apart of it until we submit the model again"
   ]
  },
  {
   "cell_type": "markdown",
   "id": "7f5e5a6a",
   "metadata": {
    "papermill": {
     "duration": 0.018993,
     "end_time": "2023-11-20T03:48:10.007704",
     "exception": false,
     "start_time": "2023-11-20T03:48:09.988711",
     "status": "completed"
    },
    "tags": []
   },
   "source": [
    "# Changing the model solver from \"lbfgs\" to \"adam\""
   ]
  },
  {
   "cell_type": "code",
   "execution_count": 31,
   "id": "7a5ac03a",
   "metadata": {
    "execution": {
     "iopub.execute_input": "2023-11-20T03:48:10.048109Z",
     "iopub.status.busy": "2023-11-20T03:48:10.047695Z",
     "iopub.status.idle": "2023-11-20T03:48:10.052695Z",
     "shell.execute_reply": "2023-11-20T03:48:10.051683Z"
    },
    "papermill": {
     "duration": 0.027943,
     "end_time": "2023-11-20T03:48:10.054969",
     "exception": false,
     "start_time": "2023-11-20T03:48:10.027026",
     "status": "completed"
    },
    "tags": []
   },
   "outputs": [],
   "source": [
    "model = MLPClassifier(activation = \"tanh\", alpha = 0.05, hidden_layer_sizes = (13, 15), learning_rate = \"constant\", solver = \"adam\", max_iter=5000, random_state = 42)\n",
    "# Try changing it back to lbfgs after normalization since maybe it converges faster now after normalization\n",
    "#Also, with normalization, you can increase the learning_rate with less risk of divergence which is good\n"
   ]
  },
  {
   "cell_type": "markdown",
   "id": "d17b354b",
   "metadata": {
    "papermill": {
     "duration": 0.019083,
     "end_time": "2023-11-20T03:48:10.094006",
     "exception": false,
     "start_time": "2023-11-20T03:48:10.074923",
     "status": "completed"
    },
    "tags": []
   },
   "source": [
    "**I made this change because it said that lbfgs was not converging so I tried changing to a differnet solver and adam seemed to converge. But also, I am going to normalize my data which should make the training of my data converge faster. So, I might also go back to lbfgs to see if it converges now**"
   ]
  },
  {
   "cell_type": "markdown",
   "id": "e8e94cee",
   "metadata": {
    "papermill": {
     "duration": 0.019022,
     "end_time": "2023-11-20T03:48:10.132667",
     "exception": false,
     "start_time": "2023-11-20T03:48:10.113645",
     "status": "completed"
    },
    "tags": []
   },
   "source": [
    "# Feature Engineering: Putting more weight onto specific features (like Gender and Age)"
   ]
  },
  {
   "cell_type": "markdown",
   "id": "420401c6",
   "metadata": {
    "papermill": {
     "duration": 0.018941,
     "end_time": "2023-11-20T03:48:10.171009",
     "exception": false,
     "start_time": "2023-11-20T03:48:10.152068",
     "status": "completed"
    },
    "tags": []
   },
   "source": [
    "**We know from history that Women and Children were more likely to survive so it makes more sense to put more weight into those features. In other words, we should penalize a person more if they are not a Women or Child and therefore make it less likely for them to survive**"
   ]
  },
  {
   "cell_type": "code",
   "execution_count": 32,
   "id": "05f84241",
   "metadata": {
    "execution": {
     "iopub.execute_input": "2023-11-20T03:48:10.211011Z",
     "iopub.status.busy": "2023-11-20T03:48:10.210583Z",
     "iopub.status.idle": "2023-11-20T03:48:10.255199Z",
     "shell.execute_reply": "2023-11-20T03:48:10.254038Z"
    },
    "papermill": {
     "duration": 0.067225,
     "end_time": "2023-11-20T03:48:10.257436",
     "exception": false,
     "start_time": "2023-11-20T03:48:10.190211",
     "status": "completed"
    },
    "tags": []
   },
   "outputs": [
    {
     "name": "stdout",
     "output_type": "stream",
     "text": [
      "     Pclass      Fare   Age  SibSp  Parch  Sex_female  Sex_male\n",
      "570     2.0   10.5000  62.0    0.0    0.0       False      True\n",
      "787     3.0   29.1250   8.0    4.0    1.0       False      True\n",
      "74      3.0   56.4958  32.0    0.0    0.0       False      True\n",
      "113     3.0    9.8250  20.0    1.0    0.0        True     False\n",
      "635     2.0   13.0000  28.0    0.0    0.0        True     False\n",
      "..      ...       ...   ...    ...    ...         ...       ...\n",
      "106     3.0    7.6500  21.0    0.0    0.0        True     False\n",
      "270     1.0   31.0000  53.3    0.0    0.0       False      True\n",
      "860     3.0   14.1083  41.0    2.0    0.0       False      True\n",
      "435     1.0  120.0000  14.0    1.0    2.0        True     False\n",
      "102     1.0   77.2875  21.0    0.0    1.0       False      True\n",
      "\n",
      "[534 rows x 7 columns]\n",
      "     Pclass      Fare   Age  SibSp  Parch  Sex_female  Sex_male  \\\n",
      "570     2.0   10.5000  62.0    0.0    0.0       False      True   \n",
      "787     3.0   29.1250   8.0    4.0    1.0       False      True   \n",
      "74      3.0   56.4958  32.0    0.0    0.0       False      True   \n",
      "113     3.0    9.8250  20.0    1.0    0.0        True     False   \n",
      "635     2.0   13.0000  28.0    0.0    0.0        True     False   \n",
      "..      ...       ...   ...    ...    ...         ...       ...   \n",
      "106     3.0    7.6500  21.0    0.0    0.0        True     False   \n",
      "270     1.0   31.0000  53.3    0.0    0.0       False      True   \n",
      "860     3.0   14.1083  41.0    2.0    0.0       False      True   \n",
      "435     1.0  120.0000  14.0    1.0    2.0        True     False   \n",
      "102     1.0   77.2875  21.0    0.0    1.0       False      True   \n",
      "\n",
      "     FemaleFirstClass  ChildFirstClass  IsChild  FamilySize  IsAlone  \n",
      "570                 0                0        0         1.0        1  \n",
      "787                 0                0        1         6.0        0  \n",
      "74                  0                0        0         1.0        1  \n",
      "113                 0                0        0         2.0        0  \n",
      "635                 0                0        0         1.0        1  \n",
      "..                ...              ...      ...         ...      ...  \n",
      "106                 0                0        0         1.0        1  \n",
      "270                 0                0        0         1.0        1  \n",
      "860                 0                0        0         3.0        0  \n",
      "435                 1                1        1         4.0        0  \n",
      "102                 0                0        0         2.0        0  \n",
      "\n",
      "[534 rows x 12 columns]\n"
     ]
    }
   ],
   "source": [
    "print(train_X)\n",
    "\n",
    "train_X['FemaleFirstClass'] = ((train_X['Sex_female'] == True) & (train_X['Pclass'] == 1)).astype(int)\n",
    "train_X['ChildFirstClass'] = ((train_X['Age'] < 18) & (train_X['Pclass'] == 1)).astype(int) \n",
    "\n",
    "\n",
    "valid_X['FemaleFirstClass'] = ((valid_X['Sex_female'] == True) & (valid_X['Pclass'] == 1)).astype(int)\n",
    "valid_X['ChildFirstClass'] = ((valid_X['Age'] < 18) & (valid_X['Pclass'] == 1)).astype(int) \n",
    "\n",
    "\n",
    "test_X['FemaleFirstClass'] = ((test_X['Sex_female'] == True) & (test_X['Pclass'] == 1)).astype(int)\n",
    "test_X['ChildFirstClass'] = ((test_X['Age'] < 18) & (test_X['Pclass'] == 1)).astype(int) \n",
    "\n",
    "\n",
    "test_data['FemaleFirstClass'] = ((test_data['Sex_female'] == True) & (test_data['Pclass'] == 1)).astype(int)\n",
    "test_data['ChildFirstClass'] = ((test_data['Age'] < 18) & (test_data['Pclass'] == 1)).astype(int) \n",
    "\n",
    "\n",
    "# Bin 'Age' into categories\n",
    "train_X['IsChild'] = (train_X['Age'] < 18).astype(int)\n",
    "valid_X['IsChild'] = (valid_X['Age'] < 18).astype(int)\n",
    "test_X['IsChild'] = (test_X['Age'] < 18).astype(int)\n",
    "test_data['IsChild'] = (test_data['Age'] < 18).astype(int)\n",
    "\n",
    "\n",
    "# Create FamilySize and IsAlone\n",
    "train_X['FamilySize'] = train_X['SibSp'] + train_X['Parch'] + 1\n",
    "valid_X['FamilySize'] = valid_X['SibSp'] + valid_X['Parch'] + 1\n",
    "test_X['FamilySize'] = test_X['SibSp'] + test_X['Parch'] + 1\n",
    "test_data['FamilySize'] = test_data['SibSp'] + test_data['Parch'] + 1\n",
    "\n",
    "\n",
    "train_X['IsAlone'] = (train_X['FamilySize'] == 1).astype(int)\n",
    "valid_X['IsAlone'] = (valid_X['FamilySize'] == 1).astype(int)\n",
    "test_X['IsAlone'] = (test_X['FamilySize'] == 1).astype(int)\n",
    "test_data['IsAlone'] = (test_data['FamilySize'] == 1).astype(int)\n",
    "\n",
    "\n",
    "print(train_X)"
   ]
  },
  {
   "cell_type": "markdown",
   "id": "6f139565",
   "metadata": {
    "papermill": {
     "duration": 0.019301,
     "end_time": "2023-11-20T03:48:10.296556",
     "exception": false,
     "start_time": "2023-11-20T03:48:10.277255",
     "status": "completed"
    },
    "tags": []
   },
   "source": [
    "# Normalizing all the data"
   ]
  },
  {
   "cell_type": "markdown",
   "id": "e3d99340",
   "metadata": {
    "papermill": {
     "duration": 0.019643,
     "end_time": "2023-11-20T03:48:10.335755",
     "exception": false,
     "start_time": "2023-11-20T03:48:10.316112",
     "status": "completed"
    },
    "tags": []
   },
   "source": [
    "**Creating the Normalizing Scaler**"
   ]
  },
  {
   "cell_type": "code",
   "execution_count": 33,
   "id": "54c73c97",
   "metadata": {
    "execution": {
     "iopub.execute_input": "2023-11-20T03:48:10.378033Z",
     "iopub.status.busy": "2023-11-20T03:48:10.377354Z",
     "iopub.status.idle": "2023-11-20T03:48:10.395420Z",
     "shell.execute_reply": "2023-11-20T03:48:10.394165Z"
    },
    "papermill": {
     "duration": 0.04208,
     "end_time": "2023-11-20T03:48:10.397986",
     "exception": false,
     "start_time": "2023-11-20T03:48:10.355906",
     "status": "completed"
    },
    "tags": []
   },
   "outputs": [
    {
     "name": "stdout",
     "output_type": "stream",
     "text": [
      "     Pclass      Fare   Age  SibSp  Parch  Sex_female  Sex_male  \\\n",
      "570     2.0   10.5000  62.0    0.0    0.0       False      True   \n",
      "787     3.0   29.1250   8.0    4.0    1.0       False      True   \n",
      "74      3.0   56.4958  32.0    0.0    0.0       False      True   \n",
      "113     3.0    9.8250  20.0    1.0    0.0        True     False   \n",
      "635     2.0   13.0000  28.0    0.0    0.0        True     False   \n",
      "..      ...       ...   ...    ...    ...         ...       ...   \n",
      "106     3.0    7.6500  21.0    0.0    0.0        True     False   \n",
      "270     1.0   31.0000  53.3    0.0    0.0       False      True   \n",
      "860     3.0   14.1083  41.0    2.0    0.0       False      True   \n",
      "435     1.0  120.0000  14.0    1.0    2.0        True     False   \n",
      "102     1.0   77.2875  21.0    0.0    1.0       False      True   \n",
      "\n",
      "     FemaleFirstClass  ChildFirstClass  IsChild  FamilySize  IsAlone  \n",
      "570                 0                0        0         1.0        1  \n",
      "787                 0                0        1         6.0        0  \n",
      "74                  0                0        0         1.0        1  \n",
      "113                 0                0        0         2.0        0  \n",
      "635                 0                0        0         1.0        1  \n",
      "..                ...              ...      ...         ...      ...  \n",
      "106                 0                0        0         1.0        1  \n",
      "270                 0                0        0         1.0        1  \n",
      "860                 0                0        0         3.0        0  \n",
      "435                 1                1        1         4.0        0  \n",
      "102                 0                0        0         2.0        0  \n",
      "\n",
      "[534 rows x 12 columns]\n"
     ]
    }
   ],
   "source": [
    "from sklearn.preprocessing import MinMaxScaler\n",
    "\n",
    "# Initialize the MinMaxScaler\n",
    "scaler = MinMaxScaler()\n",
    "\n",
    "# Select columns you want to normalize\n",
    "columns_to_normalize = [\"Pclass\", \"Fare\",\"Age\", \"SibSp\"]\n",
    "\n",
    "scaler.fit(train_X[columns_to_normalize]) #it is important to fit the scaler on the training data (from the train-validation-test split) only\n",
    "\n",
    "print(train_X)"
   ]
  },
  {
   "cell_type": "markdown",
   "id": "ea5e0132",
   "metadata": {
    "papermill": {
     "duration": 0.020494,
     "end_time": "2023-11-20T03:48:10.439093",
     "exception": false,
     "start_time": "2023-11-20T03:48:10.418599",
     "status": "completed"
    },
    "tags": []
   },
   "source": [
    "**It is very important to only fit the scaler on the training data from the train-validation-test split and not the training data from the whole train.csv since the whole training data includes data from the validation and test split and fitting on that will cause the testing (using validation and test) of the model to be overly optimistic. This is called data leakage.**\n",
    "\n",
    "**Also, it's important that we do not fit the scaler multiple times since that would cause inconsistant fitting throughout the data. It should only be fitted once and then applied to all the different datasets.**\n",
    "\n",
    "**However,before I submit Model 4, I should re-fit the normalization scaler on the entire training data since I will be running my model on the entire training data**"
   ]
  },
  {
   "cell_type": "markdown",
   "id": "875c90cd",
   "metadata": {
    "papermill": {
     "duration": 0.020139,
     "end_time": "2023-11-20T03:48:10.479322",
     "exception": false,
     "start_time": "2023-11-20T03:48:10.459183",
     "status": "completed"
    },
    "tags": []
   },
   "source": [
    "**Normalizing the test data (the one from test.csv)**"
   ]
  },
  {
   "cell_type": "code",
   "execution_count": 34,
   "id": "2f4ba3a8",
   "metadata": {
    "execution": {
     "iopub.execute_input": "2023-11-20T03:48:10.521068Z",
     "iopub.status.busy": "2023-11-20T03:48:10.520261Z",
     "iopub.status.idle": "2023-11-20T03:48:10.528746Z",
     "shell.execute_reply": "2023-11-20T03:48:10.527880Z"
    },
    "papermill": {
     "duration": 0.032196,
     "end_time": "2023-11-20T03:48:10.531013",
     "exception": false,
     "start_time": "2023-11-20T03:48:10.498817",
     "status": "completed"
    },
    "tags": []
   },
   "outputs": [],
   "source": [
    "test_data = test_data #the \"test_data\" variable here is after we cleaned up the test_data \n",
    "\n",
    "#print(test_data)\n",
    "\n",
    "# Fit the scaler on the data and then transform it\n",
    "test_data[columns_to_normalize] = scaler.transform(test_data[columns_to_normalize])\n",
    "\n",
    "#print(test_data)"
   ]
  },
  {
   "cell_type": "markdown",
   "id": "a4800427",
   "metadata": {
    "papermill": {
     "duration": 0.019773,
     "end_time": "2023-11-20T03:48:10.570335",
     "exception": false,
     "start_time": "2023-11-20T03:48:10.550562",
     "status": "completed"
    },
    "tags": []
   },
   "source": [
    "**Normalizing the train, validation, and test data**"
   ]
  },
  {
   "cell_type": "code",
   "execution_count": 35,
   "id": "a23d264d",
   "metadata": {
    "execution": {
     "iopub.execute_input": "2023-11-20T03:48:10.613111Z",
     "iopub.status.busy": "2023-11-20T03:48:10.612679Z",
     "iopub.status.idle": "2023-11-20T03:48:10.641693Z",
     "shell.execute_reply": "2023-11-20T03:48:10.640622Z"
    },
    "papermill": {
     "duration": 0.053044,
     "end_time": "2023-11-20T03:48:10.644355",
     "exception": false,
     "start_time": "2023-11-20T03:48:10.591311",
     "status": "completed"
    },
    "tags": []
   },
   "outputs": [
    {
     "name": "stdout",
     "output_type": "stream",
     "text": [
      "     Pclass      Fare       Age  SibSp  Parch  Sex_female  Sex_male  \\\n",
      "570     0.5  0.020495  0.773813  0.000    0.0       False      True   \n",
      "787     1.0  0.056848  0.095250  0.500    1.0       False      True   \n",
      "74      1.0  0.110272  0.396833  0.000    0.0       False      True   \n",
      "113     1.0  0.019177  0.246042  0.125    0.0        True     False   \n",
      "635     0.5  0.025374  0.346569  0.000    0.0        True     False   \n",
      "\n",
      "     FemaleFirstClass  ChildFirstClass  IsChild  FamilySize  IsAlone  \n",
      "570                 0                0        0         1.0        1  \n",
      "787                 0                0        1         6.0        0  \n",
      "74                  0                0        0         1.0        1  \n",
      "113                 0                0        0         2.0        0  \n",
      "635                 0                0        0         1.0        1  \n",
      "     Pclass      Fare       Age  SibSp  Parch  Sex_female  Sex_male  \\\n",
      "849     0.0  0.173920  0.397252  0.125    0.0        True     False   \n",
      "331     0.0  0.055628  0.566474  0.000    0.0       False      True   \n",
      "260     1.0  0.015127  0.577697  0.000    0.0       False      True   \n",
      "316     0.5  0.050749  0.296306  0.125    0.0        True     False   \n",
      "292     0.5  0.025130  0.447097  0.000    0.0       False      True   \n",
      "\n",
      "     FemaleFirstClass  ChildFirstClass  IsChild  FamilySize  IsAlone  \n",
      "849                 1                0        0         2.0        0  \n",
      "331                 0                0        0         1.0        1  \n",
      "260                 0                0        0         1.0        1  \n",
      "316                 0                0        0         2.0        0  \n",
      "292                 0                0        0         1.0        1  \n",
      "     Pclass      Fare       Age  SibSp  Parch  Sex_female  Sex_male  \\\n",
      "424     1.0  0.039452  0.220910  0.125    1.0       False      True   \n",
      "837     1.0  0.015713  0.381472  0.000    0.0       False      True   \n",
      "525     1.0  0.015127  0.503644  0.000    0.0       False      True   \n",
      "328     1.0  0.040062  0.384267  0.125    1.0        True     False   \n",
      "70      0.5  0.020495  0.396833  0.000    0.0       False      True   \n",
      "\n",
      "     FemaleFirstClass  ChildFirstClass  IsChild  FamilySize  IsAlone  \n",
      "424                 0                0        0         3.0        0  \n",
      "837                 0                0        0         1.0        1  \n",
      "525                 0                0        0         1.0        1  \n",
      "328                 0                0        0         3.0        0  \n",
      "70                  0                0        0         1.0        1  \n"
     ]
    }
   ],
   "source": [
    "train_X[columns_to_normalize] = scaler.transform(train_X[columns_to_normalize])\n",
    "print(train_X.head())\n",
    "\n",
    "valid_X[columns_to_normalize] = scaler.transform(valid_X[columns_to_normalize])\n",
    "print(valid_X.head())\n",
    "\n",
    "test_X[columns_to_normalize] = scaler.transform(test_X[columns_to_normalize])\n",
    "print(test_X.head())"
   ]
  },
  {
   "cell_type": "markdown",
   "id": "43870c85",
   "metadata": {
    "papermill": {
     "duration": 0.019479,
     "end_time": "2023-11-20T03:48:10.683447",
     "exception": false,
     "start_time": "2023-11-20T03:48:10.663968",
     "status": "completed"
    },
    "tags": []
   },
   "source": [
    "# Testing out my model (4th) after Feature Enginering and Normalization"
   ]
  },
  {
   "cell_type": "code",
   "execution_count": 36,
   "id": "166f2de2",
   "metadata": {
    "execution": {
     "iopub.execute_input": "2023-11-20T03:48:10.724893Z",
     "iopub.status.busy": "2023-11-20T03:48:10.724237Z",
     "iopub.status.idle": "2023-11-20T03:48:12.452435Z",
     "shell.execute_reply": "2023-11-20T03:48:12.451614Z"
    },
    "papermill": {
     "duration": 1.752183,
     "end_time": "2023-11-20T03:48:12.455009",
     "exception": false,
     "start_time": "2023-11-20T03:48:10.702826",
     "status": "completed"
    },
    "tags": []
   },
   "outputs": [
    {
     "name": "stdout",
     "output_type": "stream",
     "text": [
      "Validation Accuracy: 0.8314606741573034\n"
     ]
    }
   ],
   "source": [
    "model = MLPClassifier(activation = \"tanh\", alpha = 0, hidden_layer_sizes = (13, 15), learning_rate = \"constant\", solver = \"adam\", max_iter=5000, random_state = 42)\n",
    "\n",
    "model.fit(train_X, train_Y)\n",
    "\n",
    "y_pred = model.predict(valid_X)\n",
    "\n",
    "print(f\"Validation Accuracy: {accuracy_score(valid_Y, y_pred)}\")"
   ]
  },
  {
   "cell_type": "markdown",
   "id": "147884dd",
   "metadata": {
    "papermill": {
     "duration": 0.019353,
     "end_time": "2023-11-20T03:48:12.501631",
     "exception": false,
     "start_time": "2023-11-20T03:48:12.482278",
     "status": "completed"
    },
    "tags": []
   },
   "source": [
    "# Using GridSearchCV to find new best amount of neurons per hidden layer and also to find best alpha and activation\n"
   ]
  },
  {
   "cell_type": "code",
   "execution_count": 37,
   "id": "52ab3814",
   "metadata": {
    "execution": {
     "iopub.execute_input": "2023-11-20T03:48:12.544797Z",
     "iopub.status.busy": "2023-11-20T03:48:12.543525Z",
     "iopub.status.idle": "2023-11-20T03:48:12.554366Z",
     "shell.execute_reply": "2023-11-20T03:48:12.553365Z"
    },
    "papermill": {
     "duration": 0.034895,
     "end_time": "2023-11-20T03:48:12.556514",
     "exception": false,
     "start_time": "2023-11-20T03:48:12.521619",
     "status": "completed"
    },
    "tags": []
   },
   "outputs": [],
   "source": [
    "from sklearn.neural_network import MLPClassifier\n",
    "\n",
    "training_X = pd.concat([train_X, valid_X, test_X], ignore_index=True)\n",
    "training_Y = pd.concat([train_Y, valid_Y, test_Y], ignore_index=True)\n",
    "\n",
    "possible_hidden_layers = []\n",
    "\n",
    "for i in range(8,20):\n",
    "    for j in range(8,20):\n",
    "        possible_hidden_layers.append((i, j))\n",
    "\n",
    "parameter_space = {\n",
    "    'hidden_layer_sizes': possible_hidden_layers,\n",
    "    'activation': ['tanh', 'relu'],\n",
    "    'alpha': [0.0001, 0.05],\n",
    "    \"max_iter\": [4000, 5000, 6000, 7000]\n",
    "}\n",
    "\n",
    "# mlp = MLPClassifier(solver = \"adam\", random_state = 42)\n",
    "\n",
    "# clf = GridSearchCV(mlp, parameter_space, n_jobs=-1, cv=3)\n",
    "\n",
    "# clf.fit(training_X, training_Y)\n",
    "\n",
    "# print('Best parameters found:\\n', clf.best_params_)\n",
    "\n",
    "# print('Best score (CV mean):', clf.best_score_)\n",
    "\n",
    "# print(\"Done\")"
   ]
  },
  {
   "cell_type": "markdown",
   "id": "477e7f8e",
   "metadata": {
    "papermill": {
     "duration": 0.020427,
     "end_time": "2023-11-20T03:48:12.597180",
     "exception": false,
     "start_time": "2023-11-20T03:48:12.576753",
     "status": "completed"
    },
    "tags": []
   },
   "source": [
    "# Before I submit Model 4, I should re-fit the normalization scaler on the entire training data since I will be running my model on the entire training data\n"
   ]
  },
  {
   "cell_type": "code",
   "execution_count": 38,
   "id": "c67174d5",
   "metadata": {
    "execution": {
     "iopub.execute_input": "2023-11-20T03:48:12.646253Z",
     "iopub.status.busy": "2023-11-20T03:48:12.645077Z",
     "iopub.status.idle": "2023-11-20T03:48:12.677507Z",
     "shell.execute_reply": "2023-11-20T03:48:12.675948Z"
    },
    "papermill": {
     "duration": 0.060367,
     "end_time": "2023-11-20T03:48:12.680021",
     "exception": false,
     "start_time": "2023-11-20T03:48:12.619654",
     "status": "completed"
    },
    "tags": []
   },
   "outputs": [
    {
     "name": "stdout",
     "output_type": "stream",
     "text": [
      "     Pclass      Fare       Age  SibSp  Parch  Sex_female  Sex_male  \\\n",
      "0       0.5  0.020495  0.773813  0.000    0.0       False      True   \n",
      "1       1.0  0.056848  0.095250  0.500    1.0       False      True   \n",
      "2       1.0  0.110272  0.396833  0.000    0.0       False      True   \n",
      "3       1.0  0.019177  0.246042  0.125    0.0        True     False   \n",
      "4       0.5  0.025374  0.346569  0.000    0.0        True     False   \n",
      "..      ...       ...       ...    ...    ...         ...       ...   \n",
      "886     1.0  0.015713  0.258608  0.000    0.0       False      True   \n",
      "887     0.0  0.060508  0.371701  0.000    0.0        True     False   \n",
      "888     1.0  0.015713  0.547625  0.000    0.0       False      True   \n",
      "889     0.0  0.512122  0.258608  0.250    2.0        True     False   \n",
      "890     0.0  0.444099  0.472229  0.000    0.0        True     False   \n",
      "\n",
      "     FemaleFirstClass  ChildFirstClass  IsChild  FamilySize  IsAlone  \n",
      "0                   0                0        0         1.0        1  \n",
      "1                   0                0        1         6.0        0  \n",
      "2                   0                0        0         1.0        1  \n",
      "3                   0                0        0         2.0        0  \n",
      "4                   0                0        0         1.0        1  \n",
      "..                ...              ...      ...         ...      ...  \n",
      "886                 0                0        0         1.0        1  \n",
      "887                 1                0        0         1.0        1  \n",
      "888                 0                0        0         1.0        1  \n",
      "889                 1                0        0         5.0        0  \n",
      "890                 1                0        0         1.0        1  \n",
      "\n",
      "[891 rows x 12 columns]\n",
      "     Pclass      Fare       Age  SibSp  Parch  Sex_female  Sex_male  \\\n",
      "0       0.5  0.020495  0.773813  0.000    0.0       False      True   \n",
      "1       1.0  0.056848  0.095250  0.500    1.0       False      True   \n",
      "2       1.0  0.110272  0.396833  0.000    0.0       False      True   \n",
      "3       1.0  0.019177  0.246042  0.125    0.0        True     False   \n",
      "4       0.5  0.025374  0.346569  0.000    0.0        True     False   \n",
      "..      ...       ...       ...    ...    ...         ...       ...   \n",
      "886     1.0  0.015713  0.258608  0.000    0.0       False      True   \n",
      "887     0.0  0.060508  0.371701  0.000    0.0        True     False   \n",
      "888     1.0  0.015713  0.547625  0.000    0.0       False      True   \n",
      "889     0.0  0.512122  0.258608  0.250    2.0        True     False   \n",
      "890     0.0  0.444099  0.472229  0.000    0.0        True     False   \n",
      "\n",
      "     FemaleFirstClass  ChildFirstClass  IsChild  FamilySize  IsAlone  \n",
      "0                   0                0        0         1.0        1  \n",
      "1                   0                0        1         6.0        0  \n",
      "2                   0                0        0         1.0        1  \n",
      "3                   0                0        0         2.0        0  \n",
      "4                   0                0        0         1.0        1  \n",
      "..                ...              ...      ...         ...      ...  \n",
      "886                 0                0        0         1.0        1  \n",
      "887                 1                0        0         1.0        1  \n",
      "888                 0                0        0         1.0        1  \n",
      "889                 1                0        0         5.0        0  \n",
      "890                 1                0        0         1.0        1  \n",
      "\n",
      "[891 rows x 12 columns]\n"
     ]
    }
   ],
   "source": [
    "from sklearn.preprocessing import MinMaxScaler\n",
    "\n",
    "training_X = pd.concat([train_X, valid_X, test_X], ignore_index=True) # training_X is the entire training data from train.csv but after all the cleaning, normalization, and feature engineering\n",
    "training_Y = pd.concat([train_Y, valid_Y, test_Y], ignore_index=True) \n",
    "\n",
    "\n",
    "# Initialize the MinMaxScaler\n",
    "scaler = MinMaxScaler()\n",
    "\n",
    "columns_to_normalize = [\"Pclass\", \"Fare\", \"Age\", \"SibSp\"]\n",
    "\n",
    "scaler.fit(training_X[columns_to_normalize])\n",
    "\n",
    "print(training_X)\n",
    "\n",
    "training_X[columns_to_normalize] = scaler.transform(training_X[columns_to_normalize])\n",
    "\n",
    "print(training_X)"
   ]
  },
  {
   "cell_type": "markdown",
   "id": "3c070587",
   "metadata": {
    "papermill": {
     "duration": 0.019975,
     "end_time": "2023-11-20T03:48:12.723546",
     "exception": false,
     "start_time": "2023-11-20T03:48:12.703571",
     "status": "completed"
    },
    "tags": []
   },
   "source": [
    "# Now that the test data is Normalized and has feature engineering (from previous code), I can use model.predict() on it"
   ]
  },
  {
   "cell_type": "code",
   "execution_count": 39,
   "id": "065ba3df",
   "metadata": {
    "execution": {
     "iopub.execute_input": "2023-11-20T03:48:12.766139Z",
     "iopub.status.busy": "2023-11-20T03:48:12.765376Z",
     "iopub.status.idle": "2023-11-20T03:48:14.019030Z",
     "shell.execute_reply": "2023-11-20T03:48:14.017914Z"
    },
    "papermill": {
     "duration": 1.277791,
     "end_time": "2023-11-20T03:48:14.021537",
     "exception": false,
     "start_time": "2023-11-20T03:48:12.743746",
     "status": "completed"
    },
    "tags": []
   },
   "outputs": [],
   "source": [
    "# Best parameters found:\n",
    "#  {'activation': 'relu', 'alpha': 0.0001, 'hidden_layer_sizes': (11, 15), 'max_iter': 4000}\n",
    "# Best score (CV mean): 0.8282828282828284\n",
    "\n",
    "model = MLPClassifier(activation = \"relu\", alpha = 0, hidden_layer_sizes = (11, 15), solver = \"adam\", max_iter=4000, random_state = 42)\n",
    "\n",
    "model.fit(training_X, training_Y) #Fitting the model on the entire training data set (including all the sub-sets from train-validation-test split)\n",
    "\n",
    "test_data = test_data.drop(\"PassengerId\", axis = 1)\n",
    "\n",
    "predictions4 = model.predict(test_data)\n"
   ]
  },
  {
   "cell_type": "markdown",
   "id": "7fb64124",
   "metadata": {
    "papermill": {
     "duration": 0.020099,
     "end_time": "2023-11-20T03:48:14.062093",
     "exception": false,
     "start_time": "2023-11-20T03:48:14.041994",
     "status": "completed"
    },
    "tags": []
   },
   "source": [
    "# Submitting Model 4"
   ]
  },
  {
   "cell_type": "code",
   "execution_count": 40,
   "id": "5b48959d",
   "metadata": {
    "execution": {
     "iopub.execute_input": "2023-11-20T03:48:14.103577Z",
     "iopub.status.busy": "2023-11-20T03:48:14.103180Z",
     "iopub.status.idle": "2023-11-20T03:48:14.119204Z",
     "shell.execute_reply": "2023-11-20T03:48:14.118082Z"
    },
    "papermill": {
     "duration": 0.039187,
     "end_time": "2023-11-20T03:48:14.121279",
     "exception": false,
     "start_time": "2023-11-20T03:48:14.082092",
     "status": "completed"
    },
    "tags": []
   },
   "outputs": [
    {
     "name": "stdout",
     "output_type": "stream",
     "text": [
      "Your submission was successfully saved!\n"
     ]
    }
   ],
   "source": [
    "original_test = pd.read_csv(\"/kaggle/input/titanic/test.csv\")\n",
    "\n",
    "pass_id = original_test['PassengerId']\n",
    "\n",
    "test_data[\"PassengerId\"] = pass_id\n",
    "\n",
    "predictions4 = predictions4.astype(int)\n",
    "\n",
    "output = pd.DataFrame({'PassengerId': test_data.PassengerId, 'Survived': predictions4})\n",
    "output.to_csv('submission.csv', index=False)\n",
    "print(\"Your submission was successfully saved!\")\n",
    "\n",
    "test_data = test_data.drop(\"PassengerId\", axis = 1) # WE make sure to drop the PassengerId column since we are continuing to use the test_data variable in future tests and we don't want PassengerId to be apart of it until we submit the model again"
   ]
  },
  {
   "cell_type": "markdown",
   "id": "bc8330f0",
   "metadata": {
    "papermill": {
     "duration": 0.019717,
     "end_time": "2023-11-20T03:48:14.160991",
     "exception": false,
     "start_time": "2023-11-20T03:48:14.141274",
     "status": "completed"
    },
    "tags": []
   },
   "source": [
    "# MAKE SURE THERE ISN'T ANY NEGATIVE VALUES FOR AGE BEFORE AND AFTER NORMALIZATION"
   ]
  },
  {
   "cell_type": "code",
   "execution_count": 41,
   "id": "713966c4",
   "metadata": {
    "execution": {
     "iopub.execute_input": "2023-11-20T03:48:14.203728Z",
     "iopub.status.busy": "2023-11-20T03:48:14.202565Z",
     "iopub.status.idle": "2023-11-20T03:48:14.210657Z",
     "shell.execute_reply": "2023-11-20T03:48:14.209257Z"
    },
    "papermill": {
     "duration": 0.031672,
     "end_time": "2023-11-20T03:48:14.212669",
     "exception": false,
     "start_time": "2023-11-20T03:48:14.180997",
     "status": "completed"
    },
    "tags": []
   },
   "outputs": [
    {
     "name": "stdout",
     "output_type": "stream",
     "text": [
      "Empty DataFrame\n",
      "Columns: [Pclass, Fare, Age, SibSp, Parch, Sex_female, Sex_male, FemaleFirstClass, ChildFirstClass, IsChild, FamilySize, IsAlone]\n",
      "Index: []\n"
     ]
    }
   ],
   "source": [
    "negatives = training_X[training_X[\"Age\"] < 0]\n",
    "print(negatives)\n",
    "\n",
    "# No values negative values for age"
   ]
  },
  {
   "cell_type": "code",
   "execution_count": null,
   "id": "5d14b1f9",
   "metadata": {
    "papermill": {
     "duration": 0.019749,
     "end_time": "2023-11-20T03:48:14.252391",
     "exception": false,
     "start_time": "2023-11-20T03:48:14.232642",
     "status": "completed"
    },
    "tags": []
   },
   "outputs": [],
   "source": []
  }
 ],
 "metadata": {
  "kaggle": {
   "accelerator": "none",
   "dataSources": [
    {
     "databundleVersionId": 26502,
     "sourceId": 3136,
     "sourceType": "competition"
    }
   ],
   "dockerImageVersionId": 30579,
   "isGpuEnabled": false,
   "isInternetEnabled": true,
   "language": "python",
   "sourceType": "notebook"
  },
  "kernelspec": {
   "display_name": "Python 3",
   "language": "python",
   "name": "python3"
  },
  "language_info": {
   "codemirror_mode": {
    "name": "ipython",
    "version": 3
   },
   "file_extension": ".py",
   "mimetype": "text/x-python",
   "name": "python",
   "nbconvert_exporter": "python",
   "pygments_lexer": "ipython3",
   "version": "3.10.12"
  },
  "papermill": {
   "default_parameters": {},
   "duration": 45.95039,
   "end_time": "2023-11-20T03:48:14.893044",
   "environment_variables": {},
   "exception": null,
   "input_path": "__notebook__.ipynb",
   "output_path": "__notebook__.ipynb",
   "parameters": {},
   "start_time": "2023-11-20T03:47:28.942654",
   "version": "2.4.0"
  }
 },
 "nbformat": 4,
 "nbformat_minor": 5
}
