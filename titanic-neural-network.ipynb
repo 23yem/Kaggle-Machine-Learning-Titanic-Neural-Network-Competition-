{
 "cells": [
  {
   "cell_type": "code",
   "execution_count": 1,
   "id": "bf0639e3",
   "metadata": {
    "_cell_guid": "b1076dfc-b9ad-4769-8c92-a6c4dae69d19",
    "_uuid": "8f2839f25d086af736a60e9eeb907d3b93b6e0e5",
    "execution": {
     "iopub.execute_input": "2023-12-08T00:45:28.325322Z",
     "iopub.status.busy": "2023-12-08T00:45:28.324882Z",
     "iopub.status.idle": "2023-12-08T00:45:29.082142Z",
     "shell.execute_reply": "2023-12-08T00:45:29.081309Z"
    },
    "papermill": {
     "duration": 0.782661,
     "end_time": "2023-12-08T00:45:29.084266",
     "exception": false,
     "start_time": "2023-12-08T00:45:28.301605",
     "status": "completed"
    },
    "tags": []
   },
   "outputs": [
    {
     "name": "stdout",
     "output_type": "stream",
     "text": [
      "/kaggle/input/titanic/train.csv\n",
      "/kaggle/input/titanic/test.csv\n",
      "/kaggle/input/titanic/gender_submission.csv\n"
     ]
    }
   ],
   "source": [
    "# This Python 3 environment comes with many helpful analytics libraries installed\n",
    "# It is defined by the kaggle/python Docker image: https://github.com/kaggle/docker-python\n",
    "# For example, here's several helpful packages to load\n",
    "\n",
    "import numpy as np # linear algebra\n",
    "import pandas as pd # data processing, CSV file I/O (e.g. pd.read_csv)\n",
    "\n",
    "# Input data files are available in the read-only \"../input/\" directory\n",
    "# For example, running this (by clicking run or pressing Shift+Enter) will list all files under the input directory\n",
    "\n",
    "import os\n",
    "for dirname, _, filenames in os.walk('/kaggle/input'):\n",
    "    for filename in filenames:\n",
    "        print(os.path.join(dirname, filename))\n",
    "\n",
    "# You can write up to 20GB to the current directory (/kaggle/working/) that gets preserved as output when you create a version using \"Save & Run All\" \n",
    "# You can also write temporary files to /kaggle/temp/, but they won't be saved outside of the current session\n",
    "\n"
   ]
  },
  {
   "cell_type": "markdown",
   "id": "0b42934c",
   "metadata": {
    "papermill": {
     "duration": 0.020682,
     "end_time": "2023-12-08T00:45:29.125350",
     "exception": false,
     "start_time": "2023-12-08T00:45:29.104668",
     "status": "completed"
    },
    "tags": []
   },
   "source": [
    "# Set Global random seed to make sure we can replicate any model that we create (no randomness)"
   ]
  },
  {
   "cell_type": "code",
   "execution_count": 2,
   "id": "8a3bee85",
   "metadata": {
    "execution": {
     "iopub.execute_input": "2023-12-08T00:45:29.167260Z",
     "iopub.status.busy": "2023-12-08T00:45:29.166261Z",
     "iopub.status.idle": "2023-12-08T00:45:40.942040Z",
     "shell.execute_reply": "2023-12-08T00:45:40.941133Z"
    },
    "papermill": {
     "duration": 11.799382,
     "end_time": "2023-12-08T00:45:40.944700",
     "exception": false,
     "start_time": "2023-12-08T00:45:29.145318",
     "status": "completed"
    },
    "tags": []
   },
   "outputs": [],
   "source": [
    "import random\n",
    "import tensorflow as tf\n",
    "\n",
    "random.seed(42)\n",
    "np.random.seed(42)\n",
    "tf.random.set_seed(42)"
   ]
  },
  {
   "cell_type": "markdown",
   "id": "439f2ab5",
   "metadata": {
    "papermill": {
     "duration": 0.019891,
     "end_time": "2023-12-08T00:45:40.984947",
     "exception": false,
     "start_time": "2023-12-08T00:45:40.965056",
     "status": "completed"
    },
    "tags": []
   },
   "source": [
    "# **Load the Data from the Database**"
   ]
  },
  {
   "cell_type": "code",
   "execution_count": 3,
   "id": "c0a40958",
   "metadata": {
    "execution": {
     "iopub.execute_input": "2023-12-08T00:45:41.026818Z",
     "iopub.status.busy": "2023-12-08T00:45:41.026152Z",
     "iopub.status.idle": "2023-12-08T00:45:41.065507Z",
     "shell.execute_reply": "2023-12-08T00:45:41.064500Z"
    },
    "papermill": {
     "duration": 0.062856,
     "end_time": "2023-12-08T00:45:41.067691",
     "exception": false,
     "start_time": "2023-12-08T00:45:41.004835",
     "status": "completed"
    },
    "tags": []
   },
   "outputs": [
    {
     "data": {
      "text/html": [
       "<div>\n",
       "<style scoped>\n",
       "    .dataframe tbody tr th:only-of-type {\n",
       "        vertical-align: middle;\n",
       "    }\n",
       "\n",
       "    .dataframe tbody tr th {\n",
       "        vertical-align: top;\n",
       "    }\n",
       "\n",
       "    .dataframe thead th {\n",
       "        text-align: right;\n",
       "    }\n",
       "</style>\n",
       "<table border=\"1\" class=\"dataframe\">\n",
       "  <thead>\n",
       "    <tr style=\"text-align: right;\">\n",
       "      <th></th>\n",
       "      <th>PassengerId</th>\n",
       "      <th>Survived</th>\n",
       "      <th>Pclass</th>\n",
       "      <th>Name</th>\n",
       "      <th>Sex</th>\n",
       "      <th>Age</th>\n",
       "      <th>SibSp</th>\n",
       "      <th>Parch</th>\n",
       "      <th>Ticket</th>\n",
       "      <th>Fare</th>\n",
       "      <th>Cabin</th>\n",
       "      <th>Embarked</th>\n",
       "    </tr>\n",
       "  </thead>\n",
       "  <tbody>\n",
       "    <tr>\n",
       "      <th>0</th>\n",
       "      <td>1</td>\n",
       "      <td>0</td>\n",
       "      <td>3</td>\n",
       "      <td>Braund, Mr. Owen Harris</td>\n",
       "      <td>male</td>\n",
       "      <td>22.0</td>\n",
       "      <td>1</td>\n",
       "      <td>0</td>\n",
       "      <td>A/5 21171</td>\n",
       "      <td>7.2500</td>\n",
       "      <td>NaN</td>\n",
       "      <td>S</td>\n",
       "    </tr>\n",
       "    <tr>\n",
       "      <th>1</th>\n",
       "      <td>2</td>\n",
       "      <td>1</td>\n",
       "      <td>1</td>\n",
       "      <td>Cumings, Mrs. John Bradley (Florence Briggs Th...</td>\n",
       "      <td>female</td>\n",
       "      <td>38.0</td>\n",
       "      <td>1</td>\n",
       "      <td>0</td>\n",
       "      <td>PC 17599</td>\n",
       "      <td>71.2833</td>\n",
       "      <td>C85</td>\n",
       "      <td>C</td>\n",
       "    </tr>\n",
       "    <tr>\n",
       "      <th>2</th>\n",
       "      <td>3</td>\n",
       "      <td>1</td>\n",
       "      <td>3</td>\n",
       "      <td>Heikkinen, Miss. Laina</td>\n",
       "      <td>female</td>\n",
       "      <td>26.0</td>\n",
       "      <td>0</td>\n",
       "      <td>0</td>\n",
       "      <td>STON/O2. 3101282</td>\n",
       "      <td>7.9250</td>\n",
       "      <td>NaN</td>\n",
       "      <td>S</td>\n",
       "    </tr>\n",
       "    <tr>\n",
       "      <th>3</th>\n",
       "      <td>4</td>\n",
       "      <td>1</td>\n",
       "      <td>1</td>\n",
       "      <td>Futrelle, Mrs. Jacques Heath (Lily May Peel)</td>\n",
       "      <td>female</td>\n",
       "      <td>35.0</td>\n",
       "      <td>1</td>\n",
       "      <td>0</td>\n",
       "      <td>113803</td>\n",
       "      <td>53.1000</td>\n",
       "      <td>C123</td>\n",
       "      <td>S</td>\n",
       "    </tr>\n",
       "    <tr>\n",
       "      <th>4</th>\n",
       "      <td>5</td>\n",
       "      <td>0</td>\n",
       "      <td>3</td>\n",
       "      <td>Allen, Mr. William Henry</td>\n",
       "      <td>male</td>\n",
       "      <td>35.0</td>\n",
       "      <td>0</td>\n",
       "      <td>0</td>\n",
       "      <td>373450</td>\n",
       "      <td>8.0500</td>\n",
       "      <td>NaN</td>\n",
       "      <td>S</td>\n",
       "    </tr>\n",
       "  </tbody>\n",
       "</table>\n",
       "</div>"
      ],
      "text/plain": [
       "   PassengerId  Survived  Pclass  \\\n",
       "0            1         0       3   \n",
       "1            2         1       1   \n",
       "2            3         1       3   \n",
       "3            4         1       1   \n",
       "4            5         0       3   \n",
       "\n",
       "                                                Name     Sex   Age  SibSp  \\\n",
       "0                            Braund, Mr. Owen Harris    male  22.0      1   \n",
       "1  Cumings, Mrs. John Bradley (Florence Briggs Th...  female  38.0      1   \n",
       "2                             Heikkinen, Miss. Laina  female  26.0      0   \n",
       "3       Futrelle, Mrs. Jacques Heath (Lily May Peel)  female  35.0      1   \n",
       "4                           Allen, Mr. William Henry    male  35.0      0   \n",
       "\n",
       "   Parch            Ticket     Fare Cabin Embarked  \n",
       "0      0         A/5 21171   7.2500   NaN        S  \n",
       "1      0          PC 17599  71.2833   C85        C  \n",
       "2      0  STON/O2. 3101282   7.9250   NaN        S  \n",
       "3      0            113803  53.1000  C123        S  \n",
       "4      0            373450   8.0500   NaN        S  "
      ]
     },
     "execution_count": 3,
     "metadata": {},
     "output_type": "execute_result"
    }
   ],
   "source": [
    "#Remember to eventually clean up the wrong or missing values\n",
    "train_data = pd.read_csv(\"/kaggle/input/titanic/train.csv\")\n",
    "\n",
    "train_data.head()"
   ]
  },
  {
   "cell_type": "code",
   "execution_count": 4,
   "id": "c750ee01",
   "metadata": {
    "execution": {
     "iopub.execute_input": "2023-12-08T00:45:41.165403Z",
     "iopub.status.busy": "2023-12-08T00:45:41.164996Z",
     "iopub.status.idle": "2023-12-08T00:45:41.186532Z",
     "shell.execute_reply": "2023-12-08T00:45:41.185556Z"
    },
    "papermill": {
     "duration": 0.045316,
     "end_time": "2023-12-08T00:45:41.188635",
     "exception": false,
     "start_time": "2023-12-08T00:45:41.143319",
     "status": "completed"
    },
    "tags": []
   },
   "outputs": [
    {
     "data": {
      "text/html": [
       "<div>\n",
       "<style scoped>\n",
       "    .dataframe tbody tr th:only-of-type {\n",
       "        vertical-align: middle;\n",
       "    }\n",
       "\n",
       "    .dataframe tbody tr th {\n",
       "        vertical-align: top;\n",
       "    }\n",
       "\n",
       "    .dataframe thead th {\n",
       "        text-align: right;\n",
       "    }\n",
       "</style>\n",
       "<table border=\"1\" class=\"dataframe\">\n",
       "  <thead>\n",
       "    <tr style=\"text-align: right;\">\n",
       "      <th></th>\n",
       "      <th>PassengerId</th>\n",
       "      <th>Pclass</th>\n",
       "      <th>Name</th>\n",
       "      <th>Sex</th>\n",
       "      <th>Age</th>\n",
       "      <th>SibSp</th>\n",
       "      <th>Parch</th>\n",
       "      <th>Ticket</th>\n",
       "      <th>Fare</th>\n",
       "      <th>Cabin</th>\n",
       "      <th>Embarked</th>\n",
       "    </tr>\n",
       "  </thead>\n",
       "  <tbody>\n",
       "    <tr>\n",
       "      <th>0</th>\n",
       "      <td>892</td>\n",
       "      <td>3</td>\n",
       "      <td>Kelly, Mr. James</td>\n",
       "      <td>male</td>\n",
       "      <td>34.5</td>\n",
       "      <td>0</td>\n",
       "      <td>0</td>\n",
       "      <td>330911</td>\n",
       "      <td>7.8292</td>\n",
       "      <td>NaN</td>\n",
       "      <td>Q</td>\n",
       "    </tr>\n",
       "    <tr>\n",
       "      <th>1</th>\n",
       "      <td>893</td>\n",
       "      <td>3</td>\n",
       "      <td>Wilkes, Mrs. James (Ellen Needs)</td>\n",
       "      <td>female</td>\n",
       "      <td>47.0</td>\n",
       "      <td>1</td>\n",
       "      <td>0</td>\n",
       "      <td>363272</td>\n",
       "      <td>7.0000</td>\n",
       "      <td>NaN</td>\n",
       "      <td>S</td>\n",
       "    </tr>\n",
       "    <tr>\n",
       "      <th>2</th>\n",
       "      <td>894</td>\n",
       "      <td>2</td>\n",
       "      <td>Myles, Mr. Thomas Francis</td>\n",
       "      <td>male</td>\n",
       "      <td>62.0</td>\n",
       "      <td>0</td>\n",
       "      <td>0</td>\n",
       "      <td>240276</td>\n",
       "      <td>9.6875</td>\n",
       "      <td>NaN</td>\n",
       "      <td>Q</td>\n",
       "    </tr>\n",
       "    <tr>\n",
       "      <th>3</th>\n",
       "      <td>895</td>\n",
       "      <td>3</td>\n",
       "      <td>Wirz, Mr. Albert</td>\n",
       "      <td>male</td>\n",
       "      <td>27.0</td>\n",
       "      <td>0</td>\n",
       "      <td>0</td>\n",
       "      <td>315154</td>\n",
       "      <td>8.6625</td>\n",
       "      <td>NaN</td>\n",
       "      <td>S</td>\n",
       "    </tr>\n",
       "    <tr>\n",
       "      <th>4</th>\n",
       "      <td>896</td>\n",
       "      <td>3</td>\n",
       "      <td>Hirvonen, Mrs. Alexander (Helga E Lindqvist)</td>\n",
       "      <td>female</td>\n",
       "      <td>22.0</td>\n",
       "      <td>1</td>\n",
       "      <td>1</td>\n",
       "      <td>3101298</td>\n",
       "      <td>12.2875</td>\n",
       "      <td>NaN</td>\n",
       "      <td>S</td>\n",
       "    </tr>\n",
       "  </tbody>\n",
       "</table>\n",
       "</div>"
      ],
      "text/plain": [
       "   PassengerId  Pclass                                          Name     Sex  \\\n",
       "0          892       3                              Kelly, Mr. James    male   \n",
       "1          893       3              Wilkes, Mrs. James (Ellen Needs)  female   \n",
       "2          894       2                     Myles, Mr. Thomas Francis    male   \n",
       "3          895       3                              Wirz, Mr. Albert    male   \n",
       "4          896       3  Hirvonen, Mrs. Alexander (Helga E Lindqvist)  female   \n",
       "\n",
       "    Age  SibSp  Parch   Ticket     Fare Cabin Embarked  \n",
       "0  34.5      0      0   330911   7.8292   NaN        Q  \n",
       "1  47.0      1      0   363272   7.0000   NaN        S  \n",
       "2  62.0      0      0   240276   9.6875   NaN        Q  \n",
       "3  27.0      0      0   315154   8.6625   NaN        S  \n",
       "4  22.0      1      1  3101298  12.2875   NaN        S  "
      ]
     },
     "execution_count": 4,
     "metadata": {},
     "output_type": "execute_result"
    }
   ],
   "source": [
    "#Remember to eventually clean up the wrong or missing values\n",
    "test_data = pd.read_csv(\"/kaggle/input/titanic/test.csv\")\n",
    "\n",
    "test_data.head()"
   ]
  },
  {
   "cell_type": "code",
   "execution_count": 5,
   "id": "4ca9fb18",
   "metadata": {
    "execution": {
     "iopub.execute_input": "2023-12-08T00:45:41.232879Z",
     "iopub.status.busy": "2023-12-08T00:45:41.231911Z",
     "iopub.status.idle": "2023-12-08T00:45:41.237290Z",
     "shell.execute_reply": "2023-12-08T00:45:41.236512Z"
    },
    "papermill": {
     "duration": 0.029525,
     "end_time": "2023-12-08T00:45:41.239380",
     "exception": false,
     "start_time": "2023-12-08T00:45:41.209855",
     "status": "completed"
    },
    "tags": []
   },
   "outputs": [
    {
     "name": "stdout",
     "output_type": "stream",
     "text": [
      "Index(['PassengerId', 'Survived', 'Pclass', 'Name', 'Sex', 'Age', 'SibSp',\n",
      "       'Parch', 'Ticket', 'Fare', 'Cabin', 'Embarked'],\n",
      "      dtype='object')\n",
      "(891, 12)\n"
     ]
    }
   ],
   "source": [
    "print(train_data.columns)\n",
    "print(train_data.shape)"
   ]
  },
  {
   "cell_type": "markdown",
   "id": "98beef31",
   "metadata": {
    "papermill": {
     "duration": 0.020453,
     "end_time": "2023-12-08T00:45:41.280549",
     "exception": false,
     "start_time": "2023-12-08T00:45:41.260096",
     "status": "completed"
    },
    "tags": []
   },
   "source": [
    "# Choosing features #\n"
   ]
  },
  {
   "cell_type": "code",
   "execution_count": 6,
   "id": "e364118e",
   "metadata": {
    "execution": {
     "iopub.execute_input": "2023-12-08T00:45:41.323976Z",
     "iopub.status.busy": "2023-12-08T00:45:41.323039Z",
     "iopub.status.idle": "2023-12-08T00:45:41.348307Z",
     "shell.execute_reply": "2023-12-08T00:45:41.347307Z"
    },
    "papermill": {
     "duration": 0.049557,
     "end_time": "2023-12-08T00:45:41.350719",
     "exception": false,
     "start_time": "2023-12-08T00:45:41.301162",
     "status": "completed"
    },
    "tags": []
   },
   "outputs": [
    {
     "data": {
      "text/html": [
       "<div>\n",
       "<style scoped>\n",
       "    .dataframe tbody tr th:only-of-type {\n",
       "        vertical-align: middle;\n",
       "    }\n",
       "\n",
       "    .dataframe tbody tr th {\n",
       "        vertical-align: top;\n",
       "    }\n",
       "\n",
       "    .dataframe thead th {\n",
       "        text-align: right;\n",
       "    }\n",
       "</style>\n",
       "<table border=\"1\" class=\"dataframe\">\n",
       "  <thead>\n",
       "    <tr style=\"text-align: right;\">\n",
       "      <th></th>\n",
       "      <th>Pclass</th>\n",
       "      <th>Fare</th>\n",
       "      <th>Sex_female</th>\n",
       "      <th>Sex_male</th>\n",
       "    </tr>\n",
       "  </thead>\n",
       "  <tbody>\n",
       "    <tr>\n",
       "      <th>0</th>\n",
       "      <td>3</td>\n",
       "      <td>7.2500</td>\n",
       "      <td>False</td>\n",
       "      <td>True</td>\n",
       "    </tr>\n",
       "    <tr>\n",
       "      <th>1</th>\n",
       "      <td>1</td>\n",
       "      <td>71.2833</td>\n",
       "      <td>True</td>\n",
       "      <td>False</td>\n",
       "    </tr>\n",
       "    <tr>\n",
       "      <th>2</th>\n",
       "      <td>3</td>\n",
       "      <td>7.9250</td>\n",
       "      <td>True</td>\n",
       "      <td>False</td>\n",
       "    </tr>\n",
       "    <tr>\n",
       "      <th>3</th>\n",
       "      <td>1</td>\n",
       "      <td>53.1000</td>\n",
       "      <td>True</td>\n",
       "      <td>False</td>\n",
       "    </tr>\n",
       "    <tr>\n",
       "      <th>4</th>\n",
       "      <td>3</td>\n",
       "      <td>8.0500</td>\n",
       "      <td>False</td>\n",
       "      <td>True</td>\n",
       "    </tr>\n",
       "  </tbody>\n",
       "</table>\n",
       "</div>"
      ],
      "text/plain": [
       "   Pclass     Fare  Sex_female  Sex_male\n",
       "0       3   7.2500       False      True\n",
       "1       1  71.2833        True     False\n",
       "2       3   7.9250        True     False\n",
       "3       1  53.1000        True     False\n",
       "4       3   8.0500       False      True"
      ]
     },
     "execution_count": 6,
     "metadata": {},
     "output_type": "execute_result"
    }
   ],
   "source": [
    "features = [\"Pclass\", \"Sex\", \"Fare\"]\n",
    "\n",
    "X_train = pd.get_dummies(train_data[features])\n",
    "\n",
    "X_train.head()\n",
    "#print(X_train.shape)"
   ]
  },
  {
   "cell_type": "markdown",
   "id": "58d08342",
   "metadata": {
    "papermill": {
     "duration": 0.020546,
     "end_time": "2023-12-08T00:45:41.392337",
     "exception": false,
     "start_time": "2023-12-08T00:45:41.371791",
     "status": "completed"
    },
    "tags": []
   },
   "source": []
  },
  {
   "cell_type": "markdown",
   "id": "10170125",
   "metadata": {
    "papermill": {
     "duration": 0.021014,
     "end_time": "2023-12-08T00:45:41.434286",
     "exception": false,
     "start_time": "2023-12-08T00:45:41.413272",
     "status": "completed"
    },
    "tags": []
   },
   "source": [
    "# Set the target/label (y) values\n"
   ]
  },
  {
   "cell_type": "code",
   "execution_count": 7,
   "id": "af2df4e8",
   "metadata": {
    "execution": {
     "iopub.execute_input": "2023-12-08T00:45:41.477312Z",
     "iopub.status.busy": "2023-12-08T00:45:41.476919Z",
     "iopub.status.idle": "2023-12-08T00:45:41.483689Z",
     "shell.execute_reply": "2023-12-08T00:45:41.482989Z"
    },
    "papermill": {
     "duration": 0.030364,
     "end_time": "2023-12-08T00:45:41.485394",
     "exception": false,
     "start_time": "2023-12-08T00:45:41.455030",
     "status": "completed"
    },
    "tags": []
   },
   "outputs": [
    {
     "data": {
      "text/plain": [
       "0    0\n",
       "1    1\n",
       "2    1\n",
       "3    1\n",
       "4    0\n",
       "Name: Survived, dtype: int64"
      ]
     },
     "execution_count": 7,
     "metadata": {},
     "output_type": "execute_result"
    }
   ],
   "source": [
    "#Y_train = pd.get_dummies(train_data[\"Survived\"])\n",
    "Y_train = train_data[\"Survived\"]\n",
    "\n",
    "Y_train.head()\n"
   ]
  },
  {
   "cell_type": "markdown",
   "id": "753a58c5",
   "metadata": {
    "papermill": {
     "duration": 0.020762,
     "end_time": "2023-12-08T00:45:41.527201",
     "exception": false,
     "start_time": "2023-12-08T00:45:41.506439",
     "status": "completed"
    },
    "tags": []
   },
   "source": []
  },
  {
   "cell_type": "markdown",
   "id": "afd618b9",
   "metadata": {
    "papermill": {
     "duration": 0.020857,
     "end_time": "2023-12-08T00:45:41.568950",
     "exception": false,
     "start_time": "2023-12-08T00:45:41.548093",
     "status": "completed"
    },
    "tags": []
   },
   "source": [
    "# Split up train data into Train-test using scikit-learn"
   ]
  },
  {
   "cell_type": "code",
   "execution_count": 8,
   "id": "038dfbbb",
   "metadata": {
    "execution": {
     "iopub.execute_input": "2023-12-08T00:45:41.613665Z",
     "iopub.status.busy": "2023-12-08T00:45:41.612952Z",
     "iopub.status.idle": "2023-12-08T00:45:42.430636Z",
     "shell.execute_reply": "2023-12-08T00:45:42.429558Z"
    },
    "papermill": {
     "duration": 0.842756,
     "end_time": "2023-12-08T00:45:42.432937",
     "exception": false,
     "start_time": "2023-12-08T00:45:41.590181",
     "status": "completed"
    },
    "tags": []
   },
   "outputs": [
    {
     "name": "stdout",
     "output_type": "stream",
     "text": [
      "445    1\n",
      "650    0\n",
      "172    1\n",
      "450    0\n",
      "314    0\n",
      "Name: Survived, dtype: int64\n",
      "709    1\n",
      "439    0\n",
      "840    0\n",
      "720    1\n",
      "39     1\n",
      "Name: Survived, dtype: int64\n"
     ]
    }
   ],
   "source": [
    "from sklearn.model_selection import train_test_split\n",
    "\n",
    "#Split data into a train/validation and test set\n",
    "X_train, X_test, Y_train, Y_test = train_test_split(X_train, Y_train, test_size = 0.3, random_state = 42)\n",
    "\n",
    "#print(X_train.head())\n",
    "#print(Y_train.head())\n",
    "print(Y_train.head())\n",
    "\n",
    "print(Y_test.head())\n"
   ]
  },
  {
   "cell_type": "markdown",
   "id": "061e956f",
   "metadata": {
    "papermill": {
     "duration": 0.02092,
     "end_time": "2023-12-08T00:45:42.476257",
     "exception": false,
     "start_time": "2023-12-08T00:45:42.455337",
     "status": "completed"
    },
    "tags": []
   },
   "source": [
    "spliting the data into a train-test split will allow us to test our model and so it will allow us to tune our model before submitting on Kaggle. We can also use the train-validation-test split here"
   ]
  },
  {
   "cell_type": "markdown",
   "id": "a2667ec7",
   "metadata": {
    "papermill": {
     "duration": 0.020882,
     "end_time": "2023-12-08T00:45:42.518361",
     "exception": false,
     "start_time": "2023-12-08T00:45:42.497479",
     "status": "completed"
    },
    "tags": []
   },
   "source": [
    "# Making the Neural Network Model using Scikit Learn\n"
   ]
  },
  {
   "cell_type": "code",
   "execution_count": 9,
   "id": "1d38e674",
   "metadata": {
    "execution": {
     "iopub.execute_input": "2023-12-08T00:45:42.562278Z",
     "iopub.status.busy": "2023-12-08T00:45:42.561908Z",
     "iopub.status.idle": "2023-12-08T00:45:42.574426Z",
     "shell.execute_reply": "2023-12-08T00:45:42.573543Z"
    },
    "papermill": {
     "duration": 0.037307,
     "end_time": "2023-12-08T00:45:42.576681",
     "exception": false,
     "start_time": "2023-12-08T00:45:42.539374",
     "status": "completed"
    },
    "tags": []
   },
   "outputs": [],
   "source": [
    "from sklearn.neural_network import MLPClassifier\n",
    "from sklearn.model_selection import train_test_split\n",
    "from sklearn.preprocessing import StandardScaler\n",
    "from sklearn.metrics import accuracy_score\n",
    "\n",
    "# Commented out the code so that the model won't run everytime\n",
    "\n",
    "# model = MLPClassifier(hidden_layer_sizes=(5, 5), activation='relu', solver='adam', max_iter=1000, random_state=42)\n",
    "\n",
    "# model.fit(X_train, Y_train)\n",
    "\n",
    "# y_pred = model.predict(X_test)\n",
    "\n",
    "# print(f\"Accuracy: {accuracy_score(Y_test, y_pred):.2f}\")\n"
   ]
  },
  {
   "cell_type": "markdown",
   "id": "9a539a3d",
   "metadata": {
    "papermill": {
     "duration": 0.021345,
     "end_time": "2023-12-08T00:45:42.620132",
     "exception": false,
     "start_time": "2023-12-08T00:45:42.598787",
     "status": "completed"
    },
    "tags": []
   },
   "source": [
    "**Here I am using the MLPClassifier since this is a classification problem. The output of the model will be \"Survive\" or \"not survive.\" If my model was supposed to predict a numerical value, I would be using something like MLPRegressor instead**"
   ]
  },
  {
   "cell_type": "markdown",
   "id": "70f63106",
   "metadata": {
    "papermill": {
     "duration": 0.0213,
     "end_time": "2023-12-08T00:45:42.663040",
     "exception": false,
     "start_time": "2023-12-08T00:45:42.641740",
     "status": "completed"
    },
    "tags": []
   },
   "source": [
    "# Tried making a neural network using Tensor Flow but decided to just use Scikit learn"
   ]
  },
  {
   "cell_type": "code",
   "execution_count": 10,
   "id": "4b5754ea",
   "metadata": {
    "execution": {
     "iopub.execute_input": "2023-12-08T00:45:42.708309Z",
     "iopub.status.busy": "2023-12-08T00:45:42.707677Z",
     "iopub.status.idle": "2023-12-08T00:45:42.712580Z",
     "shell.execute_reply": "2023-12-08T00:45:42.711773Z"
    },
    "papermill": {
     "duration": 0.029861,
     "end_time": "2023-12-08T00:45:42.714527",
     "exception": false,
     "start_time": "2023-12-08T00:45:42.684666",
     "status": "completed"
    },
    "tags": []
   },
   "outputs": [],
   "source": [
    "# import tensorflow as tf\n",
    "\n",
    "\n",
    "# #Compile the model\n",
    "# model = tf.keras.models.Sequential([\n",
    "#     tf.keras.layers.Dense(64, activation = \"relu\", input_shape = (687,)),\n",
    "#     tf.keras.layers.Dense(32, activation = \"relu\"),\n",
    "#     tf.keras.layers.Dense(16, activation = \"relu\"),\n",
    "#     tf.keras.layers.Dense(1, activation = \"sigmoid\")\n",
    "# ])\n",
    "# model.compile(optimizer = \"adam\", loss = \"binary_crossentropy\", metrics = [\"accuracy\"])\n",
    "\n",
    "\n",
    "# #Train the model\n",
    "\n",
    "# #X_train = tf.convert_to_tensor(X_train)\n",
    "# #Y_train = tf.convert_to_tensor(Y_train)\n",
    "# model.fit(X_train, Y_train, epochs = 10)\n",
    "\n",
    "# #Evaluate the model \n",
    "\n",
    "# #X_test = tf.convert_to_tensor(X_test)\n",
    "# #Y_test = tf.convert_to_tensor(Y_test)\n",
    "# loss, accuracy = model.evaluate(X_test, Y_test)\n",
    "# print(\"Accuracy: \", accuracy)"
   ]
  },
  {
   "cell_type": "markdown",
   "id": "ac92139d",
   "metadata": {
    "papermill": {
     "duration": 0.020948,
     "end_time": "2023-12-08T00:45:42.756741",
     "exception": false,
     "start_time": "2023-12-08T00:45:42.735793",
     "status": "completed"
    },
    "tags": []
   },
   "source": [
    "# Testing model on real test set and Submitting Model (Accuracy: 0.755)\n"
   ]
  },
  {
   "cell_type": "code",
   "execution_count": 11,
   "id": "3afb607c",
   "metadata": {
    "execution": {
     "iopub.execute_input": "2023-12-08T00:45:42.800806Z",
     "iopub.status.busy": "2023-12-08T00:45:42.800416Z",
     "iopub.status.idle": "2023-12-08T00:45:42.828165Z",
     "shell.execute_reply": "2023-12-08T00:45:42.826916Z"
    },
    "papermill": {
     "duration": 0.051975,
     "end_time": "2023-12-08T00:45:42.830165",
     "exception": false,
     "start_time": "2023-12-08T00:45:42.778190",
     "status": "completed"
    },
    "tags": []
   },
   "outputs": [
    {
     "name": "stdout",
     "output_type": "stream",
     "text": [
      "Index(['Pclass', 'Fare', 'Sex_female', 'Sex_male', 'PassengerId'], dtype='object')\n"
     ]
    }
   ],
   "source": [
    "test_data = pd.read_csv(\"/kaggle/input/titanic/test.csv\")\n",
    "features = [\"Pclass\", \"Sex\", \"Fare\"]\n",
    "test_X = pd.get_dummies(test_data[features])\n",
    "#test_X = test_X.dropna()\n",
    "#print(test_X[\"Sex_female\"])\n",
    "test_X['Fare'].fillna(test_X['Fare'].median(), inplace=True)\n",
    "\n",
    "# Impute categorical columns with the mode\n",
    "for column in ['Pclass']:\n",
    "    test_X[column].fillna(test_X[column].mode()[0], inplace=True)\n",
    "\n",
    "for column in [\"Sex_female\"]:\n",
    "    test_X[column].fillna(False, inplace=True)\n",
    "    \n",
    "for column in ['Sex_male']:\n",
    "    test_X[column].fillna(True, inplace=True)\n",
    "  \n",
    "  \n",
    "# print(X_test)\n",
    "\n",
    "#model.fit(X_train, Y_train)\n",
    "\n",
    "# predictions = model.predict(test_X)\n",
    "\n",
    "pass_id = test_data['PassengerId']\n",
    "\n",
    "test_data = test_data.drop('PassengerId', axis=1)\n",
    "test_data = pd.get_dummies(test_data[features])\n",
    "\n",
    "test_data[\"PassengerId\"] = pass_id\n",
    "\n",
    "test_data['Fare'].fillna(test_data['Fare'].median(), inplace=True)\n",
    "\n",
    "print(test_data.columns)\n",
    "\n",
    "# Impute categorical columns with the mode\n",
    "for column in ['Pclass']:\n",
    "    test_data[column].fillna(test_data[column].mode()[0], inplace=True)\n",
    "\n",
    "for column in ['Sex_female']:\n",
    "    test_data[column].fillna(False, inplace=True)\n",
    "    \n",
    "for column in ['Sex_male']:\n",
    "    test_data[column].fillna(True, inplace=True)\n",
    "    \n",
    "# Commented out the code so that the model won't run everytime\n",
    "\n",
    "# print(test_X.shape)\n",
    "# print(predictions.shape)\n",
    "# print(test_data.shape)\n",
    "\n",
    "\n",
    "# output = pd.DataFrame({'PassengerId': test_data.PassengerId, 'Survived': predictions})\n",
    "# output.to_csv('submission.csv', index=False)\n",
    "# print(\"Your submission was successfully saved!\")"
   ]
  },
  {
   "cell_type": "markdown",
   "id": "8ac1e129",
   "metadata": {
    "papermill": {
     "duration": 0.021022,
     "end_time": "2023-12-08T00:45:42.872713",
     "exception": false,
     "start_time": "2023-12-08T00:45:42.851691",
     "status": "completed"
    },
    "tags": []
   },
   "source": [
    "**The accuracy of the model was 0.755**"
   ]
  },
  {
   "cell_type": "markdown",
   "id": "bc65e72c",
   "metadata": {
    "papermill": {
     "duration": 0.020807,
     "end_time": "2023-12-08T00:45:42.914798",
     "exception": false,
     "start_time": "2023-12-08T00:45:42.893991",
     "status": "completed"
    },
    "tags": []
   },
   "source": [
    "# After first submission, I will now try and edit the neural network to improve the accurary\n"
   ]
  },
  {
   "cell_type": "code",
   "execution_count": 12,
   "id": "9fd15650",
   "metadata": {
    "execution": {
     "iopub.execute_input": "2023-12-08T00:45:42.958899Z",
     "iopub.status.busy": "2023-12-08T00:45:42.958247Z",
     "iopub.status.idle": "2023-12-08T00:45:42.962677Z",
     "shell.execute_reply": "2023-12-08T00:45:42.961873Z"
    },
    "papermill": {
     "duration": 0.028671,
     "end_time": "2023-12-08T00:45:42.964536",
     "exception": false,
     "start_time": "2023-12-08T00:45:42.935865",
     "status": "completed"
    },
    "tags": []
   },
   "outputs": [],
   "source": [
    "# Commented out the code so that the model won't run everytime\n",
    "\n",
    "# model = MLPClassifier(hidden_layer_sizes=(14, 4), activation='relu', solver='lbfgs', max_iter=1000, random_state=42)\n",
    "\n",
    "# model.fit(X_train, Y_train)\n",
    "\n",
    "# y_pred = model.predict(X_test)\n",
    "\n",
    "# print(f\"Accuracy: {accuracy_score(Y_test, y_pred):.2f}\")\n",
    "\n"
   ]
  },
  {
   "cell_type": "markdown",
   "id": "6119c441",
   "metadata": {
    "papermill": {
     "duration": 0.020771,
     "end_time": "2023-12-08T00:45:43.006144",
     "exception": false,
     "start_time": "2023-12-08T00:45:42.985373",
     "status": "completed"
    },
    "tags": []
   },
   "source": [
    "**I edited  the hidden layer sizes**\n"
   ]
  },
  {
   "cell_type": "markdown",
   "id": "128df4fa",
   "metadata": {
    "papermill": {
     "duration": 0.020676,
     "end_time": "2023-12-08T00:45:43.048048",
     "exception": false,
     "start_time": "2023-12-08T00:45:43.027372",
     "status": "completed"
    },
    "tags": []
   },
   "source": [
    "# Second submission (accuracy: 0.76)\n"
   ]
  },
  {
   "cell_type": "code",
   "execution_count": 13,
   "id": "782c9afd",
   "metadata": {
    "execution": {
     "iopub.execute_input": "2023-12-08T00:45:43.098959Z",
     "iopub.status.busy": "2023-12-08T00:45:43.097964Z",
     "iopub.status.idle": "2023-12-08T00:45:43.115416Z",
     "shell.execute_reply": "2023-12-08T00:45:43.114354Z"
    },
    "papermill": {
     "duration": 0.048614,
     "end_time": "2023-12-08T00:45:43.117492",
     "exception": false,
     "start_time": "2023-12-08T00:45:43.068878",
     "status": "completed"
    },
    "tags": []
   },
   "outputs": [
    {
     "name": "stdout",
     "output_type": "stream",
     "text": [
      "done\n"
     ]
    }
   ],
   "source": [
    "test_data = pd.read_csv(\"/kaggle/input/titanic/test.csv\")\n",
    "features = [\"Pclass\", \"Sex\", \"Fare\"]\n",
    "test_X = pd.get_dummies(test_data[features])\n",
    "\n",
    "test_X['Fare'].fillna(test_X['Fare'].median(), inplace=True)\n",
    "\n",
    "# Impute categorical columns with the mode\n",
    "for column in ['Pclass']:\n",
    "    test_X[column].fillna(test_X[column].mode()[0], inplace=True)\n",
    "\n",
    "for column in [\"Sex_female\"]:\n",
    "    test_X[column].fillna(False, inplace=True)\n",
    "    \n",
    "for column in ['Sex_male']:\n",
    "    test_X[column].fillna(True, inplace=True)\n",
    "\n",
    "print(\"done\")\n",
    "\n",
    "\n",
    "# Commented out the code so that the model won't run everytime\n",
    "\n",
    "# predictions2 = model.predict(test_X)\n",
    "\n",
    "# pass_id = test_data['PassengerId']\n",
    "\n",
    "# test_data = test_data.drop('PassengerId', axis=1)\n",
    "# test_data = pd.get_dummies(test_data[features])\n",
    "\n",
    "# test_data[\"PassengerId\"] = pass_id\n",
    "\n",
    "# print(test_data.columns)\n",
    "\n",
    "# print(test_X.shape)\n",
    "# print(predictions2.shape)\n",
    "# print(test_data.shape)\n",
    "\n",
    "# output = pd.DataFrame({'PassengerId': test_data.PassengerId, 'Survived': predictions2})\n",
    "# output.to_csv('submission.csv', index=False)\n",
    "# print(\"Your submission was successfully saved!\")"
   ]
  },
  {
   "cell_type": "markdown",
   "id": "967df757",
   "metadata": {
    "papermill": {
     "duration": 0.020915,
     "end_time": "2023-12-08T00:45:43.159969",
     "exception": false,
     "start_time": "2023-12-08T00:45:43.139054",
     "status": "completed"
    },
    "tags": []
   },
   "source": [
    "**Here, from the code above, I went from a 0.755 to a 0.76 by editing the hidden layer sizes. However, this wasn't much of a big change and the accuracy of the model is still worse than the 0.775 which I achieved through a simple Random Decision Forest Model.**\n"
   ]
  },
  {
   "cell_type": "markdown",
   "id": "e54c8cfe",
   "metadata": {
    "papermill": {
     "duration": 0.02179,
     "end_time": "2023-12-08T00:45:43.203372",
     "exception": false,
     "start_time": "2023-12-08T00:45:43.181582",
     "status": "completed"
    },
    "tags": []
   },
   "source": [
    "**From this code, I realized that I should be imputing and cleaning the data BEFORE I use pd.get_dummies(). This is because pd.get_dummies() adds a lot more columns to the data because it turns all categorial columns to multiple binary columns which puts a 0 or 1 in each row. So, I should be cleaming up the data BEFORE I use pd.get_dummies() since pd.get_dummies adds so many more columns to the data and makes the data so much harder to clean. \n",
    "For example, it's hard to impute values in the \"age\" column after you do pd.get_Dummies() since imputing age relies on finding the average age of each person and it's a lot easier to find the average age is the all the ages were in a single column but if we do pd.get_Dummies, we are going to split up the age column into many more age columns which correspond to each unique age value in the data set**"
   ]
  },
  {
   "cell_type": "markdown",
   "id": "98a00c5b",
   "metadata": {
    "papermill": {
     "duration": 0.021025,
     "end_time": "2023-12-08T00:45:43.245731",
     "exception": false,
     "start_time": "2023-12-08T00:45:43.224706",
     "status": "completed"
    },
    "tags": []
   },
   "source": []
  },
  {
   "cell_type": "markdown",
   "id": "fcd56eb8",
   "metadata": {
    "papermill": {
     "duration": 0.023587,
     "end_time": "2023-12-08T00:45:43.291245",
     "exception": false,
     "start_time": "2023-12-08T00:45:43.267658",
     "status": "completed"
    },
    "tags": []
   },
   "source": [
    "# Now I will re-initialize my data set and clean up my data before using pd.get_dummies()"
   ]
  },
  {
   "cell_type": "markdown",
   "id": "2de4f228",
   "metadata": {
    "papermill": {
     "duration": 0.032132,
     "end_time": "2023-12-08T00:45:43.349877",
     "exception": false,
     "start_time": "2023-12-08T00:45:43.317745",
     "status": "completed"
    },
    "tags": []
   },
   "source": [
    "**I set up X_train and Y_train, but this time, instead of doing pd.get_Dummies() on X_train, I'm not going to use pd.get_Dummies() until after I clean up the data**"
   ]
  },
  {
   "cell_type": "code",
   "execution_count": 14,
   "id": "b9c4a532",
   "metadata": {
    "execution": {
     "iopub.execute_input": "2023-12-08T00:45:43.394951Z",
     "iopub.status.busy": "2023-12-08T00:45:43.394238Z",
     "iopub.status.idle": "2023-12-08T00:45:43.410576Z",
     "shell.execute_reply": "2023-12-08T00:45:43.409651Z"
    },
    "papermill": {
     "duration": 0.041294,
     "end_time": "2023-12-08T00:45:43.412575",
     "exception": false,
     "start_time": "2023-12-08T00:45:43.371281",
     "status": "completed"
    },
    "tags": []
   },
   "outputs": [
    {
     "name": "stdout",
     "output_type": "stream",
     "text": [
      "   PassengerId  Survived  Pclass  \\\n",
      "0            1         0       3   \n",
      "1            2         1       1   \n",
      "2            3         1       3   \n",
      "3            4         1       1   \n",
      "4            5         0       3   \n",
      "\n",
      "                                                Name     Sex   Age  SibSp  \\\n",
      "0                            Braund, Mr. Owen Harris    male  22.0      1   \n",
      "1  Cumings, Mrs. John Bradley (Florence Briggs Th...  female  38.0      1   \n",
      "2                             Heikkinen, Miss. Laina  female  26.0      0   \n",
      "3       Futrelle, Mrs. Jacques Heath (Lily May Peel)  female  35.0      1   \n",
      "4                           Allen, Mr. William Henry    male  35.0      0   \n",
      "\n",
      "   Parch            Ticket     Fare Cabin Embarked  \n",
      "0      0         A/5 21171   7.2500   NaN        S  \n",
      "1      0          PC 17599  71.2833   C85        C  \n",
      "2      0  STON/O2. 3101282   7.9250   NaN        S  \n",
      "3      0            113803  53.1000  C123        S  \n",
      "4      0            373450   8.0500   NaN        S  \n"
     ]
    }
   ],
   "source": [
    "train_data = pd.read_csv(\"/kaggle/input/titanic/train.csv\")\n",
    "\n",
    "features = [\"Pclass\", \"Sex\", \"Fare\",\"Age\", \"SibSp\", \"Parch\"] # Here, I also added more features which I think might be useful\n",
    "\n",
    "X_train = train_data # I won't actually limit the X_train to just the columns of the features I want just yet. This is because I will use the other columns in the data set to help impute missing values\n",
    "\n",
    "Y_train = train_data[\"Survived\"]\n",
    "\n",
    "print(X_train.head())\n"
   ]
  },
  {
   "cell_type": "markdown",
   "id": "c1219e43",
   "metadata": {
    "papermill": {
     "duration": 0.021988,
     "end_time": "2023-12-08T00:45:43.455955",
     "exception": false,
     "start_time": "2023-12-08T00:45:43.433967",
     "status": "completed"
    },
    "tags": []
   },
   "source": [
    "# Start cleaning up the data"
   ]
  },
  {
   "cell_type": "code",
   "execution_count": 15,
   "id": "376cffbc",
   "metadata": {
    "execution": {
     "iopub.execute_input": "2023-12-08T00:45:43.500735Z",
     "iopub.status.busy": "2023-12-08T00:45:43.499729Z",
     "iopub.status.idle": "2023-12-08T00:45:43.510695Z",
     "shell.execute_reply": "2023-12-08T00:45:43.509439Z"
    },
    "papermill": {
     "duration": 0.035677,
     "end_time": "2023-12-08T00:45:43.512739",
     "exception": false,
     "start_time": "2023-12-08T00:45:43.477062",
     "status": "completed"
    },
    "tags": []
   },
   "outputs": [
    {
     "name": "stdout",
     "output_type": "stream",
     "text": [
      "0\n",
      "0\n",
      "0\n",
      "0\n",
      "0\n",
      "177\n"
     ]
    }
   ],
   "source": [
    "# Impute missing values for Pclass\n",
    "\n",
    "average_Pclass = X_train[\"Pclass\"].median()\n",
    "\n",
    "X_train[\"Pclass\"].fillna(average_Pclass, inplace = True)\n",
    "\n",
    "print(X_train[\"Pclass\"].isnull().sum()) # print the number of rows in the \"Pclass\" columns that now have no value\n",
    "\n",
    "print(X_train[\"Sex\"].isnull().sum()) # Since this prints out 0, this means that there is no missing value in the \"Sex\" column so we don't need to impute anything\n",
    "\n",
    "print(X_train[\"Fare\"].isnull().sum()) # Since this prints out 0, this means that there is no missing value in the \"Fare\" column so we don't need to impute anything\n",
    "\n",
    "print(X_train[\"SibSp\"].isnull().sum()) # Since this prints out 0, this means that there is no missing value in the \"SibSp\" column so we don't need to impute anything\n",
    "\n",
    "print(X_train[\"Parch\"].isnull().sum()) # Since this prints out 0, this means that there is no missing value in the \"Parch\" column so we don't need to impute anything\n",
    "\n",
    "print(X_train[\"Age\"].isnull().sum()) # This prints out 177 so there are 177 rows with missing values in the \"Age\" column! This means we have to do a lot of imputing\n",
    "\n"
   ]
  },
  {
   "cell_type": "markdown",
   "id": "8b77cd90",
   "metadata": {
    "papermill": {
     "duration": 0.021112,
     "end_time": "2023-12-08T00:45:43.556003",
     "exception": false,
     "start_time": "2023-12-08T00:45:43.534891",
     "status": "completed"
    },
    "tags": []
   },
   "source": [
    "**From this, we learned that age is the main column with missing values (of the columns that we are working with) so we need to methodically impute those missing values**"
   ]
  },
  {
   "cell_type": "markdown",
   "id": "7634af4a",
   "metadata": {
    "papermill": {
     "duration": 0.021429,
     "end_time": "2023-12-08T00:45:43.598828",
     "exception": false,
     "start_time": "2023-12-08T00:45:43.577399",
     "status": "completed"
    },
    "tags": []
   },
   "source": [
    "# Cleaning up (imputing) the Age column using a Random Forest Regressor model (a type of Machine Learning model) that accurately predicts the age of a person given their "
   ]
  },
  {
   "cell_type": "code",
   "execution_count": 16,
   "id": "07ba895d",
   "metadata": {
    "execution": {
     "iopub.execute_input": "2023-12-08T00:45:43.643793Z",
     "iopub.status.busy": "2023-12-08T00:45:43.642988Z",
     "iopub.status.idle": "2023-12-08T00:46:03.209230Z",
     "shell.execute_reply": "2023-12-08T00:46:03.207831Z"
    },
    "papermill": {
     "duration": 19.591252,
     "end_time": "2023-12-08T00:46:03.211374",
     "exception": false,
     "start_time": "2023-12-08T00:45:43.620122",
     "status": "completed"
    },
    "tags": []
   },
   "outputs": [
    {
     "name": "stdout",
     "output_type": "stream",
     "text": [
      "0\n"
     ]
    },
    {
     "name": "stderr",
     "output_type": "stream",
     "text": [
      "/opt/conda/lib/python3.10/site-packages/sklearn/impute/_iterative.py:785: ConvergenceWarning: [IterativeImputer] Early stopping criterion not reached.\n",
      "  warnings.warn(\n"
     ]
    }
   ],
   "source": [
    "from sklearn.experimental import enable_iterative_imputer\n",
    "from sklearn.impute import IterativeImputer\n",
    "from sklearn.ensemble import RandomForestRegressor\n",
    "from sklearn.preprocessing import LabelEncoder\n",
    "\n",
    "\n",
    "#We use \"LabelEncoder\" to turn all the categorial values (values which don't use numbers) into values which the Random Forest Regressor can understand more easily. This is very similar to doing something like pd.get_dummies()\n",
    "\n",
    "label_encoders = {}\n",
    "for column in ['Sex', 'Embarked']:\n",
    "    label_encoders[column] = LabelEncoder()\n",
    "    # We use 'astype(str)' to convert any NaN values to a string representation\n",
    "    X_train[column] = label_encoders[column].fit_transform(X_train[column].astype(str))\n",
    "\n",
    "features = ['Survived', 'Pclass', 'Sex', 'Age', 'SibSp', 'Parch', 'Fare', 'Embarked']\n",
    "# One very important thing that I will end up doing is using the \"Survived\" column of the dataset to predict the age. This is because there is a strong correleation between the survival and age. \n",
    "\n",
    "\n",
    "#This is an imputer. It is a function that can efficiently impute values in the way you want. For this scenario, I am using IterativeImputer() and the RandomForestRegressor(() to )\n",
    "imputer = IterativeImputer(RandomForestRegressor(n_estimators=10), max_iter=100, random_state=42)\n",
    "\n",
    "\n",
    "# Fit the imputer on the DataFrame with the features\n",
    "imputer.fit(X_train[features]) #When IterativeImputer is used alongside an ML model like RandomForestRegressor, calling .fit() on the IterativeImputer() object will also fit (train) the ML model\n",
    "\n",
    "\n",
    "# Perform the imputation on the Training Data. THIS WILL ACTUAL IMPUTE ANY MISSING VALUES IN EACH ROW, not only the missing values in Age.\n",
    "X_train_imputed = imputer.transform(X_train[features])\n",
    "\n",
    "\n",
    "# Convert the output back to a DataFrame\n",
    "X_train_imputed = pd.DataFrame(X_train_imputed, columns=features)\n",
    "\n",
    "# Update the original DataFrame with the imputed values. This means that the columns of the original X_train dataframe that weren't part of the features (like \"Name\" isn't apart of the features list)\n",
    "X_train[features] = X_train_imputed\n",
    "\n",
    "#print(X_train.head())\n",
    "\n",
    "print(X_train[\"Age\"].isnull().sum()) # Since this prints 0, we now know that there are 0 missing values in the age column and so the imputation was successful "
   ]
  },
  {
   "cell_type": "markdown",
   "id": "77640d3a",
   "metadata": {
    "papermill": {
     "duration": 0.021385,
     "end_time": "2023-12-08T00:46:03.254670",
     "exception": false,
     "start_time": "2023-12-08T00:46:03.233285",
     "status": "completed"
    },
    "tags": []
   },
   "source": [
    "**Using IterativeRegressor() and RandomForestRegressor(), I essentially used an ML model to impute any missing values in the dataset. I wanted to clean up the age column using the most effective method and I didn't want to just find the average age and impute all those values to the missing values. I wanted to be smart since age is an incredibly important feature.**"
   ]
  },
  {
   "cell_type": "markdown",
   "id": "9e796692",
   "metadata": {
    "papermill": {
     "duration": 0.022073,
     "end_time": "2023-12-08T00:46:03.298356",
     "exception": false,
     "start_time": "2023-12-08T00:46:03.276283",
     "status": "completed"
    },
    "tags": []
   },
   "source": [
    "**Using the ImperativeImputer(), this will actually impute all the missing values in each row. It won't only impute the missing values in the \"age\" column. BUT, since we already cleaned the data and know there are 0 missing values for all the other columns that we care about (the ones with the features we are using), the imputer will be imputing values only to the missing values of age and other columns that we don't care about, but out of all the columns we care about, it will only be affecting the age column since all the other columns we care about have 0 missing values as we checked in the code previously.**"
   ]
  },
  {
   "cell_type": "code",
   "execution_count": 17,
   "id": "92fae772",
   "metadata": {
    "execution": {
     "iopub.execute_input": "2023-12-08T00:46:03.344159Z",
     "iopub.status.busy": "2023-12-08T00:46:03.343751Z",
     "iopub.status.idle": "2023-12-08T00:46:03.362465Z",
     "shell.execute_reply": "2023-12-08T00:46:03.361508Z"
    },
    "papermill": {
     "duration": 0.044354,
     "end_time": "2023-12-08T00:46:03.364996",
     "exception": false,
     "start_time": "2023-12-08T00:46:03.320642",
     "status": "completed"
    },
    "tags": []
   },
   "outputs": [
    {
     "name": "stdout",
     "output_type": "stream",
     "text": [
      "   Pclass  Sex     Fare   Age  SibSp  Parch\n",
      "0     3.0  1.0   7.2500  22.0    1.0    0.0\n",
      "1     1.0  0.0  71.2833  38.0    1.0    0.0\n",
      "2     3.0  0.0   7.9250  26.0    0.0    0.0\n",
      "3     1.0  0.0  53.1000  35.0    1.0    0.0\n",
      "4     3.0  1.0   8.0500  35.0    0.0    0.0\n",
      "314\n",
      "577\n",
      "   Pclass     Sex     Fare   Age  SibSp  Parch\n",
      "0     3.0    male   7.2500  22.0    1.0    0.0\n",
      "1     1.0  female  71.2833  38.0    1.0    0.0\n",
      "2     3.0  female   7.9250  26.0    0.0    0.0\n",
      "3     1.0  female  53.1000  35.0    1.0    0.0\n",
      "4     3.0    male   8.0500  35.0    0.0    0.0\n",
      "577\n"
     ]
    },
    {
     "name": "stderr",
     "output_type": "stream",
     "text": [
      "/tmp/ipykernel_20/1272774441.py:12: SettingWithCopyWarning: \n",
      "A value is trying to be set on a copy of a slice from a DataFrame.\n",
      "Try using .loc[row_indexer,col_indexer] = value instead\n",
      "\n",
      "See the caveats in the documentation: https://pandas.pydata.org/pandas-docs/stable/user_guide/indexing.html#returning-a-view-versus-a-copy\n",
      "  X_train['Sex'] = X_train['Sex'].map({0: 'female', 1: 'male'})\n"
     ]
    }
   ],
   "source": [
    "features = [\"Pclass\", \"Sex\", \"Fare\",\"Age\", \"SibSp\", \"Parch\"]\n",
    "\n",
    "X_train = X_train[features]\n",
    "\n",
    "print(X_train.head(5))\n",
    "\n",
    "print((X_train[\"Sex\"] == 0).sum())\n",
    "print((X_train[\"Sex\"] == 1).sum())\n",
    "\n",
    "# Since the dataset is 65% male, we can see from printing out the number of people with \"sex equal to 0\" and \"sex equal to 1\" that the LabelEncoder made Male into \"1\" and Female into \"0\". Now, let's change it back to \"Male\" and \"Female\".\n",
    "\n",
    "X_train['Sex'] = X_train['Sex'].map({0: 'female', 1: 'male'})\n",
    "\n",
    "print(X_train.head(5))\n",
    "\n",
    "print((X_train[\"Sex\"] == \"male\").sum())"
   ]
  },
  {
   "cell_type": "markdown",
   "id": "36646cc1",
   "metadata": {
    "papermill": {
     "duration": 0.021539,
     "end_time": "2023-12-08T00:46:03.408472",
     "exception": false,
     "start_time": "2023-12-08T00:46:03.386933",
     "status": "completed"
    },
    "tags": []
   },
   "source": [
    "**Here, in the code above, I changed X_train back to focus only on the features we care about. I also changed the \"Sex\" column from 0 and 1 back to Male and Female.**"
   ]
  },
  {
   "cell_type": "markdown",
   "id": "90f25969",
   "metadata": {
    "papermill": {
     "duration": 0.021504,
     "end_time": "2023-12-08T00:46:03.451590",
     "exception": false,
     "start_time": "2023-12-08T00:46:03.430086",
     "status": "completed"
    },
    "tags": []
   },
   "source": [
    "# After the careful inspection of the test.csv, I see that there are also missing values in the test.csv. As a result, we have to clean up the data for test.csv as we did for train.csv"
   ]
  },
  {
   "cell_type": "markdown",
   "id": "581d136e",
   "metadata": {
    "papermill": {
     "duration": 0.021494,
     "end_time": "2023-12-08T00:46:03.495208",
     "exception": false,
     "start_time": "2023-12-08T00:46:03.473714",
     "status": "completed"
    },
    "tags": []
   },
   "source": [
    "**Seeing which columns have missing values:**"
   ]
  },
  {
   "cell_type": "code",
   "execution_count": 18,
   "id": "ebb6c260",
   "metadata": {
    "execution": {
     "iopub.execute_input": "2023-12-08T00:46:03.540644Z",
     "iopub.status.busy": "2023-12-08T00:46:03.539995Z",
     "iopub.status.idle": "2023-12-08T00:46:03.555218Z",
     "shell.execute_reply": "2023-12-08T00:46:03.554052Z"
    },
    "papermill": {
     "duration": 0.040193,
     "end_time": "2023-12-08T00:46:03.557223",
     "exception": false,
     "start_time": "2023-12-08T00:46:03.517030",
     "status": "completed"
    },
    "tags": []
   },
   "outputs": [
    {
     "name": "stdout",
     "output_type": "stream",
     "text": [
      "0\n",
      "0\n",
      "0\n",
      "0\n",
      "1\n",
      "86\n"
     ]
    }
   ],
   "source": [
    "test_data = pd.read_csv(\"/kaggle/input/titanic/test.csv\")\n",
    "\n",
    "features = [\"Pclass\", \"Sex\", \"Fare\",\"Age\", \"SibSp\", \"Parch\"]\n",
    "\n",
    "print(test_data[\"Pclass\"].isnull().sum()) # Since this is 0, that means there is no missing values\n",
    "\n",
    "print(test_data[\"Sex\"].isnull().sum()) # Since this is 0, that means there is no missing values\n",
    "\n",
    "print(test_data[\"SibSp\"].isnull().sum()) # Since this is 0, that means there is no missing values\n",
    "\n",
    "print(test_data[\"Parch\"].isnull().sum()) # Since this is 0, that means there is no missing values\n",
    "\n",
    "print(test_data[\"Fare\"].isnull().sum()) # Since this is 1, that means there is one missing value\n",
    "\n",
    "print(test_data[\"Age\"].isnull().sum()) # Since this is 86, that means there are 86 missing values\n"
   ]
  },
  {
   "cell_type": "markdown",
   "id": "97b88429",
   "metadata": {
    "papermill": {
     "duration": 0.021636,
     "end_time": "2023-12-08T00:46:03.600893",
     "exception": false,
     "start_time": "2023-12-08T00:46:03.579257",
     "status": "completed"
    },
    "tags": []
   },
   "source": [
    "**From this, we can see that only \"Fare\" annd \"Age\" have missing values. Since \"Fare\" only has one missing value, it's not worth it to go to through all the work to do some advanced imputation technique to fill in missing values. So, I will just fill that in with the average fare value.**\n",
    "\n",
    "**For the \"Age\" feature, I will repeat the process of using an IterativeImputer and a RandomForestRegressor to imputate missing values**"
   ]
  },
  {
   "cell_type": "code",
   "execution_count": 19,
   "id": "81c825cc",
   "metadata": {
    "execution": {
     "iopub.execute_input": "2023-12-08T00:46:03.646528Z",
     "iopub.status.busy": "2023-12-08T00:46:03.646101Z",
     "iopub.status.idle": "2023-12-08T00:46:03.652516Z",
     "shell.execute_reply": "2023-12-08T00:46:03.651520Z"
    },
    "papermill": {
     "duration": 0.03171,
     "end_time": "2023-12-08T00:46:03.654523",
     "exception": false,
     "start_time": "2023-12-08T00:46:03.622813",
     "status": "completed"
    },
    "tags": []
   },
   "outputs": [
    {
     "name": "stdout",
     "output_type": "stream",
     "text": [
      "0\n"
     ]
    }
   ],
   "source": [
    "average_fare = test_data[\"Fare\"].mean()\n",
    "\n",
    "test_data[\"Fare\"].fillna(average_fare, inplace = True) # This replaces the single missing value in \"Fare\" with the average value Fare Value of the test data\n",
    "\n",
    "print(test_data[\"Fare\"].isnull().sum())"
   ]
  },
  {
   "cell_type": "code",
   "execution_count": 20,
   "id": "ee79d20f",
   "metadata": {
    "execution": {
     "iopub.execute_input": "2023-12-08T00:46:03.700839Z",
     "iopub.status.busy": "2023-12-08T00:46:03.699708Z",
     "iopub.status.idle": "2023-12-08T00:46:16.428024Z",
     "shell.execute_reply": "2023-12-08T00:46:16.427040Z"
    },
    "papermill": {
     "duration": 12.754004,
     "end_time": "2023-12-08T00:46:16.430490",
     "exception": false,
     "start_time": "2023-12-08T00:46:03.676486",
     "status": "completed"
    },
    "tags": []
   },
   "outputs": [
    {
     "name": "stdout",
     "output_type": "stream",
     "text": [
      "0\n",
      "   PassengerId  Pclass                                          Name  Sex  \\\n",
      "0          892     3.0                              Kelly, Mr. James  1.0   \n",
      "1          893     3.0              Wilkes, Mrs. James (Ellen Needs)  0.0   \n",
      "2          894     2.0                     Myles, Mr. Thomas Francis  1.0   \n",
      "3          895     3.0                              Wirz, Mr. Albert  1.0   \n",
      "4          896     3.0  Hirvonen, Mrs. Alexander (Helga E Lindqvist)  0.0   \n",
      "\n",
      "    Age  SibSp  Parch   Ticket     Fare Cabin  Embarked  \n",
      "0  34.5    0.0    0.0   330911   7.8292   NaN       1.0  \n",
      "1  47.0    1.0    0.0   363272   7.0000   NaN       2.0  \n",
      "2  62.0    0.0    0.0   240276   9.6875   NaN       1.0  \n",
      "3  27.0    0.0    0.0   315154   8.6625   NaN       2.0  \n",
      "4  22.0    1.0    1.0  3101298  12.2875   NaN       2.0  \n"
     ]
    },
    {
     "name": "stderr",
     "output_type": "stream",
     "text": [
      "/opt/conda/lib/python3.10/site-packages/sklearn/impute/_iterative.py:785: ConvergenceWarning: [IterativeImputer] Early stopping criterion not reached.\n",
      "  warnings.warn(\n"
     ]
    }
   ],
   "source": [
    "from sklearn.experimental import enable_iterative_imputer\n",
    "from sklearn.impute import IterativeImputer\n",
    "from sklearn.ensemble import RandomForestRegressor\n",
    "from sklearn.preprocessing import LabelEncoder\n",
    "\n",
    "\n",
    "#We use \"LabelEncoder\" to turn all the categorial values (values which don't use numbers) into values which the Random Forest Regressor can understand more easily. This is very similar to doing something like pd.get_dummies()\n",
    "\n",
    "label_encoders = {}\n",
    "for column in ['Sex', 'Embarked']:\n",
    "    label_encoders[column] = LabelEncoder()\n",
    "    # We use 'astype(str)' to convert any NaN values to a string representation\n",
    "    test_data[column] = label_encoders[column].fit_transform(test_data[column].astype(str))\n",
    "\n",
    "features = ['Pclass', 'Sex', 'Age', 'SibSp', 'Parch', 'Fare', 'Embarked']\n",
    "\n",
    "\n",
    "#This is an imputer. It is a function that can efficiently impute values in the way you want. For this scenario, I am using IterativeImputer() and the RandomForestRegressor(() to )\n",
    "imputer = IterativeImputer(RandomForestRegressor(n_estimators=10), max_iter=100, random_state=42)\n",
    "\n",
    "\n",
    "# Fit the imputer on the DataFrame with the features\n",
    "imputer.fit(test_data[features]) #When IterativeImputer is used alongside an ML model like RandomForestRegressor, calling .fit() on the IterativeImputer() object will also fit (train) the ML model\n",
    "\n",
    "\n",
    "# Perform the imputation on the Test Data. THIS WILL ACTUAL IMPUTE ANY MISSING VALUES IN EACH ROW, not only the missing values in Age.\n",
    "test_data_imputed = imputer.transform(test_data[features])\n",
    "\n",
    "\n",
    "# Convert the output back to a DataFrame\n",
    "test_data_imputed = pd.DataFrame(test_data_imputed, columns=features)\n",
    "\n",
    "# Update the original DataFrame with the imputed values. This means that the columns of the original test_data dataframe that weren't part of the features (like \"Name\" isn't apart of the features list)\n",
    "test_data[features] = test_data_imputed\n",
    "\n",
    "print(test_data[\"Age\"].isnull().sum()) # Since this prints 0, we now know that there are 0 missing values in the age column and so the imputation was successful \n",
    "\n",
    "print(test_data.head())"
   ]
  },
  {
   "cell_type": "markdown",
   "id": "2b3b7dca",
   "metadata": {
    "papermill": {
     "duration": 0.022675,
     "end_time": "2023-12-08T00:46:16.475706",
     "exception": false,
     "start_time": "2023-12-08T00:46:16.453031",
     "status": "completed"
    },
    "tags": []
   },
   "source": [
    "**The code above will imputate all the missing values in the test_data**"
   ]
  },
  {
   "cell_type": "markdown",
   "id": "bff15286",
   "metadata": {
    "papermill": {
     "duration": 0.022901,
     "end_time": "2023-12-08T00:46:16.521951",
     "exception": false,
     "start_time": "2023-12-08T00:46:16.499050",
     "status": "completed"
    },
    "tags": []
   },
   "source": [
    "# Finalize the cleaning of the data and make it so test_data only has the features we want"
   ]
  },
  {
   "cell_type": "code",
   "execution_count": 21,
   "id": "8597c5f6",
   "metadata": {
    "execution": {
     "iopub.execute_input": "2023-12-08T00:46:16.568796Z",
     "iopub.status.busy": "2023-12-08T00:46:16.568381Z",
     "iopub.status.idle": "2023-12-08T00:46:16.583306Z",
     "shell.execute_reply": "2023-12-08T00:46:16.582066Z"
    },
    "papermill": {
     "duration": 0.042665,
     "end_time": "2023-12-08T00:46:16.586778",
     "exception": false,
     "start_time": "2023-12-08T00:46:16.544113",
     "status": "completed"
    },
    "tags": []
   },
   "outputs": [
    {
     "name": "stdout",
     "output_type": "stream",
     "text": [
      "152\n",
      "266\n",
      "   Pclass     Sex     Fare   Age  SibSp  Parch\n",
      "0     3.0    male   7.8292  34.5    0.0    0.0\n",
      "1     3.0  female   7.0000  47.0    1.0    0.0\n",
      "2     2.0    male   9.6875  62.0    0.0    0.0\n",
      "3     3.0    male   8.6625  27.0    0.0    0.0\n",
      "4     3.0  female  12.2875  22.0    1.0    1.0\n",
      "266\n"
     ]
    }
   ],
   "source": [
    "features = [\"Pclass\", \"Sex\", \"Fare\",\"Age\", \"SibSp\", \"Parch\"]\n",
    "\n",
    "test_data = test_data[features]\n",
    "\n",
    "print((test_data[\"Sex\"] == 0).sum())\n",
    "print((test_data[\"Sex\"] == 1).sum())\n",
    "\n",
    "# Since the dataset is 65% male, we can see from printing out the number of people with \"sex equal to 0\" and \"sex equal to 1\" that the LabelEncoder made Male into \"1\" and Female into \"0\". Now, let's change it back to \"male\" and \"female\".\n",
    "\n",
    "test_data['Sex'] = test_data['Sex'].map({0: 'female', 1: 'male'})\n",
    "\n",
    "print(test_data.head(5))\n",
    "\n",
    "print((test_data[\"Sex\"] == \"male\").sum())"
   ]
  },
  {
   "cell_type": "markdown",
   "id": "a9f543a2",
   "metadata": {
    "papermill": {
     "duration": 0.022724,
     "end_time": "2023-12-08T00:46:16.632400",
     "exception": false,
     "start_time": "2023-12-08T00:46:16.609676",
     "status": "completed"
    },
    "tags": []
   },
   "source": [
    "# Now, after cleaning up the data, I can split up the data into train_validation_test "
   ]
  },
  {
   "cell_type": "code",
   "execution_count": 22,
   "id": "57dd7dec",
   "metadata": {
    "execution": {
     "iopub.execute_input": "2023-12-08T00:46:16.679175Z",
     "iopub.status.busy": "2023-12-08T00:46:16.678418Z",
     "iopub.status.idle": "2023-12-08T00:46:16.687151Z",
     "shell.execute_reply": "2023-12-08T00:46:16.686410Z"
    },
    "papermill": {
     "duration": 0.034574,
     "end_time": "2023-12-08T00:46:16.689222",
     "exception": false,
     "start_time": "2023-12-08T00:46:16.654648",
     "status": "completed"
    },
    "tags": []
   },
   "outputs": [],
   "source": [
    "from sklearn.model_selection import train_test_split\n",
    "\n",
    "Y_train = train_data[\"Survived\"]\n",
    "\n",
    "# First, split into training (60%) and a test set (40%)\n",
    "train_X, test_X, train_Y, test_Y = train_test_split(X_train, Y_train, test_size=0.4, random_state = 42)\n",
    "\n",
    "#Second, split test set into a validation (20%) and test set (20%)\n",
    "valid_X, test_X, valid_Y, test_Y= train_test_split(test_X, test_Y, test_size = 0.5, random_state = 42)"
   ]
  },
  {
   "cell_type": "markdown",
   "id": "47b09bd2",
   "metadata": {
    "papermill": {
     "duration": 0.021959,
     "end_time": "2023-12-08T00:46:16.733514",
     "exception": false,
     "start_time": "2023-12-08T00:46:16.711555",
     "status": "completed"
    },
    "tags": []
   },
   "source": [
    "# Using pd.get_dummies() on all the data"
   ]
  },
  {
   "cell_type": "markdown",
   "id": "59ec2ea2",
   "metadata": {
    "papermill": {
     "duration": 0.022378,
     "end_time": "2023-12-08T00:46:16.778026",
     "exception": false,
     "start_time": "2023-12-08T00:46:16.755648",
     "status": "completed"
    },
    "tags": []
   },
   "source": [
    "**Setting up the Test data (from Test.csv) (This is NOT the test data from the Train_validation_test split):**"
   ]
  },
  {
   "cell_type": "code",
   "execution_count": 23,
   "id": "8417a109",
   "metadata": {
    "execution": {
     "iopub.execute_input": "2023-12-08T00:46:16.824960Z",
     "iopub.status.busy": "2023-12-08T00:46:16.824212Z",
     "iopub.status.idle": "2023-12-08T00:46:16.837597Z",
     "shell.execute_reply": "2023-12-08T00:46:16.836537Z"
    },
    "papermill": {
     "duration": 0.039415,
     "end_time": "2023-12-08T00:46:16.839769",
     "exception": false,
     "start_time": "2023-12-08T00:46:16.800354",
     "status": "completed"
    },
    "tags": []
   },
   "outputs": [
    {
     "name": "stdout",
     "output_type": "stream",
     "text": [
      "   Pclass     Fare   Age  SibSp  Parch  Sex_female  Sex_male\n",
      "0     3.0   7.8292  34.5    0.0    0.0       False      True\n",
      "1     3.0   7.0000  47.0    1.0    0.0        True     False\n",
      "2     2.0   9.6875  62.0    0.0    0.0       False      True\n",
      "3     3.0   8.6625  27.0    0.0    0.0       False      True\n",
      "4     3.0  12.2875  22.0    1.0    1.0        True     False\n"
     ]
    }
   ],
   "source": [
    "test_data = test_data #the \"test_data\" variable here is after we cleaned up the test_data \n",
    "\n",
    "features = [\"Pclass\", \"Sex\", \"Fare\",\"Age\", \"SibSp\", \"Parch\"]\n",
    "\n",
    "test_data = test_data[features]\n",
    "\n",
    "test_data = pd.get_dummies(test_data)\n",
    "print(test_data.head())"
   ]
  },
  {
   "cell_type": "markdown",
   "id": "bd71185d",
   "metadata": {
    "papermill": {
     "duration": 0.022562,
     "end_time": "2023-12-08T00:46:16.884569",
     "exception": false,
     "start_time": "2023-12-08T00:46:16.862007",
     "status": "completed"
    },
    "tags": []
   },
   "source": [
    "**Setting up the Train data and Validation data and the Test data from the train_validation_test split:**"
   ]
  },
  {
   "cell_type": "code",
   "execution_count": 24,
   "id": "824ba0d3",
   "metadata": {
    "execution": {
     "iopub.execute_input": "2023-12-08T00:46:16.932915Z",
     "iopub.status.busy": "2023-12-08T00:46:16.932545Z",
     "iopub.status.idle": "2023-12-08T00:46:16.955904Z",
     "shell.execute_reply": "2023-12-08T00:46:16.954443Z"
    },
    "papermill": {
     "duration": 0.050089,
     "end_time": "2023-12-08T00:46:16.958064",
     "exception": false,
     "start_time": "2023-12-08T00:46:16.907975",
     "status": "completed"
    },
    "tags": []
   },
   "outputs": [
    {
     "name": "stdout",
     "output_type": "stream",
     "text": [
      "     Pclass     Fare   Age  SibSp  Parch  Sex_female  Sex_male\n",
      "570     2.0  10.5000  62.0    0.0    0.0       False      True\n",
      "787     3.0  29.1250   8.0    4.0    1.0       False      True\n",
      "74      3.0  56.4958  32.0    0.0    0.0       False      True\n",
      "113     3.0   9.8250  20.0    1.0    0.0        True     False\n",
      "635     2.0  13.0000  28.0    0.0    0.0        True     False\n",
      "     Pclass     Fare   Age  SibSp  Parch  Sex_female  Sex_male\n",
      "849     1.0  89.1042  37.1    1.0    0.0        True     False\n",
      "331     1.0  28.5000  45.5    0.0    0.0       False      True\n",
      "260     3.0   7.7500  46.6    0.0    0.0       False      True\n",
      "316     2.0  26.0000  24.0    1.0    0.0        True     False\n",
      "292     2.0  12.8750  36.0    0.0    0.0       False      True\n",
      "     Pclass     Fare        Age  SibSp  Parch  Sex_female  Sex_male\n",
      "424     3.0  20.2125  18.000000    1.0    1.0       False      True\n",
      "837     3.0   8.0500  31.438093    0.0    0.0       False      True\n",
      "525     3.0   7.7500  40.500000    0.0    0.0       False      True\n",
      "328     3.0  20.5250  31.000000    1.0    1.0        True     False\n",
      "70      2.0  10.5000  32.000000    0.0    0.0       False      True\n"
     ]
    }
   ],
   "source": [
    "train_X = pd.get_dummies(train_X)\n",
    "print(train_X.head())\n",
    "\n",
    "valid_X = pd.get_dummies(valid_X)\n",
    "print(valid_X.head())\n",
    "\n",
    "test_X = pd.get_dummies(test_X)\n",
    "print(test_X.head())"
   ]
  },
  {
   "cell_type": "markdown",
   "id": "cd493695",
   "metadata": {
    "papermill": {
     "duration": 0.022249,
     "end_time": "2023-12-08T00:46:17.003520",
     "exception": false,
     "start_time": "2023-12-08T00:46:16.981271",
     "status": "completed"
    },
    "tags": []
   },
   "source": [
    "# Making the model, training it using train_X and changing the model based on valid_X"
   ]
  },
  {
   "cell_type": "code",
   "execution_count": 25,
   "id": "3b83a8c1",
   "metadata": {
    "execution": {
     "iopub.execute_input": "2023-12-08T00:46:17.051312Z",
     "iopub.status.busy": "2023-12-08T00:46:17.050420Z",
     "iopub.status.idle": "2023-12-08T00:46:17.057895Z",
     "shell.execute_reply": "2023-12-08T00:46:17.056555Z"
    },
    "papermill": {
     "duration": 0.03421,
     "end_time": "2023-12-08T00:46:17.060340",
     "exception": false,
     "start_time": "2023-12-08T00:46:17.026130",
     "status": "completed"
    },
    "tags": []
   },
   "outputs": [],
   "source": [
    "from sklearn.neural_network import MLPClassifier\n",
    "from sklearn.metrics import accuracy_score\n",
    "\n",
    "# Commented out the code so that the model won't run everytime\n",
    "\n",
    "# model = MLPClassifier(hidden_layer_sizes = (20, 11), activation = \"relu\", solver = \"lbfgs\", max_iter = 1000, random_state = 42)\n",
    "\n",
    "# model.fit(train_X, train_Y)\n",
    "\n",
    "# y_pred = model.predict(valid_X)\n",
    "\n",
    "# print(f\"Accuracy: {accuracy_score(valid_Y, y_pred)}\")"
   ]
  },
  {
   "cell_type": "markdown",
   "id": "168fdd7a",
   "metadata": {
    "papermill": {
     "duration": 0.02251,
     "end_time": "2023-12-08T00:46:17.105942",
     "exception": false,
     "start_time": "2023-12-08T00:46:17.083432",
     "status": "completed"
    },
    "tags": []
   },
   "source": [
    "**From the code above, you can see that I am using the validation set to test out the code**"
   ]
  },
  {
   "cell_type": "code",
   "execution_count": 26,
   "id": "95980f34",
   "metadata": {
    "execution": {
     "iopub.execute_input": "2023-12-08T00:46:17.153756Z",
     "iopub.status.busy": "2023-12-08T00:46:17.153344Z",
     "iopub.status.idle": "2023-12-08T00:46:17.157411Z",
     "shell.execute_reply": "2023-12-08T00:46:17.156352Z"
    },
    "papermill": {
     "duration": 0.030639,
     "end_time": "2023-12-08T00:46:17.159618",
     "exception": false,
     "start_time": "2023-12-08T00:46:17.128979",
     "status": "completed"
    },
    "tags": []
   },
   "outputs": [],
   "source": [
    "# Commented out the code so that the model won't run everytime\n",
    "\n",
    "# y_pred = model.predict(test_X)\n",
    "\n",
    "# print(f\"Accuracy: {accuracy_score(test_Y, y_pred)}\")"
   ]
  },
  {
   "cell_type": "markdown",
   "id": "81c3c2b1",
   "metadata": {
    "papermill": {
     "duration": 0.022319,
     "end_time": "2023-12-08T00:46:17.204904",
     "exception": false,
     "start_time": "2023-12-08T00:46:17.182585",
     "status": "completed"
    },
    "tags": []
   },
   "source": [
    "# Using GridSearchCV to find the best parameters for my MLPClassifier Model"
   ]
  },
  {
   "cell_type": "markdown",
   "id": "556540b6",
   "metadata": {
    "papermill": {
     "duration": 0.022681,
     "end_time": "2023-12-08T00:46:17.251711",
     "exception": false,
     "start_time": "2023-12-08T00:46:17.229030",
     "status": "completed"
    },
    "tags": []
   },
   "source": [
    "**The \"parameter space\" are all the different components and possible values which I want to try for my model**"
   ]
  },
  {
   "cell_type": "code",
   "execution_count": 27,
   "id": "7ad503fd",
   "metadata": {
    "execution": {
     "iopub.execute_input": "2023-12-08T00:46:17.300021Z",
     "iopub.status.busy": "2023-12-08T00:46:17.299641Z",
     "iopub.status.idle": "2023-12-08T00:46:17.308040Z",
     "shell.execute_reply": "2023-12-08T00:46:17.306862Z"
    },
    "papermill": {
     "duration": 0.034917,
     "end_time": "2023-12-08T00:46:17.310109",
     "exception": false,
     "start_time": "2023-12-08T00:46:17.275192",
     "status": "completed"
    },
    "tags": []
   },
   "outputs": [],
   "source": [
    "# %%capture --no-stderr\n",
    "\n",
    "# # Code that causes warnings\n",
    "# import warnings\n",
    "# from sklearn.exceptions import ConvergenceWarning\n",
    "\n",
    "# # Suppress ConvergenceWarning\n",
    "# warnings.filterwarnings(\"ignore\", category=ConvergenceWarning)\n",
    "# warnings.filterwarnings('ignore')\n",
    "\n",
    "from sklearn.model_selection import GridSearchCV\n",
    "from sklearn.neural_network import MLPClassifier\n",
    "\n",
    "training_X = pd.concat([train_X, valid_X, test_X], ignore_index=True)\n",
    "training_Y = pd.concat([train_Y, valid_Y, test_Y], ignore_index=True)\n",
    "\n",
    "possible_hidden_layers = []\n",
    "\n",
    "for i in range(8,16):\n",
    "    for j in range(8,16):\n",
    "        possible_hidden_layers.append((i, j))\n",
    "\n",
    "parameter_space = {\n",
    "    'hidden_layer_sizes': possible_hidden_layers,\n",
    "    'activation': ['tanh', 'relu'],\n",
    "    'solver': ['sgd', 'adam', \"lbfgs\"],\n",
    "    'alpha': [0.0001, 0.05],\n",
    "    'learning_rate': ['constant','adaptive'],\n",
    "}\n",
    "\n",
    "# mlp = MLPClassifier(max_iter=1000, random_state = 42)\n",
    "\n",
    "# clf = GridSearchCV(mlp, parameter_space, n_jobs=-1, cv=3)\n",
    "\n",
    "# clf.fit(training_X, training_Y)\n",
    "\n",
    "# print('Best parameters found:\\n', clf.best_params_)\n",
    "\n",
    "# print('Best score (CV mean):', clf.best_score_)\n",
    "\n",
    "# print(\"Done\")\n",
    "\n"
   ]
  },
  {
   "cell_type": "markdown",
   "id": "91b11336",
   "metadata": {
    "papermill": {
     "duration": 0.022808,
     "end_time": "2023-12-08T00:46:17.356001",
     "exception": false,
     "start_time": "2023-12-08T00:46:17.333193",
     "status": "completed"
    },
    "tags": []
   },
   "source": [
    "# Now that I found the best hyperparameters, I can finalize my model"
   ]
  },
  {
   "cell_type": "markdown",
   "id": "9d23697c",
   "metadata": {
    "papermill": {
     "duration": 0.022645,
     "end_time": "2023-12-08T00:46:17.401943",
     "exception": false,
     "start_time": "2023-12-08T00:46:17.379298",
     "status": "completed"
    },
    "tags": []
   },
   "source": [
    "**Test using validation set:**"
   ]
  },
  {
   "cell_type": "code",
   "execution_count": 28,
   "id": "748165bb",
   "metadata": {
    "execution": {
     "iopub.execute_input": "2023-12-08T00:46:17.449642Z",
     "iopub.status.busy": "2023-12-08T00:46:17.448937Z",
     "iopub.status.idle": "2023-12-08T00:46:17.453951Z",
     "shell.execute_reply": "2023-12-08T00:46:17.452737Z"
    },
    "papermill": {
     "duration": 0.031351,
     "end_time": "2023-12-08T00:46:17.456107",
     "exception": false,
     "start_time": "2023-12-08T00:46:17.424756",
     "status": "completed"
    },
    "tags": []
   },
   "outputs": [],
   "source": [
    "# Best parameters: {'activation': 'tanh', 'alpha': 0.05, 'hidden_layer_sizes': (13, 15), 'learning_rate': 'constant', 'solver': 'lbfgs'}\n",
    "# Best score (CV mean): 0.8282828282828283\n",
    "\n",
    "\n",
    "from sklearn.neural_network import MLPClassifier\n",
    "from sklearn.metrics import accuracy_score\n",
    "\n",
    "# Commented out the code so that the model won't run everytime\n",
    "\n",
    "# model = MLPClassifier(activation = \"tanh\", alpha = 0.05, hidden_layer_sizes = (13, 15), learning_rate = \"constant\", solver = \"lbfgs\", max_iter=5000, random_state = 42)\n",
    "\n",
    "# #model = MLPClassifier(activation = \"relu\", hidden_layer_sizes = (20, 11), solver = \"lbfgs\",  max_iter=2000, random_state = 42)\n",
    "\n",
    "# model.fit(train_X, train_Y)\n",
    "\n",
    "# y_pred = model.predict(valid_X)\n",
    "\n",
    "# print(f\"Accuracy: {accuracy_score(valid_Y, y_pred)}\")"
   ]
  },
  {
   "cell_type": "markdown",
   "id": "45b0037b",
   "metadata": {
    "papermill": {
     "duration": 0.023117,
     "end_time": "2023-12-08T00:46:17.501932",
     "exception": false,
     "start_time": "2023-12-08T00:46:17.478815",
     "status": "completed"
    },
    "tags": []
   },
   "source": [
    "**Test using test set (from Train-validation-test split)**"
   ]
  },
  {
   "cell_type": "code",
   "execution_count": 29,
   "id": "33c7e3d8",
   "metadata": {
    "execution": {
     "iopub.execute_input": "2023-12-08T00:46:17.549794Z",
     "iopub.status.busy": "2023-12-08T00:46:17.549363Z",
     "iopub.status.idle": "2023-12-08T00:46:17.553715Z",
     "shell.execute_reply": "2023-12-08T00:46:17.552544Z"
    },
    "papermill": {
     "duration": 0.030775,
     "end_time": "2023-12-08T00:46:17.555732",
     "exception": false,
     "start_time": "2023-12-08T00:46:17.524957",
     "status": "completed"
    },
    "tags": []
   },
   "outputs": [],
   "source": [
    "# Commented out the code so that the model won't run everytime\n",
    "\n",
    "# y_pred = model.predict(test_X)\n",
    "\n",
    "# print(f\"Accuracy: {accuracy_score(test_Y, y_pred)}\")"
   ]
  },
  {
   "cell_type": "markdown",
   "id": "7c7f7097",
   "metadata": {
    "papermill": {
     "duration": 0.022982,
     "end_time": "2023-12-08T00:46:17.601596",
     "exception": false,
     "start_time": "2023-12-08T00:46:17.578614",
     "status": "completed"
    },
    "tags": []
   },
   "source": [
    "# Submitting Model 3"
   ]
  },
  {
   "cell_type": "code",
   "execution_count": 30,
   "id": "90a08a11",
   "metadata": {
    "execution": {
     "iopub.execute_input": "2023-12-08T00:46:17.648122Z",
     "iopub.status.busy": "2023-12-08T00:46:17.647718Z",
     "iopub.status.idle": "2023-12-08T00:46:17.652466Z",
     "shell.execute_reply": "2023-12-08T00:46:17.651446Z"
    },
    "papermill": {
     "duration": 0.030569,
     "end_time": "2023-12-08T00:46:17.654661",
     "exception": false,
     "start_time": "2023-12-08T00:46:17.624092",
     "status": "completed"
    },
    "tags": []
   },
   "outputs": [],
   "source": [
    "# Commented out the code so that the model won't run everytime\n",
    "\n",
    "# full_X = pd.get_dummies(X_train)\n",
    "\n",
    "# full_Y = Y_train\n",
    "\n",
    "# #We end up using the WHOLE training dataset (all of train.csv) to fit (train) our model right before submission since this gives our model the most amount of data to train on\n",
    "# model.fit(full_X, full_Y)\n",
    "\n",
    "\n",
    "# predictions3 = model.predict(test_data)"
   ]
  },
  {
   "cell_type": "code",
   "execution_count": 31,
   "id": "f5df0d4a",
   "metadata": {
    "execution": {
     "iopub.execute_input": "2023-12-08T00:46:17.702092Z",
     "iopub.status.busy": "2023-12-08T00:46:17.701665Z",
     "iopub.status.idle": "2023-12-08T00:46:17.712778Z",
     "shell.execute_reply": "2023-12-08T00:46:17.711937Z"
    },
    "papermill": {
     "duration": 0.037028,
     "end_time": "2023-12-08T00:46:17.714740",
     "exception": false,
     "start_time": "2023-12-08T00:46:17.677712",
     "status": "completed"
    },
    "tags": []
   },
   "outputs": [],
   "source": [
    "original_test = pd.read_csv(\"/kaggle/input/titanic/test.csv\")\n",
    "\n",
    "pass_id = original_test['PassengerId']\n",
    "\n",
    "# original_test = original_test.drop('PassengerId', axis=1)\n",
    "# original_test = pd.get_dummies(original_test[features])\n",
    "\n",
    "test_data[\"PassengerId\"] = pass_id\n",
    "\n",
    "# Commented out the code so that the model won't run everytime\n",
    "\n",
    "# predictions3 = predictions3.astype(int)\n",
    "\n",
    "#print(predictions3)\n",
    "\n",
    "# output = pd.DataFrame({'PassengerId': test_data.PassengerId, 'Survived': predictions3})\n",
    "# output.to_csv('submission.csv', index=False)\n",
    "# print(\"Your submission was successfully saved!\")\n",
    "\n",
    "# test_data = test_data.drop(\"PassengerId\", axis = 1) # WE make sure to drop the PassengerId column since we are continuing to use the test_data variable in future tests and we don't want PassengerId to be apart of it until we submit the model again"
   ]
  },
  {
   "cell_type": "markdown",
   "id": "6b7526e1",
   "metadata": {
    "papermill": {
     "duration": 0.02212,
     "end_time": "2023-12-08T00:46:17.759607",
     "exception": false,
     "start_time": "2023-12-08T00:46:17.737487",
     "status": "completed"
    },
    "tags": []
   },
   "source": [
    "# Changing the model solver from \"lbfgs\" to \"adam\""
   ]
  },
  {
   "cell_type": "code",
   "execution_count": 32,
   "id": "03fa4ac2",
   "metadata": {
    "execution": {
     "iopub.execute_input": "2023-12-08T00:46:17.806767Z",
     "iopub.status.busy": "2023-12-08T00:46:17.805791Z",
     "iopub.status.idle": "2023-12-08T00:46:17.810853Z",
     "shell.execute_reply": "2023-12-08T00:46:17.809911Z"
    },
    "papermill": {
     "duration": 0.03095,
     "end_time": "2023-12-08T00:46:17.812890",
     "exception": false,
     "start_time": "2023-12-08T00:46:17.781940",
     "status": "completed"
    },
    "tags": []
   },
   "outputs": [],
   "source": [
    "model = MLPClassifier(activation = \"tanh\", alpha = 0.05, hidden_layer_sizes = (13, 15), learning_rate = \"constant\", solver = \"adam\", max_iter=5000, random_state = 42)\n",
    "# Try changing it back to lbfgs after normalization since maybe it converges faster now after normalization\n",
    "#Also, with normalization, you can increase the learning_rate with less risk of divergence which is good\n"
   ]
  },
  {
   "cell_type": "markdown",
   "id": "c80845fc",
   "metadata": {
    "papermill": {
     "duration": 0.022293,
     "end_time": "2023-12-08T00:46:17.857660",
     "exception": false,
     "start_time": "2023-12-08T00:46:17.835367",
     "status": "completed"
    },
    "tags": []
   },
   "source": [
    "**I made this change because it said that lbfgs was not converging so I tried changing to a differnet solver and adam seemed to converge. But also, I am going to normalize my data which should make the training of my data converge faster. So, I might also go back to lbfgs to see if it converges now**"
   ]
  },
  {
   "cell_type": "markdown",
   "id": "0788f5ad",
   "metadata": {
    "papermill": {
     "duration": 0.022205,
     "end_time": "2023-12-08T00:46:17.902675",
     "exception": false,
     "start_time": "2023-12-08T00:46:17.880470",
     "status": "completed"
    },
    "tags": []
   },
   "source": [
    "# Feature Engineering: Putting more weight onto specific features (like Gender and Age)"
   ]
  },
  {
   "cell_type": "markdown",
   "id": "485fc317",
   "metadata": {
    "papermill": {
     "duration": 0.022565,
     "end_time": "2023-12-08T00:46:17.947772",
     "exception": false,
     "start_time": "2023-12-08T00:46:17.925207",
     "status": "completed"
    },
    "tags": []
   },
   "source": [
    "**We know from history that Women and Children were more likely to survive so it makes more sense to put more weight into those features. In other words, we should penalize a person more if they are not a Women or Child and therefore make it less likely for them to survive**"
   ]
  },
  {
   "cell_type": "code",
   "execution_count": 33,
   "id": "aeac1ff4",
   "metadata": {
    "execution": {
     "iopub.execute_input": "2023-12-08T00:46:17.994784Z",
     "iopub.status.busy": "2023-12-08T00:46:17.994074Z",
     "iopub.status.idle": "2023-12-08T00:46:18.036120Z",
     "shell.execute_reply": "2023-12-08T00:46:18.034484Z"
    },
    "papermill": {
     "duration": 0.068316,
     "end_time": "2023-12-08T00:46:18.038485",
     "exception": false,
     "start_time": "2023-12-08T00:46:17.970169",
     "status": "completed"
    },
    "tags": []
   },
   "outputs": [
    {
     "name": "stdout",
     "output_type": "stream",
     "text": [
      "     Pclass      Fare   Age  SibSp  Parch  Sex_female  Sex_male\n",
      "570     2.0   10.5000  62.0    0.0    0.0       False      True\n",
      "787     3.0   29.1250   8.0    4.0    1.0       False      True\n",
      "74      3.0   56.4958  32.0    0.0    0.0       False      True\n",
      "113     3.0    9.8250  20.0    1.0    0.0        True     False\n",
      "635     2.0   13.0000  28.0    0.0    0.0        True     False\n",
      "..      ...       ...   ...    ...    ...         ...       ...\n",
      "106     3.0    7.6500  21.0    0.0    0.0        True     False\n",
      "270     1.0   31.0000  44.8    0.0    0.0       False      True\n",
      "860     3.0   14.1083  41.0    2.0    0.0       False      True\n",
      "435     1.0  120.0000  14.0    1.0    2.0        True     False\n",
      "102     1.0   77.2875  21.0    0.0    1.0       False      True\n",
      "\n",
      "[534 rows x 7 columns]\n",
      "     Pclass      Fare   Age  SibSp  Parch  Sex_female  Sex_male  \\\n",
      "570     2.0   10.5000  62.0    0.0    0.0       False      True   \n",
      "787     3.0   29.1250   8.0    4.0    1.0       False      True   \n",
      "74      3.0   56.4958  32.0    0.0    0.0       False      True   \n",
      "113     3.0    9.8250  20.0    1.0    0.0        True     False   \n",
      "635     2.0   13.0000  28.0    0.0    0.0        True     False   \n",
      "..      ...       ...   ...    ...    ...         ...       ...   \n",
      "106     3.0    7.6500  21.0    0.0    0.0        True     False   \n",
      "270     1.0   31.0000  44.8    0.0    0.0       False      True   \n",
      "860     3.0   14.1083  41.0    2.0    0.0       False      True   \n",
      "435     1.0  120.0000  14.0    1.0    2.0        True     False   \n",
      "102     1.0   77.2875  21.0    0.0    1.0       False      True   \n",
      "\n",
      "     FemaleFirstClass  ChildFirstClass  IsChild  FamilySize  IsAlone  \n",
      "570                 0                0        0         1.0        1  \n",
      "787                 0                0        1         6.0        0  \n",
      "74                  0                0        0         1.0        1  \n",
      "113                 0                0        0         2.0        0  \n",
      "635                 0                0        0         1.0        1  \n",
      "..                ...              ...      ...         ...      ...  \n",
      "106                 0                0        0         1.0        1  \n",
      "270                 0                0        0         1.0        1  \n",
      "860                 0                0        0         3.0        0  \n",
      "435                 1                1        1         4.0        0  \n",
      "102                 0                0        0         2.0        0  \n",
      "\n",
      "[534 rows x 12 columns]\n"
     ]
    }
   ],
   "source": [
    "print(train_X)\n",
    "\n",
    "train_X['FemaleFirstClass'] = ((train_X['Sex_female'] == True) & (train_X['Pclass'] == 1)).astype(int)\n",
    "train_X['ChildFirstClass'] = ((train_X['Age'] < 18) & (train_X['Pclass'] == 1)).astype(int) \n",
    "\n",
    "\n",
    "valid_X['FemaleFirstClass'] = ((valid_X['Sex_female'] == True) & (valid_X['Pclass'] == 1)).astype(int)\n",
    "valid_X['ChildFirstClass'] = ((valid_X['Age'] < 18) & (valid_X['Pclass'] == 1)).astype(int) \n",
    "\n",
    "\n",
    "test_X['FemaleFirstClass'] = ((test_X['Sex_female'] == True) & (test_X['Pclass'] == 1)).astype(int)\n",
    "test_X['ChildFirstClass'] = ((test_X['Age'] < 18) & (test_X['Pclass'] == 1)).astype(int) \n",
    "\n",
    "\n",
    "test_data['FemaleFirstClass'] = ((test_data['Sex_female'] == True) & (test_data['Pclass'] == 1)).astype(int)\n",
    "test_data['ChildFirstClass'] = ((test_data['Age'] < 18) & (test_data['Pclass'] == 1)).astype(int) \n",
    "\n",
    "\n",
    "# Bin 'Age' into categories\n",
    "train_X['IsChild'] = (train_X['Age'] < 18).astype(int)\n",
    "valid_X['IsChild'] = (valid_X['Age'] < 18).astype(int)\n",
    "test_X['IsChild'] = (test_X['Age'] < 18).astype(int)\n",
    "test_data['IsChild'] = (test_data['Age'] < 18).astype(int)\n",
    "\n",
    "\n",
    "# Create FamilySize and IsAlone\n",
    "train_X['FamilySize'] = train_X['SibSp'] + train_X['Parch'] + 1\n",
    "valid_X['FamilySize'] = valid_X['SibSp'] + valid_X['Parch'] + 1\n",
    "test_X['FamilySize'] = test_X['SibSp'] + test_X['Parch'] + 1\n",
    "test_data['FamilySize'] = test_data['SibSp'] + test_data['Parch'] + 1\n",
    "\n",
    "\n",
    "train_X['IsAlone'] = (train_X['FamilySize'] == 1).astype(int)\n",
    "valid_X['IsAlone'] = (valid_X['FamilySize'] == 1).astype(int)\n",
    "test_X['IsAlone'] = (test_X['FamilySize'] == 1).astype(int)\n",
    "test_data['IsAlone'] = (test_data['FamilySize'] == 1).astype(int)\n",
    "\n",
    "\n",
    "print(train_X)"
   ]
  },
  {
   "cell_type": "markdown",
   "id": "6ab951d5",
   "metadata": {
    "papermill": {
     "duration": 0.022395,
     "end_time": "2023-12-08T00:46:18.083709",
     "exception": false,
     "start_time": "2023-12-08T00:46:18.061314",
     "status": "completed"
    },
    "tags": []
   },
   "source": [
    "# Normalizing all the data"
   ]
  },
  {
   "cell_type": "markdown",
   "id": "a4b690fe",
   "metadata": {
    "papermill": {
     "duration": 0.02198,
     "end_time": "2023-12-08T00:46:18.128340",
     "exception": false,
     "start_time": "2023-12-08T00:46:18.106360",
     "status": "completed"
    },
    "tags": []
   },
   "source": [
    "**Creating the Normalizing Scaler**"
   ]
  },
  {
   "cell_type": "code",
   "execution_count": 34,
   "id": "192f2d55",
   "metadata": {
    "execution": {
     "iopub.execute_input": "2023-12-08T00:46:18.175387Z",
     "iopub.status.busy": "2023-12-08T00:46:18.175001Z",
     "iopub.status.idle": "2023-12-08T00:46:18.192863Z",
     "shell.execute_reply": "2023-12-08T00:46:18.191022Z"
    },
    "papermill": {
     "duration": 0.043808,
     "end_time": "2023-12-08T00:46:18.195013",
     "exception": false,
     "start_time": "2023-12-08T00:46:18.151205",
     "status": "completed"
    },
    "tags": []
   },
   "outputs": [
    {
     "name": "stdout",
     "output_type": "stream",
     "text": [
      "     Pclass      Fare   Age  SibSp  Parch  Sex_female  Sex_male  \\\n",
      "570     2.0   10.5000  62.0    0.0    0.0       False      True   \n",
      "787     3.0   29.1250   8.0    4.0    1.0       False      True   \n",
      "74      3.0   56.4958  32.0    0.0    0.0       False      True   \n",
      "113     3.0    9.8250  20.0    1.0    0.0        True     False   \n",
      "635     2.0   13.0000  28.0    0.0    0.0        True     False   \n",
      "..      ...       ...   ...    ...    ...         ...       ...   \n",
      "106     3.0    7.6500  21.0    0.0    0.0        True     False   \n",
      "270     1.0   31.0000  44.8    0.0    0.0       False      True   \n",
      "860     3.0   14.1083  41.0    2.0    0.0       False      True   \n",
      "435     1.0  120.0000  14.0    1.0    2.0        True     False   \n",
      "102     1.0   77.2875  21.0    0.0    1.0       False      True   \n",
      "\n",
      "     FemaleFirstClass  ChildFirstClass  IsChild  FamilySize  IsAlone  \n",
      "570                 0                0        0         1.0        1  \n",
      "787                 0                0        1         6.0        0  \n",
      "74                  0                0        0         1.0        1  \n",
      "113                 0                0        0         2.0        0  \n",
      "635                 0                0        0         1.0        1  \n",
      "..                ...              ...      ...         ...      ...  \n",
      "106                 0                0        0         1.0        1  \n",
      "270                 0                0        0         1.0        1  \n",
      "860                 0                0        0         3.0        0  \n",
      "435                 1                1        1         4.0        0  \n",
      "102                 0                0        0         2.0        0  \n",
      "\n",
      "[534 rows x 12 columns]\n"
     ]
    }
   ],
   "source": [
    "from sklearn.preprocessing import MinMaxScaler\n",
    "\n",
    "# Initialize the MinMaxScaler\n",
    "scaler = MinMaxScaler()\n",
    "\n",
    "# Select columns you want to normalize\n",
    "columns_to_normalize = [\"Pclass\", \"Fare\",\"Age\", \"SibSp\"]\n",
    "\n",
    "scaler.fit(train_X[columns_to_normalize]) #it is important to fit the scaler on the training data (from the train-validation-test split) only\n",
    "\n",
    "print(train_X)"
   ]
  },
  {
   "cell_type": "markdown",
   "id": "ff74997b",
   "metadata": {
    "papermill": {
     "duration": 0.022944,
     "end_time": "2023-12-08T00:46:18.240938",
     "exception": false,
     "start_time": "2023-12-08T00:46:18.217994",
     "status": "completed"
    },
    "tags": []
   },
   "source": [
    "**It is very important to only fit the scaler on the training data from the train-validation-test split and not the training data from the whole train.csv since the whole training data includes data from the validation and test split and fitting on that will cause the testing (using validation and test) of the model to be overly optimistic. This is called data leakage.**\n",
    "\n",
    "**Also, it's important that we do not fit the scaler multiple times since that would cause inconsistant fitting throughout the data. It should only be fitted once and then applied to all the different datasets.**\n",
    "\n",
    "**However,before I submit Model 4, I should re-fit the normalization scaler on the entire training data since I will be running my model on the entire training data**"
   ]
  },
  {
   "cell_type": "markdown",
   "id": "33882944",
   "metadata": {
    "papermill": {
     "duration": 0.022433,
     "end_time": "2023-12-08T00:46:18.286194",
     "exception": false,
     "start_time": "2023-12-08T00:46:18.263761",
     "status": "completed"
    },
    "tags": []
   },
   "source": [
    "**Normalizing the test data (the one from test.csv)**"
   ]
  },
  {
   "cell_type": "code",
   "execution_count": 35,
   "id": "ba8336dc",
   "metadata": {
    "execution": {
     "iopub.execute_input": "2023-12-08T00:46:18.333925Z",
     "iopub.status.busy": "2023-12-08T00:46:18.332855Z",
     "iopub.status.idle": "2023-12-08T00:46:18.341185Z",
     "shell.execute_reply": "2023-12-08T00:46:18.340037Z"
    },
    "papermill": {
     "duration": 0.034766,
     "end_time": "2023-12-08T00:46:18.343707",
     "exception": false,
     "start_time": "2023-12-08T00:46:18.308941",
     "status": "completed"
    },
    "tags": []
   },
   "outputs": [],
   "source": [
    "test_data = test_data #the \"test_data\" variable here is after we cleaned up the test_data \n",
    "\n",
    "#print(test_data)\n",
    "\n",
    "# Fit the scaler on the data and then transform it\n",
    "test_data[columns_to_normalize] = scaler.transform(test_data[columns_to_normalize])\n",
    "\n",
    "#print(test_data)"
   ]
  },
  {
   "cell_type": "markdown",
   "id": "45367e0c",
   "metadata": {
    "papermill": {
     "duration": 0.02337,
     "end_time": "2023-12-08T00:46:18.390666",
     "exception": false,
     "start_time": "2023-12-08T00:46:18.367296",
     "status": "completed"
    },
    "tags": []
   },
   "source": [
    "**Normalizing the train, validation, and test data**"
   ]
  },
  {
   "cell_type": "code",
   "execution_count": 36,
   "id": "6ae196de",
   "metadata": {
    "execution": {
     "iopub.execute_input": "2023-12-08T00:46:18.438851Z",
     "iopub.status.busy": "2023-12-08T00:46:18.437712Z",
     "iopub.status.idle": "2023-12-08T00:46:18.467186Z",
     "shell.execute_reply": "2023-12-08T00:46:18.466139Z"
    },
    "papermill": {
     "duration": 0.055962,
     "end_time": "2023-12-08T00:46:18.469558",
     "exception": false,
     "start_time": "2023-12-08T00:46:18.413596",
     "status": "completed"
    },
    "tags": []
   },
   "outputs": [
    {
     "name": "stdout",
     "output_type": "stream",
     "text": [
      "     Pclass      Fare       Age  SibSp  Parch  Sex_female  Sex_male  \\\n",
      "570     0.5  0.020495  0.773813  0.000    0.0       False      True   \n",
      "787     1.0  0.056848  0.095250  0.500    1.0       False      True   \n",
      "74      1.0  0.110272  0.396833  0.000    0.0       False      True   \n",
      "113     1.0  0.019177  0.246042  0.125    0.0        True     False   \n",
      "635     0.5  0.025374  0.346569  0.000    0.0        True     False   \n",
      "\n",
      "     FemaleFirstClass  ChildFirstClass  IsChild  FamilySize  IsAlone  \n",
      "570                 0                0        0         1.0        1  \n",
      "787                 0                0        1         6.0        0  \n",
      "74                  0                0        0         1.0        1  \n",
      "113                 0                0        0         2.0        0  \n",
      "635                 0                0        0         1.0        1  \n",
      "     Pclass      Fare       Age  SibSp  Parch  Sex_female  Sex_male  \\\n",
      "849     0.0  0.173920  0.460920  0.125    0.0        True     False   \n",
      "331     0.0  0.055628  0.566474  0.000    0.0       False      True   \n",
      "260     1.0  0.015127  0.580297  0.000    0.0       False      True   \n",
      "316     0.5  0.050749  0.296306  0.125    0.0        True     False   \n",
      "292     0.5  0.025130  0.447097  0.000    0.0       False      True   \n",
      "\n",
      "     FemaleFirstClass  ChildFirstClass  IsChild  FamilySize  IsAlone  \n",
      "849                 1                0        0         2.0        0  \n",
      "331                 0                0        0         1.0        1  \n",
      "260                 0                0        0         1.0        1  \n",
      "316                 0                0        0         2.0        0  \n",
      "292                 0                0        0         1.0        1  \n",
      "     Pclass      Fare       Age  SibSp  Parch  Sex_female  Sex_male  \\\n",
      "424     1.0  0.039452  0.220910  0.125    1.0       False      True   \n",
      "837     1.0  0.015713  0.389772  0.000    0.0       False      True   \n",
      "525     1.0  0.015127  0.503644  0.000    0.0       False      True   \n",
      "328     1.0  0.040062  0.384267  0.125    1.0        True     False   \n",
      "70      0.5  0.020495  0.396833  0.000    0.0       False      True   \n",
      "\n",
      "     FemaleFirstClass  ChildFirstClass  IsChild  FamilySize  IsAlone  \n",
      "424                 0                0        0         3.0        0  \n",
      "837                 0                0        0         1.0        1  \n",
      "525                 0                0        0         1.0        1  \n",
      "328                 0                0        0         3.0        0  \n",
      "70                  0                0        0         1.0        1  \n"
     ]
    }
   ],
   "source": [
    "train_X[columns_to_normalize] = scaler.transform(train_X[columns_to_normalize])\n",
    "print(train_X.head())\n",
    "\n",
    "valid_X[columns_to_normalize] = scaler.transform(valid_X[columns_to_normalize])\n",
    "print(valid_X.head())\n",
    "\n",
    "test_X[columns_to_normalize] = scaler.transform(test_X[columns_to_normalize])\n",
    "print(test_X.head())"
   ]
  },
  {
   "cell_type": "markdown",
   "id": "c6254878",
   "metadata": {
    "papermill": {
     "duration": 0.023241,
     "end_time": "2023-12-08T00:46:18.516203",
     "exception": false,
     "start_time": "2023-12-08T00:46:18.492962",
     "status": "completed"
    },
    "tags": []
   },
   "source": [
    "# Testing out my model (4th) after Feature Enginering and Normalization"
   ]
  },
  {
   "cell_type": "code",
   "execution_count": 37,
   "id": "789f8f20",
   "metadata": {
    "execution": {
     "iopub.execute_input": "2023-12-08T00:46:18.564632Z",
     "iopub.status.busy": "2023-12-08T00:46:18.563464Z",
     "iopub.status.idle": "2023-12-08T00:46:20.618700Z",
     "shell.execute_reply": "2023-12-08T00:46:20.617609Z"
    },
    "papermill": {
     "duration": 2.081903,
     "end_time": "2023-12-08T00:46:20.621198",
     "exception": false,
     "start_time": "2023-12-08T00:46:18.539295",
     "status": "completed"
    },
    "tags": []
   },
   "outputs": [
    {
     "name": "stdout",
     "output_type": "stream",
     "text": [
      "Validation Accuracy: 0.8033707865168539\n"
     ]
    }
   ],
   "source": [
    "model = MLPClassifier(activation = \"tanh\", alpha = 0, hidden_layer_sizes = (13, 15), learning_rate = \"constant\", solver = \"adam\", max_iter=5000, random_state = 42)\n",
    "\n",
    "model.fit(train_X, train_Y)\n",
    "\n",
    "y_pred = model.predict(valid_X)\n",
    "\n",
    "print(f\"Validation Accuracy: {accuracy_score(valid_Y, y_pred)}\")"
   ]
  },
  {
   "cell_type": "markdown",
   "id": "9808585f",
   "metadata": {
    "papermill": {
     "duration": 0.022743,
     "end_time": "2023-12-08T00:46:20.667497",
     "exception": false,
     "start_time": "2023-12-08T00:46:20.644754",
     "status": "completed"
    },
    "tags": []
   },
   "source": [
    "# Using GridSearchCV to find new best amount of neurons per hidden layer and also to find best alpha and activation\n"
   ]
  },
  {
   "cell_type": "code",
   "execution_count": 38,
   "id": "0b0cb11d",
   "metadata": {
    "execution": {
     "iopub.execute_input": "2023-12-08T00:46:20.714886Z",
     "iopub.status.busy": "2023-12-08T00:46:20.714487Z",
     "iopub.status.idle": "2023-12-08T00:46:20.722887Z",
     "shell.execute_reply": "2023-12-08T00:46:20.722047Z"
    },
    "papermill": {
     "duration": 0.034532,
     "end_time": "2023-12-08T00:46:20.724911",
     "exception": false,
     "start_time": "2023-12-08T00:46:20.690379",
     "status": "completed"
    },
    "tags": []
   },
   "outputs": [],
   "source": [
    "from sklearn.neural_network import MLPClassifier\n",
    "\n",
    "training_X = pd.concat([train_X, valid_X, test_X], ignore_index=True)\n",
    "training_Y = pd.concat([train_Y, valid_Y, test_Y], ignore_index=True)\n",
    "\n",
    "possible_hidden_layers = []\n",
    "\n",
    "for i in range(8,20):\n",
    "    for j in range(8,20):\n",
    "        possible_hidden_layers.append((i, j))\n",
    "\n",
    "parameter_space = {\n",
    "    'hidden_layer_sizes': possible_hidden_layers,\n",
    "    'activation': ['tanh', 'relu'],\n",
    "    'alpha': [0.0001, 0.05],\n",
    "    \"max_iter\": [4000, 5000, 6000, 7000]\n",
    "}\n",
    "\n",
    "# mlp = MLPClassifier(solver = \"adam\", random_state = 42)\n",
    "\n",
    "# clf = GridSearchCV(mlp, parameter_space, n_jobs=-1, cv=3)\n",
    "\n",
    "# clf.fit(training_X, training_Y)\n",
    "\n",
    "# print('Best parameters found:\\n', clf.best_params_)\n",
    "\n",
    "# print('Best score (CV mean):', clf.best_score_)\n",
    "\n",
    "# print(\"Done\")"
   ]
  },
  {
   "cell_type": "markdown",
   "id": "a1b062a1",
   "metadata": {
    "papermill": {
     "duration": 0.022443,
     "end_time": "2023-12-08T00:46:20.770118",
     "exception": false,
     "start_time": "2023-12-08T00:46:20.747675",
     "status": "completed"
    },
    "tags": []
   },
   "source": [
    "# Before I submit Model 4, I should re-fit the normalization scaler on the entire training data since I will be running my model on the entire training data\n"
   ]
  },
  {
   "cell_type": "code",
   "execution_count": 39,
   "id": "4c61ffa5",
   "metadata": {
    "execution": {
     "iopub.execute_input": "2023-12-08T00:46:20.817738Z",
     "iopub.status.busy": "2023-12-08T00:46:20.817026Z",
     "iopub.status.idle": "2023-12-08T00:46:20.844523Z",
     "shell.execute_reply": "2023-12-08T00:46:20.843496Z"
    },
    "papermill": {
     "duration": 0.054004,
     "end_time": "2023-12-08T00:46:20.846805",
     "exception": false,
     "start_time": "2023-12-08T00:46:20.792801",
     "status": "completed"
    },
    "tags": []
   },
   "outputs": [
    {
     "name": "stdout",
     "output_type": "stream",
     "text": [
      "     Pclass      Fare       Age  SibSp  Parch  Sex_female  Sex_male  \\\n",
      "0       0.5  0.020495  0.773813  0.000    0.0       False      True   \n",
      "1       1.0  0.056848  0.095250  0.500    1.0       False      True   \n",
      "2       1.0  0.110272  0.396833  0.000    0.0       False      True   \n",
      "3       1.0  0.019177  0.246042  0.125    0.0        True     False   \n",
      "4       0.5  0.025374  0.346569  0.000    0.0        True     False   \n",
      "..      ...       ...       ...    ...    ...         ...       ...   \n",
      "886     1.0  0.015713  0.258608  0.000    0.0       False      True   \n",
      "887     0.0  0.060508  0.371701  0.000    0.0        True     False   \n",
      "888     1.0  0.015713  0.547625  0.000    0.0       False      True   \n",
      "889     0.0  0.512122  0.258608  0.250    2.0        True     False   \n",
      "890     0.0  0.444099  0.472229  0.000    0.0        True     False   \n",
      "\n",
      "     FemaleFirstClass  ChildFirstClass  IsChild  FamilySize  IsAlone  \n",
      "0                   0                0        0         1.0        1  \n",
      "1                   0                0        1         6.0        0  \n",
      "2                   0                0        0         1.0        1  \n",
      "3                   0                0        0         2.0        0  \n",
      "4                   0                0        0         1.0        1  \n",
      "..                ...              ...      ...         ...      ...  \n",
      "886                 0                0        0         1.0        1  \n",
      "887                 1                0        0         1.0        1  \n",
      "888                 0                0        0         1.0        1  \n",
      "889                 1                0        0         5.0        0  \n",
      "890                 1                0        0         1.0        1  \n",
      "\n",
      "[891 rows x 12 columns]\n",
      "     Pclass      Fare       Age  SibSp  Parch  Sex_female  Sex_male  \\\n",
      "0       0.5  0.020495  0.773813  0.000    0.0       False      True   \n",
      "1       1.0  0.056848  0.095250  0.500    1.0       False      True   \n",
      "2       1.0  0.110272  0.396833  0.000    0.0       False      True   \n",
      "3       1.0  0.019177  0.246042  0.125    0.0        True     False   \n",
      "4       0.5  0.025374  0.346569  0.000    0.0        True     False   \n",
      "..      ...       ...       ...    ...    ...         ...       ...   \n",
      "886     1.0  0.015713  0.258608  0.000    0.0       False      True   \n",
      "887     0.0  0.060508  0.371701  0.000    0.0        True     False   \n",
      "888     1.0  0.015713  0.547625  0.000    0.0       False      True   \n",
      "889     0.0  0.512122  0.258608  0.250    2.0        True     False   \n",
      "890     0.0  0.444099  0.472229  0.000    0.0        True     False   \n",
      "\n",
      "     FemaleFirstClass  ChildFirstClass  IsChild  FamilySize  IsAlone  \n",
      "0                   0                0        0         1.0        1  \n",
      "1                   0                0        1         6.0        0  \n",
      "2                   0                0        0         1.0        1  \n",
      "3                   0                0        0         2.0        0  \n",
      "4                   0                0        0         1.0        1  \n",
      "..                ...              ...      ...         ...      ...  \n",
      "886                 0                0        0         1.0        1  \n",
      "887                 1                0        0         1.0        1  \n",
      "888                 0                0        0         1.0        1  \n",
      "889                 1                0        0         5.0        0  \n",
      "890                 1                0        0         1.0        1  \n",
      "\n",
      "[891 rows x 12 columns]\n"
     ]
    }
   ],
   "source": [
    "from sklearn.preprocessing import MinMaxScaler\n",
    "\n",
    "training_X = pd.concat([train_X, valid_X, test_X], ignore_index=True) # training_X is the entire training data from train.csv but after all the cleaning, normalization, and feature engineering\n",
    "training_Y = pd.concat([train_Y, valid_Y, test_Y], ignore_index=True) \n",
    "\n",
    "\n",
    "# Initialize the MinMaxScaler\n",
    "scaler = MinMaxScaler()\n",
    "\n",
    "columns_to_normalize = [\"Pclass\", \"Fare\", \"Age\", \"SibSp\"]\n",
    "\n",
    "scaler.fit(training_X[columns_to_normalize])\n",
    "\n",
    "print(training_X)\n",
    "\n",
    "training_X[columns_to_normalize] = scaler.transform(training_X[columns_to_normalize])\n",
    "\n",
    "print(training_X)"
   ]
  },
  {
   "cell_type": "markdown",
   "id": "14fcaae2",
   "metadata": {
    "papermill": {
     "duration": 0.02243,
     "end_time": "2023-12-08T00:46:20.892297",
     "exception": false,
     "start_time": "2023-12-08T00:46:20.869867",
     "status": "completed"
    },
    "tags": []
   },
   "source": [
    "# Now that the test data is Normalized and has feature engineering (from previous code), I can use model.predict() on it"
   ]
  },
  {
   "cell_type": "code",
   "execution_count": 40,
   "id": "fd22dd77",
   "metadata": {
    "execution": {
     "iopub.execute_input": "2023-12-08T00:46:20.939971Z",
     "iopub.status.busy": "2023-12-08T00:46:20.939314Z",
     "iopub.status.idle": "2023-12-08T00:46:20.943873Z",
     "shell.execute_reply": "2023-12-08T00:46:20.943177Z"
    },
    "papermill": {
     "duration": 0.030731,
     "end_time": "2023-12-08T00:46:20.945795",
     "exception": false,
     "start_time": "2023-12-08T00:46:20.915064",
     "status": "completed"
    },
    "tags": []
   },
   "outputs": [],
   "source": [
    "# Best parameters found:\n",
    "#  {'activation': 'relu', 'alpha': 0.0001, 'hidden_layer_sizes': (11, 15), 'max_iter': 4000}\n",
    "# Best score (CV mean): 0.8282828282828284\n",
    "\n",
    "# Commented out the code so that the model won't run everytime\n",
    "\n",
    "# model = MLPClassifier(activation = \"relu\", alpha = 0.0001, hidden_layer_sizes = (11, 15), solver = \"adam\", max_iter=4000, random_state = 42)\n",
    "\n",
    "# model.fit(training_X, training_Y) #Fitting the model on the entire training data set (including all the sub-sets from train-validation-test split)\n",
    "\n",
    "# test_data = test_data.drop(\"PassengerId\", axis = 1)\n",
    "\n",
    "# predictions4 = model.predict(test_data)\n"
   ]
  },
  {
   "cell_type": "markdown",
   "id": "66743752",
   "metadata": {
    "papermill": {
     "duration": 0.022673,
     "end_time": "2023-12-08T00:46:20.991376",
     "exception": false,
     "start_time": "2023-12-08T00:46:20.968703",
     "status": "completed"
    },
    "tags": []
   },
   "source": [
    "# Submitting Model 4 (accuracy: 79.425)"
   ]
  },
  {
   "cell_type": "code",
   "execution_count": 41,
   "id": "10ff7c5e",
   "metadata": {
    "execution": {
     "iopub.execute_input": "2023-12-08T00:46:21.039440Z",
     "iopub.status.busy": "2023-12-08T00:46:21.038427Z",
     "iopub.status.idle": "2023-12-08T00:46:21.042726Z",
     "shell.execute_reply": "2023-12-08T00:46:21.042003Z"
    },
    "papermill": {
     "duration": 0.030271,
     "end_time": "2023-12-08T00:46:21.044550",
     "exception": false,
     "start_time": "2023-12-08T00:46:21.014279",
     "status": "completed"
    },
    "tags": []
   },
   "outputs": [],
   "source": [
    "# Commented out the code so that the model won't run everytime\n",
    "\n",
    "# original_test = pd.read_csv(\"/kaggle/input/titanic/test.csv\")\n",
    "\n",
    "# pass_id = original_test['PassengerId']\n",
    "\n",
    "# test_data[\"PassengerId\"] = pass_id\n",
    "\n",
    "# predictions4 = predictions4.astype(int)\n",
    "\n",
    "# output = pd.DataFrame({'PassengerId': test_data.PassengerId, 'Survived': predictions4})\n",
    "# output.to_csv('submission.csv', index=False)\n",
    "# print(\"Your submission was successfully saved!\")\n",
    "\n",
    "# test_data = test_data.drop(\"PassengerId\", axis = 1) # WE make sure to drop the PassengerId column since we are continuing to use the test_data variable in future tests and we don't want PassengerId to be apart of it until we submit the model again"
   ]
  },
  {
   "cell_type": "markdown",
   "id": "feb002c7",
   "metadata": {
    "papermill": {
     "duration": 0.022712,
     "end_time": "2023-12-08T00:46:21.090213",
     "exception": false,
     "start_time": "2023-12-08T00:46:21.067501",
     "status": "completed"
    },
    "tags": []
   },
   "source": [
    "# MAKE SURE THERE ISN'T ANY NEGATIVE VALUES FOR AGE BEFORE AND AFTER NORMALIZATION"
   ]
  },
  {
   "cell_type": "code",
   "execution_count": 42,
   "id": "954cfdad",
   "metadata": {
    "execution": {
     "iopub.execute_input": "2023-12-08T00:46:21.138355Z",
     "iopub.status.busy": "2023-12-08T00:46:21.137954Z",
     "iopub.status.idle": "2023-12-08T00:46:21.145659Z",
     "shell.execute_reply": "2023-12-08T00:46:21.144818Z"
    },
    "papermill": {
     "duration": 0.034578,
     "end_time": "2023-12-08T00:46:21.147735",
     "exception": false,
     "start_time": "2023-12-08T00:46:21.113157",
     "status": "completed"
    },
    "tags": []
   },
   "outputs": [
    {
     "name": "stdout",
     "output_type": "stream",
     "text": [
      "Empty DataFrame\n",
      "Columns: [Pclass, Fare, Age, SibSp, Parch, Sex_female, Sex_male, FemaleFirstClass, ChildFirstClass, IsChild, FamilySize, IsAlone]\n",
      "Index: []\n"
     ]
    }
   ],
   "source": [
    "negatives = training_X[training_X[\"Age\"] < 0]\n",
    "print(negatives)\n",
    "\n",
    "# No values negative values for age"
   ]
  },
  {
   "cell_type": "markdown",
   "id": "10698744",
   "metadata": {
    "papermill": {
     "duration": 0.022925,
     "end_time": "2023-12-08T00:46:21.193767",
     "exception": false,
     "start_time": "2023-12-08T00:46:21.170842",
     "status": "completed"
    },
    "tags": []
   },
   "source": [
    "# Maybe do GridSearchCV to test only the Alpha value and the max_iter"
   ]
  },
  {
   "cell_type": "markdown",
   "id": "1b858d32",
   "metadata": {
    "papermill": {
     "duration": 0.025263,
     "end_time": "2023-12-08T00:46:21.242107",
     "exception": false,
     "start_time": "2023-12-08T00:46:21.216844",
     "status": "completed"
    },
    "tags": []
   },
   "source": [
    "**TRY THIS OUT SINCE THE PREVIOUS GRIDSEARCH DIDN'T REALLY TRY MANY Alpha VALUES AND DIDN'T TEST OUT DIFFERENT max_iter. Maybe try doing GridSearchCV with different GPU accelerator to see if it goes faster**"
   ]
  },
  {
   "cell_type": "code",
   "execution_count": 43,
   "id": "a69148da",
   "metadata": {
    "execution": {
     "iopub.execute_input": "2023-12-08T00:46:21.291610Z",
     "iopub.status.busy": "2023-12-08T00:46:21.290980Z",
     "iopub.status.idle": "2023-12-08T00:46:21.299826Z",
     "shell.execute_reply": "2023-12-08T00:46:21.298872Z"
    },
    "papermill": {
     "duration": 0.035649,
     "end_time": "2023-12-08T00:46:21.301935",
     "exception": false,
     "start_time": "2023-12-08T00:46:21.266286",
     "status": "completed"
    },
    "tags": []
   },
   "outputs": [],
   "source": [
    "from sklearn.neural_network import MLPClassifier\n",
    "\n",
    "training_X = pd.concat([train_X, valid_X, test_X], ignore_index=True)\n",
    "training_Y = pd.concat([train_Y, valid_Y, test_Y], ignore_index=True)\n",
    "\n",
    "possible_alpha = []\n",
    "possible_max_iter = []\n",
    "\n",
    "initial_alpha = 0.0001\n",
    "for i in range(8,20):\n",
    "    possible_alpha.append(initial_alpha)\n",
    "    initial_alpha += 0.0005\n",
    "\n",
    "initial_iter = 3500\n",
    "for i in range(8,20):\n",
    "    possible_max_iter.append(initial_iter)\n",
    "    initial_iter += 200\n",
    "\n",
    "\n",
    "parameter_space = {\n",
    "    'alpha': possible_alpha,\n",
    "    \"max_iter\": possible_max_iter\n",
    "}\n",
    "\n",
    "# mlp = MLPClassifier(activation = \"relu\", hidden_layer_sizes = (11, 15), solver = \"adam\", random_state = 42)\n",
    "\n",
    "# clf = GridSearchCV(mlp, parameter_space, n_jobs=-1, cv=5)\n",
    "\n",
    "# clf.fit(training_X, training_Y)\n",
    "\n",
    "# print('Best parameters found:\\n', clf.best_params_)\n",
    "\n",
    "# print('Best score (CV mean):', clf.best_score_)\n",
    "\n",
    "# print(\"Done\")\n",
    "\n",
    "# Best parameters found:\n",
    "#  {'alpha': 0.0005, 'max_iter': 4000}\n",
    "# Best score (CV mean): 0.8203753687778546"
   ]
  },
  {
   "cell_type": "markdown",
   "id": "159e264c",
   "metadata": {
    "papermill": {
     "duration": 0.023067,
     "end_time": "2023-12-08T00:46:21.348266",
     "exception": false,
     "start_time": "2023-12-08T00:46:21.325199",
     "status": "completed"
    },
    "tags": []
   },
   "source": [
    "# Testing out Model 5 (accuracy: 78.229)"
   ]
  },
  {
   "cell_type": "code",
   "execution_count": 44,
   "id": "2dba9d8c",
   "metadata": {
    "execution": {
     "iopub.execute_input": "2023-12-08T00:46:21.396440Z",
     "iopub.status.busy": "2023-12-08T00:46:21.395778Z",
     "iopub.status.idle": "2023-12-08T00:46:21.400440Z",
     "shell.execute_reply": "2023-12-08T00:46:21.399591Z"
    },
    "papermill": {
     "duration": 0.030757,
     "end_time": "2023-12-08T00:46:21.402295",
     "exception": false,
     "start_time": "2023-12-08T00:46:21.371538",
     "status": "completed"
    },
    "tags": []
   },
   "outputs": [],
   "source": [
    "# Commented out the code so that the model won't run everytime\n",
    "\n",
    "\n",
    "# model = MLPClassifier(activation = \"relu\", alpha = 0.0036, hidden_layer_sizes = (15, 15), solver = \"adam\", max_iter=7000, random_state = 42)\n",
    "\n",
    "# model.fit(train_X, train_Y)\n",
    "\n",
    "# y_pred = model.predict(valid_X)\n",
    "\n",
    "# print(f\"Validation Accuracy: {accuracy_score(valid_Y, y_pred)}\")"
   ]
  },
  {
   "cell_type": "code",
   "execution_count": 45,
   "id": "7dbf5275",
   "metadata": {
    "execution": {
     "iopub.execute_input": "2023-12-08T00:46:21.450407Z",
     "iopub.status.busy": "2023-12-08T00:46:21.449671Z",
     "iopub.status.idle": "2023-12-08T00:46:21.453818Z",
     "shell.execute_reply": "2023-12-08T00:46:21.453138Z"
    },
    "papermill": {
     "duration": 0.030175,
     "end_time": "2023-12-08T00:46:21.455651",
     "exception": false,
     "start_time": "2023-12-08T00:46:21.425476",
     "status": "completed"
    },
    "tags": []
   },
   "outputs": [],
   "source": [
    "# Commented out the code so that the model won't run everytime\n",
    "\n",
    "\n",
    "# model = MLPClassifier(activation = \"relu\", alpha = 0.0036, hidden_layer_sizes = (15, 15), solver = \"adam\", max_iter=7000, random_state = 42)\n",
    "\n",
    "# model.fit(training_X, training_Y) #Fitting the model on the entire training data set (including all the sub-sets from train-validation-test split)\n",
    "\n",
    "# if \"PassengerId\" in test_data.columns:\n",
    "#     test_data = test_data.drop(\"PassengerId\", axis = 1)\n",
    "\n",
    "# predictions5 = model.predict(test_data)"
   ]
  },
  {
   "cell_type": "code",
   "execution_count": 46,
   "id": "9b3d65df",
   "metadata": {
    "execution": {
     "iopub.execute_input": "2023-12-08T00:46:21.508906Z",
     "iopub.status.busy": "2023-12-08T00:46:21.508512Z",
     "iopub.status.idle": "2023-12-08T00:46:21.513429Z",
     "shell.execute_reply": "2023-12-08T00:46:21.512715Z"
    },
    "papermill": {
     "duration": 0.033889,
     "end_time": "2023-12-08T00:46:21.515396",
     "exception": false,
     "start_time": "2023-12-08T00:46:21.481507",
     "status": "completed"
    },
    "tags": []
   },
   "outputs": [],
   "source": [
    "# Commented out the code so that the model won't run everytime\n",
    "\n",
    "\n",
    "# original_test = pd.read_csv(\"/kaggle/input/titanic/test.csv\")\n",
    "\n",
    "# pass_id = original_test['PassengerId']\n",
    "\n",
    "# test_data[\"PassengerId\"] = pass_id\n",
    "\n",
    "# predictions5 = predictions5.astype(int)\n",
    "\n",
    "# output = pd.DataFrame({'PassengerId': test_data.PassengerId, 'Survived': predictions5})\n",
    "# output.to_csv('submission.csv', index=False)\n",
    "# print(\"Your submission was successfully saved!\")\n",
    "\n",
    "# test_data = test_data.drop(\"PassengerId\", axis = 1) # WE make sure to drop the PassengerId column since we are continuing to use the test_data variable in future tests and we don't want PassengerId to be apart of it until we submit the model again"
   ]
  },
  {
   "cell_type": "markdown",
   "id": "63f06caf",
   "metadata": {
    "papermill": {
     "duration": 0.022821,
     "end_time": "2023-12-08T00:46:21.561890",
     "exception": false,
     "start_time": "2023-12-08T00:46:21.539069",
     "status": "completed"
    },
    "tags": []
   },
   "source": [
    "# 1. Make sure to try TensorFlow and other libraries\n",
    "# 2. Learn how to control randomness using the random seeds so that I can replicate the same results using the same code"
   ]
  },
  {
   "cell_type": "code",
   "execution_count": 47,
   "id": "db4f5c3c",
   "metadata": {
    "execution": {
     "iopub.execute_input": "2023-12-08T00:46:21.610490Z",
     "iopub.status.busy": "2023-12-08T00:46:21.609423Z",
     "iopub.status.idle": "2023-12-08T00:46:28.633591Z",
     "shell.execute_reply": "2023-12-08T00:46:28.632556Z"
    },
    "papermill": {
     "duration": 7.050889,
     "end_time": "2023-12-08T00:46:28.635997",
     "exception": false,
     "start_time": "2023-12-08T00:46:21.585108",
     "status": "completed"
    },
    "tags": []
   },
   "outputs": [
    {
     "name": "stdout",
     "output_type": "stream",
     "text": [
      "6/6 [==============================] - 0s 2ms/step - loss: 0.5080 - accuracy: 0.7978\n",
      "Test Accuracy: 0.7977527976036072\n",
      "6/6 [==============================] - 0s 2ms/step\n"
     ]
    }
   ],
   "source": [
    "import tensorflow as tf\n",
    "from tensorflow.keras.models import Sequential\n",
    "from tensorflow.keras.layers import Dense, Dropout\n",
    "from sklearn.model_selection import train_test_split\n",
    "\n",
    "\n",
    "# train_X = train_X.values\n",
    "# valid_X = valid_X.values\n",
    "# train_Y = train__Y.values\n",
    "# valid_Y = valid_Y.values\n",
    "\n",
    "model_tensor = Sequential([\n",
    "    Dense(64, activation='relu', input_shape=(train_X.shape[1],)),\n",
    "    Dense(32, activation='relu'),\n",
    "    Dense(1, activation='sigmoid')\n",
    "])\n",
    "\n",
    "train_X = train_X.astype('float32')\n",
    "valid_X = valid_X.astype('float32')\n",
    "\n",
    "model_tensor.compile(optimizer='adam',\n",
    "              loss='binary_crossentropy',\n",
    "              metrics=['accuracy'])\n",
    "\n",
    "history = model_tensor.fit(train_X, train_Y, epochs=100, validation_split=0.2, verbose=0)\n",
    "\n",
    "loss, accuracy = model_tensor.evaluate(valid_X, valid_Y)\n",
    "\n",
    "print(f\"Test Accuracy: {accuracy}\")\n",
    "\n",
    "predictionz = model_tensor.predict(valid_X)\n",
    "#print(predictionz)"
   ]
  },
  {
   "cell_type": "markdown",
   "id": "f0fca477",
   "metadata": {
    "papermill": {
     "duration": 0.023205,
     "end_time": "2023-12-08T00:46:28.682803",
     "exception": false,
     "start_time": "2023-12-08T00:46:28.659598",
     "status": "completed"
    },
    "tags": []
   },
   "source": [
    "# Submitting Model 6"
   ]
  },
  {
   "cell_type": "code",
   "execution_count": 48,
   "id": "a94be28c",
   "metadata": {
    "execution": {
     "iopub.execute_input": "2023-12-08T00:46:28.730904Z",
     "iopub.status.busy": "2023-12-08T00:46:28.730506Z",
     "iopub.status.idle": "2023-12-08T00:46:35.628518Z",
     "shell.execute_reply": "2023-12-08T00:46:35.627442Z"
    },
    "papermill": {
     "duration": 6.925058,
     "end_time": "2023-12-08T00:46:35.631131",
     "exception": false,
     "start_time": "2023-12-08T00:46:28.706073",
     "status": "completed"
    },
    "tags": []
   },
   "outputs": [
    {
     "name": "stdout",
     "output_type": "stream",
     "text": [
      "14/14 [==============================] - 0s 1ms/step\n"
     ]
    }
   ],
   "source": [
    "training_X2 = training_X.astype('float32')\n",
    "#training_Y = training_Y.astype('float32')\n",
    "test_data2 = test_data.astype('float32')\n",
    "\n",
    "model_tensor.fit(training_X2, training_Y, epochs=100, validation_split=0.2, verbose=0) #Fitting the model on the entire training data set (including all the sub-sets from train-validation-test split)\n",
    "\n",
    "# print(training_X.shape)\n",
    "# print(training_Y.shape)\n",
    "\n",
    "\n",
    "if \"PassengerId\" in test_data2.columns:\n",
    "    test_data2 = test_data2.drop(\"PassengerId\", axis = 1)\n",
    "\n",
    "predictions6 = model_tensor.predict(test_data2)\n",
    "#print(predictions6)"
   ]
  },
  {
   "cell_type": "markdown",
   "id": "49605f3f",
   "metadata": {
    "papermill": {
     "duration": 0.022825,
     "end_time": "2023-12-08T00:46:35.677413",
     "exception": false,
     "start_time": "2023-12-08T00:46:35.654588",
     "status": "completed"
    },
    "tags": []
   },
   "source": [
    "# Change the output predictions to 0 and 1 value. Because the output layer of the neural network is sigmoid, it will give you a value between 0 and 1, but we want binary values so we have to change the output values to 0 and 1"
   ]
  },
  {
   "cell_type": "code",
   "execution_count": 49,
   "id": "b3769c4a",
   "metadata": {
    "execution": {
     "iopub.execute_input": "2023-12-08T00:46:35.725579Z",
     "iopub.status.busy": "2023-12-08T00:46:35.725168Z",
     "iopub.status.idle": "2023-12-08T00:46:35.731115Z",
     "shell.execute_reply": "2023-12-08T00:46:35.730280Z"
    },
    "papermill": {
     "duration": 0.032539,
     "end_time": "2023-12-08T00:46:35.733118",
     "exception": false,
     "start_time": "2023-12-08T00:46:35.700579",
     "status": "completed"
    },
    "tags": []
   },
   "outputs": [],
   "source": [
    "predictions6 = (predictions6 > 0.5).astype(\"int32\")"
   ]
  },
  {
   "cell_type": "markdown",
   "id": "44628503",
   "metadata": {
    "papermill": {
     "duration": 0.023077,
     "end_time": "2023-12-08T00:46:35.779944",
     "exception": false,
     "start_time": "2023-12-08T00:46:35.756867",
     "status": "completed"
    },
    "tags": []
   },
   "source": [
    "# Submit the model 6 predictions"
   ]
  },
  {
   "cell_type": "code",
   "execution_count": 50,
   "id": "d5f9a9b0",
   "metadata": {
    "execution": {
     "iopub.execute_input": "2023-12-08T00:46:35.829316Z",
     "iopub.status.busy": "2023-12-08T00:46:35.828713Z",
     "iopub.status.idle": "2023-12-08T00:46:35.848866Z",
     "shell.execute_reply": "2023-12-08T00:46:35.847788Z"
    },
    "papermill": {
     "duration": 0.047095,
     "end_time": "2023-12-08T00:46:35.851046",
     "exception": false,
     "start_time": "2023-12-08T00:46:35.803951",
     "status": "completed"
    },
    "tags": []
   },
   "outputs": [
    {
     "name": "stdout",
     "output_type": "stream",
     "text": [
      "(418,)\n",
      "(418,)\n",
      "Your submission was successfully saved!\n",
      "[0 0 0 0 0 0 0 0 1 0 0 0 1 0 1 1 0 0 1 0 1 1 1 1 0 0 1 0 0 0 0 0 0 0 0 0 1\n",
      " 1 0 0 0 0 0 1 1 0 0 0 1 0 0 0 1 1 0 0 0 0 0 1 0 0 0 0 1 1 1 0 0 0 0 0 0 0\n",
      " 1 0 0 1 0 0 1 0 0 0 0 0 0 1 0 1 1 0 1 0 0 0 1 0 1 0 1 0 0 0 1 0 0 0 0 0 0\n",
      " 0 1 1 1 0 0 1 0 1 1 0 1 0 0 1 0 0 0 0 0 0 0 0 0 0 0 0 0 0 0 1 0 0 0 0 0 0\n",
      " 0 0 1 0 0 0 0 0 1 0 0 1 1 1 1 0 0 0 0 0 1 0 0 0 0 0 0 1 1 1 1 1 0 0 1 0 1\n",
      " 0 1 0 0 0 0 0 1 0 1 0 1 1 0 1 0 1 0 1 0 0 0 0 1 0 0 0 0 1 1 0 0 0 1 0 1 0\n",
      " 1 0 1 1 0 0 0 0 0 1 0 0 0 0 0 0 1 1 1 1 0 0 1 0 1 0 1 1 1 0 0 0 0 0 0 0 1\n",
      " 0 0 0 1 1 0 0 0 0 1 0 0 0 1 1 0 1 0 0 0 0 0 1 0 1 1 0 0 0 0 0 0 0 0 0 0 0\n",
      " 1 0 0 0 0 0 0 0 0 1 0 1 0 0 0 0 0 0 1 1 0 0 0 0 0 0 0 0 1 0 1 0 0 0 1 0 0\n",
      " 0 0 0 0 0 0 0 0 0 0 1 1 1 0 0 0 1 1 0 0 0 1 0 1 0 0 1 0 1 1 0 1 0 0 1 1 0\n",
      " 0 1 0 0 1 1 0 0 0 0 0 0 0 1 0 1 0 0 0 0 0 1 1 0 0 1 0 1 0 0 1 0 1 1 1 0 0\n",
      " 0 0 1 0 1 0 0 1 0 0 0]\n"
     ]
    }
   ],
   "source": [
    "original_test = pd.read_csv(\"/kaggle/input/titanic/test.csv\")\n",
    "\n",
    "pass_id = original_test['PassengerId']\n",
    "\n",
    "test_data2[\"PassengerId\"] = pass_id\n",
    "\n",
    "predictions6 = predictions6.astype(int)\n",
    "\n",
    "#Flatten out predictions 6 so that we make sure it's a 1D array\n",
    "\n",
    "predictions6 = predictions6.reshape(-1)\n",
    "\n",
    "print(predictions6.shape)\n",
    "print(test_data.PassengerId.shape)\n",
    "\n",
    "output = pd.DataFrame({'PassengerId': test_data2.PassengerId, 'Survived': predictions6})\n",
    "output.to_csv('submission.csv', index=False)\n",
    "print(\"Your submission was successfully saved!\")\n",
    "\n",
    "print(predictions6)\n",
    "\n",
    "test_data2 = test_data2.drop(\"PassengerId\", axis = 1) # WE make sure to drop the PassengerId column since we are continuing to use the test_data variable in future tests and we don't want PassengerId to be apart of it until we submit the model again"
   ]
  },
  {
   "cell_type": "markdown",
   "id": "2bca3cdb",
   "metadata": {
    "papermill": {
     "duration": 0.023155,
     "end_time": "2023-12-08T00:46:35.898508",
     "exception": false,
     "start_time": "2023-12-08T00:46:35.875353",
     "status": "completed"
    },
    "tags": []
   },
   "source": [
    "# Using Keras Tuner, which is TensorFlow's version of GridSearchCV, in order to find the best hyperparamters for my model"
   ]
  },
  {
   "cell_type": "code",
   "execution_count": 51,
   "id": "1976ba83",
   "metadata": {
    "execution": {
     "iopub.execute_input": "2023-12-08T00:46:35.947943Z",
     "iopub.status.busy": "2023-12-08T00:46:35.947236Z",
     "iopub.status.idle": "2023-12-08T00:47:28.673049Z",
     "shell.execute_reply": "2023-12-08T00:47:28.671979Z"
    },
    "papermill": {
     "duration": 52.753517,
     "end_time": "2023-12-08T00:47:28.675561",
     "exception": false,
     "start_time": "2023-12-08T00:46:35.922044",
     "status": "completed"
    },
    "tags": []
   },
   "outputs": [
    {
     "name": "stdout",
     "output_type": "stream",
     "text": [
      "Trial 30 Complete [00h 00m 02s]\n",
      "val_accuracy: 0.5955055952072144\n",
      "\n",
      "Best val_accuracy So Far: 0.8370786309242249\n",
      "Total elapsed time: 00h 00m 52s\n"
     ]
    }
   ],
   "source": [
    "import kerastuner as kt\n",
    "\n",
    "def build_model(hp):\n",
    "    model = tf.keras.Sequential()\n",
    "    \n",
    "    model.add(tf.keras.layers.Dense(\n",
    "        units=hp.Int('units', min_value=10, max_value=64, step=4),\n",
    "        activation='relu',\n",
    "        input_shape=(train_X.shape[1],)\n",
    "    ))\n",
    "    \n",
    "    model.add(tf.keras.layers.Dense(\n",
    "        units=hp.Int('units', min_value=10, max_value=64, step=4),\n",
    "        activation='relu'\n",
    "    ))\n",
    "    \n",
    "    model.add(tf.keras.layers.Dense(1, activation='sigmoid'))\n",
    "    \n",
    "    model.compile(\n",
    "        optimizer=tf.keras.optimizers.Adam(\n",
    "            hp.Choice('learning_rate', [0.1, 0.01, 0.001, 0.0001, 0.00001])),\n",
    "        loss='binary_crossentropy',\n",
    "        metrics=['accuracy'])\n",
    "    \n",
    "    return model\n",
    "\n",
    "tuner = kt.Hyperband(\n",
    "    build_model,\n",
    "    objective='val_accuracy',\n",
    "    max_epochs=10,\n",
    "    directory='my_dir',\n",
    "    project_name='keras_tuner_demo')\n",
    "\n",
    "tuner.search(train_X, train_Y, epochs=100, validation_data=(valid_X, valid_Y))\n",
    "\n",
    "# Get the best model\n",
    "best_model = tuner.get_best_models()[0]"
   ]
  },
  {
   "cell_type": "markdown",
   "id": "723b8364",
   "metadata": {
    "papermill": {
     "duration": 0.023214,
     "end_time": "2023-12-08T00:47:28.723255",
     "exception": false,
     "start_time": "2023-12-08T00:47:28.700041",
     "status": "completed"
    },
    "tags": []
   },
   "source": [
    "# 1. Another thing i want to try is seeing if removing some of the feature enginering will help, since I removed some in the randomforestclassifier and it improved the model\n",
    "\n",
    "# 2. Another thing to look into is the kernel_initializer since those are how the model finds the initial value for the weights in each layer so look into that"
   ]
  }
 ],
 "metadata": {
  "kaggle": {
   "accelerator": "none",
   "dataSources": [
    {
     "databundleVersionId": 26502,
     "sourceId": 3136,
     "sourceType": "competition"
    }
   ],
   "dockerImageVersionId": 30579,
   "isGpuEnabled": false,
   "isInternetEnabled": true,
   "language": "python",
   "sourceType": "notebook"
  },
  "kernelspec": {
   "display_name": "Python 3",
   "language": "python",
   "name": "python3"
  },
  "language_info": {
   "codemirror_mode": {
    "name": "ipython",
    "version": 3
   },
   "file_extension": ".py",
   "mimetype": "text/x-python",
   "name": "python",
   "nbconvert_exporter": "python",
   "pygments_lexer": "ipython3",
   "version": "3.10.12"
  },
  "papermill": {
   "default_parameters": {},
   "duration": 125.14793,
   "end_time": "2023-12-08T00:47:30.273719",
   "environment_variables": {},
   "exception": null,
   "input_path": "__notebook__.ipynb",
   "output_path": "__notebook__.ipynb",
   "parameters": {},
   "start_time": "2023-12-08T00:45:25.125789",
   "version": "2.4.0"
  }
 },
 "nbformat": 4,
 "nbformat_minor": 5
}
