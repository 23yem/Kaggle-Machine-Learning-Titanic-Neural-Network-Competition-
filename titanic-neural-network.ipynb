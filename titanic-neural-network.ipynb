{
 "cells": [
  {
   "cell_type": "code",
   "execution_count": 1,
   "id": "e6377148",
   "metadata": {
    "_cell_guid": "b1076dfc-b9ad-4769-8c92-a6c4dae69d19",
    "_uuid": "8f2839f25d086af736a60e9eeb907d3b93b6e0e5",
    "execution": {
     "iopub.execute_input": "2023-11-20T02:10:54.965218Z",
     "iopub.status.busy": "2023-11-20T02:10:54.964299Z",
     "iopub.status.idle": "2023-11-20T02:10:55.892424Z",
     "shell.execute_reply": "2023-11-20T02:10:55.891173Z"
    },
    "papermill": {
     "duration": 0.955669,
     "end_time": "2023-11-20T02:10:55.895417",
     "exception": false,
     "start_time": "2023-11-20T02:10:54.939748",
     "status": "completed"
    },
    "tags": []
   },
   "outputs": [
    {
     "name": "stdout",
     "output_type": "stream",
     "text": [
      "/kaggle/input/titanic/train.csv\n",
      "/kaggle/input/titanic/test.csv\n",
      "/kaggle/input/titanic/gender_submission.csv\n"
     ]
    }
   ],
   "source": [
    "# This Python 3 environment comes with many helpful analytics libraries installed\n",
    "# It is defined by the kaggle/python Docker image: https://github.com/kaggle/docker-python\n",
    "# For example, here's several helpful packages to load\n",
    "\n",
    "import numpy as np # linear algebra\n",
    "import pandas as pd # data processing, CSV file I/O (e.g. pd.read_csv)\n",
    "\n",
    "# Input data files are available in the read-only \"../input/\" directory\n",
    "# For example, running this (by clicking run or pressing Shift+Enter) will list all files under the input directory\n",
    "\n",
    "import os\n",
    "for dirname, _, filenames in os.walk('/kaggle/input'):\n",
    "    for filename in filenames:\n",
    "        print(os.path.join(dirname, filename))\n",
    "\n",
    "# You can write up to 20GB to the current directory (/kaggle/working/) that gets preserved as output when you create a version using \"Save & Run All\" \n",
    "# You can also write temporary files to /kaggle/temp/, but they won't be saved outside of the current session"
   ]
  },
  {
   "cell_type": "markdown",
   "id": "2af19efc",
   "metadata": {
    "papermill": {
     "duration": 0.022123,
     "end_time": "2023-11-20T02:10:55.940122",
     "exception": false,
     "start_time": "2023-11-20T02:10:55.917999",
     "status": "completed"
    },
    "tags": []
   },
   "source": [
    "# **Load the Data from the Database**"
   ]
  },
  {
   "cell_type": "code",
   "execution_count": 2,
   "id": "1f914d24",
   "metadata": {
    "execution": {
     "iopub.execute_input": "2023-11-20T02:10:55.987571Z",
     "iopub.status.busy": "2023-11-20T02:10:55.987015Z",
     "iopub.status.idle": "2023-11-20T02:10:56.039781Z",
     "shell.execute_reply": "2023-11-20T02:10:56.038628Z"
    },
    "papermill": {
     "duration": 0.079563,
     "end_time": "2023-11-20T02:10:56.042486",
     "exception": false,
     "start_time": "2023-11-20T02:10:55.962923",
     "status": "completed"
    },
    "tags": []
   },
   "outputs": [
    {
     "data": {
      "text/html": [
       "<div>\n",
       "<style scoped>\n",
       "    .dataframe tbody tr th:only-of-type {\n",
       "        vertical-align: middle;\n",
       "    }\n",
       "\n",
       "    .dataframe tbody tr th {\n",
       "        vertical-align: top;\n",
       "    }\n",
       "\n",
       "    .dataframe thead th {\n",
       "        text-align: right;\n",
       "    }\n",
       "</style>\n",
       "<table border=\"1\" class=\"dataframe\">\n",
       "  <thead>\n",
       "    <tr style=\"text-align: right;\">\n",
       "      <th></th>\n",
       "      <th>PassengerId</th>\n",
       "      <th>Survived</th>\n",
       "      <th>Pclass</th>\n",
       "      <th>Name</th>\n",
       "      <th>Sex</th>\n",
       "      <th>Age</th>\n",
       "      <th>SibSp</th>\n",
       "      <th>Parch</th>\n",
       "      <th>Ticket</th>\n",
       "      <th>Fare</th>\n",
       "      <th>Cabin</th>\n",
       "      <th>Embarked</th>\n",
       "    </tr>\n",
       "  </thead>\n",
       "  <tbody>\n",
       "    <tr>\n",
       "      <th>0</th>\n",
       "      <td>1</td>\n",
       "      <td>0</td>\n",
       "      <td>3</td>\n",
       "      <td>Braund, Mr. Owen Harris</td>\n",
       "      <td>male</td>\n",
       "      <td>22.0</td>\n",
       "      <td>1</td>\n",
       "      <td>0</td>\n",
       "      <td>A/5 21171</td>\n",
       "      <td>7.2500</td>\n",
       "      <td>NaN</td>\n",
       "      <td>S</td>\n",
       "    </tr>\n",
       "    <tr>\n",
       "      <th>1</th>\n",
       "      <td>2</td>\n",
       "      <td>1</td>\n",
       "      <td>1</td>\n",
       "      <td>Cumings, Mrs. John Bradley (Florence Briggs Th...</td>\n",
       "      <td>female</td>\n",
       "      <td>38.0</td>\n",
       "      <td>1</td>\n",
       "      <td>0</td>\n",
       "      <td>PC 17599</td>\n",
       "      <td>71.2833</td>\n",
       "      <td>C85</td>\n",
       "      <td>C</td>\n",
       "    </tr>\n",
       "    <tr>\n",
       "      <th>2</th>\n",
       "      <td>3</td>\n",
       "      <td>1</td>\n",
       "      <td>3</td>\n",
       "      <td>Heikkinen, Miss. Laina</td>\n",
       "      <td>female</td>\n",
       "      <td>26.0</td>\n",
       "      <td>0</td>\n",
       "      <td>0</td>\n",
       "      <td>STON/O2. 3101282</td>\n",
       "      <td>7.9250</td>\n",
       "      <td>NaN</td>\n",
       "      <td>S</td>\n",
       "    </tr>\n",
       "    <tr>\n",
       "      <th>3</th>\n",
       "      <td>4</td>\n",
       "      <td>1</td>\n",
       "      <td>1</td>\n",
       "      <td>Futrelle, Mrs. Jacques Heath (Lily May Peel)</td>\n",
       "      <td>female</td>\n",
       "      <td>35.0</td>\n",
       "      <td>1</td>\n",
       "      <td>0</td>\n",
       "      <td>113803</td>\n",
       "      <td>53.1000</td>\n",
       "      <td>C123</td>\n",
       "      <td>S</td>\n",
       "    </tr>\n",
       "    <tr>\n",
       "      <th>4</th>\n",
       "      <td>5</td>\n",
       "      <td>0</td>\n",
       "      <td>3</td>\n",
       "      <td>Allen, Mr. William Henry</td>\n",
       "      <td>male</td>\n",
       "      <td>35.0</td>\n",
       "      <td>0</td>\n",
       "      <td>0</td>\n",
       "      <td>373450</td>\n",
       "      <td>8.0500</td>\n",
       "      <td>NaN</td>\n",
       "      <td>S</td>\n",
       "    </tr>\n",
       "  </tbody>\n",
       "</table>\n",
       "</div>"
      ],
      "text/plain": [
       "   PassengerId  Survived  Pclass  \\\n",
       "0            1         0       3   \n",
       "1            2         1       1   \n",
       "2            3         1       3   \n",
       "3            4         1       1   \n",
       "4            5         0       3   \n",
       "\n",
       "                                                Name     Sex   Age  SibSp  \\\n",
       "0                            Braund, Mr. Owen Harris    male  22.0      1   \n",
       "1  Cumings, Mrs. John Bradley (Florence Briggs Th...  female  38.0      1   \n",
       "2                             Heikkinen, Miss. Laina  female  26.0      0   \n",
       "3       Futrelle, Mrs. Jacques Heath (Lily May Peel)  female  35.0      1   \n",
       "4                           Allen, Mr. William Henry    male  35.0      0   \n",
       "\n",
       "   Parch            Ticket     Fare Cabin Embarked  \n",
       "0      0         A/5 21171   7.2500   NaN        S  \n",
       "1      0          PC 17599  71.2833   C85        C  \n",
       "2      0  STON/O2. 3101282   7.9250   NaN        S  \n",
       "3      0            113803  53.1000  C123        S  \n",
       "4      0            373450   8.0500   NaN        S  "
      ]
     },
     "execution_count": 2,
     "metadata": {},
     "output_type": "execute_result"
    }
   ],
   "source": [
    "#Remember to eventually clean up the wrong or missing values\n",
    "train_data = pd.read_csv(\"/kaggle/input/titanic/train.csv\")\n",
    "\n",
    "train_data.head()"
   ]
  },
  {
   "cell_type": "code",
   "execution_count": 3,
   "id": "47df0fda",
   "metadata": {
    "execution": {
     "iopub.execute_input": "2023-11-20T02:10:56.089394Z",
     "iopub.status.busy": "2023-11-20T02:10:56.089006Z",
     "iopub.status.idle": "2023-11-20T02:10:56.118878Z",
     "shell.execute_reply": "2023-11-20T02:10:56.117688Z"
    },
    "papermill": {
     "duration": 0.056891,
     "end_time": "2023-11-20T02:10:56.121681",
     "exception": false,
     "start_time": "2023-11-20T02:10:56.064790",
     "status": "completed"
    },
    "tags": []
   },
   "outputs": [
    {
     "data": {
      "text/html": [
       "<div>\n",
       "<style scoped>\n",
       "    .dataframe tbody tr th:only-of-type {\n",
       "        vertical-align: middle;\n",
       "    }\n",
       "\n",
       "    .dataframe tbody tr th {\n",
       "        vertical-align: top;\n",
       "    }\n",
       "\n",
       "    .dataframe thead th {\n",
       "        text-align: right;\n",
       "    }\n",
       "</style>\n",
       "<table border=\"1\" class=\"dataframe\">\n",
       "  <thead>\n",
       "    <tr style=\"text-align: right;\">\n",
       "      <th></th>\n",
       "      <th>PassengerId</th>\n",
       "      <th>Pclass</th>\n",
       "      <th>Name</th>\n",
       "      <th>Sex</th>\n",
       "      <th>Age</th>\n",
       "      <th>SibSp</th>\n",
       "      <th>Parch</th>\n",
       "      <th>Ticket</th>\n",
       "      <th>Fare</th>\n",
       "      <th>Cabin</th>\n",
       "      <th>Embarked</th>\n",
       "    </tr>\n",
       "  </thead>\n",
       "  <tbody>\n",
       "    <tr>\n",
       "      <th>0</th>\n",
       "      <td>892</td>\n",
       "      <td>3</td>\n",
       "      <td>Kelly, Mr. James</td>\n",
       "      <td>male</td>\n",
       "      <td>34.5</td>\n",
       "      <td>0</td>\n",
       "      <td>0</td>\n",
       "      <td>330911</td>\n",
       "      <td>7.8292</td>\n",
       "      <td>NaN</td>\n",
       "      <td>Q</td>\n",
       "    </tr>\n",
       "    <tr>\n",
       "      <th>1</th>\n",
       "      <td>893</td>\n",
       "      <td>3</td>\n",
       "      <td>Wilkes, Mrs. James (Ellen Needs)</td>\n",
       "      <td>female</td>\n",
       "      <td>47.0</td>\n",
       "      <td>1</td>\n",
       "      <td>0</td>\n",
       "      <td>363272</td>\n",
       "      <td>7.0000</td>\n",
       "      <td>NaN</td>\n",
       "      <td>S</td>\n",
       "    </tr>\n",
       "    <tr>\n",
       "      <th>2</th>\n",
       "      <td>894</td>\n",
       "      <td>2</td>\n",
       "      <td>Myles, Mr. Thomas Francis</td>\n",
       "      <td>male</td>\n",
       "      <td>62.0</td>\n",
       "      <td>0</td>\n",
       "      <td>0</td>\n",
       "      <td>240276</td>\n",
       "      <td>9.6875</td>\n",
       "      <td>NaN</td>\n",
       "      <td>Q</td>\n",
       "    </tr>\n",
       "    <tr>\n",
       "      <th>3</th>\n",
       "      <td>895</td>\n",
       "      <td>3</td>\n",
       "      <td>Wirz, Mr. Albert</td>\n",
       "      <td>male</td>\n",
       "      <td>27.0</td>\n",
       "      <td>0</td>\n",
       "      <td>0</td>\n",
       "      <td>315154</td>\n",
       "      <td>8.6625</td>\n",
       "      <td>NaN</td>\n",
       "      <td>S</td>\n",
       "    </tr>\n",
       "    <tr>\n",
       "      <th>4</th>\n",
       "      <td>896</td>\n",
       "      <td>3</td>\n",
       "      <td>Hirvonen, Mrs. Alexander (Helga E Lindqvist)</td>\n",
       "      <td>female</td>\n",
       "      <td>22.0</td>\n",
       "      <td>1</td>\n",
       "      <td>1</td>\n",
       "      <td>3101298</td>\n",
       "      <td>12.2875</td>\n",
       "      <td>NaN</td>\n",
       "      <td>S</td>\n",
       "    </tr>\n",
       "  </tbody>\n",
       "</table>\n",
       "</div>"
      ],
      "text/plain": [
       "   PassengerId  Pclass                                          Name     Sex  \\\n",
       "0          892       3                              Kelly, Mr. James    male   \n",
       "1          893       3              Wilkes, Mrs. James (Ellen Needs)  female   \n",
       "2          894       2                     Myles, Mr. Thomas Francis    male   \n",
       "3          895       3                              Wirz, Mr. Albert    male   \n",
       "4          896       3  Hirvonen, Mrs. Alexander (Helga E Lindqvist)  female   \n",
       "\n",
       "    Age  SibSp  Parch   Ticket     Fare Cabin Embarked  \n",
       "0  34.5      0      0   330911   7.8292   NaN        Q  \n",
       "1  47.0      1      0   363272   7.0000   NaN        S  \n",
       "2  62.0      0      0   240276   9.6875   NaN        Q  \n",
       "3  27.0      0      0   315154   8.6625   NaN        S  \n",
       "4  22.0      1      1  3101298  12.2875   NaN        S  "
      ]
     },
     "execution_count": 3,
     "metadata": {},
     "output_type": "execute_result"
    }
   ],
   "source": [
    "#Remember to eventually clean up the wrong or missing values\n",
    "test_data = pd.read_csv(\"/kaggle/input/titanic/test.csv\")\n",
    "\n",
    "test_data.head()"
   ]
  },
  {
   "cell_type": "code",
   "execution_count": 4,
   "id": "10baf110",
   "metadata": {
    "execution": {
     "iopub.execute_input": "2023-11-20T02:10:56.171686Z",
     "iopub.status.busy": "2023-11-20T02:10:56.171231Z",
     "iopub.status.idle": "2023-11-20T02:10:56.177638Z",
     "shell.execute_reply": "2023-11-20T02:10:56.176666Z"
    },
    "papermill": {
     "duration": 0.03545,
     "end_time": "2023-11-20T02:10:56.180085",
     "exception": false,
     "start_time": "2023-11-20T02:10:56.144635",
     "status": "completed"
    },
    "tags": []
   },
   "outputs": [
    {
     "name": "stdout",
     "output_type": "stream",
     "text": [
      "Index(['PassengerId', 'Survived', 'Pclass', 'Name', 'Sex', 'Age', 'SibSp',\n",
      "       'Parch', 'Ticket', 'Fare', 'Cabin', 'Embarked'],\n",
      "      dtype='object')\n",
      "(891, 12)\n"
     ]
    }
   ],
   "source": [
    "print(train_data.columns)\n",
    "print(train_data.shape)"
   ]
  },
  {
   "cell_type": "markdown",
   "id": "e2b334cd",
   "metadata": {
    "papermill": {
     "duration": 0.022507,
     "end_time": "2023-11-20T02:10:56.225523",
     "exception": false,
     "start_time": "2023-11-20T02:10:56.203016",
     "status": "completed"
    },
    "tags": []
   },
   "source": [
    "# Choosing features #\n"
   ]
  },
  {
   "cell_type": "code",
   "execution_count": 5,
   "id": "bd10e3e8",
   "metadata": {
    "execution": {
     "iopub.execute_input": "2023-11-20T02:10:56.272838Z",
     "iopub.status.busy": "2023-11-20T02:10:56.272368Z",
     "iopub.status.idle": "2023-11-20T02:10:56.303538Z",
     "shell.execute_reply": "2023-11-20T02:10:56.302369Z"
    },
    "papermill": {
     "duration": 0.057939,
     "end_time": "2023-11-20T02:10:56.306028",
     "exception": false,
     "start_time": "2023-11-20T02:10:56.248089",
     "status": "completed"
    },
    "tags": []
   },
   "outputs": [
    {
     "data": {
      "text/html": [
       "<div>\n",
       "<style scoped>\n",
       "    .dataframe tbody tr th:only-of-type {\n",
       "        vertical-align: middle;\n",
       "    }\n",
       "\n",
       "    .dataframe tbody tr th {\n",
       "        vertical-align: top;\n",
       "    }\n",
       "\n",
       "    .dataframe thead th {\n",
       "        text-align: right;\n",
       "    }\n",
       "</style>\n",
       "<table border=\"1\" class=\"dataframe\">\n",
       "  <thead>\n",
       "    <tr style=\"text-align: right;\">\n",
       "      <th></th>\n",
       "      <th>Pclass</th>\n",
       "      <th>Fare</th>\n",
       "      <th>Sex_female</th>\n",
       "      <th>Sex_male</th>\n",
       "    </tr>\n",
       "  </thead>\n",
       "  <tbody>\n",
       "    <tr>\n",
       "      <th>0</th>\n",
       "      <td>3</td>\n",
       "      <td>7.2500</td>\n",
       "      <td>False</td>\n",
       "      <td>True</td>\n",
       "    </tr>\n",
       "    <tr>\n",
       "      <th>1</th>\n",
       "      <td>1</td>\n",
       "      <td>71.2833</td>\n",
       "      <td>True</td>\n",
       "      <td>False</td>\n",
       "    </tr>\n",
       "    <tr>\n",
       "      <th>2</th>\n",
       "      <td>3</td>\n",
       "      <td>7.9250</td>\n",
       "      <td>True</td>\n",
       "      <td>False</td>\n",
       "    </tr>\n",
       "    <tr>\n",
       "      <th>3</th>\n",
       "      <td>1</td>\n",
       "      <td>53.1000</td>\n",
       "      <td>True</td>\n",
       "      <td>False</td>\n",
       "    </tr>\n",
       "    <tr>\n",
       "      <th>4</th>\n",
       "      <td>3</td>\n",
       "      <td>8.0500</td>\n",
       "      <td>False</td>\n",
       "      <td>True</td>\n",
       "    </tr>\n",
       "  </tbody>\n",
       "</table>\n",
       "</div>"
      ],
      "text/plain": [
       "   Pclass     Fare  Sex_female  Sex_male\n",
       "0       3   7.2500       False      True\n",
       "1       1  71.2833        True     False\n",
       "2       3   7.9250        True     False\n",
       "3       1  53.1000        True     False\n",
       "4       3   8.0500       False      True"
      ]
     },
     "execution_count": 5,
     "metadata": {},
     "output_type": "execute_result"
    }
   ],
   "source": [
    "features = [\"Pclass\", \"Sex\", \"Fare\"]\n",
    "\n",
    "X_train = pd.get_dummies(train_data[features])\n",
    "\n",
    "X_train.head()\n",
    "#print(X_train.shape)"
   ]
  },
  {
   "cell_type": "markdown",
   "id": "60985251",
   "metadata": {
    "papermill": {
     "duration": 0.023578,
     "end_time": "2023-11-20T02:10:56.352760",
     "exception": false,
     "start_time": "2023-11-20T02:10:56.329182",
     "status": "completed"
    },
    "tags": []
   },
   "source": []
  },
  {
   "cell_type": "markdown",
   "id": "be0875de",
   "metadata": {
    "papermill": {
     "duration": 0.087833,
     "end_time": "2023-11-20T02:10:56.464610",
     "exception": false,
     "start_time": "2023-11-20T02:10:56.376777",
     "status": "completed"
    },
    "tags": []
   },
   "source": [
    "# Set the target/label (y) values\n"
   ]
  },
  {
   "cell_type": "code",
   "execution_count": 6,
   "id": "b8ac991d",
   "metadata": {
    "execution": {
     "iopub.execute_input": "2023-11-20T02:10:56.514066Z",
     "iopub.status.busy": "2023-11-20T02:10:56.513679Z",
     "iopub.status.idle": "2023-11-20T02:10:56.522452Z",
     "shell.execute_reply": "2023-11-20T02:10:56.521229Z"
    },
    "papermill": {
     "duration": 0.035987,
     "end_time": "2023-11-20T02:10:56.524757",
     "exception": false,
     "start_time": "2023-11-20T02:10:56.488770",
     "status": "completed"
    },
    "tags": []
   },
   "outputs": [
    {
     "data": {
      "text/plain": [
       "0    0\n",
       "1    1\n",
       "2    1\n",
       "3    1\n",
       "4    0\n",
       "Name: Survived, dtype: int64"
      ]
     },
     "execution_count": 6,
     "metadata": {},
     "output_type": "execute_result"
    }
   ],
   "source": [
    "#Y_train = pd.get_dummies(train_data[\"Survived\"])\n",
    "Y_train = train_data[\"Survived\"]\n",
    "\n",
    "Y_train.head()\n"
   ]
  },
  {
   "cell_type": "markdown",
   "id": "4c5ca4b9",
   "metadata": {
    "papermill": {
     "duration": 0.02348,
     "end_time": "2023-11-20T02:10:56.572044",
     "exception": false,
     "start_time": "2023-11-20T02:10:56.548564",
     "status": "completed"
    },
    "tags": []
   },
   "source": []
  },
  {
   "cell_type": "markdown",
   "id": "b70c3af4",
   "metadata": {
    "papermill": {
     "duration": 0.02302,
     "end_time": "2023-11-20T02:10:56.619340",
     "exception": false,
     "start_time": "2023-11-20T02:10:56.596320",
     "status": "completed"
    },
    "tags": []
   },
   "source": [
    "# Split up train data into Train-test using scikit-learn"
   ]
  },
  {
   "cell_type": "code",
   "execution_count": 7,
   "id": "8ce4efcb",
   "metadata": {
    "execution": {
     "iopub.execute_input": "2023-11-20T02:10:56.669383Z",
     "iopub.status.busy": "2023-11-20T02:10:56.668998Z",
     "iopub.status.idle": "2023-11-20T02:10:58.048922Z",
     "shell.execute_reply": "2023-11-20T02:10:58.047709Z"
    },
    "papermill": {
     "duration": 1.408904,
     "end_time": "2023-11-20T02:10:58.051790",
     "exception": false,
     "start_time": "2023-11-20T02:10:56.642886",
     "status": "completed"
    },
    "tags": []
   },
   "outputs": [
    {
     "name": "stdout",
     "output_type": "stream",
     "text": [
      "445    1\n",
      "650    0\n",
      "172    1\n",
      "450    0\n",
      "314    0\n",
      "Name: Survived, dtype: int64\n",
      "709    1\n",
      "439    0\n",
      "840    0\n",
      "720    1\n",
      "39     1\n",
      "Name: Survived, dtype: int64\n"
     ]
    }
   ],
   "source": [
    "from sklearn.model_selection import train_test_split\n",
    "\n",
    "#Split data into a train/validation and test set\n",
    "X_train, X_test, Y_train, Y_test = train_test_split(X_train, Y_train, test_size = 0.3, random_state = 42)\n",
    "\n",
    "#print(X_train.head())\n",
    "#print(Y_train.head())\n",
    "print(Y_train.head())\n",
    "\n",
    "print(Y_test.head())\n"
   ]
  },
  {
   "cell_type": "markdown",
   "id": "44741e35",
   "metadata": {
    "papermill": {
     "duration": 0.023491,
     "end_time": "2023-11-20T02:10:58.099254",
     "exception": false,
     "start_time": "2023-11-20T02:10:58.075763",
     "status": "completed"
    },
    "tags": []
   },
   "source": [
    "spliting the data into a train-test split will allow us to test our model and so it will allow us to tune our model before submitting on Kaggle. We can also use the train-validation-test split here"
   ]
  },
  {
   "cell_type": "markdown",
   "id": "faf2ea05",
   "metadata": {
    "papermill": {
     "duration": 0.028894,
     "end_time": "2023-11-20T02:10:58.157313",
     "exception": false,
     "start_time": "2023-11-20T02:10:58.128419",
     "status": "completed"
    },
    "tags": []
   },
   "source": [
    "# Making the Neural Network Model using Scikit Learn\n"
   ]
  },
  {
   "cell_type": "code",
   "execution_count": 8,
   "id": "a4f02a5c",
   "metadata": {
    "execution": {
     "iopub.execute_input": "2023-11-20T02:10:58.212973Z",
     "iopub.status.busy": "2023-11-20T02:10:58.212090Z",
     "iopub.status.idle": "2023-11-20T02:10:58.227567Z",
     "shell.execute_reply": "2023-11-20T02:10:58.226527Z"
    },
    "papermill": {
     "duration": 0.043521,
     "end_time": "2023-11-20T02:10:58.230298",
     "exception": false,
     "start_time": "2023-11-20T02:10:58.186777",
     "status": "completed"
    },
    "tags": []
   },
   "outputs": [],
   "source": [
    "from sklearn.neural_network import MLPClassifier\n",
    "from sklearn.model_selection import train_test_split\n",
    "from sklearn.preprocessing import StandardScaler\n",
    "from sklearn.metrics import accuracy_score\n",
    "\n",
    "# Commented out the code so that the model won't run everytime\n",
    "\n",
    "# model = MLPClassifier(hidden_layer_sizes=(5, 5), activation='relu', solver='adam', max_iter=1000, random_state=42)\n",
    "\n",
    "# model.fit(X_train, Y_train)\n",
    "\n",
    "# y_pred = model.predict(X_test)\n",
    "\n",
    "# print(f\"Accuracy: {accuracy_score(Y_test, y_pred):.2f}\")\n"
   ]
  },
  {
   "cell_type": "markdown",
   "id": "339bcf23",
   "metadata": {
    "papermill": {
     "duration": 0.035071,
     "end_time": "2023-11-20T02:10:58.295769",
     "exception": false,
     "start_time": "2023-11-20T02:10:58.260698",
     "status": "completed"
    },
    "tags": []
   },
   "source": [
    "**Here I am using the MLPClassifier since this is a classification problem. The output of the model will be \"Survive\" or \"not survive.\" If my model was supposed to predict a numerical value, I would be using something like MLPRegressor instead**"
   ]
  },
  {
   "cell_type": "markdown",
   "id": "83925ec7",
   "metadata": {
    "papermill": {
     "duration": 0.033755,
     "end_time": "2023-11-20T02:10:58.360268",
     "exception": false,
     "start_time": "2023-11-20T02:10:58.326513",
     "status": "completed"
    },
    "tags": []
   },
   "source": [
    "# Tried making a neural network using Tensor Flow but decided to just use Scikit learn"
   ]
  },
  {
   "cell_type": "code",
   "execution_count": 9,
   "id": "a4b7c496",
   "metadata": {
    "execution": {
     "iopub.execute_input": "2023-11-20T02:10:58.410884Z",
     "iopub.status.busy": "2023-11-20T02:10:58.410453Z",
     "iopub.status.idle": "2023-11-20T02:10:58.415576Z",
     "shell.execute_reply": "2023-11-20T02:10:58.414504Z"
    },
    "papermill": {
     "duration": 0.032768,
     "end_time": "2023-11-20T02:10:58.417873",
     "exception": false,
     "start_time": "2023-11-20T02:10:58.385105",
     "status": "completed"
    },
    "tags": []
   },
   "outputs": [],
   "source": [
    "# import tensorflow as tf\n",
    "\n",
    "\n",
    "# #Compile the model\n",
    "# model = tf.keras.models.Sequential([\n",
    "#     tf.keras.layers.Dense(64, activation = \"relu\", input_shape = (687,)),\n",
    "#     tf.keras.layers.Dense(32, activation = \"relu\"),\n",
    "#     tf.keras.layers.Dense(16, activation = \"relu\"),\n",
    "#     tf.keras.layers.Dense(1, activation = \"sigmoid\")\n",
    "# ])\n",
    "# model.compile(optimizer = \"adam\", loss = \"binary_crossentropy\", metrics = [\"accuracy\"])\n",
    "\n",
    "\n",
    "# #Train the model\n",
    "\n",
    "# #X_train = tf.convert_to_tensor(X_train)\n",
    "# #Y_train = tf.convert_to_tensor(Y_train)\n",
    "# model.fit(X_train, Y_train, epochs = 10)\n",
    "\n",
    "# #Evaluate the model \n",
    "\n",
    "# #X_test = tf.convert_to_tensor(X_test)\n",
    "# #Y_test = tf.convert_to_tensor(Y_test)\n",
    "# loss, accuracy = model.evaluate(X_test, Y_test)\n",
    "# print(\"Accuracy: \", accuracy)"
   ]
  },
  {
   "cell_type": "markdown",
   "id": "4780355a",
   "metadata": {
    "papermill": {
     "duration": 0.026926,
     "end_time": "2023-11-20T02:10:58.468550",
     "exception": false,
     "start_time": "2023-11-20T02:10:58.441624",
     "status": "completed"
    },
    "tags": []
   },
   "source": [
    "# Testing model on real test set and Submitting Model (Accuracy: 0.755)\n"
   ]
  },
  {
   "cell_type": "code",
   "execution_count": 10,
   "id": "b8d1e7e7",
   "metadata": {
    "execution": {
     "iopub.execute_input": "2023-11-20T02:10:58.523349Z",
     "iopub.status.busy": "2023-11-20T02:10:58.522431Z",
     "iopub.status.idle": "2023-11-20T02:10:58.554619Z",
     "shell.execute_reply": "2023-11-20T02:10:58.553322Z"
    },
    "papermill": {
     "duration": 0.061158,
     "end_time": "2023-11-20T02:10:58.557238",
     "exception": false,
     "start_time": "2023-11-20T02:10:58.496080",
     "status": "completed"
    },
    "tags": []
   },
   "outputs": [
    {
     "name": "stdout",
     "output_type": "stream",
     "text": [
      "Index(['Pclass', 'Fare', 'Sex_female', 'Sex_male', 'PassengerId'], dtype='object')\n"
     ]
    }
   ],
   "source": [
    "test_data = pd.read_csv(\"/kaggle/input/titanic/test.csv\")\n",
    "features = [\"Pclass\", \"Sex\", \"Fare\"]\n",
    "test_X = pd.get_dummies(test_data[features])\n",
    "#test_X = test_X.dropna()\n",
    "#print(test_X[\"Sex_female\"])\n",
    "test_X['Fare'].fillna(test_X['Fare'].median(), inplace=True)\n",
    "\n",
    "# Impute categorical columns with the mode\n",
    "for column in ['Pclass']:\n",
    "    test_X[column].fillna(test_X[column].mode()[0], inplace=True)\n",
    "\n",
    "for column in [\"Sex_female\"]:\n",
    "    test_X[column].fillna(False, inplace=True)\n",
    "    \n",
    "for column in ['Sex_male']:\n",
    "    test_X[column].fillna(True, inplace=True)\n",
    "  \n",
    "  \n",
    "# print(X_test)\n",
    "\n",
    "#model.fit(X_train, Y_train)\n",
    "\n",
    "# predictions = model.predict(test_X)\n",
    "\n",
    "pass_id = test_data['PassengerId']\n",
    "\n",
    "test_data = test_data.drop('PassengerId', axis=1)\n",
    "test_data = pd.get_dummies(test_data[features])\n",
    "\n",
    "test_data[\"PassengerId\"] = pass_id\n",
    "\n",
    "test_data['Fare'].fillna(test_data['Fare'].median(), inplace=True)\n",
    "\n",
    "print(test_data.columns)\n",
    "\n",
    "# Impute categorical columns with the mode\n",
    "for column in ['Pclass']:\n",
    "    test_data[column].fillna(test_data[column].mode()[0], inplace=True)\n",
    "\n",
    "for column in ['Sex_female']:\n",
    "    test_data[column].fillna(False, inplace=True)\n",
    "    \n",
    "for column in ['Sex_male']:\n",
    "    test_data[column].fillna(True, inplace=True)\n",
    "    \n",
    "# Commented out the code so that the model won't run everytime\n",
    "\n",
    "# print(test_X.shape)\n",
    "# print(predictions.shape)\n",
    "# print(test_data.shape)\n",
    "\n",
    "\n",
    "# output = pd.DataFrame({'PassengerId': test_data.PassengerId, 'Survived': predictions})\n",
    "# output.to_csv('submission.csv', index=False)\n",
    "# print(\"Your submission was successfully saved!\")"
   ]
  },
  {
   "cell_type": "markdown",
   "id": "f07d677f",
   "metadata": {
    "papermill": {
     "duration": 0.023901,
     "end_time": "2023-11-20T02:10:58.605539",
     "exception": false,
     "start_time": "2023-11-20T02:10:58.581638",
     "status": "completed"
    },
    "tags": []
   },
   "source": [
    "**The accuracy of the model was 0.755**"
   ]
  },
  {
   "cell_type": "markdown",
   "id": "3169099e",
   "metadata": {
    "papermill": {
     "duration": 0.023768,
     "end_time": "2023-11-20T02:10:58.653378",
     "exception": false,
     "start_time": "2023-11-20T02:10:58.629610",
     "status": "completed"
    },
    "tags": []
   },
   "source": [
    "# After first submission, I will now try and edit the neural network to improve the accurary\n"
   ]
  },
  {
   "cell_type": "code",
   "execution_count": 11,
   "id": "8f94e1a3",
   "metadata": {
    "execution": {
     "iopub.execute_input": "2023-11-20T02:10:58.705070Z",
     "iopub.status.busy": "2023-11-20T02:10:58.704656Z",
     "iopub.status.idle": "2023-11-20T02:10:58.709374Z",
     "shell.execute_reply": "2023-11-20T02:10:58.708532Z"
    },
    "papermill": {
     "duration": 0.03328,
     "end_time": "2023-11-20T02:10:58.711691",
     "exception": false,
     "start_time": "2023-11-20T02:10:58.678411",
     "status": "completed"
    },
    "tags": []
   },
   "outputs": [],
   "source": [
    "# Commented out the code so that the model won't run everytime\n",
    "\n",
    "# model = MLPClassifier(hidden_layer_sizes=(14, 4), activation='relu', solver='lbfgs', max_iter=1000, random_state=42)\n",
    "\n",
    "# model.fit(X_train, Y_train)\n",
    "\n",
    "# y_pred = model.predict(X_test)\n",
    "\n",
    "# print(f\"Accuracy: {accuracy_score(Y_test, y_pred):.2f}\")\n",
    "\n"
   ]
  },
  {
   "cell_type": "markdown",
   "id": "d95d165f",
   "metadata": {
    "papermill": {
     "duration": 0.023923,
     "end_time": "2023-11-20T02:10:58.760182",
     "exception": false,
     "start_time": "2023-11-20T02:10:58.736259",
     "status": "completed"
    },
    "tags": []
   },
   "source": [
    "**I edited  the hidden layer sizes**\n"
   ]
  },
  {
   "cell_type": "markdown",
   "id": "e1cab373",
   "metadata": {
    "papermill": {
     "duration": 0.02379,
     "end_time": "2023-11-20T02:10:58.808142",
     "exception": false,
     "start_time": "2023-11-20T02:10:58.784352",
     "status": "completed"
    },
    "tags": []
   },
   "source": [
    "# Second submission (accuracy: 0.76)\n"
   ]
  },
  {
   "cell_type": "code",
   "execution_count": 12,
   "id": "f379e8f5",
   "metadata": {
    "execution": {
     "iopub.execute_input": "2023-11-20T02:10:58.858302Z",
     "iopub.status.busy": "2023-11-20T02:10:58.857638Z",
     "iopub.status.idle": "2023-11-20T02:10:58.877714Z",
     "shell.execute_reply": "2023-11-20T02:10:58.876056Z"
    },
    "papermill": {
     "duration": 0.048179,
     "end_time": "2023-11-20T02:10:58.880316",
     "exception": false,
     "start_time": "2023-11-20T02:10:58.832137",
     "status": "completed"
    },
    "tags": []
   },
   "outputs": [
    {
     "name": "stdout",
     "output_type": "stream",
     "text": [
      "done\n"
     ]
    }
   ],
   "source": [
    "test_data = pd.read_csv(\"/kaggle/input/titanic/test.csv\")\n",
    "features = [\"Pclass\", \"Sex\", \"Fare\"]\n",
    "test_X = pd.get_dummies(test_data[features])\n",
    "\n",
    "test_X['Fare'].fillna(test_X['Fare'].median(), inplace=True)\n",
    "\n",
    "# Impute categorical columns with the mode\n",
    "for column in ['Pclass']:\n",
    "    test_X[column].fillna(test_X[column].mode()[0], inplace=True)\n",
    "\n",
    "for column in [\"Sex_female\"]:\n",
    "    test_X[column].fillna(False, inplace=True)\n",
    "    \n",
    "for column in ['Sex_male']:\n",
    "    test_X[column].fillna(True, inplace=True)\n",
    "\n",
    "print(\"done\")\n",
    "\n",
    "\n",
    "# Commented out the code so that the model won't run everytime\n",
    "\n",
    "# predictions2 = model.predict(test_X)\n",
    "\n",
    "# pass_id = test_data['PassengerId']\n",
    "\n",
    "# test_data = test_data.drop('PassengerId', axis=1)\n",
    "# test_data = pd.get_dummies(test_data[features])\n",
    "\n",
    "# test_data[\"PassengerId\"] = pass_id\n",
    "\n",
    "# print(test_data.columns)\n",
    "\n",
    "# print(test_X.shape)\n",
    "# print(predictions2.shape)\n",
    "# print(test_data.shape)\n",
    "\n",
    "# output = pd.DataFrame({'PassengerId': test_data.PassengerId, 'Survived': predictions2})\n",
    "# output.to_csv('submission.csv', index=False)\n",
    "# print(\"Your submission was successfully saved!\")"
   ]
  },
  {
   "cell_type": "markdown",
   "id": "7f28767d",
   "metadata": {
    "papermill": {
     "duration": 0.024999,
     "end_time": "2023-11-20T02:10:58.929946",
     "exception": false,
     "start_time": "2023-11-20T02:10:58.904947",
     "status": "completed"
    },
    "tags": []
   },
   "source": [
    "**Here, from the code above, I went from a 0.755 to a 0.76 by editing the hidden layer sizes. However, this wasn't much of a big change and the accuracy of the model is still worse than the 0.775 which I achieved through a simple Random Decision Forest Model.**\n"
   ]
  },
  {
   "cell_type": "markdown",
   "id": "bdb41fe8",
   "metadata": {
    "papermill": {
     "duration": 0.024574,
     "end_time": "2023-11-20T02:10:58.979837",
     "exception": false,
     "start_time": "2023-11-20T02:10:58.955263",
     "status": "completed"
    },
    "tags": []
   },
   "source": [
    "**From this code, I realized that I should be imputing and cleaning the data BEFORE I use pd.get_dummies(). This is because pd.get_dummies() adds a lot more columns to the data because it turns all categorial columns to multiple binary columns which puts a 0 or 1 in each row. So, I should be cleaming up the data BEFORE I use pd.get_dummies() since pd.get_dummies adds so many more columns to the data and makes the data so much harder to clean. \n",
    "For example, it's hard to impute values in the \"age\" column after you do pd.get_Dummies() since imputing age relies on finding the average age of each person and it's a lot easier to find the average age is the all the ages were in a single column but if we do pd.get_Dummies, we are going to split up the age column into many more age columns which correspond to each unique age value in the data set**"
   ]
  },
  {
   "cell_type": "markdown",
   "id": "6a1214c1",
   "metadata": {
    "papermill": {
     "duration": 0.024212,
     "end_time": "2023-11-20T02:10:59.029716",
     "exception": false,
     "start_time": "2023-11-20T02:10:59.005504",
     "status": "completed"
    },
    "tags": []
   },
   "source": []
  },
  {
   "cell_type": "markdown",
   "id": "578262fe",
   "metadata": {
    "papermill": {
     "duration": 0.024737,
     "end_time": "2023-11-20T02:10:59.078858",
     "exception": false,
     "start_time": "2023-11-20T02:10:59.054121",
     "status": "completed"
    },
    "tags": []
   },
   "source": [
    "# Now I will re-initialize my data set and clean up my data before using pd.get_dummies()"
   ]
  },
  {
   "cell_type": "markdown",
   "id": "05785bdb",
   "metadata": {
    "papermill": {
     "duration": 0.025135,
     "end_time": "2023-11-20T02:10:59.129193",
     "exception": false,
     "start_time": "2023-11-20T02:10:59.104058",
     "status": "completed"
    },
    "tags": []
   },
   "source": [
    "**I set up X_train and Y_train, but this time, instead of doing pd.get_Dummies() on X_train, I'm not going to use pd.get_Dummies() until after I clean up the data**"
   ]
  },
  {
   "cell_type": "code",
   "execution_count": 13,
   "id": "e11fe79d",
   "metadata": {
    "execution": {
     "iopub.execute_input": "2023-11-20T02:10:59.182155Z",
     "iopub.status.busy": "2023-11-20T02:10:59.181707Z",
     "iopub.status.idle": "2023-11-20T02:10:59.201074Z",
     "shell.execute_reply": "2023-11-20T02:10:59.199808Z"
    },
    "papermill": {
     "duration": 0.050113,
     "end_time": "2023-11-20T02:10:59.203676",
     "exception": false,
     "start_time": "2023-11-20T02:10:59.153563",
     "status": "completed"
    },
    "tags": []
   },
   "outputs": [
    {
     "name": "stdout",
     "output_type": "stream",
     "text": [
      "   PassengerId  Survived  Pclass  \\\n",
      "0            1         0       3   \n",
      "1            2         1       1   \n",
      "2            3         1       3   \n",
      "3            4         1       1   \n",
      "4            5         0       3   \n",
      "\n",
      "                                                Name     Sex   Age  SibSp  \\\n",
      "0                            Braund, Mr. Owen Harris    male  22.0      1   \n",
      "1  Cumings, Mrs. John Bradley (Florence Briggs Th...  female  38.0      1   \n",
      "2                             Heikkinen, Miss. Laina  female  26.0      0   \n",
      "3       Futrelle, Mrs. Jacques Heath (Lily May Peel)  female  35.0      1   \n",
      "4                           Allen, Mr. William Henry    male  35.0      0   \n",
      "\n",
      "   Parch            Ticket     Fare Cabin Embarked  \n",
      "0      0         A/5 21171   7.2500   NaN        S  \n",
      "1      0          PC 17599  71.2833   C85        C  \n",
      "2      0  STON/O2. 3101282   7.9250   NaN        S  \n",
      "3      0            113803  53.1000  C123        S  \n",
      "4      0            373450   8.0500   NaN        S  \n"
     ]
    }
   ],
   "source": [
    "train_data = pd.read_csv(\"/kaggle/input/titanic/train.csv\")\n",
    "\n",
    "features = [\"Pclass\", \"Sex\", \"Fare\",\"Age\", \"SibSp\", \"Parch\"] # Here, I also added more features which I think might be useful\n",
    "\n",
    "X_train = train_data # I won't actually limit the X_train to just the columns of the features I want just yet. This is because I will use the other columns in the data set to help impute missing values\n",
    "\n",
    "Y_train = train_data[\"Survived\"]\n",
    "\n",
    "print(X_train.head())\n"
   ]
  },
  {
   "cell_type": "markdown",
   "id": "1fd03acf",
   "metadata": {
    "papermill": {
     "duration": 0.024863,
     "end_time": "2023-11-20T02:10:59.254229",
     "exception": false,
     "start_time": "2023-11-20T02:10:59.229366",
     "status": "completed"
    },
    "tags": []
   },
   "source": [
    "# Start cleaning up the data"
   ]
  },
  {
   "cell_type": "code",
   "execution_count": 14,
   "id": "c2e1f437",
   "metadata": {
    "execution": {
     "iopub.execute_input": "2023-11-20T02:10:59.308398Z",
     "iopub.status.busy": "2023-11-20T02:10:59.307925Z",
     "iopub.status.idle": "2023-11-20T02:10:59.321029Z",
     "shell.execute_reply": "2023-11-20T02:10:59.319513Z"
    },
    "papermill": {
     "duration": 0.042775,
     "end_time": "2023-11-20T02:10:59.323618",
     "exception": false,
     "start_time": "2023-11-20T02:10:59.280843",
     "status": "completed"
    },
    "tags": []
   },
   "outputs": [
    {
     "name": "stdout",
     "output_type": "stream",
     "text": [
      "0\n",
      "0\n",
      "0\n",
      "0\n",
      "0\n",
      "177\n"
     ]
    }
   ],
   "source": [
    "# Impute missing values for Pclass\n",
    "\n",
    "average_Pclass = X_train[\"Pclass\"].median()\n",
    "\n",
    "X_train[\"Pclass\"].fillna(average_Pclass, inplace = True)\n",
    "\n",
    "print(X_train[\"Pclass\"].isnull().sum()) # print the number of rows in the \"Pclass\" columns that now have no value\n",
    "\n",
    "print(X_train[\"Sex\"].isnull().sum()) # Since this prints out 0, this means that there is no missing value in the \"Sex\" column so we don't need to impute anything\n",
    "\n",
    "print(X_train[\"Fare\"].isnull().sum()) # Since this prints out 0, this means that there is no missing value in the \"Fare\" column so we don't need to impute anything\n",
    "\n",
    "print(X_train[\"SibSp\"].isnull().sum()) # Since this prints out 0, this means that there is no missing value in the \"SibSp\" column so we don't need to impute anything\n",
    "\n",
    "print(X_train[\"Parch\"].isnull().sum()) # Since this prints out 0, this means that there is no missing value in the \"Parch\" column so we don't need to impute anything\n",
    "\n",
    "print(X_train[\"Age\"].isnull().sum()) # This prints out 177 so there are 177 rows with missing values in the \"Age\" column! This means we have to do a lot of imputing\n",
    "\n"
   ]
  },
  {
   "cell_type": "markdown",
   "id": "478fbb27",
   "metadata": {
    "papermill": {
     "duration": 0.025921,
     "end_time": "2023-11-20T02:10:59.375810",
     "exception": false,
     "start_time": "2023-11-20T02:10:59.349889",
     "status": "completed"
    },
    "tags": []
   },
   "source": [
    "**From this, we learned that age is the main column with missing values (of the columns that we are working with) so we need to methodically impute those missing values**"
   ]
  },
  {
   "cell_type": "markdown",
   "id": "e619f6a8",
   "metadata": {
    "papermill": {
     "duration": 0.024963,
     "end_time": "2023-11-20T02:10:59.425800",
     "exception": false,
     "start_time": "2023-11-20T02:10:59.400837",
     "status": "completed"
    },
    "tags": []
   },
   "source": [
    "# Cleaning up (imputing) the Age column using a Random Forest Regressor model (a type of Machine Learning model) that accurately predicts the age of a person given their "
   ]
  },
  {
   "cell_type": "code",
   "execution_count": 15,
   "id": "3955d29c",
   "metadata": {
    "execution": {
     "iopub.execute_input": "2023-11-20T02:10:59.479963Z",
     "iopub.status.busy": "2023-11-20T02:10:59.479557Z",
     "iopub.status.idle": "2023-11-20T02:11:24.134696Z",
     "shell.execute_reply": "2023-11-20T02:11:24.133390Z"
    },
    "papermill": {
     "duration": 24.685311,
     "end_time": "2023-11-20T02:11:24.137242",
     "exception": false,
     "start_time": "2023-11-20T02:10:59.451931",
     "status": "completed"
    },
    "tags": []
   },
   "outputs": [
    {
     "name": "stdout",
     "output_type": "stream",
     "text": [
      "0\n"
     ]
    },
    {
     "name": "stderr",
     "output_type": "stream",
     "text": [
      "/opt/conda/lib/python3.10/site-packages/sklearn/impute/_iterative.py:785: ConvergenceWarning: [IterativeImputer] Early stopping criterion not reached.\n",
      "  warnings.warn(\n"
     ]
    }
   ],
   "source": [
    "from sklearn.experimental import enable_iterative_imputer\n",
    "from sklearn.impute import IterativeImputer\n",
    "from sklearn.ensemble import RandomForestRegressor\n",
    "from sklearn.preprocessing import LabelEncoder\n",
    "\n",
    "\n",
    "#We use \"LabelEncoder\" to turn all the categorial values (values which don't use numbers) into values which the Random Forest Regressor can understand more easily. This is very similar to doing something like pd.get_dummies()\n",
    "\n",
    "label_encoders = {}\n",
    "for column in ['Sex', 'Embarked']:\n",
    "    label_encoders[column] = LabelEncoder()\n",
    "    # We use 'astype(str)' to convert any NaN values to a string representation\n",
    "    X_train[column] = label_encoders[column].fit_transform(X_train[column].astype(str))\n",
    "\n",
    "features = ['Survived', 'Pclass', 'Sex', 'Age', 'SibSp', 'Parch', 'Fare', 'Embarked']\n",
    "# One very important thing that I will end up doing is using the \"Survived\" column of the dataset to predict the age. This is because there is a strong correleation between the survival and age. \n",
    "\n",
    "\n",
    "#This is an imputer. It is a function that can efficiently impute values in the way you want. For this scenario, I am using IterativeImputer() and the RandomForestRegressor(() to )\n",
    "imputer = IterativeImputer(RandomForestRegressor(n_estimators=10), max_iter=100, random_state=0)\n",
    "\n",
    "\n",
    "# Fit the imputer on the DataFrame with the features\n",
    "imputer.fit(X_train[features]) #When IterativeImputer is used alongside an ML model like RandomForestRegressor, calling .fit() on the IterativeImputer() object will also fit (train) the ML model\n",
    "\n",
    "\n",
    "# Perform the imputation on the Training Data. THIS WILL ACTUAL IMPUTE ANY MISSING VALUES IN EACH ROW, not only the missing values in Age.\n",
    "X_train_imputed = imputer.transform(X_train[features])\n",
    "\n",
    "\n",
    "# Convert the output back to a DataFrame\n",
    "X_train_imputed = pd.DataFrame(X_train_imputed, columns=features)\n",
    "\n",
    "# Update the original DataFrame with the imputed values. This means that the columns of the original X_train dataframe that weren't part of the features (like \"Name\" isn't apart of the features list)\n",
    "X_train[features] = X_train_imputed\n",
    "\n",
    "#print(X_train.head())\n",
    "\n",
    "print(X_train[\"Age\"].isnull().sum()) # Since this prints 0, we now know that there are 0 missing values in the age column and so the imputation was successful "
   ]
  },
  {
   "cell_type": "markdown",
   "id": "d230dac9",
   "metadata": {
    "papermill": {
     "duration": 0.026959,
     "end_time": "2023-11-20T02:11:24.189272",
     "exception": false,
     "start_time": "2023-11-20T02:11:24.162313",
     "status": "completed"
    },
    "tags": []
   },
   "source": [
    "**Using IterativeRegressor() and RandomForestRegressor(), I essentially used an ML model to impute any missing values in the dataset. I wanted to clean up the age column using the most effective method and I didn't want to just find the average age and impute all those values to the missing values. I wanted to be smart since age is an incredibly important feature.**"
   ]
  },
  {
   "cell_type": "markdown",
   "id": "be08d725",
   "metadata": {
    "papermill": {
     "duration": 0.024794,
     "end_time": "2023-11-20T02:11:24.239720",
     "exception": false,
     "start_time": "2023-11-20T02:11:24.214926",
     "status": "completed"
    },
    "tags": []
   },
   "source": [
    "**Using the ImperativeImputer(), this will actually impute all the missing values in each row. It won't only impute the missing values in the \"age\" column. BUT, since we already cleaned the data and know there are 0 missing values for all the other columns that we care about (the ones with the features we are using), the imputer will be imputing values only to the missing values of age and other columns that we don't care about, but out of all the columns we care about, it will only be affecting the age column since all the other columns we care about have 0 missing values as we checked in the code previously.**"
   ]
  },
  {
   "cell_type": "code",
   "execution_count": 16,
   "id": "a0395eae",
   "metadata": {
    "execution": {
     "iopub.execute_input": "2023-11-20T02:11:24.292410Z",
     "iopub.status.busy": "2023-11-20T02:11:24.292007Z",
     "iopub.status.idle": "2023-11-20T02:11:24.315033Z",
     "shell.execute_reply": "2023-11-20T02:11:24.313835Z"
    },
    "papermill": {
     "duration": 0.053088,
     "end_time": "2023-11-20T02:11:24.318095",
     "exception": false,
     "start_time": "2023-11-20T02:11:24.265007",
     "status": "completed"
    },
    "tags": []
   },
   "outputs": [
    {
     "name": "stdout",
     "output_type": "stream",
     "text": [
      "   Pclass  Sex     Fare   Age  SibSp  Parch\n",
      "0     3.0  1.0   7.2500  22.0    1.0    0.0\n",
      "1     1.0  0.0  71.2833  38.0    1.0    0.0\n",
      "2     3.0  0.0   7.9250  26.0    0.0    0.0\n",
      "3     1.0  0.0  53.1000  35.0    1.0    0.0\n",
      "4     3.0  1.0   8.0500  35.0    0.0    0.0\n",
      "314\n",
      "577\n",
      "   Pclass     Sex     Fare   Age  SibSp  Parch\n",
      "0     3.0    male   7.2500  22.0    1.0    0.0\n",
      "1     1.0  female  71.2833  38.0    1.0    0.0\n",
      "2     3.0  female   7.9250  26.0    0.0    0.0\n",
      "3     1.0  female  53.1000  35.0    1.0    0.0\n",
      "4     3.0    male   8.0500  35.0    0.0    0.0\n",
      "577\n"
     ]
    },
    {
     "name": "stderr",
     "output_type": "stream",
     "text": [
      "/tmp/ipykernel_20/1272774441.py:12: SettingWithCopyWarning: \n",
      "A value is trying to be set on a copy of a slice from a DataFrame.\n",
      "Try using .loc[row_indexer,col_indexer] = value instead\n",
      "\n",
      "See the caveats in the documentation: https://pandas.pydata.org/pandas-docs/stable/user_guide/indexing.html#returning-a-view-versus-a-copy\n",
      "  X_train['Sex'] = X_train['Sex'].map({0: 'female', 1: 'male'})\n"
     ]
    }
   ],
   "source": [
    "features = [\"Pclass\", \"Sex\", \"Fare\",\"Age\", \"SibSp\", \"Parch\"]\n",
    "\n",
    "X_train = X_train[features]\n",
    "\n",
    "print(X_train.head(5))\n",
    "\n",
    "print((X_train[\"Sex\"] == 0).sum())\n",
    "print((X_train[\"Sex\"] == 1).sum())\n",
    "\n",
    "# Since the dataset is 65% male, we can see from printing out the number of people with \"sex equal to 0\" and \"sex equal to 1\" that the LabelEncoder made Male into \"1\" and Female into \"0\". Now, let's change it back to \"Male\" and \"Female\".\n",
    "\n",
    "X_train['Sex'] = X_train['Sex'].map({0: 'female', 1: 'male'})\n",
    "\n",
    "print(X_train.head(5))\n",
    "\n",
    "print((X_train[\"Sex\"] == \"male\").sum())"
   ]
  },
  {
   "cell_type": "markdown",
   "id": "a47b9306",
   "metadata": {
    "papermill": {
     "duration": 0.026382,
     "end_time": "2023-11-20T02:11:24.370163",
     "exception": false,
     "start_time": "2023-11-20T02:11:24.343781",
     "status": "completed"
    },
    "tags": []
   },
   "source": [
    "**Here, in the code above, I changed X_train back to focus only on the features we care about. I also changed the \"Sex\" column from 0 and 1 back to Male and Female.**"
   ]
  },
  {
   "cell_type": "markdown",
   "id": "b5a2ea25",
   "metadata": {
    "papermill": {
     "duration": 0.02506,
     "end_time": "2023-11-20T02:11:24.422607",
     "exception": false,
     "start_time": "2023-11-20T02:11:24.397547",
     "status": "completed"
    },
    "tags": []
   },
   "source": [
    "# After the careful inspection of the test.csv, I see that there are also missing values in the test.csv. As a result, we have to clean up the data for test.csv as we did for train.csv"
   ]
  },
  {
   "cell_type": "markdown",
   "id": "322190af",
   "metadata": {
    "papermill": {
     "duration": 0.024983,
     "end_time": "2023-11-20T02:11:24.473000",
     "exception": false,
     "start_time": "2023-11-20T02:11:24.448017",
     "status": "completed"
    },
    "tags": []
   },
   "source": [
    "**Seeing which columns have missing values:**"
   ]
  },
  {
   "cell_type": "code",
   "execution_count": 17,
   "id": "d644056d",
   "metadata": {
    "execution": {
     "iopub.execute_input": "2023-11-20T02:11:24.525696Z",
     "iopub.status.busy": "2023-11-20T02:11:24.525236Z",
     "iopub.status.idle": "2023-11-20T02:11:24.542470Z",
     "shell.execute_reply": "2023-11-20T02:11:24.541261Z"
    },
    "papermill": {
     "duration": 0.046303,
     "end_time": "2023-11-20T02:11:24.544747",
     "exception": false,
     "start_time": "2023-11-20T02:11:24.498444",
     "status": "completed"
    },
    "tags": []
   },
   "outputs": [
    {
     "name": "stdout",
     "output_type": "stream",
     "text": [
      "0\n",
      "0\n",
      "0\n",
      "0\n",
      "1\n",
      "86\n"
     ]
    }
   ],
   "source": [
    "test_data = pd.read_csv(\"/kaggle/input/titanic/test.csv\")\n",
    "\n",
    "features = [\"Pclass\", \"Sex\", \"Fare\",\"Age\", \"SibSp\", \"Parch\"]\n",
    "\n",
    "print(test_data[\"Pclass\"].isnull().sum()) # Since this is 0, that means there is no missing values\n",
    "\n",
    "print(test_data[\"Sex\"].isnull().sum()) # Since this is 0, that means there is no missing values\n",
    "\n",
    "print(test_data[\"SibSp\"].isnull().sum()) # Since this is 0, that means there is no missing values\n",
    "\n",
    "print(test_data[\"Parch\"].isnull().sum()) # Since this is 0, that means there is no missing values\n",
    "\n",
    "print(test_data[\"Fare\"].isnull().sum()) # Since this is 1, that means there is one missing value\n",
    "\n",
    "print(test_data[\"Age\"].isnull().sum()) # Since this is 86, that means there are 86 missing values\n"
   ]
  },
  {
   "cell_type": "markdown",
   "id": "d1190bc7",
   "metadata": {
    "papermill": {
     "duration": 0.026363,
     "end_time": "2023-11-20T02:11:24.596712",
     "exception": false,
     "start_time": "2023-11-20T02:11:24.570349",
     "status": "completed"
    },
    "tags": []
   },
   "source": [
    "**From this, we can see that only \"Fare\" annd \"Age\" have missing values. Since \"Fare\" only has one missing value, it's not worth it to go to through all the work to do some advanced imputation technique to fill in missing values. So, I will just fill that in with the average fare value.**\n",
    "\n",
    "**For the \"Age\" feature, I will repeat the process of using an IterativeImputer and a RandomForestRegressor to imputate missing values**"
   ]
  },
  {
   "cell_type": "code",
   "execution_count": 18,
   "id": "b38f0b3d",
   "metadata": {
    "execution": {
     "iopub.execute_input": "2023-11-20T02:11:24.650821Z",
     "iopub.status.busy": "2023-11-20T02:11:24.650415Z",
     "iopub.status.idle": "2023-11-20T02:11:24.657280Z",
     "shell.execute_reply": "2023-11-20T02:11:24.656399Z"
    },
    "papermill": {
     "duration": 0.036912,
     "end_time": "2023-11-20T02:11:24.659687",
     "exception": false,
     "start_time": "2023-11-20T02:11:24.622775",
     "status": "completed"
    },
    "tags": []
   },
   "outputs": [
    {
     "name": "stdout",
     "output_type": "stream",
     "text": [
      "0\n"
     ]
    }
   ],
   "source": [
    "average_fare = test_data[\"Fare\"].mean()\n",
    "\n",
    "test_data[\"Fare\"].fillna(average_fare, inplace = True) # This replaces the single missing value in \"Fare\" with the average value Fare Value of the test data\n",
    "\n",
    "print(test_data[\"Fare\"].isnull().sum())"
   ]
  },
  {
   "cell_type": "code",
   "execution_count": 19,
   "id": "17e1866a",
   "metadata": {
    "execution": {
     "iopub.execute_input": "2023-11-20T02:11:24.713977Z",
     "iopub.status.busy": "2023-11-20T02:11:24.713526Z",
     "iopub.status.idle": "2023-11-20T02:11:41.700905Z",
     "shell.execute_reply": "2023-11-20T02:11:41.699809Z"
    },
    "papermill": {
     "duration": 17.019066,
     "end_time": "2023-11-20T02:11:41.704935",
     "exception": false,
     "start_time": "2023-11-20T02:11:24.685869",
     "status": "completed"
    },
    "tags": []
   },
   "outputs": [
    {
     "name": "stdout",
     "output_type": "stream",
     "text": [
      "0\n",
      "   PassengerId  Pclass                                          Name  Sex  \\\n",
      "0          892     3.0                              Kelly, Mr. James  1.0   \n",
      "1          893     3.0              Wilkes, Mrs. James (Ellen Needs)  0.0   \n",
      "2          894     2.0                     Myles, Mr. Thomas Francis  1.0   \n",
      "3          895     3.0                              Wirz, Mr. Albert  1.0   \n",
      "4          896     3.0  Hirvonen, Mrs. Alexander (Helga E Lindqvist)  0.0   \n",
      "\n",
      "    Age  SibSp  Parch   Ticket     Fare Cabin  Embarked  \n",
      "0  34.5    0.0    0.0   330911   7.8292   NaN       1.0  \n",
      "1  47.0    1.0    0.0   363272   7.0000   NaN       2.0  \n",
      "2  62.0    0.0    0.0   240276   9.6875   NaN       1.0  \n",
      "3  27.0    0.0    0.0   315154   8.6625   NaN       2.0  \n",
      "4  22.0    1.0    1.0  3101298  12.2875   NaN       2.0  \n"
     ]
    },
    {
     "name": "stderr",
     "output_type": "stream",
     "text": [
      "/opt/conda/lib/python3.10/site-packages/sklearn/impute/_iterative.py:785: ConvergenceWarning: [IterativeImputer] Early stopping criterion not reached.\n",
      "  warnings.warn(\n"
     ]
    }
   ],
   "source": [
    "from sklearn.experimental import enable_iterative_imputer\n",
    "from sklearn.impute import IterativeImputer\n",
    "from sklearn.ensemble import RandomForestRegressor\n",
    "from sklearn.preprocessing import LabelEncoder\n",
    "\n",
    "\n",
    "#We use \"LabelEncoder\" to turn all the categorial values (values which don't use numbers) into values which the Random Forest Regressor can understand more easily. This is very similar to doing something like pd.get_dummies()\n",
    "\n",
    "label_encoders = {}\n",
    "for column in ['Sex', 'Embarked']:\n",
    "    label_encoders[column] = LabelEncoder()\n",
    "    # We use 'astype(str)' to convert any NaN values to a string representation\n",
    "    test_data[column] = label_encoders[column].fit_transform(test_data[column].astype(str))\n",
    "\n",
    "features = ['Pclass', 'Sex', 'Age', 'SibSp', 'Parch', 'Fare', 'Embarked']\n",
    "\n",
    "\n",
    "#This is an imputer. It is a function that can efficiently impute values in the way you want. For this scenario, I am using IterativeImputer() and the RandomForestRegressor(() to )\n",
    "imputer = IterativeImputer(RandomForestRegressor(n_estimators=10), max_iter=100, random_state=0)\n",
    "\n",
    "\n",
    "# Fit the imputer on the DataFrame with the features\n",
    "imputer.fit(test_data[features]) #When IterativeImputer is used alongside an ML model like RandomForestRegressor, calling .fit() on the IterativeImputer() object will also fit (train) the ML model\n",
    "\n",
    "\n",
    "# Perform the imputation on the Test Data. THIS WILL ACTUAL IMPUTE ANY MISSING VALUES IN EACH ROW, not only the missing values in Age.\n",
    "test_data_imputed = imputer.transform(test_data[features])\n",
    "\n",
    "\n",
    "# Convert the output back to a DataFrame\n",
    "test_data_imputed = pd.DataFrame(test_data_imputed, columns=features)\n",
    "\n",
    "# Update the original DataFrame with the imputed values. This means that the columns of the original test_data dataframe that weren't part of the features (like \"Name\" isn't apart of the features list)\n",
    "test_data[features] = test_data_imputed\n",
    "\n",
    "print(test_data[\"Age\"].isnull().sum()) # Since this prints 0, we now know that there are 0 missing values in the age column and so the imputation was successful \n",
    "\n",
    "print(test_data.head())"
   ]
  },
  {
   "cell_type": "markdown",
   "id": "f8859195",
   "metadata": {
    "papermill": {
     "duration": 0.026861,
     "end_time": "2023-11-20T02:11:41.758561",
     "exception": false,
     "start_time": "2023-11-20T02:11:41.731700",
     "status": "completed"
    },
    "tags": []
   },
   "source": [
    "**The code above will imputate all the missing values in the test_data**"
   ]
  },
  {
   "cell_type": "markdown",
   "id": "bb18935d",
   "metadata": {
    "papermill": {
     "duration": 0.027173,
     "end_time": "2023-11-20T02:11:41.815214",
     "exception": false,
     "start_time": "2023-11-20T02:11:41.788041",
     "status": "completed"
    },
    "tags": []
   },
   "source": [
    "# Finalize the cleaning of the data and make it so test_data only has the features we want"
   ]
  },
  {
   "cell_type": "code",
   "execution_count": 20,
   "id": "60e92d54",
   "metadata": {
    "execution": {
     "iopub.execute_input": "2023-11-20T02:11:41.871018Z",
     "iopub.status.busy": "2023-11-20T02:11:41.870569Z",
     "iopub.status.idle": "2023-11-20T02:11:41.888177Z",
     "shell.execute_reply": "2023-11-20T02:11:41.886964Z"
    },
    "papermill": {
     "duration": 0.048291,
     "end_time": "2023-11-20T02:11:41.890646",
     "exception": false,
     "start_time": "2023-11-20T02:11:41.842355",
     "status": "completed"
    },
    "tags": []
   },
   "outputs": [
    {
     "name": "stdout",
     "output_type": "stream",
     "text": [
      "152\n",
      "266\n",
      "   Pclass     Sex     Fare   Age  SibSp  Parch\n",
      "0     3.0    male   7.8292  34.5    0.0    0.0\n",
      "1     3.0  female   7.0000  47.0    1.0    0.0\n",
      "2     2.0    male   9.6875  62.0    0.0    0.0\n",
      "3     3.0    male   8.6625  27.0    0.0    0.0\n",
      "4     3.0  female  12.2875  22.0    1.0    1.0\n",
      "266\n"
     ]
    }
   ],
   "source": [
    "features = [\"Pclass\", \"Sex\", \"Fare\",\"Age\", \"SibSp\", \"Parch\"]\n",
    "\n",
    "test_data = test_data[features]\n",
    "\n",
    "print((test_data[\"Sex\"] == 0).sum())\n",
    "print((test_data[\"Sex\"] == 1).sum())\n",
    "\n",
    "# Since the dataset is 65% male, we can see from printing out the number of people with \"sex equal to 0\" and \"sex equal to 1\" that the LabelEncoder made Male into \"1\" and Female into \"0\". Now, let's change it back to \"male\" and \"female\".\n",
    "\n",
    "test_data['Sex'] = test_data['Sex'].map({0: 'female', 1: 'male'})\n",
    "\n",
    "print(test_data.head(5))\n",
    "\n",
    "print((test_data[\"Sex\"] == \"male\").sum())"
   ]
  },
  {
   "cell_type": "markdown",
   "id": "97789700",
   "metadata": {
    "papermill": {
     "duration": 0.025904,
     "end_time": "2023-11-20T02:11:41.943251",
     "exception": false,
     "start_time": "2023-11-20T02:11:41.917347",
     "status": "completed"
    },
    "tags": []
   },
   "source": [
    "# Now, after cleaning up the data, I can split up the data into train_validation_test "
   ]
  },
  {
   "cell_type": "code",
   "execution_count": 21,
   "id": "38f9109a",
   "metadata": {
    "execution": {
     "iopub.execute_input": "2023-11-20T02:11:41.998863Z",
     "iopub.status.busy": "2023-11-20T02:11:41.998161Z",
     "iopub.status.idle": "2023-11-20T02:11:42.008231Z",
     "shell.execute_reply": "2023-11-20T02:11:42.007228Z"
    },
    "papermill": {
     "duration": 0.041399,
     "end_time": "2023-11-20T02:11:42.010755",
     "exception": false,
     "start_time": "2023-11-20T02:11:41.969356",
     "status": "completed"
    },
    "tags": []
   },
   "outputs": [],
   "source": [
    "from sklearn.model_selection import train_test_split\n",
    "\n",
    "Y_train = train_data[\"Survived\"]\n",
    "\n",
    "# First, split into training (60%) and a test set (40%)\n",
    "train_X, test_X, train_Y, test_Y = train_test_split(X_train, Y_train, test_size=0.4, random_state = 42)\n",
    "\n",
    "#Second, split test set into a validation (20%) and test set (20%)\n",
    "valid_X, test_X, valid_Y, test_Y= train_test_split(test_X, test_Y, test_size = 0.5, random_state = 42)"
   ]
  },
  {
   "cell_type": "markdown",
   "id": "d7742939",
   "metadata": {
    "papermill": {
     "duration": 0.025936,
     "end_time": "2023-11-20T02:11:42.062694",
     "exception": false,
     "start_time": "2023-11-20T02:11:42.036758",
     "status": "completed"
    },
    "tags": []
   },
   "source": [
    "# Using pd.get_dummies() on all the data"
   ]
  },
  {
   "cell_type": "markdown",
   "id": "6a0ddfdb",
   "metadata": {
    "papermill": {
     "duration": 0.025965,
     "end_time": "2023-11-20T02:11:42.114937",
     "exception": false,
     "start_time": "2023-11-20T02:11:42.088972",
     "status": "completed"
    },
    "tags": []
   },
   "source": [
    "**Setting up the Test data (from Test.csv) (This is NOT the test data from the Train_validation_test split):**"
   ]
  },
  {
   "cell_type": "code",
   "execution_count": 22,
   "id": "e5ef2c6d",
   "metadata": {
    "execution": {
     "iopub.execute_input": "2023-11-20T02:11:42.170993Z",
     "iopub.status.busy": "2023-11-20T02:11:42.170206Z",
     "iopub.status.idle": "2023-11-20T02:11:42.185742Z",
     "shell.execute_reply": "2023-11-20T02:11:42.184560Z"
    },
    "papermill": {
     "duration": 0.046608,
     "end_time": "2023-11-20T02:11:42.188264",
     "exception": false,
     "start_time": "2023-11-20T02:11:42.141656",
     "status": "completed"
    },
    "tags": []
   },
   "outputs": [
    {
     "name": "stdout",
     "output_type": "stream",
     "text": [
      "   Pclass     Fare   Age  SibSp  Parch  Sex_female  Sex_male\n",
      "0     3.0   7.8292  34.5    0.0    0.0       False      True\n",
      "1     3.0   7.0000  47.0    1.0    0.0        True     False\n",
      "2     2.0   9.6875  62.0    0.0    0.0       False      True\n",
      "3     3.0   8.6625  27.0    0.0    0.0       False      True\n",
      "4     3.0  12.2875  22.0    1.0    1.0        True     False\n"
     ]
    }
   ],
   "source": [
    "test_data = test_data #the \"test_data\" variable here is after we cleaned up the test_data \n",
    "\n",
    "features = [\"Pclass\", \"Sex\", \"Fare\",\"Age\", \"SibSp\", \"Parch\"]\n",
    "\n",
    "test_data = test_data[features]\n",
    "\n",
    "test_data = pd.get_dummies(test_data)\n",
    "print(test_data.head())"
   ]
  },
  {
   "cell_type": "markdown",
   "id": "408970fd",
   "metadata": {
    "papermill": {
     "duration": 0.026359,
     "end_time": "2023-11-20T02:11:42.240876",
     "exception": false,
     "start_time": "2023-11-20T02:11:42.214517",
     "status": "completed"
    },
    "tags": []
   },
   "source": [
    "**Setting up the Train data and Validation data and the Test data from the train_validation_test split:**"
   ]
  },
  {
   "cell_type": "code",
   "execution_count": 23,
   "id": "98c314d2",
   "metadata": {
    "execution": {
     "iopub.execute_input": "2023-11-20T02:11:42.295929Z",
     "iopub.status.busy": "2023-11-20T02:11:42.295212Z",
     "iopub.status.idle": "2023-11-20T02:11:42.322127Z",
     "shell.execute_reply": "2023-11-20T02:11:42.320938Z"
    },
    "papermill": {
     "duration": 0.057678,
     "end_time": "2023-11-20T02:11:42.324830",
     "exception": false,
     "start_time": "2023-11-20T02:11:42.267152",
     "status": "completed"
    },
    "tags": []
   },
   "outputs": [
    {
     "name": "stdout",
     "output_type": "stream",
     "text": [
      "     Pclass     Fare   Age  SibSp  Parch  Sex_female  Sex_male\n",
      "570     2.0  10.5000  62.0    0.0    0.0       False      True\n",
      "787     3.0  29.1250   8.0    4.0    1.0       False      True\n",
      "74      3.0  56.4958  32.0    0.0    0.0       False      True\n",
      "113     3.0   9.8250  20.0    1.0    0.0        True     False\n",
      "635     2.0  13.0000  28.0    0.0    0.0        True     False\n",
      "     Pclass     Fare        Age  SibSp  Parch  Sex_female  Sex_male\n",
      "849     1.0  89.1042  38.800000    1.0    0.0        True     False\n",
      "331     1.0  28.5000  45.500000    0.0    0.0       False      True\n",
      "260     3.0   7.7500  51.257143    0.0    0.0       False      True\n",
      "316     2.0  26.0000  24.000000    1.0    0.0        True     False\n",
      "292     2.0  12.8750  36.000000    0.0    0.0       False      True\n",
      "     Pclass     Fare        Age  SibSp  Parch  Sex_female  Sex_male\n",
      "424     3.0  20.2125  18.000000    1.0    1.0       False      True\n",
      "837     3.0   8.0500  30.809284    0.0    0.0       False      True\n",
      "525     3.0   7.7500  40.500000    0.0    0.0       False      True\n",
      "328     3.0  20.5250  31.000000    1.0    1.0        True     False\n",
      "70      2.0  10.5000  32.000000    0.0    0.0       False      True\n"
     ]
    }
   ],
   "source": [
    "train_X = pd.get_dummies(train_X)\n",
    "print(train_X.head())\n",
    "\n",
    "valid_X = pd.get_dummies(valid_X)\n",
    "print(valid_X.head())\n",
    "\n",
    "test_X = pd.get_dummies(test_X)\n",
    "print(test_X.head())"
   ]
  },
  {
   "cell_type": "markdown",
   "id": "e9dc7f12",
   "metadata": {
    "papermill": {
     "duration": 0.026113,
     "end_time": "2023-11-20T02:11:42.378009",
     "exception": false,
     "start_time": "2023-11-20T02:11:42.351896",
     "status": "completed"
    },
    "tags": []
   },
   "source": [
    "# Making the model, training it using train_X and changing the model based on valid_X"
   ]
  },
  {
   "cell_type": "code",
   "execution_count": 24,
   "id": "e41f365c",
   "metadata": {
    "execution": {
     "iopub.execute_input": "2023-11-20T02:11:42.433267Z",
     "iopub.status.busy": "2023-11-20T02:11:42.432606Z",
     "iopub.status.idle": "2023-11-20T02:11:42.437780Z",
     "shell.execute_reply": "2023-11-20T02:11:42.436998Z"
    },
    "papermill": {
     "duration": 0.035561,
     "end_time": "2023-11-20T02:11:42.439996",
     "exception": false,
     "start_time": "2023-11-20T02:11:42.404435",
     "status": "completed"
    },
    "tags": []
   },
   "outputs": [],
   "source": [
    "from sklearn.neural_network import MLPClassifier\n",
    "from sklearn.metrics import accuracy_score\n",
    "\n",
    "# Commented out the code so that the model won't run everytime\n",
    "\n",
    "# model = MLPClassifier(hidden_layer_sizes = (20, 11), activation = \"relu\", solver = \"lbfgs\", max_iter = 1000, random_state = 42)\n",
    "\n",
    "# model.fit(train_X, train_Y)\n",
    "\n",
    "# y_pred = model.predict(valid_X)\n",
    "\n",
    "# print(f\"Accuracy: {accuracy_score(valid_Y, y_pred)}\")"
   ]
  },
  {
   "cell_type": "markdown",
   "id": "447214b4",
   "metadata": {
    "papermill": {
     "duration": 0.026307,
     "end_time": "2023-11-20T02:11:42.493409",
     "exception": false,
     "start_time": "2023-11-20T02:11:42.467102",
     "status": "completed"
    },
    "tags": []
   },
   "source": [
    "**From the code above, you can see that I am using the validation set to test out the code**"
   ]
  },
  {
   "cell_type": "code",
   "execution_count": 25,
   "id": "74576870",
   "metadata": {
    "execution": {
     "iopub.execute_input": "2023-11-20T02:11:42.549422Z",
     "iopub.status.busy": "2023-11-20T02:11:42.548660Z",
     "iopub.status.idle": "2023-11-20T02:11:42.553297Z",
     "shell.execute_reply": "2023-11-20T02:11:42.552530Z"
    },
    "papermill": {
     "duration": 0.035536,
     "end_time": "2023-11-20T02:11:42.555539",
     "exception": false,
     "start_time": "2023-11-20T02:11:42.520003",
     "status": "completed"
    },
    "tags": []
   },
   "outputs": [],
   "source": [
    "# Commented out the code so that the model won't run everytime\n",
    "\n",
    "# y_pred = model.predict(test_X)\n",
    "\n",
    "# print(f\"Accuracy: {accuracy_score(test_Y, y_pred)}\")"
   ]
  },
  {
   "cell_type": "markdown",
   "id": "13eed941",
   "metadata": {
    "papermill": {
     "duration": 0.026367,
     "end_time": "2023-11-20T02:11:42.609041",
     "exception": false,
     "start_time": "2023-11-20T02:11:42.582674",
     "status": "completed"
    },
    "tags": []
   },
   "source": [
    "# Using GridSearchCV to find the best parameters for my MLPClassifier Model"
   ]
  },
  {
   "cell_type": "markdown",
   "id": "4a26963b",
   "metadata": {
    "papermill": {
     "duration": 0.026492,
     "end_time": "2023-11-20T02:11:42.662715",
     "exception": false,
     "start_time": "2023-11-20T02:11:42.636223",
     "status": "completed"
    },
    "tags": []
   },
   "source": [
    "**The \"parameter space\" are all the different components and possible values which I want to try for my model**"
   ]
  },
  {
   "cell_type": "code",
   "execution_count": 26,
   "id": "6f66b137",
   "metadata": {
    "execution": {
     "iopub.execute_input": "2023-11-20T02:11:42.719682Z",
     "iopub.status.busy": "2023-11-20T02:11:42.718362Z",
     "iopub.status.idle": "2023-11-20T02:11:42.728405Z",
     "shell.execute_reply": "2023-11-20T02:11:42.727616Z"
    },
    "papermill": {
     "duration": 0.041218,
     "end_time": "2023-11-20T02:11:42.730755",
     "exception": false,
     "start_time": "2023-11-20T02:11:42.689537",
     "status": "completed"
    },
    "tags": []
   },
   "outputs": [],
   "source": [
    "# %%capture --no-stderr\n",
    "\n",
    "# # Code that causes warnings\n",
    "# import warnings\n",
    "# from sklearn.exceptions import ConvergenceWarning\n",
    "\n",
    "# # Suppress ConvergenceWarning\n",
    "# warnings.filterwarnings(\"ignore\", category=ConvergenceWarning)\n",
    "# warnings.filterwarnings('ignore')\n",
    "\n",
    "from sklearn.model_selection import GridSearchCV\n",
    "from sklearn.neural_network import MLPClassifier\n",
    "\n",
    "training_X = pd.concat([train_X, valid_X, test_X], ignore_index=True)\n",
    "training_Y = pd.concat([train_Y, valid_Y, test_Y], ignore_index=True)\n",
    "\n",
    "possible_hidden_layers = []\n",
    "\n",
    "for i in range(8,16):\n",
    "    for j in range(8,16):\n",
    "        possible_hidden_layers.append((i, j))\n",
    "\n",
    "parameter_space = {\n",
    "    'hidden_layer_sizes': possible_hidden_layers,\n",
    "    'activation': ['tanh', 'relu'],\n",
    "    'solver': ['sgd', 'adam', \"lbfgs\"],\n",
    "    'alpha': [0.0001, 0.05],\n",
    "    'learning_rate': ['constant','adaptive'],\n",
    "}\n",
    "\n",
    "# mlp = MLPClassifier(max_iter=1000, random_state = 42)\n",
    "\n",
    "# clf = GridSearchCV(mlp, parameter_space, n_jobs=-1, cv=3)\n",
    "\n",
    "# clf.fit(training_X, training_Y)\n",
    "\n",
    "# print('Best parameters found:\\n', clf.best_params_)\n",
    "\n",
    "# print('Best score (CV mean):', clf.best_score_)\n",
    "\n",
    "# print(\"Done\")\n",
    "\n"
   ]
  },
  {
   "cell_type": "markdown",
   "id": "d5448e2b",
   "metadata": {
    "papermill": {
     "duration": 0.026395,
     "end_time": "2023-11-20T02:11:42.783971",
     "exception": false,
     "start_time": "2023-11-20T02:11:42.757576",
     "status": "completed"
    },
    "tags": []
   },
   "source": [
    "# Now that I found the best hyperparameters, I can finalize my model"
   ]
  },
  {
   "cell_type": "markdown",
   "id": "145d13c6",
   "metadata": {
    "papermill": {
     "duration": 0.026248,
     "end_time": "2023-11-20T02:11:42.837223",
     "exception": false,
     "start_time": "2023-11-20T02:11:42.810975",
     "status": "completed"
    },
    "tags": []
   },
   "source": [
    "**Test using validation set:**"
   ]
  },
  {
   "cell_type": "code",
   "execution_count": 27,
   "id": "e4f36166",
   "metadata": {
    "execution": {
     "iopub.execute_input": "2023-11-20T02:11:42.892833Z",
     "iopub.status.busy": "2023-11-20T02:11:42.892368Z",
     "iopub.status.idle": "2023-11-20T02:11:42.898288Z",
     "shell.execute_reply": "2023-11-20T02:11:42.897206Z"
    },
    "papermill": {
     "duration": 0.036517,
     "end_time": "2023-11-20T02:11:42.900765",
     "exception": false,
     "start_time": "2023-11-20T02:11:42.864248",
     "status": "completed"
    },
    "tags": []
   },
   "outputs": [],
   "source": [
    "# Best parameters: {'activation': 'tanh', 'alpha': 0.05, 'hidden_layer_sizes': (13, 15), 'learning_rate': 'constant', 'solver': 'lbfgs'}\n",
    "# Best score (CV mean): 0.8282828282828283\n",
    "\n",
    "\n",
    "from sklearn.neural_network import MLPClassifier\n",
    "from sklearn.metrics import accuracy_score\n",
    "\n",
    "# Commented out the code so that the model won't run everytime\n",
    "\n",
    "# model = MLPClassifier(activation = \"tanh\", alpha = 0.05, hidden_layer_sizes = (13, 15), learning_rate = \"constant\", solver = \"lbfgs\", max_iter=5000, random_state = 42)\n",
    "\n",
    "# #model = MLPClassifier(activation = \"relu\", hidden_layer_sizes = (20, 11), solver = \"lbfgs\",  max_iter=2000, random_state = 42)\n",
    "\n",
    "# model.fit(train_X, train_Y)\n",
    "\n",
    "# y_pred = model.predict(valid_X)\n",
    "\n",
    "# print(f\"Accuracy: {accuracy_score(valid_Y, y_pred)}\")"
   ]
  },
  {
   "cell_type": "markdown",
   "id": "a2d050a9",
   "metadata": {
    "papermill": {
     "duration": 0.027003,
     "end_time": "2023-11-20T02:11:42.954826",
     "exception": false,
     "start_time": "2023-11-20T02:11:42.927823",
     "status": "completed"
    },
    "tags": []
   },
   "source": [
    "**Test using test set (from Train-validation-test split)**"
   ]
  },
  {
   "cell_type": "code",
   "execution_count": 28,
   "id": "9770f6b6",
   "metadata": {
    "execution": {
     "iopub.execute_input": "2023-11-20T02:11:43.010351Z",
     "iopub.status.busy": "2023-11-20T02:11:43.009826Z",
     "iopub.status.idle": "2023-11-20T02:11:43.014286Z",
     "shell.execute_reply": "2023-11-20T02:11:43.013528Z"
    },
    "papermill": {
     "duration": 0.034853,
     "end_time": "2023-11-20T02:11:43.016575",
     "exception": false,
     "start_time": "2023-11-20T02:11:42.981722",
     "status": "completed"
    },
    "tags": []
   },
   "outputs": [],
   "source": [
    "# Commented out the code so that the model won't run everytime\n",
    "\n",
    "# y_pred = model.predict(test_X)\n",
    "\n",
    "# print(f\"Accuracy: {accuracy_score(test_Y, y_pred)}\")"
   ]
  },
  {
   "cell_type": "markdown",
   "id": "9f33d95e",
   "metadata": {
    "papermill": {
     "duration": 0.026887,
     "end_time": "2023-11-20T02:11:43.070444",
     "exception": false,
     "start_time": "2023-11-20T02:11:43.043557",
     "status": "completed"
    },
    "tags": []
   },
   "source": [
    "# Submitting Model 3"
   ]
  },
  {
   "cell_type": "code",
   "execution_count": 29,
   "id": "6b199a21",
   "metadata": {
    "execution": {
     "iopub.execute_input": "2023-11-20T02:11:43.128058Z",
     "iopub.status.busy": "2023-11-20T02:11:43.126761Z",
     "iopub.status.idle": "2023-11-20T02:11:43.131605Z",
     "shell.execute_reply": "2023-11-20T02:11:43.130824Z"
    },
    "papermill": {
     "duration": 0.035418,
     "end_time": "2023-11-20T02:11:43.133705",
     "exception": false,
     "start_time": "2023-11-20T02:11:43.098287",
     "status": "completed"
    },
    "tags": []
   },
   "outputs": [],
   "source": [
    "# Commented out the code so that the model won't run everytime\n",
    "\n",
    "# full_X = pd.get_dummies(X_train)\n",
    "\n",
    "# full_Y = Y_train\n",
    "\n",
    "# #We end up using the WHOLE training dataset (all of train.csv) to fit (train) our model right before submission since this gives our model the most amount of data to train on\n",
    "# model.fit(full_X, full_Y)\n",
    "\n",
    "\n",
    "# predictions3 = model.predict(test_data)"
   ]
  },
  {
   "cell_type": "code",
   "execution_count": 30,
   "id": "941d0923",
   "metadata": {
    "execution": {
     "iopub.execute_input": "2023-11-20T02:11:43.190040Z",
     "iopub.status.busy": "2023-11-20T02:11:43.189587Z",
     "iopub.status.idle": "2023-11-20T02:11:43.200706Z",
     "shell.execute_reply": "2023-11-20T02:11:43.199792Z"
    },
    "papermill": {
     "duration": 0.042299,
     "end_time": "2023-11-20T02:11:43.203134",
     "exception": false,
     "start_time": "2023-11-20T02:11:43.160835",
     "status": "completed"
    },
    "tags": []
   },
   "outputs": [],
   "source": [
    "original_test = pd.read_csv(\"/kaggle/input/titanic/test.csv\")\n",
    "\n",
    "pass_id = original_test['PassengerId']\n",
    "\n",
    "# original_test = original_test.drop('PassengerId', axis=1)\n",
    "# original_test = pd.get_dummies(original_test[features])\n",
    "\n",
    "test_data[\"PassengerId\"] = pass_id\n",
    "\n",
    "# Commented out the code so that the model won't run everytime\n",
    "\n",
    "# predictions3 = predictions3.astype(int)\n",
    "\n",
    "#print(predictions3)\n",
    "\n",
    "# output = pd.DataFrame({'PassengerId': test_data.PassengerId, 'Survived': predictions3})\n",
    "# output.to_csv('submission.csv', index=False)\n",
    "# print(\"Your submission was successfully saved!\")\n",
    "\n",
    "# test_data = test_data.drop(\"PassengerId\", axis = 1) # WE make sure to drop the PassengerId column since we are continuing to use the test_data variable in future tests and we don't want PassengerId to be apart of it until we submit the model again"
   ]
  },
  {
   "cell_type": "markdown",
   "id": "de164371",
   "metadata": {
    "papermill": {
     "duration": 0.026938,
     "end_time": "2023-11-20T02:11:43.257889",
     "exception": false,
     "start_time": "2023-11-20T02:11:43.230951",
     "status": "completed"
    },
    "tags": []
   },
   "source": [
    "# Changing the model solver from \"lbfgs\" to \"adam\""
   ]
  },
  {
   "cell_type": "code",
   "execution_count": 31,
   "id": "e573fd88",
   "metadata": {
    "execution": {
     "iopub.execute_input": "2023-11-20T02:11:43.315363Z",
     "iopub.status.busy": "2023-11-20T02:11:43.314607Z",
     "iopub.status.idle": "2023-11-20T02:11:43.319792Z",
     "shell.execute_reply": "2023-11-20T02:11:43.318806Z"
    },
    "papermill": {
     "duration": 0.036517,
     "end_time": "2023-11-20T02:11:43.322119",
     "exception": false,
     "start_time": "2023-11-20T02:11:43.285602",
     "status": "completed"
    },
    "tags": []
   },
   "outputs": [],
   "source": [
    "model = MLPClassifier(activation = \"tanh\", alpha = 0.05, hidden_layer_sizes = (13, 15), learning_rate = \"constant\", solver = \"adam\", max_iter=5000, random_state = 42)\n",
    "# Try changing it back to lbfgs after normalization since maybe it converges faster now after normalization\n",
    "#Also, with normalization, you can increase the learning_rate with less risk of divergence which is good\n"
   ]
  },
  {
   "cell_type": "markdown",
   "id": "207a0f7a",
   "metadata": {
    "papermill": {
     "duration": 0.027068,
     "end_time": "2023-11-20T02:11:43.377700",
     "exception": false,
     "start_time": "2023-11-20T02:11:43.350632",
     "status": "completed"
    },
    "tags": []
   },
   "source": [
    "**I made this change because it said that lbfgs was not converging so I tried changing to a differnet solver and adam seemed to converge. But also, I am going to normalize my data which should make the training of my data converge faster. So, I might also go back to lbfgs to see if it converges now**"
   ]
  },
  {
   "cell_type": "markdown",
   "id": "8bbf20bf",
   "metadata": {
    "papermill": {
     "duration": 0.02777,
     "end_time": "2023-11-20T02:11:43.432990",
     "exception": false,
     "start_time": "2023-11-20T02:11:43.405220",
     "status": "completed"
    },
    "tags": []
   },
   "source": [
    "# Feature Engineering: Putting more weight onto specific features (like Gender and Age)"
   ]
  },
  {
   "cell_type": "markdown",
   "id": "36d1357d",
   "metadata": {
    "papermill": {
     "duration": 0.029757,
     "end_time": "2023-11-20T02:11:43.490010",
     "exception": false,
     "start_time": "2023-11-20T02:11:43.460253",
     "status": "completed"
    },
    "tags": []
   },
   "source": [
    "**We know from history that Women and Children were more likely to survive so it makes more sense to put more weight into those features. In other words, we should penalize a person more if they are not a Women or Child and therefore make it less likely for them to survive**"
   ]
  },
  {
   "cell_type": "code",
   "execution_count": 32,
   "id": "dab987da",
   "metadata": {
    "execution": {
     "iopub.execute_input": "2023-11-20T02:11:43.557176Z",
     "iopub.status.busy": "2023-11-20T02:11:43.556186Z",
     "iopub.status.idle": "2023-11-20T02:11:43.623775Z",
     "shell.execute_reply": "2023-11-20T02:11:43.622233Z"
    },
    "papermill": {
     "duration": 0.099838,
     "end_time": "2023-11-20T02:11:43.626543",
     "exception": false,
     "start_time": "2023-11-20T02:11:43.526705",
     "status": "completed"
    },
    "tags": []
   },
   "outputs": [
    {
     "name": "stdout",
     "output_type": "stream",
     "text": [
      "     Pclass      Fare   Age  SibSp  Parch  Sex_female  Sex_male\n",
      "570     2.0   10.5000  62.0    0.0    0.0       False      True\n",
      "787     3.0   29.1250   8.0    4.0    1.0       False      True\n",
      "74      3.0   56.4958  32.0    0.0    0.0       False      True\n",
      "113     3.0    9.8250  20.0    1.0    0.0        True     False\n",
      "635     2.0   13.0000  28.0    0.0    0.0        True     False\n",
      "..      ...       ...   ...    ...    ...         ...       ...\n",
      "106     3.0    7.6500  21.0    0.0    0.0        True     False\n",
      "270     1.0   31.0000  51.7    0.0    0.0       False      True\n",
      "860     3.0   14.1083  41.0    2.0    0.0       False      True\n",
      "435     1.0  120.0000  14.0    1.0    2.0        True     False\n",
      "102     1.0   77.2875  21.0    0.0    1.0       False      True\n",
      "\n",
      "[534 rows x 7 columns]\n",
      "     Pclass      Fare   Age  SibSp  Parch  Sex_female  Sex_male  \\\n",
      "570     2.0   10.5000  62.0    0.0    0.0       False      True   \n",
      "787     3.0   29.1250   8.0    4.0    1.0       False      True   \n",
      "74      3.0   56.4958  32.0    0.0    0.0       False      True   \n",
      "113     3.0    9.8250  20.0    1.0    0.0        True     False   \n",
      "635     2.0   13.0000  28.0    0.0    0.0        True     False   \n",
      "..      ...       ...   ...    ...    ...         ...       ...   \n",
      "106     3.0    7.6500  21.0    0.0    0.0        True     False   \n",
      "270     1.0   31.0000  51.7    0.0    0.0       False      True   \n",
      "860     3.0   14.1083  41.0    2.0    0.0       False      True   \n",
      "435     1.0  120.0000  14.0    1.0    2.0        True     False   \n",
      "102     1.0   77.2875  21.0    0.0    1.0       False      True   \n",
      "\n",
      "     FemaleFirstClass  ChildFirstClass  IsChild  FamilySize  IsAlone  \n",
      "570                 0                0        0         1.0        1  \n",
      "787                 0                0        1         6.0        0  \n",
      "74                  0                0        0         1.0        1  \n",
      "113                 0                0        0         2.0        0  \n",
      "635                 0                0        0         1.0        1  \n",
      "..                ...              ...      ...         ...      ...  \n",
      "106                 0                0        0         1.0        1  \n",
      "270                 0                0        0         1.0        1  \n",
      "860                 0                0        0         3.0        0  \n",
      "435                 1                1        1         4.0        0  \n",
      "102                 0                0        0         2.0        0  \n",
      "\n",
      "[534 rows x 12 columns]\n"
     ]
    }
   ],
   "source": [
    "print(train_X)\n",
    "\n",
    "train_X['FemaleFirstClass'] = ((train_X['Sex_female'] == True) & (train_X['Pclass'] == 1)).astype(int)\n",
    "train_X['ChildFirstClass'] = ((train_X['Age'] < 18) & (train_X['Pclass'] == 1)).astype(int) \n",
    "\n",
    "\n",
    "valid_X['FemaleFirstClass'] = ((valid_X['Sex_female'] == True) & (valid_X['Pclass'] == 1)).astype(int)\n",
    "valid_X['ChildFirstClass'] = ((valid_X['Age'] < 18) & (valid_X['Pclass'] == 1)).astype(int) \n",
    "\n",
    "\n",
    "test_X['FemaleFirstClass'] = ((test_X['Sex_female'] == True) & (test_X['Pclass'] == 1)).astype(int)\n",
    "test_X['ChildFirstClass'] = ((test_X['Age'] < 18) & (test_X['Pclass'] == 1)).astype(int) \n",
    "\n",
    "\n",
    "test_data['FemaleFirstClass'] = ((test_data['Sex_female'] == True) & (test_data['Pclass'] == 1)).astype(int)\n",
    "test_data['ChildFirstClass'] = ((test_data['Age'] < 18) & (test_data['Pclass'] == 1)).astype(int) \n",
    "\n",
    "\n",
    "# Bin 'Age' into categories\n",
    "train_X['IsChild'] = (train_X['Age'] < 18).astype(int)\n",
    "valid_X['IsChild'] = (valid_X['Age'] < 18).astype(int)\n",
    "test_X['IsChild'] = (test_X['Age'] < 18).astype(int)\n",
    "test_data['IsChild'] = (test_data['Age'] < 18).astype(int)\n",
    "\n",
    "\n",
    "# Create FamilySize and IsAlone\n",
    "train_X['FamilySize'] = train_X['SibSp'] + train_X['Parch'] + 1\n",
    "valid_X['FamilySize'] = valid_X['SibSp'] + valid_X['Parch'] + 1\n",
    "test_X['FamilySize'] = test_X['SibSp'] + test_X['Parch'] + 1\n",
    "test_data['FamilySize'] = test_data['SibSp'] + test_data['Parch'] + 1\n",
    "\n",
    "\n",
    "train_X['IsAlone'] = (train_X['FamilySize'] == 1).astype(int)\n",
    "valid_X['IsAlone'] = (valid_X['FamilySize'] == 1).astype(int)\n",
    "test_X['IsAlone'] = (test_X['FamilySize'] == 1).astype(int)\n",
    "test_data['IsAlone'] = (test_data['FamilySize'] == 1).astype(int)\n",
    "\n",
    "\n",
    "print(train_X)"
   ]
  },
  {
   "cell_type": "markdown",
   "id": "7fd6f563",
   "metadata": {
    "papermill": {
     "duration": 0.026896,
     "end_time": "2023-11-20T02:11:43.681224",
     "exception": false,
     "start_time": "2023-11-20T02:11:43.654328",
     "status": "completed"
    },
    "tags": []
   },
   "source": [
    "# Normalizing all the data"
   ]
  },
  {
   "cell_type": "markdown",
   "id": "fd202b8d",
   "metadata": {
    "papermill": {
     "duration": 0.03465,
     "end_time": "2023-11-20T02:11:43.745227",
     "exception": false,
     "start_time": "2023-11-20T02:11:43.710577",
     "status": "completed"
    },
    "tags": []
   },
   "source": [
    "**Creating the Normalizing Scaler**"
   ]
  },
  {
   "cell_type": "code",
   "execution_count": 33,
   "id": "813c358d",
   "metadata": {
    "execution": {
     "iopub.execute_input": "2023-11-20T02:11:43.807981Z",
     "iopub.status.busy": "2023-11-20T02:11:43.806896Z",
     "iopub.status.idle": "2023-11-20T02:11:43.826310Z",
     "shell.execute_reply": "2023-11-20T02:11:43.824914Z"
    },
    "papermill": {
     "duration": 0.05424,
     "end_time": "2023-11-20T02:11:43.829770",
     "exception": false,
     "start_time": "2023-11-20T02:11:43.775530",
     "status": "completed"
    },
    "tags": []
   },
   "outputs": [
    {
     "name": "stdout",
     "output_type": "stream",
     "text": [
      "     Pclass      Fare   Age  SibSp  Parch  Sex_female  Sex_male  \\\n",
      "570     2.0   10.5000  62.0    0.0    0.0       False      True   \n",
      "787     3.0   29.1250   8.0    4.0    1.0       False      True   \n",
      "74      3.0   56.4958  32.0    0.0    0.0       False      True   \n",
      "113     3.0    9.8250  20.0    1.0    0.0        True     False   \n",
      "635     2.0   13.0000  28.0    0.0    0.0        True     False   \n",
      "..      ...       ...   ...    ...    ...         ...       ...   \n",
      "106     3.0    7.6500  21.0    0.0    0.0        True     False   \n",
      "270     1.0   31.0000  51.7    0.0    0.0       False      True   \n",
      "860     3.0   14.1083  41.0    2.0    0.0       False      True   \n",
      "435     1.0  120.0000  14.0    1.0    2.0        True     False   \n",
      "102     1.0   77.2875  21.0    0.0    1.0       False      True   \n",
      "\n",
      "     FemaleFirstClass  ChildFirstClass  IsChild  FamilySize  IsAlone  \n",
      "570                 0                0        0         1.0        1  \n",
      "787                 0                0        1         6.0        0  \n",
      "74                  0                0        0         1.0        1  \n",
      "113                 0                0        0         2.0        0  \n",
      "635                 0                0        0         1.0        1  \n",
      "..                ...              ...      ...         ...      ...  \n",
      "106                 0                0        0         1.0        1  \n",
      "270                 0                0        0         1.0        1  \n",
      "860                 0                0        0         3.0        0  \n",
      "435                 1                1        1         4.0        0  \n",
      "102                 0                0        0         2.0        0  \n",
      "\n",
      "[534 rows x 12 columns]\n"
     ]
    }
   ],
   "source": [
    "from sklearn.preprocessing import MinMaxScaler\n",
    "\n",
    "# Initialize the MinMaxScaler\n",
    "scaler = MinMaxScaler()\n",
    "\n",
    "# Select columns you want to normalize\n",
    "columns_to_normalize = [\"Pclass\", \"Fare\",\"Age\", \"SibSp\"]\n",
    "\n",
    "scaler.fit(train_X[columns_to_normalize]) #it is important to fit the scaler on the training data (from the train-validation-test split) only\n",
    "\n",
    "print(train_X)"
   ]
  },
  {
   "cell_type": "markdown",
   "id": "b435d4fa",
   "metadata": {
    "papermill": {
     "duration": 0.032236,
     "end_time": "2023-11-20T02:11:43.896449",
     "exception": false,
     "start_time": "2023-11-20T02:11:43.864213",
     "status": "completed"
    },
    "tags": []
   },
   "source": [
    "**It is very important to only fit the scaler on the training data from the train-validation-test split and not the training data from the whole train.csv since the whole training data includes data from the validation and test split and fitting on that will cause the testing (using validation and test) of the model to be overly optimistic. This is called data leakage.**\n",
    "\n",
    "**Also, it's important that we do not fit the scaler multiple times since that would cause inconsistant fitting throughout the data. It should only be fitted once and then applied to all the different datasets.**\n",
    "\n",
    "**However,before I submit Model 4, I should re-fit the normalization scaler on the entire training data since I will be running my model on the entire training data**"
   ]
  },
  {
   "cell_type": "markdown",
   "id": "1bb87be0",
   "metadata": {
    "papermill": {
     "duration": 0.030931,
     "end_time": "2023-11-20T02:11:43.962664",
     "exception": false,
     "start_time": "2023-11-20T02:11:43.931733",
     "status": "completed"
    },
    "tags": []
   },
   "source": [
    "**Normalizing the test data (the one from test.csv)**"
   ]
  },
  {
   "cell_type": "code",
   "execution_count": 34,
   "id": "d6ca7e54",
   "metadata": {
    "execution": {
     "iopub.execute_input": "2023-11-20T02:11:44.021889Z",
     "iopub.status.busy": "2023-11-20T02:11:44.021065Z",
     "iopub.status.idle": "2023-11-20T02:11:44.031418Z",
     "shell.execute_reply": "2023-11-20T02:11:44.030346Z"
    },
    "papermill": {
     "duration": 0.042432,
     "end_time": "2023-11-20T02:11:44.034007",
     "exception": false,
     "start_time": "2023-11-20T02:11:43.991575",
     "status": "completed"
    },
    "tags": []
   },
   "outputs": [],
   "source": [
    "test_data = test_data #the \"test_data\" variable here is after we cleaned up the test_data \n",
    "\n",
    "#print(test_data)\n",
    "\n",
    "# Fit the scaler on the data and then transform it\n",
    "test_data[columns_to_normalize] = scaler.transform(test_data[columns_to_normalize])\n",
    "\n",
    "#print(test_data)"
   ]
  },
  {
   "cell_type": "markdown",
   "id": "fb540623",
   "metadata": {
    "papermill": {
     "duration": 0.028068,
     "end_time": "2023-11-20T02:11:44.089944",
     "exception": false,
     "start_time": "2023-11-20T02:11:44.061876",
     "status": "completed"
    },
    "tags": []
   },
   "source": [
    "**Normalizing the train, validation, and test data**"
   ]
  },
  {
   "cell_type": "code",
   "execution_count": 35,
   "id": "eaec87cd",
   "metadata": {
    "execution": {
     "iopub.execute_input": "2023-11-20T02:11:44.148118Z",
     "iopub.status.busy": "2023-11-20T02:11:44.147355Z",
     "iopub.status.idle": "2023-11-20T02:11:44.182163Z",
     "shell.execute_reply": "2023-11-20T02:11:44.181052Z"
    },
    "papermill": {
     "duration": 0.067237,
     "end_time": "2023-11-20T02:11:44.185240",
     "exception": false,
     "start_time": "2023-11-20T02:11:44.118003",
     "status": "completed"
    },
    "tags": []
   },
   "outputs": [
    {
     "name": "stdout",
     "output_type": "stream",
     "text": [
      "     Pclass      Fare       Age  SibSp  Parch  Sex_female  Sex_male  \\\n",
      "570     0.5  0.020495  0.773813  0.000    0.0       False      True   \n",
      "787     1.0  0.056848  0.095250  0.500    1.0       False      True   \n",
      "74      1.0  0.110272  0.396833  0.000    0.0       False      True   \n",
      "113     1.0  0.019177  0.246042  0.125    0.0        True     False   \n",
      "635     0.5  0.025374  0.346569  0.000    0.0        True     False   \n",
      "\n",
      "     FemaleFirstClass  ChildFirstClass  IsChild  FamilySize  IsAlone  \n",
      "570                 0                0        0         1.0        1  \n",
      "787                 0                0        1         6.0        0  \n",
      "74                  0                0        0         1.0        1  \n",
      "113                 0                0        0         2.0        0  \n",
      "635                 0                0        0         1.0        1  \n",
      "     Pclass      Fare       Age  SibSp  Parch  Sex_female  Sex_male  \\\n",
      "849     0.0  0.173920  0.482282  0.125    0.0        True     False   \n",
      "331     0.0  0.055628  0.566474  0.000    0.0       False      True   \n",
      "260     1.0  0.015127  0.638818  0.000    0.0       False      True   \n",
      "316     0.5  0.050749  0.296306  0.125    0.0        True     False   \n",
      "292     0.5  0.025130  0.447097  0.000    0.0       False      True   \n",
      "\n",
      "     FemaleFirstClass  ChildFirstClass  IsChild  FamilySize  IsAlone  \n",
      "849                 1                0        0         2.0        0  \n",
      "331                 0                0        0         1.0        1  \n",
      "260                 0                0        0         1.0        1  \n",
      "316                 0                0        0         2.0        0  \n",
      "292                 0                0        0         1.0        1  \n",
      "     Pclass      Fare       Age  SibSp  Parch  Sex_female  Sex_male  \\\n",
      "424     1.0  0.039452  0.220910  0.125    1.0       False      True   \n",
      "837     1.0  0.015713  0.381871  0.000    0.0       False      True   \n",
      "525     1.0  0.015127  0.503644  0.000    0.0       False      True   \n",
      "328     1.0  0.040062  0.384267  0.125    1.0        True     False   \n",
      "70      0.5  0.020495  0.396833  0.000    0.0       False      True   \n",
      "\n",
      "     FemaleFirstClass  ChildFirstClass  IsChild  FamilySize  IsAlone  \n",
      "424                 0                0        0         3.0        0  \n",
      "837                 0                0        0         1.0        1  \n",
      "525                 0                0        0         1.0        1  \n",
      "328                 0                0        0         3.0        0  \n",
      "70                  0                0        0         1.0        1  \n"
     ]
    }
   ],
   "source": [
    "train_X[columns_to_normalize] = scaler.transform(train_X[columns_to_normalize])\n",
    "print(train_X.head())\n",
    "\n",
    "valid_X[columns_to_normalize] = scaler.transform(valid_X[columns_to_normalize])\n",
    "print(valid_X.head())\n",
    "\n",
    "test_X[columns_to_normalize] = scaler.transform(test_X[columns_to_normalize])\n",
    "print(test_X.head())"
   ]
  },
  {
   "cell_type": "markdown",
   "id": "2674ae5a",
   "metadata": {
    "papermill": {
     "duration": 0.027714,
     "end_time": "2023-11-20T02:11:44.241810",
     "exception": false,
     "start_time": "2023-11-20T02:11:44.214096",
     "status": "completed"
    },
    "tags": []
   },
   "source": [
    "# Testing out my model (4th) after Feature Enginering and Normalization"
   ]
  },
  {
   "cell_type": "code",
   "execution_count": 36,
   "id": "f7b35adf",
   "metadata": {
    "execution": {
     "iopub.execute_input": "2023-11-20T02:11:44.300896Z",
     "iopub.status.busy": "2023-11-20T02:11:44.300345Z",
     "iopub.status.idle": "2023-11-20T02:11:46.483242Z",
     "shell.execute_reply": "2023-11-20T02:11:46.481651Z"
    },
    "papermill": {
     "duration": 2.215595,
     "end_time": "2023-11-20T02:11:46.485881",
     "exception": false,
     "start_time": "2023-11-20T02:11:44.270286",
     "status": "completed"
    },
    "tags": []
   },
   "outputs": [
    {
     "name": "stdout",
     "output_type": "stream",
     "text": [
      "Validation Accuracy: 0.8202247191011236\n"
     ]
    }
   ],
   "source": [
    "model = MLPClassifier(activation = \"tanh\", alpha = 0.05, hidden_layer_sizes = (13, 15), learning_rate = \"constant\", solver = \"adam\", max_iter=5000, random_state = 42)\n",
    "\n",
    "model.fit(train_X, train_Y)\n",
    "\n",
    "y_pred = model.predict(valid_X)\n",
    "\n",
    "print(f\"Validation Accuracy: {accuracy_score(valid_Y, y_pred)}\")"
   ]
  },
  {
   "cell_type": "markdown",
   "id": "79642d2d",
   "metadata": {
    "papermill": {
     "duration": 0.027669,
     "end_time": "2023-11-20T02:11:46.542395",
     "exception": false,
     "start_time": "2023-11-20T02:11:46.514726",
     "status": "completed"
    },
    "tags": []
   },
   "source": [
    "# Using GridSearchCV to find new best amount of neurons per hidden layer and also to find best alpha and activation\n"
   ]
  },
  {
   "cell_type": "code",
   "execution_count": 37,
   "id": "157e8103",
   "metadata": {
    "execution": {
     "iopub.execute_input": "2023-11-20T02:11:46.601225Z",
     "iopub.status.busy": "2023-11-20T02:11:46.600616Z",
     "iopub.status.idle": "2023-11-20T02:11:46.611130Z",
     "shell.execute_reply": "2023-11-20T02:11:46.610241Z"
    },
    "papermill": {
     "duration": 0.042977,
     "end_time": "2023-11-20T02:11:46.613479",
     "exception": false,
     "start_time": "2023-11-20T02:11:46.570502",
     "status": "completed"
    },
    "tags": []
   },
   "outputs": [],
   "source": [
    "from sklearn.neural_network import MLPClassifier\n",
    "\n",
    "training_X = pd.concat([train_X, valid_X, test_X], ignore_index=True)\n",
    "training_Y = pd.concat([train_Y, valid_Y, test_Y], ignore_index=True)\n",
    "\n",
    "possible_hidden_layers = []\n",
    "\n",
    "for i in range(8,20):\n",
    "    for j in range(8,20):\n",
    "        possible_hidden_layers.append((i, j))\n",
    "\n",
    "parameter_space = {\n",
    "    'hidden_layer_sizes': possible_hidden_layers,\n",
    "    'activation': ['tanh', 'relu'],\n",
    "    'alpha': [0.0001, 0.05],\n",
    "    \"max_iter\": [4000, 5000, 6000, 7000]\n",
    "}\n",
    "\n",
    "# mlp = MLPClassifier(solver = \"adam\", random_state = 42)\n",
    "\n",
    "# clf = GridSearchCV(mlp, parameter_space, n_jobs=-1, cv=3)\n",
    "\n",
    "# clf.fit(training_X, training_Y)\n",
    "\n",
    "# print('Best parameters found:\\n', clf.best_params_)\n",
    "\n",
    "# print('Best score (CV mean):', clf.best_score_)\n",
    "\n",
    "# print(\"Done\")"
   ]
  },
  {
   "cell_type": "markdown",
   "id": "3a1680d7",
   "metadata": {
    "papermill": {
     "duration": 0.027569,
     "end_time": "2023-11-20T02:11:46.669175",
     "exception": false,
     "start_time": "2023-11-20T02:11:46.641606",
     "status": "completed"
    },
    "tags": []
   },
   "source": [
    "# Before I submit Model 4, I should re-fit the normalization scaler on the entire training data since I will be running my model on the entire training data\n"
   ]
  },
  {
   "cell_type": "code",
   "execution_count": 38,
   "id": "2ac15cae",
   "metadata": {
    "execution": {
     "iopub.execute_input": "2023-11-20T02:11:46.727697Z",
     "iopub.status.busy": "2023-11-20T02:11:46.727274Z",
     "iopub.status.idle": "2023-11-20T02:11:46.761040Z",
     "shell.execute_reply": "2023-11-20T02:11:46.759859Z"
    },
    "papermill": {
     "duration": 0.067249,
     "end_time": "2023-11-20T02:11:46.764499",
     "exception": false,
     "start_time": "2023-11-20T02:11:46.697250",
     "status": "completed"
    },
    "tags": []
   },
   "outputs": [
    {
     "name": "stdout",
     "output_type": "stream",
     "text": [
      "     Pclass      Fare       Age  SibSp  Parch  Sex_female  Sex_male  \\\n",
      "0       0.5  0.020495  0.773813  0.000    0.0       False      True   \n",
      "1       1.0  0.056848  0.095250  0.500    1.0       False      True   \n",
      "2       1.0  0.110272  0.396833  0.000    0.0       False      True   \n",
      "3       1.0  0.019177  0.246042  0.125    0.0        True     False   \n",
      "4       0.5  0.025374  0.346569  0.000    0.0        True     False   \n",
      "..      ...       ...       ...    ...    ...         ...       ...   \n",
      "886     1.0  0.015713  0.258608  0.000    0.0       False      True   \n",
      "887     0.0  0.060508  0.371701  0.000    0.0        True     False   \n",
      "888     1.0  0.015713  0.547625  0.000    0.0       False      True   \n",
      "889     0.0  0.512122  0.258608  0.250    2.0        True     False   \n",
      "890     0.0  0.444099  0.472229  0.000    0.0        True     False   \n",
      "\n",
      "     FemaleFirstClass  ChildFirstClass  IsChild  FamilySize  IsAlone  \n",
      "0                   0                0        0         1.0        1  \n",
      "1                   0                0        1         6.0        0  \n",
      "2                   0                0        0         1.0        1  \n",
      "3                   0                0        0         2.0        0  \n",
      "4                   0                0        0         1.0        1  \n",
      "..                ...              ...      ...         ...      ...  \n",
      "886                 0                0        0         1.0        1  \n",
      "887                 1                0        0         1.0        1  \n",
      "888                 0                0        0         1.0        1  \n",
      "889                 1                0        0         5.0        0  \n",
      "890                 1                0        0         1.0        1  \n",
      "\n",
      "[891 rows x 12 columns]\n",
      "     Pclass      Fare       Age  SibSp  Parch  Sex_female  Sex_male  \\\n",
      "0       0.5  0.020495  0.773813  0.000    0.0       False      True   \n",
      "1       1.0  0.056848  0.095250  0.500    1.0       False      True   \n",
      "2       1.0  0.110272  0.396833  0.000    0.0       False      True   \n",
      "3       1.0  0.019177  0.246042  0.125    0.0        True     False   \n",
      "4       0.5  0.025374  0.346569  0.000    0.0        True     False   \n",
      "..      ...       ...       ...    ...    ...         ...       ...   \n",
      "886     1.0  0.015713  0.258608  0.000    0.0       False      True   \n",
      "887     0.0  0.060508  0.371701  0.000    0.0        True     False   \n",
      "888     1.0  0.015713  0.547625  0.000    0.0       False      True   \n",
      "889     0.0  0.512122  0.258608  0.250    2.0        True     False   \n",
      "890     0.0  0.444099  0.472229  0.000    0.0        True     False   \n",
      "\n",
      "     FemaleFirstClass  ChildFirstClass  IsChild  FamilySize  IsAlone  \n",
      "0                   0                0        0         1.0        1  \n",
      "1                   0                0        1         6.0        0  \n",
      "2                   0                0        0         1.0        1  \n",
      "3                   0                0        0         2.0        0  \n",
      "4                   0                0        0         1.0        1  \n",
      "..                ...              ...      ...         ...      ...  \n",
      "886                 0                0        0         1.0        1  \n",
      "887                 1                0        0         1.0        1  \n",
      "888                 0                0        0         1.0        1  \n",
      "889                 1                0        0         5.0        0  \n",
      "890                 1                0        0         1.0        1  \n",
      "\n",
      "[891 rows x 12 columns]\n"
     ]
    }
   ],
   "source": [
    "from sklearn.preprocessing import MinMaxScaler\n",
    "\n",
    "training_X = pd.concat([train_X, valid_X, test_X], ignore_index=True) # training_X is the entire training data from train.csv but after all the cleaning, normalization, and feature engineering\n",
    "training_Y = pd.concat([train_Y, valid_Y, test_Y], ignore_index=True) \n",
    "\n",
    "\n",
    "# Initialize the MinMaxScaler\n",
    "scaler = MinMaxScaler()\n",
    "\n",
    "columns_to_normalize = [\"Pclass\", \"Fare\", \"Age\", \"SibSp\"]\n",
    "\n",
    "scaler.fit(training_X[columns_to_normalize])\n",
    "\n",
    "print(training_X)\n",
    "\n",
    "training_X[columns_to_normalize] = scaler.transform(training_X[columns_to_normalize])\n",
    "\n",
    "print(training_X)"
   ]
  },
  {
   "cell_type": "markdown",
   "id": "24bbf93d",
   "metadata": {
    "papermill": {
     "duration": 0.031271,
     "end_time": "2023-11-20T02:11:46.826070",
     "exception": false,
     "start_time": "2023-11-20T02:11:46.794799",
     "status": "completed"
    },
    "tags": []
   },
   "source": [
    "# Now that the test data is Normalized and has feature engineering (from previous code), I can use model.predict() on it"
   ]
  },
  {
   "cell_type": "code",
   "execution_count": 39,
   "id": "0ba6e550",
   "metadata": {
    "execution": {
     "iopub.execute_input": "2023-11-20T02:11:46.885386Z",
     "iopub.status.busy": "2023-11-20T02:11:46.884623Z",
     "iopub.status.idle": "2023-11-20T02:11:48.576548Z",
     "shell.execute_reply": "2023-11-20T02:11:48.575427Z"
    },
    "papermill": {
     "duration": 1.72476,
     "end_time": "2023-11-20T02:11:48.579505",
     "exception": false,
     "start_time": "2023-11-20T02:11:46.854745",
     "status": "completed"
    },
    "tags": []
   },
   "outputs": [],
   "source": [
    "# Best parameters found:\n",
    "#  {'activation': 'relu', 'alpha': 0.0001, 'hidden_layer_sizes': (11, 15), 'max_iter': 4000}\n",
    "# Best score (CV mean): 0.8282828282828284\n",
    "\n",
    "model = MLPClassifier(activation = \"relu\", alpha = 0.0001, hidden_layer_sizes = (11, 15), solver = \"adam\", max_iter=4000, random_state = 42)\n",
    "\n",
    "model.fit(training_X, training_Y) #Fitting the model on the entire training data set (including all the sub-sets from train-validation-test split)\n",
    "\n",
    "\n",
    "test_data = test_data.drop(\"PassengerId\", axis = 1)\n",
    "\n",
    "predictions4 = model.predict(test_data)\n"
   ]
  },
  {
   "cell_type": "markdown",
   "id": "dda49095",
   "metadata": {
    "papermill": {
     "duration": 0.028922,
     "end_time": "2023-11-20T02:11:48.637047",
     "exception": false,
     "start_time": "2023-11-20T02:11:48.608125",
     "status": "completed"
    },
    "tags": []
   },
   "source": [
    "# Submitting Model 4"
   ]
  },
  {
   "cell_type": "code",
   "execution_count": 40,
   "id": "85e6e274",
   "metadata": {
    "execution": {
     "iopub.execute_input": "2023-11-20T02:11:48.696145Z",
     "iopub.status.busy": "2023-11-20T02:11:48.695727Z",
     "iopub.status.idle": "2023-11-20T02:11:48.716020Z",
     "shell.execute_reply": "2023-11-20T02:11:48.714516Z"
    },
    "papermill": {
     "duration": 0.053171,
     "end_time": "2023-11-20T02:11:48.718621",
     "exception": false,
     "start_time": "2023-11-20T02:11:48.665450",
     "status": "completed"
    },
    "tags": []
   },
   "outputs": [
    {
     "name": "stdout",
     "output_type": "stream",
     "text": [
      "Your submission was successfully saved!\n"
     ]
    }
   ],
   "source": [
    "original_test = pd.read_csv(\"/kaggle/input/titanic/test.csv\")\n",
    "\n",
    "pass_id = original_test['PassengerId']\n",
    "\n",
    "test_data[\"PassengerId\"] = pass_id\n",
    "\n",
    "predictions4 = predictions4.astype(int)\n",
    "\n",
    "output = pd.DataFrame({'PassengerId': test_data.PassengerId, 'Survived': predictions4})\n",
    "output.to_csv('submission.csv', index=False)\n",
    "print(\"Your submission was successfully saved!\")\n",
    "\n",
    "test_data = test_data.drop(\"PassengerId\", axis = 1) # WE make sure to drop the PassengerId column since we are continuing to use the test_data variable in future tests and we don't want PassengerId to be apart of it until we submit the model again"
   ]
  },
  {
   "cell_type": "markdown",
   "id": "6d9550e8",
   "metadata": {
    "papermill": {
     "duration": 0.028848,
     "end_time": "2023-11-20T02:11:48.777071",
     "exception": false,
     "start_time": "2023-11-20T02:11:48.748223",
     "status": "completed"
    },
    "tags": []
   },
   "source": [
    "# MAKE SURE THERE ISN'T ANY NEGAITVE VALUES FOR AGE BEFORE AND AFTER NORMALIZATION"
   ]
  }
 ],
 "metadata": {
  "kaggle": {
   "accelerator": "none",
   "dataSources": [
    {
     "databundleVersionId": 26502,
     "sourceId": 3136,
     "sourceType": "competition"
    }
   ],
   "dockerImageVersionId": 30579,
   "isGpuEnabled": false,
   "isInternetEnabled": true,
   "language": "python",
   "sourceType": "notebook"
  },
  "kernelspec": {
   "display_name": "Python 3",
   "language": "python",
   "name": "python3"
  },
  "language_info": {
   "codemirror_mode": {
    "name": "ipython",
    "version": 3
   },
   "file_extension": ".py",
   "mimetype": "text/x-python",
   "name": "python",
   "nbconvert_exporter": "python",
   "pygments_lexer": "ipython3",
   "version": "3.10.12"
  },
  "papermill": {
   "default_parameters": {},
   "duration": 58.36164,
   "end_time": "2023-11-20T02:11:49.427556",
   "environment_variables": {},
   "exception": null,
   "input_path": "__notebook__.ipynb",
   "output_path": "__notebook__.ipynb",
   "parameters": {},
   "start_time": "2023-11-20T02:10:51.065916",
   "version": "2.4.0"
  }
 },
 "nbformat": 4,
 "nbformat_minor": 5
}
