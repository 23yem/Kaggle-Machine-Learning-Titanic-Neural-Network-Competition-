{
 "cells": [
  {
   "cell_type": "code",
   "execution_count": 1,
   "id": "264cbda8",
   "metadata": {
    "_cell_guid": "b1076dfc-b9ad-4769-8c92-a6c4dae69d19",
    "_uuid": "8f2839f25d086af736a60e9eeb907d3b93b6e0e5",
    "execution": {
     "iopub.execute_input": "2023-11-19T19:29:43.045026Z",
     "iopub.status.busy": "2023-11-19T19:29:43.044406Z",
     "iopub.status.idle": "2023-11-19T19:29:43.970373Z",
     "shell.execute_reply": "2023-11-19T19:29:43.969082Z"
    },
    "papermill": {
     "duration": 0.954719,
     "end_time": "2023-11-19T19:29:43.973481",
     "exception": false,
     "start_time": "2023-11-19T19:29:43.018762",
     "status": "completed"
    },
    "tags": []
   },
   "outputs": [
    {
     "name": "stdout",
     "output_type": "stream",
     "text": [
      "/kaggle/input/titanic/train.csv\n",
      "/kaggle/input/titanic/test.csv\n",
      "/kaggle/input/titanic/gender_submission.csv\n"
     ]
    }
   ],
   "source": [
    "# This Python 3 environment comes with many helpful analytics libraries installed\n",
    "# It is defined by the kaggle/python Docker image: https://github.com/kaggle/docker-python\n",
    "# For example, here's several helpful packages to load\n",
    "\n",
    "import numpy as np # linear algebra\n",
    "import pandas as pd # data processing, CSV file I/O (e.g. pd.read_csv)\n",
    "\n",
    "# Input data files are available in the read-only \"../input/\" directory\n",
    "# For example, running this (by clicking run or pressing Shift+Enter) will list all files under the input directory\n",
    "\n",
    "import os\n",
    "for dirname, _, filenames in os.walk('/kaggle/input'):\n",
    "    for filename in filenames:\n",
    "        print(os.path.join(dirname, filename))\n",
    "\n",
    "# You can write up to 20GB to the current directory (/kaggle/working/) that gets preserved as output when you create a version using \"Save & Run All\" \n",
    "# You can also write temporary files to /kaggle/temp/, but they won't be saved outside of the current session"
   ]
  },
  {
   "cell_type": "markdown",
   "id": "b14e0fdb",
   "metadata": {
    "papermill": {
     "duration": 0.022431,
     "end_time": "2023-11-19T19:29:44.018862",
     "exception": false,
     "start_time": "2023-11-19T19:29:43.996431",
     "status": "completed"
    },
    "tags": []
   },
   "source": [
    "# **Load the Data from the Database**"
   ]
  },
  {
   "cell_type": "code",
   "execution_count": 2,
   "id": "78bcfd78",
   "metadata": {
    "execution": {
     "iopub.execute_input": "2023-11-19T19:29:44.067320Z",
     "iopub.status.busy": "2023-11-19T19:29:44.066654Z",
     "iopub.status.idle": "2023-11-19T19:29:44.124446Z",
     "shell.execute_reply": "2023-11-19T19:29:44.123284Z"
    },
    "papermill": {
     "duration": 0.085984,
     "end_time": "2023-11-19T19:29:44.127509",
     "exception": false,
     "start_time": "2023-11-19T19:29:44.041525",
     "status": "completed"
    },
    "tags": []
   },
   "outputs": [
    {
     "data": {
      "text/html": [
       "<div>\n",
       "<style scoped>\n",
       "    .dataframe tbody tr th:only-of-type {\n",
       "        vertical-align: middle;\n",
       "    }\n",
       "\n",
       "    .dataframe tbody tr th {\n",
       "        vertical-align: top;\n",
       "    }\n",
       "\n",
       "    .dataframe thead th {\n",
       "        text-align: right;\n",
       "    }\n",
       "</style>\n",
       "<table border=\"1\" class=\"dataframe\">\n",
       "  <thead>\n",
       "    <tr style=\"text-align: right;\">\n",
       "      <th></th>\n",
       "      <th>PassengerId</th>\n",
       "      <th>Survived</th>\n",
       "      <th>Pclass</th>\n",
       "      <th>Name</th>\n",
       "      <th>Sex</th>\n",
       "      <th>Age</th>\n",
       "      <th>SibSp</th>\n",
       "      <th>Parch</th>\n",
       "      <th>Ticket</th>\n",
       "      <th>Fare</th>\n",
       "      <th>Cabin</th>\n",
       "      <th>Embarked</th>\n",
       "    </tr>\n",
       "  </thead>\n",
       "  <tbody>\n",
       "    <tr>\n",
       "      <th>0</th>\n",
       "      <td>1</td>\n",
       "      <td>0</td>\n",
       "      <td>3</td>\n",
       "      <td>Braund, Mr. Owen Harris</td>\n",
       "      <td>male</td>\n",
       "      <td>22.0</td>\n",
       "      <td>1</td>\n",
       "      <td>0</td>\n",
       "      <td>A/5 21171</td>\n",
       "      <td>7.2500</td>\n",
       "      <td>NaN</td>\n",
       "      <td>S</td>\n",
       "    </tr>\n",
       "    <tr>\n",
       "      <th>1</th>\n",
       "      <td>2</td>\n",
       "      <td>1</td>\n",
       "      <td>1</td>\n",
       "      <td>Cumings, Mrs. John Bradley (Florence Briggs Th...</td>\n",
       "      <td>female</td>\n",
       "      <td>38.0</td>\n",
       "      <td>1</td>\n",
       "      <td>0</td>\n",
       "      <td>PC 17599</td>\n",
       "      <td>71.2833</td>\n",
       "      <td>C85</td>\n",
       "      <td>C</td>\n",
       "    </tr>\n",
       "    <tr>\n",
       "      <th>2</th>\n",
       "      <td>3</td>\n",
       "      <td>1</td>\n",
       "      <td>3</td>\n",
       "      <td>Heikkinen, Miss. Laina</td>\n",
       "      <td>female</td>\n",
       "      <td>26.0</td>\n",
       "      <td>0</td>\n",
       "      <td>0</td>\n",
       "      <td>STON/O2. 3101282</td>\n",
       "      <td>7.9250</td>\n",
       "      <td>NaN</td>\n",
       "      <td>S</td>\n",
       "    </tr>\n",
       "    <tr>\n",
       "      <th>3</th>\n",
       "      <td>4</td>\n",
       "      <td>1</td>\n",
       "      <td>1</td>\n",
       "      <td>Futrelle, Mrs. Jacques Heath (Lily May Peel)</td>\n",
       "      <td>female</td>\n",
       "      <td>35.0</td>\n",
       "      <td>1</td>\n",
       "      <td>0</td>\n",
       "      <td>113803</td>\n",
       "      <td>53.1000</td>\n",
       "      <td>C123</td>\n",
       "      <td>S</td>\n",
       "    </tr>\n",
       "    <tr>\n",
       "      <th>4</th>\n",
       "      <td>5</td>\n",
       "      <td>0</td>\n",
       "      <td>3</td>\n",
       "      <td>Allen, Mr. William Henry</td>\n",
       "      <td>male</td>\n",
       "      <td>35.0</td>\n",
       "      <td>0</td>\n",
       "      <td>0</td>\n",
       "      <td>373450</td>\n",
       "      <td>8.0500</td>\n",
       "      <td>NaN</td>\n",
       "      <td>S</td>\n",
       "    </tr>\n",
       "  </tbody>\n",
       "</table>\n",
       "</div>"
      ],
      "text/plain": [
       "   PassengerId  Survived  Pclass  \\\n",
       "0            1         0       3   \n",
       "1            2         1       1   \n",
       "2            3         1       3   \n",
       "3            4         1       1   \n",
       "4            5         0       3   \n",
       "\n",
       "                                                Name     Sex   Age  SibSp  \\\n",
       "0                            Braund, Mr. Owen Harris    male  22.0      1   \n",
       "1  Cumings, Mrs. John Bradley (Florence Briggs Th...  female  38.0      1   \n",
       "2                             Heikkinen, Miss. Laina  female  26.0      0   \n",
       "3       Futrelle, Mrs. Jacques Heath (Lily May Peel)  female  35.0      1   \n",
       "4                           Allen, Mr. William Henry    male  35.0      0   \n",
       "\n",
       "   Parch            Ticket     Fare Cabin Embarked  \n",
       "0      0         A/5 21171   7.2500   NaN        S  \n",
       "1      0          PC 17599  71.2833   C85        C  \n",
       "2      0  STON/O2. 3101282   7.9250   NaN        S  \n",
       "3      0            113803  53.1000  C123        S  \n",
       "4      0            373450   8.0500   NaN        S  "
      ]
     },
     "execution_count": 2,
     "metadata": {},
     "output_type": "execute_result"
    }
   ],
   "source": [
    "#Remember to eventually clean up the wrong or missing values\n",
    "train_data = pd.read_csv(\"/kaggle/input/titanic/train.csv\")\n",
    "\n",
    "train_data.head()"
   ]
  },
  {
   "cell_type": "code",
   "execution_count": 3,
   "id": "d466a983",
   "metadata": {
    "execution": {
     "iopub.execute_input": "2023-11-19T19:29:44.177320Z",
     "iopub.status.busy": "2023-11-19T19:29:44.176813Z",
     "iopub.status.idle": "2023-11-19T19:29:44.203567Z",
     "shell.execute_reply": "2023-11-19T19:29:44.202366Z"
    },
    "papermill": {
     "duration": 0.054924,
     "end_time": "2023-11-19T19:29:44.206358",
     "exception": false,
     "start_time": "2023-11-19T19:29:44.151434",
     "status": "completed"
    },
    "tags": []
   },
   "outputs": [
    {
     "data": {
      "text/html": [
       "<div>\n",
       "<style scoped>\n",
       "    .dataframe tbody tr th:only-of-type {\n",
       "        vertical-align: middle;\n",
       "    }\n",
       "\n",
       "    .dataframe tbody tr th {\n",
       "        vertical-align: top;\n",
       "    }\n",
       "\n",
       "    .dataframe thead th {\n",
       "        text-align: right;\n",
       "    }\n",
       "</style>\n",
       "<table border=\"1\" class=\"dataframe\">\n",
       "  <thead>\n",
       "    <tr style=\"text-align: right;\">\n",
       "      <th></th>\n",
       "      <th>PassengerId</th>\n",
       "      <th>Pclass</th>\n",
       "      <th>Name</th>\n",
       "      <th>Sex</th>\n",
       "      <th>Age</th>\n",
       "      <th>SibSp</th>\n",
       "      <th>Parch</th>\n",
       "      <th>Ticket</th>\n",
       "      <th>Fare</th>\n",
       "      <th>Cabin</th>\n",
       "      <th>Embarked</th>\n",
       "    </tr>\n",
       "  </thead>\n",
       "  <tbody>\n",
       "    <tr>\n",
       "      <th>0</th>\n",
       "      <td>892</td>\n",
       "      <td>3</td>\n",
       "      <td>Kelly, Mr. James</td>\n",
       "      <td>male</td>\n",
       "      <td>34.5</td>\n",
       "      <td>0</td>\n",
       "      <td>0</td>\n",
       "      <td>330911</td>\n",
       "      <td>7.8292</td>\n",
       "      <td>NaN</td>\n",
       "      <td>Q</td>\n",
       "    </tr>\n",
       "    <tr>\n",
       "      <th>1</th>\n",
       "      <td>893</td>\n",
       "      <td>3</td>\n",
       "      <td>Wilkes, Mrs. James (Ellen Needs)</td>\n",
       "      <td>female</td>\n",
       "      <td>47.0</td>\n",
       "      <td>1</td>\n",
       "      <td>0</td>\n",
       "      <td>363272</td>\n",
       "      <td>7.0000</td>\n",
       "      <td>NaN</td>\n",
       "      <td>S</td>\n",
       "    </tr>\n",
       "    <tr>\n",
       "      <th>2</th>\n",
       "      <td>894</td>\n",
       "      <td>2</td>\n",
       "      <td>Myles, Mr. Thomas Francis</td>\n",
       "      <td>male</td>\n",
       "      <td>62.0</td>\n",
       "      <td>0</td>\n",
       "      <td>0</td>\n",
       "      <td>240276</td>\n",
       "      <td>9.6875</td>\n",
       "      <td>NaN</td>\n",
       "      <td>Q</td>\n",
       "    </tr>\n",
       "    <tr>\n",
       "      <th>3</th>\n",
       "      <td>895</td>\n",
       "      <td>3</td>\n",
       "      <td>Wirz, Mr. Albert</td>\n",
       "      <td>male</td>\n",
       "      <td>27.0</td>\n",
       "      <td>0</td>\n",
       "      <td>0</td>\n",
       "      <td>315154</td>\n",
       "      <td>8.6625</td>\n",
       "      <td>NaN</td>\n",
       "      <td>S</td>\n",
       "    </tr>\n",
       "    <tr>\n",
       "      <th>4</th>\n",
       "      <td>896</td>\n",
       "      <td>3</td>\n",
       "      <td>Hirvonen, Mrs. Alexander (Helga E Lindqvist)</td>\n",
       "      <td>female</td>\n",
       "      <td>22.0</td>\n",
       "      <td>1</td>\n",
       "      <td>1</td>\n",
       "      <td>3101298</td>\n",
       "      <td>12.2875</td>\n",
       "      <td>NaN</td>\n",
       "      <td>S</td>\n",
       "    </tr>\n",
       "  </tbody>\n",
       "</table>\n",
       "</div>"
      ],
      "text/plain": [
       "   PassengerId  Pclass                                          Name     Sex  \\\n",
       "0          892       3                              Kelly, Mr. James    male   \n",
       "1          893       3              Wilkes, Mrs. James (Ellen Needs)  female   \n",
       "2          894       2                     Myles, Mr. Thomas Francis    male   \n",
       "3          895       3                              Wirz, Mr. Albert    male   \n",
       "4          896       3  Hirvonen, Mrs. Alexander (Helga E Lindqvist)  female   \n",
       "\n",
       "    Age  SibSp  Parch   Ticket     Fare Cabin Embarked  \n",
       "0  34.5      0      0   330911   7.8292   NaN        Q  \n",
       "1  47.0      1      0   363272   7.0000   NaN        S  \n",
       "2  62.0      0      0   240276   9.6875   NaN        Q  \n",
       "3  27.0      0      0   315154   8.6625   NaN        S  \n",
       "4  22.0      1      1  3101298  12.2875   NaN        S  "
      ]
     },
     "execution_count": 3,
     "metadata": {},
     "output_type": "execute_result"
    }
   ],
   "source": [
    "#Remember to eventually clean up the wrong or missing values\n",
    "test_data = pd.read_csv(\"/kaggle/input/titanic/test.csv\")\n",
    "\n",
    "test_data.head()"
   ]
  },
  {
   "cell_type": "code",
   "execution_count": 4,
   "id": "670ad4e2",
   "metadata": {
    "execution": {
     "iopub.execute_input": "2023-11-19T19:29:44.256396Z",
     "iopub.status.busy": "2023-11-19T19:29:44.255914Z",
     "iopub.status.idle": "2023-11-19T19:29:44.263068Z",
     "shell.execute_reply": "2023-11-19T19:29:44.261773Z"
    },
    "papermill": {
     "duration": 0.036167,
     "end_time": "2023-11-19T19:29:44.266616",
     "exception": false,
     "start_time": "2023-11-19T19:29:44.230449",
     "status": "completed"
    },
    "tags": []
   },
   "outputs": [
    {
     "name": "stdout",
     "output_type": "stream",
     "text": [
      "Index(['PassengerId', 'Survived', 'Pclass', 'Name', 'Sex', 'Age', 'SibSp',\n",
      "       'Parch', 'Ticket', 'Fare', 'Cabin', 'Embarked'],\n",
      "      dtype='object')\n",
      "(891, 12)\n"
     ]
    }
   ],
   "source": [
    "print(train_data.columns)\n",
    "print(train_data.shape)"
   ]
  },
  {
   "cell_type": "markdown",
   "id": "3625c877",
   "metadata": {
    "papermill": {
     "duration": 0.023184,
     "end_time": "2023-11-19T19:29:44.315769",
     "exception": false,
     "start_time": "2023-11-19T19:29:44.292585",
     "status": "completed"
    },
    "tags": []
   },
   "source": [
    "# Choosing features #\n"
   ]
  },
  {
   "cell_type": "code",
   "execution_count": 5,
   "id": "eeeda668",
   "metadata": {
    "execution": {
     "iopub.execute_input": "2023-11-19T19:29:44.367560Z",
     "iopub.status.busy": "2023-11-19T19:29:44.367044Z",
     "iopub.status.idle": "2023-11-19T19:29:44.399241Z",
     "shell.execute_reply": "2023-11-19T19:29:44.397906Z"
    },
    "papermill": {
     "duration": 0.061717,
     "end_time": "2023-11-19T19:29:44.402171",
     "exception": false,
     "start_time": "2023-11-19T19:29:44.340454",
     "status": "completed"
    },
    "tags": []
   },
   "outputs": [
    {
     "data": {
      "text/html": [
       "<div>\n",
       "<style scoped>\n",
       "    .dataframe tbody tr th:only-of-type {\n",
       "        vertical-align: middle;\n",
       "    }\n",
       "\n",
       "    .dataframe tbody tr th {\n",
       "        vertical-align: top;\n",
       "    }\n",
       "\n",
       "    .dataframe thead th {\n",
       "        text-align: right;\n",
       "    }\n",
       "</style>\n",
       "<table border=\"1\" class=\"dataframe\">\n",
       "  <thead>\n",
       "    <tr style=\"text-align: right;\">\n",
       "      <th></th>\n",
       "      <th>Pclass</th>\n",
       "      <th>Fare</th>\n",
       "      <th>Sex_female</th>\n",
       "      <th>Sex_male</th>\n",
       "    </tr>\n",
       "  </thead>\n",
       "  <tbody>\n",
       "    <tr>\n",
       "      <th>0</th>\n",
       "      <td>3</td>\n",
       "      <td>7.2500</td>\n",
       "      <td>False</td>\n",
       "      <td>True</td>\n",
       "    </tr>\n",
       "    <tr>\n",
       "      <th>1</th>\n",
       "      <td>1</td>\n",
       "      <td>71.2833</td>\n",
       "      <td>True</td>\n",
       "      <td>False</td>\n",
       "    </tr>\n",
       "    <tr>\n",
       "      <th>2</th>\n",
       "      <td>3</td>\n",
       "      <td>7.9250</td>\n",
       "      <td>True</td>\n",
       "      <td>False</td>\n",
       "    </tr>\n",
       "    <tr>\n",
       "      <th>3</th>\n",
       "      <td>1</td>\n",
       "      <td>53.1000</td>\n",
       "      <td>True</td>\n",
       "      <td>False</td>\n",
       "    </tr>\n",
       "    <tr>\n",
       "      <th>4</th>\n",
       "      <td>3</td>\n",
       "      <td>8.0500</td>\n",
       "      <td>False</td>\n",
       "      <td>True</td>\n",
       "    </tr>\n",
       "  </tbody>\n",
       "</table>\n",
       "</div>"
      ],
      "text/plain": [
       "   Pclass     Fare  Sex_female  Sex_male\n",
       "0       3   7.2500       False      True\n",
       "1       1  71.2833        True     False\n",
       "2       3   7.9250        True     False\n",
       "3       1  53.1000        True     False\n",
       "4       3   8.0500       False      True"
      ]
     },
     "execution_count": 5,
     "metadata": {},
     "output_type": "execute_result"
    }
   ],
   "source": [
    "features = [\"Pclass\", \"Sex\", \"Fare\"]\n",
    "\n",
    "X_train = pd.get_dummies(train_data[features])\n",
    "\n",
    "X_train.head()\n",
    "#print(X_train.shape)"
   ]
  },
  {
   "cell_type": "markdown",
   "id": "3ced2ff4",
   "metadata": {
    "papermill": {
     "duration": 0.024056,
     "end_time": "2023-11-19T19:29:44.450272",
     "exception": false,
     "start_time": "2023-11-19T19:29:44.426216",
     "status": "completed"
    },
    "tags": []
   },
   "source": []
  },
  {
   "cell_type": "markdown",
   "id": "5518320e",
   "metadata": {
    "papermill": {
     "duration": 0.118611,
     "end_time": "2023-11-19T19:29:44.593938",
     "exception": false,
     "start_time": "2023-11-19T19:29:44.475327",
     "status": "completed"
    },
    "tags": []
   },
   "source": [
    "# Set the target/label (y) values\n"
   ]
  },
  {
   "cell_type": "code",
   "execution_count": 6,
   "id": "2ed618d6",
   "metadata": {
    "execution": {
     "iopub.execute_input": "2023-11-19T19:29:44.646030Z",
     "iopub.status.busy": "2023-11-19T19:29:44.645188Z",
     "iopub.status.idle": "2023-11-19T19:29:44.654630Z",
     "shell.execute_reply": "2023-11-19T19:29:44.653273Z"
    },
    "papermill": {
     "duration": 0.038722,
     "end_time": "2023-11-19T19:29:44.657353",
     "exception": false,
     "start_time": "2023-11-19T19:29:44.618631",
     "status": "completed"
    },
    "tags": []
   },
   "outputs": [
    {
     "data": {
      "text/plain": [
       "0    0\n",
       "1    1\n",
       "2    1\n",
       "3    1\n",
       "4    0\n",
       "Name: Survived, dtype: int64"
      ]
     },
     "execution_count": 6,
     "metadata": {},
     "output_type": "execute_result"
    }
   ],
   "source": [
    "#Y_train = pd.get_dummies(train_data[\"Survived\"])\n",
    "Y_train = train_data[\"Survived\"]\n",
    "\n",
    "Y_train.head()\n"
   ]
  },
  {
   "cell_type": "markdown",
   "id": "9928532b",
   "metadata": {
    "papermill": {
     "duration": 0.023929,
     "end_time": "2023-11-19T19:29:44.706299",
     "exception": false,
     "start_time": "2023-11-19T19:29:44.682370",
     "status": "completed"
    },
    "tags": []
   },
   "source": []
  },
  {
   "cell_type": "markdown",
   "id": "0d8fecd2",
   "metadata": {
    "papermill": {
     "duration": 0.023852,
     "end_time": "2023-11-19T19:29:44.754326",
     "exception": false,
     "start_time": "2023-11-19T19:29:44.730474",
     "status": "completed"
    },
    "tags": []
   },
   "source": [
    "# Split up train data into Train-test using scikit-learn"
   ]
  },
  {
   "cell_type": "code",
   "execution_count": 7,
   "id": "43998366",
   "metadata": {
    "execution": {
     "iopub.execute_input": "2023-11-19T19:29:44.806439Z",
     "iopub.status.busy": "2023-11-19T19:29:44.805485Z",
     "iopub.status.idle": "2023-11-19T19:29:46.282726Z",
     "shell.execute_reply": "2023-11-19T19:29:46.281248Z"
    },
    "papermill": {
     "duration": 1.511083,
     "end_time": "2023-11-19T19:29:46.289949",
     "exception": false,
     "start_time": "2023-11-19T19:29:44.778866",
     "status": "completed"
    },
    "tags": []
   },
   "outputs": [
    {
     "name": "stdout",
     "output_type": "stream",
     "text": [
      "445    1\n",
      "650    0\n",
      "172    1\n",
      "450    0\n",
      "314    0\n",
      "Name: Survived, dtype: int64\n",
      "709    1\n",
      "439    0\n",
      "840    0\n",
      "720    1\n",
      "39     1\n",
      "Name: Survived, dtype: int64\n"
     ]
    }
   ],
   "source": [
    "from sklearn.model_selection import train_test_split\n",
    "\n",
    "#Split data into a train/validation and test set\n",
    "X_train, X_test, Y_train, Y_test = train_test_split(X_train, Y_train, test_size = 0.3, random_state = 42)\n",
    "\n",
    "#print(X_train.head())\n",
    "#print(Y_train.head())\n",
    "print(Y_train.head())\n",
    "\n",
    "print(Y_test.head())\n"
   ]
  },
  {
   "cell_type": "markdown",
   "id": "cb50762b",
   "metadata": {
    "papermill": {
     "duration": 0.024636,
     "end_time": "2023-11-19T19:29:46.346807",
     "exception": false,
     "start_time": "2023-11-19T19:29:46.322171",
     "status": "completed"
    },
    "tags": []
   },
   "source": [
    "spliting the data into a train-test split will allow us to test our model and so it will allow us to tune our model before submitting on Kaggle. We can also use the train-validation-test split here"
   ]
  },
  {
   "cell_type": "markdown",
   "id": "d23acc59",
   "metadata": {
    "papermill": {
     "duration": 0.030283,
     "end_time": "2023-11-19T19:29:46.401997",
     "exception": false,
     "start_time": "2023-11-19T19:29:46.371714",
     "status": "completed"
    },
    "tags": []
   },
   "source": [
    "# Making the Neural Network Model using Scikit Learn\n"
   ]
  },
  {
   "cell_type": "code",
   "execution_count": 8,
   "id": "aa38b281",
   "metadata": {
    "execution": {
     "iopub.execute_input": "2023-11-19T19:29:46.474315Z",
     "iopub.status.busy": "2023-11-19T19:29:46.473167Z",
     "iopub.status.idle": "2023-11-19T19:29:47.017737Z",
     "shell.execute_reply": "2023-11-19T19:29:47.016334Z"
    },
    "papermill": {
     "duration": 0.586608,
     "end_time": "2023-11-19T19:29:47.020835",
     "exception": false,
     "start_time": "2023-11-19T19:29:46.434227",
     "status": "completed"
    },
    "tags": []
   },
   "outputs": [
    {
     "name": "stdout",
     "output_type": "stream",
     "text": [
      "Accuracy: 0.78\n"
     ]
    }
   ],
   "source": [
    "from sklearn.neural_network import MLPClassifier\n",
    "from sklearn.model_selection import train_test_split\n",
    "from sklearn.preprocessing import StandardScaler\n",
    "from sklearn.metrics import accuracy_score\n",
    "\n",
    "model = MLPClassifier(hidden_layer_sizes=(5, 5), activation='relu', solver='adam', max_iter=1000, random_state=42)\n",
    "\n",
    "model.fit(X_train, Y_train)\n",
    "\n",
    "y_pred = model.predict(X_test)\n",
    "\n",
    "print(f\"Accuracy: {accuracy_score(Y_test, y_pred):.2f}\")\n"
   ]
  },
  {
   "cell_type": "markdown",
   "id": "74b8260a",
   "metadata": {
    "papermill": {
     "duration": 0.024932,
     "end_time": "2023-11-19T19:29:47.071048",
     "exception": false,
     "start_time": "2023-11-19T19:29:47.046116",
     "status": "completed"
    },
    "tags": []
   },
   "source": [
    "**Here I am using the MLPClassifier since this is a classification problem. The output of the model will be \"Survive\" or \"not survive.\" If my model was supposed to predict a numerical value, I would be using something like MLPRegressor instead**"
   ]
  },
  {
   "cell_type": "markdown",
   "id": "faa56028",
   "metadata": {
    "papermill": {
     "duration": 0.026185,
     "end_time": "2023-11-19T19:29:47.122143",
     "exception": false,
     "start_time": "2023-11-19T19:29:47.095958",
     "status": "completed"
    },
    "tags": []
   },
   "source": [
    "# Tried making a neural network using Tensor Flow but decided to just use Scikit learn"
   ]
  },
  {
   "cell_type": "code",
   "execution_count": 9,
   "id": "8028a472",
   "metadata": {
    "execution": {
     "iopub.execute_input": "2023-11-19T19:29:47.174895Z",
     "iopub.status.busy": "2023-11-19T19:29:47.174418Z",
     "iopub.status.idle": "2023-11-19T19:29:47.180130Z",
     "shell.execute_reply": "2023-11-19T19:29:47.178910Z"
    },
    "papermill": {
     "duration": 0.034759,
     "end_time": "2023-11-19T19:29:47.182588",
     "exception": false,
     "start_time": "2023-11-19T19:29:47.147829",
     "status": "completed"
    },
    "tags": []
   },
   "outputs": [],
   "source": [
    "# import tensorflow as tf\n",
    "\n",
    "\n",
    "# #Compile the model\n",
    "# model = tf.keras.models.Sequential([\n",
    "#     tf.keras.layers.Dense(64, activation = \"relu\", input_shape = (687,)),\n",
    "#     tf.keras.layers.Dense(32, activation = \"relu\"),\n",
    "#     tf.keras.layers.Dense(16, activation = \"relu\"),\n",
    "#     tf.keras.layers.Dense(1, activation = \"sigmoid\")\n",
    "# ])\n",
    "# model.compile(optimizer = \"adam\", loss = \"binary_crossentropy\", metrics = [\"accuracy\"])\n",
    "\n",
    "\n",
    "# #Train the model\n",
    "\n",
    "# #X_train = tf.convert_to_tensor(X_train)\n",
    "# #Y_train = tf.convert_to_tensor(Y_train)\n",
    "# model.fit(X_train, Y_train, epochs = 10)\n",
    "\n",
    "# #Evaluate the model \n",
    "\n",
    "# #X_test = tf.convert_to_tensor(X_test)\n",
    "# #Y_test = tf.convert_to_tensor(Y_test)\n",
    "# loss, accuracy = model.evaluate(X_test, Y_test)\n",
    "# print(\"Accuracy: \", accuracy)"
   ]
  },
  {
   "cell_type": "markdown",
   "id": "428fedf0",
   "metadata": {
    "papermill": {
     "duration": 0.024465,
     "end_time": "2023-11-19T19:29:47.231830",
     "exception": false,
     "start_time": "2023-11-19T19:29:47.207365",
     "status": "completed"
    },
    "tags": []
   },
   "source": [
    "# Testing model on real test set and Submitting Model (Accuracy: 0.755)\n"
   ]
  },
  {
   "cell_type": "code",
   "execution_count": 10,
   "id": "1e8b1180",
   "metadata": {
    "execution": {
     "iopub.execute_input": "2023-11-19T19:29:47.283678Z",
     "iopub.status.busy": "2023-11-19T19:29:47.283165Z",
     "iopub.status.idle": "2023-11-19T19:29:47.328590Z",
     "shell.execute_reply": "2023-11-19T19:29:47.327532Z"
    },
    "papermill": {
     "duration": 0.075212,
     "end_time": "2023-11-19T19:29:47.331803",
     "exception": false,
     "start_time": "2023-11-19T19:29:47.256591",
     "status": "completed"
    },
    "tags": []
   },
   "outputs": [
    {
     "name": "stdout",
     "output_type": "stream",
     "text": [
      "Index(['Pclass', 'Fare', 'Sex_female', 'Sex_male', 'PassengerId'], dtype='object')\n",
      "(418, 4)\n",
      "(418,)\n",
      "(418, 5)\n",
      "Your submission was successfully saved!\n"
     ]
    }
   ],
   "source": [
    "test_data = pd.read_csv(\"/kaggle/input/titanic/test.csv\")\n",
    "features = [\"Pclass\", \"Sex\", \"Fare\"]\n",
    "test_X = pd.get_dummies(test_data[features])\n",
    "#test_X = test_X.dropna()\n",
    "#print(test_X[\"Sex_female\"])\n",
    "test_X['Fare'].fillna(test_X['Fare'].median(), inplace=True)\n",
    "\n",
    "# Impute categorical columns with the mode\n",
    "for column in ['Pclass']:\n",
    "    test_X[column].fillna(test_X[column].mode()[0], inplace=True)\n",
    "\n",
    "for column in [\"Sex_female\"]:\n",
    "    test_X[column].fillna(False, inplace=True)\n",
    "    \n",
    "for column in ['Sex_male']:\n",
    "    test_X[column].fillna(True, inplace=True)\n",
    "  \n",
    "  \n",
    "\n",
    "\n",
    "# print(test_data)\n",
    "# print(X_test)\n",
    "\n",
    "#model.fit(X_train, Y_train)\n",
    "\n",
    "predictions = model.predict(test_X)\n",
    "\n",
    "#test_data = test_data.dropna(subset=['Pclass', 'Sex', 'Fare'])\n",
    "\n",
    "pass_id = test_data['PassengerId']\n",
    "\n",
    "test_data = test_data.drop('PassengerId', axis=1)\n",
    "test_data = pd.get_dummies(test_data[features])\n",
    "\n",
    "test_data[\"PassengerId\"] = pass_id\n",
    "\n",
    "test_data['Fare'].fillna(test_data['Fare'].median(), inplace=True)\n",
    "\n",
    "print(test_data.columns)\n",
    "\n",
    "# Impute categorical columns with the mode\n",
    "for column in ['Pclass']:\n",
    "    test_data[column].fillna(test_data[column].mode()[0], inplace=True)\n",
    "\n",
    "for column in ['Sex_female']:\n",
    "    test_data[column].fillna(False, inplace=True)\n",
    "    \n",
    "for column in ['Sex_male']:\n",
    "    test_data[column].fillna(True, inplace=True)\n",
    "\n",
    "print(test_X.shape)\n",
    "print(predictions.shape)\n",
    "print(test_data.shape)\n",
    "\n",
    "output = pd.DataFrame({'PassengerId': test_data.PassengerId, 'Survived': predictions})\n",
    "output.to_csv('submission.csv', index=False)\n",
    "print(\"Your submission was successfully saved!\")"
   ]
  },
  {
   "cell_type": "markdown",
   "id": "ef2b9437",
   "metadata": {
    "papermill": {
     "duration": 0.026884,
     "end_time": "2023-11-19T19:29:47.385919",
     "exception": false,
     "start_time": "2023-11-19T19:29:47.359035",
     "status": "completed"
    },
    "tags": []
   },
   "source": [
    "**The accuracy of the model was 0.755**"
   ]
  },
  {
   "cell_type": "markdown",
   "id": "066703e6",
   "metadata": {
    "papermill": {
     "duration": 0.026229,
     "end_time": "2023-11-19T19:29:47.438378",
     "exception": false,
     "start_time": "2023-11-19T19:29:47.412149",
     "status": "completed"
    },
    "tags": []
   },
   "source": [
    "# After first submission, I will now try and edit the neural network to improve the accurary\n"
   ]
  },
  {
   "cell_type": "code",
   "execution_count": 11,
   "id": "71424e82",
   "metadata": {
    "execution": {
     "iopub.execute_input": "2023-11-19T19:29:47.493773Z",
     "iopub.status.busy": "2023-11-19T19:29:47.492960Z",
     "iopub.status.idle": "2023-11-19T19:29:47.808138Z",
     "shell.execute_reply": "2023-11-19T19:29:47.806682Z"
    },
    "papermill": {
     "duration": 0.345735,
     "end_time": "2023-11-19T19:29:47.811172",
     "exception": false,
     "start_time": "2023-11-19T19:29:47.465437",
     "status": "completed"
    },
    "tags": []
   },
   "outputs": [
    {
     "name": "stdout",
     "output_type": "stream",
     "text": [
      "Accuracy: 0.82\n"
     ]
    }
   ],
   "source": [
    "model = MLPClassifier(hidden_layer_sizes=(14, 4), activation='relu', solver='lbfgs', max_iter=1000, random_state=42)\n",
    "\n",
    "model.fit(X_train, Y_train)\n",
    "\n",
    "y_pred = model.predict(X_test)\n",
    "\n",
    "print(f\"Accuracy: {accuracy_score(Y_test, y_pred):.2f}\")\n",
    "\n"
   ]
  },
  {
   "cell_type": "markdown",
   "id": "a43b918a",
   "metadata": {
    "papermill": {
     "duration": 0.024769,
     "end_time": "2023-11-19T19:29:47.860745",
     "exception": false,
     "start_time": "2023-11-19T19:29:47.835976",
     "status": "completed"
    },
    "tags": []
   },
   "source": [
    "**I edited  the hidden layer sizes**\n"
   ]
  },
  {
   "cell_type": "markdown",
   "id": "f338d174",
   "metadata": {
    "papermill": {
     "duration": 0.025046,
     "end_time": "2023-11-19T19:29:47.911778",
     "exception": false,
     "start_time": "2023-11-19T19:29:47.886732",
     "status": "completed"
    },
    "tags": []
   },
   "source": [
    "# Second submission (accuracy: 0.76)\n"
   ]
  },
  {
   "cell_type": "code",
   "execution_count": 12,
   "id": "e8d6becb",
   "metadata": {
    "execution": {
     "iopub.execute_input": "2023-11-19T19:29:47.965480Z",
     "iopub.status.busy": "2023-11-19T19:29:47.964646Z",
     "iopub.status.idle": "2023-11-19T19:29:47.999553Z",
     "shell.execute_reply": "2023-11-19T19:29:47.998072Z"
    },
    "papermill": {
     "duration": 0.064396,
     "end_time": "2023-11-19T19:29:48.002417",
     "exception": false,
     "start_time": "2023-11-19T19:29:47.938021",
     "status": "completed"
    },
    "tags": []
   },
   "outputs": [
    {
     "name": "stdout",
     "output_type": "stream",
     "text": [
      "done\n",
      "Index(['Pclass', 'Fare', 'Sex_female', 'Sex_male', 'PassengerId'], dtype='object')\n",
      "(418, 4)\n",
      "(418,)\n",
      "(418, 5)\n",
      "Your submission was successfully saved!\n"
     ]
    }
   ],
   "source": [
    "test_data = pd.read_csv(\"/kaggle/input/titanic/test.csv\")\n",
    "features = [\"Pclass\", \"Sex\", \"Fare\"]\n",
    "test_X = pd.get_dummies(test_data[features])\n",
    "\n",
    "test_X['Fare'].fillna(test_X['Fare'].median(), inplace=True)\n",
    "\n",
    "# Impute categorical columns with the mode\n",
    "for column in ['Pclass']:\n",
    "    test_X[column].fillna(test_X[column].mode()[0], inplace=True)\n",
    "\n",
    "for column in [\"Sex_female\"]:\n",
    "    test_X[column].fillna(False, inplace=True)\n",
    "    \n",
    "for column in ['Sex_male']:\n",
    "    test_X[column].fillna(True, inplace=True)\n",
    "\n",
    "print(\"done\")\n",
    "\n",
    "predictions2 = model.predict(test_X)\n",
    "\n",
    "pass_id = test_data['PassengerId']\n",
    "\n",
    "test_data = test_data.drop('PassengerId', axis=1)\n",
    "test_data = pd.get_dummies(test_data[features])\n",
    "\n",
    "test_data[\"PassengerId\"] = pass_id\n",
    "\n",
    "print(test_data.columns)\n",
    "\n",
    "print(test_X.shape)\n",
    "print(predictions2.shape)\n",
    "print(test_data.shape)\n",
    "\n",
    "output = pd.DataFrame({'PassengerId': test_data.PassengerId, 'Survived': predictions2})\n",
    "output.to_csv('submission.csv', index=False)\n",
    "print(\"Your submission was successfully saved!\")"
   ]
  },
  {
   "cell_type": "markdown",
   "id": "90a07f10",
   "metadata": {
    "papermill": {
     "duration": 0.025279,
     "end_time": "2023-11-19T19:29:48.053090",
     "exception": false,
     "start_time": "2023-11-19T19:29:48.027811",
     "status": "completed"
    },
    "tags": []
   },
   "source": [
    "**Here, from the code above, I went from a 0.755 to a 0.76 by editing the hidden layer sizes. However, this wasn't much of a big change and the accuracy of the model is still worse than the 0.775 which I achieved through a simple Random Decision Forest Model.**\n"
   ]
  },
  {
   "cell_type": "markdown",
   "id": "44fd21e1",
   "metadata": {
    "papermill": {
     "duration": 0.026272,
     "end_time": "2023-11-19T19:29:48.105384",
     "exception": false,
     "start_time": "2023-11-19T19:29:48.079112",
     "status": "completed"
    },
    "tags": []
   },
   "source": [
    "**From this code, I realized that I should be imputing and cleaning the data BEFORE I use pd.get_dummies(). This is because pd.get_dummies() adds a lot more columns to the data because it turns all categorial columns to multiple binary columns which puts a 0 or 1 in each row. So, I should be cleaming up the data BEFORE I use pd.get_dummies() since pd.get_dummies adds so many more columns to the data and makes the data so much harder to clean. \n",
    "For example, it's hard to impute values in the \"age\" column after you do pd.get_Dummies() since imputing age relies on finding the average age of each person and it's a lot easier to find the average age is the all the ages were in a single column but if we do pd.get_Dummies, we are going to split up the age column into many more age columns which correspond to each unique age value in the data set**"
   ]
  },
  {
   "cell_type": "markdown",
   "id": "b83a465f",
   "metadata": {
    "papermill": {
     "duration": 0.024168,
     "end_time": "2023-11-19T19:29:48.154244",
     "exception": false,
     "start_time": "2023-11-19T19:29:48.130076",
     "status": "completed"
    },
    "tags": []
   },
   "source": []
  },
  {
   "cell_type": "markdown",
   "id": "42c7c0d4",
   "metadata": {
    "papermill": {
     "duration": 0.025542,
     "end_time": "2023-11-19T19:29:48.205359",
     "exception": false,
     "start_time": "2023-11-19T19:29:48.179817",
     "status": "completed"
    },
    "tags": []
   },
   "source": [
    "# Now I will re-initialize my data set and clean up my data before using pd.get_dummies()"
   ]
  },
  {
   "cell_type": "markdown",
   "id": "97b1d5d8",
   "metadata": {
    "papermill": {
     "duration": 0.024986,
     "end_time": "2023-11-19T19:29:48.254979",
     "exception": false,
     "start_time": "2023-11-19T19:29:48.229993",
     "status": "completed"
    },
    "tags": []
   },
   "source": [
    "**I set up X_train and Y_train, but this time, instead of doing pd.get_Dummies() on X_train, I'm not going to use pd.get_Dummies() until after I clean up the data**"
   ]
  },
  {
   "cell_type": "code",
   "execution_count": 13,
   "id": "65f17ec0",
   "metadata": {
    "execution": {
     "iopub.execute_input": "2023-11-19T19:29:48.313224Z",
     "iopub.status.busy": "2023-11-19T19:29:48.311936Z",
     "iopub.status.idle": "2023-11-19T19:29:48.335289Z",
     "shell.execute_reply": "2023-11-19T19:29:48.333440Z"
    },
    "papermill": {
     "duration": 0.057563,
     "end_time": "2023-11-19T19:29:48.338393",
     "exception": false,
     "start_time": "2023-11-19T19:29:48.280830",
     "status": "completed"
    },
    "tags": []
   },
   "outputs": [
    {
     "name": "stdout",
     "output_type": "stream",
     "text": [
      "   PassengerId  Survived  Pclass  \\\n",
      "0            1         0       3   \n",
      "1            2         1       1   \n",
      "2            3         1       3   \n",
      "3            4         1       1   \n",
      "4            5         0       3   \n",
      "\n",
      "                                                Name     Sex   Age  SibSp  \\\n",
      "0                            Braund, Mr. Owen Harris    male  22.0      1   \n",
      "1  Cumings, Mrs. John Bradley (Florence Briggs Th...  female  38.0      1   \n",
      "2                             Heikkinen, Miss. Laina  female  26.0      0   \n",
      "3       Futrelle, Mrs. Jacques Heath (Lily May Peel)  female  35.0      1   \n",
      "4                           Allen, Mr. William Henry    male  35.0      0   \n",
      "\n",
      "   Parch            Ticket     Fare Cabin Embarked  \n",
      "0      0         A/5 21171   7.2500   NaN        S  \n",
      "1      0          PC 17599  71.2833   C85        C  \n",
      "2      0  STON/O2. 3101282   7.9250   NaN        S  \n",
      "3      0            113803  53.1000  C123        S  \n",
      "4      0            373450   8.0500   NaN        S  \n"
     ]
    }
   ],
   "source": [
    "train_data = pd.read_csv(\"/kaggle/input/titanic/train.csv\")\n",
    "\n",
    "features = [\"Pclass\", \"Sex\", \"Fare\",\"Age\", \"SibSp\", \"Parch\"] # Here, I also added more features which I think might be useful\n",
    "\n",
    "X_train = train_data # I won't actually limit the X_train to just the columns of the features I want just yet. This is because I will use the other columns in the data set to help impute missing values\n",
    "\n",
    "Y_train = train_data[\"Survived\"]\n",
    "\n",
    "print(X_train.head())\n"
   ]
  },
  {
   "cell_type": "markdown",
   "id": "7da0ae3d",
   "metadata": {
    "papermill": {
     "duration": 0.026555,
     "end_time": "2023-11-19T19:29:48.392169",
     "exception": false,
     "start_time": "2023-11-19T19:29:48.365614",
     "status": "completed"
    },
    "tags": []
   },
   "source": [
    "# Start cleaning up the data"
   ]
  },
  {
   "cell_type": "code",
   "execution_count": 14,
   "id": "f5b331ee",
   "metadata": {
    "execution": {
     "iopub.execute_input": "2023-11-19T19:29:48.446477Z",
     "iopub.status.busy": "2023-11-19T19:29:48.445153Z",
     "iopub.status.idle": "2023-11-19T19:29:48.459057Z",
     "shell.execute_reply": "2023-11-19T19:29:48.457614Z"
    },
    "papermill": {
     "duration": 0.044198,
     "end_time": "2023-11-19T19:29:48.462064",
     "exception": false,
     "start_time": "2023-11-19T19:29:48.417866",
     "status": "completed"
    },
    "tags": []
   },
   "outputs": [
    {
     "name": "stdout",
     "output_type": "stream",
     "text": [
      "0\n",
      "0\n",
      "0\n",
      "0\n",
      "0\n",
      "177\n"
     ]
    }
   ],
   "source": [
    "# Impute missing values for Pclass\n",
    "\n",
    "average_Pclass = X_train[\"Pclass\"].median()\n",
    "\n",
    "X_train[\"Pclass\"].fillna(average_Pclass, inplace = True)\n",
    "\n",
    "print(X_train[\"Pclass\"].isnull().sum()) # print the number of rows in the \"Pclass\" columns that now have no value\n",
    "\n",
    "print(X_train[\"Sex\"].isnull().sum()) # Since this prints out 0, this means that there is no missing value in the \"Sex\" column so we don't need to impute anything\n",
    "\n",
    "print(X_train[\"Fare\"].isnull().sum()) # Since this prints out 0, this means that there is no missing value in the \"Fare\" column so we don't need to impute anything\n",
    "\n",
    "print(X_train[\"SibSp\"].isnull().sum()) # Since this prints out 0, this means that there is no missing value in the \"SibSp\" column so we don't need to impute anything\n",
    "\n",
    "print(X_train[\"Parch\"].isnull().sum()) # Since this prints out 0, this means that there is no missing value in the \"Parch\" column so we don't need to impute anything\n",
    "\n",
    "print(X_train[\"Age\"].isnull().sum()) # This prints out 177 so there are 177 rows with missing values in the \"Age\" column! This means we have to do a lot of imputing\n",
    "\n"
   ]
  },
  {
   "cell_type": "markdown",
   "id": "bce3affe",
   "metadata": {
    "papermill": {
     "duration": 0.025558,
     "end_time": "2023-11-19T19:29:48.513169",
     "exception": false,
     "start_time": "2023-11-19T19:29:48.487611",
     "status": "completed"
    },
    "tags": []
   },
   "source": [
    "**From this, we learned that age is the main column with missing values (of the columns that we are working with) so we need to methodically impute those missing values**"
   ]
  },
  {
   "cell_type": "markdown",
   "id": "cd11ede7",
   "metadata": {
    "papermill": {
     "duration": 0.02468,
     "end_time": "2023-11-19T19:29:48.563233",
     "exception": false,
     "start_time": "2023-11-19T19:29:48.538553",
     "status": "completed"
    },
    "tags": []
   },
   "source": [
    "# Cleaning up (imputing) the Age column using a Random Forest Regressor model (a type of Machine Learning model) that accurately predicts the age of a person given their "
   ]
  },
  {
   "cell_type": "code",
   "execution_count": 15,
   "id": "db345827",
   "metadata": {
    "execution": {
     "iopub.execute_input": "2023-11-19T19:29:48.616030Z",
     "iopub.status.busy": "2023-11-19T19:29:48.615510Z",
     "iopub.status.idle": "2023-11-19T19:30:14.344033Z",
     "shell.execute_reply": "2023-11-19T19:30:14.341791Z"
    },
    "papermill": {
     "duration": 25.759022,
     "end_time": "2023-11-19T19:30:14.347434",
     "exception": false,
     "start_time": "2023-11-19T19:29:48.588412",
     "status": "completed"
    },
    "tags": []
   },
   "outputs": [
    {
     "name": "stdout",
     "output_type": "stream",
     "text": [
      "0\n"
     ]
    },
    {
     "name": "stderr",
     "output_type": "stream",
     "text": [
      "/opt/conda/lib/python3.10/site-packages/sklearn/impute/_iterative.py:785: ConvergenceWarning: [IterativeImputer] Early stopping criterion not reached.\n",
      "  warnings.warn(\n"
     ]
    }
   ],
   "source": [
    "from sklearn.experimental import enable_iterative_imputer\n",
    "from sklearn.impute import IterativeImputer\n",
    "from sklearn.ensemble import RandomForestRegressor\n",
    "from sklearn.preprocessing import LabelEncoder\n",
    "\n",
    "\n",
    "#We use \"LabelEncoder\" to turn all the categorial values (values which don't use numbers) into values which the Random Forest Regressor can understand more easily. This is very similar to doing something like pd.get_dummies()\n",
    "\n",
    "label_encoders = {}\n",
    "for column in ['Sex', 'Embarked']:\n",
    "    label_encoders[column] = LabelEncoder()\n",
    "    # We use 'astype(str)' to convert any NaN values to a string representation\n",
    "    X_train[column] = label_encoders[column].fit_transform(X_train[column].astype(str))\n",
    "\n",
    "features = ['Survived', 'Pclass', 'Sex', 'Age', 'SibSp', 'Parch', 'Fare', 'Embarked']\n",
    "# One very important thing that I will end up doing is using the \"Survived\" column of the dataset to predict the age. This is because there is a strong correleation between the survival and age. \n",
    "\n",
    "\n",
    "#This is an imputer. It is a function that can efficiently impute values in the way you want. For this scenario, I am using IterativeImputer() and the RandomForestRegressor(() to )\n",
    "imputer = IterativeImputer(RandomForestRegressor(n_estimators=10), max_iter=100, random_state=0)\n",
    "\n",
    "\n",
    "# Fit the imputer on the DataFrame with the features\n",
    "imputer.fit(X_train[features]) #When IterativeImputer is used alongside an ML model like RandomForestRegressor, calling .fit() on the IterativeImputer() object will also fit (train) the ML model\n",
    "\n",
    "\n",
    "# Perform the imputation on the Training Data. THIS WILL ACTUAL IMPUTE ANY MISSING VALUES IN EACH ROW, not only the missing values in Age.\n",
    "X_train_imputed = imputer.transform(X_train[features])\n",
    "\n",
    "\n",
    "# Convert the output back to a DataFrame\n",
    "X_train_imputed = pd.DataFrame(X_train_imputed, columns=features)\n",
    "\n",
    "# Update the original DataFrame with the imputed values. This means that the columns of the original X_train dataframe that weren't part of the features (like \"Name\" isn't apart of the features list)\n",
    "X_train[features] = X_train_imputed\n",
    "\n",
    "#print(X_train.head())\n",
    "\n",
    "print(X_train[\"Age\"].isnull().sum()) # Since this prints 0, we now know that there are 0 missing values in the age column and so the imputation was successful "
   ]
  },
  {
   "cell_type": "markdown",
   "id": "dadef87d",
   "metadata": {
    "papermill": {
     "duration": 0.027012,
     "end_time": "2023-11-19T19:30:14.400521",
     "exception": false,
     "start_time": "2023-11-19T19:30:14.373509",
     "status": "completed"
    },
    "tags": []
   },
   "source": [
    "**Using IterativeRegressor() and RandomForestRegressor(), I essentially used an ML model to impute any missing values in the dataset. I wanted to clean up the age column using the most effective method and I didn't want to just find the average age and impute all those values to the missing values. I wanted to be smart since age is an incredibly important feature.**"
   ]
  },
  {
   "cell_type": "markdown",
   "id": "b4c639f4",
   "metadata": {
    "papermill": {
     "duration": 0.025085,
     "end_time": "2023-11-19T19:30:14.453665",
     "exception": false,
     "start_time": "2023-11-19T19:30:14.428580",
     "status": "completed"
    },
    "tags": []
   },
   "source": [
    "**Using the ImperativeImputer(), this will actually impute all the missing values in each row. It won't only impute the missing values in the \"age\" column. BUT, since we already cleaned the data and know there are 0 missing values for all the other columns that we care about (the ones with the features we are using), the imputer will be imputing values only to the missing values of age and other columns that we don't care about, but out of all the columns we care about, it will only be affecting the age column since all the other columns we care about have 0 missing values as we checked in the code previously.**"
   ]
  },
  {
   "cell_type": "code",
   "execution_count": 16,
   "id": "1ca4cfaa",
   "metadata": {
    "execution": {
     "iopub.execute_input": "2023-11-19T19:30:14.507684Z",
     "iopub.status.busy": "2023-11-19T19:30:14.506687Z",
     "iopub.status.idle": "2023-11-19T19:30:14.534571Z",
     "shell.execute_reply": "2023-11-19T19:30:14.533281Z"
    },
    "papermill": {
     "duration": 0.060068,
     "end_time": "2023-11-19T19:30:14.539283",
     "exception": false,
     "start_time": "2023-11-19T19:30:14.479215",
     "status": "completed"
    },
    "tags": []
   },
   "outputs": [
    {
     "name": "stdout",
     "output_type": "stream",
     "text": [
      "   Pclass  Sex     Fare   Age  SibSp  Parch\n",
      "0     3.0  1.0   7.2500  22.0    1.0    0.0\n",
      "1     1.0  0.0  71.2833  38.0    1.0    0.0\n",
      "2     3.0  0.0   7.9250  26.0    0.0    0.0\n",
      "3     1.0  0.0  53.1000  35.0    1.0    0.0\n",
      "4     3.0  1.0   8.0500  35.0    0.0    0.0\n",
      "314\n",
      "577\n",
      "   Pclass     Sex     Fare   Age  SibSp  Parch\n",
      "0     3.0    male   7.2500  22.0    1.0    0.0\n",
      "1     1.0  female  71.2833  38.0    1.0    0.0\n",
      "2     3.0  female   7.9250  26.0    0.0    0.0\n",
      "3     1.0  female  53.1000  35.0    1.0    0.0\n",
      "4     3.0    male   8.0500  35.0    0.0    0.0\n",
      "577\n"
     ]
    },
    {
     "name": "stderr",
     "output_type": "stream",
     "text": [
      "/tmp/ipykernel_20/1272774441.py:12: SettingWithCopyWarning: \n",
      "A value is trying to be set on a copy of a slice from a DataFrame.\n",
      "Try using .loc[row_indexer,col_indexer] = value instead\n",
      "\n",
      "See the caveats in the documentation: https://pandas.pydata.org/pandas-docs/stable/user_guide/indexing.html#returning-a-view-versus-a-copy\n",
      "  X_train['Sex'] = X_train['Sex'].map({0: 'female', 1: 'male'})\n"
     ]
    }
   ],
   "source": [
    "features = [\"Pclass\", \"Sex\", \"Fare\",\"Age\", \"SibSp\", \"Parch\"]\n",
    "\n",
    "X_train = X_train[features]\n",
    "\n",
    "print(X_train.head(5))\n",
    "\n",
    "print((X_train[\"Sex\"] == 0).sum())\n",
    "print((X_train[\"Sex\"] == 1).sum())\n",
    "\n",
    "# Since the dataset is 65% male, we can see from printing out the number of people with \"sex equal to 0\" and \"sex equal to 1\" that the LabelEncoder made Male into \"1\" and Female into \"0\". Now, let's change it back to \"Male\" and \"Female\".\n",
    "\n",
    "X_train['Sex'] = X_train['Sex'].map({0: 'female', 1: 'male'})\n",
    "\n",
    "print(X_train.head(5))\n",
    "\n",
    "print((X_train[\"Sex\"] == \"male\").sum())"
   ]
  },
  {
   "cell_type": "markdown",
   "id": "1d5338a3",
   "metadata": {
    "papermill": {
     "duration": 0.02685,
     "end_time": "2023-11-19T19:30:14.591815",
     "exception": false,
     "start_time": "2023-11-19T19:30:14.564965",
     "status": "completed"
    },
    "tags": []
   },
   "source": [
    "**Here, in the code above, I changed X_train back to focus only on the features we care about. I also changed the \"Sex\" column from 0 and 1 back to Male and Female.**"
   ]
  },
  {
   "cell_type": "markdown",
   "id": "5c76ed93",
   "metadata": {
    "papermill": {
     "duration": 0.026712,
     "end_time": "2023-11-19T19:30:14.645367",
     "exception": false,
     "start_time": "2023-11-19T19:30:14.618655",
     "status": "completed"
    },
    "tags": []
   },
   "source": [
    "# After the careful inspection of the test.csv, I see that there are also missing values in the test.csv. As a result, we have to clean up the data for test.csv as we did for train.csv"
   ]
  },
  {
   "cell_type": "markdown",
   "id": "06232112",
   "metadata": {
    "papermill": {
     "duration": 0.025465,
     "end_time": "2023-11-19T19:30:14.696444",
     "exception": false,
     "start_time": "2023-11-19T19:30:14.670979",
     "status": "completed"
    },
    "tags": []
   },
   "source": [
    "**Seeing which columns have missing values:**"
   ]
  },
  {
   "cell_type": "code",
   "execution_count": 17,
   "id": "390847b8",
   "metadata": {
    "execution": {
     "iopub.execute_input": "2023-11-19T19:30:14.751380Z",
     "iopub.status.busy": "2023-11-19T19:30:14.750864Z",
     "iopub.status.idle": "2023-11-19T19:30:14.771345Z",
     "shell.execute_reply": "2023-11-19T19:30:14.769979Z"
    },
    "papermill": {
     "duration": 0.053008,
     "end_time": "2023-11-19T19:30:14.774812",
     "exception": false,
     "start_time": "2023-11-19T19:30:14.721804",
     "status": "completed"
    },
    "tags": []
   },
   "outputs": [
    {
     "name": "stdout",
     "output_type": "stream",
     "text": [
      "0\n",
      "0\n",
      "0\n",
      "0\n",
      "1\n",
      "86\n"
     ]
    }
   ],
   "source": [
    "test_data = pd.read_csv(\"/kaggle/input/titanic/test.csv\")\n",
    "\n",
    "features = [\"Pclass\", \"Sex\", \"Fare\",\"Age\", \"SibSp\", \"Parch\"]\n",
    "\n",
    "print(test_data[\"Pclass\"].isnull().sum()) # Since this is 0, that means there is no missing values\n",
    "\n",
    "print(test_data[\"Sex\"].isnull().sum()) # Since this is 0, that means there is no missing values\n",
    "\n",
    "print(test_data[\"SibSp\"].isnull().sum()) # Since this is 0, that means there is no missing values\n",
    "\n",
    "print(test_data[\"Parch\"].isnull().sum()) # Since this is 0, that means there is no missing values\n",
    "\n",
    "print(test_data[\"Fare\"].isnull().sum()) # Since this is 1, that means there is one missing value\n",
    "\n",
    "print(test_data[\"Age\"].isnull().sum()) # Since this is 86, that means there are 86 missing values\n"
   ]
  },
  {
   "cell_type": "markdown",
   "id": "17c712b1",
   "metadata": {
    "papermill": {
     "duration": 0.026578,
     "end_time": "2023-11-19T19:30:14.829729",
     "exception": false,
     "start_time": "2023-11-19T19:30:14.803151",
     "status": "completed"
    },
    "tags": []
   },
   "source": [
    "**From this, we can see that only \"Fare\" annd \"Age\" have missing values. Since \"Fare\" only has one missing value, it's not worth it to go to through all the work to do some advanced imputation technique to fill in missing values. So, I will just fill that in with the average fare value.**\n",
    "\n",
    "**For the \"Age\" feature, I will repeat the process of using an IterativeImputer and a RandomForestRegressor to imputate missing values**"
   ]
  },
  {
   "cell_type": "code",
   "execution_count": 18,
   "id": "b83e7f05",
   "metadata": {
    "execution": {
     "iopub.execute_input": "2023-11-19T19:30:14.885637Z",
     "iopub.status.busy": "2023-11-19T19:30:14.885111Z",
     "iopub.status.idle": "2023-11-19T19:30:14.894409Z",
     "shell.execute_reply": "2023-11-19T19:30:14.893002Z"
    },
    "papermill": {
     "duration": 0.042004,
     "end_time": "2023-11-19T19:30:14.898069",
     "exception": false,
     "start_time": "2023-11-19T19:30:14.856065",
     "status": "completed"
    },
    "tags": []
   },
   "outputs": [
    {
     "name": "stdout",
     "output_type": "stream",
     "text": [
      "0\n"
     ]
    }
   ],
   "source": [
    "average_fare = test_data[\"Fare\"].mean()\n",
    "\n",
    "test_data[\"Fare\"].fillna(average_fare, inplace = True) # This replaces the single missing value in \"Fare\" with the average value Fare Value of the test data\n",
    "\n",
    "print(test_data[\"Fare\"].isnull().sum())"
   ]
  },
  {
   "cell_type": "code",
   "execution_count": 19,
   "id": "909c895a",
   "metadata": {
    "execution": {
     "iopub.execute_input": "2023-11-19T19:30:14.954211Z",
     "iopub.status.busy": "2023-11-19T19:30:14.953155Z",
     "iopub.status.idle": "2023-11-19T19:30:33.127772Z",
     "shell.execute_reply": "2023-11-19T19:30:33.126383Z"
    },
    "papermill": {
     "duration": 18.207313,
     "end_time": "2023-11-19T19:30:33.132219",
     "exception": false,
     "start_time": "2023-11-19T19:30:14.924906",
     "status": "completed"
    },
    "tags": []
   },
   "outputs": [
    {
     "name": "stdout",
     "output_type": "stream",
     "text": [
      "0\n",
      "   PassengerId  Pclass                                          Name  Sex  \\\n",
      "0          892     3.0                              Kelly, Mr. James  1.0   \n",
      "1          893     3.0              Wilkes, Mrs. James (Ellen Needs)  0.0   \n",
      "2          894     2.0                     Myles, Mr. Thomas Francis  1.0   \n",
      "3          895     3.0                              Wirz, Mr. Albert  1.0   \n",
      "4          896     3.0  Hirvonen, Mrs. Alexander (Helga E Lindqvist)  0.0   \n",
      "\n",
      "    Age  SibSp  Parch   Ticket     Fare Cabin  Embarked  \n",
      "0  34.5    0.0    0.0   330911   7.8292   NaN       1.0  \n",
      "1  47.0    1.0    0.0   363272   7.0000   NaN       2.0  \n",
      "2  62.0    0.0    0.0   240276   9.6875   NaN       1.0  \n",
      "3  27.0    0.0    0.0   315154   8.6625   NaN       2.0  \n",
      "4  22.0    1.0    1.0  3101298  12.2875   NaN       2.0  \n"
     ]
    },
    {
     "name": "stderr",
     "output_type": "stream",
     "text": [
      "/opt/conda/lib/python3.10/site-packages/sklearn/impute/_iterative.py:785: ConvergenceWarning: [IterativeImputer] Early stopping criterion not reached.\n",
      "  warnings.warn(\n"
     ]
    }
   ],
   "source": [
    "from sklearn.experimental import enable_iterative_imputer\n",
    "from sklearn.impute import IterativeImputer\n",
    "from sklearn.ensemble import RandomForestRegressor\n",
    "from sklearn.preprocessing import LabelEncoder\n",
    "\n",
    "\n",
    "#We use \"LabelEncoder\" to turn all the categorial values (values which don't use numbers) into values which the Random Forest Regressor can understand more easily. This is very similar to doing something like pd.get_dummies()\n",
    "\n",
    "label_encoders = {}\n",
    "for column in ['Sex', 'Embarked']:\n",
    "    label_encoders[column] = LabelEncoder()\n",
    "    # We use 'astype(str)' to convert any NaN values to a string representation\n",
    "    test_data[column] = label_encoders[column].fit_transform(test_data[column].astype(str))\n",
    "\n",
    "features = ['Pclass', 'Sex', 'Age', 'SibSp', 'Parch', 'Fare', 'Embarked']\n",
    "\n",
    "\n",
    "#This is an imputer. It is a function that can efficiently impute values in the way you want. For this scenario, I am using IterativeImputer() and the RandomForestRegressor(() to )\n",
    "imputer = IterativeImputer(RandomForestRegressor(n_estimators=10), max_iter=100, random_state=0)\n",
    "\n",
    "\n",
    "# Fit the imputer on the DataFrame with the features\n",
    "imputer.fit(test_data[features]) #When IterativeImputer is used alongside an ML model like RandomForestRegressor, calling .fit() on the IterativeImputer() object will also fit (train) the ML model\n",
    "\n",
    "\n",
    "# Perform the imputation on the Test Data. THIS WILL ACTUAL IMPUTE ANY MISSING VALUES IN EACH ROW, not only the missing values in Age.\n",
    "test_data_imputed = imputer.transform(test_data[features])\n",
    "\n",
    "\n",
    "# Convert the output back to a DataFrame\n",
    "test_data_imputed = pd.DataFrame(test_data_imputed, columns=features)\n",
    "\n",
    "# Update the original DataFrame with the imputed values. This means that the columns of the original test_data dataframe that weren't part of the features (like \"Name\" isn't apart of the features list)\n",
    "test_data[features] = test_data_imputed\n",
    "\n",
    "print(test_data[\"Age\"].isnull().sum()) # Since this prints 0, we now know that there are 0 missing values in the age column and so the imputation was successful \n",
    "\n",
    "print(test_data.head())"
   ]
  },
  {
   "cell_type": "markdown",
   "id": "44811a6f",
   "metadata": {
    "papermill": {
     "duration": 0.027084,
     "end_time": "2023-11-19T19:30:33.186769",
     "exception": false,
     "start_time": "2023-11-19T19:30:33.159685",
     "status": "completed"
    },
    "tags": []
   },
   "source": [
    "**The code above will imputate all the missing values in the test_data**"
   ]
  },
  {
   "cell_type": "markdown",
   "id": "0fa23680",
   "metadata": {
    "papermill": {
     "duration": 0.026262,
     "end_time": "2023-11-19T19:30:33.241237",
     "exception": false,
     "start_time": "2023-11-19T19:30:33.214975",
     "status": "completed"
    },
    "tags": []
   },
   "source": [
    "# Finalize the cleaning of the data and make it so test_data only has the features we want"
   ]
  },
  {
   "cell_type": "code",
   "execution_count": 20,
   "id": "49947966",
   "metadata": {
    "execution": {
     "iopub.execute_input": "2023-11-19T19:30:33.297038Z",
     "iopub.status.busy": "2023-11-19T19:30:33.296478Z",
     "iopub.status.idle": "2023-11-19T19:30:33.318985Z",
     "shell.execute_reply": "2023-11-19T19:30:33.317310Z"
    },
    "papermill": {
     "duration": 0.053681,
     "end_time": "2023-11-19T19:30:33.321805",
     "exception": false,
     "start_time": "2023-11-19T19:30:33.268124",
     "status": "completed"
    },
    "tags": []
   },
   "outputs": [
    {
     "name": "stdout",
     "output_type": "stream",
     "text": [
      "152\n",
      "266\n",
      "   Pclass     Sex     Fare   Age  SibSp  Parch\n",
      "0     3.0    male   7.8292  34.5    0.0    0.0\n",
      "1     3.0  female   7.0000  47.0    1.0    0.0\n",
      "2     2.0    male   9.6875  62.0    0.0    0.0\n",
      "3     3.0    male   8.6625  27.0    0.0    0.0\n",
      "4     3.0  female  12.2875  22.0    1.0    1.0\n",
      "266\n"
     ]
    }
   ],
   "source": [
    "features = [\"Pclass\", \"Sex\", \"Fare\",\"Age\", \"SibSp\", \"Parch\"]\n",
    "\n",
    "test_data = test_data[features]\n",
    "\n",
    "print((test_data[\"Sex\"] == 0).sum())\n",
    "print((test_data[\"Sex\"] == 1).sum())\n",
    "\n",
    "# Since the dataset is 65% male, we can see from printing out the number of people with \"sex equal to 0\" and \"sex equal to 1\" that the LabelEncoder made Male into \"1\" and Female into \"0\". Now, let's change it back to \"male\" and \"female\".\n",
    "\n",
    "test_data['Sex'] = test_data['Sex'].map({0: 'female', 1: 'male'})\n",
    "\n",
    "print(test_data.head(5))\n",
    "\n",
    "print((test_data[\"Sex\"] == \"male\").sum())"
   ]
  },
  {
   "cell_type": "markdown",
   "id": "97f6613b",
   "metadata": {
    "papermill": {
     "duration": 0.027146,
     "end_time": "2023-11-19T19:30:33.377428",
     "exception": false,
     "start_time": "2023-11-19T19:30:33.350282",
     "status": "completed"
    },
    "tags": []
   },
   "source": [
    "# Now, after cleaning up the data, I can split up the data into train_validation_test "
   ]
  },
  {
   "cell_type": "code",
   "execution_count": 21,
   "id": "19be0cf0",
   "metadata": {
    "execution": {
     "iopub.execute_input": "2023-11-19T19:30:33.435865Z",
     "iopub.status.busy": "2023-11-19T19:30:33.435409Z",
     "iopub.status.idle": "2023-11-19T19:30:33.447657Z",
     "shell.execute_reply": "2023-11-19T19:30:33.446587Z"
    },
    "papermill": {
     "duration": 0.04478,
     "end_time": "2023-11-19T19:30:33.450492",
     "exception": false,
     "start_time": "2023-11-19T19:30:33.405712",
     "status": "completed"
    },
    "tags": []
   },
   "outputs": [],
   "source": [
    "from sklearn.model_selection import train_test_split\n",
    "\n",
    "Y_train = train_data[\"Survived\"]\n",
    "\n",
    "# First, split into training (60%) and a test set (40%)\n",
    "train_X, test_X, train_Y, test_Y = train_test_split(X_train, Y_train, test_size=0.4, random_state = 42)\n",
    "\n",
    "#Second, split test set into a validation (20%) and test set (20%)\n",
    "valid_X, test_X, valid_Y, test_Y= train_test_split(test_X, test_Y, test_size = 0.5, random_state = 42)"
   ]
  },
  {
   "cell_type": "markdown",
   "id": "ff67e8b4",
   "metadata": {
    "papermill": {
     "duration": 0.028971,
     "end_time": "2023-11-19T19:30:33.509034",
     "exception": false,
     "start_time": "2023-11-19T19:30:33.480063",
     "status": "completed"
    },
    "tags": []
   },
   "source": [
    "# Using pd.get_dummies() on all the data"
   ]
  },
  {
   "cell_type": "markdown",
   "id": "c71cb029",
   "metadata": {
    "papermill": {
     "duration": 0.025796,
     "end_time": "2023-11-19T19:30:33.562749",
     "exception": false,
     "start_time": "2023-11-19T19:30:33.536953",
     "status": "completed"
    },
    "tags": []
   },
   "source": [
    "**Setting up the Test data (from Test.csv) (This is NOT the test data from the Train_validation_test split):**"
   ]
  },
  {
   "cell_type": "code",
   "execution_count": 22,
   "id": "da2ab769",
   "metadata": {
    "execution": {
     "iopub.execute_input": "2023-11-19T19:30:33.618358Z",
     "iopub.status.busy": "2023-11-19T19:30:33.617751Z",
     "iopub.status.idle": "2023-11-19T19:30:33.636083Z",
     "shell.execute_reply": "2023-11-19T19:30:33.634745Z"
    },
    "papermill": {
     "duration": 0.050431,
     "end_time": "2023-11-19T19:30:33.639403",
     "exception": false,
     "start_time": "2023-11-19T19:30:33.588972",
     "status": "completed"
    },
    "tags": []
   },
   "outputs": [
    {
     "name": "stdout",
     "output_type": "stream",
     "text": [
      "   Pclass     Fare   Age  SibSp  Parch  Sex_female  Sex_male\n",
      "0     3.0   7.8292  34.5    0.0    0.0       False      True\n",
      "1     3.0   7.0000  47.0    1.0    0.0        True     False\n",
      "2     2.0   9.6875  62.0    0.0    0.0       False      True\n",
      "3     3.0   8.6625  27.0    0.0    0.0       False      True\n",
      "4     3.0  12.2875  22.0    1.0    1.0        True     False\n"
     ]
    }
   ],
   "source": [
    "test_data = test_data #the \"test_data\" variable here is after we cleaned up the test_data \n",
    "\n",
    "features = [\"Pclass\", \"Sex\", \"Fare\",\"Age\", \"SibSp\", \"Parch\"]\n",
    "\n",
    "test_data = test_data[features]\n",
    "\n",
    "test_data = pd.get_dummies(test_data)\n",
    "print(test_data.head())"
   ]
  },
  {
   "cell_type": "markdown",
   "id": "6432e7bf",
   "metadata": {
    "papermill": {
     "duration": 0.026692,
     "end_time": "2023-11-19T19:30:33.693772",
     "exception": false,
     "start_time": "2023-11-19T19:30:33.667080",
     "status": "completed"
    },
    "tags": []
   },
   "source": [
    "**Setting up the Train data and Validation data and the Test data from the train_validation_test split:**"
   ]
  },
  {
   "cell_type": "code",
   "execution_count": 23,
   "id": "69687851",
   "metadata": {
    "execution": {
     "iopub.execute_input": "2023-11-19T19:30:33.751228Z",
     "iopub.status.busy": "2023-11-19T19:30:33.749836Z",
     "iopub.status.idle": "2023-11-19T19:30:33.781480Z",
     "shell.execute_reply": "2023-11-19T19:30:33.780152Z"
    },
    "papermill": {
     "duration": 0.063454,
     "end_time": "2023-11-19T19:30:33.784362",
     "exception": false,
     "start_time": "2023-11-19T19:30:33.720908",
     "status": "completed"
    },
    "tags": []
   },
   "outputs": [
    {
     "name": "stdout",
     "output_type": "stream",
     "text": [
      "     Pclass     Fare   Age  SibSp  Parch  Sex_female  Sex_male\n",
      "570     2.0  10.5000  62.0    0.0    0.0       False      True\n",
      "787     3.0  29.1250   8.0    4.0    1.0       False      True\n",
      "74      3.0  56.4958  32.0    0.0    0.0       False      True\n",
      "113     3.0   9.8250  20.0    1.0    0.0        True     False\n",
      "635     2.0  13.0000  28.0    0.0    0.0        True     False\n",
      "     Pclass     Fare        Age  SibSp  Parch  Sex_female  Sex_male\n",
      "849     1.0  89.1042  32.600000    1.0    0.0        True     False\n",
      "331     1.0  28.5000  45.500000    0.0    0.0       False      True\n",
      "260     3.0   7.7500  42.896488    0.0    0.0       False      True\n",
      "316     2.0  26.0000  24.000000    1.0    0.0        True     False\n",
      "292     2.0  12.8750  36.000000    0.0    0.0       False      True\n",
      "     Pclass     Fare        Age  SibSp  Parch  Sex_female  Sex_male\n",
      "424     3.0  20.2125  18.000000    1.0    1.0       False      True\n",
      "837     3.0   8.0500  30.476249    0.0    0.0       False      True\n",
      "525     3.0   7.7500  40.500000    0.0    0.0       False      True\n",
      "328     3.0  20.5250  31.000000    1.0    1.0        True     False\n",
      "70      2.0  10.5000  32.000000    0.0    0.0       False      True\n"
     ]
    }
   ],
   "source": [
    "train_X = pd.get_dummies(train_X)\n",
    "print(train_X.head())\n",
    "\n",
    "valid_X = pd.get_dummies(valid_X)\n",
    "print(valid_X.head())\n",
    "\n",
    "test_X = pd.get_dummies(test_X)\n",
    "print(test_X.head())"
   ]
  },
  {
   "cell_type": "markdown",
   "id": "5c147b78",
   "metadata": {
    "papermill": {
     "duration": 0.026218,
     "end_time": "2023-11-19T19:30:33.838360",
     "exception": false,
     "start_time": "2023-11-19T19:30:33.812142",
     "status": "completed"
    },
    "tags": []
   },
   "source": [
    "# Making the model, training it using train_X and changing the model based on valid_X"
   ]
  },
  {
   "cell_type": "code",
   "execution_count": 24,
   "id": "d9c45837",
   "metadata": {
    "execution": {
     "iopub.execute_input": "2023-11-19T19:30:33.894901Z",
     "iopub.status.busy": "2023-11-19T19:30:33.894064Z",
     "iopub.status.idle": "2023-11-19T19:30:34.827335Z",
     "shell.execute_reply": "2023-11-19T19:30:34.825846Z"
    },
    "papermill": {
     "duration": 0.965513,
     "end_time": "2023-11-19T19:30:34.830416",
     "exception": false,
     "start_time": "2023-11-19T19:30:33.864903",
     "status": "completed"
    },
    "tags": []
   },
   "outputs": [
    {
     "name": "stdout",
     "output_type": "stream",
     "text": [
      "Accuracy: 0.8033707865168539\n"
     ]
    }
   ],
   "source": [
    "from sklearn.neural_network import MLPClassifier\n",
    "from sklearn.metrics import accuracy_score\n",
    "\n",
    "model = MLPClassifier(hidden_layer_sizes = (20, 11), activation = \"relu\", solver = \"lbfgs\", max_iter = 1000, random_state = 42)\n",
    "\n",
    "model.fit(train_X, train_Y)\n",
    "\n",
    "y_pred = model.predict(valid_X)\n",
    "\n",
    "print(f\"Accuracy: {accuracy_score(valid_Y, y_pred)}\")"
   ]
  },
  {
   "cell_type": "markdown",
   "id": "b2b5e040",
   "metadata": {
    "papermill": {
     "duration": 0.027528,
     "end_time": "2023-11-19T19:30:34.884776",
     "exception": false,
     "start_time": "2023-11-19T19:30:34.857248",
     "status": "completed"
    },
    "tags": []
   },
   "source": [
    "**From the code above, you can see that I am using the validation set to test out the code**"
   ]
  },
  {
   "cell_type": "code",
   "execution_count": 25,
   "id": "ecc95c10",
   "metadata": {
    "execution": {
     "iopub.execute_input": "2023-11-19T19:30:34.943171Z",
     "iopub.status.busy": "2023-11-19T19:30:34.942052Z",
     "iopub.status.idle": "2023-11-19T19:30:34.953698Z",
     "shell.execute_reply": "2023-11-19T19:30:34.952160Z"
    },
    "papermill": {
     "duration": 0.044213,
     "end_time": "2023-11-19T19:30:34.956579",
     "exception": false,
     "start_time": "2023-11-19T19:30:34.912366",
     "status": "completed"
    },
    "tags": []
   },
   "outputs": [
    {
     "name": "stdout",
     "output_type": "stream",
     "text": [
      "Accuracy: 0.8156424581005587\n"
     ]
    }
   ],
   "source": [
    "y_pred = model.predict(test_X)\n",
    "\n",
    "print(f\"Accuracy: {accuracy_score(test_Y, y_pred)}\")"
   ]
  },
  {
   "cell_type": "markdown",
   "id": "86ba3388",
   "metadata": {
    "papermill": {
     "duration": 0.027048,
     "end_time": "2023-11-19T19:30:35.010207",
     "exception": false,
     "start_time": "2023-11-19T19:30:34.983159",
     "status": "completed"
    },
    "tags": []
   },
   "source": [
    "# Using GridSearchCV to find the best parameters for my MLPClassifier Model"
   ]
  },
  {
   "cell_type": "markdown",
   "id": "f3f7c67a",
   "metadata": {
    "papermill": {
     "duration": 0.026734,
     "end_time": "2023-11-19T19:30:35.066382",
     "exception": false,
     "start_time": "2023-11-19T19:30:35.039648",
     "status": "completed"
    },
    "tags": []
   },
   "source": [
    "**The \"parameter space\" are all the different components and possible values which I want to try for my model**"
   ]
  },
  {
   "cell_type": "code",
   "execution_count": 26,
   "id": "c4fd73cb",
   "metadata": {
    "execution": {
     "iopub.execute_input": "2023-11-19T19:30:35.124739Z",
     "iopub.status.busy": "2023-11-19T19:30:35.123553Z",
     "iopub.status.idle": "2023-11-19T19:30:35.135628Z",
     "shell.execute_reply": "2023-11-19T19:30:35.134109Z"
    },
    "papermill": {
     "duration": 0.045713,
     "end_time": "2023-11-19T19:30:35.139189",
     "exception": false,
     "start_time": "2023-11-19T19:30:35.093476",
     "status": "completed"
    },
    "tags": []
   },
   "outputs": [],
   "source": [
    "# %%capture --no-stderr\n",
    "\n",
    "# # Code that causes warnings\n",
    "# import warnings\n",
    "# from sklearn.exceptions import ConvergenceWarning\n",
    "\n",
    "# # Suppress ConvergenceWarning\n",
    "# warnings.filterwarnings(\"ignore\", category=ConvergenceWarning)\n",
    "# warnings.filterwarnings('ignore')\n",
    "\n",
    "from sklearn.model_selection import GridSearchCV\n",
    "from sklearn.neural_network import MLPClassifier\n",
    "\n",
    "training_X = pd.concat([train_X, valid_X, test_X], ignore_index=True)\n",
    "training_Y = pd.concat([train_Y, valid_Y, test_Y], ignore_index=True)\n",
    "\n",
    "possible_hidden_layers = []\n",
    "\n",
    "for i in range(8,16):\n",
    "    for j in range(8,16):\n",
    "        possible_hidden_layers.append((i, j))\n",
    "\n",
    "parameter_space = {\n",
    "    'hidden_layer_sizes': possible_hidden_layers,\n",
    "    'activation': ['tanh', 'relu'],\n",
    "    'solver': ['sgd', 'adam', \"lbfgs\"],\n",
    "    'alpha': [0.0001, 0.05],\n",
    "    'learning_rate': ['constant','adaptive'],\n",
    "}\n",
    "\n",
    "# mlp = MLPClassifier(max_iter=1000, random_state = 42)\n",
    "\n",
    "# clf = GridSearchCV(model, parameter_space, n_jobs=-1, cv=3)\n",
    "\n",
    "# clf.fit(training_X, training_Y)\n",
    "\n",
    "# print('Best parameters found:\\n', clf.best_params_)\n",
    "\n",
    "# print('Best score (CV mean):', clf.best_score_)\n",
    "\n",
    "# print(\"Done\")\n",
    "\n"
   ]
  },
  {
   "cell_type": "markdown",
   "id": "f0535b61",
   "metadata": {
    "papermill": {
     "duration": 0.027946,
     "end_time": "2023-11-19T19:30:35.194171",
     "exception": false,
     "start_time": "2023-11-19T19:30:35.166225",
     "status": "completed"
    },
    "tags": []
   },
   "source": [
    "# Now that I found the best hyperparameters, I can finalize my model"
   ]
  },
  {
   "cell_type": "markdown",
   "id": "ef93bf68",
   "metadata": {
    "papermill": {
     "duration": 0.027454,
     "end_time": "2023-11-19T19:30:35.248865",
     "exception": false,
     "start_time": "2023-11-19T19:30:35.221411",
     "status": "completed"
    },
    "tags": []
   },
   "source": [
    "**Test using validation set:**"
   ]
  },
  {
   "cell_type": "code",
   "execution_count": 27,
   "id": "84db1bed",
   "metadata": {
    "execution": {
     "iopub.execute_input": "2023-11-19T19:30:35.306514Z",
     "iopub.status.busy": "2023-11-19T19:30:35.305533Z",
     "iopub.status.idle": "2023-11-19T19:30:46.227459Z",
     "shell.execute_reply": "2023-11-19T19:30:46.226330Z"
    },
    "papermill": {
     "duration": 10.956593,
     "end_time": "2023-11-19T19:30:46.232832",
     "exception": false,
     "start_time": "2023-11-19T19:30:35.276239",
     "status": "completed"
    },
    "tags": []
   },
   "outputs": [
    {
     "name": "stdout",
     "output_type": "stream",
     "text": [
      "Accuracy: 0.7696629213483146\n"
     ]
    },
    {
     "name": "stderr",
     "output_type": "stream",
     "text": [
      "/opt/conda/lib/python3.10/site-packages/sklearn/neural_network/_multilayer_perceptron.py:541: ConvergenceWarning: lbfgs failed to converge (status=1):\n",
      "STOP: TOTAL NO. of ITERATIONS REACHED LIMIT.\n",
      "\n",
      "Increase the number of iterations (max_iter) or scale the data as shown in:\n",
      "    https://scikit-learn.org/stable/modules/preprocessing.html\n",
      "  self.n_iter_ = _check_optimize_result(\"lbfgs\", opt_res, self.max_iter)\n"
     ]
    }
   ],
   "source": [
    "# Best parameters: {'activation': 'tanh', 'alpha': 0.05, 'hidden_layer_sizes': (13, 15), 'learning_rate': 'constant', 'solver': 'lbfgs'}\n",
    "# Best score (CV mean): 0.8282828282828283\n",
    "\n",
    "\n",
    "from sklearn.neural_network import MLPClassifier\n",
    "from sklearn.metrics import accuracy_score\n",
    "\n",
    "model = MLPClassifier(activation = \"tanh\", alpha = 0.05, hidden_layer_sizes = (13, 15), learning_rate = \"constant\", solver = \"lbfgs\", max_iter=5000, random_state = 42)\n",
    "\n",
    "#model = MLPClassifier(activation = \"relu\", hidden_layer_sizes = (20, 11), solver = \"lbfgs\",  max_iter=2000, random_state = 42)\n",
    "\n",
    "model.fit(train_X, train_Y)\n",
    "\n",
    "y_pred = model.predict(valid_X)\n",
    "\n",
    "print(f\"Accuracy: {accuracy_score(valid_Y, y_pred)}\")"
   ]
  },
  {
   "cell_type": "markdown",
   "id": "d85051e2",
   "metadata": {
    "papermill": {
     "duration": 0.028027,
     "end_time": "2023-11-19T19:30:46.294014",
     "exception": false,
     "start_time": "2023-11-19T19:30:46.265987",
     "status": "completed"
    },
    "tags": []
   },
   "source": [
    "**Test using test set (from Train-validation-test split)**"
   ]
  },
  {
   "cell_type": "code",
   "execution_count": 28,
   "id": "309aef78",
   "metadata": {
    "execution": {
     "iopub.execute_input": "2023-11-19T19:30:46.356839Z",
     "iopub.status.busy": "2023-11-19T19:30:46.356371Z",
     "iopub.status.idle": "2023-11-19T19:30:46.368944Z",
     "shell.execute_reply": "2023-11-19T19:30:46.367184Z"
    },
    "papermill": {
     "duration": 0.047466,
     "end_time": "2023-11-19T19:30:46.371671",
     "exception": false,
     "start_time": "2023-11-19T19:30:46.324205",
     "status": "completed"
    },
    "tags": []
   },
   "outputs": [
    {
     "name": "stdout",
     "output_type": "stream",
     "text": [
      "Accuracy: 0.7988826815642458\n"
     ]
    }
   ],
   "source": [
    "y_pred = model.predict(test_X)\n",
    "\n",
    "print(f\"Accuracy: {accuracy_score(test_Y, y_pred)}\")"
   ]
  },
  {
   "cell_type": "markdown",
   "id": "0513b241",
   "metadata": {
    "papermill": {
     "duration": 0.038845,
     "end_time": "2023-11-19T19:30:46.441567",
     "exception": false,
     "start_time": "2023-11-19T19:30:46.402722",
     "status": "completed"
    },
    "tags": []
   },
   "source": [
    "# Submitting Model 3"
   ]
  },
  {
   "cell_type": "code",
   "execution_count": 29,
   "id": "0f31d7c5",
   "metadata": {
    "execution": {
     "iopub.execute_input": "2023-11-19T19:30:46.509708Z",
     "iopub.status.busy": "2023-11-19T19:30:46.508826Z",
     "iopub.status.idle": "2023-11-19T19:31:15.541492Z",
     "shell.execute_reply": "2023-11-19T19:31:15.539586Z"
    },
    "papermill": {
     "duration": 29.070749,
     "end_time": "2023-11-19T19:31:15.546673",
     "exception": false,
     "start_time": "2023-11-19T19:30:46.475924",
     "status": "completed"
    },
    "tags": []
   },
   "outputs": [
    {
     "name": "stderr",
     "output_type": "stream",
     "text": [
      "/opt/conda/lib/python3.10/site-packages/sklearn/neural_network/_multilayer_perceptron.py:541: ConvergenceWarning: lbfgs failed to converge (status=1):\n",
      "STOP: TOTAL NO. of ITERATIONS REACHED LIMIT.\n",
      "\n",
      "Increase the number of iterations (max_iter) or scale the data as shown in:\n",
      "    https://scikit-learn.org/stable/modules/preprocessing.html\n",
      "  self.n_iter_ = _check_optimize_result(\"lbfgs\", opt_res, self.max_iter)\n"
     ]
    }
   ],
   "source": [
    "full_X = pd.get_dummies(X_train)\n",
    "\n",
    "full_Y = Y_train\n",
    "\n",
    "#We end up using the WHOLE training dataset (all of train.csv) to fit (train) our model right before submission since this gives our model the most amount of data to train on\n",
    "model.fit(full_X, full_Y)\n",
    "\n",
    "\n",
    "predictions3 = model.predict(test_data)"
   ]
  },
  {
   "cell_type": "code",
   "execution_count": 30,
   "id": "68d5e174",
   "metadata": {
    "execution": {
     "iopub.execute_input": "2023-11-19T19:31:15.659427Z",
     "iopub.status.busy": "2023-11-19T19:31:15.658965Z",
     "iopub.status.idle": "2023-11-19T19:31:15.679135Z",
     "shell.execute_reply": "2023-11-19T19:31:15.677982Z"
    },
    "papermill": {
     "duration": 0.077372,
     "end_time": "2023-11-19T19:31:15.682566",
     "exception": false,
     "start_time": "2023-11-19T19:31:15.605194",
     "status": "completed"
    },
    "tags": []
   },
   "outputs": [
    {
     "name": "stdout",
     "output_type": "stream",
     "text": [
      "Your submission was successfully saved!\n"
     ]
    }
   ],
   "source": [
    "original_test = pd.read_csv(\"/kaggle/input/titanic/test.csv\")\n",
    "\n",
    "pass_id = original_test['PassengerId']\n",
    "\n",
    "# original_test = original_test.drop('PassengerId', axis=1)\n",
    "# original_test = pd.get_dummies(original_test[features])\n",
    "\n",
    "test_data[\"PassengerId\"] = pass_id\n",
    "\n",
    "predictions3 = predictions3.astype(int)\n",
    "\n",
    "#print(predictions3)\n",
    "\n",
    "output = pd.DataFrame({'PassengerId': test_data.PassengerId, 'Survived': predictions3})\n",
    "output.to_csv('submission.csv', index=False)\n",
    "print(\"Your submission was successfully saved!\")\n",
    "\n",
    "test_data = test_data.drop(\"PassengerId\", axis = 1) # WE make sure to drop the PassengerId column since we are continuing to use the test_data variable in future tests and we don't want PassengerId to be apart of it until we submit the model again"
   ]
  },
  {
   "cell_type": "markdown",
   "id": "05c5606e",
   "metadata": {
    "papermill": {
     "duration": 0.027018,
     "end_time": "2023-11-19T19:31:15.738564",
     "exception": false,
     "start_time": "2023-11-19T19:31:15.711546",
     "status": "completed"
    },
    "tags": []
   },
   "source": [
    "# Changing the model solver from \"lbfgs\" to \"adam\""
   ]
  },
  {
   "cell_type": "code",
   "execution_count": 31,
   "id": "830720ff",
   "metadata": {
    "execution": {
     "iopub.execute_input": "2023-11-19T19:31:15.798690Z",
     "iopub.status.busy": "2023-11-19T19:31:15.798180Z",
     "iopub.status.idle": "2023-11-19T19:31:15.805275Z",
     "shell.execute_reply": "2023-11-19T19:31:15.803987Z"
    },
    "papermill": {
     "duration": 0.041828,
     "end_time": "2023-11-19T19:31:15.809361",
     "exception": false,
     "start_time": "2023-11-19T19:31:15.767533",
     "status": "completed"
    },
    "tags": []
   },
   "outputs": [],
   "source": [
    "model = MLPClassifier(activation = \"tanh\", alpha = 0.05, hidden_layer_sizes = (13, 15), learning_rate = \"constant\", solver = \"adam\", max_iter=5000, random_state = 42)\n",
    "# Try changing it back to lbfgs after normalization since maybe it converges faster now after normalization\n",
    "#Also, with normalization, you can increase the learning_rate with less risk of divergence which is good\n"
   ]
  },
  {
   "cell_type": "markdown",
   "id": "a72d0c67",
   "metadata": {
    "papermill": {
     "duration": 0.026884,
     "end_time": "2023-11-19T19:31:15.863940",
     "exception": false,
     "start_time": "2023-11-19T19:31:15.837056",
     "status": "completed"
    },
    "tags": []
   },
   "source": [
    "**I made this change because it said that lbfgs was not converging so I tried changing to a differnet solver and adam seemed to converge. But also, I am going to normalize my data which should make the training of my data converge faster. So, I might also go back to lbfgs to see if it converges now**"
   ]
  },
  {
   "cell_type": "markdown",
   "id": "50940563",
   "metadata": {
    "papermill": {
     "duration": 0.027471,
     "end_time": "2023-11-19T19:31:15.919216",
     "exception": false,
     "start_time": "2023-11-19T19:31:15.891745",
     "status": "completed"
    },
    "tags": []
   },
   "source": [
    "# Normalizing all the data"
   ]
  },
  {
   "cell_type": "markdown",
   "id": "5f1e9761",
   "metadata": {
    "papermill": {
     "duration": 0.027535,
     "end_time": "2023-11-19T19:31:15.976108",
     "exception": false,
     "start_time": "2023-11-19T19:31:15.948573",
     "status": "completed"
    },
    "tags": []
   },
   "source": [
    "**Creating the Normalizing Scaler**"
   ]
  },
  {
   "cell_type": "code",
   "execution_count": 32,
   "id": "ac31558c",
   "metadata": {
    "execution": {
     "iopub.execute_input": "2023-11-19T19:31:16.034800Z",
     "iopub.status.busy": "2023-11-19T19:31:16.034267Z",
     "iopub.status.idle": "2023-11-19T19:31:16.056577Z",
     "shell.execute_reply": "2023-11-19T19:31:16.054840Z"
    },
    "papermill": {
     "duration": 0.05509,
     "end_time": "2023-11-19T19:31:16.059601",
     "exception": false,
     "start_time": "2023-11-19T19:31:16.004511",
     "status": "completed"
    },
    "tags": []
   },
   "outputs": [
    {
     "name": "stdout",
     "output_type": "stream",
     "text": [
      "     Pclass      Fare   Age  SibSp  Parch  Sex_female  Sex_male\n",
      "570     2.0   10.5000  62.0    0.0    0.0       False      True\n",
      "787     3.0   29.1250   8.0    4.0    1.0       False      True\n",
      "74      3.0   56.4958  32.0    0.0    0.0       False      True\n",
      "113     3.0    9.8250  20.0    1.0    0.0        True     False\n",
      "635     2.0   13.0000  28.0    0.0    0.0        True     False\n",
      "..      ...       ...   ...    ...    ...         ...       ...\n",
      "106     3.0    7.6500  21.0    0.0    0.0        True     False\n",
      "270     1.0   31.0000  48.4    0.0    0.0       False      True\n",
      "860     3.0   14.1083  41.0    2.0    0.0       False      True\n",
      "435     1.0  120.0000  14.0    1.0    2.0        True     False\n",
      "102     1.0   77.2875  21.0    0.0    1.0       False      True\n",
      "\n",
      "[534 rows x 7 columns]\n"
     ]
    }
   ],
   "source": [
    "from sklearn.preprocessing import MinMaxScaler\n",
    "\n",
    "# Initialize the MinMaxScaler\n",
    "scaler = MinMaxScaler()\n",
    "\n",
    "# Select columns you want to normalize\n",
    "columns_to_normalize = [\"Pclass\", \"Fare\",\"Age\", \"SibSp\"]\n",
    "\n",
    "scaler.fit(train_X[columns_to_normalize]) #it is important to fit the scaler on the training data (from the train-validation-test split) only\n",
    "\n",
    "print(train_X)"
   ]
  },
  {
   "cell_type": "markdown",
   "id": "915f31eb",
   "metadata": {
    "papermill": {
     "duration": 0.028174,
     "end_time": "2023-11-19T19:31:16.118025",
     "exception": false,
     "start_time": "2023-11-19T19:31:16.089851",
     "status": "completed"
    },
    "tags": []
   },
   "source": [
    "**It is very important to only fit the scaler on the training data from the train-validation-test split and not the training data from the whole train.csv since the whole training data includes data from the validation and test split and fitting on that will cause the testing (using validation and test) of the model to be overly optimistic. This is called data leakage.**\n",
    "\n",
    "**Also, it's important that we do not fit the scaler multiple times since that would cause inconsistant fitting throughout the data. It should only be fitted once and then applied to all the different datasets.**\n",
    "\n",
    "**However,before I submit Model 4, I should re-fit the normalization scaler on the entire training data since I will be running my model on the entire training data**"
   ]
  },
  {
   "cell_type": "markdown",
   "id": "d526e156",
   "metadata": {
    "papermill": {
     "duration": 0.028164,
     "end_time": "2023-11-19T19:31:16.174259",
     "exception": false,
     "start_time": "2023-11-19T19:31:16.146095",
     "status": "completed"
    },
    "tags": []
   },
   "source": [
    "**Normalizing the test data (the one from test.csv)**"
   ]
  },
  {
   "cell_type": "code",
   "execution_count": 33,
   "id": "544f074e",
   "metadata": {
    "execution": {
     "iopub.execute_input": "2023-11-19T19:31:16.232369Z",
     "iopub.status.busy": "2023-11-19T19:31:16.231675Z",
     "iopub.status.idle": "2023-11-19T19:31:16.267842Z",
     "shell.execute_reply": "2023-11-19T19:31:16.266414Z"
    },
    "papermill": {
     "duration": 0.068989,
     "end_time": "2023-11-19T19:31:16.271075",
     "exception": false,
     "start_time": "2023-11-19T19:31:16.202086",
     "status": "completed"
    },
    "tags": []
   },
   "outputs": [
    {
     "name": "stdout",
     "output_type": "stream",
     "text": [
      "     Pclass      Fare        Age  SibSp  Parch  Sex_female  Sex_male\n",
      "0       3.0    7.8292  34.500000    0.0    0.0       False      True\n",
      "1       3.0    7.0000  47.000000    1.0    0.0        True     False\n",
      "2       2.0    9.6875  62.000000    0.0    0.0       False      True\n",
      "3       3.0    8.6625  27.000000    0.0    0.0       False      True\n",
      "4       3.0   12.2875  22.000000    1.0    1.0        True     False\n",
      "..      ...       ...        ...    ...    ...         ...       ...\n",
      "413     3.0    8.0500  26.641385    0.0    0.0       False      True\n",
      "414     1.0  108.9000  39.000000    0.0    0.0        True     False\n",
      "415     3.0    7.2500  38.500000    0.0    0.0       False      True\n",
      "416     3.0    8.0500  26.641385    0.0    0.0       False      True\n",
      "417     3.0   22.3583  25.100000    1.0    1.0       False      True\n",
      "\n",
      "[418 rows x 7 columns]\n",
      "     Pclass      Fare       Age  SibSp  Parch  Sex_female  Sex_male\n",
      "0       1.0  0.015282  0.428248  0.000    0.0       False      True\n",
      "1       1.0  0.013663  0.585323  0.125    0.0        True     False\n",
      "2       0.5  0.018909  0.773813  0.000    0.0       False      True\n",
      "3       1.0  0.016908  0.334004  0.000    0.0       False      True\n",
      "4       1.0  0.023984  0.271174  0.125    1.0        True     False\n",
      "..      ...       ...       ...    ...    ...         ...       ...\n",
      "413     1.0  0.015713  0.329497  0.000    0.0       False      True\n",
      "414     0.0  0.212559  0.484795  0.000    0.0        True     False\n",
      "415     1.0  0.014151  0.478512  0.000    0.0       False      True\n",
      "416     1.0  0.015713  0.329497  0.000    0.0       False      True\n",
      "417     1.0  0.043640  0.310128  0.125    1.0       False      True\n",
      "\n",
      "[418 rows x 7 columns]\n"
     ]
    }
   ],
   "source": [
    "test_data = test_data #the \"test_data\" variable here is after we cleaned up the test_data \n",
    "\n",
    "print(test_data)\n",
    "\n",
    "# Fit the scaler on the data and then transform it\n",
    "test_data[columns_to_normalize] = scaler.transform(test_data[columns_to_normalize])\n",
    "\n",
    "print(test_data)"
   ]
  },
  {
   "cell_type": "markdown",
   "id": "33a8bfca",
   "metadata": {
    "papermill": {
     "duration": 0.028372,
     "end_time": "2023-11-19T19:31:16.328803",
     "exception": false,
     "start_time": "2023-11-19T19:31:16.300431",
     "status": "completed"
    },
    "tags": []
   },
   "source": [
    "**Normalizing the train, validation, and test data**"
   ]
  },
  {
   "cell_type": "code",
   "execution_count": 34,
   "id": "d52199a9",
   "metadata": {
    "execution": {
     "iopub.execute_input": "2023-11-19T19:31:16.390438Z",
     "iopub.status.busy": "2023-11-19T19:31:16.389762Z",
     "iopub.status.idle": "2023-11-19T19:31:16.440050Z",
     "shell.execute_reply": "2023-11-19T19:31:16.438624Z"
    },
    "papermill": {
     "duration": 0.088461,
     "end_time": "2023-11-19T19:31:16.444933",
     "exception": false,
     "start_time": "2023-11-19T19:31:16.356472",
     "status": "completed"
    },
    "tags": []
   },
   "outputs": [
    {
     "name": "stdout",
     "output_type": "stream",
     "text": [
      "     Pclass      Fare       Age  SibSp  Parch  Sex_female  Sex_male\n",
      "570     0.5  0.020495  0.773813  0.000    0.0       False      True\n",
      "787     1.0  0.056848  0.095250  0.500    1.0       False      True\n",
      "74      1.0  0.110272  0.396833  0.000    0.0       False      True\n",
      "113     1.0  0.019177  0.246042  0.125    0.0        True     False\n",
      "635     0.5  0.025374  0.346569  0.000    0.0        True     False\n",
      "     Pclass      Fare       Age  SibSp  Parch  Sex_female  Sex_male\n",
      "849     0.0  0.173920  0.404373  0.125    0.0        True     False\n",
      "331     0.0  0.055628  0.566474  0.000    0.0       False      True\n",
      "260     1.0  0.015127  0.533758  0.000    0.0       False      True\n",
      "316     0.5  0.050749  0.296306  0.125    0.0        True     False\n",
      "292     0.5  0.025130  0.447097  0.000    0.0       False      True\n",
      "     Pclass      Fare       Age  SibSp  Parch  Sex_female  Sex_male\n",
      "424     1.0  0.039452  0.220910  0.125    1.0       False      True\n",
      "837     1.0  0.015713  0.377686  0.000    0.0       False      True\n",
      "525     1.0  0.015127  0.503644  0.000    0.0       False      True\n",
      "328     1.0  0.040062  0.384267  0.125    1.0        True     False\n",
      "70      0.5  0.020495  0.396833  0.000    0.0       False      True\n"
     ]
    }
   ],
   "source": [
    "train_X[columns_to_normalize] = scaler.transform(train_X[columns_to_normalize])\n",
    "print(train_X.head())\n",
    "\n",
    "valid_X[columns_to_normalize] = scaler.transform(valid_X[columns_to_normalize])\n",
    "print(valid_X.head())\n",
    "\n",
    "test_X[columns_to_normalize] = scaler.transform(test_X[columns_to_normalize])\n",
    "print(test_X.head())"
   ]
  },
  {
   "cell_type": "markdown",
   "id": "5bec4bac",
   "metadata": {
    "papermill": {
     "duration": 0.027795,
     "end_time": "2023-11-19T19:31:16.511855",
     "exception": false,
     "start_time": "2023-11-19T19:31:16.484060",
     "status": "completed"
    },
    "tags": []
   },
   "source": [
    "# Putting more weight onto specific features (like Gender and Age)"
   ]
  },
  {
   "cell_type": "markdown",
   "id": "ee3c298d",
   "metadata": {
    "papermill": {
     "duration": 0.027042,
     "end_time": "2023-11-19T19:31:16.566725",
     "exception": false,
     "start_time": "2023-11-19T19:31:16.539683",
     "status": "completed"
    },
    "tags": []
   },
   "source": [
    "**We know from history that Women and Children were more likely to survive so it makes more sense to put more weight into those features. In other words, we should penalize a person more if they are not a Women or Child and therefore make it less likely for them to survive**"
   ]
  },
  {
   "cell_type": "markdown",
   "id": "a5f8910e",
   "metadata": {
    "papermill": {
     "duration": 0.027473,
     "end_time": "2023-11-19T19:31:16.621685",
     "exception": false,
     "start_time": "2023-11-19T19:31:16.594212",
     "status": "completed"
    },
    "tags": []
   },
   "source": [
    "# Before I submit Model 4, I should re-fit the normalization scaler on the entire training data since I will be running my model on the entire training data\n"
   ]
  },
  {
   "cell_type": "markdown",
   "id": "93ae83d3",
   "metadata": {
    "papermill": {
     "duration": 0.027214,
     "end_time": "2023-11-19T19:31:16.676475",
     "exception": false,
     "start_time": "2023-11-19T19:31:16.649261",
     "status": "completed"
    },
    "tags": []
   },
   "source": [
    "**Make sure to re-fit the normalization scaler on the entire training data since I will be running my model on the entire training data**"
   ]
  }
 ],
 "metadata": {
  "kaggle": {
   "accelerator": "none",
   "dataSources": [
    {
     "databundleVersionId": 26502,
     "sourceId": 3136,
     "sourceType": "competition"
    }
   ],
   "dockerImageVersionId": 30579,
   "isGpuEnabled": false,
   "isInternetEnabled": true,
   "language": "python",
   "sourceType": "notebook"
  },
  "kernelspec": {
   "display_name": "Python 3",
   "language": "python",
   "name": "python3"
  },
  "language_info": {
   "codemirror_mode": {
    "name": "ipython",
    "version": 3
   },
   "file_extension": ".py",
   "mimetype": "text/x-python",
   "name": "python",
   "nbconvert_exporter": "python",
   "pygments_lexer": "ipython3",
   "version": "3.10.12"
  },
  "papermill": {
   "default_parameters": {},
   "duration": 98.824329,
   "end_time": "2023-11-19T19:31:17.732743",
   "environment_variables": {},
   "exception": null,
   "input_path": "__notebook__.ipynb",
   "output_path": "__notebook__.ipynb",
   "parameters": {},
   "start_time": "2023-11-19T19:29:38.908414",
   "version": "2.4.0"
  }
 },
 "nbformat": 4,
 "nbformat_minor": 5
}
