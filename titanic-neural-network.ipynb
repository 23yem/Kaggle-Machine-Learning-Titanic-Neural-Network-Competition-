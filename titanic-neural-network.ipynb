{
 "cells": [
  {
   "cell_type": "code",
   "execution_count": 1,
   "id": "fc7ac6c2",
   "metadata": {
    "_cell_guid": "b1076dfc-b9ad-4769-8c92-a6c4dae69d19",
    "_uuid": "8f2839f25d086af736a60e9eeb907d3b93b6e0e5",
    "execution": {
     "iopub.execute_input": "2023-11-20T03:49:27.763636Z",
     "iopub.status.busy": "2023-11-20T03:49:27.762878Z",
     "iopub.status.idle": "2023-11-20T03:49:28.718324Z",
     "shell.execute_reply": "2023-11-20T03:49:28.716999Z"
    },
    "papermill": {
     "duration": 0.985974,
     "end_time": "2023-11-20T03:49:28.721160",
     "exception": false,
     "start_time": "2023-11-20T03:49:27.735186",
     "status": "completed"
    },
    "tags": []
   },
   "outputs": [
    {
     "name": "stdout",
     "output_type": "stream",
     "text": [
      "/kaggle/input/titanic/train.csv\n",
      "/kaggle/input/titanic/test.csv\n",
      "/kaggle/input/titanic/gender_submission.csv\n"
     ]
    }
   ],
   "source": [
    "# This Python 3 environment comes with many helpful analytics libraries installed\n",
    "# It is defined by the kaggle/python Docker image: https://github.com/kaggle/docker-python\n",
    "# For example, here's several helpful packages to load\n",
    "\n",
    "import numpy as np # linear algebra\n",
    "import pandas as pd # data processing, CSV file I/O (e.g. pd.read_csv)\n",
    "\n",
    "# Input data files are available in the read-only \"../input/\" directory\n",
    "# For example, running this (by clicking run or pressing Shift+Enter) will list all files under the input directory\n",
    "\n",
    "import os\n",
    "for dirname, _, filenames in os.walk('/kaggle/input'):\n",
    "    for filename in filenames:\n",
    "        print(os.path.join(dirname, filename))\n",
    "\n",
    "# You can write up to 20GB to the current directory (/kaggle/working/) that gets preserved as output when you create a version using \"Save & Run All\" \n",
    "# You can also write temporary files to /kaggle/temp/, but they won't be saved outside of the current session"
   ]
  },
  {
   "cell_type": "markdown",
   "id": "f6df350e",
   "metadata": {
    "papermill": {
     "duration": 0.025108,
     "end_time": "2023-11-20T03:49:28.772896",
     "exception": false,
     "start_time": "2023-11-20T03:49:28.747788",
     "status": "completed"
    },
    "tags": []
   },
   "source": [
    "# **Load the Data from the Database**"
   ]
  },
  {
   "cell_type": "code",
   "execution_count": 2,
   "id": "4bc73707",
   "metadata": {
    "execution": {
     "iopub.execute_input": "2023-11-20T03:49:28.826941Z",
     "iopub.status.busy": "2023-11-20T03:49:28.826367Z",
     "iopub.status.idle": "2023-11-20T03:49:28.878886Z",
     "shell.execute_reply": "2023-11-20T03:49:28.877599Z"
    },
    "papermill": {
     "duration": 0.082905,
     "end_time": "2023-11-20T03:49:28.881919",
     "exception": false,
     "start_time": "2023-11-20T03:49:28.799014",
     "status": "completed"
    },
    "tags": []
   },
   "outputs": [
    {
     "data": {
      "text/html": [
       "<div>\n",
       "<style scoped>\n",
       "    .dataframe tbody tr th:only-of-type {\n",
       "        vertical-align: middle;\n",
       "    }\n",
       "\n",
       "    .dataframe tbody tr th {\n",
       "        vertical-align: top;\n",
       "    }\n",
       "\n",
       "    .dataframe thead th {\n",
       "        text-align: right;\n",
       "    }\n",
       "</style>\n",
       "<table border=\"1\" class=\"dataframe\">\n",
       "  <thead>\n",
       "    <tr style=\"text-align: right;\">\n",
       "      <th></th>\n",
       "      <th>PassengerId</th>\n",
       "      <th>Survived</th>\n",
       "      <th>Pclass</th>\n",
       "      <th>Name</th>\n",
       "      <th>Sex</th>\n",
       "      <th>Age</th>\n",
       "      <th>SibSp</th>\n",
       "      <th>Parch</th>\n",
       "      <th>Ticket</th>\n",
       "      <th>Fare</th>\n",
       "      <th>Cabin</th>\n",
       "      <th>Embarked</th>\n",
       "    </tr>\n",
       "  </thead>\n",
       "  <tbody>\n",
       "    <tr>\n",
       "      <th>0</th>\n",
       "      <td>1</td>\n",
       "      <td>0</td>\n",
       "      <td>3</td>\n",
       "      <td>Braund, Mr. Owen Harris</td>\n",
       "      <td>male</td>\n",
       "      <td>22.0</td>\n",
       "      <td>1</td>\n",
       "      <td>0</td>\n",
       "      <td>A/5 21171</td>\n",
       "      <td>7.2500</td>\n",
       "      <td>NaN</td>\n",
       "      <td>S</td>\n",
       "    </tr>\n",
       "    <tr>\n",
       "      <th>1</th>\n",
       "      <td>2</td>\n",
       "      <td>1</td>\n",
       "      <td>1</td>\n",
       "      <td>Cumings, Mrs. John Bradley (Florence Briggs Th...</td>\n",
       "      <td>female</td>\n",
       "      <td>38.0</td>\n",
       "      <td>1</td>\n",
       "      <td>0</td>\n",
       "      <td>PC 17599</td>\n",
       "      <td>71.2833</td>\n",
       "      <td>C85</td>\n",
       "      <td>C</td>\n",
       "    </tr>\n",
       "    <tr>\n",
       "      <th>2</th>\n",
       "      <td>3</td>\n",
       "      <td>1</td>\n",
       "      <td>3</td>\n",
       "      <td>Heikkinen, Miss. Laina</td>\n",
       "      <td>female</td>\n",
       "      <td>26.0</td>\n",
       "      <td>0</td>\n",
       "      <td>0</td>\n",
       "      <td>STON/O2. 3101282</td>\n",
       "      <td>7.9250</td>\n",
       "      <td>NaN</td>\n",
       "      <td>S</td>\n",
       "    </tr>\n",
       "    <tr>\n",
       "      <th>3</th>\n",
       "      <td>4</td>\n",
       "      <td>1</td>\n",
       "      <td>1</td>\n",
       "      <td>Futrelle, Mrs. Jacques Heath (Lily May Peel)</td>\n",
       "      <td>female</td>\n",
       "      <td>35.0</td>\n",
       "      <td>1</td>\n",
       "      <td>0</td>\n",
       "      <td>113803</td>\n",
       "      <td>53.1000</td>\n",
       "      <td>C123</td>\n",
       "      <td>S</td>\n",
       "    </tr>\n",
       "    <tr>\n",
       "      <th>4</th>\n",
       "      <td>5</td>\n",
       "      <td>0</td>\n",
       "      <td>3</td>\n",
       "      <td>Allen, Mr. William Henry</td>\n",
       "      <td>male</td>\n",
       "      <td>35.0</td>\n",
       "      <td>0</td>\n",
       "      <td>0</td>\n",
       "      <td>373450</td>\n",
       "      <td>8.0500</td>\n",
       "      <td>NaN</td>\n",
       "      <td>S</td>\n",
       "    </tr>\n",
       "  </tbody>\n",
       "</table>\n",
       "</div>"
      ],
      "text/plain": [
       "   PassengerId  Survived  Pclass  \\\n",
       "0            1         0       3   \n",
       "1            2         1       1   \n",
       "2            3         1       3   \n",
       "3            4         1       1   \n",
       "4            5         0       3   \n",
       "\n",
       "                                                Name     Sex   Age  SibSp  \\\n",
       "0                            Braund, Mr. Owen Harris    male  22.0      1   \n",
       "1  Cumings, Mrs. John Bradley (Florence Briggs Th...  female  38.0      1   \n",
       "2                             Heikkinen, Miss. Laina  female  26.0      0   \n",
       "3       Futrelle, Mrs. Jacques Heath (Lily May Peel)  female  35.0      1   \n",
       "4                           Allen, Mr. William Henry    male  35.0      0   \n",
       "\n",
       "   Parch            Ticket     Fare Cabin Embarked  \n",
       "0      0         A/5 21171   7.2500   NaN        S  \n",
       "1      0          PC 17599  71.2833   C85        C  \n",
       "2      0  STON/O2. 3101282   7.9250   NaN        S  \n",
       "3      0            113803  53.1000  C123        S  \n",
       "4      0            373450   8.0500   NaN        S  "
      ]
     },
     "execution_count": 2,
     "metadata": {},
     "output_type": "execute_result"
    }
   ],
   "source": [
    "#Remember to eventually clean up the wrong or missing values\n",
    "train_data = pd.read_csv(\"/kaggle/input/titanic/train.csv\")\n",
    "\n",
    "train_data.head()"
   ]
  },
  {
   "cell_type": "code",
   "execution_count": 3,
   "id": "2bae12ed",
   "metadata": {
    "execution": {
     "iopub.execute_input": "2023-11-20T03:49:28.936815Z",
     "iopub.status.busy": "2023-11-20T03:49:28.936154Z",
     "iopub.status.idle": "2023-11-20T03:49:28.960954Z",
     "shell.execute_reply": "2023-11-20T03:49:28.959836Z"
    },
    "papermill": {
     "duration": 0.054925,
     "end_time": "2023-11-20T03:49:28.963788",
     "exception": false,
     "start_time": "2023-11-20T03:49:28.908863",
     "status": "completed"
    },
    "tags": []
   },
   "outputs": [
    {
     "data": {
      "text/html": [
       "<div>\n",
       "<style scoped>\n",
       "    .dataframe tbody tr th:only-of-type {\n",
       "        vertical-align: middle;\n",
       "    }\n",
       "\n",
       "    .dataframe tbody tr th {\n",
       "        vertical-align: top;\n",
       "    }\n",
       "\n",
       "    .dataframe thead th {\n",
       "        text-align: right;\n",
       "    }\n",
       "</style>\n",
       "<table border=\"1\" class=\"dataframe\">\n",
       "  <thead>\n",
       "    <tr style=\"text-align: right;\">\n",
       "      <th></th>\n",
       "      <th>PassengerId</th>\n",
       "      <th>Pclass</th>\n",
       "      <th>Name</th>\n",
       "      <th>Sex</th>\n",
       "      <th>Age</th>\n",
       "      <th>SibSp</th>\n",
       "      <th>Parch</th>\n",
       "      <th>Ticket</th>\n",
       "      <th>Fare</th>\n",
       "      <th>Cabin</th>\n",
       "      <th>Embarked</th>\n",
       "    </tr>\n",
       "  </thead>\n",
       "  <tbody>\n",
       "    <tr>\n",
       "      <th>0</th>\n",
       "      <td>892</td>\n",
       "      <td>3</td>\n",
       "      <td>Kelly, Mr. James</td>\n",
       "      <td>male</td>\n",
       "      <td>34.5</td>\n",
       "      <td>0</td>\n",
       "      <td>0</td>\n",
       "      <td>330911</td>\n",
       "      <td>7.8292</td>\n",
       "      <td>NaN</td>\n",
       "      <td>Q</td>\n",
       "    </tr>\n",
       "    <tr>\n",
       "      <th>1</th>\n",
       "      <td>893</td>\n",
       "      <td>3</td>\n",
       "      <td>Wilkes, Mrs. James (Ellen Needs)</td>\n",
       "      <td>female</td>\n",
       "      <td>47.0</td>\n",
       "      <td>1</td>\n",
       "      <td>0</td>\n",
       "      <td>363272</td>\n",
       "      <td>7.0000</td>\n",
       "      <td>NaN</td>\n",
       "      <td>S</td>\n",
       "    </tr>\n",
       "    <tr>\n",
       "      <th>2</th>\n",
       "      <td>894</td>\n",
       "      <td>2</td>\n",
       "      <td>Myles, Mr. Thomas Francis</td>\n",
       "      <td>male</td>\n",
       "      <td>62.0</td>\n",
       "      <td>0</td>\n",
       "      <td>0</td>\n",
       "      <td>240276</td>\n",
       "      <td>9.6875</td>\n",
       "      <td>NaN</td>\n",
       "      <td>Q</td>\n",
       "    </tr>\n",
       "    <tr>\n",
       "      <th>3</th>\n",
       "      <td>895</td>\n",
       "      <td>3</td>\n",
       "      <td>Wirz, Mr. Albert</td>\n",
       "      <td>male</td>\n",
       "      <td>27.0</td>\n",
       "      <td>0</td>\n",
       "      <td>0</td>\n",
       "      <td>315154</td>\n",
       "      <td>8.6625</td>\n",
       "      <td>NaN</td>\n",
       "      <td>S</td>\n",
       "    </tr>\n",
       "    <tr>\n",
       "      <th>4</th>\n",
       "      <td>896</td>\n",
       "      <td>3</td>\n",
       "      <td>Hirvonen, Mrs. Alexander (Helga E Lindqvist)</td>\n",
       "      <td>female</td>\n",
       "      <td>22.0</td>\n",
       "      <td>1</td>\n",
       "      <td>1</td>\n",
       "      <td>3101298</td>\n",
       "      <td>12.2875</td>\n",
       "      <td>NaN</td>\n",
       "      <td>S</td>\n",
       "    </tr>\n",
       "  </tbody>\n",
       "</table>\n",
       "</div>"
      ],
      "text/plain": [
       "   PassengerId  Pclass                                          Name     Sex  \\\n",
       "0          892       3                              Kelly, Mr. James    male   \n",
       "1          893       3              Wilkes, Mrs. James (Ellen Needs)  female   \n",
       "2          894       2                     Myles, Mr. Thomas Francis    male   \n",
       "3          895       3                              Wirz, Mr. Albert    male   \n",
       "4          896       3  Hirvonen, Mrs. Alexander (Helga E Lindqvist)  female   \n",
       "\n",
       "    Age  SibSp  Parch   Ticket     Fare Cabin Embarked  \n",
       "0  34.5      0      0   330911   7.8292   NaN        Q  \n",
       "1  47.0      1      0   363272   7.0000   NaN        S  \n",
       "2  62.0      0      0   240276   9.6875   NaN        Q  \n",
       "3  27.0      0      0   315154   8.6625   NaN        S  \n",
       "4  22.0      1      1  3101298  12.2875   NaN        S  "
      ]
     },
     "execution_count": 3,
     "metadata": {},
     "output_type": "execute_result"
    }
   ],
   "source": [
    "#Remember to eventually clean up the wrong or missing values\n",
    "test_data = pd.read_csv(\"/kaggle/input/titanic/test.csv\")\n",
    "\n",
    "test_data.head()"
   ]
  },
  {
   "cell_type": "code",
   "execution_count": 4,
   "id": "f6a96240",
   "metadata": {
    "execution": {
     "iopub.execute_input": "2023-11-20T03:49:29.019679Z",
     "iopub.status.busy": "2023-11-20T03:49:29.019246Z",
     "iopub.status.idle": "2023-11-20T03:49:29.026431Z",
     "shell.execute_reply": "2023-11-20T03:49:29.025024Z"
    },
    "papermill": {
     "duration": 0.038025,
     "end_time": "2023-11-20T03:49:29.028840",
     "exception": false,
     "start_time": "2023-11-20T03:49:28.990815",
     "status": "completed"
    },
    "tags": []
   },
   "outputs": [
    {
     "name": "stdout",
     "output_type": "stream",
     "text": [
      "Index(['PassengerId', 'Survived', 'Pclass', 'Name', 'Sex', 'Age', 'SibSp',\n",
      "       'Parch', 'Ticket', 'Fare', 'Cabin', 'Embarked'],\n",
      "      dtype='object')\n",
      "(891, 12)\n"
     ]
    }
   ],
   "source": [
    "print(train_data.columns)\n",
    "print(train_data.shape)"
   ]
  },
  {
   "cell_type": "markdown",
   "id": "61f356c6",
   "metadata": {
    "papermill": {
     "duration": 0.106688,
     "end_time": "2023-11-20T03:49:29.164246",
     "exception": false,
     "start_time": "2023-11-20T03:49:29.057558",
     "status": "completed"
    },
    "tags": []
   },
   "source": [
    "# Choosing features #\n"
   ]
  },
  {
   "cell_type": "code",
   "execution_count": 5,
   "id": "b1bbfa64",
   "metadata": {
    "execution": {
     "iopub.execute_input": "2023-11-20T03:49:29.218922Z",
     "iopub.status.busy": "2023-11-20T03:49:29.218530Z",
     "iopub.status.idle": "2023-11-20T03:49:29.257550Z",
     "shell.execute_reply": "2023-11-20T03:49:29.256702Z"
    },
    "papermill": {
     "duration": 0.07037,
     "end_time": "2023-11-20T03:49:29.260891",
     "exception": false,
     "start_time": "2023-11-20T03:49:29.190521",
     "status": "completed"
    },
    "tags": []
   },
   "outputs": [
    {
     "data": {
      "text/html": [
       "<div>\n",
       "<style scoped>\n",
       "    .dataframe tbody tr th:only-of-type {\n",
       "        vertical-align: middle;\n",
       "    }\n",
       "\n",
       "    .dataframe tbody tr th {\n",
       "        vertical-align: top;\n",
       "    }\n",
       "\n",
       "    .dataframe thead th {\n",
       "        text-align: right;\n",
       "    }\n",
       "</style>\n",
       "<table border=\"1\" class=\"dataframe\">\n",
       "  <thead>\n",
       "    <tr style=\"text-align: right;\">\n",
       "      <th></th>\n",
       "      <th>Pclass</th>\n",
       "      <th>Fare</th>\n",
       "      <th>Sex_female</th>\n",
       "      <th>Sex_male</th>\n",
       "    </tr>\n",
       "  </thead>\n",
       "  <tbody>\n",
       "    <tr>\n",
       "      <th>0</th>\n",
       "      <td>3</td>\n",
       "      <td>7.2500</td>\n",
       "      <td>False</td>\n",
       "      <td>True</td>\n",
       "    </tr>\n",
       "    <tr>\n",
       "      <th>1</th>\n",
       "      <td>1</td>\n",
       "      <td>71.2833</td>\n",
       "      <td>True</td>\n",
       "      <td>False</td>\n",
       "    </tr>\n",
       "    <tr>\n",
       "      <th>2</th>\n",
       "      <td>3</td>\n",
       "      <td>7.9250</td>\n",
       "      <td>True</td>\n",
       "      <td>False</td>\n",
       "    </tr>\n",
       "    <tr>\n",
       "      <th>3</th>\n",
       "      <td>1</td>\n",
       "      <td>53.1000</td>\n",
       "      <td>True</td>\n",
       "      <td>False</td>\n",
       "    </tr>\n",
       "    <tr>\n",
       "      <th>4</th>\n",
       "      <td>3</td>\n",
       "      <td>8.0500</td>\n",
       "      <td>False</td>\n",
       "      <td>True</td>\n",
       "    </tr>\n",
       "  </tbody>\n",
       "</table>\n",
       "</div>"
      ],
      "text/plain": [
       "   Pclass     Fare  Sex_female  Sex_male\n",
       "0       3   7.2500       False      True\n",
       "1       1  71.2833        True     False\n",
       "2       3   7.9250        True     False\n",
       "3       1  53.1000        True     False\n",
       "4       3   8.0500       False      True"
      ]
     },
     "execution_count": 5,
     "metadata": {},
     "output_type": "execute_result"
    }
   ],
   "source": [
    "features = [\"Pclass\", \"Sex\", \"Fare\"]\n",
    "\n",
    "X_train = pd.get_dummies(train_data[features])\n",
    "\n",
    "X_train.head()\n",
    "#print(X_train.shape)"
   ]
  },
  {
   "cell_type": "markdown",
   "id": "014fff5f",
   "metadata": {
    "papermill": {
     "duration": 0.026104,
     "end_time": "2023-11-20T03:49:29.317466",
     "exception": false,
     "start_time": "2023-11-20T03:49:29.291362",
     "status": "completed"
    },
    "tags": []
   },
   "source": []
  },
  {
   "cell_type": "markdown",
   "id": "7637dcbb",
   "metadata": {
    "papermill": {
     "duration": 0.026503,
     "end_time": "2023-11-20T03:49:29.372598",
     "exception": false,
     "start_time": "2023-11-20T03:49:29.346095",
     "status": "completed"
    },
    "tags": []
   },
   "source": [
    "# Set the target/label (y) values\n"
   ]
  },
  {
   "cell_type": "code",
   "execution_count": 6,
   "id": "dfcb5d0e",
   "metadata": {
    "execution": {
     "iopub.execute_input": "2023-11-20T03:49:29.432293Z",
     "iopub.status.busy": "2023-11-20T03:49:29.431811Z",
     "iopub.status.idle": "2023-11-20T03:49:29.440773Z",
     "shell.execute_reply": "2023-11-20T03:49:29.439558Z"
    },
    "papermill": {
     "duration": 0.040641,
     "end_time": "2023-11-20T03:49:29.443737",
     "exception": false,
     "start_time": "2023-11-20T03:49:29.403096",
     "status": "completed"
    },
    "tags": []
   },
   "outputs": [
    {
     "data": {
      "text/plain": [
       "0    0\n",
       "1    1\n",
       "2    1\n",
       "3    1\n",
       "4    0\n",
       "Name: Survived, dtype: int64"
      ]
     },
     "execution_count": 6,
     "metadata": {},
     "output_type": "execute_result"
    }
   ],
   "source": [
    "#Y_train = pd.get_dummies(train_data[\"Survived\"])\n",
    "Y_train = train_data[\"Survived\"]\n",
    "\n",
    "Y_train.head()\n"
   ]
  },
  {
   "cell_type": "markdown",
   "id": "69ed3c56",
   "metadata": {
    "papermill": {
     "duration": 0.03504,
     "end_time": "2023-11-20T03:49:29.505663",
     "exception": false,
     "start_time": "2023-11-20T03:49:29.470623",
     "status": "completed"
    },
    "tags": []
   },
   "source": []
  },
  {
   "cell_type": "markdown",
   "id": "d688afdf",
   "metadata": {
    "papermill": {
     "duration": 0.026166,
     "end_time": "2023-11-20T03:49:29.561156",
     "exception": false,
     "start_time": "2023-11-20T03:49:29.534990",
     "status": "completed"
    },
    "tags": []
   },
   "source": [
    "# Split up train data into Train-test using scikit-learn"
   ]
  },
  {
   "cell_type": "code",
   "execution_count": 7,
   "id": "11931b70",
   "metadata": {
    "execution": {
     "iopub.execute_input": "2023-11-20T03:49:29.616737Z",
     "iopub.status.busy": "2023-11-20T03:49:29.616223Z",
     "iopub.status.idle": "2023-11-20T03:49:31.026149Z",
     "shell.execute_reply": "2023-11-20T03:49:31.024594Z"
    },
    "papermill": {
     "duration": 1.441506,
     "end_time": "2023-11-20T03:49:31.029648",
     "exception": false,
     "start_time": "2023-11-20T03:49:29.588142",
     "status": "completed"
    },
    "tags": []
   },
   "outputs": [
    {
     "name": "stdout",
     "output_type": "stream",
     "text": [
      "445    1\n",
      "650    0\n",
      "172    1\n",
      "450    0\n",
      "314    0\n",
      "Name: Survived, dtype: int64\n",
      "709    1\n",
      "439    0\n",
      "840    0\n",
      "720    1\n",
      "39     1\n",
      "Name: Survived, dtype: int64\n"
     ]
    }
   ],
   "source": [
    "from sklearn.model_selection import train_test_split\n",
    "\n",
    "#Split data into a train/validation and test set\n",
    "X_train, X_test, Y_train, Y_test = train_test_split(X_train, Y_train, test_size = 0.3, random_state = 42)\n",
    "\n",
    "#print(X_train.head())\n",
    "#print(Y_train.head())\n",
    "print(Y_train.head())\n",
    "\n",
    "print(Y_test.head())\n"
   ]
  },
  {
   "cell_type": "markdown",
   "id": "5f7bfd77",
   "metadata": {
    "papermill": {
     "duration": 0.029243,
     "end_time": "2023-11-20T03:49:31.086749",
     "exception": false,
     "start_time": "2023-11-20T03:49:31.057506",
     "status": "completed"
    },
    "tags": []
   },
   "source": [
    "spliting the data into a train-test split will allow us to test our model and so it will allow us to tune our model before submitting on Kaggle. We can also use the train-validation-test split here"
   ]
  },
  {
   "cell_type": "markdown",
   "id": "615d65a1",
   "metadata": {
    "papermill": {
     "duration": 0.026501,
     "end_time": "2023-11-20T03:49:31.141441",
     "exception": false,
     "start_time": "2023-11-20T03:49:31.114940",
     "status": "completed"
    },
    "tags": []
   },
   "source": [
    "# Making the Neural Network Model using Scikit Learn\n"
   ]
  },
  {
   "cell_type": "code",
   "execution_count": 8,
   "id": "54ea5b0b",
   "metadata": {
    "execution": {
     "iopub.execute_input": "2023-11-20T03:49:31.197951Z",
     "iopub.status.busy": "2023-11-20T03:49:31.196871Z",
     "iopub.status.idle": "2023-11-20T03:49:31.212818Z",
     "shell.execute_reply": "2023-11-20T03:49:31.211418Z"
    },
    "papermill": {
     "duration": 0.047202,
     "end_time": "2023-11-20T03:49:31.215853",
     "exception": false,
     "start_time": "2023-11-20T03:49:31.168651",
     "status": "completed"
    },
    "tags": []
   },
   "outputs": [],
   "source": [
    "from sklearn.neural_network import MLPClassifier\n",
    "from sklearn.model_selection import train_test_split\n",
    "from sklearn.preprocessing import StandardScaler\n",
    "from sklearn.metrics import accuracy_score\n",
    "\n",
    "# Commented out the code so that the model won't run everytime\n",
    "\n",
    "# model = MLPClassifier(hidden_layer_sizes=(5, 5), activation='relu', solver='adam', max_iter=1000, random_state=42)\n",
    "\n",
    "# model.fit(X_train, Y_train)\n",
    "\n",
    "# y_pred = model.predict(X_test)\n",
    "\n",
    "# print(f\"Accuracy: {accuracy_score(Y_test, y_pred):.2f}\")\n"
   ]
  },
  {
   "cell_type": "markdown",
   "id": "9c161f3e",
   "metadata": {
    "papermill": {
     "duration": 0.026249,
     "end_time": "2023-11-20T03:49:31.269796",
     "exception": false,
     "start_time": "2023-11-20T03:49:31.243547",
     "status": "completed"
    },
    "tags": []
   },
   "source": [
    "**Here I am using the MLPClassifier since this is a classification problem. The output of the model will be \"Survive\" or \"not survive.\" If my model was supposed to predict a numerical value, I would be using something like MLPRegressor instead**"
   ]
  },
  {
   "cell_type": "markdown",
   "id": "98f1bd77",
   "metadata": {
    "papermill": {
     "duration": 0.027116,
     "end_time": "2023-11-20T03:49:31.324275",
     "exception": false,
     "start_time": "2023-11-20T03:49:31.297159",
     "status": "completed"
    },
    "tags": []
   },
   "source": [
    "# Tried making a neural network using Tensor Flow but decided to just use Scikit learn"
   ]
  },
  {
   "cell_type": "code",
   "execution_count": 9,
   "id": "d8b5f01c",
   "metadata": {
    "execution": {
     "iopub.execute_input": "2023-11-20T03:49:31.380032Z",
     "iopub.status.busy": "2023-11-20T03:49:31.379215Z",
     "iopub.status.idle": "2023-11-20T03:49:31.384249Z",
     "shell.execute_reply": "2023-11-20T03:49:31.383383Z"
    },
    "papermill": {
     "duration": 0.03568,
     "end_time": "2023-11-20T03:49:31.386597",
     "exception": false,
     "start_time": "2023-11-20T03:49:31.350917",
     "status": "completed"
    },
    "tags": []
   },
   "outputs": [],
   "source": [
    "# import tensorflow as tf\n",
    "\n",
    "\n",
    "# #Compile the model\n",
    "# model = tf.keras.models.Sequential([\n",
    "#     tf.keras.layers.Dense(64, activation = \"relu\", input_shape = (687,)),\n",
    "#     tf.keras.layers.Dense(32, activation = \"relu\"),\n",
    "#     tf.keras.layers.Dense(16, activation = \"relu\"),\n",
    "#     tf.keras.layers.Dense(1, activation = \"sigmoid\")\n",
    "# ])\n",
    "# model.compile(optimizer = \"adam\", loss = \"binary_crossentropy\", metrics = [\"accuracy\"])\n",
    "\n",
    "\n",
    "# #Train the model\n",
    "\n",
    "# #X_train = tf.convert_to_tensor(X_train)\n",
    "# #Y_train = tf.convert_to_tensor(Y_train)\n",
    "# model.fit(X_train, Y_train, epochs = 10)\n",
    "\n",
    "# #Evaluate the model \n",
    "\n",
    "# #X_test = tf.convert_to_tensor(X_test)\n",
    "# #Y_test = tf.convert_to_tensor(Y_test)\n",
    "# loss, accuracy = model.evaluate(X_test, Y_test)\n",
    "# print(\"Accuracy: \", accuracy)"
   ]
  },
  {
   "cell_type": "markdown",
   "id": "193fd5c7",
   "metadata": {
    "papermill": {
     "duration": 0.02639,
     "end_time": "2023-11-20T03:49:31.440386",
     "exception": false,
     "start_time": "2023-11-20T03:49:31.413996",
     "status": "completed"
    },
    "tags": []
   },
   "source": [
    "# Testing model on real test set and Submitting Model (Accuracy: 0.755)\n"
   ]
  },
  {
   "cell_type": "code",
   "execution_count": 10,
   "id": "3e631210",
   "metadata": {
    "execution": {
     "iopub.execute_input": "2023-11-20T03:49:31.497081Z",
     "iopub.status.busy": "2023-11-20T03:49:31.496661Z",
     "iopub.status.idle": "2023-11-20T03:49:31.529273Z",
     "shell.execute_reply": "2023-11-20T03:49:31.528348Z"
    },
    "papermill": {
     "duration": 0.063471,
     "end_time": "2023-11-20T03:49:31.531754",
     "exception": false,
     "start_time": "2023-11-20T03:49:31.468283",
     "status": "completed"
    },
    "tags": []
   },
   "outputs": [
    {
     "name": "stdout",
     "output_type": "stream",
     "text": [
      "Index(['Pclass', 'Fare', 'Sex_female', 'Sex_male', 'PassengerId'], dtype='object')\n"
     ]
    }
   ],
   "source": [
    "test_data = pd.read_csv(\"/kaggle/input/titanic/test.csv\")\n",
    "features = [\"Pclass\", \"Sex\", \"Fare\"]\n",
    "test_X = pd.get_dummies(test_data[features])\n",
    "#test_X = test_X.dropna()\n",
    "#print(test_X[\"Sex_female\"])\n",
    "test_X['Fare'].fillna(test_X['Fare'].median(), inplace=True)\n",
    "\n",
    "# Impute categorical columns with the mode\n",
    "for column in ['Pclass']:\n",
    "    test_X[column].fillna(test_X[column].mode()[0], inplace=True)\n",
    "\n",
    "for column in [\"Sex_female\"]:\n",
    "    test_X[column].fillna(False, inplace=True)\n",
    "    \n",
    "for column in ['Sex_male']:\n",
    "    test_X[column].fillna(True, inplace=True)\n",
    "  \n",
    "  \n",
    "# print(X_test)\n",
    "\n",
    "#model.fit(X_train, Y_train)\n",
    "\n",
    "# predictions = model.predict(test_X)\n",
    "\n",
    "pass_id = test_data['PassengerId']\n",
    "\n",
    "test_data = test_data.drop('PassengerId', axis=1)\n",
    "test_data = pd.get_dummies(test_data[features])\n",
    "\n",
    "test_data[\"PassengerId\"] = pass_id\n",
    "\n",
    "test_data['Fare'].fillna(test_data['Fare'].median(), inplace=True)\n",
    "\n",
    "print(test_data.columns)\n",
    "\n",
    "# Impute categorical columns with the mode\n",
    "for column in ['Pclass']:\n",
    "    test_data[column].fillna(test_data[column].mode()[0], inplace=True)\n",
    "\n",
    "for column in ['Sex_female']:\n",
    "    test_data[column].fillna(False, inplace=True)\n",
    "    \n",
    "for column in ['Sex_male']:\n",
    "    test_data[column].fillna(True, inplace=True)\n",
    "    \n",
    "# Commented out the code so that the model won't run everytime\n",
    "\n",
    "# print(test_X.shape)\n",
    "# print(predictions.shape)\n",
    "# print(test_data.shape)\n",
    "\n",
    "\n",
    "# output = pd.DataFrame({'PassengerId': test_data.PassengerId, 'Survived': predictions})\n",
    "# output.to_csv('submission.csv', index=False)\n",
    "# print(\"Your submission was successfully saved!\")"
   ]
  },
  {
   "cell_type": "markdown",
   "id": "caba06f6",
   "metadata": {
    "papermill": {
     "duration": 0.026532,
     "end_time": "2023-11-20T03:49:31.586250",
     "exception": false,
     "start_time": "2023-11-20T03:49:31.559718",
     "status": "completed"
    },
    "tags": []
   },
   "source": [
    "**The accuracy of the model was 0.755**"
   ]
  },
  {
   "cell_type": "markdown",
   "id": "75aa861c",
   "metadata": {
    "papermill": {
     "duration": 0.026547,
     "end_time": "2023-11-20T03:49:31.639622",
     "exception": false,
     "start_time": "2023-11-20T03:49:31.613075",
     "status": "completed"
    },
    "tags": []
   },
   "source": [
    "# After first submission, I will now try and edit the neural network to improve the accurary\n"
   ]
  },
  {
   "cell_type": "code",
   "execution_count": 11,
   "id": "319a644a",
   "metadata": {
    "execution": {
     "iopub.execute_input": "2023-11-20T03:49:31.695971Z",
     "iopub.status.busy": "2023-11-20T03:49:31.694739Z",
     "iopub.status.idle": "2023-11-20T03:49:31.699688Z",
     "shell.execute_reply": "2023-11-20T03:49:31.698710Z"
    },
    "papermill": {
     "duration": 0.035699,
     "end_time": "2023-11-20T03:49:31.702156",
     "exception": false,
     "start_time": "2023-11-20T03:49:31.666457",
     "status": "completed"
    },
    "tags": []
   },
   "outputs": [],
   "source": [
    "# Commented out the code so that the model won't run everytime\n",
    "\n",
    "# model = MLPClassifier(hidden_layer_sizes=(14, 4), activation='relu', solver='lbfgs', max_iter=1000, random_state=42)\n",
    "\n",
    "# model.fit(X_train, Y_train)\n",
    "\n",
    "# y_pred = model.predict(X_test)\n",
    "\n",
    "# print(f\"Accuracy: {accuracy_score(Y_test, y_pred):.2f}\")\n",
    "\n"
   ]
  },
  {
   "cell_type": "markdown",
   "id": "cb970d0c",
   "metadata": {
    "papermill": {
     "duration": 0.027958,
     "end_time": "2023-11-20T03:49:31.757865",
     "exception": false,
     "start_time": "2023-11-20T03:49:31.729907",
     "status": "completed"
    },
    "tags": []
   },
   "source": [
    "**I edited  the hidden layer sizes**\n"
   ]
  },
  {
   "cell_type": "markdown",
   "id": "28a5f0df",
   "metadata": {
    "papermill": {
     "duration": 0.026669,
     "end_time": "2023-11-20T03:49:31.811936",
     "exception": false,
     "start_time": "2023-11-20T03:49:31.785267",
     "status": "completed"
    },
    "tags": []
   },
   "source": [
    "# Second submission (accuracy: 0.76)\n"
   ]
  },
  {
   "cell_type": "code",
   "execution_count": 12,
   "id": "a1522400",
   "metadata": {
    "execution": {
     "iopub.execute_input": "2023-11-20T03:49:31.867343Z",
     "iopub.status.busy": "2023-11-20T03:49:31.866936Z",
     "iopub.status.idle": "2023-11-20T03:49:31.886575Z",
     "shell.execute_reply": "2023-11-20T03:49:31.885461Z"
    },
    "papermill": {
     "duration": 0.050432,
     "end_time": "2023-11-20T03:49:31.889180",
     "exception": false,
     "start_time": "2023-11-20T03:49:31.838748",
     "status": "completed"
    },
    "tags": []
   },
   "outputs": [
    {
     "name": "stdout",
     "output_type": "stream",
     "text": [
      "done\n"
     ]
    }
   ],
   "source": [
    "test_data = pd.read_csv(\"/kaggle/input/titanic/test.csv\")\n",
    "features = [\"Pclass\", \"Sex\", \"Fare\"]\n",
    "test_X = pd.get_dummies(test_data[features])\n",
    "\n",
    "test_X['Fare'].fillna(test_X['Fare'].median(), inplace=True)\n",
    "\n",
    "# Impute categorical columns with the mode\n",
    "for column in ['Pclass']:\n",
    "    test_X[column].fillna(test_X[column].mode()[0], inplace=True)\n",
    "\n",
    "for column in [\"Sex_female\"]:\n",
    "    test_X[column].fillna(False, inplace=True)\n",
    "    \n",
    "for column in ['Sex_male']:\n",
    "    test_X[column].fillna(True, inplace=True)\n",
    "\n",
    "print(\"done\")\n",
    "\n",
    "\n",
    "# Commented out the code so that the model won't run everytime\n",
    "\n",
    "# predictions2 = model.predict(test_X)\n",
    "\n",
    "# pass_id = test_data['PassengerId']\n",
    "\n",
    "# test_data = test_data.drop('PassengerId', axis=1)\n",
    "# test_data = pd.get_dummies(test_data[features])\n",
    "\n",
    "# test_data[\"PassengerId\"] = pass_id\n",
    "\n",
    "# print(test_data.columns)\n",
    "\n",
    "# print(test_X.shape)\n",
    "# print(predictions2.shape)\n",
    "# print(test_data.shape)\n",
    "\n",
    "# output = pd.DataFrame({'PassengerId': test_data.PassengerId, 'Survived': predictions2})\n",
    "# output.to_csv('submission.csv', index=False)\n",
    "# print(\"Your submission was successfully saved!\")"
   ]
  },
  {
   "cell_type": "markdown",
   "id": "a5ec595c",
   "metadata": {
    "papermill": {
     "duration": 0.028517,
     "end_time": "2023-11-20T03:49:31.945865",
     "exception": false,
     "start_time": "2023-11-20T03:49:31.917348",
     "status": "completed"
    },
    "tags": []
   },
   "source": [
    "**Here, from the code above, I went from a 0.755 to a 0.76 by editing the hidden layer sizes. However, this wasn't much of a big change and the accuracy of the model is still worse than the 0.775 which I achieved through a simple Random Decision Forest Model.**\n"
   ]
  },
  {
   "cell_type": "markdown",
   "id": "3083ad2b",
   "metadata": {
    "papermill": {
     "duration": 0.026517,
     "end_time": "2023-11-20T03:49:32.000315",
     "exception": false,
     "start_time": "2023-11-20T03:49:31.973798",
     "status": "completed"
    },
    "tags": []
   },
   "source": [
    "**From this code, I realized that I should be imputing and cleaning the data BEFORE I use pd.get_dummies(). This is because pd.get_dummies() adds a lot more columns to the data because it turns all categorial columns to multiple binary columns which puts a 0 or 1 in each row. So, I should be cleaming up the data BEFORE I use pd.get_dummies() since pd.get_dummies adds so many more columns to the data and makes the data so much harder to clean. \n",
    "For example, it's hard to impute values in the \"age\" column after you do pd.get_Dummies() since imputing age relies on finding the average age of each person and it's a lot easier to find the average age is the all the ages were in a single column but if we do pd.get_Dummies, we are going to split up the age column into many more age columns which correspond to each unique age value in the data set**"
   ]
  },
  {
   "cell_type": "markdown",
   "id": "7ea6cd37",
   "metadata": {
    "papermill": {
     "duration": 0.032518,
     "end_time": "2023-11-20T03:49:32.062474",
     "exception": false,
     "start_time": "2023-11-20T03:49:32.029956",
     "status": "completed"
    },
    "tags": []
   },
   "source": []
  },
  {
   "cell_type": "markdown",
   "id": "6fe9b4b5",
   "metadata": {
    "papermill": {
     "duration": 0.030994,
     "end_time": "2023-11-20T03:49:32.128697",
     "exception": false,
     "start_time": "2023-11-20T03:49:32.097703",
     "status": "completed"
    },
    "tags": []
   },
   "source": [
    "# Now I will re-initialize my data set and clean up my data before using pd.get_dummies()"
   ]
  },
  {
   "cell_type": "markdown",
   "id": "5ec65486",
   "metadata": {
    "papermill": {
     "duration": 0.033974,
     "end_time": "2023-11-20T03:49:32.197260",
     "exception": false,
     "start_time": "2023-11-20T03:49:32.163286",
     "status": "completed"
    },
    "tags": []
   },
   "source": [
    "**I set up X_train and Y_train, but this time, instead of doing pd.get_Dummies() on X_train, I'm not going to use pd.get_Dummies() until after I clean up the data**"
   ]
  },
  {
   "cell_type": "code",
   "execution_count": 13,
   "id": "ce13072c",
   "metadata": {
    "execution": {
     "iopub.execute_input": "2023-11-20T03:49:32.254828Z",
     "iopub.status.busy": "2023-11-20T03:49:32.254243Z",
     "iopub.status.idle": "2023-11-20T03:49:32.273981Z",
     "shell.execute_reply": "2023-11-20T03:49:32.272724Z"
    },
    "papermill": {
     "duration": 0.051158,
     "end_time": "2023-11-20T03:49:32.276720",
     "exception": false,
     "start_time": "2023-11-20T03:49:32.225562",
     "status": "completed"
    },
    "tags": []
   },
   "outputs": [
    {
     "name": "stdout",
     "output_type": "stream",
     "text": [
      "   PassengerId  Survived  Pclass  \\\n",
      "0            1         0       3   \n",
      "1            2         1       1   \n",
      "2            3         1       3   \n",
      "3            4         1       1   \n",
      "4            5         0       3   \n",
      "\n",
      "                                                Name     Sex   Age  SibSp  \\\n",
      "0                            Braund, Mr. Owen Harris    male  22.0      1   \n",
      "1  Cumings, Mrs. John Bradley (Florence Briggs Th...  female  38.0      1   \n",
      "2                             Heikkinen, Miss. Laina  female  26.0      0   \n",
      "3       Futrelle, Mrs. Jacques Heath (Lily May Peel)  female  35.0      1   \n",
      "4                           Allen, Mr. William Henry    male  35.0      0   \n",
      "\n",
      "   Parch            Ticket     Fare Cabin Embarked  \n",
      "0      0         A/5 21171   7.2500   NaN        S  \n",
      "1      0          PC 17599  71.2833   C85        C  \n",
      "2      0  STON/O2. 3101282   7.9250   NaN        S  \n",
      "3      0            113803  53.1000  C123        S  \n",
      "4      0            373450   8.0500   NaN        S  \n"
     ]
    }
   ],
   "source": [
    "train_data = pd.read_csv(\"/kaggle/input/titanic/train.csv\")\n",
    "\n",
    "features = [\"Pclass\", \"Sex\", \"Fare\",\"Age\", \"SibSp\", \"Parch\"] # Here, I also added more features which I think might be useful\n",
    "\n",
    "X_train = train_data # I won't actually limit the X_train to just the columns of the features I want just yet. This is because I will use the other columns in the data set to help impute missing values\n",
    "\n",
    "Y_train = train_data[\"Survived\"]\n",
    "\n",
    "print(X_train.head())\n"
   ]
  },
  {
   "cell_type": "markdown",
   "id": "f755087e",
   "metadata": {
    "papermill": {
     "duration": 0.026622,
     "end_time": "2023-11-20T03:49:32.331891",
     "exception": false,
     "start_time": "2023-11-20T03:49:32.305269",
     "status": "completed"
    },
    "tags": []
   },
   "source": [
    "# Start cleaning up the data"
   ]
  },
  {
   "cell_type": "code",
   "execution_count": 14,
   "id": "17d1cd74",
   "metadata": {
    "execution": {
     "iopub.execute_input": "2023-11-20T03:49:32.387894Z",
     "iopub.status.busy": "2023-11-20T03:49:32.387451Z",
     "iopub.status.idle": "2023-11-20T03:49:32.399496Z",
     "shell.execute_reply": "2023-11-20T03:49:32.398639Z"
    },
    "papermill": {
     "duration": 0.042811,
     "end_time": "2023-11-20T03:49:32.401894",
     "exception": false,
     "start_time": "2023-11-20T03:49:32.359083",
     "status": "completed"
    },
    "tags": []
   },
   "outputs": [
    {
     "name": "stdout",
     "output_type": "stream",
     "text": [
      "0\n",
      "0\n",
      "0\n",
      "0\n",
      "0\n",
      "177\n"
     ]
    }
   ],
   "source": [
    "# Impute missing values for Pclass\n",
    "\n",
    "average_Pclass = X_train[\"Pclass\"].median()\n",
    "\n",
    "X_train[\"Pclass\"].fillna(average_Pclass, inplace = True)\n",
    "\n",
    "print(X_train[\"Pclass\"].isnull().sum()) # print the number of rows in the \"Pclass\" columns that now have no value\n",
    "\n",
    "print(X_train[\"Sex\"].isnull().sum()) # Since this prints out 0, this means that there is no missing value in the \"Sex\" column so we don't need to impute anything\n",
    "\n",
    "print(X_train[\"Fare\"].isnull().sum()) # Since this prints out 0, this means that there is no missing value in the \"Fare\" column so we don't need to impute anything\n",
    "\n",
    "print(X_train[\"SibSp\"].isnull().sum()) # Since this prints out 0, this means that there is no missing value in the \"SibSp\" column so we don't need to impute anything\n",
    "\n",
    "print(X_train[\"Parch\"].isnull().sum()) # Since this prints out 0, this means that there is no missing value in the \"Parch\" column so we don't need to impute anything\n",
    "\n",
    "print(X_train[\"Age\"].isnull().sum()) # This prints out 177 so there are 177 rows with missing values in the \"Age\" column! This means we have to do a lot of imputing\n",
    "\n"
   ]
  },
  {
   "cell_type": "markdown",
   "id": "f7f74b15",
   "metadata": {
    "papermill": {
     "duration": 0.027081,
     "end_time": "2023-11-20T03:49:32.456746",
     "exception": false,
     "start_time": "2023-11-20T03:49:32.429665",
     "status": "completed"
    },
    "tags": []
   },
   "source": [
    "**From this, we learned that age is the main column with missing values (of the columns that we are working with) so we need to methodically impute those missing values**"
   ]
  },
  {
   "cell_type": "markdown",
   "id": "94235cb6",
   "metadata": {
    "papermill": {
     "duration": 0.029412,
     "end_time": "2023-11-20T03:49:32.522733",
     "exception": false,
     "start_time": "2023-11-20T03:49:32.493321",
     "status": "completed"
    },
    "tags": []
   },
   "source": [
    "# Cleaning up (imputing) the Age column using a Random Forest Regressor model (a type of Machine Learning model) that accurately predicts the age of a person given their "
   ]
  },
  {
   "cell_type": "code",
   "execution_count": 15,
   "id": "ae1bc4e4",
   "metadata": {
    "execution": {
     "iopub.execute_input": "2023-11-20T03:49:32.581921Z",
     "iopub.status.busy": "2023-11-20T03:49:32.581042Z",
     "iopub.status.idle": "2023-11-20T03:49:57.497171Z",
     "shell.execute_reply": "2023-11-20T03:49:57.495657Z"
    },
    "papermill": {
     "duration": 24.949784,
     "end_time": "2023-11-20T03:49:57.499606",
     "exception": false,
     "start_time": "2023-11-20T03:49:32.549822",
     "status": "completed"
    },
    "tags": []
   },
   "outputs": [
    {
     "name": "stdout",
     "output_type": "stream",
     "text": [
      "0\n"
     ]
    },
    {
     "name": "stderr",
     "output_type": "stream",
     "text": [
      "/opt/conda/lib/python3.10/site-packages/sklearn/impute/_iterative.py:785: ConvergenceWarning: [IterativeImputer] Early stopping criterion not reached.\n",
      "  warnings.warn(\n"
     ]
    }
   ],
   "source": [
    "from sklearn.experimental import enable_iterative_imputer\n",
    "from sklearn.impute import IterativeImputer\n",
    "from sklearn.ensemble import RandomForestRegressor\n",
    "from sklearn.preprocessing import LabelEncoder\n",
    "\n",
    "\n",
    "#We use \"LabelEncoder\" to turn all the categorial values (values which don't use numbers) into values which the Random Forest Regressor can understand more easily. This is very similar to doing something like pd.get_dummies()\n",
    "\n",
    "label_encoders = {}\n",
    "for column in ['Sex', 'Embarked']:\n",
    "    label_encoders[column] = LabelEncoder()\n",
    "    # We use 'astype(str)' to convert any NaN values to a string representation\n",
    "    X_train[column] = label_encoders[column].fit_transform(X_train[column].astype(str))\n",
    "\n",
    "features = ['Survived', 'Pclass', 'Sex', 'Age', 'SibSp', 'Parch', 'Fare', 'Embarked']\n",
    "# One very important thing that I will end up doing is using the \"Survived\" column of the dataset to predict the age. This is because there is a strong correleation between the survival and age. \n",
    "\n",
    "\n",
    "#This is an imputer. It is a function that can efficiently impute values in the way you want. For this scenario, I am using IterativeImputer() and the RandomForestRegressor(() to )\n",
    "imputer = IterativeImputer(RandomForestRegressor(n_estimators=10), max_iter=100, random_state=0)\n",
    "\n",
    "\n",
    "# Fit the imputer on the DataFrame with the features\n",
    "imputer.fit(X_train[features]) #When IterativeImputer is used alongside an ML model like RandomForestRegressor, calling .fit() on the IterativeImputer() object will also fit (train) the ML model\n",
    "\n",
    "\n",
    "# Perform the imputation on the Training Data. THIS WILL ACTUAL IMPUTE ANY MISSING VALUES IN EACH ROW, not only the missing values in Age.\n",
    "X_train_imputed = imputer.transform(X_train[features])\n",
    "\n",
    "\n",
    "# Convert the output back to a DataFrame\n",
    "X_train_imputed = pd.DataFrame(X_train_imputed, columns=features)\n",
    "\n",
    "# Update the original DataFrame with the imputed values. This means that the columns of the original X_train dataframe that weren't part of the features (like \"Name\" isn't apart of the features list)\n",
    "X_train[features] = X_train_imputed\n",
    "\n",
    "#print(X_train.head())\n",
    "\n",
    "print(X_train[\"Age\"].isnull().sum()) # Since this prints 0, we now know that there are 0 missing values in the age column and so the imputation was successful "
   ]
  },
  {
   "cell_type": "markdown",
   "id": "60d61029",
   "metadata": {
    "papermill": {
     "duration": 0.027336,
     "end_time": "2023-11-20T03:49:57.554434",
     "exception": false,
     "start_time": "2023-11-20T03:49:57.527098",
     "status": "completed"
    },
    "tags": []
   },
   "source": [
    "**Using IterativeRegressor() and RandomForestRegressor(), I essentially used an ML model to impute any missing values in the dataset. I wanted to clean up the age column using the most effective method and I didn't want to just find the average age and impute all those values to the missing values. I wanted to be smart since age is an incredibly important feature.**"
   ]
  },
  {
   "cell_type": "markdown",
   "id": "ee43d5c3",
   "metadata": {
    "papermill": {
     "duration": 0.026971,
     "end_time": "2023-11-20T03:49:57.608997",
     "exception": false,
     "start_time": "2023-11-20T03:49:57.582026",
     "status": "completed"
    },
    "tags": []
   },
   "source": [
    "**Using the ImperativeImputer(), this will actually impute all the missing values in each row. It won't only impute the missing values in the \"age\" column. BUT, since we already cleaned the data and know there are 0 missing values for all the other columns that we care about (the ones with the features we are using), the imputer will be imputing values only to the missing values of age and other columns that we don't care about, but out of all the columns we care about, it will only be affecting the age column since all the other columns we care about have 0 missing values as we checked in the code previously.**"
   ]
  },
  {
   "cell_type": "code",
   "execution_count": 16,
   "id": "4f7d955a",
   "metadata": {
    "execution": {
     "iopub.execute_input": "2023-11-20T03:49:57.665862Z",
     "iopub.status.busy": "2023-11-20T03:49:57.664871Z",
     "iopub.status.idle": "2023-11-20T03:49:57.688820Z",
     "shell.execute_reply": "2023-11-20T03:49:57.686876Z"
    },
    "papermill": {
     "duration": 0.055191,
     "end_time": "2023-11-20T03:49:57.691476",
     "exception": false,
     "start_time": "2023-11-20T03:49:57.636285",
     "status": "completed"
    },
    "tags": []
   },
   "outputs": [
    {
     "name": "stdout",
     "output_type": "stream",
     "text": [
      "   Pclass  Sex     Fare   Age  SibSp  Parch\n",
      "0     3.0  1.0   7.2500  22.0    1.0    0.0\n",
      "1     1.0  0.0  71.2833  38.0    1.0    0.0\n",
      "2     3.0  0.0   7.9250  26.0    0.0    0.0\n",
      "3     1.0  0.0  53.1000  35.0    1.0    0.0\n",
      "4     3.0  1.0   8.0500  35.0    0.0    0.0\n",
      "314\n",
      "577\n",
      "   Pclass     Sex     Fare   Age  SibSp  Parch\n",
      "0     3.0    male   7.2500  22.0    1.0    0.0\n",
      "1     1.0  female  71.2833  38.0    1.0    0.0\n",
      "2     3.0  female   7.9250  26.0    0.0    0.0\n",
      "3     1.0  female  53.1000  35.0    1.0    0.0\n",
      "4     3.0    male   8.0500  35.0    0.0    0.0\n",
      "577\n"
     ]
    },
    {
     "name": "stderr",
     "output_type": "stream",
     "text": [
      "/tmp/ipykernel_20/1272774441.py:12: SettingWithCopyWarning: \n",
      "A value is trying to be set on a copy of a slice from a DataFrame.\n",
      "Try using .loc[row_indexer,col_indexer] = value instead\n",
      "\n",
      "See the caveats in the documentation: https://pandas.pydata.org/pandas-docs/stable/user_guide/indexing.html#returning-a-view-versus-a-copy\n",
      "  X_train['Sex'] = X_train['Sex'].map({0: 'female', 1: 'male'})\n"
     ]
    }
   ],
   "source": [
    "features = [\"Pclass\", \"Sex\", \"Fare\",\"Age\", \"SibSp\", \"Parch\"]\n",
    "\n",
    "X_train = X_train[features]\n",
    "\n",
    "print(X_train.head(5))\n",
    "\n",
    "print((X_train[\"Sex\"] == 0).sum())\n",
    "print((X_train[\"Sex\"] == 1).sum())\n",
    "\n",
    "# Since the dataset is 65% male, we can see from printing out the number of people with \"sex equal to 0\" and \"sex equal to 1\" that the LabelEncoder made Male into \"1\" and Female into \"0\". Now, let's change it back to \"Male\" and \"Female\".\n",
    "\n",
    "X_train['Sex'] = X_train['Sex'].map({0: 'female', 1: 'male'})\n",
    "\n",
    "print(X_train.head(5))\n",
    "\n",
    "print((X_train[\"Sex\"] == \"male\").sum())"
   ]
  },
  {
   "cell_type": "markdown",
   "id": "44bdf8f3",
   "metadata": {
    "papermill": {
     "duration": 0.028271,
     "end_time": "2023-11-20T03:49:57.748583",
     "exception": false,
     "start_time": "2023-11-20T03:49:57.720312",
     "status": "completed"
    },
    "tags": []
   },
   "source": [
    "**Here, in the code above, I changed X_train back to focus only on the features we care about. I also changed the \"Sex\" column from 0 and 1 back to Male and Female.**"
   ]
  },
  {
   "cell_type": "markdown",
   "id": "27ecc74a",
   "metadata": {
    "papermill": {
     "duration": 0.027203,
     "end_time": "2023-11-20T03:49:57.803150",
     "exception": false,
     "start_time": "2023-11-20T03:49:57.775947",
     "status": "completed"
    },
    "tags": []
   },
   "source": [
    "# After the careful inspection of the test.csv, I see that there are also missing values in the test.csv. As a result, we have to clean up the data for test.csv as we did for train.csv"
   ]
  },
  {
   "cell_type": "markdown",
   "id": "5a44725d",
   "metadata": {
    "papermill": {
     "duration": 0.027169,
     "end_time": "2023-11-20T03:49:57.858271",
     "exception": false,
     "start_time": "2023-11-20T03:49:57.831102",
     "status": "completed"
    },
    "tags": []
   },
   "source": [
    "**Seeing which columns have missing values:**"
   ]
  },
  {
   "cell_type": "code",
   "execution_count": 17,
   "id": "c1626e14",
   "metadata": {
    "execution": {
     "iopub.execute_input": "2023-11-20T03:49:57.917691Z",
     "iopub.status.busy": "2023-11-20T03:49:57.916857Z",
     "iopub.status.idle": "2023-11-20T03:49:57.935167Z",
     "shell.execute_reply": "2023-11-20T03:49:57.933994Z"
    },
    "papermill": {
     "duration": 0.050886,
     "end_time": "2023-11-20T03:49:57.937583",
     "exception": false,
     "start_time": "2023-11-20T03:49:57.886697",
     "status": "completed"
    },
    "tags": []
   },
   "outputs": [
    {
     "name": "stdout",
     "output_type": "stream",
     "text": [
      "0\n",
      "0\n",
      "0\n",
      "0\n",
      "1\n",
      "86\n"
     ]
    }
   ],
   "source": [
    "test_data = pd.read_csv(\"/kaggle/input/titanic/test.csv\")\n",
    "\n",
    "features = [\"Pclass\", \"Sex\", \"Fare\",\"Age\", \"SibSp\", \"Parch\"]\n",
    "\n",
    "print(test_data[\"Pclass\"].isnull().sum()) # Since this is 0, that means there is no missing values\n",
    "\n",
    "print(test_data[\"Sex\"].isnull().sum()) # Since this is 0, that means there is no missing values\n",
    "\n",
    "print(test_data[\"SibSp\"].isnull().sum()) # Since this is 0, that means there is no missing values\n",
    "\n",
    "print(test_data[\"Parch\"].isnull().sum()) # Since this is 0, that means there is no missing values\n",
    "\n",
    "print(test_data[\"Fare\"].isnull().sum()) # Since this is 1, that means there is one missing value\n",
    "\n",
    "print(test_data[\"Age\"].isnull().sum()) # Since this is 86, that means there are 86 missing values\n"
   ]
  },
  {
   "cell_type": "markdown",
   "id": "b4563297",
   "metadata": {
    "papermill": {
     "duration": 0.027313,
     "end_time": "2023-11-20T03:49:57.993648",
     "exception": false,
     "start_time": "2023-11-20T03:49:57.966335",
     "status": "completed"
    },
    "tags": []
   },
   "source": [
    "**From this, we can see that only \"Fare\" annd \"Age\" have missing values. Since \"Fare\" only has one missing value, it's not worth it to go to through all the work to do some advanced imputation technique to fill in missing values. So, I will just fill that in with the average fare value.**\n",
    "\n",
    "**For the \"Age\" feature, I will repeat the process of using an IterativeImputer and a RandomForestRegressor to imputate missing values**"
   ]
  },
  {
   "cell_type": "code",
   "execution_count": 18,
   "id": "3c3aefcc",
   "metadata": {
    "execution": {
     "iopub.execute_input": "2023-11-20T03:49:58.051354Z",
     "iopub.status.busy": "2023-11-20T03:49:58.050589Z",
     "iopub.status.idle": "2023-11-20T03:49:58.058874Z",
     "shell.execute_reply": "2023-11-20T03:49:58.057465Z"
    },
    "papermill": {
     "duration": 0.039867,
     "end_time": "2023-11-20T03:49:58.061207",
     "exception": false,
     "start_time": "2023-11-20T03:49:58.021340",
     "status": "completed"
    },
    "tags": []
   },
   "outputs": [
    {
     "name": "stdout",
     "output_type": "stream",
     "text": [
      "0\n"
     ]
    }
   ],
   "source": [
    "average_fare = test_data[\"Fare\"].mean()\n",
    "\n",
    "test_data[\"Fare\"].fillna(average_fare, inplace = True) # This replaces the single missing value in \"Fare\" with the average value Fare Value of the test data\n",
    "\n",
    "print(test_data[\"Fare\"].isnull().sum())"
   ]
  },
  {
   "cell_type": "code",
   "execution_count": 19,
   "id": "ed9b8f60",
   "metadata": {
    "execution": {
     "iopub.execute_input": "2023-11-20T03:49:58.119060Z",
     "iopub.status.busy": "2023-11-20T03:49:58.118292Z",
     "iopub.status.idle": "2023-11-20T03:50:15.431009Z",
     "shell.execute_reply": "2023-11-20T03:50:15.429541Z"
    },
    "papermill": {
     "duration": 17.344847,
     "end_time": "2023-11-20T03:50:15.433646",
     "exception": false,
     "start_time": "2023-11-20T03:49:58.088799",
     "status": "completed"
    },
    "tags": []
   },
   "outputs": [
    {
     "name": "stdout",
     "output_type": "stream",
     "text": [
      "0\n",
      "   PassengerId  Pclass                                          Name  Sex  \\\n",
      "0          892     3.0                              Kelly, Mr. James  1.0   \n",
      "1          893     3.0              Wilkes, Mrs. James (Ellen Needs)  0.0   \n",
      "2          894     2.0                     Myles, Mr. Thomas Francis  1.0   \n",
      "3          895     3.0                              Wirz, Mr. Albert  1.0   \n",
      "4          896     3.0  Hirvonen, Mrs. Alexander (Helga E Lindqvist)  0.0   \n",
      "\n",
      "    Age  SibSp  Parch   Ticket     Fare Cabin  Embarked  \n",
      "0  34.5    0.0    0.0   330911   7.8292   NaN       1.0  \n",
      "1  47.0    1.0    0.0   363272   7.0000   NaN       2.0  \n",
      "2  62.0    0.0    0.0   240276   9.6875   NaN       1.0  \n",
      "3  27.0    0.0    0.0   315154   8.6625   NaN       2.0  \n",
      "4  22.0    1.0    1.0  3101298  12.2875   NaN       2.0  \n"
     ]
    },
    {
     "name": "stderr",
     "output_type": "stream",
     "text": [
      "/opt/conda/lib/python3.10/site-packages/sklearn/impute/_iterative.py:785: ConvergenceWarning: [IterativeImputer] Early stopping criterion not reached.\n",
      "  warnings.warn(\n"
     ]
    }
   ],
   "source": [
    "from sklearn.experimental import enable_iterative_imputer\n",
    "from sklearn.impute import IterativeImputer\n",
    "from sklearn.ensemble import RandomForestRegressor\n",
    "from sklearn.preprocessing import LabelEncoder\n",
    "\n",
    "\n",
    "#We use \"LabelEncoder\" to turn all the categorial values (values which don't use numbers) into values which the Random Forest Regressor can understand more easily. This is very similar to doing something like pd.get_dummies()\n",
    "\n",
    "label_encoders = {}\n",
    "for column in ['Sex', 'Embarked']:\n",
    "    label_encoders[column] = LabelEncoder()\n",
    "    # We use 'astype(str)' to convert any NaN values to a string representation\n",
    "    test_data[column] = label_encoders[column].fit_transform(test_data[column].astype(str))\n",
    "\n",
    "features = ['Pclass', 'Sex', 'Age', 'SibSp', 'Parch', 'Fare', 'Embarked']\n",
    "\n",
    "\n",
    "#This is an imputer. It is a function that can efficiently impute values in the way you want. For this scenario, I am using IterativeImputer() and the RandomForestRegressor(() to )\n",
    "imputer = IterativeImputer(RandomForestRegressor(n_estimators=10), max_iter=100, random_state=0)\n",
    "\n",
    "\n",
    "# Fit the imputer on the DataFrame with the features\n",
    "imputer.fit(test_data[features]) #When IterativeImputer is used alongside an ML model like RandomForestRegressor, calling .fit() on the IterativeImputer() object will also fit (train) the ML model\n",
    "\n",
    "\n",
    "# Perform the imputation on the Test Data. THIS WILL ACTUAL IMPUTE ANY MISSING VALUES IN EACH ROW, not only the missing values in Age.\n",
    "test_data_imputed = imputer.transform(test_data[features])\n",
    "\n",
    "\n",
    "# Convert the output back to a DataFrame\n",
    "test_data_imputed = pd.DataFrame(test_data_imputed, columns=features)\n",
    "\n",
    "# Update the original DataFrame with the imputed values. This means that the columns of the original test_data dataframe that weren't part of the features (like \"Name\" isn't apart of the features list)\n",
    "test_data[features] = test_data_imputed\n",
    "\n",
    "print(test_data[\"Age\"].isnull().sum()) # Since this prints 0, we now know that there are 0 missing values in the age column and so the imputation was successful \n",
    "\n",
    "print(test_data.head())"
   ]
  },
  {
   "cell_type": "markdown",
   "id": "c72ba0c5",
   "metadata": {
    "papermill": {
     "duration": 0.029468,
     "end_time": "2023-11-20T03:50:15.491980",
     "exception": false,
     "start_time": "2023-11-20T03:50:15.462512",
     "status": "completed"
    },
    "tags": []
   },
   "source": [
    "**The code above will imputate all the missing values in the test_data**"
   ]
  },
  {
   "cell_type": "markdown",
   "id": "7610baa1",
   "metadata": {
    "papermill": {
     "duration": 0.028662,
     "end_time": "2023-11-20T03:50:15.550634",
     "exception": false,
     "start_time": "2023-11-20T03:50:15.521972",
     "status": "completed"
    },
    "tags": []
   },
   "source": [
    "# Finalize the cleaning of the data and make it so test_data only has the features we want"
   ]
  },
  {
   "cell_type": "code",
   "execution_count": 20,
   "id": "c24b3ad2",
   "metadata": {
    "execution": {
     "iopub.execute_input": "2023-11-20T03:50:15.609639Z",
     "iopub.status.busy": "2023-11-20T03:50:15.609127Z",
     "iopub.status.idle": "2023-11-20T03:50:15.627890Z",
     "shell.execute_reply": "2023-11-20T03:50:15.626616Z"
    },
    "papermill": {
     "duration": 0.051487,
     "end_time": "2023-11-20T03:50:15.630329",
     "exception": false,
     "start_time": "2023-11-20T03:50:15.578842",
     "status": "completed"
    },
    "tags": []
   },
   "outputs": [
    {
     "name": "stdout",
     "output_type": "stream",
     "text": [
      "152\n",
      "266\n",
      "   Pclass     Sex     Fare   Age  SibSp  Parch\n",
      "0     3.0    male   7.8292  34.5    0.0    0.0\n",
      "1     3.0  female   7.0000  47.0    1.0    0.0\n",
      "2     2.0    male   9.6875  62.0    0.0    0.0\n",
      "3     3.0    male   8.6625  27.0    0.0    0.0\n",
      "4     3.0  female  12.2875  22.0    1.0    1.0\n",
      "266\n"
     ]
    }
   ],
   "source": [
    "features = [\"Pclass\", \"Sex\", \"Fare\",\"Age\", \"SibSp\", \"Parch\"]\n",
    "\n",
    "test_data = test_data[features]\n",
    "\n",
    "print((test_data[\"Sex\"] == 0).sum())\n",
    "print((test_data[\"Sex\"] == 1).sum())\n",
    "\n",
    "# Since the dataset is 65% male, we can see from printing out the number of people with \"sex equal to 0\" and \"sex equal to 1\" that the LabelEncoder made Male into \"1\" and Female into \"0\". Now, let's change it back to \"male\" and \"female\".\n",
    "\n",
    "test_data['Sex'] = test_data['Sex'].map({0: 'female', 1: 'male'})\n",
    "\n",
    "print(test_data.head(5))\n",
    "\n",
    "print((test_data[\"Sex\"] == \"male\").sum())"
   ]
  },
  {
   "cell_type": "markdown",
   "id": "e7771603",
   "metadata": {
    "papermill": {
     "duration": 0.028297,
     "end_time": "2023-11-20T03:50:15.686763",
     "exception": false,
     "start_time": "2023-11-20T03:50:15.658466",
     "status": "completed"
    },
    "tags": []
   },
   "source": [
    "# Now, after cleaning up the data, I can split up the data into train_validation_test "
   ]
  },
  {
   "cell_type": "code",
   "execution_count": 21,
   "id": "8150e16b",
   "metadata": {
    "execution": {
     "iopub.execute_input": "2023-11-20T03:50:15.747754Z",
     "iopub.status.busy": "2023-11-20T03:50:15.747020Z",
     "iopub.status.idle": "2023-11-20T03:50:15.758696Z",
     "shell.execute_reply": "2023-11-20T03:50:15.757492Z"
    },
    "papermill": {
     "duration": 0.044845,
     "end_time": "2023-11-20T03:50:15.761466",
     "exception": false,
     "start_time": "2023-11-20T03:50:15.716621",
     "status": "completed"
    },
    "tags": []
   },
   "outputs": [],
   "source": [
    "from sklearn.model_selection import train_test_split\n",
    "\n",
    "Y_train = train_data[\"Survived\"]\n",
    "\n",
    "# First, split into training (60%) and a test set (40%)\n",
    "train_X, test_X, train_Y, test_Y = train_test_split(X_train, Y_train, test_size=0.4, random_state = 42)\n",
    "\n",
    "#Second, split test set into a validation (20%) and test set (20%)\n",
    "valid_X, test_X, valid_Y, test_Y= train_test_split(test_X, test_Y, test_size = 0.5, random_state = 42)"
   ]
  },
  {
   "cell_type": "markdown",
   "id": "0c75dede",
   "metadata": {
    "papermill": {
     "duration": 0.028179,
     "end_time": "2023-11-20T03:50:15.818672",
     "exception": false,
     "start_time": "2023-11-20T03:50:15.790493",
     "status": "completed"
    },
    "tags": []
   },
   "source": [
    "# Using pd.get_dummies() on all the data"
   ]
  },
  {
   "cell_type": "markdown",
   "id": "3603e3a9",
   "metadata": {
    "papermill": {
     "duration": 0.027908,
     "end_time": "2023-11-20T03:50:15.875669",
     "exception": false,
     "start_time": "2023-11-20T03:50:15.847761",
     "status": "completed"
    },
    "tags": []
   },
   "source": [
    "**Setting up the Test data (from Test.csv) (This is NOT the test data from the Train_validation_test split):**"
   ]
  },
  {
   "cell_type": "code",
   "execution_count": 22,
   "id": "f8444a13",
   "metadata": {
    "execution": {
     "iopub.execute_input": "2023-11-20T03:50:15.934261Z",
     "iopub.status.busy": "2023-11-20T03:50:15.933828Z",
     "iopub.status.idle": "2023-11-20T03:50:15.949261Z",
     "shell.execute_reply": "2023-11-20T03:50:15.948456Z"
    },
    "papermill": {
     "duration": 0.047397,
     "end_time": "2023-11-20T03:50:15.951705",
     "exception": false,
     "start_time": "2023-11-20T03:50:15.904308",
     "status": "completed"
    },
    "tags": []
   },
   "outputs": [
    {
     "name": "stdout",
     "output_type": "stream",
     "text": [
      "   Pclass     Fare   Age  SibSp  Parch  Sex_female  Sex_male\n",
      "0     3.0   7.8292  34.5    0.0    0.0       False      True\n",
      "1     3.0   7.0000  47.0    1.0    0.0        True     False\n",
      "2     2.0   9.6875  62.0    0.0    0.0       False      True\n",
      "3     3.0   8.6625  27.0    0.0    0.0       False      True\n",
      "4     3.0  12.2875  22.0    1.0    1.0        True     False\n"
     ]
    }
   ],
   "source": [
    "test_data = test_data #the \"test_data\" variable here is after we cleaned up the test_data \n",
    "\n",
    "features = [\"Pclass\", \"Sex\", \"Fare\",\"Age\", \"SibSp\", \"Parch\"]\n",
    "\n",
    "test_data = test_data[features]\n",
    "\n",
    "test_data = pd.get_dummies(test_data)\n",
    "print(test_data.head())"
   ]
  },
  {
   "cell_type": "markdown",
   "id": "8388cf87",
   "metadata": {
    "papermill": {
     "duration": 0.028216,
     "end_time": "2023-11-20T03:50:16.009188",
     "exception": false,
     "start_time": "2023-11-20T03:50:15.980972",
     "status": "completed"
    },
    "tags": []
   },
   "source": [
    "**Setting up the Train data and Validation data and the Test data from the train_validation_test split:**"
   ]
  },
  {
   "cell_type": "code",
   "execution_count": 23,
   "id": "40ceda47",
   "metadata": {
    "execution": {
     "iopub.execute_input": "2023-11-20T03:50:16.069728Z",
     "iopub.status.busy": "2023-11-20T03:50:16.069278Z",
     "iopub.status.idle": "2023-11-20T03:50:16.098234Z",
     "shell.execute_reply": "2023-11-20T03:50:16.096837Z"
    },
    "papermill": {
     "duration": 0.0623,
     "end_time": "2023-11-20T03:50:16.100902",
     "exception": false,
     "start_time": "2023-11-20T03:50:16.038602",
     "status": "completed"
    },
    "tags": []
   },
   "outputs": [
    {
     "name": "stdout",
     "output_type": "stream",
     "text": [
      "     Pclass     Fare   Age  SibSp  Parch  Sex_female  Sex_male\n",
      "570     2.0  10.5000  62.0    0.0    0.0       False      True\n",
      "787     3.0  29.1250   8.0    4.0    1.0       False      True\n",
      "74      3.0  56.4958  32.0    0.0    0.0       False      True\n",
      "113     3.0   9.8250  20.0    1.0    0.0        True     False\n",
      "635     2.0  13.0000  28.0    0.0    0.0        True     False\n",
      "     Pclass     Fare        Age  SibSp  Parch  Sex_female  Sex_male\n",
      "849     1.0  89.1042  33.600000    1.0    0.0        True     False\n",
      "331     1.0  28.5000  45.500000    0.0    0.0       False      True\n",
      "260     3.0   7.7500  45.216607    0.0    0.0       False      True\n",
      "316     2.0  26.0000  24.000000    1.0    0.0        True     False\n",
      "292     2.0  12.8750  36.000000    0.0    0.0       False      True\n",
      "     Pclass     Fare        Age  SibSp  Parch  Sex_female  Sex_male\n",
      "424     3.0  20.2125  18.000000    1.0    1.0       False      True\n",
      "837     3.0   8.0500  31.836047    0.0    0.0       False      True\n",
      "525     3.0   7.7500  40.500000    0.0    0.0       False      True\n",
      "328     3.0  20.5250  31.000000    1.0    1.0        True     False\n",
      "70      2.0  10.5000  32.000000    0.0    0.0       False      True\n"
     ]
    }
   ],
   "source": [
    "train_X = pd.get_dummies(train_X)\n",
    "print(train_X.head())\n",
    "\n",
    "valid_X = pd.get_dummies(valid_X)\n",
    "print(valid_X.head())\n",
    "\n",
    "test_X = pd.get_dummies(test_X)\n",
    "print(test_X.head())"
   ]
  },
  {
   "cell_type": "markdown",
   "id": "5db333d6",
   "metadata": {
    "papermill": {
     "duration": 0.028929,
     "end_time": "2023-11-20T03:50:16.158756",
     "exception": false,
     "start_time": "2023-11-20T03:50:16.129827",
     "status": "completed"
    },
    "tags": []
   },
   "source": [
    "# Making the model, training it using train_X and changing the model based on valid_X"
   ]
  },
  {
   "cell_type": "code",
   "execution_count": 24,
   "id": "3e3fb60b",
   "metadata": {
    "execution": {
     "iopub.execute_input": "2023-11-20T03:50:16.218684Z",
     "iopub.status.busy": "2023-11-20T03:50:16.217800Z",
     "iopub.status.idle": "2023-11-20T03:50:16.223561Z",
     "shell.execute_reply": "2023-11-20T03:50:16.222426Z"
    },
    "papermill": {
     "duration": 0.038357,
     "end_time": "2023-11-20T03:50:16.226039",
     "exception": false,
     "start_time": "2023-11-20T03:50:16.187682",
     "status": "completed"
    },
    "tags": []
   },
   "outputs": [],
   "source": [
    "from sklearn.neural_network import MLPClassifier\n",
    "from sklearn.metrics import accuracy_score\n",
    "\n",
    "# Commented out the code so that the model won't run everytime\n",
    "\n",
    "# model = MLPClassifier(hidden_layer_sizes = (20, 11), activation = \"relu\", solver = \"lbfgs\", max_iter = 1000, random_state = 42)\n",
    "\n",
    "# model.fit(train_X, train_Y)\n",
    "\n",
    "# y_pred = model.predict(valid_X)\n",
    "\n",
    "# print(f\"Accuracy: {accuracy_score(valid_Y, y_pred)}\")"
   ]
  },
  {
   "cell_type": "markdown",
   "id": "f0ab69e3",
   "metadata": {
    "papermill": {
     "duration": 0.028346,
     "end_time": "2023-11-20T03:50:16.284432",
     "exception": false,
     "start_time": "2023-11-20T03:50:16.256086",
     "status": "completed"
    },
    "tags": []
   },
   "source": [
    "**From the code above, you can see that I am using the validation set to test out the code**"
   ]
  },
  {
   "cell_type": "code",
   "execution_count": 25,
   "id": "d457be58",
   "metadata": {
    "execution": {
     "iopub.execute_input": "2023-11-20T03:50:16.343194Z",
     "iopub.status.busy": "2023-11-20T03:50:16.342737Z",
     "iopub.status.idle": "2023-11-20T03:50:16.348025Z",
     "shell.execute_reply": "2023-11-20T03:50:16.346820Z"
    },
    "papermill": {
     "duration": 0.037872,
     "end_time": "2023-11-20T03:50:16.350644",
     "exception": false,
     "start_time": "2023-11-20T03:50:16.312772",
     "status": "completed"
    },
    "tags": []
   },
   "outputs": [],
   "source": [
    "# Commented out the code so that the model won't run everytime\n",
    "\n",
    "# y_pred = model.predict(test_X)\n",
    "\n",
    "# print(f\"Accuracy: {accuracy_score(test_Y, y_pred)}\")"
   ]
  },
  {
   "cell_type": "markdown",
   "id": "db75cbfa",
   "metadata": {
    "papermill": {
     "duration": 0.028489,
     "end_time": "2023-11-20T03:50:16.408349",
     "exception": false,
     "start_time": "2023-11-20T03:50:16.379860",
     "status": "completed"
    },
    "tags": []
   },
   "source": [
    "# Using GridSearchCV to find the best parameters for my MLPClassifier Model"
   ]
  },
  {
   "cell_type": "markdown",
   "id": "f855baad",
   "metadata": {
    "papermill": {
     "duration": 0.029178,
     "end_time": "2023-11-20T03:50:16.466438",
     "exception": false,
     "start_time": "2023-11-20T03:50:16.437260",
     "status": "completed"
    },
    "tags": []
   },
   "source": [
    "**The \"parameter space\" are all the different components and possible values which I want to try for my model**"
   ]
  },
  {
   "cell_type": "code",
   "execution_count": 26,
   "id": "f56ca32b",
   "metadata": {
    "execution": {
     "iopub.execute_input": "2023-11-20T03:50:16.528789Z",
     "iopub.status.busy": "2023-11-20T03:50:16.527854Z",
     "iopub.status.idle": "2023-11-20T03:50:16.539352Z",
     "shell.execute_reply": "2023-11-20T03:50:16.538413Z"
    },
    "papermill": {
     "duration": 0.044953,
     "end_time": "2023-11-20T03:50:16.542112",
     "exception": false,
     "start_time": "2023-11-20T03:50:16.497159",
     "status": "completed"
    },
    "tags": []
   },
   "outputs": [],
   "source": [
    "# %%capture --no-stderr\n",
    "\n",
    "# # Code that causes warnings\n",
    "# import warnings\n",
    "# from sklearn.exceptions import ConvergenceWarning\n",
    "\n",
    "# # Suppress ConvergenceWarning\n",
    "# warnings.filterwarnings(\"ignore\", category=ConvergenceWarning)\n",
    "# warnings.filterwarnings('ignore')\n",
    "\n",
    "from sklearn.model_selection import GridSearchCV\n",
    "from sklearn.neural_network import MLPClassifier\n",
    "\n",
    "training_X = pd.concat([train_X, valid_X, test_X], ignore_index=True)\n",
    "training_Y = pd.concat([train_Y, valid_Y, test_Y], ignore_index=True)\n",
    "\n",
    "possible_hidden_layers = []\n",
    "\n",
    "for i in range(8,16):\n",
    "    for j in range(8,16):\n",
    "        possible_hidden_layers.append((i, j))\n",
    "\n",
    "parameter_space = {\n",
    "    'hidden_layer_sizes': possible_hidden_layers,\n",
    "    'activation': ['tanh', 'relu'],\n",
    "    'solver': ['sgd', 'adam', \"lbfgs\"],\n",
    "    'alpha': [0.0001, 0.05],\n",
    "    'learning_rate': ['constant','adaptive'],\n",
    "}\n",
    "\n",
    "# mlp = MLPClassifier(max_iter=1000, random_state = 42)\n",
    "\n",
    "# clf = GridSearchCV(mlp, parameter_space, n_jobs=-1, cv=3)\n",
    "\n",
    "# clf.fit(training_X, training_Y)\n",
    "\n",
    "# print('Best parameters found:\\n', clf.best_params_)\n",
    "\n",
    "# print('Best score (CV mean):', clf.best_score_)\n",
    "\n",
    "# print(\"Done\")\n",
    "\n"
   ]
  },
  {
   "cell_type": "markdown",
   "id": "92f00e47",
   "metadata": {
    "papermill": {
     "duration": 0.028114,
     "end_time": "2023-11-20T03:50:16.599224",
     "exception": false,
     "start_time": "2023-11-20T03:50:16.571110",
     "status": "completed"
    },
    "tags": []
   },
   "source": [
    "# Now that I found the best hyperparameters, I can finalize my model"
   ]
  },
  {
   "cell_type": "markdown",
   "id": "62d2809e",
   "metadata": {
    "papermill": {
     "duration": 0.027985,
     "end_time": "2023-11-20T03:50:16.656113",
     "exception": false,
     "start_time": "2023-11-20T03:50:16.628128",
     "status": "completed"
    },
    "tags": []
   },
   "source": [
    "**Test using validation set:**"
   ]
  },
  {
   "cell_type": "code",
   "execution_count": 27,
   "id": "c317bfc3",
   "metadata": {
    "execution": {
     "iopub.execute_input": "2023-11-20T03:50:16.715556Z",
     "iopub.status.busy": "2023-11-20T03:50:16.714775Z",
     "iopub.status.idle": "2023-11-20T03:50:16.720953Z",
     "shell.execute_reply": "2023-11-20T03:50:16.719859Z"
    },
    "papermill": {
     "duration": 0.039225,
     "end_time": "2023-11-20T03:50:16.723719",
     "exception": false,
     "start_time": "2023-11-20T03:50:16.684494",
     "status": "completed"
    },
    "tags": []
   },
   "outputs": [],
   "source": [
    "# Best parameters: {'activation': 'tanh', 'alpha': 0.05, 'hidden_layer_sizes': (13, 15), 'learning_rate': 'constant', 'solver': 'lbfgs'}\n",
    "# Best score (CV mean): 0.8282828282828283\n",
    "\n",
    "\n",
    "from sklearn.neural_network import MLPClassifier\n",
    "from sklearn.metrics import accuracy_score\n",
    "\n",
    "# Commented out the code so that the model won't run everytime\n",
    "\n",
    "# model = MLPClassifier(activation = \"tanh\", alpha = 0.05, hidden_layer_sizes = (13, 15), learning_rate = \"constant\", solver = \"lbfgs\", max_iter=5000, random_state = 42)\n",
    "\n",
    "# #model = MLPClassifier(activation = \"relu\", hidden_layer_sizes = (20, 11), solver = \"lbfgs\",  max_iter=2000, random_state = 42)\n",
    "\n",
    "# model.fit(train_X, train_Y)\n",
    "\n",
    "# y_pred = model.predict(valid_X)\n",
    "\n",
    "# print(f\"Accuracy: {accuracy_score(valid_Y, y_pred)}\")"
   ]
  },
  {
   "cell_type": "markdown",
   "id": "ee22fea9",
   "metadata": {
    "papermill": {
     "duration": 0.029632,
     "end_time": "2023-11-20T03:50:16.783709",
     "exception": false,
     "start_time": "2023-11-20T03:50:16.754077",
     "status": "completed"
    },
    "tags": []
   },
   "source": [
    "**Test using test set (from Train-validation-test split)**"
   ]
  },
  {
   "cell_type": "code",
   "execution_count": 28,
   "id": "8bc14f7a",
   "metadata": {
    "execution": {
     "iopub.execute_input": "2023-11-20T03:50:16.842509Z",
     "iopub.status.busy": "2023-11-20T03:50:16.841763Z",
     "iopub.status.idle": "2023-11-20T03:50:16.846536Z",
     "shell.execute_reply": "2023-11-20T03:50:16.845702Z"
    },
    "papermill": {
     "duration": 0.037102,
     "end_time": "2023-11-20T03:50:16.849008",
     "exception": false,
     "start_time": "2023-11-20T03:50:16.811906",
     "status": "completed"
    },
    "tags": []
   },
   "outputs": [],
   "source": [
    "# Commented out the code so that the model won't run everytime\n",
    "\n",
    "# y_pred = model.predict(test_X)\n",
    "\n",
    "# print(f\"Accuracy: {accuracy_score(test_Y, y_pred)}\")"
   ]
  },
  {
   "cell_type": "markdown",
   "id": "2c1d4728",
   "metadata": {
    "papermill": {
     "duration": 0.028267,
     "end_time": "2023-11-20T03:50:16.905766",
     "exception": false,
     "start_time": "2023-11-20T03:50:16.877499",
     "status": "completed"
    },
    "tags": []
   },
   "source": [
    "# Submitting Model 3"
   ]
  },
  {
   "cell_type": "code",
   "execution_count": 29,
   "id": "d6965801",
   "metadata": {
    "execution": {
     "iopub.execute_input": "2023-11-20T03:50:16.968628Z",
     "iopub.status.busy": "2023-11-20T03:50:16.968172Z",
     "iopub.status.idle": "2023-11-20T03:50:16.973337Z",
     "shell.execute_reply": "2023-11-20T03:50:16.971842Z"
    },
    "papermill": {
     "duration": 0.04085,
     "end_time": "2023-11-20T03:50:16.976022",
     "exception": false,
     "start_time": "2023-11-20T03:50:16.935172",
     "status": "completed"
    },
    "tags": []
   },
   "outputs": [],
   "source": [
    "# Commented out the code so that the model won't run everytime\n",
    "\n",
    "# full_X = pd.get_dummies(X_train)\n",
    "\n",
    "# full_Y = Y_train\n",
    "\n",
    "# #We end up using the WHOLE training dataset (all of train.csv) to fit (train) our model right before submission since this gives our model the most amount of data to train on\n",
    "# model.fit(full_X, full_Y)\n",
    "\n",
    "\n",
    "# predictions3 = model.predict(test_data)"
   ]
  },
  {
   "cell_type": "code",
   "execution_count": 30,
   "id": "e0a4b55a",
   "metadata": {
    "execution": {
     "iopub.execute_input": "2023-11-20T03:50:17.036307Z",
     "iopub.status.busy": "2023-11-20T03:50:17.035872Z",
     "iopub.status.idle": "2023-11-20T03:50:17.048334Z",
     "shell.execute_reply": "2023-11-20T03:50:17.047078Z"
    },
    "papermill": {
     "duration": 0.045368,
     "end_time": "2023-11-20T03:50:17.051163",
     "exception": false,
     "start_time": "2023-11-20T03:50:17.005795",
     "status": "completed"
    },
    "tags": []
   },
   "outputs": [],
   "source": [
    "original_test = pd.read_csv(\"/kaggle/input/titanic/test.csv\")\n",
    "\n",
    "pass_id = original_test['PassengerId']\n",
    "\n",
    "# original_test = original_test.drop('PassengerId', axis=1)\n",
    "# original_test = pd.get_dummies(original_test[features])\n",
    "\n",
    "test_data[\"PassengerId\"] = pass_id\n",
    "\n",
    "# Commented out the code so that the model won't run everytime\n",
    "\n",
    "# predictions3 = predictions3.astype(int)\n",
    "\n",
    "#print(predictions3)\n",
    "\n",
    "# output = pd.DataFrame({'PassengerId': test_data.PassengerId, 'Survived': predictions3})\n",
    "# output.to_csv('submission.csv', index=False)\n",
    "# print(\"Your submission was successfully saved!\")\n",
    "\n",
    "# test_data = test_data.drop(\"PassengerId\", axis = 1) # WE make sure to drop the PassengerId column since we are continuing to use the test_data variable in future tests and we don't want PassengerId to be apart of it until we submit the model again"
   ]
  },
  {
   "cell_type": "markdown",
   "id": "26ade37f",
   "metadata": {
    "papermill": {
     "duration": 0.028441,
     "end_time": "2023-11-20T03:50:17.108572",
     "exception": false,
     "start_time": "2023-11-20T03:50:17.080131",
     "status": "completed"
    },
    "tags": []
   },
   "source": [
    "# Changing the model solver from \"lbfgs\" to \"adam\""
   ]
  },
  {
   "cell_type": "code",
   "execution_count": 31,
   "id": "ed5e3137",
   "metadata": {
    "execution": {
     "iopub.execute_input": "2023-11-20T03:50:17.167389Z",
     "iopub.status.busy": "2023-11-20T03:50:17.166989Z",
     "iopub.status.idle": "2023-11-20T03:50:17.172663Z",
     "shell.execute_reply": "2023-11-20T03:50:17.171483Z"
    },
    "papermill": {
     "duration": 0.038306,
     "end_time": "2023-11-20T03:50:17.175231",
     "exception": false,
     "start_time": "2023-11-20T03:50:17.136925",
     "status": "completed"
    },
    "tags": []
   },
   "outputs": [],
   "source": [
    "model = MLPClassifier(activation = \"tanh\", alpha = 0.05, hidden_layer_sizes = (13, 15), learning_rate = \"constant\", solver = \"adam\", max_iter=5000, random_state = 42)\n",
    "# Try changing it back to lbfgs after normalization since maybe it converges faster now after normalization\n",
    "#Also, with normalization, you can increase the learning_rate with less risk of divergence which is good\n"
   ]
  },
  {
   "cell_type": "markdown",
   "id": "5b2d8937",
   "metadata": {
    "papermill": {
     "duration": 0.028213,
     "end_time": "2023-11-20T03:50:17.232190",
     "exception": false,
     "start_time": "2023-11-20T03:50:17.203977",
     "status": "completed"
    },
    "tags": []
   },
   "source": [
    "**I made this change because it said that lbfgs was not converging so I tried changing to a differnet solver and adam seemed to converge. But also, I am going to normalize my data which should make the training of my data converge faster. So, I might also go back to lbfgs to see if it converges now**"
   ]
  },
  {
   "cell_type": "markdown",
   "id": "e62bc367",
   "metadata": {
    "papermill": {
     "duration": 0.029638,
     "end_time": "2023-11-20T03:50:17.292291",
     "exception": false,
     "start_time": "2023-11-20T03:50:17.262653",
     "status": "completed"
    },
    "tags": []
   },
   "source": [
    "# Feature Engineering: Putting more weight onto specific features (like Gender and Age)"
   ]
  },
  {
   "cell_type": "markdown",
   "id": "838cd561",
   "metadata": {
    "papermill": {
     "duration": 0.028887,
     "end_time": "2023-11-20T03:50:17.350055",
     "exception": false,
     "start_time": "2023-11-20T03:50:17.321168",
     "status": "completed"
    },
    "tags": []
   },
   "source": [
    "**We know from history that Women and Children were more likely to survive so it makes more sense to put more weight into those features. In other words, we should penalize a person more if they are not a Women or Child and therefore make it less likely for them to survive**"
   ]
  },
  {
   "cell_type": "code",
   "execution_count": 32,
   "id": "671595e1",
   "metadata": {
    "execution": {
     "iopub.execute_input": "2023-11-20T03:50:17.409620Z",
     "iopub.status.busy": "2023-11-20T03:50:17.409204Z",
     "iopub.status.idle": "2023-11-20T03:50:17.457833Z",
     "shell.execute_reply": "2023-11-20T03:50:17.456626Z"
    },
    "papermill": {
     "duration": 0.08182,
     "end_time": "2023-11-20T03:50:17.460820",
     "exception": false,
     "start_time": "2023-11-20T03:50:17.379000",
     "status": "completed"
    },
    "tags": []
   },
   "outputs": [
    {
     "name": "stdout",
     "output_type": "stream",
     "text": [
      "     Pclass      Fare   Age  SibSp  Parch  Sex_female  Sex_male\n",
      "570     2.0   10.5000  62.0    0.0    0.0       False      True\n",
      "787     3.0   29.1250   8.0    4.0    1.0       False      True\n",
      "74      3.0   56.4958  32.0    0.0    0.0       False      True\n",
      "113     3.0    9.8250  20.0    1.0    0.0        True     False\n",
      "635     2.0   13.0000  28.0    0.0    0.0        True     False\n",
      "..      ...       ...   ...    ...    ...         ...       ...\n",
      "106     3.0    7.6500  21.0    0.0    0.0        True     False\n",
      "270     1.0   31.0000  51.8    0.0    0.0       False      True\n",
      "860     3.0   14.1083  41.0    2.0    0.0       False      True\n",
      "435     1.0  120.0000  14.0    1.0    2.0        True     False\n",
      "102     1.0   77.2875  21.0    0.0    1.0       False      True\n",
      "\n",
      "[534 rows x 7 columns]\n",
      "     Pclass      Fare   Age  SibSp  Parch  Sex_female  Sex_male  \\\n",
      "570     2.0   10.5000  62.0    0.0    0.0       False      True   \n",
      "787     3.0   29.1250   8.0    4.0    1.0       False      True   \n",
      "74      3.0   56.4958  32.0    0.0    0.0       False      True   \n",
      "113     3.0    9.8250  20.0    1.0    0.0        True     False   \n",
      "635     2.0   13.0000  28.0    0.0    0.0        True     False   \n",
      "..      ...       ...   ...    ...    ...         ...       ...   \n",
      "106     3.0    7.6500  21.0    0.0    0.0        True     False   \n",
      "270     1.0   31.0000  51.8    0.0    0.0       False      True   \n",
      "860     3.0   14.1083  41.0    2.0    0.0       False      True   \n",
      "435     1.0  120.0000  14.0    1.0    2.0        True     False   \n",
      "102     1.0   77.2875  21.0    0.0    1.0       False      True   \n",
      "\n",
      "     FemaleFirstClass  ChildFirstClass  IsChild  FamilySize  IsAlone  \n",
      "570                 0                0        0         1.0        1  \n",
      "787                 0                0        1         6.0        0  \n",
      "74                  0                0        0         1.0        1  \n",
      "113                 0                0        0         2.0        0  \n",
      "635                 0                0        0         1.0        1  \n",
      "..                ...              ...      ...         ...      ...  \n",
      "106                 0                0        0         1.0        1  \n",
      "270                 0                0        0         1.0        1  \n",
      "860                 0                0        0         3.0        0  \n",
      "435                 1                1        1         4.0        0  \n",
      "102                 0                0        0         2.0        0  \n",
      "\n",
      "[534 rows x 12 columns]\n"
     ]
    }
   ],
   "source": [
    "print(train_X)\n",
    "\n",
    "train_X['FemaleFirstClass'] = ((train_X['Sex_female'] == True) & (train_X['Pclass'] == 1)).astype(int)\n",
    "train_X['ChildFirstClass'] = ((train_X['Age'] < 18) & (train_X['Pclass'] == 1)).astype(int) \n",
    "\n",
    "\n",
    "valid_X['FemaleFirstClass'] = ((valid_X['Sex_female'] == True) & (valid_X['Pclass'] == 1)).astype(int)\n",
    "valid_X['ChildFirstClass'] = ((valid_X['Age'] < 18) & (valid_X['Pclass'] == 1)).astype(int) \n",
    "\n",
    "\n",
    "test_X['FemaleFirstClass'] = ((test_X['Sex_female'] == True) & (test_X['Pclass'] == 1)).astype(int)\n",
    "test_X['ChildFirstClass'] = ((test_X['Age'] < 18) & (test_X['Pclass'] == 1)).astype(int) \n",
    "\n",
    "\n",
    "test_data['FemaleFirstClass'] = ((test_data['Sex_female'] == True) & (test_data['Pclass'] == 1)).astype(int)\n",
    "test_data['ChildFirstClass'] = ((test_data['Age'] < 18) & (test_data['Pclass'] == 1)).astype(int) \n",
    "\n",
    "\n",
    "# Bin 'Age' into categories\n",
    "train_X['IsChild'] = (train_X['Age'] < 18).astype(int)\n",
    "valid_X['IsChild'] = (valid_X['Age'] < 18).astype(int)\n",
    "test_X['IsChild'] = (test_X['Age'] < 18).astype(int)\n",
    "test_data['IsChild'] = (test_data['Age'] < 18).astype(int)\n",
    "\n",
    "\n",
    "# Create FamilySize and IsAlone\n",
    "train_X['FamilySize'] = train_X['SibSp'] + train_X['Parch'] + 1\n",
    "valid_X['FamilySize'] = valid_X['SibSp'] + valid_X['Parch'] + 1\n",
    "test_X['FamilySize'] = test_X['SibSp'] + test_X['Parch'] + 1\n",
    "test_data['FamilySize'] = test_data['SibSp'] + test_data['Parch'] + 1\n",
    "\n",
    "\n",
    "train_X['IsAlone'] = (train_X['FamilySize'] == 1).astype(int)\n",
    "valid_X['IsAlone'] = (valid_X['FamilySize'] == 1).astype(int)\n",
    "test_X['IsAlone'] = (test_X['FamilySize'] == 1).astype(int)\n",
    "test_data['IsAlone'] = (test_data['FamilySize'] == 1).astype(int)\n",
    "\n",
    "\n",
    "print(train_X)"
   ]
  },
  {
   "cell_type": "markdown",
   "id": "80d21da4",
   "metadata": {
    "papermill": {
     "duration": 0.031001,
     "end_time": "2023-11-20T03:50:17.522275",
     "exception": false,
     "start_time": "2023-11-20T03:50:17.491274",
     "status": "completed"
    },
    "tags": []
   },
   "source": [
    "# Normalizing all the data"
   ]
  },
  {
   "cell_type": "markdown",
   "id": "66ed3eb7",
   "metadata": {
    "papermill": {
     "duration": 0.0281,
     "end_time": "2023-11-20T03:50:17.580737",
     "exception": false,
     "start_time": "2023-11-20T03:50:17.552637",
     "status": "completed"
    },
    "tags": []
   },
   "source": [
    "**Creating the Normalizing Scaler**"
   ]
  },
  {
   "cell_type": "code",
   "execution_count": 33,
   "id": "6250a6fa",
   "metadata": {
    "execution": {
     "iopub.execute_input": "2023-11-20T03:50:17.640007Z",
     "iopub.status.busy": "2023-11-20T03:50:17.639570Z",
     "iopub.status.idle": "2023-11-20T03:50:17.659308Z",
     "shell.execute_reply": "2023-11-20T03:50:17.658449Z"
    },
    "papermill": {
     "duration": 0.052655,
     "end_time": "2023-11-20T03:50:17.661992",
     "exception": false,
     "start_time": "2023-11-20T03:50:17.609337",
     "status": "completed"
    },
    "tags": []
   },
   "outputs": [
    {
     "name": "stdout",
     "output_type": "stream",
     "text": [
      "     Pclass      Fare   Age  SibSp  Parch  Sex_female  Sex_male  \\\n",
      "570     2.0   10.5000  62.0    0.0    0.0       False      True   \n",
      "787     3.0   29.1250   8.0    4.0    1.0       False      True   \n",
      "74      3.0   56.4958  32.0    0.0    0.0       False      True   \n",
      "113     3.0    9.8250  20.0    1.0    0.0        True     False   \n",
      "635     2.0   13.0000  28.0    0.0    0.0        True     False   \n",
      "..      ...       ...   ...    ...    ...         ...       ...   \n",
      "106     3.0    7.6500  21.0    0.0    0.0        True     False   \n",
      "270     1.0   31.0000  51.8    0.0    0.0       False      True   \n",
      "860     3.0   14.1083  41.0    2.0    0.0       False      True   \n",
      "435     1.0  120.0000  14.0    1.0    2.0        True     False   \n",
      "102     1.0   77.2875  21.0    0.0    1.0       False      True   \n",
      "\n",
      "     FemaleFirstClass  ChildFirstClass  IsChild  FamilySize  IsAlone  \n",
      "570                 0                0        0         1.0        1  \n",
      "787                 0                0        1         6.0        0  \n",
      "74                  0                0        0         1.0        1  \n",
      "113                 0                0        0         2.0        0  \n",
      "635                 0                0        0         1.0        1  \n",
      "..                ...              ...      ...         ...      ...  \n",
      "106                 0                0        0         1.0        1  \n",
      "270                 0                0        0         1.0        1  \n",
      "860                 0                0        0         3.0        0  \n",
      "435                 1                1        1         4.0        0  \n",
      "102                 0                0        0         2.0        0  \n",
      "\n",
      "[534 rows x 12 columns]\n"
     ]
    }
   ],
   "source": [
    "from sklearn.preprocessing import MinMaxScaler\n",
    "\n",
    "# Initialize the MinMaxScaler\n",
    "scaler = MinMaxScaler()\n",
    "\n",
    "# Select columns you want to normalize\n",
    "columns_to_normalize = [\"Pclass\", \"Fare\",\"Age\", \"SibSp\"]\n",
    "\n",
    "scaler.fit(train_X[columns_to_normalize]) #it is important to fit the scaler on the training data (from the train-validation-test split) only\n",
    "\n",
    "print(train_X)"
   ]
  },
  {
   "cell_type": "markdown",
   "id": "a097425d",
   "metadata": {
    "papermill": {
     "duration": 0.028323,
     "end_time": "2023-11-20T03:50:17.719857",
     "exception": false,
     "start_time": "2023-11-20T03:50:17.691534",
     "status": "completed"
    },
    "tags": []
   },
   "source": [
    "**It is very important to only fit the scaler on the training data from the train-validation-test split and not the training data from the whole train.csv since the whole training data includes data from the validation and test split and fitting on that will cause the testing (using validation and test) of the model to be overly optimistic. This is called data leakage.**\n",
    "\n",
    "**Also, it's important that we do not fit the scaler multiple times since that would cause inconsistant fitting throughout the data. It should only be fitted once and then applied to all the different datasets.**\n",
    "\n",
    "**However,before I submit Model 4, I should re-fit the normalization scaler on the entire training data since I will be running my model on the entire training data**"
   ]
  },
  {
   "cell_type": "markdown",
   "id": "412922ce",
   "metadata": {
    "papermill": {
     "duration": 0.028459,
     "end_time": "2023-11-20T03:50:17.777338",
     "exception": false,
     "start_time": "2023-11-20T03:50:17.748879",
     "status": "completed"
    },
    "tags": []
   },
   "source": [
    "**Normalizing the test data (the one from test.csv)**"
   ]
  },
  {
   "cell_type": "code",
   "execution_count": 34,
   "id": "206aa57e",
   "metadata": {
    "execution": {
     "iopub.execute_input": "2023-11-20T03:50:17.840163Z",
     "iopub.status.busy": "2023-11-20T03:50:17.839227Z",
     "iopub.status.idle": "2023-11-20T03:50:17.848235Z",
     "shell.execute_reply": "2023-11-20T03:50:17.847214Z"
    },
    "papermill": {
     "duration": 0.044837,
     "end_time": "2023-11-20T03:50:17.851478",
     "exception": false,
     "start_time": "2023-11-20T03:50:17.806641",
     "status": "completed"
    },
    "tags": []
   },
   "outputs": [],
   "source": [
    "test_data = test_data #the \"test_data\" variable here is after we cleaned up the test_data \n",
    "\n",
    "#print(test_data)\n",
    "\n",
    "# Fit the scaler on the data and then transform it\n",
    "test_data[columns_to_normalize] = scaler.transform(test_data[columns_to_normalize])\n",
    "\n",
    "#print(test_data)"
   ]
  },
  {
   "cell_type": "markdown",
   "id": "37e179c5",
   "metadata": {
    "papermill": {
     "duration": 0.028328,
     "end_time": "2023-11-20T03:50:17.909254",
     "exception": false,
     "start_time": "2023-11-20T03:50:17.880926",
     "status": "completed"
    },
    "tags": []
   },
   "source": [
    "**Normalizing the train, validation, and test data**"
   ]
  },
  {
   "cell_type": "code",
   "execution_count": 35,
   "id": "238285d7",
   "metadata": {
    "execution": {
     "iopub.execute_input": "2023-11-20T03:50:17.970222Z",
     "iopub.status.busy": "2023-11-20T03:50:17.969388Z",
     "iopub.status.idle": "2023-11-20T03:50:18.003329Z",
     "shell.execute_reply": "2023-11-20T03:50:18.002077Z"
    },
    "papermill": {
     "duration": 0.068192,
     "end_time": "2023-11-20T03:50:18.006214",
     "exception": false,
     "start_time": "2023-11-20T03:50:17.938022",
     "status": "completed"
    },
    "tags": []
   },
   "outputs": [
    {
     "name": "stdout",
     "output_type": "stream",
     "text": [
      "     Pclass      Fare       Age  SibSp  Parch  Sex_female  Sex_male  \\\n",
      "570     0.5  0.020495  0.773813  0.000    0.0       False      True   \n",
      "787     1.0  0.056848  0.095250  0.500    1.0       False      True   \n",
      "74      1.0  0.110272  0.396833  0.000    0.0       False      True   \n",
      "113     1.0  0.019177  0.246042  0.125    0.0        True     False   \n",
      "635     0.5  0.025374  0.346569  0.000    0.0        True     False   \n",
      "\n",
      "     FemaleFirstClass  ChildFirstClass  IsChild  FamilySize  IsAlone  \n",
      "570                 0                0        0         1.0        1  \n",
      "787                 0                0        1         6.0        0  \n",
      "74                  0                0        0         1.0        1  \n",
      "113                 0                0        0         2.0        0  \n",
      "635                 0                0        0         1.0        1  \n",
      "     Pclass      Fare       Age  SibSp  Parch  Sex_female  Sex_male  \\\n",
      "849     0.0  0.173920  0.416939  0.125    0.0        True     False   \n",
      "331     0.0  0.055628  0.566474  0.000    0.0       False      True   \n",
      "260     1.0  0.015127  0.562913  0.000    0.0       False      True   \n",
      "316     0.5  0.050749  0.296306  0.125    0.0        True     False   \n",
      "292     0.5  0.025130  0.447097  0.000    0.0       False      True   \n",
      "\n",
      "     FemaleFirstClass  ChildFirstClass  IsChild  FamilySize  IsAlone  \n",
      "849                 1                0        0         2.0        0  \n",
      "331                 0                0        0         1.0        1  \n",
      "260                 0                0        0         1.0        1  \n",
      "316                 0                0        0         2.0        0  \n",
      "292                 0                0        0         1.0        1  \n",
      "     Pclass      Fare       Age  SibSp  Parch  Sex_female  Sex_male  \\\n",
      "424     1.0  0.039452  0.220910  0.125    1.0       False      True   \n",
      "837     1.0  0.015713  0.394773  0.000    0.0       False      True   \n",
      "525     1.0  0.015127  0.503644  0.000    0.0       False      True   \n",
      "328     1.0  0.040062  0.384267  0.125    1.0        True     False   \n",
      "70      0.5  0.020495  0.396833  0.000    0.0       False      True   \n",
      "\n",
      "     FemaleFirstClass  ChildFirstClass  IsChild  FamilySize  IsAlone  \n",
      "424                 0                0        0         3.0        0  \n",
      "837                 0                0        0         1.0        1  \n",
      "525                 0                0        0         1.0        1  \n",
      "328                 0                0        0         3.0        0  \n",
      "70                  0                0        0         1.0        1  \n"
     ]
    }
   ],
   "source": [
    "train_X[columns_to_normalize] = scaler.transform(train_X[columns_to_normalize])\n",
    "print(train_X.head())\n",
    "\n",
    "valid_X[columns_to_normalize] = scaler.transform(valid_X[columns_to_normalize])\n",
    "print(valid_X.head())\n",
    "\n",
    "test_X[columns_to_normalize] = scaler.transform(test_X[columns_to_normalize])\n",
    "print(test_X.head())"
   ]
  },
  {
   "cell_type": "markdown",
   "id": "83a120c6",
   "metadata": {
    "papermill": {
     "duration": 0.029698,
     "end_time": "2023-11-20T03:50:18.064937",
     "exception": false,
     "start_time": "2023-11-20T03:50:18.035239",
     "status": "completed"
    },
    "tags": []
   },
   "source": [
    "# Testing out my model (4th) after Feature Enginering and Normalization"
   ]
  },
  {
   "cell_type": "code",
   "execution_count": 36,
   "id": "0dfa1768",
   "metadata": {
    "execution": {
     "iopub.execute_input": "2023-11-20T03:50:18.125412Z",
     "iopub.status.busy": "2023-11-20T03:50:18.124750Z",
     "iopub.status.idle": "2023-11-20T03:50:20.320325Z",
     "shell.execute_reply": "2023-11-20T03:50:20.319079Z"
    },
    "papermill": {
     "duration": 2.228714,
     "end_time": "2023-11-20T03:50:20.323024",
     "exception": false,
     "start_time": "2023-11-20T03:50:18.094310",
     "status": "completed"
    },
    "tags": []
   },
   "outputs": [
    {
     "name": "stdout",
     "output_type": "stream",
     "text": [
      "Validation Accuracy: 0.8202247191011236\n"
     ]
    }
   ],
   "source": [
    "model = MLPClassifier(activation = \"tanh\", alpha = 0, hidden_layer_sizes = (13, 15), learning_rate = \"constant\", solver = \"adam\", max_iter=5000, random_state = 42)\n",
    "\n",
    "model.fit(train_X, train_Y)\n",
    "\n",
    "y_pred = model.predict(valid_X)\n",
    "\n",
    "print(f\"Validation Accuracy: {accuracy_score(valid_Y, y_pred)}\")"
   ]
  },
  {
   "cell_type": "markdown",
   "id": "87e82a96",
   "metadata": {
    "papermill": {
     "duration": 0.029026,
     "end_time": "2023-11-20T03:50:20.381958",
     "exception": false,
     "start_time": "2023-11-20T03:50:20.352932",
     "status": "completed"
    },
    "tags": []
   },
   "source": [
    "# Using GridSearchCV to find new best amount of neurons per hidden layer and also to find best alpha and activation\n"
   ]
  },
  {
   "cell_type": "code",
   "execution_count": 37,
   "id": "6ece2d14",
   "metadata": {
    "execution": {
     "iopub.execute_input": "2023-11-20T03:50:20.443739Z",
     "iopub.status.busy": "2023-11-20T03:50:20.442979Z",
     "iopub.status.idle": "2023-11-20T03:50:20.453010Z",
     "shell.execute_reply": "2023-11-20T03:50:20.451819Z"
    },
    "papermill": {
     "duration": 0.04416,
     "end_time": "2023-11-20T03:50:20.455936",
     "exception": false,
     "start_time": "2023-11-20T03:50:20.411776",
     "status": "completed"
    },
    "tags": []
   },
   "outputs": [],
   "source": [
    "from sklearn.neural_network import MLPClassifier\n",
    "\n",
    "training_X = pd.concat([train_X, valid_X, test_X], ignore_index=True)\n",
    "training_Y = pd.concat([train_Y, valid_Y, test_Y], ignore_index=True)\n",
    "\n",
    "possible_hidden_layers = []\n",
    "\n",
    "for i in range(8,20):\n",
    "    for j in range(8,20):\n",
    "        possible_hidden_layers.append((i, j))\n",
    "\n",
    "parameter_space = {\n",
    "    'hidden_layer_sizes': possible_hidden_layers,\n",
    "    'activation': ['tanh', 'relu'],\n",
    "    'alpha': [0.0001, 0.05],\n",
    "    \"max_iter\": [4000, 5000, 6000, 7000]\n",
    "}\n",
    "\n",
    "# mlp = MLPClassifier(solver = \"adam\", random_state = 42)\n",
    "\n",
    "# clf = GridSearchCV(mlp, parameter_space, n_jobs=-1, cv=3)\n",
    "\n",
    "# clf.fit(training_X, training_Y)\n",
    "\n",
    "# print('Best parameters found:\\n', clf.best_params_)\n",
    "\n",
    "# print('Best score (CV mean):', clf.best_score_)\n",
    "\n",
    "# print(\"Done\")"
   ]
  },
  {
   "cell_type": "markdown",
   "id": "2ef3eb4a",
   "metadata": {
    "papermill": {
     "duration": 0.030936,
     "end_time": "2023-11-20T03:50:20.517325",
     "exception": false,
     "start_time": "2023-11-20T03:50:20.486389",
     "status": "completed"
    },
    "tags": []
   },
   "source": [
    "# Before I submit Model 4, I should re-fit the normalization scaler on the entire training data since I will be running my model on the entire training data\n"
   ]
  },
  {
   "cell_type": "code",
   "execution_count": 38,
   "id": "3c4c7fa4",
   "metadata": {
    "execution": {
     "iopub.execute_input": "2023-11-20T03:50:20.578495Z",
     "iopub.status.busy": "2023-11-20T03:50:20.577479Z",
     "iopub.status.idle": "2023-11-20T03:50:20.610973Z",
     "shell.execute_reply": "2023-11-20T03:50:20.609629Z"
    },
    "papermill": {
     "duration": 0.067585,
     "end_time": "2023-11-20T03:50:20.614248",
     "exception": false,
     "start_time": "2023-11-20T03:50:20.546663",
     "status": "completed"
    },
    "tags": []
   },
   "outputs": [
    {
     "name": "stdout",
     "output_type": "stream",
     "text": [
      "     Pclass      Fare       Age  SibSp  Parch  Sex_female  Sex_male  \\\n",
      "0       0.5  0.020495  0.773813  0.000    0.0       False      True   \n",
      "1       1.0  0.056848  0.095250  0.500    1.0       False      True   \n",
      "2       1.0  0.110272  0.396833  0.000    0.0       False      True   \n",
      "3       1.0  0.019177  0.246042  0.125    0.0        True     False   \n",
      "4       0.5  0.025374  0.346569  0.000    0.0        True     False   \n",
      "..      ...       ...       ...    ...    ...         ...       ...   \n",
      "886     1.0  0.015713  0.258608  0.000    0.0       False      True   \n",
      "887     0.0  0.060508  0.371701  0.000    0.0        True     False   \n",
      "888     1.0  0.015713  0.547625  0.000    0.0       False      True   \n",
      "889     0.0  0.512122  0.258608  0.250    2.0        True     False   \n",
      "890     0.0  0.444099  0.472229  0.000    0.0        True     False   \n",
      "\n",
      "     FemaleFirstClass  ChildFirstClass  IsChild  FamilySize  IsAlone  \n",
      "0                   0                0        0         1.0        1  \n",
      "1                   0                0        1         6.0        0  \n",
      "2                   0                0        0         1.0        1  \n",
      "3                   0                0        0         2.0        0  \n",
      "4                   0                0        0         1.0        1  \n",
      "..                ...              ...      ...         ...      ...  \n",
      "886                 0                0        0         1.0        1  \n",
      "887                 1                0        0         1.0        1  \n",
      "888                 0                0        0         1.0        1  \n",
      "889                 1                0        0         5.0        0  \n",
      "890                 1                0        0         1.0        1  \n",
      "\n",
      "[891 rows x 12 columns]\n",
      "     Pclass      Fare       Age  SibSp  Parch  Sex_female  Sex_male  \\\n",
      "0       0.5  0.020495  0.773813  0.000    0.0       False      True   \n",
      "1       1.0  0.056848  0.095250  0.500    1.0       False      True   \n",
      "2       1.0  0.110272  0.396833  0.000    0.0       False      True   \n",
      "3       1.0  0.019177  0.246042  0.125    0.0        True     False   \n",
      "4       0.5  0.025374  0.346569  0.000    0.0        True     False   \n",
      "..      ...       ...       ...    ...    ...         ...       ...   \n",
      "886     1.0  0.015713  0.258608  0.000    0.0       False      True   \n",
      "887     0.0  0.060508  0.371701  0.000    0.0        True     False   \n",
      "888     1.0  0.015713  0.547625  0.000    0.0       False      True   \n",
      "889     0.0  0.512122  0.258608  0.250    2.0        True     False   \n",
      "890     0.0  0.444099  0.472229  0.000    0.0        True     False   \n",
      "\n",
      "     FemaleFirstClass  ChildFirstClass  IsChild  FamilySize  IsAlone  \n",
      "0                   0                0        0         1.0        1  \n",
      "1                   0                0        1         6.0        0  \n",
      "2                   0                0        0         1.0        1  \n",
      "3                   0                0        0         2.0        0  \n",
      "4                   0                0        0         1.0        1  \n",
      "..                ...              ...      ...         ...      ...  \n",
      "886                 0                0        0         1.0        1  \n",
      "887                 1                0        0         1.0        1  \n",
      "888                 0                0        0         1.0        1  \n",
      "889                 1                0        0         5.0        0  \n",
      "890                 1                0        0         1.0        1  \n",
      "\n",
      "[891 rows x 12 columns]\n"
     ]
    }
   ],
   "source": [
    "from sklearn.preprocessing import MinMaxScaler\n",
    "\n",
    "training_X = pd.concat([train_X, valid_X, test_X], ignore_index=True) # training_X is the entire training data from train.csv but after all the cleaning, normalization, and feature engineering\n",
    "training_Y = pd.concat([train_Y, valid_Y, test_Y], ignore_index=True) \n",
    "\n",
    "\n",
    "# Initialize the MinMaxScaler\n",
    "scaler = MinMaxScaler()\n",
    "\n",
    "columns_to_normalize = [\"Pclass\", \"Fare\", \"Age\", \"SibSp\"]\n",
    "\n",
    "scaler.fit(training_X[columns_to_normalize])\n",
    "\n",
    "print(training_X)\n",
    "\n",
    "training_X[columns_to_normalize] = scaler.transform(training_X[columns_to_normalize])\n",
    "\n",
    "print(training_X)"
   ]
  },
  {
   "cell_type": "markdown",
   "id": "9a7664f6",
   "metadata": {
    "papermill": {
     "duration": 0.02954,
     "end_time": "2023-11-20T03:50:20.673495",
     "exception": false,
     "start_time": "2023-11-20T03:50:20.643955",
     "status": "completed"
    },
    "tags": []
   },
   "source": [
    "# Now that the test data is Normalized and has feature engineering (from previous code), I can use model.predict() on it"
   ]
  },
  {
   "cell_type": "code",
   "execution_count": 39,
   "id": "e3f3d8f0",
   "metadata": {
    "execution": {
     "iopub.execute_input": "2023-11-20T03:50:20.734189Z",
     "iopub.status.busy": "2023-11-20T03:50:20.733529Z",
     "iopub.status.idle": "2023-11-20T03:50:22.464162Z",
     "shell.execute_reply": "2023-11-20T03:50:22.462815Z"
    },
    "papermill": {
     "duration": 1.76457,
     "end_time": "2023-11-20T03:50:22.467181",
     "exception": false,
     "start_time": "2023-11-20T03:50:20.702611",
     "status": "completed"
    },
    "tags": []
   },
   "outputs": [],
   "source": [
    "# Best parameters found:\n",
    "#  {'activation': 'relu', 'alpha': 0.0001, 'hidden_layer_sizes': (11, 15), 'max_iter': 4000}\n",
    "# Best score (CV mean): 0.8282828282828284\n",
    "\n",
    "model = MLPClassifier(activation = \"relu\", alpha = 0.0001, hidden_layer_sizes = (11, 15), solver = \"adam\", max_iter=4000, random_state = 42)\n",
    "\n",
    "model.fit(training_X, training_Y) #Fitting the model on the entire training data set (including all the sub-sets from train-validation-test split)\n",
    "\n",
    "test_data = test_data.drop(\"PassengerId\", axis = 1)\n",
    "\n",
    "predictions4 = model.predict(test_data)\n"
   ]
  },
  {
   "cell_type": "markdown",
   "id": "ee956022",
   "metadata": {
    "papermill": {
     "duration": 0.030706,
     "end_time": "2023-11-20T03:50:22.527232",
     "exception": false,
     "start_time": "2023-11-20T03:50:22.496526",
     "status": "completed"
    },
    "tags": []
   },
   "source": [
    "# Submitting Model 4"
   ]
  },
  {
   "cell_type": "code",
   "execution_count": 40,
   "id": "29185b2b",
   "metadata": {
    "execution": {
     "iopub.execute_input": "2023-11-20T03:50:22.588164Z",
     "iopub.status.busy": "2023-11-20T03:50:22.587772Z",
     "iopub.status.idle": "2023-11-20T03:50:22.608292Z",
     "shell.execute_reply": "2023-11-20T03:50:22.606893Z"
    },
    "papermill": {
     "duration": 0.054244,
     "end_time": "2023-11-20T03:50:22.611108",
     "exception": false,
     "start_time": "2023-11-20T03:50:22.556864",
     "status": "completed"
    },
    "tags": []
   },
   "outputs": [
    {
     "name": "stdout",
     "output_type": "stream",
     "text": [
      "Your submission was successfully saved!\n"
     ]
    }
   ],
   "source": [
    "original_test = pd.read_csv(\"/kaggle/input/titanic/test.csv\")\n",
    "\n",
    "pass_id = original_test['PassengerId']\n",
    "\n",
    "test_data[\"PassengerId\"] = pass_id\n",
    "\n",
    "predictions4 = predictions4.astype(int)\n",
    "\n",
    "output = pd.DataFrame({'PassengerId': test_data.PassengerId, 'Survived': predictions4})\n",
    "output.to_csv('submission.csv', index=False)\n",
    "print(\"Your submission was successfully saved!\")\n",
    "\n",
    "test_data = test_data.drop(\"PassengerId\", axis = 1) # WE make sure to drop the PassengerId column since we are continuing to use the test_data variable in future tests and we don't want PassengerId to be apart of it until we submit the model again"
   ]
  },
  {
   "cell_type": "markdown",
   "id": "84197e1b",
   "metadata": {
    "papermill": {
     "duration": 0.029087,
     "end_time": "2023-11-20T03:50:22.670988",
     "exception": false,
     "start_time": "2023-11-20T03:50:22.641901",
     "status": "completed"
    },
    "tags": []
   },
   "source": [
    "# MAKE SURE THERE ISN'T ANY NEGATIVE VALUES FOR AGE BEFORE AND AFTER NORMALIZATION"
   ]
  },
  {
   "cell_type": "code",
   "execution_count": 41,
   "id": "39a8b9de",
   "metadata": {
    "execution": {
     "iopub.execute_input": "2023-11-20T03:50:22.731997Z",
     "iopub.status.busy": "2023-11-20T03:50:22.731112Z",
     "iopub.status.idle": "2023-11-20T03:50:22.739923Z",
     "shell.execute_reply": "2023-11-20T03:50:22.738491Z"
    },
    "papermill": {
     "duration": 0.042305,
     "end_time": "2023-11-20T03:50:22.742517",
     "exception": false,
     "start_time": "2023-11-20T03:50:22.700212",
     "status": "completed"
    },
    "tags": []
   },
   "outputs": [
    {
     "name": "stdout",
     "output_type": "stream",
     "text": [
      "Empty DataFrame\n",
      "Columns: [Pclass, Fare, Age, SibSp, Parch, Sex_female, Sex_male, FemaleFirstClass, ChildFirstClass, IsChild, FamilySize, IsAlone]\n",
      "Index: []\n"
     ]
    }
   ],
   "source": [
    "negatives = training_X[training_X[\"Age\"] < 0]\n",
    "print(negatives)\n",
    "\n",
    "# No values negative values for age"
   ]
  },
  {
   "cell_type": "code",
   "execution_count": null,
   "id": "b4847df3",
   "metadata": {
    "papermill": {
     "duration": 0.028872,
     "end_time": "2023-11-20T03:50:22.801439",
     "exception": false,
     "start_time": "2023-11-20T03:50:22.772567",
     "status": "completed"
    },
    "tags": []
   },
   "outputs": [],
   "source": []
  }
 ],
 "metadata": {
  "kaggle": {
   "accelerator": "none",
   "dataSources": [
    {
     "databundleVersionId": 26502,
     "sourceId": 3136,
     "sourceType": "competition"
    }
   ],
   "dockerImageVersionId": 30579,
   "isGpuEnabled": false,
   "isInternetEnabled": true,
   "language": "python",
   "sourceType": "notebook"
  },
  "kernelspec": {
   "display_name": "Python 3",
   "language": "python",
   "name": "python3"
  },
  "language_info": {
   "codemirror_mode": {
    "name": "ipython",
    "version": 3
   },
   "file_extension": ".py",
   "mimetype": "text/x-python",
   "name": "python",
   "nbconvert_exporter": "python",
   "pygments_lexer": "ipython3",
   "version": "3.10.12"
  },
  "papermill": {
   "default_parameters": {},
   "duration": 59.721879,
   "end_time": "2023-11-20T03:50:23.552863",
   "environment_variables": {},
   "exception": null,
   "input_path": "__notebook__.ipynb",
   "output_path": "__notebook__.ipynb",
   "parameters": {},
   "start_time": "2023-11-20T03:49:23.830984",
   "version": "2.4.0"
  }
 },
 "nbformat": 4,
 "nbformat_minor": 5
}
